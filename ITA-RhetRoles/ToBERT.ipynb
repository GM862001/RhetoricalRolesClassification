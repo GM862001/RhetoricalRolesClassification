{
 "cells": [
  {
   "cell_type": "markdown",
   "metadata": {},
   "source": [
    "# ToBERT"
   ]
  },
  {
   "cell_type": "code",
   "execution_count": 1,
   "metadata": {},
   "outputs": [],
   "source": [
    "import joblib\n",
    "import os\n",
    "import optuna\n",
    "import sys\n",
    "import torch\n",
    "import wandb\n",
    "\n",
    "sys.path.insert(0, os.path.abspath('../'))\n",
    "\n",
    "from rhetorical_roles_classification import (\n",
    "    AbsoluteSinusoidalEmbedder,\n",
    "    AutoTransformerOverBERTForTokenClassification,\n",
    "    RelativeSinusoidalEmbedder,\n",
    "    RhetoricalRolesDatasetForTransformerOverBERT\n",
    ")\n",
    "from rhetorical_roles_classification.train import train\n",
    "from rhetorical_roles_classification.test import test_ToBERT\n",
    "\n",
    "from config import (\n",
    "    DATA_FOLDER,\n",
    "    MODELS_FOLDER,\n",
    "    HUGGING_FACE_BERT_MODEL,\n",
    "    NUM_LABELS,\n",
    "    WANDB_PROJECT,\n",
    "    MAX_SEGMENT_LENGTH,\n",
    "    label2rhetRole\n",
    ")"
   ]
  },
  {
   "cell_type": "code",
   "execution_count": 2,
   "metadata": {},
   "outputs": [
    {
     "name": "stderr",
     "output_type": "stream",
     "text": [
      "Failed to detect the name of this notebook, you can set it manually with the WANDB_NOTEBOOK_NAME environment variable to enable code saving.\n",
      "\u001b[34m\u001b[1mwandb\u001b[0m: Currently logged in as: \u001b[33mgmarinowandb-8601\u001b[0m. Use \u001b[1m`wandb login --relogin`\u001b[0m to force relogin\n"
     ]
    }
   ],
   "source": [
    "MODEL_NAME = \"ToBERT\"\n",
    "\n",
    "MAX_DOCUMENT_LENGTH = 248\n",
    "\n",
    "DEVICE = \"cuda:0\"\n",
    "\n",
    "wandb_login_success = wandb.login()"
   ]
  },
  {
   "cell_type": "markdown",
   "metadata": {},
   "source": [
    "## Dataset Loading"
   ]
  },
  {
   "cell_type": "code",
   "execution_count": 3,
   "metadata": {},
   "outputs": [],
   "source": [
    "train_dataset = RhetoricalRolesDatasetForTransformerOverBERT(\n",
    "    data_filepath=os.path.join(DATA_FOLDER, \"train.json\"),\n",
    "    max_document_length=MAX_DOCUMENT_LENGTH,\n",
    "    max_segment_length=MAX_SEGMENT_LENGTH,\n",
    "    tokenizer_model_name=HUGGING_FACE_BERT_MODEL\n",
    ")\n",
    "valid_dataset = RhetoricalRolesDatasetForTransformerOverBERT(\n",
    "    data_filepath=os.path.join(DATA_FOLDER, \"valid.json\"),\n",
    "    max_document_length=MAX_DOCUMENT_LENGTH,\n",
    "    max_segment_length=MAX_SEGMENT_LENGTH,\n",
    "    tokenizer_model_name=HUGGING_FACE_BERT_MODEL\n",
    ")\n",
    "test_dataset = RhetoricalRolesDatasetForTransformerOverBERT(\n",
    "    data_filepath=os.path.join(DATA_FOLDER, \"test.json\"),\n",
    "    max_document_length=MAX_DOCUMENT_LENGTH,\n",
    "    max_segment_length=MAX_SEGMENT_LENGTH,\n",
    "    tokenizer_model_name=HUGGING_FACE_BERT_MODEL\n",
    ")"
   ]
  },
  {
   "cell_type": "markdown",
   "metadata": {},
   "source": [
    "## Embedders"
   ]
  },
  {
   "cell_type": "code",
   "execution_count": 4,
   "metadata": {},
   "outputs": [
    {
     "name": "stderr",
     "output_type": "stream",
     "text": [
      "100%|██████████| 248/248 [08:05<00:00,  1.96s/it]\n"
     ]
    },
    {
     "data": {
      "text/plain": [
       "['/nas/users/g.marino/GA/RhetoricalRolesClassification/ITA-RhetRoles/models/relative_embedder']"
      ]
     },
     "execution_count": 4,
     "metadata": {},
     "output_type": "execute_result"
    }
   ],
   "source": [
    "absolute_embedder = AbsoluteSinusoidalEmbedder(\n",
    "    max_document_length=MAX_DOCUMENT_LENGTH,\n",
    "    embedding_dimension=768\n",
    ")\n",
    "joblib.dump(absolute_embedder, os.path.join(MODELS_FOLDER, \"absolute_embedder\"))\n",
    "\n",
    "relative_embedder = RelativeSinusoidalEmbedder(\n",
    "    max_document_length=MAX_DOCUMENT_LENGTH,\n",
    "    embedding_dimension=768\n",
    ")\n",
    "joblib.dump(relative_embedder, os.path.join(MODELS_FOLDER, \"relative_embedder\"))"
   ]
  },
  {
   "cell_type": "code",
   "execution_count": 4,
   "metadata": {},
   "outputs": [],
   "source": [
    "absolute_embedder = joblib.load(os.path.join(MODELS_FOLDER, \"absolute_embedder\"))\n",
    "relative_embedder = joblib.load(os.path.join(MODELS_FOLDER, \"relative_embedder\"))"
   ]
  },
  {
   "cell_type": "markdown",
   "metadata": {},
   "source": [
    "## Hyperparameter Tuning"
   ]
  },
  {
   "cell_type": "code",
   "execution_count": 6,
   "metadata": {},
   "outputs": [],
   "source": [
    "hyperparameters = {\n",
    "    \"batch_size\": 1,\n",
    "    \"epochs\": 20,\n",
    "    \"num_warmup_steps\": 0,\n",
    "    \"accum_iter\": 3,\n",
    "    \"early_stopping\": True,\n",
    "    \"early_stopping_patience\": 2\n",
    "}\n",
    "\n",
    "def objective(trial):\n",
    "    \n",
    "    print(\"\\n************************ Starting New Optuna Trial ************************\\n\")\n",
    "    \n",
    "    hyperparameters[\"lr\"] = trial.suggest_float(\"lr\", 5e-6, 5e-4)\n",
    "    hyperparameters[\"weight_decay\"] = trial.suggest_float(\"weight_decay\", 1e-3, 1e-1)\n",
    "    \n",
    "    embedding_type = trial.suggest_categorical(\"embedding\", [\"abs\", \"rel\"])\n",
    "    embedder = absolute_embedder if embedding_type == \"abs\" else relative_embedder\n",
    "\n",
    "    transformer_dropout = trial.suggest_float(\"transformer_dropout\", 0.1, 0.7)\n",
    "    transformer_dim_feedforward = trial.suggest_int(\"transformer_dim_feedforward\", 50, 1000)\n",
    "    transformer = torch.nn.Transformer(\n",
    "        d_model=768,\n",
    "        nhead=12,\n",
    "        batch_first=True,\n",
    "        dim_feedforward=transformer_dim_feedforward,\n",
    "        activation=\"gelu\",\n",
    "        dropout=transformer_dropout,\n",
    "        layer_norm_eps=1e-12,\n",
    "        num_encoder_layers=2,\n",
    "        num_decoder_layers=0\n",
    "    ).encoder\n",
    "\n",
    "    model = AutoTransformerOverBERTForTokenClassification(\n",
    "        model_name=HUGGING_FACE_BERT_MODEL,\n",
    "        embedder=embedder,\n",
    "        transformer=transformer,\n",
    "        num_labels=NUM_LABELS,\n",
    "        max_document_length=MAX_DOCUMENT_LENGTH,\n",
    "        max_segment_length=MAX_SEGMENT_LENGTH,\n",
    "        device=DEVICE\n",
    "    )\n",
    "    model_id = f\"{MODEL_NAME}-Trial{trial.number}\"\n",
    "\n",
    "    with wandb.init(project=WANDB_PROJECT, config=hyperparameters, name=model_id):\n",
    "\n",
    "        wandb.config[\"embedding_type\"] = embedding_type\n",
    "        wandb.config[\"transformer_dropout\"] = transformer_dropout\n",
    "        wandb.config[\"transformer_dim_feedforward\"] = transformer_dim_feedforward        \n",
    "\n",
    "        valid_loss = train(\n",
    "            model=model,\n",
    "            destination_path=os.path.join(MODELS_FOLDER, model_id),\n",
    "            train_dataset=train_dataset,\n",
    "            valid_dataset=valid_dataset,\n",
    "            device=DEVICE,\n",
    "            optuna_trial=trial,\n",
    "            use_wandb=True,\n",
    "            **hyperparameters\n",
    "        )\n",
    "        \n",
    "    return valid_loss"
   ]
  },
  {
   "cell_type": "code",
   "execution_count": 5,
   "metadata": {},
   "outputs": [
    {
     "name": "stderr",
     "output_type": "stream",
     "text": [
      "\u001b[32m[I 2023-04-29 12:28:20,736]\u001b[0m Using an existing study with name 'ToBERT.optuna' instead of creating a new one.\u001b[0m\n"
     ]
    }
   ],
   "source": [
    "study_name = f\"{MODEL_NAME}.optuna\"\n",
    "storage_name = \"sqlite:///{}.db\".format(study_name)\n",
    "study = optuna.create_study(study_name=study_name, storage=storage_name, load_if_exists=True, direction=\"minimize\")"
   ]
  },
  {
   "cell_type": "code",
   "execution_count": 8,
   "metadata": {
    "collapsed": true,
    "jupyter": {
     "outputs_hidden": true
    }
   },
   "outputs": [
    {
     "name": "stdout",
     "output_type": "stream",
     "text": [
      "\n",
      "************************ Starting New Optuna Trial ************************\n",
      "\n"
     ]
    },
    {
     "name": "stderr",
     "output_type": "stream",
     "text": [
      "Some weights of the model checkpoint at dlicari/Italian-Legal-BERT were not used when initializing BertForTokenClassification: ['cls.predictions.transform.LayerNorm.bias', 'cls.predictions.transform.dense.weight', 'cls.predictions.decoder.weight', 'cls.predictions.transform.dense.bias', 'cls.predictions.decoder.bias', 'cls.predictions.bias', 'cls.predictions.transform.LayerNorm.weight']\n",
      "- This IS expected if you are initializing BertForTokenClassification from the checkpoint of a model trained on another task or with another architecture (e.g. initializing a BertForSequenceClassification model from a BertForPreTraining model).\n",
      "- This IS NOT expected if you are initializing BertForTokenClassification from the checkpoint of a model that you expect to be exactly identical (initializing a BertForSequenceClassification model from a BertForSequenceClassification model).\n",
      "Some weights of BertForTokenClassification were not initialized from the model checkpoint at dlicari/Italian-Legal-BERT and are newly initialized: ['classifier.bias', 'classifier.weight']\n",
      "You should probably TRAIN this model on a down-stream task to be able to use it for predictions and inference.\n"
     ]
    },
    {
     "data": {
      "text/html": [
       "wandb version 0.15.0 is available!  To upgrade, please run:\n",
       " $ pip install wandb --upgrade"
      ],
      "text/plain": [
       "<IPython.core.display.HTML object>"
      ]
     },
     "metadata": {},
     "output_type": "display_data"
    },
    {
     "data": {
      "text/html": [
       "Tracking run with wandb version 0.13.10"
      ],
      "text/plain": [
       "<IPython.core.display.HTML object>"
      ]
     },
     "metadata": {},
     "output_type": "display_data"
    },
    {
     "data": {
      "text/html": [
       "Run data is saved locally in <code>/home/g.marino/Desktop/GA/RhetoricalRolesClassification/ITA-RhetRoles/wandb/run-20230425_170315-u1pyft16</code>"
      ],
      "text/plain": [
       "<IPython.core.display.HTML object>"
      ]
     },
     "metadata": {},
     "output_type": "display_data"
    },
    {
     "data": {
      "text/html": [
       "Syncing run <strong><a href='https://wandb.ai/gmarinowandb-8601/RhetoricalRolesClassification-ITA-RhetRoles/runs/u1pyft16' target=\"_blank\">ToBERT-Trial0</a></strong> to <a href='https://wandb.ai/gmarinowandb-8601/RhetoricalRolesClassification-ITA-RhetRoles' target=\"_blank\">Weights & Biases</a> (<a href='https://wandb.me/run' target=\"_blank\">docs</a>)<br/>"
      ],
      "text/plain": [
       "<IPython.core.display.HTML object>"
      ]
     },
     "metadata": {},
     "output_type": "display_data"
    },
    {
     "data": {
      "text/html": [
       " View project at <a href='https://wandb.ai/gmarinowandb-8601/RhetoricalRolesClassification-ITA-RhetRoles' target=\"_blank\">https://wandb.ai/gmarinowandb-8601/RhetoricalRolesClassification-ITA-RhetRoles</a>"
      ],
      "text/plain": [
       "<IPython.core.display.HTML object>"
      ]
     },
     "metadata": {},
     "output_type": "display_data"
    },
    {
     "data": {
      "text/html": [
       " View run at <a href='https://wandb.ai/gmarinowandb-8601/RhetoricalRolesClassification-ITA-RhetRoles/runs/u1pyft16' target=\"_blank\">https://wandb.ai/gmarinowandb-8601/RhetoricalRolesClassification-ITA-RhetRoles/runs/u1pyft16</a>"
      ],
      "text/plain": [
       "<IPython.core.display.HTML object>"
      ]
     },
     "metadata": {},
     "output_type": "display_data"
    },
    {
     "name": "stdout",
     "output_type": "stream",
     "text": [
      "\n",
      "************** Training Started **************\n",
      "\n",
      "EPOCH N. 1\n"
     ]
    },
    {
     "name": "stderr",
     "output_type": "stream",
     "text": [
      "1045it [05:22,  3.24it/s]\n"
     ]
    },
    {
     "name": "stdout",
     "output_type": "stream",
     "text": [
      "\n",
      "TRAIN RESULTS\n",
      "Loss: 0.3934962834752918\n",
      "Accuracy: 0.8441745574310415\n",
      "MCC: 0.7552118255324357\n",
      "Macro F1: 0.8423899720402994\n",
      "Macro Precision: 0.8514664534728306\n",
      "Macro Recall: 0.834224906053006\n",
      "Micro F1: 0.8441745574310415\n",
      "Micro Precision: 0.8441745574310415\n",
      "Micro Recall: 0.8441745574310415\n",
      "\n",
      "VALIDATION RESULTS\n",
      "Loss: 0.2706819474697113\n",
      "Accuracy: 0.8953222453222454\n",
      "MCC: 0.837457054748137\n",
      "Macro F1: 0.8952450228599662\n",
      "Macro Precision: 0.9198564530995939\n",
      "Macro Recall: 0.8748561350057319\n",
      "Micro F1: 0.8953222453222454\n",
      "Micro Precision: 0.8953222453222454\n",
      "Micro Recall: 0.8953222453222454\n",
      "--------------------------------------------------\n",
      "EPOCH N. 2\n"
     ]
    },
    {
     "name": "stderr",
     "output_type": "stream",
     "text": [
      "1045it [05:36,  3.11it/s]\n"
     ]
    },
    {
     "name": "stdout",
     "output_type": "stream",
     "text": [
      "\n",
      "TRAIN RESULTS\n",
      "Loss: 0.5100854028381728\n",
      "Accuracy: 0.8113127095218491\n",
      "MCC: 0.705047596406427\n",
      "Macro F1: 0.7860353227738301\n",
      "Macro Precision: 0.7899662376310753\n",
      "Macro Recall: 0.7837709019317189\n",
      "Micro F1: 0.8113127095218491\n",
      "Micro Precision: 0.8113127095218491\n",
      "Micro Recall: 0.8113127095218491\n",
      "\n",
      "VALIDATION RESULTS\n",
      "Loss: 0.8411576747894287\n",
      "Accuracy: 0.6898128898128898\n",
      "MCC: 0.5415717985824037\n",
      "Macro F1: 0.6470959765938902\n",
      "Macro Precision: 0.6518991184652057\n",
      "Macro Recall: 0.681205552595946\n",
      "Micro F1: 0.6898128898128898\n",
      "Micro Precision: 0.6898128898128898\n",
      "Micro Recall: 0.6898128898128898\n",
      "--------------------------------------------------\n",
      "EPOCH N. 3\n"
     ]
    },
    {
     "name": "stderr",
     "output_type": "stream",
     "text": [
      "1045it [05:48,  3.00it/s]\n"
     ]
    },
    {
     "name": "stdout",
     "output_type": "stream",
     "text": [
      "\n",
      "TRAIN RESULTS\n",
      "Loss: 0.6882614212173024\n",
      "Accuracy: 0.7102423101805564\n",
      "MCC: 0.5472871942266165\n",
      "Macro F1: 0.6659252616373716\n",
      "Macro Precision: 0.6706222634671412\n",
      "Macro Recall: 0.665984196322141\n",
      "Micro F1: 0.7102423101805564\n",
      "Micro Precision: 0.7102423101805564\n",
      "Micro Recall: 0.7102423101805564\n",
      "\n",
      "VALIDATION RESULTS\n",
      "Loss: 0.7509555220603943\n",
      "Accuracy: 0.7175675675675676\n",
      "MCC: 0.5525633199027175\n",
      "Macro F1: 0.6690693379599894\n",
      "Macro Precision: 0.6928165691439919\n",
      "Macro Recall: 0.6576306505015665\n",
      "Micro F1: 0.7175675675675676\n",
      "Micro Precision: 0.7175675675675676\n",
      "Micro Recall: 0.7175675675675676\n",
      "Early stopped training\n",
      "--------------------------------------------------\n"
     ]
    },
    {
     "data": {
      "text/html": [
       "Waiting for W&B process to finish... <strong style=\"color:green\">(success).</strong>"
      ],
      "text/plain": [
       "<IPython.core.display.HTML object>"
      ]
     },
     "metadata": {},
     "output_type": "display_data"
    },
    {
     "data": {
      "application/vnd.jupyter.widget-view+json": {
       "model_id": "926478aef67d40bfa3f719b2e42a924d",
       "version_major": 2,
       "version_minor": 0
      },
      "text/plain": [
       "VBox(children=(Label(value='0.005 MB of 0.005 MB uploaded (0.000 MB deduped)\\r'), FloatProgress(value=1.0, max…"
      ]
     },
     "metadata": {},
     "output_type": "display_data"
    },
    {
     "data": {
      "text/html": [
       "<style>\n",
       "    table.wandb td:nth-child(1) { padding: 0 10px; text-align: left ; width: auto;} td:nth-child(2) {text-align: left ; width: 100%}\n",
       "    .wandb-row { display: flex; flex-direction: row; flex-wrap: wrap; justify-content: flex-start; width: 100% }\n",
       "    .wandb-col { display: flex; flex-direction: column; flex-basis: 100%; flex: 1; padding: 10px; }\n",
       "    </style>\n",
       "<div class=\"wandb-row\"><div class=\"wandb-col\"><h3>Run history:</h3><br/><table class=\"wandb\"><tr><td>Epoch</td><td>▁▅█</td></tr><tr><td>Train Loss</td><td>▁▄█</td></tr><tr><td>Validation Loss</td><td>▁█▇</td></tr></table><br/></div><div class=\"wandb-col\"><h3>Run summary:</h3><br/><table class=\"wandb\"><tr><td>Epoch</td><td>3</td></tr><tr><td>Train Loss</td><td>0.68826</td></tr><tr><td>Validation Loss</td><td>0.75096</td></tr></table><br/></div></div>"
      ],
      "text/plain": [
       "<IPython.core.display.HTML object>"
      ]
     },
     "metadata": {},
     "output_type": "display_data"
    },
    {
     "data": {
      "text/html": [
       " View run <strong style=\"color:#cdcd00\">ToBERT-Trial0</strong> at: <a href='https://wandb.ai/gmarinowandb-8601/RhetoricalRolesClassification-ITA-RhetRoles/runs/u1pyft16' target=\"_blank\">https://wandb.ai/gmarinowandb-8601/RhetoricalRolesClassification-ITA-RhetRoles/runs/u1pyft16</a><br/>Synced 5 W&B file(s), 0 media file(s), 0 artifact file(s) and 0 other file(s)"
      ],
      "text/plain": [
       "<IPython.core.display.HTML object>"
      ]
     },
     "metadata": {},
     "output_type": "display_data"
    },
    {
     "data": {
      "text/html": [
       "Find logs at: <code>./wandb/run-20230425_170315-u1pyft16/logs</code>"
      ],
      "text/plain": [
       "<IPython.core.display.HTML object>"
      ]
     },
     "metadata": {},
     "output_type": "display_data"
    },
    {
     "name": "stderr",
     "output_type": "stream",
     "text": [
      "\u001b[32m[I 2023-04-25 17:22:32,245]\u001b[0m Trial 0 finished with value: 0.2706819474697113 and parameters: {'lr': 0.0002167542354425858, 'weight_decay': 0.08708545844636656, 'embedding': 'rel', 'transformer_dropout': 0.43740735119680174, 'transformer_dim_feedforward': 418}. Best is trial 0 with value: 0.2706819474697113.\u001b[0m\n"
     ]
    },
    {
     "name": "stdout",
     "output_type": "stream",
     "text": [
      "\n",
      "************************ Starting New Optuna Trial ************************\n",
      "\n"
     ]
    },
    {
     "name": "stderr",
     "output_type": "stream",
     "text": [
      "Some weights of the model checkpoint at dlicari/Italian-Legal-BERT were not used when initializing BertForTokenClassification: ['cls.predictions.transform.LayerNorm.bias', 'cls.predictions.transform.dense.weight', 'cls.predictions.decoder.weight', 'cls.predictions.transform.dense.bias', 'cls.predictions.decoder.bias', 'cls.predictions.bias', 'cls.predictions.transform.LayerNorm.weight']\n",
      "- This IS expected if you are initializing BertForTokenClassification from the checkpoint of a model trained on another task or with another architecture (e.g. initializing a BertForSequenceClassification model from a BertForPreTraining model).\n",
      "- This IS NOT expected if you are initializing BertForTokenClassification from the checkpoint of a model that you expect to be exactly identical (initializing a BertForSequenceClassification model from a BertForSequenceClassification model).\n",
      "Some weights of BertForTokenClassification were not initialized from the model checkpoint at dlicari/Italian-Legal-BERT and are newly initialized: ['classifier.bias', 'classifier.weight']\n",
      "You should probably TRAIN this model on a down-stream task to be able to use it for predictions and inference.\n"
     ]
    },
    {
     "data": {
      "text/html": [
       "wandb version 0.15.0 is available!  To upgrade, please run:\n",
       " $ pip install wandb --upgrade"
      ],
      "text/plain": [
       "<IPython.core.display.HTML object>"
      ]
     },
     "metadata": {},
     "output_type": "display_data"
    },
    {
     "data": {
      "text/html": [
       "Tracking run with wandb version 0.13.10"
      ],
      "text/plain": [
       "<IPython.core.display.HTML object>"
      ]
     },
     "metadata": {},
     "output_type": "display_data"
    },
    {
     "data": {
      "text/html": [
       "Run data is saved locally in <code>/home/g.marino/Desktop/GA/RhetoricalRolesClassification/ITA-RhetRoles/wandb/run-20230425_172234-ucmxfsim</code>"
      ],
      "text/plain": [
       "<IPython.core.display.HTML object>"
      ]
     },
     "metadata": {},
     "output_type": "display_data"
    },
    {
     "data": {
      "text/html": [
       "Syncing run <strong><a href='https://wandb.ai/gmarinowandb-8601/RhetoricalRolesClassification-ITA-RhetRoles/runs/ucmxfsim' target=\"_blank\">ToBERT-Trial1</a></strong> to <a href='https://wandb.ai/gmarinowandb-8601/RhetoricalRolesClassification-ITA-RhetRoles' target=\"_blank\">Weights & Biases</a> (<a href='https://wandb.me/run' target=\"_blank\">docs</a>)<br/>"
      ],
      "text/plain": [
       "<IPython.core.display.HTML object>"
      ]
     },
     "metadata": {},
     "output_type": "display_data"
    },
    {
     "data": {
      "text/html": [
       " View project at <a href='https://wandb.ai/gmarinowandb-8601/RhetoricalRolesClassification-ITA-RhetRoles' target=\"_blank\">https://wandb.ai/gmarinowandb-8601/RhetoricalRolesClassification-ITA-RhetRoles</a>"
      ],
      "text/plain": [
       "<IPython.core.display.HTML object>"
      ]
     },
     "metadata": {},
     "output_type": "display_data"
    },
    {
     "data": {
      "text/html": [
       " View run at <a href='https://wandb.ai/gmarinowandb-8601/RhetoricalRolesClassification-ITA-RhetRoles/runs/ucmxfsim' target=\"_blank\">https://wandb.ai/gmarinowandb-8601/RhetoricalRolesClassification-ITA-RhetRoles/runs/ucmxfsim</a>"
      ],
      "text/plain": [
       "<IPython.core.display.HTML object>"
      ]
     },
     "metadata": {},
     "output_type": "display_data"
    },
    {
     "name": "stdout",
     "output_type": "stream",
     "text": [
      "\n",
      "************** Training Started **************\n",
      "\n",
      "EPOCH N. 1\n"
     ]
    },
    {
     "name": "stderr",
     "output_type": "stream",
     "text": [
      "1045it [05:27,  3.19it/s]\n"
     ]
    },
    {
     "name": "stdout",
     "output_type": "stream",
     "text": [
      "\n",
      "TRAIN RESULTS\n",
      "Loss: 0.6256787222146132\n",
      "Accuracy: 0.7678203846380051\n",
      "MCC: 0.6292476002472801\n",
      "Macro F1: 0.7373659737100706\n",
      "Macro Precision: 0.7687747481189001\n",
      "Macro Recall: 0.7124382039180492\n",
      "Micro F1: 0.7678203846380051\n",
      "Micro Precision: 0.7678203846380051\n",
      "Micro Recall: 0.7678203846380051\n",
      "\n",
      "VALIDATION RESULTS\n",
      "Loss: 0.3478129208087921\n",
      "Accuracy: 0.8650727650727651\n",
      "MCC: 0.7929107702919058\n",
      "Macro F1: 0.8714807901062132\n",
      "Macro Precision: 0.8698743421250587\n",
      "Macro Recall: 0.8743642520092643\n",
      "Micro F1: 0.8650727650727651\n",
      "Micro Precision: 0.8650727650727651\n",
      "Micro Recall: 0.8650727650727651\n",
      "--------------------------------------------------\n",
      "EPOCH N. 2\n"
     ]
    },
    {
     "name": "stderr",
     "output_type": "stream",
     "text": [
      "1045it [05:18,  3.28it/s]\n"
     ]
    },
    {
     "name": "stdout",
     "output_type": "stream",
     "text": [
      "\n",
      "TRAIN RESULTS\n",
      "Loss: 0.3063237201511575\n",
      "Accuracy: 0.8803740516379462\n",
      "MCC: 0.812762819807308\n",
      "Macro F1: 0.8855285391842583\n",
      "Macro Precision: 0.8910650581126303\n",
      "Macro Recall: 0.8807962145250918\n",
      "Micro F1: 0.8803740516379462\n",
      "Micro Precision: 0.8803740516379462\n",
      "Micro Recall: 0.8803740516379462\n",
      "\n",
      "VALIDATION RESULTS\n",
      "Loss: 0.29397183656692505\n",
      "Accuracy: 0.8945945945945946\n",
      "MCC: 0.8391852221376667\n",
      "Macro F1: 0.9050386007577371\n",
      "Macro Precision: 0.9094408720609936\n",
      "Macro Recall: 0.9013892096645689\n",
      "Micro F1: 0.8945945945945946\n",
      "Micro Precision: 0.8945945945945946\n",
      "Micro Recall: 0.8945945945945946\n",
      "--------------------------------------------------\n",
      "EPOCH N. 3\n"
     ]
    },
    {
     "name": "stderr",
     "output_type": "stream",
     "text": [
      "1045it [05:23,  3.23it/s]\n"
     ]
    },
    {
     "name": "stdout",
     "output_type": "stream",
     "text": [
      "\n",
      "TRAIN RESULTS\n",
      "Loss: 0.2346357648096016\n",
      "Accuracy: 0.9094277480444627\n",
      "MCC: 0.8583838247943427\n",
      "Macro F1: 0.9157579126371862\n",
      "Macro Precision: 0.921567587056926\n",
      "Macro Recall: 0.9104589606598257\n",
      "Micro F1: 0.9094277480444627\n",
      "Micro Precision: 0.9094277480444627\n",
      "Micro Recall: 0.9094277480444627\n",
      "\n",
      "VALIDATION RESULTS\n",
      "Loss: 0.2616320252418518\n",
      "Accuracy: 0.9123700623700624\n",
      "MCC: 0.8673787073614342\n",
      "Macro F1: 0.9214209867641368\n",
      "Macro Precision: 0.924220832887707\n",
      "Macro Recall: 0.9200005708015905\n",
      "Micro F1: 0.9123700623700622\n",
      "Micro Precision: 0.9123700623700624\n",
      "Micro Recall: 0.9123700623700624\n",
      "--------------------------------------------------\n",
      "EPOCH N. 4\n"
     ]
    },
    {
     "name": "stderr",
     "output_type": "stream",
     "text": [
      "1045it [05:14,  3.33it/s]\n"
     ]
    },
    {
     "name": "stdout",
     "output_type": "stream",
     "text": [
      "\n",
      "TRAIN RESULTS\n",
      "Loss: 0.18544224289125588\n",
      "Accuracy: 0.9281891430923954\n",
      "MCC: 0.8877778252226132\n",
      "Macro F1: 0.9327598881568857\n",
      "Macro Precision: 0.9391805385720247\n",
      "Macro Recall: 0.9267784440013325\n",
      "Micro F1: 0.9281891430923954\n",
      "Micro Precision: 0.9281891430923954\n",
      "Micro Recall: 0.9281891430923954\n",
      "\n",
      "VALIDATION RESULTS\n",
      "Loss: 0.2019277811050415\n",
      "Accuracy: 0.9252598752598753\n",
      "MCC: 0.8852315261215016\n",
      "Macro F1: 0.927800847734258\n",
      "Macro Precision: 0.9348106879634234\n",
      "Macro Recall: 0.9228409810218471\n",
      "Micro F1: 0.9252598752598753\n",
      "Micro Precision: 0.9252598752598753\n",
      "Micro Recall: 0.9252598752598753\n",
      "--------------------------------------------------\n",
      "EPOCH N. 5\n"
     ]
    },
    {
     "name": "stderr",
     "output_type": "stream",
     "text": [
      "1045it [05:15,  3.31it/s]\n"
     ]
    },
    {
     "name": "stdout",
     "output_type": "stream",
     "text": [
      "\n",
      "TRAIN RESULTS\n",
      "Loss: 0.15042635722745334\n",
      "Accuracy: 0.9450979238957831\n",
      "MCC: 0.9143398392131077\n",
      "Macro F1: 0.9480381107890363\n",
      "Macro Precision: 0.9526026180223199\n",
      "Macro Recall: 0.9436619109119914\n",
      "Micro F1: 0.9450979238957831\n",
      "Micro Precision: 0.9450979238957831\n",
      "Micro Recall: 0.9450979238957831\n",
      "\n",
      "VALIDATION RESULTS\n",
      "Loss: 0.15602782368659973\n",
      "Accuracy: 0.9435550935550936\n",
      "MCC: 0.9129444085828575\n",
      "Macro F1: 0.942295825078569\n",
      "Macro Precision: 0.9519682271152486\n",
      "Macro Recall: 0.9330895931646731\n",
      "Micro F1: 0.9435550935550936\n",
      "Micro Precision: 0.9435550935550936\n",
      "Micro Recall: 0.9435550935550936\n",
      "--------------------------------------------------\n",
      "EPOCH N. 6\n"
     ]
    },
    {
     "name": "stderr",
     "output_type": "stream",
     "text": [
      "1045it [05:16,  3.31it/s]\n"
     ]
    },
    {
     "name": "stdout",
     "output_type": "stream",
     "text": [
      "\n",
      "TRAIN RESULTS\n",
      "Loss: 0.13084815021305743\n",
      "Accuracy: 0.9536993471740282\n",
      "MCC: 0.9277814362376634\n",
      "Macro F1: 0.9552816101177012\n",
      "Macro Precision: 0.9600947501981161\n",
      "Macro Recall: 0.9506992042930358\n",
      "Micro F1: 0.9536993471740282\n",
      "Micro Precision: 0.9536993471740282\n",
      "Micro Recall: 0.9536993471740282\n",
      "\n",
      "VALIDATION RESULTS\n",
      "Loss: 0.17866964638233185\n",
      "Accuracy: 0.9430353430353431\n",
      "MCC: 0.9126841674866507\n",
      "Macro F1: 0.9399869892418078\n",
      "Macro Precision: 0.9421637919374166\n",
      "Macro Recall: 0.9390265658334833\n",
      "Micro F1: 0.9430353430353431\n",
      "Micro Precision: 0.9430353430353431\n",
      "Micro Recall: 0.9430353430353431\n",
      "--------------------------------------------------\n",
      "EPOCH N. 7\n"
     ]
    },
    {
     "name": "stderr",
     "output_type": "stream",
     "text": [
      "1045it [05:16,  3.30it/s]\n"
     ]
    },
    {
     "name": "stdout",
     "output_type": "stream",
     "text": [
      "\n",
      "TRAIN RESULTS\n",
      "Loss: 0.11189366715891136\n",
      "Accuracy: 0.9605951890842792\n",
      "MCC: 0.9385740682562057\n",
      "Macro F1: 0.9625813059789848\n",
      "Macro Precision: 0.9665906403023407\n",
      "Macro Recall: 0.9587177108332792\n",
      "Micro F1: 0.9605951890842792\n",
      "Micro Precision: 0.9605951890842792\n",
      "Micro Recall: 0.9605951890842792\n",
      "\n",
      "VALIDATION RESULTS\n",
      "Loss: 0.22509095072746277\n",
      "Accuracy: 0.9412681912681913\n",
      "MCC: 0.911990226201975\n",
      "Macro F1: 0.9432993444380674\n",
      "Macro Precision: 0.9445726183312713\n",
      "Macro Recall: 0.9438968607625705\n",
      "Micro F1: 0.9412681912681913\n",
      "Micro Precision: 0.9412681912681913\n",
      "Micro Recall: 0.9412681912681913\n",
      "Early stopped training\n",
      "--------------------------------------------------\n"
     ]
    },
    {
     "data": {
      "text/html": [
       "Waiting for W&B process to finish... <strong style=\"color:green\">(success).</strong>"
      ],
      "text/plain": [
       "<IPython.core.display.HTML object>"
      ]
     },
     "metadata": {},
     "output_type": "display_data"
    },
    {
     "data": {
      "text/html": [
       "<style>\n",
       "    table.wandb td:nth-child(1) { padding: 0 10px; text-align: left ; width: auto;} td:nth-child(2) {text-align: left ; width: 100%}\n",
       "    .wandb-row { display: flex; flex-direction: row; flex-wrap: wrap; justify-content: flex-start; width: 100% }\n",
       "    .wandb-col { display: flex; flex-direction: column; flex-basis: 100%; flex: 1; padding: 10px; }\n",
       "    </style>\n",
       "<div class=\"wandb-row\"><div class=\"wandb-col\"><h3>Run history:</h3><br/><table class=\"wandb\"><tr><td>Epoch</td><td>▁▂▃▅▆▇█</td></tr><tr><td>Train Loss</td><td>█▄▃▂▂▁▁</td></tr><tr><td>Validation Loss</td><td>█▆▅▃▁▂▄</td></tr></table><br/></div><div class=\"wandb-col\"><h3>Run summary:</h3><br/><table class=\"wandb\"><tr><td>Epoch</td><td>7</td></tr><tr><td>Train Loss</td><td>0.11189</td></tr><tr><td>Validation Loss</td><td>0.22509</td></tr></table><br/></div></div>"
      ],
      "text/plain": [
       "<IPython.core.display.HTML object>"
      ]
     },
     "metadata": {},
     "output_type": "display_data"
    },
    {
     "data": {
      "text/html": [
       " View run <strong style=\"color:#cdcd00\">ToBERT-Trial1</strong> at: <a href='https://wandb.ai/gmarinowandb-8601/RhetoricalRolesClassification-ITA-RhetRoles/runs/ucmxfsim' target=\"_blank\">https://wandb.ai/gmarinowandb-8601/RhetoricalRolesClassification-ITA-RhetRoles/runs/ucmxfsim</a><br/>Synced 5 W&B file(s), 0 media file(s), 0 artifact file(s) and 0 other file(s)"
      ],
      "text/plain": [
       "<IPython.core.display.HTML object>"
      ]
     },
     "metadata": {},
     "output_type": "display_data"
    },
    {
     "data": {
      "text/html": [
       "Find logs at: <code>./wandb/run-20230425_172234-ucmxfsim/logs</code>"
      ],
      "text/plain": [
       "<IPython.core.display.HTML object>"
      ]
     },
     "metadata": {},
     "output_type": "display_data"
    },
    {
     "name": "stderr",
     "output_type": "stream",
     "text": [
      "\u001b[32m[I 2023-04-25 18:05:09,966]\u001b[0m Trial 1 finished with value: 0.15602782368659973 and parameters: {'lr': 1.7781485465321695e-05, 'weight_decay': 0.0232900529195518, 'embedding': 'abs', 'transformer_dropout': 0.44428016061864706, 'transformer_dim_feedforward': 432}. Best is trial 1 with value: 0.15602782368659973.\u001b[0m\n"
     ]
    },
    {
     "name": "stdout",
     "output_type": "stream",
     "text": [
      "\n",
      "************************ Starting New Optuna Trial ************************\n",
      "\n"
     ]
    },
    {
     "name": "stderr",
     "output_type": "stream",
     "text": [
      "Some weights of the model checkpoint at dlicari/Italian-Legal-BERT were not used when initializing BertForTokenClassification: ['cls.predictions.transform.LayerNorm.bias', 'cls.predictions.transform.dense.weight', 'cls.predictions.decoder.weight', 'cls.predictions.transform.dense.bias', 'cls.predictions.decoder.bias', 'cls.predictions.bias', 'cls.predictions.transform.LayerNorm.weight']\n",
      "- This IS expected if you are initializing BertForTokenClassification from the checkpoint of a model trained on another task or with another architecture (e.g. initializing a BertForSequenceClassification model from a BertForPreTraining model).\n",
      "- This IS NOT expected if you are initializing BertForTokenClassification from the checkpoint of a model that you expect to be exactly identical (initializing a BertForSequenceClassification model from a BertForSequenceClassification model).\n",
      "Some weights of BertForTokenClassification were not initialized from the model checkpoint at dlicari/Italian-Legal-BERT and are newly initialized: ['classifier.bias', 'classifier.weight']\n",
      "You should probably TRAIN this model on a down-stream task to be able to use it for predictions and inference.\n"
     ]
    },
    {
     "data": {
      "application/vnd.jupyter.widget-view+json": {
       "model_id": "aac19a7acf72440dac3994ba7086883d",
       "version_major": 2,
       "version_minor": 0
      },
      "text/plain": [
       "VBox(children=(Label(value='Waiting for wandb.init()...\\r'), FloatProgress(value=0.016668342333287, max=1.0)))"
      ]
     },
     "metadata": {},
     "output_type": "display_data"
    },
    {
     "data": {
      "text/html": [
       "wandb version 0.15.0 is available!  To upgrade, please run:\n",
       " $ pip install wandb --upgrade"
      ],
      "text/plain": [
       "<IPython.core.display.HTML object>"
      ]
     },
     "metadata": {},
     "output_type": "display_data"
    },
    {
     "data": {
      "text/html": [
       "Tracking run with wandb version 0.13.10"
      ],
      "text/plain": [
       "<IPython.core.display.HTML object>"
      ]
     },
     "metadata": {},
     "output_type": "display_data"
    },
    {
     "data": {
      "text/html": [
       "Run data is saved locally in <code>/home/g.marino/Desktop/GA/RhetoricalRolesClassification/ITA-RhetRoles/wandb/run-20230425_180511-nsaymul9</code>"
      ],
      "text/plain": [
       "<IPython.core.display.HTML object>"
      ]
     },
     "metadata": {},
     "output_type": "display_data"
    },
    {
     "data": {
      "text/html": [
       "Syncing run <strong><a href='https://wandb.ai/gmarinowandb-8601/RhetoricalRolesClassification-ITA-RhetRoles/runs/nsaymul9' target=\"_blank\">ToBERT-Trial2</a></strong> to <a href='https://wandb.ai/gmarinowandb-8601/RhetoricalRolesClassification-ITA-RhetRoles' target=\"_blank\">Weights & Biases</a> (<a href='https://wandb.me/run' target=\"_blank\">docs</a>)<br/>"
      ],
      "text/plain": [
       "<IPython.core.display.HTML object>"
      ]
     },
     "metadata": {},
     "output_type": "display_data"
    },
    {
     "data": {
      "text/html": [
       " View project at <a href='https://wandb.ai/gmarinowandb-8601/RhetoricalRolesClassification-ITA-RhetRoles' target=\"_blank\">https://wandb.ai/gmarinowandb-8601/RhetoricalRolesClassification-ITA-RhetRoles</a>"
      ],
      "text/plain": [
       "<IPython.core.display.HTML object>"
      ]
     },
     "metadata": {},
     "output_type": "display_data"
    },
    {
     "data": {
      "text/html": [
       " View run at <a href='https://wandb.ai/gmarinowandb-8601/RhetoricalRolesClassification-ITA-RhetRoles/runs/nsaymul9' target=\"_blank\">https://wandb.ai/gmarinowandb-8601/RhetoricalRolesClassification-ITA-RhetRoles/runs/nsaymul9</a>"
      ],
      "text/plain": [
       "<IPython.core.display.HTML object>"
      ]
     },
     "metadata": {},
     "output_type": "display_data"
    },
    {
     "name": "stdout",
     "output_type": "stream",
     "text": [
      "\n",
      "************** Training Started **************\n",
      "\n",
      "EPOCH N. 1\n"
     ]
    },
    {
     "name": "stderr",
     "output_type": "stream",
     "text": [
      "1045it [05:27,  3.19it/s]\n"
     ]
    },
    {
     "name": "stdout",
     "output_type": "stream",
     "text": [
      "\n",
      "TRAIN RESULTS\n",
      "Loss: 0.6044960483266977\n",
      "Accuracy: 0.7765982473681116\n",
      "MCC: 0.6417828661063549\n",
      "Macro F1: 0.7433210880866585\n",
      "Macro Precision: 0.7886417190301576\n",
      "Macro Recall: 0.7086262439805826\n",
      "Micro F1: 0.7765982473681116\n",
      "Micro Precision: 0.7765982473681116\n",
      "Micro Recall: 0.7765982473681116\n",
      "\n",
      "VALIDATION RESULTS\n",
      "Loss: 0.3579462170600891\n",
      "Accuracy: 0.8643451143451143\n",
      "MCC: 0.7998827458639431\n",
      "Macro F1: 0.878719329824953\n",
      "Macro Precision: 0.8881032441259336\n",
      "Macro Recall: 0.8755550185876345\n",
      "Micro F1: 0.8643451143451143\n",
      "Micro Precision: 0.8643451143451143\n",
      "Micro Recall: 0.8643451143451143\n",
      "--------------------------------------------------\n",
      "EPOCH N. 2\n"
     ]
    },
    {
     "name": "stderr",
     "output_type": "stream",
     "text": [
      "1045it [05:30,  3.16it/s]\n"
     ]
    },
    {
     "name": "stdout",
     "output_type": "stream",
     "text": [
      "\n",
      "TRAIN RESULTS\n",
      "Loss: 0.2629410654208378\n",
      "Accuracy: 0.8946215373757572\n",
      "MCC: 0.8352821300909989\n",
      "Macro F1: 0.9011289366653571\n",
      "Macro Precision: 0.9064708794163037\n",
      "Macro Recall: 0.8962160602030516\n",
      "Micro F1: 0.8946215373757572\n",
      "Micro Precision: 0.8946215373757572\n",
      "Micro Recall: 0.8946215373757572\n",
      "\n",
      "VALIDATION RESULTS\n",
      "Loss: 0.22786416113376617\n",
      "Accuracy: 0.9144490644490645\n",
      "MCC: 0.8685175941870237\n",
      "Macro F1: 0.918000827201727\n",
      "Macro Precision: 0.9173249080924448\n",
      "Macro Recall: 0.9190953717685924\n",
      "Micro F1: 0.9144490644490645\n",
      "Micro Precision: 0.9144490644490645\n",
      "Micro Recall: 0.9144490644490645\n",
      "--------------------------------------------------\n",
      "EPOCH N. 3\n"
     ]
    },
    {
     "name": "stderr",
     "output_type": "stream",
     "text": [
      "1045it [05:27,  3.19it/s]\n"
     ]
    },
    {
     "name": "stdout",
     "output_type": "stream",
     "text": [
      "\n",
      "TRAIN RESULTS\n",
      "Loss: 0.18621564701368862\n",
      "Accuracy: 0.9281744398047403\n",
      "MCC: 0.8878083819715101\n",
      "Macro F1: 0.9321672814844556\n",
      "Macro Precision: 0.9378704646120427\n",
      "Macro Recall: 0.9267407755900944\n",
      "Micro F1: 0.9281744398047403\n",
      "Micro Precision: 0.9281744398047403\n",
      "Micro Recall: 0.9281744398047403\n",
      "\n",
      "VALIDATION RESULTS\n",
      "Loss: 0.1696852296590805\n",
      "Accuracy: 0.9341995841995842\n",
      "MCC: 0.8996916376466666\n",
      "Macro F1: 0.9374815557478178\n",
      "Macro Precision: 0.9366835629141868\n",
      "Macro Recall: 0.9385596432538904\n",
      "Micro F1: 0.9341995841995842\n",
      "Micro Precision: 0.9341995841995842\n",
      "Micro Recall: 0.9341995841995842\n",
      "--------------------------------------------------\n",
      "EPOCH N. 4\n"
     ]
    },
    {
     "name": "stderr",
     "output_type": "stream",
     "text": [
      "1045it [05:27,  3.19it/s]\n"
     ]
    },
    {
     "name": "stdout",
     "output_type": "stream",
     "text": [
      "\n",
      "TRAIN RESULTS\n",
      "Loss: 0.1474691298293422\n",
      "Accuracy: 0.9460242310180557\n",
      "MCC: 0.9157980538857166\n",
      "Macro F1: 0.9492104942157029\n",
      "Macro Precision: 0.9539129653071535\n",
      "Macro Recall: 0.9446905778653079\n",
      "Micro F1: 0.9460242310180557\n",
      "Micro Precision: 0.9460242310180557\n",
      "Micro Recall: 0.9460242310180557\n",
      "\n",
      "VALIDATION RESULTS\n",
      "Loss: 0.16721591353416443\n",
      "Accuracy: 0.9459459459459459\n",
      "MCC: 0.9173072257196678\n",
      "Macro F1: 0.946557632133391\n",
      "Macro Precision: 0.9568411817784307\n",
      "Macro Recall: 0.9386350600248672\n",
      "Micro F1: 0.9459459459459459\n",
      "Micro Precision: 0.9459459459459459\n",
      "Micro Recall: 0.9459459459459459\n",
      "--------------------------------------------------\n",
      "EPOCH N. 5\n"
     ]
    },
    {
     "name": "stderr",
     "output_type": "stream",
     "text": [
      "1045it [05:27,  3.19it/s]\n"
     ]
    },
    {
     "name": "stdout",
     "output_type": "stream",
     "text": [
      "\n",
      "TRAIN RESULTS\n",
      "Loss: 0.12004308412252573\n",
      "Accuracy: 0.9588013879903546\n",
      "MCC: 0.9357853357124846\n",
      "Macro F1: 0.960573275389341\n",
      "Macro Precision: 0.9645209723964514\n",
      "Macro Recall: 0.9567663817582799\n",
      "Micro F1: 0.9588013879903546\n",
      "Micro Precision: 0.9588013879903546\n",
      "Micro Recall: 0.9588013879903546\n",
      "\n",
      "VALIDATION RESULTS\n",
      "Loss: 0.15715359151363373\n",
      "Accuracy: 0.9522869022869023\n",
      "MCC: 0.9267339128054589\n",
      "Macro F1: 0.9474381393633763\n",
      "Macro Precision: 0.9563522213413691\n",
      "Macro Recall: 0.9393701356519527\n",
      "Micro F1: 0.9522869022869023\n",
      "Micro Precision: 0.9522869022869023\n",
      "Micro Recall: 0.9522869022869023\n",
      "--------------------------------------------------\n",
      "EPOCH N. 6\n"
     ]
    },
    {
     "name": "stderr",
     "output_type": "stream",
     "text": [
      "1045it [05:27,  3.19it/s]\n"
     ]
    },
    {
     "name": "stdout",
     "output_type": "stream",
     "text": [
      "\n",
      "TRAIN RESULTS\n",
      "Loss: 0.09567533468272822\n",
      "Accuracy: 0.968681997294595\n",
      "MCC: 0.951195003523259\n",
      "Macro F1: 0.969397454940388\n",
      "Macro Precision: 0.9735627804213125\n",
      "Macro Recall: 0.965337641596728\n",
      "Micro F1: 0.968681997294595\n",
      "Micro Precision: 0.968681997294595\n",
      "Micro Recall: 0.968681997294595\n",
      "\n",
      "VALIDATION RESULTS\n",
      "Loss: 0.1453796625137329\n",
      "Accuracy: 0.9607068607068607\n",
      "MCC: 0.9399056933101096\n",
      "Macro F1: 0.95625830739243\n",
      "Macro Precision: 0.9631680963259036\n",
      "Macro Recall: 0.9511852129062529\n",
      "Micro F1: 0.9607068607068607\n",
      "Micro Precision: 0.9607068607068607\n",
      "Micro Recall: 0.9607068607068607\n",
      "--------------------------------------------------\n",
      "EPOCH N. 7\n"
     ]
    },
    {
     "name": "stderr",
     "output_type": "stream",
     "text": [
      "1045it [05:26,  3.20it/s]\n"
     ]
    },
    {
     "name": "stdout",
     "output_type": "stream",
     "text": [
      "\n",
      "TRAIN RESULTS\n",
      "Loss: 0.08119050567729051\n",
      "Accuracy: 0.9751220372875375\n",
      "MCC: 0.9612641068112265\n",
      "Macro F1: 0.9751148226137138\n",
      "Macro Precision: 0.9779548002836199\n",
      "Macro Recall: 0.9723466606903963\n",
      "Micro F1: 0.9751220372875375\n",
      "Micro Precision: 0.9751220372875375\n",
      "Micro Recall: 0.9751220372875375\n",
      "\n",
      "VALIDATION RESULTS\n",
      "Loss: 0.1458839625120163\n",
      "Accuracy: 0.9662162162162162\n",
      "MCC: 0.9481506230408956\n",
      "Macro F1: 0.9610630565442456\n",
      "Macro Precision: 0.9640508571378786\n",
      "Macro Recall: 0.9584984103267622\n",
      "Micro F1: 0.9662162162162162\n",
      "Micro Precision: 0.9662162162162162\n",
      "Micro Recall: 0.9662162162162162\n",
      "--------------------------------------------------\n",
      "EPOCH N. 8\n"
     ]
    },
    {
     "name": "stderr",
     "output_type": "stream",
     "text": [
      "1045it [05:38,  3.08it/s]\n"
     ]
    },
    {
     "name": "stdout",
     "output_type": "stream",
     "text": [
      "\n",
      "TRAIN RESULTS\n",
      "Loss: 0.06819733463107434\n",
      "Accuracy: 0.9787978592013175\n",
      "MCC: 0.9669938151315703\n",
      "Macro F1: 0.9794007042630662\n",
      "Macro Precision: 0.9819214099711735\n",
      "Macro Recall: 0.9769281945375964\n",
      "Micro F1: 0.9787978592013175\n",
      "Micro Precision: 0.9787978592013175\n",
      "Micro Recall: 0.9787978592013175\n",
      "\n",
      "VALIDATION RESULTS\n",
      "Loss: 0.15613609552383423\n",
      "Accuracy: 0.9627858627858628\n",
      "MCC: 0.942674792150131\n",
      "Macro F1: 0.959547852266448\n",
      "Macro Precision: 0.9684674706721633\n",
      "Macro Recall: 0.9512415459024355\n",
      "Micro F1: 0.9627858627858628\n",
      "Micro Precision: 0.9627858627858628\n",
      "Micro Recall: 0.9627858627858628\n",
      "Early stopped training\n",
      "--------------------------------------------------\n"
     ]
    },
    {
     "data": {
      "text/html": [
       "Waiting for W&B process to finish... <strong style=\"color:green\">(success).</strong>"
      ],
      "text/plain": [
       "<IPython.core.display.HTML object>"
      ]
     },
     "metadata": {},
     "output_type": "display_data"
    },
    {
     "data": {
      "application/vnd.jupyter.widget-view+json": {
       "model_id": "d2482ce059e9498da4051432119a209d",
       "version_major": 2,
       "version_minor": 0
      },
      "text/plain": [
       "VBox(children=(Label(value='0.005 MB of 0.005 MB uploaded (0.000 MB deduped)\\r'), FloatProgress(value=1.0, max…"
      ]
     },
     "metadata": {},
     "output_type": "display_data"
    },
    {
     "data": {
      "text/html": [
       "<style>\n",
       "    table.wandb td:nth-child(1) { padding: 0 10px; text-align: left ; width: auto;} td:nth-child(2) {text-align: left ; width: 100%}\n",
       "    .wandb-row { display: flex; flex-direction: row; flex-wrap: wrap; justify-content: flex-start; width: 100% }\n",
       "    .wandb-col { display: flex; flex-direction: column; flex-basis: 100%; flex: 1; padding: 10px; }\n",
       "    </style>\n",
       "<div class=\"wandb-row\"><div class=\"wandb-col\"><h3>Run history:</h3><br/><table class=\"wandb\"><tr><td>Epoch</td><td>▁▂▃▄▅▆▇█</td></tr><tr><td>Train Loss</td><td>█▄▃▂▂▁▁▁</td></tr><tr><td>Validation Loss</td><td>█▄▂▂▁▁▁▁</td></tr></table><br/></div><div class=\"wandb-col\"><h3>Run summary:</h3><br/><table class=\"wandb\"><tr><td>Epoch</td><td>8</td></tr><tr><td>Train Loss</td><td>0.0682</td></tr><tr><td>Validation Loss</td><td>0.15614</td></tr></table><br/></div></div>"
      ],
      "text/plain": [
       "<IPython.core.display.HTML object>"
      ]
     },
     "metadata": {},
     "output_type": "display_data"
    },
    {
     "data": {
      "text/html": [
       " View run <strong style=\"color:#cdcd00\">ToBERT-Trial2</strong> at: <a href='https://wandb.ai/gmarinowandb-8601/RhetoricalRolesClassification-ITA-RhetRoles/runs/nsaymul9' target=\"_blank\">https://wandb.ai/gmarinowandb-8601/RhetoricalRolesClassification-ITA-RhetRoles/runs/nsaymul9</a><br/>Synced 5 W&B file(s), 0 media file(s), 0 artifact file(s) and 0 other file(s)"
      ],
      "text/plain": [
       "<IPython.core.display.HTML object>"
      ]
     },
     "metadata": {},
     "output_type": "display_data"
    },
    {
     "data": {
      "text/html": [
       "Find logs at: <code>./wandb/run-20230425_180511-nsaymul9/logs</code>"
      ],
      "text/plain": [
       "<IPython.core.display.HTML object>"
      ]
     },
     "metadata": {},
     "output_type": "display_data"
    },
    {
     "name": "stderr",
     "output_type": "stream",
     "text": [
      "\u001b[32m[I 2023-04-25 18:55:31,609]\u001b[0m Trial 2 finished with value: 0.1453796625137329 and parameters: {'lr': 2.9553669797591705e-05, 'weight_decay': 0.051411596673096825, 'embedding': 'rel', 'transformer_dropout': 0.6155853036988129, 'transformer_dim_feedforward': 323}. Best is trial 2 with value: 0.1453796625137329.\u001b[0m\n"
     ]
    },
    {
     "name": "stdout",
     "output_type": "stream",
     "text": [
      "\n",
      "************************ Starting New Optuna Trial ************************\n",
      "\n"
     ]
    },
    {
     "name": "stderr",
     "output_type": "stream",
     "text": [
      "Some weights of the model checkpoint at dlicari/Italian-Legal-BERT were not used when initializing BertForTokenClassification: ['cls.predictions.transform.LayerNorm.bias', 'cls.predictions.transform.dense.weight', 'cls.predictions.decoder.weight', 'cls.predictions.transform.dense.bias', 'cls.predictions.decoder.bias', 'cls.predictions.bias', 'cls.predictions.transform.LayerNorm.weight']\n",
      "- This IS expected if you are initializing BertForTokenClassification from the checkpoint of a model trained on another task or with another architecture (e.g. initializing a BertForSequenceClassification model from a BertForPreTraining model).\n",
      "- This IS NOT expected if you are initializing BertForTokenClassification from the checkpoint of a model that you expect to be exactly identical (initializing a BertForSequenceClassification model from a BertForSequenceClassification model).\n",
      "Some weights of BertForTokenClassification were not initialized from the model checkpoint at dlicari/Italian-Legal-BERT and are newly initialized: ['classifier.bias', 'classifier.weight']\n",
      "You should probably TRAIN this model on a down-stream task to be able to use it for predictions and inference.\n"
     ]
    },
    {
     "data": {
      "text/html": [
       "wandb version 0.15.0 is available!  To upgrade, please run:\n",
       " $ pip install wandb --upgrade"
      ],
      "text/plain": [
       "<IPython.core.display.HTML object>"
      ]
     },
     "metadata": {},
     "output_type": "display_data"
    },
    {
     "data": {
      "text/html": [
       "Tracking run with wandb version 0.13.10"
      ],
      "text/plain": [
       "<IPython.core.display.HTML object>"
      ]
     },
     "metadata": {},
     "output_type": "display_data"
    },
    {
     "data": {
      "text/html": [
       "Run data is saved locally in <code>/home/g.marino/Desktop/GA/RhetoricalRolesClassification/ITA-RhetRoles/wandb/run-20230425_185533-8xhlbf7v</code>"
      ],
      "text/plain": [
       "<IPython.core.display.HTML object>"
      ]
     },
     "metadata": {},
     "output_type": "display_data"
    },
    {
     "data": {
      "text/html": [
       "Syncing run <strong><a href='https://wandb.ai/gmarinowandb-8601/RhetoricalRolesClassification-ITA-RhetRoles/runs/8xhlbf7v' target=\"_blank\">ToBERT-Trial3</a></strong> to <a href='https://wandb.ai/gmarinowandb-8601/RhetoricalRolesClassification-ITA-RhetRoles' target=\"_blank\">Weights & Biases</a> (<a href='https://wandb.me/run' target=\"_blank\">docs</a>)<br/>"
      ],
      "text/plain": [
       "<IPython.core.display.HTML object>"
      ]
     },
     "metadata": {},
     "output_type": "display_data"
    },
    {
     "data": {
      "text/html": [
       " View project at <a href='https://wandb.ai/gmarinowandb-8601/RhetoricalRolesClassification-ITA-RhetRoles' target=\"_blank\">https://wandb.ai/gmarinowandb-8601/RhetoricalRolesClassification-ITA-RhetRoles</a>"
      ],
      "text/plain": [
       "<IPython.core.display.HTML object>"
      ]
     },
     "metadata": {},
     "output_type": "display_data"
    },
    {
     "data": {
      "text/html": [
       " View run at <a href='https://wandb.ai/gmarinowandb-8601/RhetoricalRolesClassification-ITA-RhetRoles/runs/8xhlbf7v' target=\"_blank\">https://wandb.ai/gmarinowandb-8601/RhetoricalRolesClassification-ITA-RhetRoles/runs/8xhlbf7v</a>"
      ],
      "text/plain": [
       "<IPython.core.display.HTML object>"
      ]
     },
     "metadata": {},
     "output_type": "display_data"
    },
    {
     "name": "stdout",
     "output_type": "stream",
     "text": [
      "\n",
      "************** Training Started **************\n",
      "\n",
      "EPOCH N. 1\n"
     ]
    },
    {
     "name": "stderr",
     "output_type": "stream",
     "text": [
      "1045it [05:27,  3.20it/s]\n"
     ]
    },
    {
     "name": "stdout",
     "output_type": "stream",
     "text": [
      "\n",
      "TRAIN RESULTS\n",
      "Loss: 0.3933167029827227\n",
      "Accuracy: 0.8498941363288831\n",
      "MCC: 0.763881169894683\n",
      "Macro F1: 0.84438071086494\n",
      "Macro Precision: 0.857298390990012\n",
      "Macro Recall: 0.8326463495326628\n",
      "Micro F1: 0.849894136328883\n",
      "Micro Precision: 0.8498941363288831\n",
      "Micro Recall: 0.8498941363288831\n",
      "\n",
      "VALIDATION RESULTS\n",
      "Loss: 0.14145301282405853\n",
      "Accuracy: 0.9384615384615385\n",
      "MCC: 0.9058024566518198\n",
      "Macro F1: 0.9340537489672167\n",
      "Macro Precision: 0.9303754086482167\n",
      "Macro Recall: 0.9379623178826076\n",
      "Micro F1: 0.9384615384615385\n",
      "Micro Precision: 0.9384615384615385\n",
      "Micro Recall: 0.9384615384615385\n",
      "--------------------------------------------------\n",
      "EPOCH N. 2\n"
     ]
    },
    {
     "name": "stderr",
     "output_type": "stream",
     "text": [
      "1045it [05:26,  3.20it/s]\n"
     ]
    },
    {
     "name": "stdout",
     "output_type": "stream",
     "text": [
      "\n",
      "TRAIN RESULTS\n",
      "Loss: 0.17972734064948812\n",
      "Accuracy: 0.9376139504793272\n",
      "MCC: 0.9026311288599869\n",
      "Macro F1: 0.9399426166423058\n",
      "Macro Precision: 0.9448269578135017\n",
      "Macro Recall: 0.9352505676569974\n",
      "Micro F1: 0.9376139504793272\n",
      "Micro Precision: 0.9376139504793272\n",
      "Micro Recall: 0.9376139504793272\n",
      "\n",
      "VALIDATION RESULTS\n",
      "Loss: 0.17834815382957458\n",
      "Accuracy: 0.9322245322245323\n",
      "MCC: 0.8988198808870749\n",
      "Macro F1: 0.9235210033163284\n",
      "Macro Precision: 0.9212998986570818\n",
      "Macro Recall: 0.9361969334952052\n",
      "Micro F1: 0.9322245322245323\n",
      "Micro Precision: 0.9322245322245323\n",
      "Micro Recall: 0.9322245322245323\n",
      "--------------------------------------------------\n",
      "EPOCH N. 3\n"
     ]
    },
    {
     "name": "stderr",
     "output_type": "stream",
     "text": [
      "1045it [05:28,  3.19it/s]\n"
     ]
    },
    {
     "name": "stdout",
     "output_type": "stream",
     "text": [
      "\n",
      "TRAIN RESULTS\n",
      "Loss: 0.13227479964078062\n",
      "Accuracy: 0.959330706345939\n",
      "MCC: 0.9366249832346382\n",
      "Macro F1: 0.9579413626347103\n",
      "Macro Precision: 0.9609858023649378\n",
      "Macro Recall: 0.954979288880156\n",
      "Micro F1: 0.959330706345939\n",
      "Micro Precision: 0.959330706345939\n",
      "Micro Recall: 0.959330706345939\n",
      "\n",
      "VALIDATION RESULTS\n",
      "Loss: 0.12380753457546234\n",
      "Accuracy: 0.9556133056133056\n",
      "MCC: 0.9331513341404291\n",
      "Macro F1: 0.9481484664648084\n",
      "Macro Precision: 0.936350654319974\n",
      "Macro Recall: 0.9623752869839508\n",
      "Micro F1: 0.9556133056133056\n",
      "Micro Precision: 0.9556133056133056\n",
      "Micro Recall: 0.9556133056133056\n",
      "--------------------------------------------------\n",
      "EPOCH N. 4\n"
     ]
    },
    {
     "name": "stderr",
     "output_type": "stream",
     "text": [
      "1045it [05:26,  3.20it/s]\n"
     ]
    },
    {
     "name": "stdout",
     "output_type": "stream",
     "text": [
      "\n",
      "TRAIN RESULTS\n",
      "Loss: 0.11103476044197197\n",
      "Accuracy: 0.9668440863377051\n",
      "MCC: 0.9483635602341054\n",
      "Macro F1: 0.9658238771960157\n",
      "Macro Precision: 0.9680896600766064\n",
      "Macro Recall: 0.9636126312524602\n",
      "Micro F1: 0.9668440863377051\n",
      "Micro Precision: 0.9668440863377051\n",
      "Micro Recall: 0.9668440863377051\n",
      "\n",
      "VALIDATION RESULTS\n",
      "Loss: 0.08926864713430405\n",
      "Accuracy: 0.9621621621621622\n",
      "MCC: 0.9420836008197104\n",
      "Macro F1: 0.9531947601941754\n",
      "Macro Precision: 0.9611827296748239\n",
      "Macro Recall: 0.9463247025746242\n",
      "Micro F1: 0.9621621621621622\n",
      "Micro Precision: 0.9621621621621622\n",
      "Micro Recall: 0.9621621621621622\n",
      "--------------------------------------------------\n",
      "EPOCH N. 5\n"
     ]
    },
    {
     "name": "stderr",
     "output_type": "stream",
     "text": [
      "1045it [05:39,  3.08it/s]\n"
     ]
    },
    {
     "name": "stdout",
     "output_type": "stream",
     "text": [
      "\n",
      "TRAIN RESULTS\n",
      "Loss: 0.09027059095389205\n",
      "Accuracy: 0.9717696877021702\n",
      "MCC: 0.9560215278210291\n",
      "Macro F1: 0.970697718701872\n",
      "Macro Precision: 0.9738700857716974\n",
      "Macro Recall: 0.9676195789518269\n",
      "Micro F1: 0.9717696877021702\n",
      "Micro Precision: 0.9717696877021702\n",
      "Micro Recall: 0.9717696877021702\n",
      "\n",
      "VALIDATION RESULTS\n",
      "Loss: 0.08361773192882538\n",
      "Accuracy: 0.9658004158004158\n",
      "MCC: 0.9478427648095655\n",
      "Macro F1: 0.9614726799375528\n",
      "Macro Precision: 0.9664044639875314\n",
      "Macro Recall: 0.9573026864643668\n",
      "Micro F1: 0.9658004158004158\n",
      "Micro Precision: 0.9658004158004158\n",
      "Micro Recall: 0.9658004158004158\n",
      "--------------------------------------------------\n",
      "EPOCH N. 6\n"
     ]
    },
    {
     "name": "stderr",
     "output_type": "stream",
     "text": [
      "1045it [05:26,  3.20it/s]\n"
     ]
    },
    {
     "name": "stdout",
     "output_type": "stream",
     "text": [
      "\n",
      "TRAIN RESULTS\n",
      "Loss: 0.0858700390560352\n",
      "Accuracy: 0.9740339940010586\n",
      "MCC: 0.9595642081118335\n",
      "Macro F1: 0.9743110783520172\n",
      "Macro Precision: 0.9768106314529706\n",
      "Macro Recall: 0.9718769181842652\n",
      "Micro F1: 0.9740339940010586\n",
      "Micro Precision: 0.9740339940010586\n",
      "Micro Recall: 0.9740339940010586\n",
      "\n",
      "VALIDATION RESULTS\n",
      "Loss: 0.09381452947854996\n",
      "Accuracy: 0.9701663201663202\n",
      "MCC: 0.9540868173443601\n",
      "Macro F1: 0.9647037541493673\n",
      "Macro Precision: 0.9711822664304257\n",
      "Macro Recall: 0.958555029646198\n",
      "Micro F1: 0.9701663201663202\n",
      "Micro Precision: 0.9701663201663202\n",
      "Micro Recall: 0.9701663201663202\n",
      "--------------------------------------------------\n",
      "EPOCH N. 7\n"
     ]
    },
    {
     "name": "stderr",
     "output_type": "stream",
     "text": [
      "1045it [05:21,  3.25it/s]\n"
     ]
    },
    {
     "name": "stdout",
     "output_type": "stream",
     "text": [
      "\n",
      "TRAIN RESULTS\n",
      "Loss: 0.5446732784891011\n",
      "Accuracy: 0.7920514026936423\n",
      "MCC: 0.6751763621409256\n",
      "Macro F1: 0.7476845442452582\n",
      "Macro Precision: 0.7582544269720417\n",
      "Macro Recall: 0.7422951217095534\n",
      "Micro F1: 0.7920514026936423\n",
      "Micro Precision: 0.7920514026936423\n",
      "Micro Recall: 0.7920514026936423\n",
      "\n",
      "VALIDATION RESULTS\n",
      "Loss: 0.6742200255393982\n",
      "Accuracy: 0.6948024948024948\n",
      "MCC: 0.5416657789624119\n",
      "Macro F1: 0.6601786508044611\n",
      "Macro Precision: 0.6677066315864645\n",
      "Macro Recall: 0.6749746369780393\n",
      "Micro F1: 0.6948024948024948\n",
      "Micro Precision: 0.6948024948024948\n",
      "Micro Recall: 0.6948024948024948\n",
      "Early stopped training\n",
      "--------------------------------------------------\n"
     ]
    },
    {
     "data": {
      "text/html": [
       "Waiting for W&B process to finish... <strong style=\"color:green\">(success).</strong>"
      ],
      "text/plain": [
       "<IPython.core.display.HTML object>"
      ]
     },
     "metadata": {},
     "output_type": "display_data"
    },
    {
     "data": {
      "text/html": [
       "<style>\n",
       "    table.wandb td:nth-child(1) { padding: 0 10px; text-align: left ; width: auto;} td:nth-child(2) {text-align: left ; width: 100%}\n",
       "    .wandb-row { display: flex; flex-direction: row; flex-wrap: wrap; justify-content: flex-start; width: 100% }\n",
       "    .wandb-col { display: flex; flex-direction: column; flex-basis: 100%; flex: 1; padding: 10px; }\n",
       "    </style>\n",
       "<div class=\"wandb-row\"><div class=\"wandb-col\"><h3>Run history:</h3><br/><table class=\"wandb\"><tr><td>Epoch</td><td>▁▂▃▅▆▇█</td></tr><tr><td>Train Loss</td><td>▆▂▂▁▁▁█</td></tr><tr><td>Validation Loss</td><td>▂▂▁▁▁▁█</td></tr></table><br/></div><div class=\"wandb-col\"><h3>Run summary:</h3><br/><table class=\"wandb\"><tr><td>Epoch</td><td>7</td></tr><tr><td>Train Loss</td><td>0.54467</td></tr><tr><td>Validation Loss</td><td>0.67422</td></tr></table><br/></div></div>"
      ],
      "text/plain": [
       "<IPython.core.display.HTML object>"
      ]
     },
     "metadata": {},
     "output_type": "display_data"
    },
    {
     "data": {
      "text/html": [
       " View run <strong style=\"color:#cdcd00\">ToBERT-Trial3</strong> at: <a href='https://wandb.ai/gmarinowandb-8601/RhetoricalRolesClassification-ITA-RhetRoles/runs/8xhlbf7v' target=\"_blank\">https://wandb.ai/gmarinowandb-8601/RhetoricalRolesClassification-ITA-RhetRoles/runs/8xhlbf7v</a><br/>Synced 5 W&B file(s), 0 media file(s), 0 artifact file(s) and 0 other file(s)"
      ],
      "text/plain": [
       "<IPython.core.display.HTML object>"
      ]
     },
     "metadata": {},
     "output_type": "display_data"
    },
    {
     "data": {
      "text/html": [
       "Find logs at: <code>./wandb/run-20230425_185533-8xhlbf7v/logs</code>"
      ],
      "text/plain": [
       "<IPython.core.display.HTML object>"
      ]
     },
     "metadata": {},
     "output_type": "display_data"
    },
    {
     "name": "stderr",
     "output_type": "stream",
     "text": [
      "\u001b[32m[I 2023-04-25 19:39:10,235]\u001b[0m Trial 3 finished with value: 0.08361773192882538 and parameters: {'lr': 0.00012899797521757808, 'weight_decay': 0.09043895991325218, 'embedding': 'rel', 'transformer_dropout': 0.14168812052329555, 'transformer_dim_feedforward': 544}. Best is trial 3 with value: 0.08361773192882538.\u001b[0m\n"
     ]
    },
    {
     "name": "stdout",
     "output_type": "stream",
     "text": [
      "\n",
      "************************ Starting New Optuna Trial ************************\n",
      "\n"
     ]
    },
    {
     "name": "stderr",
     "output_type": "stream",
     "text": [
      "Some weights of the model checkpoint at dlicari/Italian-Legal-BERT were not used when initializing BertForTokenClassification: ['cls.predictions.transform.LayerNorm.bias', 'cls.predictions.transform.dense.weight', 'cls.predictions.decoder.weight', 'cls.predictions.transform.dense.bias', 'cls.predictions.decoder.bias', 'cls.predictions.bias', 'cls.predictions.transform.LayerNorm.weight']\n",
      "- This IS expected if you are initializing BertForTokenClassification from the checkpoint of a model trained on another task or with another architecture (e.g. initializing a BertForSequenceClassification model from a BertForPreTraining model).\n",
      "- This IS NOT expected if you are initializing BertForTokenClassification from the checkpoint of a model that you expect to be exactly identical (initializing a BertForSequenceClassification model from a BertForSequenceClassification model).\n",
      "Some weights of BertForTokenClassification were not initialized from the model checkpoint at dlicari/Italian-Legal-BERT and are newly initialized: ['classifier.bias', 'classifier.weight']\n",
      "You should probably TRAIN this model on a down-stream task to be able to use it for predictions and inference.\n"
     ]
    },
    {
     "data": {
      "text/html": [
       "wandb version 0.15.0 is available!  To upgrade, please run:\n",
       " $ pip install wandb --upgrade"
      ],
      "text/plain": [
       "<IPython.core.display.HTML object>"
      ]
     },
     "metadata": {},
     "output_type": "display_data"
    },
    {
     "data": {
      "text/html": [
       "Tracking run with wandb version 0.13.10"
      ],
      "text/plain": [
       "<IPython.core.display.HTML object>"
      ]
     },
     "metadata": {},
     "output_type": "display_data"
    },
    {
     "data": {
      "text/html": [
       "Run data is saved locally in <code>/home/g.marino/Desktop/GA/RhetoricalRolesClassification/ITA-RhetRoles/wandb/run-20230425_193911-zwfvqu73</code>"
      ],
      "text/plain": [
       "<IPython.core.display.HTML object>"
      ]
     },
     "metadata": {},
     "output_type": "display_data"
    },
    {
     "data": {
      "text/html": [
       "Syncing run <strong><a href='https://wandb.ai/gmarinowandb-8601/RhetoricalRolesClassification-ITA-RhetRoles/runs/zwfvqu73' target=\"_blank\">ToBERT-Trial4</a></strong> to <a href='https://wandb.ai/gmarinowandb-8601/RhetoricalRolesClassification-ITA-RhetRoles' target=\"_blank\">Weights & Biases</a> (<a href='https://wandb.me/run' target=\"_blank\">docs</a>)<br/>"
      ],
      "text/plain": [
       "<IPython.core.display.HTML object>"
      ]
     },
     "metadata": {},
     "output_type": "display_data"
    },
    {
     "data": {
      "text/html": [
       " View project at <a href='https://wandb.ai/gmarinowandb-8601/RhetoricalRolesClassification-ITA-RhetRoles' target=\"_blank\">https://wandb.ai/gmarinowandb-8601/RhetoricalRolesClassification-ITA-RhetRoles</a>"
      ],
      "text/plain": [
       "<IPython.core.display.HTML object>"
      ]
     },
     "metadata": {},
     "output_type": "display_data"
    },
    {
     "data": {
      "text/html": [
       " View run at <a href='https://wandb.ai/gmarinowandb-8601/RhetoricalRolesClassification-ITA-RhetRoles/runs/zwfvqu73' target=\"_blank\">https://wandb.ai/gmarinowandb-8601/RhetoricalRolesClassification-ITA-RhetRoles/runs/zwfvqu73</a>"
      ],
      "text/plain": [
       "<IPython.core.display.HTML object>"
      ]
     },
     "metadata": {},
     "output_type": "display_data"
    },
    {
     "name": "stdout",
     "output_type": "stream",
     "text": [
      "\n",
      "************** Training Started **************\n",
      "\n",
      "EPOCH N. 1\n"
     ]
    },
    {
     "name": "stderr",
     "output_type": "stream",
     "text": [
      "1045it [05:21,  3.25it/s]\n"
     ]
    },
    {
     "name": "stdout",
     "output_type": "stream",
     "text": [
      "\n",
      "TRAIN RESULTS\n",
      "Loss: 0.7584275873404656\n",
      "Accuracy: 0.7068458507322237\n",
      "MCC: 0.5345776590219815\n",
      "Macro F1: 0.6670486149885128\n",
      "Macro Precision: 0.6810065408623325\n",
      "Macro Recall: 0.6555409869207353\n",
      "Micro F1: 0.7068458507322237\n",
      "Micro Precision: 0.7068458507322237\n",
      "Micro Recall: 0.7068458507322237\n",
      "\n",
      "VALIDATION RESULTS\n",
      "Loss: 0.9377223253250122\n",
      "Accuracy: 0.641060291060291\n",
      "MCC: 0.40014441568313514\n",
      "Macro F1: 0.4638674503020425\n",
      "Macro Precision: 0.6809425294791884\n",
      "Macro Recall: 0.46484128225049465\n",
      "Micro F1: 0.641060291060291\n",
      "Micro Precision: 0.641060291060291\n",
      "Micro Recall: 0.641060291060291\n",
      "--------------------------------------------------\n",
      "EPOCH N. 2\n"
     ]
    },
    {
     "name": "stderr",
     "output_type": "stream",
     "text": [
      "1045it [05:20,  3.26it/s]\n"
     ]
    },
    {
     "name": "stdout",
     "output_type": "stream",
     "text": [
      "\n",
      "TRAIN RESULTS\n",
      "Loss: 0.8314268800915714\n",
      "Accuracy: 0.6548844321590308\n",
      "MCC: 0.4374313844279299\n",
      "Macro F1: 0.5704695358607021\n",
      "Macro Precision: 0.6140261531264272\n",
      "Macro Recall: 0.5469199223636594\n",
      "Micro F1: 0.6548844321590308\n",
      "Micro Precision: 0.6548844321590308\n",
      "Micro Recall: 0.6548844321590308\n",
      "\n",
      "VALIDATION RESULTS\n",
      "Loss: 0.8141286969184875\n",
      "Accuracy: 0.6624740124740125\n",
      "MCC: 0.4515692592279551\n",
      "Macro F1: 0.5295781700777741\n",
      "Macro Precision: 0.627291384564805\n",
      "Macro Recall: 0.5486797781689632\n",
      "Micro F1: 0.6624740124740125\n",
      "Micro Precision: 0.6624740124740125\n",
      "Micro Recall: 0.6624740124740125\n",
      "--------------------------------------------------\n",
      "EPOCH N. 3\n"
     ]
    },
    {
     "name": "stderr",
     "output_type": "stream",
     "text": [
      "1045it [05:10,  3.37it/s]\n"
     ]
    },
    {
     "name": "stdout",
     "output_type": "stream",
     "text": [
      "\n",
      "TRAIN RESULTS\n",
      "Loss: 0.7658395189132416\n",
      "Accuracy: 0.6809386578839028\n",
      "MCC: 0.48466884334783683\n",
      "Macro F1: 0.6134789889356165\n",
      "Macro Precision: 0.650320065323036\n",
      "Macro Recall: 0.5906315222090933\n",
      "Micro F1: 0.6809386578839028\n",
      "Micro Precision: 0.6809386578839028\n",
      "Micro Recall: 0.6809386578839028\n",
      "\n",
      "VALIDATION RESULTS\n",
      "Loss: 0.747561514377594\n",
      "Accuracy: 0.6611226611226612\n",
      "MCC: 0.48338679070394686\n",
      "Macro F1: 0.6253067001343506\n",
      "Macro Precision: 0.6409794079892377\n",
      "Macro Recall: 0.6537053174181542\n",
      "Micro F1: 0.6611226611226612\n",
      "Micro Precision: 0.6611226611226612\n",
      "Micro Recall: 0.6611226611226612\n",
      "--------------------------------------------------\n",
      "EPOCH N. 4\n"
     ]
    },
    {
     "name": "stderr",
     "output_type": "stream",
     "text": [
      "1045it [05:13,  3.33it/s]\n"
     ]
    },
    {
     "name": "stdout",
     "output_type": "stream",
     "text": [
      "\n",
      "TRAIN RESULTS\n",
      "Loss: 0.7272006086755597\n",
      "Accuracy: 0.6933335293771687\n",
      "MCC: 0.5063827070690754\n",
      "Macro F1: 0.6324493142231307\n",
      "Macro Precision: 0.6663227540621518\n",
      "Macro Recall: 0.6093580587888872\n",
      "Micro F1: 0.6933335293771687\n",
      "Micro Precision: 0.6933335293771687\n",
      "Micro Recall: 0.6933335293771687\n",
      "\n",
      "VALIDATION RESULTS\n",
      "Loss: 0.6872235536575317\n",
      "Accuracy: 0.7040540540540541\n",
      "MCC: 0.5312106181575746\n",
      "Macro F1: 0.6444140375646967\n",
      "Macro Precision: 0.7130855532102356\n",
      "Macro Recall: 0.6211339699217999\n",
      "Micro F1: 0.7040540540540541\n",
      "Micro Precision: 0.7040540540540541\n",
      "Micro Recall: 0.7040540540540541\n",
      "--------------------------------------------------\n",
      "EPOCH N. 5\n"
     ]
    },
    {
     "name": "stderr",
     "output_type": "stream",
     "text": [
      "1045it [05:02,  3.46it/s]\n"
     ]
    },
    {
     "name": "stdout",
     "output_type": "stream",
     "text": [
      "\n",
      "TRAIN RESULTS\n",
      "Loss: 0.7204619875935276\n",
      "Accuracy: 0.6944803858142681\n",
      "MCC: 0.5098159410921186\n",
      "Macro F1: 0.6374887763430248\n",
      "Macro Precision: 0.6691728178237563\n",
      "Macro Recall: 0.6155844795527449\n",
      "Micro F1: 0.6944803858142681\n",
      "Micro Precision: 0.6944803858142681\n",
      "Micro Recall: 0.6944803858142681\n",
      "\n",
      "VALIDATION RESULTS\n",
      "Loss: 0.7045788764953613\n",
      "Accuracy: 0.7044698544698544\n",
      "MCC: 0.5291117379108382\n",
      "Macro F1: 0.6569046482248416\n",
      "Macro Precision: 0.6903037562275903\n",
      "Macro Recall: 0.6388069523283909\n",
      "Micro F1: 0.7044698544698544\n",
      "Micro Precision: 0.7044698544698544\n",
      "Micro Recall: 0.7044698544698544\n",
      "--------------------------------------------------\n",
      "EPOCH N. 6\n"
     ]
    },
    {
     "name": "stderr",
     "output_type": "stream",
     "text": [
      "1045it [05:02,  3.46it/s]\n"
     ]
    },
    {
     "name": "stdout",
     "output_type": "stream",
     "text": [
      "\n",
      "TRAIN RESULTS\n",
      "Loss: 0.7087526303158993\n",
      "Accuracy: 0.6974063400576369\n",
      "MCC: 0.5156335540573113\n",
      "Macro F1: 0.6456453130165769\n",
      "Macro Precision: 0.6743417659978046\n",
      "Macro Recall: 0.6248479871746031\n",
      "Micro F1: 0.6974063400576369\n",
      "Micro Precision: 0.6974063400576369\n",
      "Micro Recall: 0.6974063400576369\n",
      "\n",
      "VALIDATION RESULTS\n",
      "Loss: 0.6588888168334961\n",
      "Accuracy: 0.7069646569646569\n",
      "MCC: 0.5467874038249991\n",
      "Macro F1: 0.6803332494159344\n",
      "Macro Precision: 0.6925636083227432\n",
      "Macro Recall: 0.6717089175742611\n",
      "Micro F1: 0.7069646569646569\n",
      "Micro Precision: 0.7069646569646569\n",
      "Micro Recall: 0.7069646569646569\n",
      "--------------------------------------------------\n",
      "EPOCH N. 7\n"
     ]
    },
    {
     "name": "stderr",
     "output_type": "stream",
     "text": [
      "1045it [05:00,  3.47it/s]\n"
     ]
    },
    {
     "name": "stdout",
     "output_type": "stream",
     "text": [
      "\n",
      "TRAIN RESULTS\n",
      "Loss: 0.7043377946010617\n",
      "Accuracy: 0.698273834029289\n",
      "MCC: 0.5183041267451497\n",
      "Macro F1: 0.6479930349337609\n",
      "Macro Precision: 0.6749310312697475\n",
      "Macro Recall: 0.6284188942019886\n",
      "Micro F1: 0.698273834029289\n",
      "Micro Precision: 0.698273834029289\n",
      "Micro Recall: 0.698273834029289\n",
      "\n",
      "VALIDATION RESULTS\n",
      "Loss: 0.7368564605712891\n",
      "Accuracy: 0.6912681912681913\n",
      "MCC: 0.5160348097821152\n",
      "Macro F1: 0.6533648709467299\n",
      "Macro Precision: 0.6729773396608063\n",
      "Macro Recall: 0.6400416434780268\n",
      "Micro F1: 0.6912681912681913\n",
      "Micro Precision: 0.6912681912681913\n",
      "Micro Recall: 0.6912681912681913\n",
      "--------------------------------------------------\n",
      "EPOCH N. 8\n"
     ]
    },
    {
     "name": "stderr",
     "output_type": "stream",
     "text": [
      "1045it [05:01,  3.46it/s]\n"
     ]
    },
    {
     "name": "stdout",
     "output_type": "stream",
     "text": [
      "\n",
      "TRAIN RESULTS\n",
      "Loss: 0.6936560920265873\n",
      "Accuracy: 0.701596777039346\n",
      "MCC: 0.5252119361962394\n",
      "Macro F1: 0.6568622082807878\n",
      "Macro Precision: 0.6820918534602315\n",
      "Macro Recall: 0.6385784058628042\n",
      "Micro F1: 0.701596777039346\n",
      "Micro Precision: 0.701596777039346\n",
      "Micro Recall: 0.701596777039346\n",
      "\n",
      "VALIDATION RESULTS\n",
      "Loss: 0.7391328811645508\n",
      "Accuracy: 0.6880457380457381\n",
      "MCC: 0.5009020210582773\n",
      "Macro F1: 0.6037457265572057\n",
      "Macro Precision: 0.7319685074897566\n",
      "Macro Recall: 0.5782154992677954\n",
      "Micro F1: 0.6880457380457381\n",
      "Micro Precision: 0.6880457380457381\n",
      "Micro Recall: 0.6880457380457381\n",
      "Early stopped training\n",
      "--------------------------------------------------\n"
     ]
    },
    {
     "data": {
      "text/html": [
       "Waiting for W&B process to finish... <strong style=\"color:green\">(success).</strong>"
      ],
      "text/plain": [
       "<IPython.core.display.HTML object>"
      ]
     },
     "metadata": {},
     "output_type": "display_data"
    },
    {
     "data": {
      "application/vnd.jupyter.widget-view+json": {
       "model_id": "776e3a72fa1a42799bbb32ca43cc2263",
       "version_major": 2,
       "version_minor": 0
      },
      "text/plain": [
       "VBox(children=(Label(value='0.005 MB of 0.005 MB uploaded (0.000 MB deduped)\\r'), FloatProgress(value=1.0, max…"
      ]
     },
     "metadata": {},
     "output_type": "display_data"
    },
    {
     "data": {
      "text/html": [
       "<style>\n",
       "    table.wandb td:nth-child(1) { padding: 0 10px; text-align: left ; width: auto;} td:nth-child(2) {text-align: left ; width: 100%}\n",
       "    .wandb-row { display: flex; flex-direction: row; flex-wrap: wrap; justify-content: flex-start; width: 100% }\n",
       "    .wandb-col { display: flex; flex-direction: column; flex-basis: 100%; flex: 1; padding: 10px; }\n",
       "    </style>\n",
       "<div class=\"wandb-row\"><div class=\"wandb-col\"><h3>Run history:</h3><br/><table class=\"wandb\"><tr><td>Epoch</td><td>▁▂▃▄▅▆▇█</td></tr><tr><td>Train Loss</td><td>▄█▅▃▂▂▂▁</td></tr><tr><td>Validation Loss</td><td>█▅▃▂▂▁▃▃</td></tr></table><br/></div><div class=\"wandb-col\"><h3>Run summary:</h3><br/><table class=\"wandb\"><tr><td>Epoch</td><td>8</td></tr><tr><td>Train Loss</td><td>0.69366</td></tr><tr><td>Validation Loss</td><td>0.73913</td></tr></table><br/></div></div>"
      ],
      "text/plain": [
       "<IPython.core.display.HTML object>"
      ]
     },
     "metadata": {},
     "output_type": "display_data"
    },
    {
     "data": {
      "text/html": [
       " View run <strong style=\"color:#cdcd00\">ToBERT-Trial4</strong> at: <a href='https://wandb.ai/gmarinowandb-8601/RhetoricalRolesClassification-ITA-RhetRoles/runs/zwfvqu73' target=\"_blank\">https://wandb.ai/gmarinowandb-8601/RhetoricalRolesClassification-ITA-RhetRoles/runs/zwfvqu73</a><br/>Synced 5 W&B file(s), 0 media file(s), 0 artifact file(s) and 0 other file(s)"
      ],
      "text/plain": [
       "<IPython.core.display.HTML object>"
      ]
     },
     "metadata": {},
     "output_type": "display_data"
    },
    {
     "data": {
      "text/html": [
       "Find logs at: <code>./wandb/run-20230425_193911-zwfvqu73/logs</code>"
      ],
      "text/plain": [
       "<IPython.core.display.HTML object>"
      ]
     },
     "metadata": {},
     "output_type": "display_data"
    },
    {
     "name": "stderr",
     "output_type": "stream",
     "text": [
      "\u001b[32m[I 2023-04-25 20:26:16,289]\u001b[0m Trial 4 finished with value: 0.6588888168334961 and parameters: {'lr': 0.0003408278685809278, 'weight_decay': 0.004744915788278476, 'embedding': 'abs', 'transformer_dropout': 0.44004801037881336, 'transformer_dim_feedforward': 488}. Best is trial 3 with value: 0.08361773192882538.\u001b[0m\n"
     ]
    },
    {
     "name": "stdout",
     "output_type": "stream",
     "text": [
      "\n",
      "************************ Starting New Optuna Trial ************************\n",
      "\n"
     ]
    },
    {
     "name": "stderr",
     "output_type": "stream",
     "text": [
      "Some weights of the model checkpoint at dlicari/Italian-Legal-BERT were not used when initializing BertForTokenClassification: ['cls.predictions.transform.LayerNorm.bias', 'cls.predictions.transform.dense.weight', 'cls.predictions.decoder.weight', 'cls.predictions.transform.dense.bias', 'cls.predictions.decoder.bias', 'cls.predictions.bias', 'cls.predictions.transform.LayerNorm.weight']\n",
      "- This IS expected if you are initializing BertForTokenClassification from the checkpoint of a model trained on another task or with another architecture (e.g. initializing a BertForSequenceClassification model from a BertForPreTraining model).\n",
      "- This IS NOT expected if you are initializing BertForTokenClassification from the checkpoint of a model that you expect to be exactly identical (initializing a BertForSequenceClassification model from a BertForSequenceClassification model).\n",
      "Some weights of BertForTokenClassification were not initialized from the model checkpoint at dlicari/Italian-Legal-BERT and are newly initialized: ['classifier.bias', 'classifier.weight']\n",
      "You should probably TRAIN this model on a down-stream task to be able to use it for predictions and inference.\n"
     ]
    },
    {
     "data": {
      "text/html": [
       "wandb version 0.15.0 is available!  To upgrade, please run:\n",
       " $ pip install wandb --upgrade"
      ],
      "text/plain": [
       "<IPython.core.display.HTML object>"
      ]
     },
     "metadata": {},
     "output_type": "display_data"
    },
    {
     "data": {
      "text/html": [
       "Tracking run with wandb version 0.13.10"
      ],
      "text/plain": [
       "<IPython.core.display.HTML object>"
      ]
     },
     "metadata": {},
     "output_type": "display_data"
    },
    {
     "data": {
      "text/html": [
       "Run data is saved locally in <code>/home/g.marino/Desktop/GA/RhetoricalRolesClassification/ITA-RhetRoles/wandb/run-20230425_202618-5yttz0if</code>"
      ],
      "text/plain": [
       "<IPython.core.display.HTML object>"
      ]
     },
     "metadata": {},
     "output_type": "display_data"
    },
    {
     "data": {
      "text/html": [
       "Syncing run <strong><a href='https://wandb.ai/gmarinowandb-8601/RhetoricalRolesClassification-ITA-RhetRoles/runs/5yttz0if' target=\"_blank\">ToBERT-Trial5</a></strong> to <a href='https://wandb.ai/gmarinowandb-8601/RhetoricalRolesClassification-ITA-RhetRoles' target=\"_blank\">Weights & Biases</a> (<a href='https://wandb.me/run' target=\"_blank\">docs</a>)<br/>"
      ],
      "text/plain": [
       "<IPython.core.display.HTML object>"
      ]
     },
     "metadata": {},
     "output_type": "display_data"
    },
    {
     "data": {
      "text/html": [
       " View project at <a href='https://wandb.ai/gmarinowandb-8601/RhetoricalRolesClassification-ITA-RhetRoles' target=\"_blank\">https://wandb.ai/gmarinowandb-8601/RhetoricalRolesClassification-ITA-RhetRoles</a>"
      ],
      "text/plain": [
       "<IPython.core.display.HTML object>"
      ]
     },
     "metadata": {},
     "output_type": "display_data"
    },
    {
     "data": {
      "text/html": [
       " View run at <a href='https://wandb.ai/gmarinowandb-8601/RhetoricalRolesClassification-ITA-RhetRoles/runs/5yttz0if' target=\"_blank\">https://wandb.ai/gmarinowandb-8601/RhetoricalRolesClassification-ITA-RhetRoles/runs/5yttz0if</a>"
      ],
      "text/plain": [
       "<IPython.core.display.HTML object>"
      ]
     },
     "metadata": {},
     "output_type": "display_data"
    },
    {
     "name": "stdout",
     "output_type": "stream",
     "text": [
      "\n",
      "************** Training Started **************\n",
      "\n",
      "EPOCH N. 1\n"
     ]
    },
    {
     "name": "stderr",
     "output_type": "stream",
     "text": [
      "1045it [05:02,  3.46it/s]\n"
     ]
    },
    {
     "name": "stdout",
     "output_type": "stream",
     "text": [
      "\n",
      "TRAIN RESULTS\n",
      "Loss: 0.5467390417375347\n",
      "Accuracy: 0.7946538846085985\n",
      "MCC: 0.6740419273584608\n",
      "Macro F1: 0.7776978912478045\n",
      "Macro Precision: 0.8005444891411656\n",
      "Macro Recall: 0.7597565571975998\n",
      "Micro F1: 0.7946538846085985\n",
      "Micro Precision: 0.7946538846085985\n",
      "Micro Recall: 0.7946538846085985\n",
      "\n",
      "VALIDATION RESULTS\n",
      "Loss: 0.3233725428581238\n",
      "Accuracy: 0.8773388773388774\n",
      "MCC: 0.8110317402901916\n",
      "Macro F1: 0.8877796647755656\n",
      "Macro Precision: 0.8880497476128386\n",
      "Macro Recall: 0.8881900305127661\n",
      "Micro F1: 0.8773388773388774\n",
      "Micro Precision: 0.8773388773388774\n",
      "Micro Recall: 0.8773388773388774\n",
      "--------------------------------------------------\n",
      "EPOCH N. 2\n"
     ]
    },
    {
     "name": "stderr",
     "output_type": "stream",
     "text": [
      "1045it [05:01,  3.46it/s]\n"
     ]
    },
    {
     "name": "stdout",
     "output_type": "stream",
     "text": [
      "\n",
      "TRAIN RESULTS\n",
      "Loss: 0.2702993448030507\n",
      "Accuracy: 0.8936364171028642\n",
      "MCC: 0.8337582271075227\n",
      "Macro F1: 0.9014375931169856\n",
      "Macro Precision: 0.9060072938402202\n",
      "Macro Recall: 0.897253453513444\n",
      "Micro F1: 0.8936364171028642\n",
      "Micro Precision: 0.8936364171028642\n",
      "Micro Recall: 0.8936364171028642\n",
      "\n",
      "VALIDATION RESULTS\n",
      "Loss: 0.24197198450565338\n",
      "Accuracy: 0.911954261954262\n",
      "MCC: 0.8677091581532962\n",
      "Macro F1: 0.9214479657087988\n",
      "Macro Precision: 0.9220180850257533\n",
      "Macro Recall: 0.9228839950450369\n",
      "Micro F1: 0.911954261954262\n",
      "Micro Precision: 0.911954261954262\n",
      "Micro Recall: 0.911954261954262\n",
      "--------------------------------------------------\n",
      "EPOCH N. 3\n"
     ]
    },
    {
     "name": "stderr",
     "output_type": "stream",
     "text": [
      "1045it [05:02,  3.46it/s]\n"
     ]
    },
    {
     "name": "stdout",
     "output_type": "stream",
     "text": [
      "\n",
      "TRAIN RESULTS\n",
      "Loss: 0.20144300194430437\n",
      "Accuracy: 0.9251014526848204\n",
      "MCC: 0.8830448353771206\n",
      "Macro F1: 0.929423125965983\n",
      "Macro Precision: 0.9342620746675063\n",
      "Macro Recall: 0.924867911453964\n",
      "Micro F1: 0.9251014526848204\n",
      "Micro Precision: 0.9251014526848204\n",
      "Micro Recall: 0.9251014526848204\n",
      "\n",
      "VALIDATION RESULTS\n",
      "Loss: 0.16762767732143402\n",
      "Accuracy: 0.9374220374220374\n",
      "MCC: 0.9041282159187505\n",
      "Macro F1: 0.9365437086691759\n",
      "Macro Precision: 0.9400619512551159\n",
      "Macro Recall: 0.9348539556229956\n",
      "Micro F1: 0.9374220374220374\n",
      "Micro Precision: 0.9374220374220374\n",
      "Micro Recall: 0.9374220374220374\n",
      "--------------------------------------------------\n",
      "EPOCH N. 4\n"
     ]
    },
    {
     "name": "stderr",
     "output_type": "stream",
     "text": [
      "1045it [05:02,  3.45it/s]\n"
     ]
    },
    {
     "name": "stdout",
     "output_type": "stream",
     "text": [
      "\n",
      "TRAIN RESULTS\n",
      "Loss: 0.15963136905728523\n",
      "Accuracy: 0.9427895077339293\n",
      "MCC: 0.9106778954935609\n",
      "Macro F1: 0.9455978741661667\n",
      "Macro Precision: 0.951557071982279\n",
      "Macro Recall: 0.939910860940444\n",
      "Micro F1: 0.9427895077339293\n",
      "Micro Precision: 0.9427895077339293\n",
      "Micro Recall: 0.9427895077339293\n",
      "\n",
      "VALIDATION RESULTS\n",
      "Loss: 0.16869692504405975\n",
      "Accuracy: 0.9437629937629938\n",
      "MCC: 0.9134209991885371\n",
      "Macro F1: 0.9436619422574513\n",
      "Macro Precision: 0.950872762345773\n",
      "Macro Recall: 0.9368505505601001\n",
      "Micro F1: 0.9437629937629939\n",
      "Micro Precision: 0.9437629937629938\n",
      "Micro Recall: 0.9437629937629938\n",
      "--------------------------------------------------\n",
      "EPOCH N. 5\n"
     ]
    },
    {
     "name": "stderr",
     "output_type": "stream",
     "text": [
      "1045it [05:03,  3.45it/s]\n"
     ]
    },
    {
     "name": "stdout",
     "output_type": "stream",
     "text": [
      "\n",
      "TRAIN RESULTS\n",
      "Loss: 0.13041543479503073\n",
      "Accuracy: 0.9553020055284361\n",
      "MCC: 0.9302965953859207\n",
      "Macro F1: 0.9568178136829764\n",
      "Macro Precision: 0.9611670574399269\n",
      "Macro Recall: 0.9526394049316448\n",
      "Micro F1: 0.9553020055284361\n",
      "Micro Precision: 0.9553020055284361\n",
      "Micro Recall: 0.9553020055284361\n",
      "\n",
      "VALIDATION RESULTS\n",
      "Loss: 0.194092258810997\n",
      "Accuracy: 0.9387733887733888\n",
      "MCC: 0.9088277722489762\n",
      "Macro F1: 0.9427475035106958\n",
      "Macro Precision: 0.9390362846048834\n",
      "Macro Recall: 0.9486825854492773\n",
      "Micro F1: 0.9387733887733888\n",
      "Micro Precision: 0.9387733887733888\n",
      "Micro Recall: 0.9387733887733888\n",
      "Early stopped training\n",
      "--------------------------------------------------\n"
     ]
    },
    {
     "data": {
      "text/html": [
       "Waiting for W&B process to finish... <strong style=\"color:red\">(failed 1).</strong> Press Control-C to abort syncing."
      ],
      "text/plain": [
       "<IPython.core.display.HTML object>"
      ]
     },
     "metadata": {},
     "output_type": "display_data"
    },
    {
     "data": {
      "text/html": [
       "<style>\n",
       "    table.wandb td:nth-child(1) { padding: 0 10px; text-align: left ; width: auto;} td:nth-child(2) {text-align: left ; width: 100%}\n",
       "    .wandb-row { display: flex; flex-direction: row; flex-wrap: wrap; justify-content: flex-start; width: 100% }\n",
       "    .wandb-col { display: flex; flex-direction: column; flex-basis: 100%; flex: 1; padding: 10px; }\n",
       "    </style>\n",
       "<div class=\"wandb-row\"><div class=\"wandb-col\"><h3>Run history:</h3><br/><table class=\"wandb\"><tr><td>Epoch</td><td>▁▃▅▆█</td></tr><tr><td>Train Loss</td><td>█▃▂▁▁</td></tr><tr><td>Validation Loss</td><td>█▄▁▁▂</td></tr></table><br/></div><div class=\"wandb-col\"><h3>Run summary:</h3><br/><table class=\"wandb\"><tr><td>Epoch</td><td>5</td></tr><tr><td>Train Loss</td><td>0.13042</td></tr><tr><td>Validation Loss</td><td>0.19409</td></tr></table><br/></div></div>"
      ],
      "text/plain": [
       "<IPython.core.display.HTML object>"
      ]
     },
     "metadata": {},
     "output_type": "display_data"
    },
    {
     "data": {
      "text/html": [
       " View run <strong style=\"color:#cdcd00\">ToBERT-Trial5</strong> at: <a href='https://wandb.ai/gmarinowandb-8601/RhetoricalRolesClassification-ITA-RhetRoles/runs/5yttz0if' target=\"_blank\">https://wandb.ai/gmarinowandb-8601/RhetoricalRolesClassification-ITA-RhetRoles/runs/5yttz0if</a><br/>Synced 5 W&B file(s), 0 media file(s), 0 artifact file(s) and 0 other file(s)"
      ],
      "text/plain": [
       "<IPython.core.display.HTML object>"
      ]
     },
     "metadata": {},
     "output_type": "display_data"
    },
    {
     "data": {
      "text/html": [
       "Find logs at: <code>./wandb/run-20230425_202618-5yttz0if/logs</code>"
      ],
      "text/plain": [
       "<IPython.core.display.HTML object>"
      ]
     },
     "metadata": {},
     "output_type": "display_data"
    },
    {
     "name": "stderr",
     "output_type": "stream",
     "text": [
      "\u001b[32m[I 2023-04-25 20:55:12,530]\u001b[0m Trial 5 pruned. \u001b[0m\n"
     ]
    },
    {
     "name": "stdout",
     "output_type": "stream",
     "text": [
      "\n",
      "************************ Starting New Optuna Trial ************************\n",
      "\n"
     ]
    },
    {
     "name": "stderr",
     "output_type": "stream",
     "text": [
      "Some weights of the model checkpoint at dlicari/Italian-Legal-BERT were not used when initializing BertForTokenClassification: ['cls.predictions.transform.LayerNorm.bias', 'cls.predictions.transform.dense.weight', 'cls.predictions.decoder.weight', 'cls.predictions.transform.dense.bias', 'cls.predictions.decoder.bias', 'cls.predictions.bias', 'cls.predictions.transform.LayerNorm.weight']\n",
      "- This IS expected if you are initializing BertForTokenClassification from the checkpoint of a model trained on another task or with another architecture (e.g. initializing a BertForSequenceClassification model from a BertForPreTraining model).\n",
      "- This IS NOT expected if you are initializing BertForTokenClassification from the checkpoint of a model that you expect to be exactly identical (initializing a BertForSequenceClassification model from a BertForSequenceClassification model).\n",
      "Some weights of BertForTokenClassification were not initialized from the model checkpoint at dlicari/Italian-Legal-BERT and are newly initialized: ['classifier.bias', 'classifier.weight']\n",
      "You should probably TRAIN this model on a down-stream task to be able to use it for predictions and inference.\n"
     ]
    },
    {
     "data": {
      "text/html": [
       "wandb version 0.15.0 is available!  To upgrade, please run:\n",
       " $ pip install wandb --upgrade"
      ],
      "text/plain": [
       "<IPython.core.display.HTML object>"
      ]
     },
     "metadata": {},
     "output_type": "display_data"
    },
    {
     "data": {
      "text/html": [
       "Tracking run with wandb version 0.13.10"
      ],
      "text/plain": [
       "<IPython.core.display.HTML object>"
      ]
     },
     "metadata": {},
     "output_type": "display_data"
    },
    {
     "data": {
      "text/html": [
       "Run data is saved locally in <code>/home/g.marino/Desktop/GA/RhetoricalRolesClassification/ITA-RhetRoles/wandb/run-20230425_205514-jd847hqj</code>"
      ],
      "text/plain": [
       "<IPython.core.display.HTML object>"
      ]
     },
     "metadata": {},
     "output_type": "display_data"
    },
    {
     "data": {
      "text/html": [
       "Syncing run <strong><a href='https://wandb.ai/gmarinowandb-8601/RhetoricalRolesClassification-ITA-RhetRoles/runs/jd847hqj' target=\"_blank\">ToBERT-Trial6</a></strong> to <a href='https://wandb.ai/gmarinowandb-8601/RhetoricalRolesClassification-ITA-RhetRoles' target=\"_blank\">Weights & Biases</a> (<a href='https://wandb.me/run' target=\"_blank\">docs</a>)<br/>"
      ],
      "text/plain": [
       "<IPython.core.display.HTML object>"
      ]
     },
     "metadata": {},
     "output_type": "display_data"
    },
    {
     "data": {
      "text/html": [
       " View project at <a href='https://wandb.ai/gmarinowandb-8601/RhetoricalRolesClassification-ITA-RhetRoles' target=\"_blank\">https://wandb.ai/gmarinowandb-8601/RhetoricalRolesClassification-ITA-RhetRoles</a>"
      ],
      "text/plain": [
       "<IPython.core.display.HTML object>"
      ]
     },
     "metadata": {},
     "output_type": "display_data"
    },
    {
     "data": {
      "text/html": [
       " View run at <a href='https://wandb.ai/gmarinowandb-8601/RhetoricalRolesClassification-ITA-RhetRoles/runs/jd847hqj' target=\"_blank\">https://wandb.ai/gmarinowandb-8601/RhetoricalRolesClassification-ITA-RhetRoles/runs/jd847hqj</a>"
      ],
      "text/plain": [
       "<IPython.core.display.HTML object>"
      ]
     },
     "metadata": {},
     "output_type": "display_data"
    },
    {
     "name": "stdout",
     "output_type": "stream",
     "text": [
      "\n",
      "************** Training Started **************\n",
      "\n",
      "EPOCH N. 1\n"
     ]
    },
    {
     "name": "stderr",
     "output_type": "stream",
     "text": [
      "1045it [05:02,  3.45it/s]\n"
     ]
    },
    {
     "name": "stdout",
     "output_type": "stream",
     "text": [
      "\n",
      "TRAIN RESULTS\n",
      "Loss: 0.8988714019932815\n",
      "Accuracy: 0.6537522790095865\n",
      "MCC: 0.4347187374856624\n",
      "Macro F1: 0.5688761862871097\n",
      "Macro Precision: 0.611505667307384\n",
      "Macro Recall: 0.5443726902384598\n",
      "Micro F1: 0.6537522790095865\n",
      "Micro Precision: 0.6537522790095865\n",
      "Micro Recall: 0.6537522790095865\n",
      "\n",
      "VALIDATION RESULTS\n",
      "Loss: 0.9412957429885864\n",
      "Accuracy: 0.6260914760914761\n",
      "MCC: 0.40451304432590524\n",
      "Macro F1: 0.5360882588145117\n",
      "Macro Precision: 0.5746255136351375\n",
      "Macro Recall: 0.5761365545185603\n",
      "Micro F1: 0.6260914760914761\n",
      "Micro Precision: 0.6260914760914761\n",
      "Micro Recall: 0.6260914760914761\n",
      "--------------------------------------------------\n"
     ]
    },
    {
     "data": {
      "text/html": [
       "Waiting for W&B process to finish... <strong style=\"color:red\">(failed 1).</strong> Press Control-C to abort syncing."
      ],
      "text/plain": [
       "<IPython.core.display.HTML object>"
      ]
     },
     "metadata": {},
     "output_type": "display_data"
    },
    {
     "data": {
      "application/vnd.jupyter.widget-view+json": {
       "model_id": "6cd2d9712eec4b87a91867b0351cf30e",
       "version_major": 2,
       "version_minor": 0
      },
      "text/plain": [
       "VBox(children=(Label(value='0.005 MB of 0.005 MB uploaded (0.000 MB deduped)\\r'), FloatProgress(value=1.0, max…"
      ]
     },
     "metadata": {},
     "output_type": "display_data"
    },
    {
     "data": {
      "text/html": [
       "<style>\n",
       "    table.wandb td:nth-child(1) { padding: 0 10px; text-align: left ; width: auto;} td:nth-child(2) {text-align: left ; width: 100%}\n",
       "    .wandb-row { display: flex; flex-direction: row; flex-wrap: wrap; justify-content: flex-start; width: 100% }\n",
       "    .wandb-col { display: flex; flex-direction: column; flex-basis: 100%; flex: 1; padding: 10px; }\n",
       "    </style>\n",
       "<div class=\"wandb-row\"><div class=\"wandb-col\"><h3>Run history:</h3><br/><table class=\"wandb\"><tr><td>Epoch</td><td>▁</td></tr><tr><td>Train Loss</td><td>▁</td></tr><tr><td>Validation Loss</td><td>▁</td></tr></table><br/></div><div class=\"wandb-col\"><h3>Run summary:</h3><br/><table class=\"wandb\"><tr><td>Epoch</td><td>1</td></tr><tr><td>Train Loss</td><td>0.89887</td></tr><tr><td>Validation Loss</td><td>0.9413</td></tr></table><br/></div></div>"
      ],
      "text/plain": [
       "<IPython.core.display.HTML object>"
      ]
     },
     "metadata": {},
     "output_type": "display_data"
    },
    {
     "data": {
      "text/html": [
       " View run <strong style=\"color:#cdcd00\">ToBERT-Trial6</strong> at: <a href='https://wandb.ai/gmarinowandb-8601/RhetoricalRolesClassification-ITA-RhetRoles/runs/jd847hqj' target=\"_blank\">https://wandb.ai/gmarinowandb-8601/RhetoricalRolesClassification-ITA-RhetRoles/runs/jd847hqj</a><br/>Synced 5 W&B file(s), 0 media file(s), 0 artifact file(s) and 0 other file(s)"
      ],
      "text/plain": [
       "<IPython.core.display.HTML object>"
      ]
     },
     "metadata": {},
     "output_type": "display_data"
    },
    {
     "data": {
      "text/html": [
       "Find logs at: <code>./wandb/run-20230425_205514-jd847hqj/logs</code>"
      ],
      "text/plain": [
       "<IPython.core.display.HTML object>"
      ]
     },
     "metadata": {},
     "output_type": "display_data"
    },
    {
     "name": "stderr",
     "output_type": "stream",
     "text": [
      "\u001b[32m[I 2023-04-25 21:01:17,542]\u001b[0m Trial 6 pruned. \u001b[0m\n"
     ]
    },
    {
     "name": "stdout",
     "output_type": "stream",
     "text": [
      "\n",
      "************************ Starting New Optuna Trial ************************\n",
      "\n"
     ]
    },
    {
     "name": "stderr",
     "output_type": "stream",
     "text": [
      "Some weights of the model checkpoint at dlicari/Italian-Legal-BERT were not used when initializing BertForTokenClassification: ['cls.predictions.transform.LayerNorm.bias', 'cls.predictions.transform.dense.weight', 'cls.predictions.decoder.weight', 'cls.predictions.transform.dense.bias', 'cls.predictions.decoder.bias', 'cls.predictions.bias', 'cls.predictions.transform.LayerNorm.weight']\n",
      "- This IS expected if you are initializing BertForTokenClassification from the checkpoint of a model trained on another task or with another architecture (e.g. initializing a BertForSequenceClassification model from a BertForPreTraining model).\n",
      "- This IS NOT expected if you are initializing BertForTokenClassification from the checkpoint of a model that you expect to be exactly identical (initializing a BertForSequenceClassification model from a BertForSequenceClassification model).\n",
      "Some weights of BertForTokenClassification were not initialized from the model checkpoint at dlicari/Italian-Legal-BERT and are newly initialized: ['classifier.bias', 'classifier.weight']\n",
      "You should probably TRAIN this model on a down-stream task to be able to use it for predictions and inference.\n"
     ]
    },
    {
     "data": {
      "text/html": [
       "wandb version 0.15.0 is available!  To upgrade, please run:\n",
       " $ pip install wandb --upgrade"
      ],
      "text/plain": [
       "<IPython.core.display.HTML object>"
      ]
     },
     "metadata": {},
     "output_type": "display_data"
    },
    {
     "data": {
      "text/html": [
       "Tracking run with wandb version 0.13.10"
      ],
      "text/plain": [
       "<IPython.core.display.HTML object>"
      ]
     },
     "metadata": {},
     "output_type": "display_data"
    },
    {
     "data": {
      "text/html": [
       "Run data is saved locally in <code>/home/g.marino/Desktop/GA/RhetoricalRolesClassification/ITA-RhetRoles/wandb/run-20230425_210119-5z2060b4</code>"
      ],
      "text/plain": [
       "<IPython.core.display.HTML object>"
      ]
     },
     "metadata": {},
     "output_type": "display_data"
    },
    {
     "data": {
      "text/html": [
       "Syncing run <strong><a href='https://wandb.ai/gmarinowandb-8601/RhetoricalRolesClassification-ITA-RhetRoles/runs/5z2060b4' target=\"_blank\">ToBERT-Trial7</a></strong> to <a href='https://wandb.ai/gmarinowandb-8601/RhetoricalRolesClassification-ITA-RhetRoles' target=\"_blank\">Weights & Biases</a> (<a href='https://wandb.me/run' target=\"_blank\">docs</a>)<br/>"
      ],
      "text/plain": [
       "<IPython.core.display.HTML object>"
      ]
     },
     "metadata": {},
     "output_type": "display_data"
    },
    {
     "data": {
      "text/html": [
       " View project at <a href='https://wandb.ai/gmarinowandb-8601/RhetoricalRolesClassification-ITA-RhetRoles' target=\"_blank\">https://wandb.ai/gmarinowandb-8601/RhetoricalRolesClassification-ITA-RhetRoles</a>"
      ],
      "text/plain": [
       "<IPython.core.display.HTML object>"
      ]
     },
     "metadata": {},
     "output_type": "display_data"
    },
    {
     "data": {
      "text/html": [
       " View run at <a href='https://wandb.ai/gmarinowandb-8601/RhetoricalRolesClassification-ITA-RhetRoles/runs/5z2060b4' target=\"_blank\">https://wandb.ai/gmarinowandb-8601/RhetoricalRolesClassification-ITA-RhetRoles/runs/5z2060b4</a>"
      ],
      "text/plain": [
       "<IPython.core.display.HTML object>"
      ]
     },
     "metadata": {},
     "output_type": "display_data"
    },
    {
     "name": "stdout",
     "output_type": "stream",
     "text": [
      "\n",
      "************** Training Started **************\n",
      "\n",
      "EPOCH N. 1\n"
     ]
    },
    {
     "name": "stderr",
     "output_type": "stream",
     "text": [
      "1045it [05:00,  3.48it/s]\n"
     ]
    },
    {
     "name": "stdout",
     "output_type": "stream",
     "text": [
      "\n",
      "TRAIN RESULTS\n",
      "Loss: 0.8142866052508925\n",
      "Accuracy: 0.6708522025524908\n",
      "MCC: 0.47643340733997197\n",
      "Macro F1: 0.597388959683373\n",
      "Macro Precision: 0.6128913354933614\n",
      "Macro Recall: 0.588098721875083\n",
      "Micro F1: 0.6708522025524908\n",
      "Micro Precision: 0.6708522025524908\n",
      "Micro Recall: 0.6708522025524908\n",
      "\n",
      "VALIDATION RESULTS\n",
      "Loss: 0.9228324294090271\n",
      "Accuracy: 0.7169438669438669\n",
      "MCC: 0.5466375466082131\n",
      "Macro F1: 0.6608864542350146\n",
      "Macro Precision: 0.7331109331561685\n",
      "Macro Recall: 0.6179616813614078\n",
      "Micro F1: 0.7169438669438669\n",
      "Micro Precision: 0.7169438669438669\n",
      "Micro Recall: 0.7169438669438669\n",
      "--------------------------------------------------\n"
     ]
    },
    {
     "data": {
      "text/html": [
       "Waiting for W&B process to finish... <strong style=\"color:red\">(failed 1).</strong> Press Control-C to abort syncing."
      ],
      "text/plain": [
       "<IPython.core.display.HTML object>"
      ]
     },
     "metadata": {},
     "output_type": "display_data"
    },
    {
     "data": {
      "application/vnd.jupyter.widget-view+json": {
       "model_id": "a901285208884b9b840a99b243c72854",
       "version_major": 2,
       "version_minor": 0
      },
      "text/plain": [
       "VBox(children=(Label(value='0.005 MB of 0.005 MB uploaded (0.000 MB deduped)\\r'), FloatProgress(value=1.0, max…"
      ]
     },
     "metadata": {},
     "output_type": "display_data"
    },
    {
     "data": {
      "text/html": [
       "<style>\n",
       "    table.wandb td:nth-child(1) { padding: 0 10px; text-align: left ; width: auto;} td:nth-child(2) {text-align: left ; width: 100%}\n",
       "    .wandb-row { display: flex; flex-direction: row; flex-wrap: wrap; justify-content: flex-start; width: 100% }\n",
       "    .wandb-col { display: flex; flex-direction: column; flex-basis: 100%; flex: 1; padding: 10px; }\n",
       "    </style>\n",
       "<div class=\"wandb-row\"><div class=\"wandb-col\"><h3>Run history:</h3><br/><table class=\"wandb\"><tr><td>Epoch</td><td>▁</td></tr><tr><td>Train Loss</td><td>▁</td></tr><tr><td>Validation Loss</td><td>▁</td></tr></table><br/></div><div class=\"wandb-col\"><h3>Run summary:</h3><br/><table class=\"wandb\"><tr><td>Epoch</td><td>1</td></tr><tr><td>Train Loss</td><td>0.81429</td></tr><tr><td>Validation Loss</td><td>0.92283</td></tr></table><br/></div></div>"
      ],
      "text/plain": [
       "<IPython.core.display.HTML object>"
      ]
     },
     "metadata": {},
     "output_type": "display_data"
    },
    {
     "data": {
      "text/html": [
       " View run <strong style=\"color:#cdcd00\">ToBERT-Trial7</strong> at: <a href='https://wandb.ai/gmarinowandb-8601/RhetoricalRolesClassification-ITA-RhetRoles/runs/5z2060b4' target=\"_blank\">https://wandb.ai/gmarinowandb-8601/RhetoricalRolesClassification-ITA-RhetRoles/runs/5z2060b4</a><br/>Synced 5 W&B file(s), 0 media file(s), 0 artifact file(s) and 0 other file(s)"
      ],
      "text/plain": [
       "<IPython.core.display.HTML object>"
      ]
     },
     "metadata": {},
     "output_type": "display_data"
    },
    {
     "data": {
      "text/html": [
       "Find logs at: <code>./wandb/run-20230425_210119-5z2060b4/logs</code>"
      ],
      "text/plain": [
       "<IPython.core.display.HTML object>"
      ]
     },
     "metadata": {},
     "output_type": "display_data"
    },
    {
     "name": "stderr",
     "output_type": "stream",
     "text": [
      "\u001b[32m[I 2023-04-25 21:07:21,030]\u001b[0m Trial 7 pruned. \u001b[0m\n"
     ]
    },
    {
     "name": "stdout",
     "output_type": "stream",
     "text": [
      "\n",
      "************************ Starting New Optuna Trial ************************\n",
      "\n"
     ]
    },
    {
     "name": "stderr",
     "output_type": "stream",
     "text": [
      "Some weights of the model checkpoint at dlicari/Italian-Legal-BERT were not used when initializing BertForTokenClassification: ['cls.predictions.transform.LayerNorm.bias', 'cls.predictions.transform.dense.weight', 'cls.predictions.decoder.weight', 'cls.predictions.transform.dense.bias', 'cls.predictions.decoder.bias', 'cls.predictions.bias', 'cls.predictions.transform.LayerNorm.weight']\n",
      "- This IS expected if you are initializing BertForTokenClassification from the checkpoint of a model trained on another task or with another architecture (e.g. initializing a BertForSequenceClassification model from a BertForPreTraining model).\n",
      "- This IS NOT expected if you are initializing BertForTokenClassification from the checkpoint of a model that you expect to be exactly identical (initializing a BertForSequenceClassification model from a BertForSequenceClassification model).\n",
      "Some weights of BertForTokenClassification were not initialized from the model checkpoint at dlicari/Italian-Legal-BERT and are newly initialized: ['classifier.bias', 'classifier.weight']\n",
      "You should probably TRAIN this model on a down-stream task to be able to use it for predictions and inference.\n"
     ]
    },
    {
     "data": {
      "text/html": [
       "wandb version 0.15.0 is available!  To upgrade, please run:\n",
       " $ pip install wandb --upgrade"
      ],
      "text/plain": [
       "<IPython.core.display.HTML object>"
      ]
     },
     "metadata": {},
     "output_type": "display_data"
    },
    {
     "data": {
      "text/html": [
       "Tracking run with wandb version 0.13.10"
      ],
      "text/plain": [
       "<IPython.core.display.HTML object>"
      ]
     },
     "metadata": {},
     "output_type": "display_data"
    },
    {
     "data": {
      "text/html": [
       "Run data is saved locally in <code>/home/g.marino/Desktop/GA/RhetoricalRolesClassification/ITA-RhetRoles/wandb/run-20230425_210722-2jokqeuh</code>"
      ],
      "text/plain": [
       "<IPython.core.display.HTML object>"
      ]
     },
     "metadata": {},
     "output_type": "display_data"
    },
    {
     "data": {
      "text/html": [
       "Syncing run <strong><a href='https://wandb.ai/gmarinowandb-8601/RhetoricalRolesClassification-ITA-RhetRoles/runs/2jokqeuh' target=\"_blank\">ToBERT-Trial8</a></strong> to <a href='https://wandb.ai/gmarinowandb-8601/RhetoricalRolesClassification-ITA-RhetRoles' target=\"_blank\">Weights & Biases</a> (<a href='https://wandb.me/run' target=\"_blank\">docs</a>)<br/>"
      ],
      "text/plain": [
       "<IPython.core.display.HTML object>"
      ]
     },
     "metadata": {},
     "output_type": "display_data"
    },
    {
     "data": {
      "text/html": [
       " View project at <a href='https://wandb.ai/gmarinowandb-8601/RhetoricalRolesClassification-ITA-RhetRoles' target=\"_blank\">https://wandb.ai/gmarinowandb-8601/RhetoricalRolesClassification-ITA-RhetRoles</a>"
      ],
      "text/plain": [
       "<IPython.core.display.HTML object>"
      ]
     },
     "metadata": {},
     "output_type": "display_data"
    },
    {
     "data": {
      "text/html": [
       " View run at <a href='https://wandb.ai/gmarinowandb-8601/RhetoricalRolesClassification-ITA-RhetRoles/runs/2jokqeuh' target=\"_blank\">https://wandb.ai/gmarinowandb-8601/RhetoricalRolesClassification-ITA-RhetRoles/runs/2jokqeuh</a>"
      ],
      "text/plain": [
       "<IPython.core.display.HTML object>"
      ]
     },
     "metadata": {},
     "output_type": "display_data"
    },
    {
     "name": "stdout",
     "output_type": "stream",
     "text": [
      "\n",
      "************** Training Started **************\n",
      "\n",
      "EPOCH N. 1\n"
     ]
    },
    {
     "name": "stderr",
     "output_type": "stream",
     "text": [
      "1045it [05:07,  3.40it/s]\n"
     ]
    },
    {
     "name": "stdout",
     "output_type": "stream",
     "text": [
      "\n",
      "TRAIN RESULTS\n",
      "Loss: 0.39834698565197335\n",
      "Accuracy: 0.8487913897547492\n",
      "MCC: 0.7621583919712203\n",
      "Macro F1: 0.8487820466436435\n",
      "Macro Precision: 0.8618180227962771\n",
      "Macro Recall: 0.8368885393664487\n",
      "Micro F1: 0.8487913897547492\n",
      "Micro Precision: 0.8487913897547492\n",
      "Micro Recall: 0.8487913897547492\n",
      "\n",
      "VALIDATION RESULTS\n",
      "Loss: 0.3074614107608795\n",
      "Accuracy: 0.8978170478170479\n",
      "MCC: 0.8431429983169824\n",
      "Macro F1: 0.90255231585383\n",
      "Macro Precision: 0.9300855817211948\n",
      "Macro Recall: 0.8824451304258053\n",
      "Micro F1: 0.8978170478170479\n",
      "Micro Precision: 0.8978170478170479\n",
      "Micro Recall: 0.8978170478170479\n",
      "--------------------------------------------------\n",
      "EPOCH N. 2\n"
     ]
    },
    {
     "name": "stderr",
     "output_type": "stream",
     "text": [
      "1045it [05:07,  3.40it/s]\n"
     ]
    },
    {
     "name": "stdout",
     "output_type": "stream",
     "text": [
      "\n",
      "TRAIN RESULTS\n",
      "Loss: 0.6487055173428934\n",
      "Accuracy: 0.7389725342586603\n",
      "MCC: 0.5908269133189016\n",
      "Macro F1: 0.6951738463351871\n",
      "Macro Precision: 0.7010004741821649\n",
      "Macro Recall: 0.6918851239416759\n",
      "Micro F1: 0.7389725342586603\n",
      "Micro Precision: 0.7389725342586603\n",
      "Micro Recall: 0.7389725342586603\n",
      "\n",
      "VALIDATION RESULTS\n",
      "Loss: 0.7834253311157227\n",
      "Accuracy: 0.7146569646569647\n",
      "MCC: 0.5645999718232301\n",
      "Macro F1: 0.6838342884945442\n",
      "Macro Precision: 0.6800234615596168\n",
      "Macro Recall: 0.6998859091466831\n",
      "Micro F1: 0.7146569646569647\n",
      "Micro Precision: 0.7146569646569647\n",
      "Micro Recall: 0.7146569646569647\n",
      "--------------------------------------------------\n"
     ]
    },
    {
     "data": {
      "text/html": [
       "Waiting for W&B process to finish... <strong style=\"color:red\">(failed 1).</strong> Press Control-C to abort syncing."
      ],
      "text/plain": [
       "<IPython.core.display.HTML object>"
      ]
     },
     "metadata": {},
     "output_type": "display_data"
    },
    {
     "data": {
      "text/html": [
       "<style>\n",
       "    table.wandb td:nth-child(1) { padding: 0 10px; text-align: left ; width: auto;} td:nth-child(2) {text-align: left ; width: 100%}\n",
       "    .wandb-row { display: flex; flex-direction: row; flex-wrap: wrap; justify-content: flex-start; width: 100% }\n",
       "    .wandb-col { display: flex; flex-direction: column; flex-basis: 100%; flex: 1; padding: 10px; }\n",
       "    </style>\n",
       "<div class=\"wandb-row\"><div class=\"wandb-col\"><h3>Run history:</h3><br/><table class=\"wandb\"><tr><td>Epoch</td><td>▁█</td></tr><tr><td>Train Loss</td><td>▁█</td></tr><tr><td>Validation Loss</td><td>▁█</td></tr></table><br/></div><div class=\"wandb-col\"><h3>Run summary:</h3><br/><table class=\"wandb\"><tr><td>Epoch</td><td>2</td></tr><tr><td>Train Loss</td><td>0.64871</td></tr><tr><td>Validation Loss</td><td>0.78343</td></tr></table><br/></div></div>"
      ],
      "text/plain": [
       "<IPython.core.display.HTML object>"
      ]
     },
     "metadata": {},
     "output_type": "display_data"
    },
    {
     "data": {
      "text/html": [
       " View run <strong style=\"color:#cdcd00\">ToBERT-Trial8</strong> at: <a href='https://wandb.ai/gmarinowandb-8601/RhetoricalRolesClassification-ITA-RhetRoles/runs/2jokqeuh' target=\"_blank\">https://wandb.ai/gmarinowandb-8601/RhetoricalRolesClassification-ITA-RhetRoles/runs/2jokqeuh</a><br/>Synced 5 W&B file(s), 0 media file(s), 0 artifact file(s) and 0 other file(s)"
      ],
      "text/plain": [
       "<IPython.core.display.HTML object>"
      ]
     },
     "metadata": {},
     "output_type": "display_data"
    },
    {
     "data": {
      "text/html": [
       "Find logs at: <code>./wandb/run-20230425_210722-2jokqeuh/logs</code>"
      ],
      "text/plain": [
       "<IPython.core.display.HTML object>"
      ]
     },
     "metadata": {},
     "output_type": "display_data"
    },
    {
     "name": "stderr",
     "output_type": "stream",
     "text": [
      "\u001b[32m[I 2023-04-25 21:19:12,470]\u001b[0m Trial 8 pruned. \u001b[0m\n"
     ]
    },
    {
     "name": "stdout",
     "output_type": "stream",
     "text": [
      "\n",
      "************************ Starting New Optuna Trial ************************\n",
      "\n"
     ]
    },
    {
     "name": "stderr",
     "output_type": "stream",
     "text": [
      "Some weights of the model checkpoint at dlicari/Italian-Legal-BERT were not used when initializing BertForTokenClassification: ['cls.predictions.transform.LayerNorm.bias', 'cls.predictions.transform.dense.weight', 'cls.predictions.decoder.weight', 'cls.predictions.transform.dense.bias', 'cls.predictions.decoder.bias', 'cls.predictions.bias', 'cls.predictions.transform.LayerNorm.weight']\n",
      "- This IS expected if you are initializing BertForTokenClassification from the checkpoint of a model trained on another task or with another architecture (e.g. initializing a BertForSequenceClassification model from a BertForPreTraining model).\n",
      "- This IS NOT expected if you are initializing BertForTokenClassification from the checkpoint of a model that you expect to be exactly identical (initializing a BertForSequenceClassification model from a BertForSequenceClassification model).\n",
      "Some weights of BertForTokenClassification were not initialized from the model checkpoint at dlicari/Italian-Legal-BERT and are newly initialized: ['classifier.bias', 'classifier.weight']\n",
      "You should probably TRAIN this model on a down-stream task to be able to use it for predictions and inference.\n"
     ]
    },
    {
     "data": {
      "text/html": [
       "wandb version 0.15.0 is available!  To upgrade, please run:\n",
       " $ pip install wandb --upgrade"
      ],
      "text/plain": [
       "<IPython.core.display.HTML object>"
      ]
     },
     "metadata": {},
     "output_type": "display_data"
    },
    {
     "data": {
      "text/html": [
       "Tracking run with wandb version 0.13.10"
      ],
      "text/plain": [
       "<IPython.core.display.HTML object>"
      ]
     },
     "metadata": {},
     "output_type": "display_data"
    },
    {
     "data": {
      "text/html": [
       "Run data is saved locally in <code>/home/g.marino/Desktop/GA/RhetoricalRolesClassification/ITA-RhetRoles/wandb/run-20230425_211914-01r2xfjq</code>"
      ],
      "text/plain": [
       "<IPython.core.display.HTML object>"
      ]
     },
     "metadata": {},
     "output_type": "display_data"
    },
    {
     "data": {
      "text/html": [
       "Syncing run <strong><a href='https://wandb.ai/gmarinowandb-8601/RhetoricalRolesClassification-ITA-RhetRoles/runs/01r2xfjq' target=\"_blank\">ToBERT-Trial9</a></strong> to <a href='https://wandb.ai/gmarinowandb-8601/RhetoricalRolesClassification-ITA-RhetRoles' target=\"_blank\">Weights & Biases</a> (<a href='https://wandb.me/run' target=\"_blank\">docs</a>)<br/>"
      ],
      "text/plain": [
       "<IPython.core.display.HTML object>"
      ]
     },
     "metadata": {},
     "output_type": "display_data"
    },
    {
     "data": {
      "text/html": [
       " View project at <a href='https://wandb.ai/gmarinowandb-8601/RhetoricalRolesClassification-ITA-RhetRoles' target=\"_blank\">https://wandb.ai/gmarinowandb-8601/RhetoricalRolesClassification-ITA-RhetRoles</a>"
      ],
      "text/plain": [
       "<IPython.core.display.HTML object>"
      ]
     },
     "metadata": {},
     "output_type": "display_data"
    },
    {
     "data": {
      "text/html": [
       " View run at <a href='https://wandb.ai/gmarinowandb-8601/RhetoricalRolesClassification-ITA-RhetRoles/runs/01r2xfjq' target=\"_blank\">https://wandb.ai/gmarinowandb-8601/RhetoricalRolesClassification-ITA-RhetRoles/runs/01r2xfjq</a>"
      ],
      "text/plain": [
       "<IPython.core.display.HTML object>"
      ]
     },
     "metadata": {},
     "output_type": "display_data"
    },
    {
     "name": "stdout",
     "output_type": "stream",
     "text": [
      "\n",
      "************** Training Started **************\n",
      "\n",
      "EPOCH N. 1\n"
     ]
    },
    {
     "name": "stderr",
     "output_type": "stream",
     "text": [
      "1045it [05:14,  3.32it/s]\n"
     ]
    },
    {
     "name": "stdout",
     "output_type": "stream",
     "text": [
      "\n",
      "TRAIN RESULTS\n",
      "Loss: 0.9790539951415723\n",
      "Accuracy: 0.6043198259130742\n",
      "MCC: 0.3407225883858148\n",
      "Macro F1: 0.46784789078379385\n",
      "Macro Precision: 0.5178239084909799\n",
      "Macro Recall: 0.4499703677018595\n",
      "Micro F1: 0.6043198259130742\n",
      "Micro Precision: 0.6043198259130742\n",
      "Micro Recall: 0.6043198259130742\n",
      "\n",
      "VALIDATION RESULTS\n",
      "Loss: 1.2859148979187012\n",
      "Accuracy: 0.6378378378378379\n",
      "MCC: 0.4325987088389269\n",
      "Macro F1: 0.5061710662427095\n",
      "Macro Precision: 0.6672118524608531\n",
      "Macro Recall: 0.553291286942371\n",
      "Micro F1: 0.6378378378378379\n",
      "Micro Precision: 0.6378378378378379\n",
      "Micro Recall: 0.6378378378378379\n",
      "--------------------------------------------------\n"
     ]
    },
    {
     "data": {
      "text/html": [
       "Waiting for W&B process to finish... <strong style=\"color:red\">(failed 1).</strong> Press Control-C to abort syncing."
      ],
      "text/plain": [
       "<IPython.core.display.HTML object>"
      ]
     },
     "metadata": {},
     "output_type": "display_data"
    },
    {
     "data": {
      "application/vnd.jupyter.widget-view+json": {
       "model_id": "d760cfc7eaf4475faf96e687ed710cef",
       "version_major": 2,
       "version_minor": 0
      },
      "text/plain": [
       "VBox(children=(Label(value='0.005 MB of 0.005 MB uploaded (0.000 MB deduped)\\r'), FloatProgress(value=1.0, max…"
      ]
     },
     "metadata": {},
     "output_type": "display_data"
    },
    {
     "data": {
      "text/html": [
       "<style>\n",
       "    table.wandb td:nth-child(1) { padding: 0 10px; text-align: left ; width: auto;} td:nth-child(2) {text-align: left ; width: 100%}\n",
       "    .wandb-row { display: flex; flex-direction: row; flex-wrap: wrap; justify-content: flex-start; width: 100% }\n",
       "    .wandb-col { display: flex; flex-direction: column; flex-basis: 100%; flex: 1; padding: 10px; }\n",
       "    </style>\n",
       "<div class=\"wandb-row\"><div class=\"wandb-col\"><h3>Run history:</h3><br/><table class=\"wandb\"><tr><td>Epoch</td><td>▁</td></tr><tr><td>Train Loss</td><td>▁</td></tr><tr><td>Validation Loss</td><td>▁</td></tr></table><br/></div><div class=\"wandb-col\"><h3>Run summary:</h3><br/><table class=\"wandb\"><tr><td>Epoch</td><td>1</td></tr><tr><td>Train Loss</td><td>0.97905</td></tr><tr><td>Validation Loss</td><td>1.28591</td></tr></table><br/></div></div>"
      ],
      "text/plain": [
       "<IPython.core.display.HTML object>"
      ]
     },
     "metadata": {},
     "output_type": "display_data"
    },
    {
     "data": {
      "text/html": [
       " View run <strong style=\"color:#cdcd00\">ToBERT-Trial9</strong> at: <a href='https://wandb.ai/gmarinowandb-8601/RhetoricalRolesClassification-ITA-RhetRoles/runs/01r2xfjq' target=\"_blank\">https://wandb.ai/gmarinowandb-8601/RhetoricalRolesClassification-ITA-RhetRoles/runs/01r2xfjq</a><br/>Synced 5 W&B file(s), 0 media file(s), 0 artifact file(s) and 0 other file(s)"
      ],
      "text/plain": [
       "<IPython.core.display.HTML object>"
      ]
     },
     "metadata": {},
     "output_type": "display_data"
    },
    {
     "data": {
      "text/html": [
       "Find logs at: <code>./wandb/run-20230425_211914-01r2xfjq/logs</code>"
      ],
      "text/plain": [
       "<IPython.core.display.HTML object>"
      ]
     },
     "metadata": {},
     "output_type": "display_data"
    },
    {
     "name": "stderr",
     "output_type": "stream",
     "text": [
      "\u001b[32m[I 2023-04-25 21:25:31,906]\u001b[0m Trial 9 pruned. \u001b[0m\n"
     ]
    },
    {
     "name": "stdout",
     "output_type": "stream",
     "text": [
      "\n",
      "************************ Starting New Optuna Trial ************************\n",
      "\n"
     ]
    },
    {
     "name": "stderr",
     "output_type": "stream",
     "text": [
      "Some weights of the model checkpoint at dlicari/Italian-Legal-BERT were not used when initializing BertForTokenClassification: ['cls.predictions.transform.LayerNorm.bias', 'cls.predictions.transform.dense.weight', 'cls.predictions.decoder.weight', 'cls.predictions.transform.dense.bias', 'cls.predictions.decoder.bias', 'cls.predictions.bias', 'cls.predictions.transform.LayerNorm.weight']\n",
      "- This IS expected if you are initializing BertForTokenClassification from the checkpoint of a model trained on another task or with another architecture (e.g. initializing a BertForSequenceClassification model from a BertForPreTraining model).\n",
      "- This IS NOT expected if you are initializing BertForTokenClassification from the checkpoint of a model that you expect to be exactly identical (initializing a BertForSequenceClassification model from a BertForSequenceClassification model).\n",
      "Some weights of BertForTokenClassification were not initialized from the model checkpoint at dlicari/Italian-Legal-BERT and are newly initialized: ['classifier.bias', 'classifier.weight']\n",
      "You should probably TRAIN this model on a down-stream task to be able to use it for predictions and inference.\n"
     ]
    },
    {
     "data": {
      "text/html": [
       "wandb version 0.15.0 is available!  To upgrade, please run:\n",
       " $ pip install wandb --upgrade"
      ],
      "text/plain": [
       "<IPython.core.display.HTML object>"
      ]
     },
     "metadata": {},
     "output_type": "display_data"
    },
    {
     "data": {
      "text/html": [
       "Tracking run with wandb version 0.13.10"
      ],
      "text/plain": [
       "<IPython.core.display.HTML object>"
      ]
     },
     "metadata": {},
     "output_type": "display_data"
    },
    {
     "data": {
      "text/html": [
       "Run data is saved locally in <code>/home/g.marino/Desktop/GA/RhetoricalRolesClassification/ITA-RhetRoles/wandb/run-20230425_212534-nfmwi4nd</code>"
      ],
      "text/plain": [
       "<IPython.core.display.HTML object>"
      ]
     },
     "metadata": {},
     "output_type": "display_data"
    },
    {
     "data": {
      "text/html": [
       "Syncing run <strong><a href='https://wandb.ai/gmarinowandb-8601/RhetoricalRolesClassification-ITA-RhetRoles/runs/nfmwi4nd' target=\"_blank\">ToBERT-Trial10</a></strong> to <a href='https://wandb.ai/gmarinowandb-8601/RhetoricalRolesClassification-ITA-RhetRoles' target=\"_blank\">Weights & Biases</a> (<a href='https://wandb.me/run' target=\"_blank\">docs</a>)<br/>"
      ],
      "text/plain": [
       "<IPython.core.display.HTML object>"
      ]
     },
     "metadata": {},
     "output_type": "display_data"
    },
    {
     "data": {
      "text/html": [
       " View project at <a href='https://wandb.ai/gmarinowandb-8601/RhetoricalRolesClassification-ITA-RhetRoles' target=\"_blank\">https://wandb.ai/gmarinowandb-8601/RhetoricalRolesClassification-ITA-RhetRoles</a>"
      ],
      "text/plain": [
       "<IPython.core.display.HTML object>"
      ]
     },
     "metadata": {},
     "output_type": "display_data"
    },
    {
     "data": {
      "text/html": [
       " View run at <a href='https://wandb.ai/gmarinowandb-8601/RhetoricalRolesClassification-ITA-RhetRoles/runs/nfmwi4nd' target=\"_blank\">https://wandb.ai/gmarinowandb-8601/RhetoricalRolesClassification-ITA-RhetRoles/runs/nfmwi4nd</a>"
      ],
      "text/plain": [
       "<IPython.core.display.HTML object>"
      ]
     },
     "metadata": {},
     "output_type": "display_data"
    },
    {
     "name": "stdout",
     "output_type": "stream",
     "text": [
      "\n",
      "************** Training Started **************\n",
      "\n",
      "EPOCH N. 1\n"
     ]
    },
    {
     "name": "stderr",
     "output_type": "stream",
     "text": [
      "1045it [05:06,  3.41it/s]\n"
     ]
    },
    {
     "name": "stdout",
     "output_type": "stream",
     "text": [
      "\n",
      "TRAIN RESULTS\n",
      "Loss: 0.36505347970966695\n",
      "Accuracy: 0.8594806798800212\n",
      "MCC: 0.779918210178197\n",
      "Macro F1: 0.8585997227795439\n",
      "Macro Precision: 0.8638280951921361\n",
      "Macro Recall: 0.8539400969785195\n",
      "Micro F1: 0.8594806798800212\n",
      "Micro Precision: 0.8594806798800212\n",
      "Micro Recall: 0.8594806798800212\n",
      "\n",
      "VALIDATION RESULTS\n",
      "Loss: 0.23503625392913818\n",
      "Accuracy: 0.9073804573804574\n",
      "MCC: 0.8591410987388299\n",
      "Macro F1: 0.9094939895550835\n",
      "Macro Precision: 0.908084067526798\n",
      "Macro Recall: 0.9137093958867821\n",
      "Micro F1: 0.9073804573804574\n",
      "Micro Precision: 0.9073804573804574\n",
      "Micro Recall: 0.9073804573804574\n",
      "--------------------------------------------------\n",
      "EPOCH N. 2\n"
     ]
    },
    {
     "name": "stderr",
     "output_type": "stream",
     "text": [
      "1045it [05:04,  3.43it/s]\n"
     ]
    },
    {
     "name": "stdout",
     "output_type": "stream",
     "text": [
      "\n",
      "TRAIN RESULTS\n",
      "Loss: 0.3689556783128699\n",
      "Accuracy: 0.8627889196024231\n",
      "MCC: 0.7867864359573893\n",
      "Macro F1: 0.8437086428732881\n",
      "Macro Precision: 0.8453352254877469\n",
      "Macro Recall: 0.8442843716875299\n",
      "Micro F1: 0.8627889196024231\n",
      "Micro Precision: 0.8627889196024231\n",
      "Micro Recall: 0.8627889196024231\n",
      "\n",
      "VALIDATION RESULTS\n",
      "Loss: 0.7761152982711792\n",
      "Accuracy: 0.6742203742203742\n",
      "MCC: 0.5287527767555745\n",
      "Macro F1: 0.629190684152445\n",
      "Macro Precision: 0.6608366389452062\n",
      "Macro Recall: 0.6504066755673902\n",
      "Micro F1: 0.6742203742203742\n",
      "Micro Precision: 0.6742203742203742\n",
      "Micro Recall: 0.6742203742203742\n",
      "--------------------------------------------------\n",
      "EPOCH N. 3\n"
     ]
    },
    {
     "name": "stderr",
     "output_type": "stream",
     "text": [
      "1045it [05:08,  3.38it/s]\n"
     ]
    },
    {
     "name": "stdout",
     "output_type": "stream",
     "text": [
      "\n",
      "TRAIN RESULTS\n",
      "Loss: 0.6948088266347584\n",
      "Accuracy: 0.7138152090807505\n",
      "MCC: 0.5510230525065667\n",
      "Macro F1: 0.6622684912507656\n",
      "Macro Precision: 0.6638296462706208\n",
      "Macro Recall: 0.6630629834123742\n",
      "Micro F1: 0.7138152090807505\n",
      "Micro Precision: 0.7138152090807505\n",
      "Micro Recall: 0.7138152090807505\n",
      "\n",
      "VALIDATION RESULTS\n",
      "Loss: 0.669889509677887\n",
      "Accuracy: 0.7132016632016632\n",
      "MCC: 0.5644830481881776\n",
      "Macro F1: 0.6816413360874238\n",
      "Macro Precision: 0.6677839120633923\n",
      "Macro Recall: 0.715643169171971\n",
      "Micro F1: 0.7132016632016632\n",
      "Micro Precision: 0.7132016632016632\n",
      "Micro Recall: 0.7132016632016632\n",
      "Early stopped training\n",
      "--------------------------------------------------\n"
     ]
    },
    {
     "data": {
      "text/html": [
       "Waiting for W&B process to finish... <strong style=\"color:green\">(success).</strong>"
      ],
      "text/plain": [
       "<IPython.core.display.HTML object>"
      ]
     },
     "metadata": {},
     "output_type": "display_data"
    },
    {
     "data": {
      "application/vnd.jupyter.widget-view+json": {
       "model_id": "20d07b65e7d7487aa2dfe112dc75a62c",
       "version_major": 2,
       "version_minor": 0
      },
      "text/plain": [
       "VBox(children=(Label(value='0.005 MB of 0.005 MB uploaded (0.000 MB deduped)\\r'), FloatProgress(value=1.0, max…"
      ]
     },
     "metadata": {},
     "output_type": "display_data"
    },
    {
     "data": {
      "text/html": [
       "<style>\n",
       "    table.wandb td:nth-child(1) { padding: 0 10px; text-align: left ; width: auto;} td:nth-child(2) {text-align: left ; width: 100%}\n",
       "    .wandb-row { display: flex; flex-direction: row; flex-wrap: wrap; justify-content: flex-start; width: 100% }\n",
       "    .wandb-col { display: flex; flex-direction: column; flex-basis: 100%; flex: 1; padding: 10px; }\n",
       "    </style>\n",
       "<div class=\"wandb-row\"><div class=\"wandb-col\"><h3>Run history:</h3><br/><table class=\"wandb\"><tr><td>Epoch</td><td>▁▅█</td></tr><tr><td>Train Loss</td><td>▁▁█</td></tr><tr><td>Validation Loss</td><td>▁█▇</td></tr></table><br/></div><div class=\"wandb-col\"><h3>Run summary:</h3><br/><table class=\"wandb\"><tr><td>Epoch</td><td>3</td></tr><tr><td>Train Loss</td><td>0.69481</td></tr><tr><td>Validation Loss</td><td>0.66989</td></tr></table><br/></div></div>"
      ],
      "text/plain": [
       "<IPython.core.display.HTML object>"
      ]
     },
     "metadata": {},
     "output_type": "display_data"
    },
    {
     "data": {
      "text/html": [
       " View run <strong style=\"color:#cdcd00\">ToBERT-Trial10</strong> at: <a href='https://wandb.ai/gmarinowandb-8601/RhetoricalRolesClassification-ITA-RhetRoles/runs/nfmwi4nd' target=\"_blank\">https://wandb.ai/gmarinowandb-8601/RhetoricalRolesClassification-ITA-RhetRoles/runs/nfmwi4nd</a><br/>Synced 5 W&B file(s), 0 media file(s), 0 artifact file(s) and 0 other file(s)"
      ],
      "text/plain": [
       "<IPython.core.display.HTML object>"
      ]
     },
     "metadata": {},
     "output_type": "display_data"
    },
    {
     "data": {
      "text/html": [
       "Find logs at: <code>./wandb/run-20230425_212534-nfmwi4nd/logs</code>"
      ],
      "text/plain": [
       "<IPython.core.display.HTML object>"
      ]
     },
     "metadata": {},
     "output_type": "display_data"
    },
    {
     "name": "stderr",
     "output_type": "stream",
     "text": [
      "\u001b[32m[I 2023-04-25 21:43:09,834]\u001b[0m Trial 10 finished with value: 0.23503625392913818 and parameters: {'lr': 0.00014425827366720476, 'weight_decay': 0.09758163541689843, 'embedding': 'rel', 'transformer_dropout': 0.10964893195076525, 'transformer_dim_feedforward': 648}. Best is trial 3 with value: 0.08361773192882538.\u001b[0m\n"
     ]
    },
    {
     "name": "stdout",
     "output_type": "stream",
     "text": [
      "\n",
      "************************ Starting New Optuna Trial ************************\n",
      "\n"
     ]
    },
    {
     "name": "stderr",
     "output_type": "stream",
     "text": [
      "Some weights of the model checkpoint at dlicari/Italian-Legal-BERT were not used when initializing BertForTokenClassification: ['cls.predictions.transform.LayerNorm.bias', 'cls.predictions.transform.dense.weight', 'cls.predictions.decoder.weight', 'cls.predictions.transform.dense.bias', 'cls.predictions.decoder.bias', 'cls.predictions.bias', 'cls.predictions.transform.LayerNorm.weight']\n",
      "- This IS expected if you are initializing BertForTokenClassification from the checkpoint of a model trained on another task or with another architecture (e.g. initializing a BertForSequenceClassification model from a BertForPreTraining model).\n",
      "- This IS NOT expected if you are initializing BertForTokenClassification from the checkpoint of a model that you expect to be exactly identical (initializing a BertForSequenceClassification model from a BertForSequenceClassification model).\n",
      "Some weights of BertForTokenClassification were not initialized from the model checkpoint at dlicari/Italian-Legal-BERT and are newly initialized: ['classifier.bias', 'classifier.weight']\n",
      "You should probably TRAIN this model on a down-stream task to be able to use it for predictions and inference.\n"
     ]
    },
    {
     "data": {
      "text/html": [
       "wandb version 0.15.0 is available!  To upgrade, please run:\n",
       " $ pip install wandb --upgrade"
      ],
      "text/plain": [
       "<IPython.core.display.HTML object>"
      ]
     },
     "metadata": {},
     "output_type": "display_data"
    },
    {
     "data": {
      "text/html": [
       "Tracking run with wandb version 0.13.10"
      ],
      "text/plain": [
       "<IPython.core.display.HTML object>"
      ]
     },
     "metadata": {},
     "output_type": "display_data"
    },
    {
     "data": {
      "text/html": [
       "Run data is saved locally in <code>/home/g.marino/Desktop/GA/RhetoricalRolesClassification/ITA-RhetRoles/wandb/run-20230425_214311-3uahi8kv</code>"
      ],
      "text/plain": [
       "<IPython.core.display.HTML object>"
      ]
     },
     "metadata": {},
     "output_type": "display_data"
    },
    {
     "data": {
      "text/html": [
       "Syncing run <strong><a href='https://wandb.ai/gmarinowandb-8601/RhetoricalRolesClassification-ITA-RhetRoles/runs/3uahi8kv' target=\"_blank\">ToBERT-Trial11</a></strong> to <a href='https://wandb.ai/gmarinowandb-8601/RhetoricalRolesClassification-ITA-RhetRoles' target=\"_blank\">Weights & Biases</a> (<a href='https://wandb.me/run' target=\"_blank\">docs</a>)<br/>"
      ],
      "text/plain": [
       "<IPython.core.display.HTML object>"
      ]
     },
     "metadata": {},
     "output_type": "display_data"
    },
    {
     "data": {
      "text/html": [
       " View project at <a href='https://wandb.ai/gmarinowandb-8601/RhetoricalRolesClassification-ITA-RhetRoles' target=\"_blank\">https://wandb.ai/gmarinowandb-8601/RhetoricalRolesClassification-ITA-RhetRoles</a>"
      ],
      "text/plain": [
       "<IPython.core.display.HTML object>"
      ]
     },
     "metadata": {},
     "output_type": "display_data"
    },
    {
     "data": {
      "text/html": [
       " View run at <a href='https://wandb.ai/gmarinowandb-8601/RhetoricalRolesClassification-ITA-RhetRoles/runs/3uahi8kv' target=\"_blank\">https://wandb.ai/gmarinowandb-8601/RhetoricalRolesClassification-ITA-RhetRoles/runs/3uahi8kv</a>"
      ],
      "text/plain": [
       "<IPython.core.display.HTML object>"
      ]
     },
     "metadata": {},
     "output_type": "display_data"
    },
    {
     "name": "stdout",
     "output_type": "stream",
     "text": [
      "\n",
      "************** Training Started **************\n",
      "\n",
      "EPOCH N. 1\n"
     ]
    },
    {
     "name": "stderr",
     "output_type": "stream",
     "text": [
      "1045it [05:01,  3.47it/s]\n"
     ]
    },
    {
     "name": "stdout",
     "output_type": "stream",
     "text": [
      "\n",
      "TRAIN RESULTS\n",
      "Loss: 0.36917228096801985\n",
      "Accuracy: 0.8519525966005999\n",
      "MCC: 0.767927710142815\n",
      "Macro F1: 0.8542298023831967\n",
      "Macro Precision: 0.8629830732084833\n",
      "Macro Recall: 0.8462232693237569\n",
      "Micro F1: 0.8519525966005999\n",
      "Micro Precision: 0.8519525966005999\n",
      "Micro Recall: 0.8519525966005999\n",
      "\n",
      "VALIDATION RESULTS\n",
      "Loss: 0.220254585146904\n",
      "Accuracy: 0.9062370062370062\n",
      "MCC: 0.8587792729920921\n",
      "Macro F1: 0.9131797228679851\n",
      "Macro Precision: 0.9379097600793538\n",
      "Macro Recall: 0.9007536588918438\n",
      "Micro F1: 0.9062370062370062\n",
      "Micro Precision: 0.9062370062370062\n",
      "Micro Recall: 0.9062370062370062\n",
      "--------------------------------------------------\n",
      "EPOCH N. 2\n"
     ]
    },
    {
     "name": "stderr",
     "output_type": "stream",
     "text": [
      "1045it [05:03,  3.44it/s]\n"
     ]
    },
    {
     "name": "stdout",
     "output_type": "stream",
     "text": [
      "\n",
      "TRAIN RESULTS\n",
      "Loss: 0.18817409566552357\n",
      "Accuracy: 0.9327765688407929\n",
      "MCC: 0.8951603563823319\n",
      "Macro F1: 0.935190000854473\n",
      "Macro Precision: 0.9384661252965909\n",
      "Macro Recall: 0.9320417633458868\n",
      "Micro F1: 0.9327765688407929\n",
      "Micro Precision: 0.9327765688407929\n",
      "Micro Recall: 0.9327765688407929\n",
      "\n",
      "VALIDATION RESULTS\n",
      "Loss: 0.16480617225170135\n",
      "Accuracy: 0.9305613305613306\n",
      "MCC: 0.896448620426089\n",
      "Macro F1: 0.9354846704300191\n",
      "Macro Precision: 0.9378342684519584\n",
      "Macro Recall: 0.9360319312574756\n",
      "Micro F1: 0.9305613305613306\n",
      "Micro Precision: 0.9305613305613306\n",
      "Micro Recall: 0.9305613305613306\n",
      "--------------------------------------------------\n",
      "EPOCH N. 3\n"
     ]
    },
    {
     "name": "stderr",
     "output_type": "stream",
     "text": [
      "1045it [05:06,  3.41it/s]\n"
     ]
    },
    {
     "name": "stdout",
     "output_type": "stream",
     "text": [
      "\n",
      "TRAIN RESULTS\n",
      "Loss: 0.13282314917327764\n",
      "Accuracy: 0.9577574545668411\n",
      "MCC: 0.934176308630995\n",
      "Macro F1: 0.9559273012683098\n",
      "Macro Precision: 0.9590015777879412\n",
      "Macro Recall: 0.9529241377758669\n",
      "Micro F1: 0.9577574545668411\n",
      "Micro Precision: 0.9577574545668411\n",
      "Micro Recall: 0.9577574545668411\n",
      "\n",
      "VALIDATION RESULTS\n",
      "Loss: 0.1025785580277443\n",
      "Accuracy: 0.9617463617463617\n",
      "MCC: 0.9413602467794652\n",
      "Macro F1: 0.957739402033913\n",
      "Macro Precision: 0.9578328979093305\n",
      "Macro Recall: 0.9576608702414843\n",
      "Micro F1: 0.9617463617463617\n",
      "Micro Precision: 0.9617463617463617\n",
      "Micro Recall: 0.9617463617463617\n",
      "--------------------------------------------------\n",
      "EPOCH N. 4\n"
     ]
    },
    {
     "name": "stderr",
     "output_type": "stream",
     "text": [
      "1045it [05:04,  3.43it/s]\n"
     ]
    },
    {
     "name": "stdout",
     "output_type": "stream",
     "text": [
      "\n",
      "TRAIN RESULTS\n",
      "Loss: 0.10177890977896883\n",
      "Accuracy: 0.96990237016997\n",
      "MCC: 0.9531128062799792\n",
      "Macro F1: 0.9694089304967092\n",
      "Macro Precision: 0.9725922383136332\n",
      "Macro Recall: 0.9663102839055366\n",
      "Micro F1: 0.96990237016997\n",
      "Micro Precision: 0.96990237016997\n",
      "Micro Recall: 0.96990237016997\n",
      "\n",
      "VALIDATION RESULTS\n",
      "Loss: 0.11459698528051376\n",
      "Accuracy: 0.9627858627858628\n",
      "MCC: 0.9435261725374722\n",
      "Macro F1: 0.9614147411473034\n",
      "Macro Precision: 0.9601639102064844\n",
      "Macro Recall: 0.9635786797155236\n",
      "Micro F1: 0.9627858627858628\n",
      "Micro Precision: 0.9627858627858628\n",
      "Micro Recall: 0.9627858627858628\n",
      "--------------------------------------------------\n",
      "EPOCH N. 5\n"
     ]
    },
    {
     "name": "stderr",
     "output_type": "stream",
     "text": [
      "1045it [05:05,  3.42it/s]\n"
     ]
    },
    {
     "name": "stdout",
     "output_type": "stream",
     "text": [
      "\n",
      "TRAIN RESULTS\n",
      "Loss: 0.08484650935930908\n",
      "Accuracy: 0.9755043227665706\n",
      "MCC: 0.9618604539072371\n",
      "Macro F1: 0.9759937782365039\n",
      "Macro Precision: 0.9783826482910557\n",
      "Macro Recall: 0.973651152036175\n",
      "Micro F1: 0.9755043227665706\n",
      "Micro Precision: 0.9755043227665706\n",
      "Micro Recall: 0.9755043227665706\n",
      "\n",
      "VALIDATION RESULTS\n",
      "Loss: 0.09194853156805038\n",
      "Accuracy: 0.9650727650727651\n",
      "MCC: 0.9467623915627147\n",
      "Macro F1: 0.9641094144980276\n",
      "Macro Precision: 0.9647653284372829\n",
      "Macro Recall: 0.9638990813843685\n",
      "Micro F1: 0.9650727650727651\n",
      "Micro Precision: 0.9650727650727651\n",
      "Micro Recall: 0.9650727650727651\n",
      "--------------------------------------------------\n",
      "EPOCH N. 6\n"
     ]
    },
    {
     "name": "stderr",
     "output_type": "stream",
     "text": [
      "1045it [05:01,  3.47it/s]\n"
     ]
    },
    {
     "name": "stdout",
     "output_type": "stream",
     "text": [
      "\n",
      "TRAIN RESULTS\n",
      "Loss: 0.07261968911463912\n",
      "Accuracy: 0.9790331118037994\n",
      "MCC: 0.9673652798412858\n",
      "Macro F1: 0.9787315594074222\n",
      "Macro Precision: 0.9807839411480155\n",
      "Macro Recall: 0.9767188840887673\n",
      "Micro F1: 0.9790331118037994\n",
      "Micro Precision: 0.9790331118037994\n",
      "Micro Recall: 0.9790331118037994\n",
      "\n",
      "VALIDATION RESULTS\n",
      "Loss: 0.09971097856760025\n",
      "Accuracy: 0.9691268191268191\n",
      "MCC: 0.952970811091669\n",
      "Macro F1: 0.9667741081147827\n",
      "Macro Precision: 0.9658679876845119\n",
      "Macro Recall: 0.9680197768002639\n",
      "Micro F1: 0.9691268191268191\n",
      "Micro Precision: 0.9691268191268191\n",
      "Micro Recall: 0.9691268191268191\n",
      "--------------------------------------------------\n",
      "EPOCH N. 7\n"
     ]
    },
    {
     "name": "stderr",
     "output_type": "stream",
     "text": [
      "1045it [05:05,  3.42it/s]\n"
     ]
    },
    {
     "name": "stdout",
     "output_type": "stream",
     "text": [
      "\n",
      "TRAIN RESULTS\n",
      "Loss: 0.06130643321910559\n",
      "Accuracy: 0.9825766041286832\n",
      "MCC: 0.9728870872034541\n",
      "Macro F1: 0.98225563096963\n",
      "Macro Precision: 0.9838920858074369\n",
      "Macro Recall: 0.9806530816894499\n",
      "Micro F1: 0.9825766041286832\n",
      "Micro Precision: 0.9825766041286832\n",
      "Micro Recall: 0.9825766041286832\n",
      "\n",
      "VALIDATION RESULTS\n",
      "Loss: 0.09827534854412079\n",
      "Accuracy: 0.9738045738045739\n",
      "MCC: 0.9598213647858758\n",
      "Macro F1: 0.9698673976475322\n",
      "Macro Precision: 0.9739323684668003\n",
      "Macro Recall: 0.9663385268991368\n",
      "Micro F1: 0.9738045738045739\n",
      "Micro Precision: 0.9738045738045739\n",
      "Micro Recall: 0.9738045738045739\n",
      "Early stopped training\n",
      "--------------------------------------------------\n"
     ]
    },
    {
     "data": {
      "text/html": [
       "Waiting for W&B process to finish... <strong style=\"color:green\">(success).</strong>"
      ],
      "text/plain": [
       "<IPython.core.display.HTML object>"
      ]
     },
     "metadata": {},
     "output_type": "display_data"
    },
    {
     "data": {
      "application/vnd.jupyter.widget-view+json": {
       "model_id": "5a85234f12a74857b706968dabfcff9b",
       "version_major": 2,
       "version_minor": 0
      },
      "text/plain": [
       "VBox(children=(Label(value='0.005 MB of 0.005 MB uploaded (0.000 MB deduped)\\r'), FloatProgress(value=1.0, max…"
      ]
     },
     "metadata": {},
     "output_type": "display_data"
    },
    {
     "data": {
      "text/html": [
       "<style>\n",
       "    table.wandb td:nth-child(1) { padding: 0 10px; text-align: left ; width: auto;} td:nth-child(2) {text-align: left ; width: 100%}\n",
       "    .wandb-row { display: flex; flex-direction: row; flex-wrap: wrap; justify-content: flex-start; width: 100% }\n",
       "    .wandb-col { display: flex; flex-direction: column; flex-basis: 100%; flex: 1; padding: 10px; }\n",
       "    </style>\n",
       "<div class=\"wandb-row\"><div class=\"wandb-col\"><h3>Run history:</h3><br/><table class=\"wandb\"><tr><td>Epoch</td><td>▁▂▃▅▆▇█</td></tr><tr><td>Train Loss</td><td>█▄▃▂▂▁▁</td></tr><tr><td>Validation Loss</td><td>█▅▂▂▁▁▁</td></tr></table><br/></div><div class=\"wandb-col\"><h3>Run summary:</h3><br/><table class=\"wandb\"><tr><td>Epoch</td><td>7</td></tr><tr><td>Train Loss</td><td>0.06131</td></tr><tr><td>Validation Loss</td><td>0.09828</td></tr></table><br/></div></div>"
      ],
      "text/plain": [
       "<IPython.core.display.HTML object>"
      ]
     },
     "metadata": {},
     "output_type": "display_data"
    },
    {
     "data": {
      "text/html": [
       " View run <strong style=\"color:#cdcd00\">ToBERT-Trial11</strong> at: <a href='https://wandb.ai/gmarinowandb-8601/RhetoricalRolesClassification-ITA-RhetRoles/runs/3uahi8kv' target=\"_blank\">https://wandb.ai/gmarinowandb-8601/RhetoricalRolesClassification-ITA-RhetRoles/runs/3uahi8kv</a><br/>Synced 5 W&B file(s), 0 media file(s), 0 artifact file(s) and 0 other file(s)"
      ],
      "text/plain": [
       "<IPython.core.display.HTML object>"
      ]
     },
     "metadata": {},
     "output_type": "display_data"
    },
    {
     "data": {
      "text/html": [
       "Find logs at: <code>./wandb/run-20230425_214311-3uahi8kv/logs</code>"
      ],
      "text/plain": [
       "<IPython.core.display.HTML object>"
      ]
     },
     "metadata": {},
     "output_type": "display_data"
    },
    {
     "name": "stderr",
     "output_type": "stream",
     "text": [
      "\u001b[32m[I 2023-04-25 22:23:44,239]\u001b[0m Trial 11 finished with value: 0.09194853156805038 and parameters: {'lr': 9.801005675103914e-05, 'weight_decay': 0.07846625743470506, 'embedding': 'rel', 'transformer_dropout': 0.2582011886556792, 'transformer_dim_feedforward': 56}. Best is trial 3 with value: 0.08361773192882538.\u001b[0m\n"
     ]
    },
    {
     "name": "stdout",
     "output_type": "stream",
     "text": [
      "\n",
      "************************ Starting New Optuna Trial ************************\n",
      "\n"
     ]
    },
    {
     "name": "stderr",
     "output_type": "stream",
     "text": [
      "Some weights of the model checkpoint at dlicari/Italian-Legal-BERT were not used when initializing BertForTokenClassification: ['cls.predictions.transform.LayerNorm.bias', 'cls.predictions.transform.dense.weight', 'cls.predictions.decoder.weight', 'cls.predictions.transform.dense.bias', 'cls.predictions.decoder.bias', 'cls.predictions.bias', 'cls.predictions.transform.LayerNorm.weight']\n",
      "- This IS expected if you are initializing BertForTokenClassification from the checkpoint of a model trained on another task or with another architecture (e.g. initializing a BertForSequenceClassification model from a BertForPreTraining model).\n",
      "- This IS NOT expected if you are initializing BertForTokenClassification from the checkpoint of a model that you expect to be exactly identical (initializing a BertForSequenceClassification model from a BertForSequenceClassification model).\n",
      "Some weights of BertForTokenClassification were not initialized from the model checkpoint at dlicari/Italian-Legal-BERT and are newly initialized: ['classifier.bias', 'classifier.weight']\n",
      "You should probably TRAIN this model on a down-stream task to be able to use it for predictions and inference.\n"
     ]
    },
    {
     "data": {
      "text/html": [
       "wandb version 0.15.0 is available!  To upgrade, please run:\n",
       " $ pip install wandb --upgrade"
      ],
      "text/plain": [
       "<IPython.core.display.HTML object>"
      ]
     },
     "metadata": {},
     "output_type": "display_data"
    },
    {
     "data": {
      "text/html": [
       "Tracking run with wandb version 0.13.10"
      ],
      "text/plain": [
       "<IPython.core.display.HTML object>"
      ]
     },
     "metadata": {},
     "output_type": "display_data"
    },
    {
     "data": {
      "text/html": [
       "Run data is saved locally in <code>/home/g.marino/Desktop/GA/RhetoricalRolesClassification/ITA-RhetRoles/wandb/run-20230425_222345-iih1cwsq</code>"
      ],
      "text/plain": [
       "<IPython.core.display.HTML object>"
      ]
     },
     "metadata": {},
     "output_type": "display_data"
    },
    {
     "data": {
      "text/html": [
       "Syncing run <strong><a href='https://wandb.ai/gmarinowandb-8601/RhetoricalRolesClassification-ITA-RhetRoles/runs/iih1cwsq' target=\"_blank\">ToBERT-Trial12</a></strong> to <a href='https://wandb.ai/gmarinowandb-8601/RhetoricalRolesClassification-ITA-RhetRoles' target=\"_blank\">Weights & Biases</a> (<a href='https://wandb.me/run' target=\"_blank\">docs</a>)<br/>"
      ],
      "text/plain": [
       "<IPython.core.display.HTML object>"
      ]
     },
     "metadata": {},
     "output_type": "display_data"
    },
    {
     "data": {
      "text/html": [
       " View project at <a href='https://wandb.ai/gmarinowandb-8601/RhetoricalRolesClassification-ITA-RhetRoles' target=\"_blank\">https://wandb.ai/gmarinowandb-8601/RhetoricalRolesClassification-ITA-RhetRoles</a>"
      ],
      "text/plain": [
       "<IPython.core.display.HTML object>"
      ]
     },
     "metadata": {},
     "output_type": "display_data"
    },
    {
     "data": {
      "text/html": [
       " View run at <a href='https://wandb.ai/gmarinowandb-8601/RhetoricalRolesClassification-ITA-RhetRoles/runs/iih1cwsq' target=\"_blank\">https://wandb.ai/gmarinowandb-8601/RhetoricalRolesClassification-ITA-RhetRoles/runs/iih1cwsq</a>"
      ],
      "text/plain": [
       "<IPython.core.display.HTML object>"
      ]
     },
     "metadata": {},
     "output_type": "display_data"
    },
    {
     "name": "stdout",
     "output_type": "stream",
     "text": [
      "\n",
      "************** Training Started **************\n",
      "\n",
      "EPOCH N. 1\n"
     ]
    },
    {
     "name": "stderr",
     "output_type": "stream",
     "text": [
      "1045it [05:08,  3.39it/s]\n"
     ]
    },
    {
     "name": "stdout",
     "output_type": "stream",
     "text": [
      "\n",
      "TRAIN RESULTS\n",
      "Loss: 0.35003306245850174\n",
      "Accuracy: 0.8655678409692408\n",
      "MCC: 0.78888265872895\n",
      "Macro F1: 0.8681249437688632\n",
      "Macro Precision: 0.8783620858160249\n",
      "Macro Recall: 0.8589455259624545\n",
      "Micro F1: 0.8655678409692408\n",
      "Micro Precision: 0.8655678409692408\n",
      "Micro Recall: 0.8655678409692408\n",
      "\n",
      "VALIDATION RESULTS\n",
      "Loss: 0.20103304088115692\n",
      "Accuracy: 0.9159043659043659\n",
      "MCC: 0.8705954958150715\n",
      "Macro F1: 0.9219119129919957\n",
      "Macro Precision: 0.9307154356456062\n",
      "Macro Recall: 0.91392776508599\n",
      "Micro F1: 0.9159043659043659\n",
      "Micro Precision: 0.9159043659043659\n",
      "Micro Recall: 0.9159043659043659\n",
      "--------------------------------------------------\n",
      "EPOCH N. 2\n"
     ]
    },
    {
     "name": "stderr",
     "output_type": "stream",
     "text": [
      "1045it [05:08,  3.39it/s]\n"
     ]
    },
    {
     "name": "stdout",
     "output_type": "stream",
     "text": [
      "\n",
      "TRAIN RESULTS\n",
      "Loss: 0.18559037511544435\n",
      "Accuracy: 0.9359524789742987\n",
      "MCC: 0.9001507097641493\n",
      "Macro F1: 0.9373174452608802\n",
      "Macro Precision: 0.9401912612329879\n",
      "Macro Recall: 0.9345353461937126\n",
      "Micro F1: 0.9359524789742987\n",
      "Micro Precision: 0.9359524789742987\n",
      "Micro Recall: 0.9359524789742987\n",
      "\n",
      "VALIDATION RESULTS\n",
      "Loss: 0.13329394161701202\n",
      "Accuracy: 0.9497920997920998\n",
      "MCC: 0.924295466501245\n",
      "Macro F1: 0.947623633877086\n",
      "Macro Precision: 0.9416276358240563\n",
      "Macro Recall: 0.9543850923413869\n",
      "Micro F1: 0.9497920997920998\n",
      "Micro Precision: 0.9497920997920998\n",
      "Micro Recall: 0.9497920997920998\n",
      "--------------------------------------------------\n",
      "EPOCH N. 3\n"
     ]
    },
    {
     "name": "stderr",
     "output_type": "stream",
     "text": [
      "1045it [05:07,  3.39it/s]\n"
     ]
    },
    {
     "name": "stdout",
     "output_type": "stream",
     "text": [
      "\n",
      "TRAIN RESULTS\n",
      "Loss: 0.13265214253208069\n",
      "Accuracy: 0.9571399164853261\n",
      "MCC: 0.9331850914039407\n",
      "Macro F1: 0.9560982454875482\n",
      "Macro Precision: 0.9598368991624276\n",
      "Macro Recall: 0.9525119877214252\n",
      "Micro F1: 0.9571399164853261\n",
      "Micro Precision: 0.9571399164853261\n",
      "Micro Recall: 0.9571399164853261\n",
      "\n",
      "VALIDATION RESULTS\n",
      "Loss: 0.119014672935009\n",
      "Accuracy: 0.9568607068607069\n",
      "MCC: 0.9343462927523035\n",
      "Macro F1: 0.9488734069375683\n",
      "Macro Precision: 0.9441747370391793\n",
      "Macro Recall: 0.9545666165271574\n",
      "Micro F1: 0.9568607068607069\n",
      "Micro Precision: 0.9568607068607069\n",
      "Micro Recall: 0.9568607068607069\n",
      "--------------------------------------------------\n",
      "EPOCH N. 4\n"
     ]
    },
    {
     "name": "stderr",
     "output_type": "stream",
     "text": [
      "1045it [05:09,  3.37it/s]\n"
     ]
    },
    {
     "name": "stdout",
     "output_type": "stream",
     "text": [
      "\n",
      "TRAIN RESULTS\n",
      "Loss: 0.10845681071458563\n",
      "Accuracy: 0.9656237134623302\n",
      "MCC: 0.9464456987602646\n",
      "Macro F1: 0.9662515681035216\n",
      "Macro Precision: 0.9693201828450174\n",
      "Macro Recall: 0.9632765134964908\n",
      "Micro F1: 0.9656237134623302\n",
      "Micro Precision: 0.9656237134623302\n",
      "Micro Recall: 0.9656237134623302\n",
      "\n",
      "VALIDATION RESULTS\n",
      "Loss: 0.11064323037862778\n",
      "Accuracy: 0.9613305613305614\n",
      "MCC: 0.9404677085527775\n",
      "Macro F1: 0.9586249279229102\n",
      "Macro Precision: 0.9657447195279328\n",
      "Macro Recall: 0.9519585701683292\n",
      "Micro F1: 0.9613305613305614\n",
      "Micro Precision: 0.9613305613305614\n",
      "Micro Recall: 0.9613305613305614\n",
      "--------------------------------------------------\n",
      "EPOCH N. 5\n"
     ]
    },
    {
     "name": "stderr",
     "output_type": "stream",
     "text": [
      "1045it [05:07,  3.39it/s]\n"
     ]
    },
    {
     "name": "stdout",
     "output_type": "stream",
     "text": [
      "\n",
      "TRAIN RESULTS\n",
      "Loss: 0.09246837426248256\n",
      "Accuracy: 0.9707992707169323\n",
      "MCC: 0.9545217001861355\n",
      "Macro F1: 0.9701183679315794\n",
      "Macro Precision: 0.9727119258072113\n",
      "Macro Recall: 0.9675871725146775\n",
      "Micro F1: 0.9707992707169323\n",
      "Micro Precision: 0.9707992707169323\n",
      "Micro Recall: 0.9707992707169323\n",
      "\n",
      "VALIDATION RESULTS\n",
      "Loss: 0.09103527665138245\n",
      "Accuracy: 0.9719334719334719\n",
      "MCC: 0.956813311949276\n",
      "Macro F1: 0.968440992972473\n",
      "Macro Precision: 0.9770752507337184\n",
      "Macro Recall: 0.9605579018207401\n",
      "Micro F1: 0.971933471933472\n",
      "Micro Precision: 0.9719334719334719\n",
      "Micro Recall: 0.9719334719334719\n",
      "--------------------------------------------------\n",
      "EPOCH N. 6\n"
     ]
    },
    {
     "name": "stderr",
     "output_type": "stream",
     "text": [
      "1045it [05:08,  3.38it/s]\n"
     ]
    },
    {
     "name": "stdout",
     "output_type": "stream",
     "text": [
      "\n",
      "TRAIN RESULTS\n",
      "Loss: 0.07981908709720405\n",
      "Accuracy: 0.9761806739987061\n",
      "MCC: 0.9629163365710681\n",
      "Macro F1: 0.9752102607556935\n",
      "Macro Precision: 0.9775188795591319\n",
      "Macro Recall: 0.9729575274013408\n",
      "Micro F1: 0.9761806739987061\n",
      "Micro Precision: 0.9761806739987061\n",
      "Micro Recall: 0.9761806739987061\n",
      "\n",
      "VALIDATION RESULTS\n",
      "Loss: 0.08573687076568604\n",
      "Accuracy: 0.9716216216216216\n",
      "MCC: 0.956353206562811\n",
      "Macro F1: 0.9665812924993317\n",
      "Macro Precision: 0.9731024567090325\n",
      "Macro Recall: 0.9605882133988508\n",
      "Micro F1: 0.9716216216216216\n",
      "Micro Precision: 0.9716216216216216\n",
      "Micro Recall: 0.9716216216216216\n",
      "--------------------------------------------------\n",
      "EPOCH N. 7\n"
     ]
    },
    {
     "name": "stderr",
     "output_type": "stream",
     "text": [
      "1045it [05:09,  3.38it/s]\n"
     ]
    },
    {
     "name": "stdout",
     "output_type": "stream",
     "text": [
      "\n",
      "TRAIN RESULTS\n",
      "Loss: 0.06853374759569145\n",
      "Accuracy: 0.9780185849555961\n",
      "MCC: 0.9657862877970367\n",
      "Macro F1: 0.9765060934885568\n",
      "Macro Precision: 0.9783386428660743\n",
      "Macro Recall: 0.9747068131290331\n",
      "Micro F1: 0.9780185849555961\n",
      "Micro Precision: 0.9780185849555961\n",
      "Micro Recall: 0.9780185849555961\n",
      "\n",
      "VALIDATION RESULTS\n",
      "Loss: 0.08543562889099121\n",
      "Accuracy: 0.9738045738045739\n",
      "MCC: 0.9597898543209088\n",
      "Macro F1: 0.967051030592275\n",
      "Macro Precision: 0.9670438906289169\n",
      "Macro Recall: 0.9671546383387332\n",
      "Micro F1: 0.9738045738045739\n",
      "Micro Precision: 0.9738045738045739\n",
      "Micro Recall: 0.9738045738045739\n",
      "--------------------------------------------------\n",
      "EPOCH N. 8\n"
     ]
    },
    {
     "name": "stderr",
     "output_type": "stream",
     "text": [
      "1045it [05:06,  3.41it/s]\n"
     ]
    },
    {
     "name": "stdout",
     "output_type": "stream",
     "text": [
      "\n",
      "TRAIN RESULTS\n",
      "Loss: 0.10740469700012648\n",
      "Accuracy: 0.970152326060107\n",
      "MCC: 0.9535810331536552\n",
      "Macro F1: 0.9651609296994546\n",
      "Macro Precision: 0.9682630179406034\n",
      "Macro Recall: 0.9624235079974245\n",
      "Micro F1: 0.970152326060107\n",
      "Micro Precision: 0.970152326060107\n",
      "Micro Recall: 0.970152326060107\n",
      "\n",
      "VALIDATION RESULTS\n",
      "Loss: 0.5993481278419495\n",
      "Accuracy: 0.8448024948024948\n",
      "MCC: 0.7595900547860724\n",
      "Macro F1: 0.7868687965772146\n",
      "Macro Precision: 0.816286656705864\n",
      "Macro Recall: 0.7725871477419836\n",
      "Micro F1: 0.8448024948024948\n",
      "Micro Precision: 0.8448024948024948\n",
      "Micro Recall: 0.8448024948024948\n",
      "--------------------------------------------------\n",
      "EPOCH N. 9\n"
     ]
    },
    {
     "name": "stderr",
     "output_type": "stream",
     "text": [
      "1045it [05:06,  3.41it/s]\n"
     ]
    },
    {
     "name": "stdout",
     "output_type": "stream",
     "text": [
      "\n",
      "TRAIN RESULTS\n",
      "Loss: 0.718978107788346\n",
      "Accuracy: 0.7053020055284361\n",
      "MCC: 0.5374562943488392\n",
      "Macro F1: 0.6541716583097023\n",
      "Macro Precision: 0.659752467241519\n",
      "Macro Recall: 0.6525664645248286\n",
      "Micro F1: 0.7053020055284361\n",
      "Micro Precision: 0.7053020055284361\n",
      "Micro Recall: 0.7053020055284361\n",
      "\n",
      "VALIDATION RESULTS\n",
      "Loss: 0.6695833206176758\n",
      "Accuracy: 0.722037422037422\n",
      "MCC: 0.561602346594974\n",
      "Macro F1: 0.6691388878932384\n",
      "Macro Precision: 0.7330207955446528\n",
      "Macro Recall: 0.637101226156007\n",
      "Micro F1: 0.722037422037422\n",
      "Micro Precision: 0.722037422037422\n",
      "Micro Recall: 0.722037422037422\n",
      "Early stopped training\n",
      "--------------------------------------------------\n"
     ]
    },
    {
     "data": {
      "text/html": [
       "Waiting for W&B process to finish... <strong style=\"color:green\">(success).</strong>"
      ],
      "text/plain": [
       "<IPython.core.display.HTML object>"
      ]
     },
     "metadata": {},
     "output_type": "display_data"
    },
    {
     "data": {
      "application/vnd.jupyter.widget-view+json": {
       "model_id": "a9c1b4572b4b43899fe0a82348a3f0a6",
       "version_major": 2,
       "version_minor": 0
      },
      "text/plain": [
       "VBox(children=(Label(value='0.005 MB of 0.005 MB uploaded (0.000 MB deduped)\\r'), FloatProgress(value=1.0, max…"
      ]
     },
     "metadata": {},
     "output_type": "display_data"
    },
    {
     "data": {
      "text/html": [
       "<style>\n",
       "    table.wandb td:nth-child(1) { padding: 0 10px; text-align: left ; width: auto;} td:nth-child(2) {text-align: left ; width: 100%}\n",
       "    .wandb-row { display: flex; flex-direction: row; flex-wrap: wrap; justify-content: flex-start; width: 100% }\n",
       "    .wandb-col { display: flex; flex-direction: column; flex-basis: 100%; flex: 1; padding: 10px; }\n",
       "    </style>\n",
       "<div class=\"wandb-row\"><div class=\"wandb-col\"><h3>Run history:</h3><br/><table class=\"wandb\"><tr><td>Epoch</td><td>▁▂▃▄▅▅▆▇█</td></tr><tr><td>Train Loss</td><td>▄▂▂▁▁▁▁▁█</td></tr><tr><td>Validation Loss</td><td>▂▂▁▁▁▁▁▇█</td></tr></table><br/></div><div class=\"wandb-col\"><h3>Run summary:</h3><br/><table class=\"wandb\"><tr><td>Epoch</td><td>9</td></tr><tr><td>Train Loss</td><td>0.71898</td></tr><tr><td>Validation Loss</td><td>0.66958</td></tr></table><br/></div></div>"
      ],
      "text/plain": [
       "<IPython.core.display.HTML object>"
      ]
     },
     "metadata": {},
     "output_type": "display_data"
    },
    {
     "data": {
      "text/html": [
       " View run <strong style=\"color:#cdcd00\">ToBERT-Trial12</strong> at: <a href='https://wandb.ai/gmarinowandb-8601/RhetoricalRolesClassification-ITA-RhetRoles/runs/iih1cwsq' target=\"_blank\">https://wandb.ai/gmarinowandb-8601/RhetoricalRolesClassification-ITA-RhetRoles/runs/iih1cwsq</a><br/>Synced 5 W&B file(s), 0 media file(s), 0 artifact file(s) and 0 other file(s)"
      ],
      "text/plain": [
       "<IPython.core.display.HTML object>"
      ]
     },
     "metadata": {},
     "output_type": "display_data"
    },
    {
     "data": {
      "text/html": [
       "Find logs at: <code>./wandb/run-20230425_222345-iih1cwsq/logs</code>"
      ],
      "text/plain": [
       "<IPython.core.display.HTML object>"
      ]
     },
     "metadata": {},
     "output_type": "display_data"
    },
    {
     "name": "stderr",
     "output_type": "stream",
     "text": [
      "\u001b[32m[I 2023-04-25 23:16:43,975]\u001b[0m Trial 12 finished with value: 0.08543562889099121 and parameters: {'lr': 0.00011873720629444845, 'weight_decay': 0.07946993581264522, 'embedding': 'rel', 'transformer_dropout': 0.1797891075090674, 'transformer_dim_feedforward': 59}. Best is trial 3 with value: 0.08361773192882538.\u001b[0m\n"
     ]
    },
    {
     "name": "stdout",
     "output_type": "stream",
     "text": [
      "\n",
      "************************ Starting New Optuna Trial ************************\n",
      "\n"
     ]
    },
    {
     "name": "stderr",
     "output_type": "stream",
     "text": [
      "Some weights of the model checkpoint at dlicari/Italian-Legal-BERT were not used when initializing BertForTokenClassification: ['cls.predictions.transform.LayerNorm.bias', 'cls.predictions.transform.dense.weight', 'cls.predictions.decoder.weight', 'cls.predictions.transform.dense.bias', 'cls.predictions.decoder.bias', 'cls.predictions.bias', 'cls.predictions.transform.LayerNorm.weight']\n",
      "- This IS expected if you are initializing BertForTokenClassification from the checkpoint of a model trained on another task or with another architecture (e.g. initializing a BertForSequenceClassification model from a BertForPreTraining model).\n",
      "- This IS NOT expected if you are initializing BertForTokenClassification from the checkpoint of a model that you expect to be exactly identical (initializing a BertForSequenceClassification model from a BertForSequenceClassification model).\n",
      "Some weights of BertForTokenClassification were not initialized from the model checkpoint at dlicari/Italian-Legal-BERT and are newly initialized: ['classifier.bias', 'classifier.weight']\n",
      "You should probably TRAIN this model on a down-stream task to be able to use it for predictions and inference.\n"
     ]
    },
    {
     "data": {
      "text/html": [
       "wandb version 0.15.0 is available!  To upgrade, please run:\n",
       " $ pip install wandb --upgrade"
      ],
      "text/plain": [
       "<IPython.core.display.HTML object>"
      ]
     },
     "metadata": {},
     "output_type": "display_data"
    },
    {
     "data": {
      "text/html": [
       "Tracking run with wandb version 0.13.10"
      ],
      "text/plain": [
       "<IPython.core.display.HTML object>"
      ]
     },
     "metadata": {},
     "output_type": "display_data"
    },
    {
     "data": {
      "text/html": [
       "Run data is saved locally in <code>/home/g.marino/Desktop/GA/RhetoricalRolesClassification/ITA-RhetRoles/wandb/run-20230425_231645-c4l0vea5</code>"
      ],
      "text/plain": [
       "<IPython.core.display.HTML object>"
      ]
     },
     "metadata": {},
     "output_type": "display_data"
    },
    {
     "data": {
      "text/html": [
       "Syncing run <strong><a href='https://wandb.ai/gmarinowandb-8601/RhetoricalRolesClassification-ITA-RhetRoles/runs/c4l0vea5' target=\"_blank\">ToBERT-Trial13</a></strong> to <a href='https://wandb.ai/gmarinowandb-8601/RhetoricalRolesClassification-ITA-RhetRoles' target=\"_blank\">Weights & Biases</a> (<a href='https://wandb.me/run' target=\"_blank\">docs</a>)<br/>"
      ],
      "text/plain": [
       "<IPython.core.display.HTML object>"
      ]
     },
     "metadata": {},
     "output_type": "display_data"
    },
    {
     "data": {
      "text/html": [
       " View project at <a href='https://wandb.ai/gmarinowandb-8601/RhetoricalRolesClassification-ITA-RhetRoles' target=\"_blank\">https://wandb.ai/gmarinowandb-8601/RhetoricalRolesClassification-ITA-RhetRoles</a>"
      ],
      "text/plain": [
       "<IPython.core.display.HTML object>"
      ]
     },
     "metadata": {},
     "output_type": "display_data"
    },
    {
     "data": {
      "text/html": [
       " View run at <a href='https://wandb.ai/gmarinowandb-8601/RhetoricalRolesClassification-ITA-RhetRoles/runs/c4l0vea5' target=\"_blank\">https://wandb.ai/gmarinowandb-8601/RhetoricalRolesClassification-ITA-RhetRoles/runs/c4l0vea5</a>"
      ],
      "text/plain": [
       "<IPython.core.display.HTML object>"
      ]
     },
     "metadata": {},
     "output_type": "display_data"
    },
    {
     "name": "stdout",
     "output_type": "stream",
     "text": [
      "\n",
      "************** Training Started **************\n",
      "\n",
      "EPOCH N. 1\n"
     ]
    },
    {
     "name": "stderr",
     "output_type": "stream",
     "text": [
      "1045it [05:00,  3.48it/s]\n"
     ]
    },
    {
     "name": "stdout",
     "output_type": "stream",
     "text": [
      "\n",
      "TRAIN RESULTS\n",
      "Loss: 0.3797894711583924\n",
      "Accuracy: 0.8529671234488031\n",
      "MCC: 0.7696008657552631\n",
      "Macro F1: 0.8444253056362607\n",
      "Macro Precision: 0.8509714155653191\n",
      "Macro Recall: 0.8385558029854844\n",
      "Micro F1: 0.8529671234488031\n",
      "Micro Precision: 0.8529671234488031\n",
      "Micro Recall: 0.8529671234488031\n",
      "\n",
      "VALIDATION RESULTS\n",
      "Loss: 0.18351611495018005\n",
      "Accuracy: 0.9202702702702703\n",
      "MCC: 0.8782671342841261\n",
      "Macro F1: 0.9233648730656572\n",
      "Macro Precision: 0.9253784511519079\n",
      "Macro Recall: 0.9218816528180422\n",
      "Micro F1: 0.9202702702702703\n",
      "Micro Precision: 0.9202702702702703\n",
      "Micro Recall: 0.9202702702702703\n",
      "--------------------------------------------------\n",
      "EPOCH N. 2\n"
     ]
    },
    {
     "name": "stderr",
     "output_type": "stream",
     "text": [
      "1045it [05:00,  3.48it/s]\n"
     ]
    },
    {
     "name": "stdout",
     "output_type": "stream",
     "text": [
      "\n",
      "TRAIN RESULTS\n",
      "Loss: 0.5993610928828814\n",
      "Accuracy: 0.7510439334235135\n",
      "MCC: 0.6109259017713672\n",
      "Macro F1: 0.7075511501876613\n",
      "Macro Precision: 0.7109057561138042\n",
      "Macro Recall: 0.7069331752710714\n",
      "Micro F1: 0.7510439334235135\n",
      "Micro Precision: 0.7510439334235135\n",
      "Micro Recall: 0.7510439334235135\n",
      "\n",
      "VALIDATION RESULTS\n",
      "Loss: 0.6672995090484619\n",
      "Accuracy: 0.7012474012474013\n",
      "MCC: 0.5145879944283515\n",
      "Macro F1: 0.6155330808696471\n",
      "Macro Precision: 0.7360049411389397\n",
      "Macro Recall: 0.5581585006938201\n",
      "Micro F1: 0.7012474012474013\n",
      "Micro Precision: 0.7012474012474013\n",
      "Micro Recall: 0.7012474012474013\n",
      "--------------------------------------------------\n",
      "EPOCH N. 3\n"
     ]
    },
    {
     "name": "stderr",
     "output_type": "stream",
     "text": [
      "1045it [05:01,  3.47it/s]\n"
     ]
    },
    {
     "name": "stdout",
     "output_type": "stream",
     "text": [
      "\n",
      "TRAIN RESULTS\n",
      "Loss: 0.6634094510922591\n",
      "Accuracy: 0.7215785449626536\n",
      "MCC: 0.5592099727502815\n",
      "Macro F1: 0.6792802852496722\n",
      "Macro Precision: 0.6938154894353492\n",
      "Macro Recall: 0.6675298383139721\n",
      "Micro F1: 0.7215785449626536\n",
      "Micro Precision: 0.7215785449626536\n",
      "Micro Recall: 0.7215785449626536\n",
      "\n",
      "VALIDATION RESULTS\n",
      "Loss: 0.6319761872291565\n",
      "Accuracy: 0.7145530145530146\n",
      "MCC: 0.5703601175722585\n",
      "Macro F1: 0.7068243092490684\n",
      "Macro Precision: 0.7128866481070999\n",
      "Macro Recall: 0.7034759316947905\n",
      "Micro F1: 0.7145530145530146\n",
      "Micro Precision: 0.7145530145530146\n",
      "Micro Recall: 0.7145530145530146\n",
      "Early stopped training\n",
      "--------------------------------------------------\n"
     ]
    },
    {
     "data": {
      "text/html": [
       "Waiting for W&B process to finish... <strong style=\"color:green\">(success).</strong>"
      ],
      "text/plain": [
       "<IPython.core.display.HTML object>"
      ]
     },
     "metadata": {},
     "output_type": "display_data"
    },
    {
     "data": {
      "text/html": [
       "<style>\n",
       "    table.wandb td:nth-child(1) { padding: 0 10px; text-align: left ; width: auto;} td:nth-child(2) {text-align: left ; width: 100%}\n",
       "    .wandb-row { display: flex; flex-direction: row; flex-wrap: wrap; justify-content: flex-start; width: 100% }\n",
       "    .wandb-col { display: flex; flex-direction: column; flex-basis: 100%; flex: 1; padding: 10px; }\n",
       "    </style>\n",
       "<div class=\"wandb-row\"><div class=\"wandb-col\"><h3>Run history:</h3><br/><table class=\"wandb\"><tr><td>Epoch</td><td>▁▅█</td></tr><tr><td>Train Loss</td><td>▁▆█</td></tr><tr><td>Validation Loss</td><td>▁█▇</td></tr></table><br/></div><div class=\"wandb-col\"><h3>Run summary:</h3><br/><table class=\"wandb\"><tr><td>Epoch</td><td>3</td></tr><tr><td>Train Loss</td><td>0.66341</td></tr><tr><td>Validation Loss</td><td>0.63198</td></tr></table><br/></div></div>"
      ],
      "text/plain": [
       "<IPython.core.display.HTML object>"
      ]
     },
     "metadata": {},
     "output_type": "display_data"
    },
    {
     "data": {
      "text/html": [
       " View run <strong style=\"color:#cdcd00\">ToBERT-Trial13</strong> at: <a href='https://wandb.ai/gmarinowandb-8601/RhetoricalRolesClassification-ITA-RhetRoles/runs/c4l0vea5' target=\"_blank\">https://wandb.ai/gmarinowandb-8601/RhetoricalRolesClassification-ITA-RhetRoles/runs/c4l0vea5</a><br/>Synced 5 W&B file(s), 0 media file(s), 0 artifact file(s) and 0 other file(s)"
      ],
      "text/plain": [
       "<IPython.core.display.HTML object>"
      ]
     },
     "metadata": {},
     "output_type": "display_data"
    },
    {
     "data": {
      "text/html": [
       "Find logs at: <code>./wandb/run-20230425_231645-c4l0vea5/logs</code>"
      ],
      "text/plain": [
       "<IPython.core.display.HTML object>"
      ]
     },
     "metadata": {},
     "output_type": "display_data"
    },
    {
     "name": "stderr",
     "output_type": "stream",
     "text": [
      "\u001b[32m[I 2023-04-25 23:33:59,766]\u001b[0m Trial 13 finished with value: 0.18351611495018005 and parameters: {'lr': 0.00021874925988280797, 'weight_decay': 0.07737652116005961, 'embedding': 'rel', 'transformer_dropout': 0.10315345352474803, 'transformer_dim_feedforward': 50}. Best is trial 3 with value: 0.08361773192882538.\u001b[0m\n"
     ]
    },
    {
     "name": "stdout",
     "output_type": "stream",
     "text": [
      "\n",
      "************************ Starting New Optuna Trial ************************\n",
      "\n"
     ]
    },
    {
     "name": "stderr",
     "output_type": "stream",
     "text": [
      "Some weights of the model checkpoint at dlicari/Italian-Legal-BERT were not used when initializing BertForTokenClassification: ['cls.predictions.transform.LayerNorm.bias', 'cls.predictions.transform.dense.weight', 'cls.predictions.decoder.weight', 'cls.predictions.transform.dense.bias', 'cls.predictions.decoder.bias', 'cls.predictions.bias', 'cls.predictions.transform.LayerNorm.weight']\n",
      "- This IS expected if you are initializing BertForTokenClassification from the checkpoint of a model trained on another task or with another architecture (e.g. initializing a BertForSequenceClassification model from a BertForPreTraining model).\n",
      "- This IS NOT expected if you are initializing BertForTokenClassification from the checkpoint of a model that you expect to be exactly identical (initializing a BertForSequenceClassification model from a BertForSequenceClassification model).\n",
      "Some weights of BertForTokenClassification were not initialized from the model checkpoint at dlicari/Italian-Legal-BERT and are newly initialized: ['classifier.bias', 'classifier.weight']\n",
      "You should probably TRAIN this model on a down-stream task to be able to use it for predictions and inference.\n"
     ]
    },
    {
     "data": {
      "text/html": [
       "wandb version 0.15.0 is available!  To upgrade, please run:\n",
       " $ pip install wandb --upgrade"
      ],
      "text/plain": [
       "<IPython.core.display.HTML object>"
      ]
     },
     "metadata": {},
     "output_type": "display_data"
    },
    {
     "data": {
      "text/html": [
       "Tracking run with wandb version 0.13.10"
      ],
      "text/plain": [
       "<IPython.core.display.HTML object>"
      ]
     },
     "metadata": {},
     "output_type": "display_data"
    },
    {
     "data": {
      "text/html": [
       "Run data is saved locally in <code>/home/g.marino/Desktop/GA/RhetoricalRolesClassification/ITA-RhetRoles/wandb/run-20230425_233401-gsfr0ot1</code>"
      ],
      "text/plain": [
       "<IPython.core.display.HTML object>"
      ]
     },
     "metadata": {},
     "output_type": "display_data"
    },
    {
     "data": {
      "text/html": [
       "Syncing run <strong><a href='https://wandb.ai/gmarinowandb-8601/RhetoricalRolesClassification-ITA-RhetRoles/runs/gsfr0ot1' target=\"_blank\">ToBERT-Trial14</a></strong> to <a href='https://wandb.ai/gmarinowandb-8601/RhetoricalRolesClassification-ITA-RhetRoles' target=\"_blank\">Weights & Biases</a> (<a href='https://wandb.me/run' target=\"_blank\">docs</a>)<br/>"
      ],
      "text/plain": [
       "<IPython.core.display.HTML object>"
      ]
     },
     "metadata": {},
     "output_type": "display_data"
    },
    {
     "data": {
      "text/html": [
       " View project at <a href='https://wandb.ai/gmarinowandb-8601/RhetoricalRolesClassification-ITA-RhetRoles' target=\"_blank\">https://wandb.ai/gmarinowandb-8601/RhetoricalRolesClassification-ITA-RhetRoles</a>"
      ],
      "text/plain": [
       "<IPython.core.display.HTML object>"
      ]
     },
     "metadata": {},
     "output_type": "display_data"
    },
    {
     "data": {
      "text/html": [
       " View run at <a href='https://wandb.ai/gmarinowandb-8601/RhetoricalRolesClassification-ITA-RhetRoles/runs/gsfr0ot1' target=\"_blank\">https://wandb.ai/gmarinowandb-8601/RhetoricalRolesClassification-ITA-RhetRoles/runs/gsfr0ot1</a>"
      ],
      "text/plain": [
       "<IPython.core.display.HTML object>"
      ]
     },
     "metadata": {},
     "output_type": "display_data"
    },
    {
     "name": "stdout",
     "output_type": "stream",
     "text": [
      "\n",
      "************** Training Started **************\n",
      "\n",
      "EPOCH N. 1\n"
     ]
    },
    {
     "name": "stderr",
     "output_type": "stream",
     "text": [
      "1045it [05:00,  3.48it/s]\n"
     ]
    },
    {
     "name": "stdout",
     "output_type": "stream",
     "text": [
      "\n",
      "TRAIN RESULTS\n",
      "Loss: 0.3989160990886141\n",
      "Accuracy: 0.8419984708580839\n",
      "MCC: 0.751099108914293\n",
      "Macro F1: 0.8431573201478078\n",
      "Macro Precision: 0.8605073911004515\n",
      "Macro Recall: 0.8273924907911505\n",
      "Micro F1: 0.8419984708580838\n",
      "Micro Precision: 0.8419984708580839\n",
      "Micro Recall: 0.8419984708580839\n",
      "\n",
      "VALIDATION RESULTS\n",
      "Loss: 0.22076329588890076\n",
      "Accuracy: 0.9017671517671517\n",
      "MCC: 0.8478635639169686\n",
      "Macro F1: 0.9078648461003537\n",
      "Macro Precision: 0.9219763299042967\n",
      "Macro Recall: 0.89544793687934\n",
      "Micro F1: 0.9017671517671517\n",
      "Micro Precision: 0.9017671517671517\n",
      "Micro Recall: 0.9017671517671517\n",
      "--------------------------------------------------\n",
      "EPOCH N. 2\n"
     ]
    },
    {
     "name": "stderr",
     "output_type": "stream",
     "text": [
      "1045it [04:59,  3.49it/s]\n"
     ]
    },
    {
     "name": "stdout",
     "output_type": "stream",
     "text": [
      "\n",
      "TRAIN RESULTS\n",
      "Loss: 0.1797040028859634\n",
      "Accuracy: 0.9377462800682232\n",
      "MCC: 0.9028258497187076\n",
      "Macro F1: 0.9387890263143166\n",
      "Macro Precision: 0.9436598557700957\n",
      "Macro Recall: 0.9341335439239657\n",
      "Micro F1: 0.9377462800682232\n",
      "Micro Precision: 0.9377462800682232\n",
      "Micro Recall: 0.9377462800682232\n",
      "\n",
      "VALIDATION RESULTS\n",
      "Loss: 0.15258559584617615\n",
      "Accuracy: 0.940956340956341\n",
      "MCC: 0.9099374953856596\n",
      "Macro F1: 0.9444783049151578\n",
      "Macro Precision: 0.9576667808482192\n",
      "Macro Recall: 0.9344054960876568\n",
      "Micro F1: 0.940956340956341\n",
      "Micro Precision: 0.940956340956341\n",
      "Micro Recall: 0.940956340956341\n",
      "--------------------------------------------------\n",
      "EPOCH N. 3\n"
     ]
    },
    {
     "name": "stderr",
     "output_type": "stream",
     "text": [
      "1045it [05:00,  3.48it/s]\n"
     ]
    },
    {
     "name": "stdout",
     "output_type": "stream",
     "text": [
      "\n",
      "TRAIN RESULTS\n",
      "Loss: 0.12990786697310017\n",
      "Accuracy: 0.9570664000470506\n",
      "MCC: 0.9330649749500098\n",
      "Macro F1: 0.9581151815117159\n",
      "Macro Precision: 0.961815927029258\n",
      "Macro Recall: 0.954547628639393\n",
      "Micro F1: 0.9570664000470506\n",
      "Micro Precision: 0.9570664000470506\n",
      "Micro Recall: 0.9570664000470506\n",
      "\n",
      "VALIDATION RESULTS\n",
      "Loss: 0.1105266585946083\n",
      "Accuracy: 0.9602910602910603\n",
      "MCC: 0.9390508460851434\n",
      "Macro F1: 0.9580216176709554\n",
      "Macro Precision: 0.9644369519388436\n",
      "Macro Recall: 0.952486451860046\n",
      "Micro F1: 0.9602910602910603\n",
      "Micro Precision: 0.9602910602910603\n",
      "Micro Recall: 0.9602910602910603\n",
      "--------------------------------------------------\n",
      "EPOCH N. 4\n"
     ]
    },
    {
     "name": "stderr",
     "output_type": "stream",
     "text": [
      "1045it [05:00,  3.48it/s]\n"
     ]
    },
    {
     "name": "stdout",
     "output_type": "stream",
     "text": [
      "\n",
      "TRAIN RESULTS\n",
      "Loss: 0.10872035534488723\n",
      "Accuracy: 0.9649473622301946\n",
      "MCC: 0.9453763561658247\n",
      "Macro F1: 0.9648268577799657\n",
      "Macro Precision: 0.9678926833979709\n",
      "Macro Recall: 0.9618865222660162\n",
      "Micro F1: 0.9649473622301946\n",
      "Micro Precision: 0.9649473622301946\n",
      "Micro Recall: 0.9649473622301946\n",
      "\n",
      "VALIDATION RESULTS\n",
      "Loss: 0.08339666575193405\n",
      "Accuracy: 0.9725571725571726\n",
      "MCC: 0.9577938466287034\n",
      "Macro F1: 0.9682038855290758\n",
      "Macro Precision: 0.9786232123143439\n",
      "Macro Recall: 0.9588658143084128\n",
      "Micro F1: 0.9725571725571726\n",
      "Micro Precision: 0.9725571725571726\n",
      "Micro Recall: 0.9725571725571726\n",
      "--------------------------------------------------\n",
      "EPOCH N. 5\n"
     ]
    },
    {
     "name": "stderr",
     "output_type": "stream",
     "text": [
      "1045it [04:59,  3.48it/s]\n"
     ]
    },
    {
     "name": "stdout",
     "output_type": "stream",
     "text": [
      "\n",
      "TRAIN RESULTS\n",
      "Loss: 0.1352724318004895\n",
      "Accuracy: 0.9585367288125625\n",
      "MCC: 0.9353835886244369\n",
      "Macro F1: 0.9547856630963585\n",
      "Macro Precision: 0.9582197170831306\n",
      "Macro Recall: 0.9514253659281209\n",
      "Micro F1: 0.9585367288125625\n",
      "Micro Precision: 0.9585367288125625\n",
      "Micro Recall: 0.9585367288125625\n",
      "\n",
      "VALIDATION RESULTS\n",
      "Loss: 0.10633926093578339\n",
      "Accuracy: 0.9608108108108108\n",
      "MCC: 0.9402673857202942\n",
      "Macro F1: 0.9578112687570627\n",
      "Macro Precision: 0.9546587580501764\n",
      "Macro Recall: 0.9617410235498133\n",
      "Micro F1: 0.9608108108108108\n",
      "Micro Precision: 0.9608108108108108\n",
      "Micro Recall: 0.9608108108108108\n",
      "--------------------------------------------------\n",
      "EPOCH N. 6\n"
     ]
    },
    {
     "name": "stderr",
     "output_type": "stream",
     "text": [
      "1045it [05:00,  3.47it/s]\n"
     ]
    },
    {
     "name": "stdout",
     "output_type": "stream",
     "text": [
      "\n",
      "TRAIN RESULTS\n",
      "Loss: 0.07833470236259384\n",
      "Accuracy: 0.974313356466506\n",
      "MCC: 0.9600131784095146\n",
      "Macro F1: 0.9734750795570577\n",
      "Macro Precision: 0.9753510133862943\n",
      "Macro Recall: 0.9716400115702379\n",
      "Micro F1: 0.974313356466506\n",
      "Micro Precision: 0.974313356466506\n",
      "Micro Recall: 0.974313356466506\n",
      "\n",
      "VALIDATION RESULTS\n",
      "Loss: 0.09491106122732162\n",
      "Accuracy: 0.9700623700623701\n",
      "MCC: 0.9540036558479936\n",
      "Macro F1: 0.9678761878927731\n",
      "Macro Precision: 0.970048661935038\n",
      "Macro Recall: 0.9660059345572918\n",
      "Micro F1: 0.9700623700623701\n",
      "Micro Precision: 0.9700623700623701\n",
      "Micro Recall: 0.9700623700623701\n",
      "Early stopped training\n",
      "--------------------------------------------------\n"
     ]
    },
    {
     "data": {
      "text/html": [
       "Waiting for W&B process to finish... <strong style=\"color:green\">(success).</strong>"
      ],
      "text/plain": [
       "<IPython.core.display.HTML object>"
      ]
     },
     "metadata": {},
     "output_type": "display_data"
    },
    {
     "data": {
      "application/vnd.jupyter.widget-view+json": {
       "model_id": "35e02dfee8674653b3059d7f224f6826",
       "version_major": 2,
       "version_minor": 0
      },
      "text/plain": [
       "VBox(children=(Label(value='0.005 MB of 0.005 MB uploaded (0.000 MB deduped)\\r'), FloatProgress(value=1.0, max…"
      ]
     },
     "metadata": {},
     "output_type": "display_data"
    },
    {
     "data": {
      "text/html": [
       "<style>\n",
       "    table.wandb td:nth-child(1) { padding: 0 10px; text-align: left ; width: auto;} td:nth-child(2) {text-align: left ; width: 100%}\n",
       "    .wandb-row { display: flex; flex-direction: row; flex-wrap: wrap; justify-content: flex-start; width: 100% }\n",
       "    .wandb-col { display: flex; flex-direction: column; flex-basis: 100%; flex: 1; padding: 10px; }\n",
       "    </style>\n",
       "<div class=\"wandb-row\"><div class=\"wandb-col\"><h3>Run history:</h3><br/><table class=\"wandb\"><tr><td>Epoch</td><td>▁▂▄▅▇█</td></tr><tr><td>Train Loss</td><td>█▃▂▂▂▁</td></tr><tr><td>Validation Loss</td><td>█▅▂▁▂▂</td></tr></table><br/></div><div class=\"wandb-col\"><h3>Run summary:</h3><br/><table class=\"wandb\"><tr><td>Epoch</td><td>6</td></tr><tr><td>Train Loss</td><td>0.07833</td></tr><tr><td>Validation Loss</td><td>0.09491</td></tr></table><br/></div></div>"
      ],
      "text/plain": [
       "<IPython.core.display.HTML object>"
      ]
     },
     "metadata": {},
     "output_type": "display_data"
    },
    {
     "data": {
      "text/html": [
       " View run <strong style=\"color:#cdcd00\">ToBERT-Trial14</strong> at: <a href='https://wandb.ai/gmarinowandb-8601/RhetoricalRolesClassification-ITA-RhetRoles/runs/gsfr0ot1' target=\"_blank\">https://wandb.ai/gmarinowandb-8601/RhetoricalRolesClassification-ITA-RhetRoles/runs/gsfr0ot1</a><br/>Synced 5 W&B file(s), 0 media file(s), 0 artifact file(s) and 0 other file(s)"
      ],
      "text/plain": [
       "<IPython.core.display.HTML object>"
      ]
     },
     "metadata": {},
     "output_type": "display_data"
    },
    {
     "data": {
      "text/html": [
       "Find logs at: <code>./wandb/run-20230425_233401-gsfr0ot1/logs</code>"
      ],
      "text/plain": [
       "<IPython.core.display.HTML object>"
      ]
     },
     "metadata": {},
     "output_type": "display_data"
    },
    {
     "name": "stderr",
     "output_type": "stream",
     "text": [
      "\u001b[32m[I 2023-04-26 00:08:26,911]\u001b[0m Trial 14 finished with value: 0.08339666575193405 and parameters: {'lr': 0.00011677508065563463, 'weight_decay': 0.09737881722897744, 'embedding': 'rel', 'transformer_dropout': 0.2087130717403944, 'transformer_dim_feedforward': 220}. Best is trial 14 with value: 0.08339666575193405.\u001b[0m\n"
     ]
    },
    {
     "name": "stdout",
     "output_type": "stream",
     "text": [
      "\n",
      "************************ Starting New Optuna Trial ************************\n",
      "\n"
     ]
    },
    {
     "name": "stderr",
     "output_type": "stream",
     "text": [
      "Some weights of the model checkpoint at dlicari/Italian-Legal-BERT were not used when initializing BertForTokenClassification: ['cls.predictions.transform.LayerNorm.bias', 'cls.predictions.transform.dense.weight', 'cls.predictions.decoder.weight', 'cls.predictions.transform.dense.bias', 'cls.predictions.decoder.bias', 'cls.predictions.bias', 'cls.predictions.transform.LayerNorm.weight']\n",
      "- This IS expected if you are initializing BertForTokenClassification from the checkpoint of a model trained on another task or with another architecture (e.g. initializing a BertForSequenceClassification model from a BertForPreTraining model).\n",
      "- This IS NOT expected if you are initializing BertForTokenClassification from the checkpoint of a model that you expect to be exactly identical (initializing a BertForSequenceClassification model from a BertForSequenceClassification model).\n",
      "Some weights of BertForTokenClassification were not initialized from the model checkpoint at dlicari/Italian-Legal-BERT and are newly initialized: ['classifier.bias', 'classifier.weight']\n",
      "You should probably TRAIN this model on a down-stream task to be able to use it for predictions and inference.\n"
     ]
    },
    {
     "data": {
      "text/html": [
       "wandb version 0.15.0 is available!  To upgrade, please run:\n",
       " $ pip install wandb --upgrade"
      ],
      "text/plain": [
       "<IPython.core.display.HTML object>"
      ]
     },
     "metadata": {},
     "output_type": "display_data"
    },
    {
     "data": {
      "text/html": [
       "Tracking run with wandb version 0.13.10"
      ],
      "text/plain": [
       "<IPython.core.display.HTML object>"
      ]
     },
     "metadata": {},
     "output_type": "display_data"
    },
    {
     "data": {
      "text/html": [
       "Run data is saved locally in <code>/home/g.marino/Desktop/GA/RhetoricalRolesClassification/ITA-RhetRoles/wandb/run-20230426_000828-8n530u74</code>"
      ],
      "text/plain": [
       "<IPython.core.display.HTML object>"
      ]
     },
     "metadata": {},
     "output_type": "display_data"
    },
    {
     "data": {
      "text/html": [
       "Syncing run <strong><a href='https://wandb.ai/gmarinowandb-8601/RhetoricalRolesClassification-ITA-RhetRoles/runs/8n530u74' target=\"_blank\">ToBERT-Trial15</a></strong> to <a href='https://wandb.ai/gmarinowandb-8601/RhetoricalRolesClassification-ITA-RhetRoles' target=\"_blank\">Weights & Biases</a> (<a href='https://wandb.me/run' target=\"_blank\">docs</a>)<br/>"
      ],
      "text/plain": [
       "<IPython.core.display.HTML object>"
      ]
     },
     "metadata": {},
     "output_type": "display_data"
    },
    {
     "data": {
      "text/html": [
       " View project at <a href='https://wandb.ai/gmarinowandb-8601/RhetoricalRolesClassification-ITA-RhetRoles' target=\"_blank\">https://wandb.ai/gmarinowandb-8601/RhetoricalRolesClassification-ITA-RhetRoles</a>"
      ],
      "text/plain": [
       "<IPython.core.display.HTML object>"
      ]
     },
     "metadata": {},
     "output_type": "display_data"
    },
    {
     "data": {
      "text/html": [
       " View run at <a href='https://wandb.ai/gmarinowandb-8601/RhetoricalRolesClassification-ITA-RhetRoles/runs/8n530u74' target=\"_blank\">https://wandb.ai/gmarinowandb-8601/RhetoricalRolesClassification-ITA-RhetRoles/runs/8n530u74</a>"
      ],
      "text/plain": [
       "<IPython.core.display.HTML object>"
      ]
     },
     "metadata": {},
     "output_type": "display_data"
    },
    {
     "name": "stdout",
     "output_type": "stream",
     "text": [
      "\n",
      "************** Training Started **************\n",
      "\n",
      "EPOCH N. 1\n"
     ]
    },
    {
     "name": "stderr",
     "output_type": "stream",
     "text": [
      "1045it [05:00,  3.48it/s]\n"
     ]
    },
    {
     "name": "stdout",
     "output_type": "stream",
     "text": [
      "\n",
      "TRAIN RESULTS\n",
      "Loss: 0.4374307541096467\n",
      "Accuracy: 0.833779333058872\n",
      "MCC: 0.7401557713747513\n",
      "Macro F1: 0.8264901459740261\n",
      "Macro Precision: 0.8284703154168689\n",
      "Macro Recall: 0.8248670373024993\n",
      "Micro F1: 0.833779333058872\n",
      "Micro Precision: 0.833779333058872\n",
      "Micro Recall: 0.833779333058872\n",
      "\n",
      "VALIDATION RESULTS\n",
      "Loss: 0.32404348254203796\n",
      "Accuracy: 0.8642411642411643\n",
      "MCC: 0.7932492309229456\n",
      "Macro F1: 0.8618470334776477\n",
      "Macro Precision: 0.8899935518077802\n",
      "Macro Recall: 0.8445094470552134\n",
      "Micro F1: 0.8642411642411643\n",
      "Micro Precision: 0.8642411642411643\n",
      "Micro Recall: 0.8642411642411643\n",
      "--------------------------------------------------\n"
     ]
    },
    {
     "data": {
      "text/html": [
       "Waiting for W&B process to finish... <strong style=\"color:red\">(failed 1).</strong> Press Control-C to abort syncing."
      ],
      "text/plain": [
       "<IPython.core.display.HTML object>"
      ]
     },
     "metadata": {},
     "output_type": "display_data"
    },
    {
     "data": {
      "application/vnd.jupyter.widget-view+json": {
       "model_id": "6bd7578cd9a24cc1b5b091ab7089205a",
       "version_major": 2,
       "version_minor": 0
      },
      "text/plain": [
       "VBox(children=(Label(value='0.005 MB of 0.005 MB uploaded (0.000 MB deduped)\\r'), FloatProgress(value=1.0, max…"
      ]
     },
     "metadata": {},
     "output_type": "display_data"
    },
    {
     "data": {
      "text/html": [
       "<style>\n",
       "    table.wandb td:nth-child(1) { padding: 0 10px; text-align: left ; width: auto;} td:nth-child(2) {text-align: left ; width: 100%}\n",
       "    .wandb-row { display: flex; flex-direction: row; flex-wrap: wrap; justify-content: flex-start; width: 100% }\n",
       "    .wandb-col { display: flex; flex-direction: column; flex-basis: 100%; flex: 1; padding: 10px; }\n",
       "    </style>\n",
       "<div class=\"wandb-row\"><div class=\"wandb-col\"><h3>Run history:</h3><br/><table class=\"wandb\"><tr><td>Epoch</td><td>▁</td></tr><tr><td>Train Loss</td><td>▁</td></tr><tr><td>Validation Loss</td><td>▁</td></tr></table><br/></div><div class=\"wandb-col\"><h3>Run summary:</h3><br/><table class=\"wandb\"><tr><td>Epoch</td><td>1</td></tr><tr><td>Train Loss</td><td>0.43743</td></tr><tr><td>Validation Loss</td><td>0.32404</td></tr></table><br/></div></div>"
      ],
      "text/plain": [
       "<IPython.core.display.HTML object>"
      ]
     },
     "metadata": {},
     "output_type": "display_data"
    },
    {
     "data": {
      "text/html": [
       " View run <strong style=\"color:#cdcd00\">ToBERT-Trial15</strong> at: <a href='https://wandb.ai/gmarinowandb-8601/RhetoricalRolesClassification-ITA-RhetRoles/runs/8n530u74' target=\"_blank\">https://wandb.ai/gmarinowandb-8601/RhetoricalRolesClassification-ITA-RhetRoles/runs/8n530u74</a><br/>Synced 5 W&B file(s), 0 media file(s), 0 artifact file(s) and 0 other file(s)"
      ],
      "text/plain": [
       "<IPython.core.display.HTML object>"
      ]
     },
     "metadata": {},
     "output_type": "display_data"
    },
    {
     "data": {
      "text/html": [
       "Find logs at: <code>./wandb/run-20230426_000828-8n530u74/logs</code>"
      ],
      "text/plain": [
       "<IPython.core.display.HTML object>"
      ]
     },
     "metadata": {},
     "output_type": "display_data"
    },
    {
     "name": "stderr",
     "output_type": "stream",
     "text": [
      "\u001b[32m[I 2023-04-26 00:14:31,672]\u001b[0m Trial 15 pruned. \u001b[0m\n"
     ]
    },
    {
     "name": "stdout",
     "output_type": "stream",
     "text": [
      "\n",
      "************************ Starting New Optuna Trial ************************\n",
      "\n"
     ]
    },
    {
     "name": "stderr",
     "output_type": "stream",
     "text": [
      "Some weights of the model checkpoint at dlicari/Italian-Legal-BERT were not used when initializing BertForTokenClassification: ['cls.predictions.transform.LayerNorm.bias', 'cls.predictions.transform.dense.weight', 'cls.predictions.decoder.weight', 'cls.predictions.transform.dense.bias', 'cls.predictions.decoder.bias', 'cls.predictions.bias', 'cls.predictions.transform.LayerNorm.weight']\n",
      "- This IS expected if you are initializing BertForTokenClassification from the checkpoint of a model trained on another task or with another architecture (e.g. initializing a BertForSequenceClassification model from a BertForPreTraining model).\n",
      "- This IS NOT expected if you are initializing BertForTokenClassification from the checkpoint of a model that you expect to be exactly identical (initializing a BertForSequenceClassification model from a BertForSequenceClassification model).\n",
      "Some weights of BertForTokenClassification were not initialized from the model checkpoint at dlicari/Italian-Legal-BERT and are newly initialized: ['classifier.bias', 'classifier.weight']\n",
      "You should probably TRAIN this model on a down-stream task to be able to use it for predictions and inference.\n"
     ]
    },
    {
     "data": {
      "text/html": [
       "wandb version 0.15.0 is available!  To upgrade, please run:\n",
       " $ pip install wandb --upgrade"
      ],
      "text/plain": [
       "<IPython.core.display.HTML object>"
      ]
     },
     "metadata": {},
     "output_type": "display_data"
    },
    {
     "data": {
      "text/html": [
       "Tracking run with wandb version 0.13.10"
      ],
      "text/plain": [
       "<IPython.core.display.HTML object>"
      ]
     },
     "metadata": {},
     "output_type": "display_data"
    },
    {
     "data": {
      "text/html": [
       "Run data is saved locally in <code>/home/g.marino/Desktop/GA/RhetoricalRolesClassification/ITA-RhetRoles/wandb/run-20230426_001433-uhwcvlwx</code>"
      ],
      "text/plain": [
       "<IPython.core.display.HTML object>"
      ]
     },
     "metadata": {},
     "output_type": "display_data"
    },
    {
     "data": {
      "text/html": [
       "Syncing run <strong><a href='https://wandb.ai/gmarinowandb-8601/RhetoricalRolesClassification-ITA-RhetRoles/runs/uhwcvlwx' target=\"_blank\">ToBERT-Trial16</a></strong> to <a href='https://wandb.ai/gmarinowandb-8601/RhetoricalRolesClassification-ITA-RhetRoles' target=\"_blank\">Weights & Biases</a> (<a href='https://wandb.me/run' target=\"_blank\">docs</a>)<br/>"
      ],
      "text/plain": [
       "<IPython.core.display.HTML object>"
      ]
     },
     "metadata": {},
     "output_type": "display_data"
    },
    {
     "data": {
      "text/html": [
       " View project at <a href='https://wandb.ai/gmarinowandb-8601/RhetoricalRolesClassification-ITA-RhetRoles' target=\"_blank\">https://wandb.ai/gmarinowandb-8601/RhetoricalRolesClassification-ITA-RhetRoles</a>"
      ],
      "text/plain": [
       "<IPython.core.display.HTML object>"
      ]
     },
     "metadata": {},
     "output_type": "display_data"
    },
    {
     "data": {
      "text/html": [
       " View run at <a href='https://wandb.ai/gmarinowandb-8601/RhetoricalRolesClassification-ITA-RhetRoles/runs/uhwcvlwx' target=\"_blank\">https://wandb.ai/gmarinowandb-8601/RhetoricalRolesClassification-ITA-RhetRoles/runs/uhwcvlwx</a>"
      ],
      "text/plain": [
       "<IPython.core.display.HTML object>"
      ]
     },
     "metadata": {},
     "output_type": "display_data"
    },
    {
     "name": "stdout",
     "output_type": "stream",
     "text": [
      "\n",
      "************** Training Started **************\n",
      "\n",
      "EPOCH N. 1\n"
     ]
    },
    {
     "name": "stderr",
     "output_type": "stream",
     "text": [
      "1045it [05:06,  3.41it/s]\n"
     ]
    },
    {
     "name": "stdout",
     "output_type": "stream",
     "text": [
      "\n",
      "TRAIN RESULTS\n",
      "Loss: 0.37727788074218344\n",
      "Accuracy: 0.8543492324883845\n",
      "MCC: 0.7709576843349066\n",
      "Macro F1: 0.8541403023176415\n",
      "Macro Precision: 0.865587451150106\n",
      "Macro Recall: 0.8441167644802228\n",
      "Micro F1: 0.8543492324883845\n",
      "Micro Precision: 0.8543492324883845\n",
      "Micro Recall: 0.8543492324883845\n",
      "\n",
      "VALIDATION RESULTS\n",
      "Loss: 0.17160430550575256\n",
      "Accuracy: 0.9301455301455301\n",
      "MCC: 0.8929272716498454\n",
      "Macro F1: 0.9308228150772507\n",
      "Macro Precision: 0.9329340080395501\n",
      "Macro Recall: 0.930447525593485\n",
      "Micro F1: 0.9301455301455301\n",
      "Micro Precision: 0.9301455301455301\n",
      "Micro Recall: 0.9301455301455301\n",
      "--------------------------------------------------\n",
      "EPOCH N. 2\n"
     ]
    },
    {
     "name": "stderr",
     "output_type": "stream",
     "text": [
      "1045it [05:06,  3.41it/s]\n"
     ]
    },
    {
     "name": "stdout",
     "output_type": "stream",
     "text": [
      "\n",
      "TRAIN RESULTS\n",
      "Loss: 0.17202368790626918\n",
      "Accuracy: 0.9390401693818737\n",
      "MCC: 0.904862316577593\n",
      "Macro F1: 0.9408113165733096\n",
      "Macro Precision: 0.9453023497092914\n",
      "Macro Recall: 0.9365645057605837\n",
      "Micro F1: 0.9390401693818737\n",
      "Micro Precision: 0.9390401693818737\n",
      "Micro Recall: 0.9390401693818737\n",
      "\n",
      "VALIDATION RESULTS\n",
      "Loss: 0.10939209908246994\n",
      "Accuracy: 0.9611226611226611\n",
      "MCC: 0.9405251362124717\n",
      "Macro F1: 0.9582264839078304\n",
      "Macro Precision: 0.9565164200540905\n",
      "Macro Recall: 0.9600107584454518\n",
      "Micro F1: 0.9611226611226611\n",
      "Micro Precision: 0.9611226611226611\n",
      "Micro Recall: 0.9611226611226611\n",
      "--------------------------------------------------\n",
      "EPOCH N. 3\n"
     ]
    },
    {
     "name": "stderr",
     "output_type": "stream",
     "text": [
      "1045it [05:07,  3.39it/s]\n"
     ]
    },
    {
     "name": "stdout",
     "output_type": "stream",
     "text": [
      "\n",
      "TRAIN RESULTS\n",
      "Loss: 0.11672831936082112\n",
      "Accuracy: 0.9647856260659884\n",
      "MCC: 0.9451236791539585\n",
      "Macro F1: 0.9649570305802465\n",
      "Macro Precision: 0.9683854949319457\n",
      "Macro Recall: 0.9616313331650975\n",
      "Micro F1: 0.9647856260659884\n",
      "Micro Precision: 0.9647856260659884\n",
      "Micro Recall: 0.9647856260659884\n",
      "\n",
      "VALIDATION RESULTS\n",
      "Loss: 0.09848590940237045\n",
      "Accuracy: 0.9704781704781705\n",
      "MCC: 0.9547228987833981\n",
      "Macro F1: 0.9655031896390961\n",
      "Macro Precision: 0.9707671148970778\n",
      "Macro Recall: 0.9610380810684894\n",
      "Micro F1: 0.9704781704781705\n",
      "Micro Precision: 0.9704781704781705\n",
      "Micro Recall: 0.9704781704781705\n",
      "--------------------------------------------------\n",
      "EPOCH N. 4\n"
     ]
    },
    {
     "name": "stderr",
     "output_type": "stream",
     "text": [
      "1045it [05:06,  3.40it/s]\n"
     ]
    },
    {
     "name": "stdout",
     "output_type": "stream",
     "text": [
      "\n",
      "TRAIN RESULTS\n",
      "Loss: 0.09214175666613353\n",
      "Accuracy: 0.9725783685232018\n",
      "MCC: 0.957287630213725\n",
      "Macro F1: 0.971488612760164\n",
      "Macro Precision: 0.9746626464121458\n",
      "Macro Recall: 0.9683924303115983\n",
      "Micro F1: 0.9725783685232018\n",
      "Micro Precision: 0.9725783685232018\n",
      "Micro Recall: 0.9725783685232018\n",
      "\n",
      "VALIDATION RESULTS\n",
      "Loss: 0.10780853033065796\n",
      "Accuracy: 0.972037422037422\n",
      "MCC: 0.9573217833542581\n",
      "Macro F1: 0.9672859654734905\n",
      "Macro Precision: 0.9681837649148969\n",
      "Macro Recall: 0.9675586133582932\n",
      "Micro F1: 0.972037422037422\n",
      "Micro Precision: 0.972037422037422\n",
      "Micro Recall: 0.972037422037422\n",
      "--------------------------------------------------\n",
      "EPOCH N. 5\n"
     ]
    },
    {
     "name": "stderr",
     "output_type": "stream",
     "text": [
      "1045it [05:07,  3.40it/s]\n"
     ]
    },
    {
     "name": "stdout",
     "output_type": "stream",
     "text": [
      "\n",
      "TRAIN RESULTS\n",
      "Loss: 0.0788330120037858\n",
      "Accuracy: 0.9761806739987061\n",
      "MCC: 0.9629276706348104\n",
      "Macro F1: 0.9765316238450288\n",
      "Macro Precision: 0.9781852675082254\n",
      "Macro Recall: 0.9749058783193381\n",
      "Micro F1: 0.9761806739987061\n",
      "Micro Precision: 0.9761806739987061\n",
      "Micro Recall: 0.9761806739987061\n",
      "\n",
      "VALIDATION RESULTS\n",
      "Loss: 0.08906186372041702\n",
      "Accuracy: 0.9777546777546777\n",
      "MCC: 0.965942286730547\n",
      "Macro F1: 0.9718917351791665\n",
      "Macro Precision: 0.9758050468186609\n",
      "Macro Recall: 0.9688918228741794\n",
      "Micro F1: 0.9777546777546777\n",
      "Micro Precision: 0.9777546777546777\n",
      "Micro Recall: 0.9777546777546777\n",
      "--------------------------------------------------\n",
      "EPOCH N. 6\n"
     ]
    },
    {
     "name": "stderr",
     "output_type": "stream",
     "text": [
      "1045it [05:08,  3.39it/s]\n"
     ]
    },
    {
     "name": "stdout",
     "output_type": "stream",
     "text": [
      "\n",
      "TRAIN RESULTS\n",
      "Loss: 0.06673717450388957\n",
      "Accuracy: 0.9799447156384168\n",
      "MCC: 0.9687837254997386\n",
      "Macro F1: 0.9792721354409437\n",
      "Macro Precision: 0.9813791242727262\n",
      "Macro Recall: 0.9771985264285521\n",
      "Micro F1: 0.9799447156384168\n",
      "Micro Precision: 0.9799447156384168\n",
      "Micro Recall: 0.9799447156384168\n",
      "\n",
      "VALIDATION RESULTS\n",
      "Loss: 0.08954376727342606\n",
      "Accuracy: 0.9781704781704782\n",
      "MCC: 0.9665421831746107\n",
      "Macro F1: 0.9746031590072134\n",
      "Macro Precision: 0.9766872470826626\n",
      "Macro Recall: 0.9727400101323098\n",
      "Micro F1: 0.9781704781704782\n",
      "Micro Precision: 0.9781704781704782\n",
      "Micro Recall: 0.9781704781704782\n",
      "--------------------------------------------------\n",
      "EPOCH N. 7\n"
     ]
    },
    {
     "name": "stderr",
     "output_type": "stream",
     "text": [
      "1045it [05:06,  3.41it/s]\n"
     ]
    },
    {
     "name": "stdout",
     "output_type": "stream",
     "text": [
      "\n",
      "TRAIN RESULTS\n",
      "Loss: 0.05345054979758609\n",
      "Accuracy: 0.9834440981003353\n",
      "MCC: 0.974240935605016\n",
      "Macro F1: 0.983787720764402\n",
      "Macro Precision: 0.9851396319524873\n",
      "Macro Recall: 0.9824581439788922\n",
      "Micro F1: 0.9834440981003352\n",
      "Micro Precision: 0.9834440981003353\n",
      "Micro Recall: 0.9834440981003353\n",
      "\n",
      "VALIDATION RESULTS\n",
      "Loss: 0.09192494302988052\n",
      "Accuracy: 0.979002079002079\n",
      "MCC: 0.9677366026447165\n",
      "Macro F1: 0.973115143690803\n",
      "Macro Precision: 0.9785507554760405\n",
      "Macro Recall: 0.967959630592709\n",
      "Micro F1: 0.979002079002079\n",
      "Micro Precision: 0.979002079002079\n",
      "Micro Recall: 0.979002079002079\n",
      "Early stopped training\n",
      "--------------------------------------------------\n"
     ]
    },
    {
     "data": {
      "text/html": [
       "Waiting for W&B process to finish... <strong style=\"color:green\">(success).</strong>"
      ],
      "text/plain": [
       "<IPython.core.display.HTML object>"
      ]
     },
     "metadata": {},
     "output_type": "display_data"
    },
    {
     "data": {
      "text/html": [
       "<style>\n",
       "    table.wandb td:nth-child(1) { padding: 0 10px; text-align: left ; width: auto;} td:nth-child(2) {text-align: left ; width: 100%}\n",
       "    .wandb-row { display: flex; flex-direction: row; flex-wrap: wrap; justify-content: flex-start; width: 100% }\n",
       "    .wandb-col { display: flex; flex-direction: column; flex-basis: 100%; flex: 1; padding: 10px; }\n",
       "    </style>\n",
       "<div class=\"wandb-row\"><div class=\"wandb-col\"><h3>Run history:</h3><br/><table class=\"wandb\"><tr><td>Epoch</td><td>▁▂▃▅▆▇█</td></tr><tr><td>Train Loss</td><td>█▄▂▂▂▁▁</td></tr><tr><td>Validation Loss</td><td>█▃▂▃▁▁▁</td></tr></table><br/></div><div class=\"wandb-col\"><h3>Run summary:</h3><br/><table class=\"wandb\"><tr><td>Epoch</td><td>7</td></tr><tr><td>Train Loss</td><td>0.05345</td></tr><tr><td>Validation Loss</td><td>0.09192</td></tr></table><br/></div></div>"
      ],
      "text/plain": [
       "<IPython.core.display.HTML object>"
      ]
     },
     "metadata": {},
     "output_type": "display_data"
    },
    {
     "data": {
      "text/html": [
       " View run <strong style=\"color:#cdcd00\">ToBERT-Trial16</strong> at: <a href='https://wandb.ai/gmarinowandb-8601/RhetoricalRolesClassification-ITA-RhetRoles/runs/uhwcvlwx' target=\"_blank\">https://wandb.ai/gmarinowandb-8601/RhetoricalRolesClassification-ITA-RhetRoles/runs/uhwcvlwx</a><br/>Synced 5 W&B file(s), 0 media file(s), 0 artifact file(s) and 0 other file(s)"
      ],
      "text/plain": [
       "<IPython.core.display.HTML object>"
      ]
     },
     "metadata": {},
     "output_type": "display_data"
    },
    {
     "data": {
      "text/html": [
       "Find logs at: <code>./wandb/run-20230426_001433-uhwcvlwx/logs</code>"
      ],
      "text/plain": [
       "<IPython.core.display.HTML object>"
      ]
     },
     "metadata": {},
     "output_type": "display_data"
    },
    {
     "name": "stderr",
     "output_type": "stream",
     "text": [
      "\u001b[32m[I 2023-04-26 00:55:32,520]\u001b[0m Trial 16 finished with value: 0.08906186372041702 and parameters: {'lr': 7.617267134583803e-05, 'weight_decay': 0.06684488355878905, 'embedding': 'rel', 'transformer_dropout': 0.3204953784558631, 'transformer_dim_feedforward': 599}. Best is trial 14 with value: 0.08339666575193405.\u001b[0m\n"
     ]
    },
    {
     "name": "stdout",
     "output_type": "stream",
     "text": [
      "\n",
      "************************ Starting New Optuna Trial ************************\n",
      "\n"
     ]
    },
    {
     "name": "stderr",
     "output_type": "stream",
     "text": [
      "Some weights of the model checkpoint at dlicari/Italian-Legal-BERT were not used when initializing BertForTokenClassification: ['cls.predictions.transform.LayerNorm.bias', 'cls.predictions.transform.dense.weight', 'cls.predictions.decoder.weight', 'cls.predictions.transform.dense.bias', 'cls.predictions.decoder.bias', 'cls.predictions.bias', 'cls.predictions.transform.LayerNorm.weight']\n",
      "- This IS expected if you are initializing BertForTokenClassification from the checkpoint of a model trained on another task or with another architecture (e.g. initializing a BertForSequenceClassification model from a BertForPreTraining model).\n",
      "- This IS NOT expected if you are initializing BertForTokenClassification from the checkpoint of a model that you expect to be exactly identical (initializing a BertForSequenceClassification model from a BertForSequenceClassification model).\n",
      "Some weights of BertForTokenClassification were not initialized from the model checkpoint at dlicari/Italian-Legal-BERT and are newly initialized: ['classifier.bias', 'classifier.weight']\n",
      "You should probably TRAIN this model on a down-stream task to be able to use it for predictions and inference.\n"
     ]
    },
    {
     "data": {
      "text/html": [
       "wandb version 0.15.0 is available!  To upgrade, please run:\n",
       " $ pip install wandb --upgrade"
      ],
      "text/plain": [
       "<IPython.core.display.HTML object>"
      ]
     },
     "metadata": {},
     "output_type": "display_data"
    },
    {
     "data": {
      "text/html": [
       "Tracking run with wandb version 0.13.10"
      ],
      "text/plain": [
       "<IPython.core.display.HTML object>"
      ]
     },
     "metadata": {},
     "output_type": "display_data"
    },
    {
     "data": {
      "text/html": [
       "Run data is saved locally in <code>/home/g.marino/Desktop/GA/RhetoricalRolesClassification/ITA-RhetRoles/wandb/run-20230426_005534-5s30xfnj</code>"
      ],
      "text/plain": [
       "<IPython.core.display.HTML object>"
      ]
     },
     "metadata": {},
     "output_type": "display_data"
    },
    {
     "data": {
      "text/html": [
       "Syncing run <strong><a href='https://wandb.ai/gmarinowandb-8601/RhetoricalRolesClassification-ITA-RhetRoles/runs/5s30xfnj' target=\"_blank\">ToBERT-Trial17</a></strong> to <a href='https://wandb.ai/gmarinowandb-8601/RhetoricalRolesClassification-ITA-RhetRoles' target=\"_blank\">Weights & Biases</a> (<a href='https://wandb.me/run' target=\"_blank\">docs</a>)<br/>"
      ],
      "text/plain": [
       "<IPython.core.display.HTML object>"
      ]
     },
     "metadata": {},
     "output_type": "display_data"
    },
    {
     "data": {
      "text/html": [
       " View project at <a href='https://wandb.ai/gmarinowandb-8601/RhetoricalRolesClassification-ITA-RhetRoles' target=\"_blank\">https://wandb.ai/gmarinowandb-8601/RhetoricalRolesClassification-ITA-RhetRoles</a>"
      ],
      "text/plain": [
       "<IPython.core.display.HTML object>"
      ]
     },
     "metadata": {},
     "output_type": "display_data"
    },
    {
     "data": {
      "text/html": [
       " View run at <a href='https://wandb.ai/gmarinowandb-8601/RhetoricalRolesClassification-ITA-RhetRoles/runs/5s30xfnj' target=\"_blank\">https://wandb.ai/gmarinowandb-8601/RhetoricalRolesClassification-ITA-RhetRoles/runs/5s30xfnj</a>"
      ],
      "text/plain": [
       "<IPython.core.display.HTML object>"
      ]
     },
     "metadata": {},
     "output_type": "display_data"
    },
    {
     "name": "stdout",
     "output_type": "stream",
     "text": [
      "\n",
      "************** Training Started **************\n",
      "\n",
      "EPOCH N. 1\n"
     ]
    },
    {
     "name": "stderr",
     "output_type": "stream",
     "text": [
      "1045it [05:06,  3.41it/s]\n"
     ]
    },
    {
     "name": "stdout",
     "output_type": "stream",
     "text": [
      "\n",
      "TRAIN RESULTS\n",
      "Loss: 0.8305217943123083\n",
      "Accuracy: 0.6636328883138269\n",
      "MCC: 0.47088373192957017\n",
      "Macro F1: 0.5816925592841411\n",
      "Macro Precision: 0.5864224378180749\n",
      "Macro Recall: 0.5844700547832693\n",
      "Micro F1: 0.6636328883138269\n",
      "Micro Precision: 0.6636328883138269\n",
      "Micro Recall: 0.6636328883138269\n",
      "\n",
      "VALIDATION RESULTS\n",
      "Loss: 0.8008034825325012\n",
      "Accuracy: 0.6467775467775467\n",
      "MCC: 0.5129227745494246\n",
      "Macro F1: 0.625152996243019\n",
      "Macro Precision: 0.6881226600442195\n",
      "Macro Recall: 0.6397648071965741\n",
      "Micro F1: 0.6467775467775467\n",
      "Micro Precision: 0.6467775467775467\n",
      "Micro Recall: 0.6467775467775467\n",
      "--------------------------------------------------\n"
     ]
    },
    {
     "data": {
      "text/html": [
       "Waiting for W&B process to finish... <strong style=\"color:red\">(failed 1).</strong> Press Control-C to abort syncing."
      ],
      "text/plain": [
       "<IPython.core.display.HTML object>"
      ]
     },
     "metadata": {},
     "output_type": "display_data"
    },
    {
     "data": {
      "application/vnd.jupyter.widget-view+json": {
       "model_id": "8e90a1267a6c4150869861742c72b156",
       "version_major": 2,
       "version_minor": 0
      },
      "text/plain": [
       "VBox(children=(Label(value='0.005 MB of 0.005 MB uploaded (0.000 MB deduped)\\r'), FloatProgress(value=1.0, max…"
      ]
     },
     "metadata": {},
     "output_type": "display_data"
    },
    {
     "data": {
      "text/html": [
       "<style>\n",
       "    table.wandb td:nth-child(1) { padding: 0 10px; text-align: left ; width: auto;} td:nth-child(2) {text-align: left ; width: 100%}\n",
       "    .wandb-row { display: flex; flex-direction: row; flex-wrap: wrap; justify-content: flex-start; width: 100% }\n",
       "    .wandb-col { display: flex; flex-direction: column; flex-basis: 100%; flex: 1; padding: 10px; }\n",
       "    </style>\n",
       "<div class=\"wandb-row\"><div class=\"wandb-col\"><h3>Run history:</h3><br/><table class=\"wandb\"><tr><td>Epoch</td><td>▁</td></tr><tr><td>Train Loss</td><td>▁</td></tr><tr><td>Validation Loss</td><td>▁</td></tr></table><br/></div><div class=\"wandb-col\"><h3>Run summary:</h3><br/><table class=\"wandb\"><tr><td>Epoch</td><td>1</td></tr><tr><td>Train Loss</td><td>0.83052</td></tr><tr><td>Validation Loss</td><td>0.8008</td></tr></table><br/></div></div>"
      ],
      "text/plain": [
       "<IPython.core.display.HTML object>"
      ]
     },
     "metadata": {},
     "output_type": "display_data"
    },
    {
     "data": {
      "text/html": [
       " View run <strong style=\"color:#cdcd00\">ToBERT-Trial17</strong> at: <a href='https://wandb.ai/gmarinowandb-8601/RhetoricalRolesClassification-ITA-RhetRoles/runs/5s30xfnj' target=\"_blank\">https://wandb.ai/gmarinowandb-8601/RhetoricalRolesClassification-ITA-RhetRoles/runs/5s30xfnj</a><br/>Synced 5 W&B file(s), 0 media file(s), 0 artifact file(s) and 0 other file(s)"
      ],
      "text/plain": [
       "<IPython.core.display.HTML object>"
      ]
     },
     "metadata": {},
     "output_type": "display_data"
    },
    {
     "data": {
      "text/html": [
       "Find logs at: <code>./wandb/run-20230426_005534-5s30xfnj/logs</code>"
      ],
      "text/plain": [
       "<IPython.core.display.HTML object>"
      ]
     },
     "metadata": {},
     "output_type": "display_data"
    },
    {
     "name": "stderr",
     "output_type": "stream",
     "text": [
      "\u001b[32m[I 2023-04-26 01:01:39,936]\u001b[0m Trial 17 pruned. \u001b[0m\n"
     ]
    },
    {
     "name": "stdout",
     "output_type": "stream",
     "text": [
      "\n",
      "************************ Starting New Optuna Trial ************************\n",
      "\n"
     ]
    },
    {
     "name": "stderr",
     "output_type": "stream",
     "text": [
      "Some weights of the model checkpoint at dlicari/Italian-Legal-BERT were not used when initializing BertForTokenClassification: ['cls.predictions.transform.LayerNorm.bias', 'cls.predictions.transform.dense.weight', 'cls.predictions.decoder.weight', 'cls.predictions.transform.dense.bias', 'cls.predictions.decoder.bias', 'cls.predictions.bias', 'cls.predictions.transform.LayerNorm.weight']\n",
      "- This IS expected if you are initializing BertForTokenClassification from the checkpoint of a model trained on another task or with another architecture (e.g. initializing a BertForSequenceClassification model from a BertForPreTraining model).\n",
      "- This IS NOT expected if you are initializing BertForTokenClassification from the checkpoint of a model that you expect to be exactly identical (initializing a BertForSequenceClassification model from a BertForSequenceClassification model).\n",
      "Some weights of BertForTokenClassification were not initialized from the model checkpoint at dlicari/Italian-Legal-BERT and are newly initialized: ['classifier.bias', 'classifier.weight']\n",
      "You should probably TRAIN this model on a down-stream task to be able to use it for predictions and inference.\n"
     ]
    },
    {
     "data": {
      "text/html": [
       "wandb version 0.15.0 is available!  To upgrade, please run:\n",
       " $ pip install wandb --upgrade"
      ],
      "text/plain": [
       "<IPython.core.display.HTML object>"
      ]
     },
     "metadata": {},
     "output_type": "display_data"
    },
    {
     "data": {
      "text/html": [
       "Tracking run with wandb version 0.13.10"
      ],
      "text/plain": [
       "<IPython.core.display.HTML object>"
      ]
     },
     "metadata": {},
     "output_type": "display_data"
    },
    {
     "data": {
      "text/html": [
       "Run data is saved locally in <code>/home/g.marino/Desktop/GA/RhetoricalRolesClassification/ITA-RhetRoles/wandb/run-20230426_010141-8u750d6k</code>"
      ],
      "text/plain": [
       "<IPython.core.display.HTML object>"
      ]
     },
     "metadata": {},
     "output_type": "display_data"
    },
    {
     "data": {
      "text/html": [
       "Syncing run <strong><a href='https://wandb.ai/gmarinowandb-8601/RhetoricalRolesClassification-ITA-RhetRoles/runs/8u750d6k' target=\"_blank\">ToBERT-Trial18</a></strong> to <a href='https://wandb.ai/gmarinowandb-8601/RhetoricalRolesClassification-ITA-RhetRoles' target=\"_blank\">Weights & Biases</a> (<a href='https://wandb.me/run' target=\"_blank\">docs</a>)<br/>"
      ],
      "text/plain": [
       "<IPython.core.display.HTML object>"
      ]
     },
     "metadata": {},
     "output_type": "display_data"
    },
    {
     "data": {
      "text/html": [
       " View project at <a href='https://wandb.ai/gmarinowandb-8601/RhetoricalRolesClassification-ITA-RhetRoles' target=\"_blank\">https://wandb.ai/gmarinowandb-8601/RhetoricalRolesClassification-ITA-RhetRoles</a>"
      ],
      "text/plain": [
       "<IPython.core.display.HTML object>"
      ]
     },
     "metadata": {},
     "output_type": "display_data"
    },
    {
     "data": {
      "text/html": [
       " View run at <a href='https://wandb.ai/gmarinowandb-8601/RhetoricalRolesClassification-ITA-RhetRoles/runs/8u750d6k' target=\"_blank\">https://wandb.ai/gmarinowandb-8601/RhetoricalRolesClassification-ITA-RhetRoles/runs/8u750d6k</a>"
      ],
      "text/plain": [
       "<IPython.core.display.HTML object>"
      ]
     },
     "metadata": {},
     "output_type": "display_data"
    },
    {
     "name": "stdout",
     "output_type": "stream",
     "text": [
      "\n",
      "************** Training Started **************\n",
      "\n",
      "EPOCH N. 1\n"
     ]
    },
    {
     "name": "stderr",
     "output_type": "stream",
     "text": [
      "1045it [05:06,  3.40it/s]\n"
     ]
    },
    {
     "name": "stdout",
     "output_type": "stream",
     "text": [
      "\n",
      "TRAIN RESULTS\n",
      "Loss: 0.37021821276217914\n",
      "Accuracy: 0.8597012291948479\n",
      "MCC: 0.7803580184267723\n",
      "Macro F1: 0.8530325431866815\n",
      "Macro Precision: 0.8573016299222826\n",
      "Macro Recall: 0.849441569696449\n",
      "Micro F1: 0.8597012291948479\n",
      "Micro Precision: 0.8597012291948479\n",
      "Micro Recall: 0.8597012291948479\n",
      "\n",
      "VALIDATION RESULTS\n",
      "Loss: 0.18894082307815552\n",
      "Accuracy: 0.9252598752598753\n",
      "MCC: 0.8864015133975125\n",
      "Macro F1: 0.9198788857174858\n",
      "Macro Precision: 0.9101465109741648\n",
      "Macro Recall: 0.9304974799654129\n",
      "Micro F1: 0.9252598752598753\n",
      "Micro Precision: 0.9252598752598753\n",
      "Micro Recall: 0.9252598752598753\n",
      "--------------------------------------------------\n",
      "EPOCH N. 2\n"
     ]
    },
    {
     "name": "stderr",
     "output_type": "stream",
     "text": [
      "1045it [05:07,  3.40it/s]\n"
     ]
    },
    {
     "name": "stdout",
     "output_type": "stream",
     "text": [
      "\n",
      "TRAIN RESULTS\n",
      "Loss: 0.6058959601914875\n",
      "Accuracy: 0.7559842380756338\n",
      "MCC: 0.6196440570941634\n",
      "Macro F1: 0.7131168970296388\n",
      "Macro Precision: 0.715581524646146\n",
      "Macro Recall: 0.7122579055435387\n",
      "Micro F1: 0.7559842380756338\n",
      "Micro Precision: 0.7559842380756338\n",
      "Micro Recall: 0.7559842380756338\n",
      "\n",
      "VALIDATION RESULTS\n",
      "Loss: 0.7194779515266418\n",
      "Accuracy: 0.7167359667359667\n",
      "MCC: 0.5519161911390287\n",
      "Macro F1: 0.6527618706529396\n",
      "Macro Precision: 0.6836783447888746\n",
      "Macro Recall: 0.6668239834486887\n",
      "Micro F1: 0.7167359667359667\n",
      "Micro Precision: 0.7167359667359667\n",
      "Micro Recall: 0.7167359667359667\n",
      "--------------------------------------------------\n",
      "EPOCH N. 3\n"
     ]
    },
    {
     "name": "stderr",
     "output_type": "stream",
     "text": [
      "1045it [05:07,  3.40it/s]\n"
     ]
    },
    {
     "name": "stdout",
     "output_type": "stream",
     "text": [
      "\n",
      "TRAIN RESULTS\n",
      "Loss: 0.6605166261133395\n",
      "Accuracy: 0.7247691583838146\n",
      "MCC: 0.5676561148306938\n",
      "Macro F1: 0.6857938495491933\n",
      "Macro Precision: 0.69728944418097\n",
      "Macro Recall: 0.6779165366102677\n",
      "Micro F1: 0.7247691583838146\n",
      "Micro Precision: 0.7247691583838146\n",
      "Micro Recall: 0.7247691583838146\n",
      "\n",
      "VALIDATION RESULTS\n",
      "Loss: 0.6781454682350159\n",
      "Accuracy: 0.7264033264033264\n",
      "MCC: 0.566282771505254\n",
      "Macro F1: 0.6839752972261154\n",
      "Macro Precision: 0.7236399853149762\n",
      "Macro Recall: 0.6576294110285894\n",
      "Micro F1: 0.7264033264033263\n",
      "Micro Precision: 0.7264033264033264\n",
      "Micro Recall: 0.7264033264033264\n",
      "Early stopped training\n",
      "--------------------------------------------------\n"
     ]
    },
    {
     "data": {
      "text/html": [
       "Waiting for W&B process to finish... <strong style=\"color:red\">(failed 1).</strong> Press Control-C to abort syncing."
      ],
      "text/plain": [
       "<IPython.core.display.HTML object>"
      ]
     },
     "metadata": {},
     "output_type": "display_data"
    },
    {
     "data": {
      "application/vnd.jupyter.widget-view+json": {
       "model_id": "30efae9584d94bce8fdc473857f685ce",
       "version_major": 2,
       "version_minor": 0
      },
      "text/plain": [
       "VBox(children=(Label(value='0.005 MB of 0.005 MB uploaded (0.000 MB deduped)\\r'), FloatProgress(value=1.0, max…"
      ]
     },
     "metadata": {},
     "output_type": "display_data"
    },
    {
     "data": {
      "text/html": [
       "<style>\n",
       "    table.wandb td:nth-child(1) { padding: 0 10px; text-align: left ; width: auto;} td:nth-child(2) {text-align: left ; width: 100%}\n",
       "    .wandb-row { display: flex; flex-direction: row; flex-wrap: wrap; justify-content: flex-start; width: 100% }\n",
       "    .wandb-col { display: flex; flex-direction: column; flex-basis: 100%; flex: 1; padding: 10px; }\n",
       "    </style>\n",
       "<div class=\"wandb-row\"><div class=\"wandb-col\"><h3>Run history:</h3><br/><table class=\"wandb\"><tr><td>Epoch</td><td>▁▅█</td></tr><tr><td>Train Loss</td><td>▁▇█</td></tr><tr><td>Validation Loss</td><td>▁█▇</td></tr></table><br/></div><div class=\"wandb-col\"><h3>Run summary:</h3><br/><table class=\"wandb\"><tr><td>Epoch</td><td>3</td></tr><tr><td>Train Loss</td><td>0.66052</td></tr><tr><td>Validation Loss</td><td>0.67815</td></tr></table><br/></div></div>"
      ],
      "text/plain": [
       "<IPython.core.display.HTML object>"
      ]
     },
     "metadata": {},
     "output_type": "display_data"
    },
    {
     "data": {
      "text/html": [
       " View run <strong style=\"color:#cdcd00\">ToBERT-Trial18</strong> at: <a href='https://wandb.ai/gmarinowandb-8601/RhetoricalRolesClassification-ITA-RhetRoles/runs/8u750d6k' target=\"_blank\">https://wandb.ai/gmarinowandb-8601/RhetoricalRolesClassification-ITA-RhetRoles/runs/8u750d6k</a><br/>Synced 5 W&B file(s), 0 media file(s), 0 artifact file(s) and 0 other file(s)"
      ],
      "text/plain": [
       "<IPython.core.display.HTML object>"
      ]
     },
     "metadata": {},
     "output_type": "display_data"
    },
    {
     "data": {
      "text/html": [
       "Find logs at: <code>./wandb/run-20230426_010141-8u750d6k/logs</code>"
      ],
      "text/plain": [
       "<IPython.core.display.HTML object>"
      ]
     },
     "metadata": {},
     "output_type": "display_data"
    },
    {
     "name": "stderr",
     "output_type": "stream",
     "text": [
      "\u001b[32m[I 2023-04-26 01:19:25,067]\u001b[0m Trial 18 pruned. \u001b[0m\n"
     ]
    },
    {
     "name": "stdout",
     "output_type": "stream",
     "text": [
      "\n",
      "************************ Starting New Optuna Trial ************************\n",
      "\n"
     ]
    },
    {
     "name": "stderr",
     "output_type": "stream",
     "text": [
      "Some weights of the model checkpoint at dlicari/Italian-Legal-BERT were not used when initializing BertForTokenClassification: ['cls.predictions.transform.LayerNorm.bias', 'cls.predictions.transform.dense.weight', 'cls.predictions.decoder.weight', 'cls.predictions.transform.dense.bias', 'cls.predictions.decoder.bias', 'cls.predictions.bias', 'cls.predictions.transform.LayerNorm.weight']\n",
      "- This IS expected if you are initializing BertForTokenClassification from the checkpoint of a model trained on another task or with another architecture (e.g. initializing a BertForSequenceClassification model from a BertForPreTraining model).\n",
      "- This IS NOT expected if you are initializing BertForTokenClassification from the checkpoint of a model that you expect to be exactly identical (initializing a BertForSequenceClassification model from a BertForSequenceClassification model).\n",
      "Some weights of BertForTokenClassification were not initialized from the model checkpoint at dlicari/Italian-Legal-BERT and are newly initialized: ['classifier.bias', 'classifier.weight']\n",
      "You should probably TRAIN this model on a down-stream task to be able to use it for predictions and inference.\n"
     ]
    },
    {
     "data": {
      "text/html": [
       "wandb version 0.15.0 is available!  To upgrade, please run:\n",
       " $ pip install wandb --upgrade"
      ],
      "text/plain": [
       "<IPython.core.display.HTML object>"
      ]
     },
     "metadata": {},
     "output_type": "display_data"
    },
    {
     "data": {
      "text/html": [
       "Tracking run with wandb version 0.13.10"
      ],
      "text/plain": [
       "<IPython.core.display.HTML object>"
      ]
     },
     "metadata": {},
     "output_type": "display_data"
    },
    {
     "data": {
      "text/html": [
       "Run data is saved locally in <code>/home/g.marino/Desktop/GA/RhetoricalRolesClassification/ITA-RhetRoles/wandb/run-20230426_011926-fvcgwtdg</code>"
      ],
      "text/plain": [
       "<IPython.core.display.HTML object>"
      ]
     },
     "metadata": {},
     "output_type": "display_data"
    },
    {
     "data": {
      "text/html": [
       "Syncing run <strong><a href='https://wandb.ai/gmarinowandb-8601/RhetoricalRolesClassification-ITA-RhetRoles/runs/fvcgwtdg' target=\"_blank\">ToBERT-Trial19</a></strong> to <a href='https://wandb.ai/gmarinowandb-8601/RhetoricalRolesClassification-ITA-RhetRoles' target=\"_blank\">Weights & Biases</a> (<a href='https://wandb.me/run' target=\"_blank\">docs</a>)<br/>"
      ],
      "text/plain": [
       "<IPython.core.display.HTML object>"
      ]
     },
     "metadata": {},
     "output_type": "display_data"
    },
    {
     "data": {
      "text/html": [
       " View project at <a href='https://wandb.ai/gmarinowandb-8601/RhetoricalRolesClassification-ITA-RhetRoles' target=\"_blank\">https://wandb.ai/gmarinowandb-8601/RhetoricalRolesClassification-ITA-RhetRoles</a>"
      ],
      "text/plain": [
       "<IPython.core.display.HTML object>"
      ]
     },
     "metadata": {},
     "output_type": "display_data"
    },
    {
     "data": {
      "text/html": [
       " View run at <a href='https://wandb.ai/gmarinowandb-8601/RhetoricalRolesClassification-ITA-RhetRoles/runs/fvcgwtdg' target=\"_blank\">https://wandb.ai/gmarinowandb-8601/RhetoricalRolesClassification-ITA-RhetRoles/runs/fvcgwtdg</a>"
      ],
      "text/plain": [
       "<IPython.core.display.HTML object>"
      ]
     },
     "metadata": {},
     "output_type": "display_data"
    },
    {
     "name": "stdout",
     "output_type": "stream",
     "text": [
      "\n",
      "************** Training Started **************\n",
      "\n",
      "EPOCH N. 1\n"
     ]
    },
    {
     "name": "stderr",
     "output_type": "stream",
     "text": [
      "1045it [05:01,  3.47it/s]\n"
     ]
    },
    {
     "name": "stdout",
     "output_type": "stream",
     "text": [
      "\n",
      "TRAIN RESULTS\n",
      "Loss: 0.3667588197113723\n",
      "Accuracy: 0.8543786390636946\n",
      "MCC: 0.7707387035855462\n",
      "Macro F1: 0.8492370360345836\n",
      "Macro Precision: 0.8629364172220437\n",
      "Macro Recall: 0.8373155254717597\n",
      "Micro F1: 0.8543786390636946\n",
      "Micro Precision: 0.8543786390636946\n",
      "Micro Recall: 0.8543786390636946\n",
      "\n",
      "VALIDATION RESULTS\n",
      "Loss: 0.19640536606311798\n",
      "Accuracy: 0.9171517671517672\n",
      "MCC: 0.8722643027435404\n",
      "Macro F1: 0.9245165329875211\n",
      "Macro Precision: 0.9432143991017753\n",
      "Macro Recall: 0.908782441464109\n",
      "Micro F1: 0.9171517671517672\n",
      "Micro Precision: 0.9171517671517672\n",
      "Micro Recall: 0.9171517671517672\n",
      "--------------------------------------------------\n",
      "EPOCH N. 2\n"
     ]
    },
    {
     "name": "stderr",
     "output_type": "stream",
     "text": [
      "1045it [05:00,  3.48it/s]\n"
     ]
    },
    {
     "name": "stdout",
     "output_type": "stream",
     "text": [
      "\n",
      "TRAIN RESULTS\n",
      "Loss: 0.18239654900403648\n",
      "Accuracy: 0.935011468564371\n",
      "MCC: 0.8985541768188503\n",
      "Macro F1: 0.9385742080290674\n",
      "Macro Precision: 0.9431757944845882\n",
      "Macro Recall: 0.9342174220307069\n",
      "Micro F1: 0.935011468564371\n",
      "Micro Precision: 0.935011468564371\n",
      "Micro Recall: 0.935011468564371\n",
      "\n",
      "VALIDATION RESULTS\n",
      "Loss: 0.1136695146560669\n",
      "Accuracy: 0.9508316008316008\n",
      "MCC: 0.9242964774777004\n",
      "Macro F1: 0.9497266384492162\n",
      "Macro Precision: 0.9585285298160755\n",
      "Macro Recall: 0.9417406715396863\n",
      "Micro F1: 0.9508316008316008\n",
      "Micro Precision: 0.9508316008316008\n",
      "Micro Recall: 0.9508316008316008\n",
      "--------------------------------------------------\n",
      "EPOCH N. 3\n"
     ]
    },
    {
     "name": "stderr",
     "output_type": "stream",
     "text": [
      "1045it [05:00,  3.48it/s]\n"
     ]
    },
    {
     "name": "stdout",
     "output_type": "stream",
     "text": [
      "\n",
      "TRAIN RESULTS\n",
      "Loss: 0.3889289748842681\n",
      "Accuracy: 0.8525554313944598\n",
      "MCC: 0.7687457380861104\n",
      "Macro F1: 0.825177429545745\n",
      "Macro Precision: 0.8342381030910364\n",
      "Macro Recall: 0.8188364274064408\n",
      "Micro F1: 0.8525554313944598\n",
      "Micro Precision: 0.8525554313944598\n",
      "Micro Recall: 0.8525554313944598\n",
      "\n",
      "VALIDATION RESULTS\n",
      "Loss: 0.9514402747154236\n",
      "Accuracy: 0.6284823284823284\n",
      "MCC: 0.4854042002062793\n",
      "Macro F1: 0.6152029001994082\n",
      "Macro Precision: 0.5806608718535923\n",
      "Macro Recall: 0.68567396411127\n",
      "Micro F1: 0.6284823284823284\n",
      "Micro Precision: 0.6284823284823284\n",
      "Micro Recall: 0.6284823284823284\n",
      "--------------------------------------------------\n",
      "EPOCH N. 4\n"
     ]
    },
    {
     "name": "stderr",
     "output_type": "stream",
     "text": [
      "1045it [04:59,  3.49it/s]\n"
     ]
    },
    {
     "name": "stdout",
     "output_type": "stream",
     "text": [
      "\n",
      "TRAIN RESULTS\n",
      "Loss: 0.718121399063813\n",
      "Accuracy: 0.7100364641533847\n",
      "MCC: 0.5399705790974294\n",
      "Macro F1: 0.6572913982004859\n",
      "Macro Precision: 0.6715511891007152\n",
      "Macro Recall: 0.6480972421153518\n",
      "Micro F1: 0.7100364641533847\n",
      "Micro Precision: 0.7100364641533847\n",
      "Micro Recall: 0.7100364641533847\n",
      "\n",
      "VALIDATION RESULTS\n",
      "Loss: 0.6660309433937073\n",
      "Accuracy: 0.7039501039501039\n",
      "MCC: 0.5585275678519465\n",
      "Macro F1: 0.6938743517090702\n",
      "Macro Precision: 0.6788647804246487\n",
      "Macro Recall: 0.7164906119045302\n",
      "Micro F1: 0.7039501039501039\n",
      "Micro Precision: 0.7039501039501039\n",
      "Micro Recall: 0.7039501039501039\n",
      "Early stopped training\n",
      "--------------------------------------------------\n"
     ]
    },
    {
     "data": {
      "text/html": [
       "Waiting for W&B process to finish... <strong style=\"color:red\">(failed 1).</strong> Press Control-C to abort syncing."
      ],
      "text/plain": [
       "<IPython.core.display.HTML object>"
      ]
     },
     "metadata": {},
     "output_type": "display_data"
    },
    {
     "data": {
      "application/vnd.jupyter.widget-view+json": {
       "model_id": "1c46b82cb0e84fbca0b7d7c17f08b95b",
       "version_major": 2,
       "version_minor": 0
      },
      "text/plain": [
       "VBox(children=(Label(value='0.005 MB of 0.005 MB uploaded (0.000 MB deduped)\\r'), FloatProgress(value=1.0, max…"
      ]
     },
     "metadata": {},
     "output_type": "display_data"
    },
    {
     "data": {
      "text/html": [
       "<style>\n",
       "    table.wandb td:nth-child(1) { padding: 0 10px; text-align: left ; width: auto;} td:nth-child(2) {text-align: left ; width: 100%}\n",
       "    .wandb-row { display: flex; flex-direction: row; flex-wrap: wrap; justify-content: flex-start; width: 100% }\n",
       "    .wandb-col { display: flex; flex-direction: column; flex-basis: 100%; flex: 1; padding: 10px; }\n",
       "    </style>\n",
       "<div class=\"wandb-row\"><div class=\"wandb-col\"><h3>Run history:</h3><br/><table class=\"wandb\"><tr><td>Epoch</td><td>▁▃▆█</td></tr><tr><td>Train Loss</td><td>▃▁▄█</td></tr><tr><td>Validation Loss</td><td>▂▁█▆</td></tr></table><br/></div><div class=\"wandb-col\"><h3>Run summary:</h3><br/><table class=\"wandb\"><tr><td>Epoch</td><td>4</td></tr><tr><td>Train Loss</td><td>0.71812</td></tr><tr><td>Validation Loss</td><td>0.66603</td></tr></table><br/></div></div>"
      ],
      "text/plain": [
       "<IPython.core.display.HTML object>"
      ]
     },
     "metadata": {},
     "output_type": "display_data"
    },
    {
     "data": {
      "text/html": [
       " View run <strong style=\"color:#cdcd00\">ToBERT-Trial19</strong> at: <a href='https://wandb.ai/gmarinowandb-8601/RhetoricalRolesClassification-ITA-RhetRoles/runs/fvcgwtdg' target=\"_blank\">https://wandb.ai/gmarinowandb-8601/RhetoricalRolesClassification-ITA-RhetRoles/runs/fvcgwtdg</a><br/>Synced 5 W&B file(s), 0 media file(s), 0 artifact file(s) and 0 other file(s)"
      ],
      "text/plain": [
       "<IPython.core.display.HTML object>"
      ]
     },
     "metadata": {},
     "output_type": "display_data"
    },
    {
     "data": {
      "text/html": [
       "Find logs at: <code>./wandb/run-20230426_011926-fvcgwtdg/logs</code>"
      ],
      "text/plain": [
       "<IPython.core.display.HTML object>"
      ]
     },
     "metadata": {},
     "output_type": "display_data"
    },
    {
     "name": "stderr",
     "output_type": "stream",
     "text": [
      "\u001b[32m[I 2023-04-26 01:42:36,133]\u001b[0m Trial 19 pruned. \u001b[0m\n"
     ]
    },
    {
     "name": "stdout",
     "output_type": "stream",
     "text": [
      "\n",
      "************************ Starting New Optuna Trial ************************\n",
      "\n"
     ]
    },
    {
     "name": "stderr",
     "output_type": "stream",
     "text": [
      "Some weights of the model checkpoint at dlicari/Italian-Legal-BERT were not used when initializing BertForTokenClassification: ['cls.predictions.transform.LayerNorm.bias', 'cls.predictions.transform.dense.weight', 'cls.predictions.decoder.weight', 'cls.predictions.transform.dense.bias', 'cls.predictions.decoder.bias', 'cls.predictions.bias', 'cls.predictions.transform.LayerNorm.weight']\n",
      "- This IS expected if you are initializing BertForTokenClassification from the checkpoint of a model trained on another task or with another architecture (e.g. initializing a BertForSequenceClassification model from a BertForPreTraining model).\n",
      "- This IS NOT expected if you are initializing BertForTokenClassification from the checkpoint of a model that you expect to be exactly identical (initializing a BertForSequenceClassification model from a BertForSequenceClassification model).\n",
      "Some weights of BertForTokenClassification were not initialized from the model checkpoint at dlicari/Italian-Legal-BERT and are newly initialized: ['classifier.bias', 'classifier.weight']\n",
      "You should probably TRAIN this model on a down-stream task to be able to use it for predictions and inference.\n"
     ]
    },
    {
     "data": {
      "text/html": [
       "wandb version 0.15.0 is available!  To upgrade, please run:\n",
       " $ pip install wandb --upgrade"
      ],
      "text/plain": [
       "<IPython.core.display.HTML object>"
      ]
     },
     "metadata": {},
     "output_type": "display_data"
    },
    {
     "data": {
      "text/html": [
       "Tracking run with wandb version 0.13.10"
      ],
      "text/plain": [
       "<IPython.core.display.HTML object>"
      ]
     },
     "metadata": {},
     "output_type": "display_data"
    },
    {
     "data": {
      "text/html": [
       "Run data is saved locally in <code>/home/g.marino/Desktop/GA/RhetoricalRolesClassification/ITA-RhetRoles/wandb/run-20230426_014237-8nzyyfbe</code>"
      ],
      "text/plain": [
       "<IPython.core.display.HTML object>"
      ]
     },
     "metadata": {},
     "output_type": "display_data"
    },
    {
     "data": {
      "text/html": [
       "Syncing run <strong><a href='https://wandb.ai/gmarinowandb-8601/RhetoricalRolesClassification-ITA-RhetRoles/runs/8nzyyfbe' target=\"_blank\">ToBERT-Trial20</a></strong> to <a href='https://wandb.ai/gmarinowandb-8601/RhetoricalRolesClassification-ITA-RhetRoles' target=\"_blank\">Weights & Biases</a> (<a href='https://wandb.me/run' target=\"_blank\">docs</a>)<br/>"
      ],
      "text/plain": [
       "<IPython.core.display.HTML object>"
      ]
     },
     "metadata": {},
     "output_type": "display_data"
    },
    {
     "data": {
      "text/html": [
       " View project at <a href='https://wandb.ai/gmarinowandb-8601/RhetoricalRolesClassification-ITA-RhetRoles' target=\"_blank\">https://wandb.ai/gmarinowandb-8601/RhetoricalRolesClassification-ITA-RhetRoles</a>"
      ],
      "text/plain": [
       "<IPython.core.display.HTML object>"
      ]
     },
     "metadata": {},
     "output_type": "display_data"
    },
    {
     "data": {
      "text/html": [
       " View run at <a href='https://wandb.ai/gmarinowandb-8601/RhetoricalRolesClassification-ITA-RhetRoles/runs/8nzyyfbe' target=\"_blank\">https://wandb.ai/gmarinowandb-8601/RhetoricalRolesClassification-ITA-RhetRoles/runs/8nzyyfbe</a>"
      ],
      "text/plain": [
       "<IPython.core.display.HTML object>"
      ]
     },
     "metadata": {},
     "output_type": "display_data"
    },
    {
     "name": "stdout",
     "output_type": "stream",
     "text": [
      "\n",
      "************** Training Started **************\n",
      "\n",
      "EPOCH N. 1\n"
     ]
    },
    {
     "name": "stderr",
     "output_type": "stream",
     "text": [
      "1045it [05:07,  3.40it/s]\n"
     ]
    },
    {
     "name": "stdout",
     "output_type": "stream",
     "text": [
      "\n",
      "TRAIN RESULTS\n",
      "Loss: 0.3849005237939148\n",
      "Accuracy: 0.85749573604658\n",
      "MCC: 0.7764074600913179\n",
      "Macro F1: 0.8533687246758566\n",
      "Macro Precision: 0.8630883851890545\n",
      "Macro Recall: 0.8443104776125218\n",
      "Micro F1: 0.85749573604658\n",
      "Micro Precision: 0.85749573604658\n",
      "Micro Recall: 0.85749573604658\n",
      "\n",
      "VALIDATION RESULTS\n",
      "Loss: 0.1910741776227951\n",
      "Accuracy: 0.9255717255717256\n",
      "MCC: 0.8851887399839918\n",
      "Macro F1: 0.9249085912727859\n",
      "Macro Precision: 0.9475035698403508\n",
      "Macro Recall: 0.9063478451808684\n",
      "Micro F1: 0.9255717255717256\n",
      "Micro Precision: 0.9255717255717256\n",
      "Micro Recall: 0.9255717255717256\n",
      "--------------------------------------------------\n",
      "EPOCH N. 2\n"
     ]
    },
    {
     "name": "stderr",
     "output_type": "stream",
     "text": [
      "1045it [05:07,  3.40it/s]\n"
     ]
    },
    {
     "name": "stdout",
     "output_type": "stream",
     "text": [
      "\n",
      "TRAIN RESULTS\n",
      "Loss: 0.4268184759208496\n",
      "Accuracy: 0.839425395518438\n",
      "MCC: 0.7490743391798068\n",
      "Macro F1: 0.8180970147647979\n",
      "Macro Precision: 0.8193149688268463\n",
      "Macro Recall: 0.8176237643081226\n",
      "Micro F1: 0.8394253955184379\n",
      "Micro Precision: 0.839425395518438\n",
      "Micro Recall: 0.839425395518438\n",
      "\n",
      "VALIDATION RESULTS\n",
      "Loss: 0.7805341482162476\n",
      "Accuracy: 0.6771309771309771\n",
      "MCC: 0.4990291685186094\n",
      "Macro F1: 0.5513177208155391\n",
      "Macro Precision: 0.5895214058447606\n",
      "Macro Recall: 0.6312881308113507\n",
      "Micro F1: 0.6771309771309771\n",
      "Micro Precision: 0.6771309771309771\n",
      "Micro Recall: 0.6771309771309771\n",
      "--------------------------------------------------\n",
      "EPOCH N. 3\n"
     ]
    },
    {
     "name": "stderr",
     "output_type": "stream",
     "text": [
      "1045it [05:07,  3.39it/s]\n"
     ]
    },
    {
     "name": "stdout",
     "output_type": "stream",
     "text": [
      "\n",
      "TRAIN RESULTS\n",
      "Loss: 0.6797053647526143\n",
      "Accuracy: 0.7159471857907428\n",
      "MCC: 0.5552678783830605\n",
      "Macro F1: 0.6724218543417474\n",
      "Macro Precision: 0.6806419843205036\n",
      "Macro Recall: 0.6674374178182187\n",
      "Micro F1: 0.7159471857907428\n",
      "Micro Precision: 0.7159471857907428\n",
      "Micro Recall: 0.7159471857907428\n",
      "\n",
      "VALIDATION RESULTS\n",
      "Loss: 0.6413156390190125\n",
      "Accuracy: 0.7090436590436591\n",
      "MCC: 0.5556027181896489\n",
      "Macro F1: 0.65486309091437\n",
      "Macro Precision: 0.6553931609696357\n",
      "Macro Recall: 0.7044604695653023\n",
      "Micro F1: 0.7090436590436591\n",
      "Micro Precision: 0.7090436590436591\n",
      "Micro Recall: 0.7090436590436591\n",
      "Early stopped training\n",
      "--------------------------------------------------\n"
     ]
    },
    {
     "data": {
      "text/html": [
       "Waiting for W&B process to finish... <strong style=\"color:red\">(failed 1).</strong> Press Control-C to abort syncing."
      ],
      "text/plain": [
       "<IPython.core.display.HTML object>"
      ]
     },
     "metadata": {},
     "output_type": "display_data"
    },
    {
     "data": {
      "text/html": [
       "<style>\n",
       "    table.wandb td:nth-child(1) { padding: 0 10px; text-align: left ; width: auto;} td:nth-child(2) {text-align: left ; width: 100%}\n",
       "    .wandb-row { display: flex; flex-direction: row; flex-wrap: wrap; justify-content: flex-start; width: 100% }\n",
       "    .wandb-col { display: flex; flex-direction: column; flex-basis: 100%; flex: 1; padding: 10px; }\n",
       "    </style>\n",
       "<div class=\"wandb-row\"><div class=\"wandb-col\"><h3>Run history:</h3><br/><table class=\"wandb\"><tr><td>Epoch</td><td>▁▅█</td></tr><tr><td>Train Loss</td><td>▁▂█</td></tr><tr><td>Validation Loss</td><td>▁█▆</td></tr></table><br/></div><div class=\"wandb-col\"><h3>Run summary:</h3><br/><table class=\"wandb\"><tr><td>Epoch</td><td>3</td></tr><tr><td>Train Loss</td><td>0.67971</td></tr><tr><td>Validation Loss</td><td>0.64132</td></tr></table><br/></div></div>"
      ],
      "text/plain": [
       "<IPython.core.display.HTML object>"
      ]
     },
     "metadata": {},
     "output_type": "display_data"
    },
    {
     "data": {
      "text/html": [
       " View run <strong style=\"color:#cdcd00\">ToBERT-Trial20</strong> at: <a href='https://wandb.ai/gmarinowandb-8601/RhetoricalRolesClassification-ITA-RhetRoles/runs/8nzyyfbe' target=\"_blank\">https://wandb.ai/gmarinowandb-8601/RhetoricalRolesClassification-ITA-RhetRoles/runs/8nzyyfbe</a><br/>Synced 5 W&B file(s), 0 media file(s), 0 artifact file(s) and 0 other file(s)"
      ],
      "text/plain": [
       "<IPython.core.display.HTML object>"
      ]
     },
     "metadata": {},
     "output_type": "display_data"
    },
    {
     "data": {
      "text/html": [
       "Find logs at: <code>./wandb/run-20230426_014237-8nzyyfbe/logs</code>"
      ],
      "text/plain": [
       "<IPython.core.display.HTML object>"
      ]
     },
     "metadata": {},
     "output_type": "display_data"
    },
    {
     "name": "stderr",
     "output_type": "stream",
     "text": [
      "\u001b[32m[I 2023-04-26 02:00:17,900]\u001b[0m Trial 20 pruned. \u001b[0m\n"
     ]
    },
    {
     "name": "stdout",
     "output_type": "stream",
     "text": [
      "\n",
      "************************ Starting New Optuna Trial ************************\n",
      "\n"
     ]
    },
    {
     "name": "stderr",
     "output_type": "stream",
     "text": [
      "Some weights of the model checkpoint at dlicari/Italian-Legal-BERT were not used when initializing BertForTokenClassification: ['cls.predictions.transform.LayerNorm.bias', 'cls.predictions.transform.dense.weight', 'cls.predictions.decoder.weight', 'cls.predictions.transform.dense.bias', 'cls.predictions.decoder.bias', 'cls.predictions.bias', 'cls.predictions.transform.LayerNorm.weight']\n",
      "- This IS expected if you are initializing BertForTokenClassification from the checkpoint of a model trained on another task or with another architecture (e.g. initializing a BertForSequenceClassification model from a BertForPreTraining model).\n",
      "- This IS NOT expected if you are initializing BertForTokenClassification from the checkpoint of a model that you expect to be exactly identical (initializing a BertForSequenceClassification model from a BertForSequenceClassification model).\n",
      "Some weights of BertForTokenClassification were not initialized from the model checkpoint at dlicari/Italian-Legal-BERT and are newly initialized: ['classifier.bias', 'classifier.weight']\n",
      "You should probably TRAIN this model on a down-stream task to be able to use it for predictions and inference.\n"
     ]
    },
    {
     "data": {
      "text/html": [
       "wandb version 0.15.0 is available!  To upgrade, please run:\n",
       " $ pip install wandb --upgrade"
      ],
      "text/plain": [
       "<IPython.core.display.HTML object>"
      ]
     },
     "metadata": {},
     "output_type": "display_data"
    },
    {
     "data": {
      "text/html": [
       "Tracking run with wandb version 0.13.10"
      ],
      "text/plain": [
       "<IPython.core.display.HTML object>"
      ]
     },
     "metadata": {},
     "output_type": "display_data"
    },
    {
     "data": {
      "text/html": [
       "Run data is saved locally in <code>/home/g.marino/Desktop/GA/RhetoricalRolesClassification/ITA-RhetRoles/wandb/run-20230426_020019-xapvnsqo</code>"
      ],
      "text/plain": [
       "<IPython.core.display.HTML object>"
      ]
     },
     "metadata": {},
     "output_type": "display_data"
    },
    {
     "data": {
      "text/html": [
       "Syncing run <strong><a href='https://wandb.ai/gmarinowandb-8601/RhetoricalRolesClassification-ITA-RhetRoles/runs/xapvnsqo' target=\"_blank\">ToBERT-Trial21</a></strong> to <a href='https://wandb.ai/gmarinowandb-8601/RhetoricalRolesClassification-ITA-RhetRoles' target=\"_blank\">Weights & Biases</a> (<a href='https://wandb.me/run' target=\"_blank\">docs</a>)<br/>"
      ],
      "text/plain": [
       "<IPython.core.display.HTML object>"
      ]
     },
     "metadata": {},
     "output_type": "display_data"
    },
    {
     "data": {
      "text/html": [
       " View project at <a href='https://wandb.ai/gmarinowandb-8601/RhetoricalRolesClassification-ITA-RhetRoles' target=\"_blank\">https://wandb.ai/gmarinowandb-8601/RhetoricalRolesClassification-ITA-RhetRoles</a>"
      ],
      "text/plain": [
       "<IPython.core.display.HTML object>"
      ]
     },
     "metadata": {},
     "output_type": "display_data"
    },
    {
     "data": {
      "text/html": [
       " View run at <a href='https://wandb.ai/gmarinowandb-8601/RhetoricalRolesClassification-ITA-RhetRoles/runs/xapvnsqo' target=\"_blank\">https://wandb.ai/gmarinowandb-8601/RhetoricalRolesClassification-ITA-RhetRoles/runs/xapvnsqo</a>"
      ],
      "text/plain": [
       "<IPython.core.display.HTML object>"
      ]
     },
     "metadata": {},
     "output_type": "display_data"
    },
    {
     "name": "stdout",
     "output_type": "stream",
     "text": [
      "\n",
      "************** Training Started **************\n",
      "\n",
      "EPOCH N. 1\n"
     ]
    },
    {
     "name": "stderr",
     "output_type": "stream",
     "text": [
      "1045it [05:01,  3.46it/s]\n"
     ]
    },
    {
     "name": "stdout",
     "output_type": "stream",
     "text": [
      "\n",
      "TRAIN RESULTS\n",
      "Loss: 0.3805750908477134\n",
      "Accuracy: 0.8505704875610186\n",
      "MCC: 0.7650580511582532\n",
      "Macro F1: 0.8474636584120636\n",
      "Macro Precision: 0.8580527409798346\n",
      "Macro Recall: 0.8380529885856578\n",
      "Micro F1: 0.8505704875610186\n",
      "Micro Precision: 0.8505704875610186\n",
      "Micro Recall: 0.8505704875610186\n",
      "\n",
      "VALIDATION RESULTS\n",
      "Loss: 0.216184601187706\n",
      "Accuracy: 0.9124740124740125\n",
      "MCC: 0.8664844461162083\n",
      "Macro F1: 0.90760928634895\n",
      "Macro Precision: 0.8956375535245709\n",
      "Macro Recall: 0.9221506339337082\n",
      "Micro F1: 0.9124740124740125\n",
      "Micro Precision: 0.9124740124740125\n",
      "Micro Recall: 0.9124740124740125\n",
      "--------------------------------------------------\n",
      "EPOCH N. 2\n"
     ]
    },
    {
     "name": "stderr",
     "output_type": "stream",
     "text": [
      "1045it [05:00,  3.48it/s]\n"
     ]
    },
    {
     "name": "stdout",
     "output_type": "stream",
     "text": [
      "\n",
      "TRAIN RESULTS\n",
      "Loss: 0.1811180905562616\n",
      "Accuracy: 0.9332617773334118\n",
      "MCC: 0.895944087449072\n",
      "Macro F1: 0.9348334863776065\n",
      "Macro Precision: 0.9378908547408329\n",
      "Macro Recall: 0.9319489161042119\n",
      "Micro F1: 0.9332617773334118\n",
      "Micro Precision: 0.9332617773334118\n",
      "Micro Recall: 0.9332617773334118\n",
      "\n",
      "VALIDATION RESULTS\n",
      "Loss: 0.13644595444202423\n",
      "Accuracy: 0.9451143451143451\n",
      "MCC: 0.9155341755365578\n",
      "Macro F1: 0.938949222259215\n",
      "Macro Precision: 0.951997951073638\n",
      "Macro Recall: 0.9274125952623212\n",
      "Micro F1: 0.9451143451143451\n",
      "Micro Precision: 0.9451143451143451\n",
      "Micro Recall: 0.9451143451143451\n",
      "--------------------------------------------------\n",
      "EPOCH N. 3\n"
     ]
    },
    {
     "name": "stderr",
     "output_type": "stream",
     "text": [
      "1045it [05:00,  3.48it/s]\n"
     ]
    },
    {
     "name": "stdout",
     "output_type": "stream",
     "text": [
      "\n",
      "TRAIN RESULTS\n",
      "Loss: 0.12419011472350067\n",
      "Accuracy: 0.9581397400458742\n",
      "MCC: 0.9347039243896995\n",
      "Macro F1: 0.9576039542669686\n",
      "Macro Precision: 0.962840823504501\n",
      "Macro Recall: 0.9525551924167116\n",
      "Micro F1: 0.9581397400458742\n",
      "Micro Precision: 0.9581397400458742\n",
      "Micro Recall: 0.9581397400458742\n",
      "\n",
      "VALIDATION RESULTS\n",
      "Loss: 0.10588196665048599\n",
      "Accuracy: 0.9565488565488566\n",
      "MCC: 0.9335053985900257\n",
      "Macro F1: 0.9568128878076149\n",
      "Macro Precision: 0.9659440897382922\n",
      "Macro Recall: 0.9495403722075482\n",
      "Micro F1: 0.9565488565488566\n",
      "Micro Precision: 0.9565488565488566\n",
      "Micro Recall: 0.9565488565488566\n",
      "--------------------------------------------------\n",
      "EPOCH N. 4\n"
     ]
    },
    {
     "name": "stderr",
     "output_type": "stream",
     "text": [
      "1045it [04:59,  3.49it/s]\n"
     ]
    },
    {
     "name": "stdout",
     "output_type": "stream",
     "text": [
      "\n",
      "TRAIN RESULTS\n",
      "Loss: 0.10176599343852073\n",
      "Accuracy: 0.9659324825030877\n",
      "MCC: 0.946907751190234\n",
      "Macro F1: 0.9648339270723593\n",
      "Macro Precision: 0.9686787289811323\n",
      "Macro Recall: 0.9611001509913694\n",
      "Micro F1: 0.9659324825030877\n",
      "Micro Precision: 0.9659324825030877\n",
      "Micro Recall: 0.9659324825030877\n",
      "\n",
      "VALIDATION RESULTS\n",
      "Loss: 0.09743400663137436\n",
      "Accuracy: 0.9719334719334719\n",
      "MCC: 0.956863526103717\n",
      "Macro F1: 0.9672765585340057\n",
      "Macro Precision: 0.9760931573336261\n",
      "Macro Recall: 0.9593438241481588\n",
      "Micro F1: 0.971933471933472\n",
      "Micro Precision: 0.9719334719334719\n",
      "Micro Recall: 0.9719334719334719\n",
      "--------------------------------------------------\n",
      "EPOCH N. 5\n"
     ]
    },
    {
     "name": "stderr",
     "output_type": "stream",
     "text": [
      "1045it [05:00,  3.47it/s]\n"
     ]
    },
    {
     "name": "stdout",
     "output_type": "stream",
     "text": [
      "\n",
      "TRAIN RESULTS\n",
      "Loss: 0.08924138338918325\n",
      "Accuracy: 0.9715932482503088\n",
      "MCC: 0.9557551237795943\n",
      "Macro F1: 0.9699546306584533\n",
      "Macro Precision: 0.97314473747751\n",
      "Macro Recall: 0.9668629861731926\n",
      "Micro F1: 0.9715932482503088\n",
      "Micro Precision: 0.9715932482503088\n",
      "Micro Recall: 0.9715932482503088\n",
      "\n",
      "VALIDATION RESULTS\n",
      "Loss: 0.1056441217660904\n",
      "Accuracy: 0.966008316008316\n",
      "MCC: 0.9480959238290295\n",
      "Macro F1: 0.9658862248118165\n",
      "Macro Precision: 0.9737083166878525\n",
      "Macro Recall: 0.9594839748850863\n",
      "Micro F1: 0.966008316008316\n",
      "Micro Precision: 0.966008316008316\n",
      "Micro Recall: 0.966008316008316\n",
      "--------------------------------------------------\n",
      "EPOCH N. 6\n"
     ]
    },
    {
     "name": "stderr",
     "output_type": "stream",
     "text": [
      "1045it [05:00,  3.47it/s]\n"
     ]
    },
    {
     "name": "stdout",
     "output_type": "stream",
     "text": [
      "\n",
      "TRAIN RESULTS\n",
      "Loss: 0.08878407250885388\n",
      "Accuracy: 0.9728724342763042\n",
      "MCC: 0.9577541320445814\n",
      "Macro F1: 0.9720916403339874\n",
      "Macro Precision: 0.9746288459381841\n",
      "Macro Recall: 0.9696185823302825\n",
      "Micro F1: 0.9728724342763042\n",
      "Micro Precision: 0.9728724342763042\n",
      "Micro Recall: 0.9728724342763042\n",
      "\n",
      "VALIDATION RESULTS\n",
      "Loss: 0.08820019662380219\n",
      "Accuracy: 0.9737006237006237\n",
      "MCC: 0.959613417885665\n",
      "Macro F1: 0.9655588660926439\n",
      "Macro Precision: 0.9657414649669004\n",
      "Macro Recall: 0.9657607185047148\n",
      "Micro F1: 0.9737006237006237\n",
      "Micro Precision: 0.9737006237006237\n",
      "Micro Recall: 0.9737006237006237\n",
      "--------------------------------------------------\n",
      "EPOCH N. 7\n"
     ]
    },
    {
     "name": "stderr",
     "output_type": "stream",
     "text": [
      "1045it [05:00,  3.47it/s]\n"
     ]
    },
    {
     "name": "stdout",
     "output_type": "stream",
     "text": [
      "\n",
      "TRAIN RESULTS\n",
      "Loss: 0.07569369753426092\n",
      "Accuracy: 0.9769452449567724\n",
      "MCC: 0.9641025473456885\n",
      "Macro F1: 0.9767418779911268\n",
      "Macro Precision: 0.9794649825739559\n",
      "Macro Recall: 0.9740823295964525\n",
      "Micro F1: 0.9769452449567724\n",
      "Micro Precision: 0.9769452449567724\n",
      "Micro Recall: 0.9769452449567724\n",
      "\n",
      "VALIDATION RESULTS\n",
      "Loss: 0.08174929022789001\n",
      "Accuracy: 0.9704781704781705\n",
      "MCC: 0.9546895555297769\n",
      "Macro F1: 0.96187891240119\n",
      "Macro Precision: 0.9721735795782956\n",
      "Macro Recall: 0.9527752342361845\n",
      "Micro F1: 0.9704781704781705\n",
      "Micro Precision: 0.9704781704781705\n",
      "Micro Recall: 0.9704781704781705\n",
      "--------------------------------------------------\n",
      "EPOCH N. 8\n"
     ]
    },
    {
     "name": "stderr",
     "output_type": "stream",
     "text": [
      "1045it [05:01,  3.47it/s]\n"
     ]
    },
    {
     "name": "stdout",
     "output_type": "stream",
     "text": [
      "\n",
      "TRAIN RESULTS\n",
      "Loss: 0.08090827272206201\n",
      "Accuracy: 0.9715785449626536\n",
      "MCC: 0.9558269570384037\n",
      "Macro F1: 0.970350109950337\n",
      "Macro Precision: 0.9717584763294731\n",
      "Macro Recall: 0.9690078818294842\n",
      "Micro F1: 0.9715785449626536\n",
      "Micro Precision: 0.9715785449626536\n",
      "Micro Recall: 0.9715785449626536\n",
      "\n",
      "VALIDATION RESULTS\n",
      "Loss: 0.0844956785440445\n",
      "Accuracy: 0.9747401247401247\n",
      "MCC: 0.961335379001553\n",
      "Macro F1: 0.9708504729922863\n",
      "Macro Precision: 0.9687112891026051\n",
      "Macro Recall: 0.973015137741816\n",
      "Micro F1: 0.9747401247401247\n",
      "Micro Precision: 0.9747401247401247\n",
      "Micro Recall: 0.9747401247401247\n",
      "--------------------------------------------------\n",
      "EPOCH N. 9\n"
     ]
    },
    {
     "name": "stderr",
     "output_type": "stream",
     "text": [
      "1045it [05:01,  3.47it/s]\n"
     ]
    },
    {
     "name": "stdout",
     "output_type": "stream",
     "text": [
      "\n",
      "TRAIN RESULTS\n",
      "Loss: 0.05739769630794721\n",
      "Accuracy: 0.9816061871434453\n",
      "MCC: 0.9713703762714169\n",
      "Macro F1: 0.9802190876267792\n",
      "Macro Precision: 0.9826047708505492\n",
      "Macro Recall: 0.9778849846972493\n",
      "Micro F1: 0.9816061871434453\n",
      "Micro Precision: 0.9816061871434453\n",
      "Micro Recall: 0.9816061871434453\n",
      "\n",
      "VALIDATION RESULTS\n",
      "Loss: 0.13804644346237183\n",
      "Accuracy: 0.9507276507276508\n",
      "MCC: 0.9265215426809508\n",
      "Macro F1: 0.9468228447483147\n",
      "Macro Precision: 0.942668127631558\n",
      "Macro Recall: 0.9538551502693041\n",
      "Micro F1: 0.9507276507276508\n",
      "Micro Precision: 0.9507276507276508\n",
      "Micro Recall: 0.9507276507276508\n",
      "Early stopped training\n",
      "--------------------------------------------------\n"
     ]
    },
    {
     "data": {
      "text/html": [
       "Waiting for W&B process to finish... <strong style=\"color:green\">(success).</strong>"
      ],
      "text/plain": [
       "<IPython.core.display.HTML object>"
      ]
     },
     "metadata": {},
     "output_type": "display_data"
    },
    {
     "data": {
      "application/vnd.jupyter.widget-view+json": {
       "model_id": "349bcbb23e8a4a0b812d9417d9c6b348",
       "version_major": 2,
       "version_minor": 0
      },
      "text/plain": [
       "VBox(children=(Label(value='0.005 MB of 0.005 MB uploaded (0.000 MB deduped)\\r'), FloatProgress(value=1.0, max…"
      ]
     },
     "metadata": {},
     "output_type": "display_data"
    },
    {
     "data": {
      "text/html": [
       "<style>\n",
       "    table.wandb td:nth-child(1) { padding: 0 10px; text-align: left ; width: auto;} td:nth-child(2) {text-align: left ; width: 100%}\n",
       "    .wandb-row { display: flex; flex-direction: row; flex-wrap: wrap; justify-content: flex-start; width: 100% }\n",
       "    .wandb-col { display: flex; flex-direction: column; flex-basis: 100%; flex: 1; padding: 10px; }\n",
       "    </style>\n",
       "<div class=\"wandb-row\"><div class=\"wandb-col\"><h3>Run history:</h3><br/><table class=\"wandb\"><tr><td>Epoch</td><td>▁▂▃▄▅▅▆▇█</td></tr><tr><td>Train Loss</td><td>█▄▂▂▂▂▁▂▁</td></tr><tr><td>Validation Loss</td><td>█▄▂▂▂▁▁▁▄</td></tr></table><br/></div><div class=\"wandb-col\"><h3>Run summary:</h3><br/><table class=\"wandb\"><tr><td>Epoch</td><td>9</td></tr><tr><td>Train Loss</td><td>0.0574</td></tr><tr><td>Validation Loss</td><td>0.13805</td></tr></table><br/></div></div>"
      ],
      "text/plain": [
       "<IPython.core.display.HTML object>"
      ]
     },
     "metadata": {},
     "output_type": "display_data"
    },
    {
     "data": {
      "text/html": [
       " View run <strong style=\"color:#cdcd00\">ToBERT-Trial21</strong> at: <a href='https://wandb.ai/gmarinowandb-8601/RhetoricalRolesClassification-ITA-RhetRoles/runs/xapvnsqo' target=\"_blank\">https://wandb.ai/gmarinowandb-8601/RhetoricalRolesClassification-ITA-RhetRoles/runs/xapvnsqo</a><br/>Synced 5 W&B file(s), 0 media file(s), 0 artifact file(s) and 0 other file(s)"
      ],
      "text/plain": [
       "<IPython.core.display.HTML object>"
      ]
     },
     "metadata": {},
     "output_type": "display_data"
    },
    {
     "data": {
      "text/html": [
       "Find logs at: <code>./wandb/run-20230426_020019-xapvnsqo/logs</code>"
      ],
      "text/plain": [
       "<IPython.core.display.HTML object>"
      ]
     },
     "metadata": {},
     "output_type": "display_data"
    },
    {
     "name": "stderr",
     "output_type": "stream",
     "text": [
      "\u001b[32m[I 2023-04-26 02:51:52,675]\u001b[0m Trial 21 finished with value: 0.08174929022789001 and parameters: {'lr': 0.0001295767974936631, 'weight_decay': 0.08212055127460265, 'embedding': 'rel', 'transformer_dropout': 0.18692604712740749, 'transformer_dim_feedforward': 140}. Best is trial 21 with value: 0.08174929022789001.\u001b[0m\n"
     ]
    },
    {
     "name": "stdout",
     "output_type": "stream",
     "text": [
      "\n",
      "************************ Starting New Optuna Trial ************************\n",
      "\n"
     ]
    },
    {
     "name": "stderr",
     "output_type": "stream",
     "text": [
      "Some weights of the model checkpoint at dlicari/Italian-Legal-BERT were not used when initializing BertForTokenClassification: ['cls.predictions.transform.LayerNorm.bias', 'cls.predictions.transform.dense.weight', 'cls.predictions.decoder.weight', 'cls.predictions.transform.dense.bias', 'cls.predictions.decoder.bias', 'cls.predictions.bias', 'cls.predictions.transform.LayerNorm.weight']\n",
      "- This IS expected if you are initializing BertForTokenClassification from the checkpoint of a model trained on another task or with another architecture (e.g. initializing a BertForSequenceClassification model from a BertForPreTraining model).\n",
      "- This IS NOT expected if you are initializing BertForTokenClassification from the checkpoint of a model that you expect to be exactly identical (initializing a BertForSequenceClassification model from a BertForSequenceClassification model).\n",
      "Some weights of BertForTokenClassification were not initialized from the model checkpoint at dlicari/Italian-Legal-BERT and are newly initialized: ['classifier.bias', 'classifier.weight']\n",
      "You should probably TRAIN this model on a down-stream task to be able to use it for predictions and inference.\n"
     ]
    },
    {
     "data": {
      "text/html": [
       "wandb version 0.15.0 is available!  To upgrade, please run:\n",
       " $ pip install wandb --upgrade"
      ],
      "text/plain": [
       "<IPython.core.display.HTML object>"
      ]
     },
     "metadata": {},
     "output_type": "display_data"
    },
    {
     "data": {
      "text/html": [
       "Tracking run with wandb version 0.13.10"
      ],
      "text/plain": [
       "<IPython.core.display.HTML object>"
      ]
     },
     "metadata": {},
     "output_type": "display_data"
    },
    {
     "data": {
      "text/html": [
       "Run data is saved locally in <code>/home/g.marino/Desktop/GA/RhetoricalRolesClassification/ITA-RhetRoles/wandb/run-20230426_025154-jtyfle54</code>"
      ],
      "text/plain": [
       "<IPython.core.display.HTML object>"
      ]
     },
     "metadata": {},
     "output_type": "display_data"
    },
    {
     "data": {
      "text/html": [
       "Syncing run <strong><a href='https://wandb.ai/gmarinowandb-8601/RhetoricalRolesClassification-ITA-RhetRoles/runs/jtyfle54' target=\"_blank\">ToBERT-Trial22</a></strong> to <a href='https://wandb.ai/gmarinowandb-8601/RhetoricalRolesClassification-ITA-RhetRoles' target=\"_blank\">Weights & Biases</a> (<a href='https://wandb.me/run' target=\"_blank\">docs</a>)<br/>"
      ],
      "text/plain": [
       "<IPython.core.display.HTML object>"
      ]
     },
     "metadata": {},
     "output_type": "display_data"
    },
    {
     "data": {
      "text/html": [
       " View project at <a href='https://wandb.ai/gmarinowandb-8601/RhetoricalRolesClassification-ITA-RhetRoles' target=\"_blank\">https://wandb.ai/gmarinowandb-8601/RhetoricalRolesClassification-ITA-RhetRoles</a>"
      ],
      "text/plain": [
       "<IPython.core.display.HTML object>"
      ]
     },
     "metadata": {},
     "output_type": "display_data"
    },
    {
     "data": {
      "text/html": [
       " View run at <a href='https://wandb.ai/gmarinowandb-8601/RhetoricalRolesClassification-ITA-RhetRoles/runs/jtyfle54' target=\"_blank\">https://wandb.ai/gmarinowandb-8601/RhetoricalRolesClassification-ITA-RhetRoles/runs/jtyfle54</a>"
      ],
      "text/plain": [
       "<IPython.core.display.HTML object>"
      ]
     },
     "metadata": {},
     "output_type": "display_data"
    },
    {
     "name": "stdout",
     "output_type": "stream",
     "text": [
      "\n",
      "************** Training Started **************\n",
      "\n",
      "EPOCH N. 1\n"
     ]
    },
    {
     "name": "stderr",
     "output_type": "stream",
     "text": [
      "1045it [05:06,  3.41it/s]\n"
     ]
    },
    {
     "name": "stdout",
     "output_type": "stream",
     "text": [
      "\n",
      "TRAIN RESULTS\n",
      "Loss: 0.375818864707991\n",
      "Accuracy: 0.8494383344115745\n",
      "MCC: 0.7638445422587326\n",
      "Macro F1: 0.8501655387297367\n",
      "Macro Precision: 0.8595772336987013\n",
      "Macro Recall: 0.8415463798289098\n",
      "Micro F1: 0.8494383344115746\n",
      "Micro Precision: 0.8494383344115745\n",
      "Micro Recall: 0.8494383344115745\n",
      "\n",
      "VALIDATION RESULTS\n",
      "Loss: 0.2048521637916565\n",
      "Accuracy: 0.906029106029106\n",
      "MCC: 0.85542656769061\n",
      "Macro F1: 0.911739831198161\n",
      "Macro Precision: 0.9133572297300704\n",
      "Macro Recall: 0.9116579927323103\n",
      "Micro F1: 0.906029106029106\n",
      "Micro Precision: 0.906029106029106\n",
      "Micro Recall: 0.906029106029106\n",
      "--------------------------------------------------\n",
      "EPOCH N. 2\n"
     ]
    },
    {
     "name": "stderr",
     "output_type": "stream",
     "text": [
      "1045it [05:06,  3.41it/s]\n"
     ]
    },
    {
     "name": "stdout",
     "output_type": "stream",
     "text": [
      "\n",
      "TRAIN RESULTS\n",
      "Loss: 0.1764915811628745\n",
      "Accuracy: 0.9396283008880786\n",
      "MCC: 0.905776116976258\n",
      "Macro F1: 0.939274936528327\n",
      "Macro Precision: 0.9439367365935416\n",
      "Macro Recall: 0.9348934792218078\n",
      "Micro F1: 0.9396283008880786\n",
      "Micro Precision: 0.9396283008880786\n",
      "Micro Recall: 0.9396283008880786\n",
      "\n",
      "VALIDATION RESULTS\n",
      "Loss: 0.11451397091150284\n",
      "Accuracy: 0.9517671517671518\n",
      "MCC: 0.9257669542208404\n",
      "Macro F1: 0.9455131295366577\n",
      "Macro Precision: 0.9502289224191909\n",
      "Macro Recall: 0.9416676109762474\n",
      "Micro F1: 0.9517671517671518\n",
      "Micro Precision: 0.9517671517671518\n",
      "Micro Recall: 0.9517671517671518\n",
      "--------------------------------------------------\n",
      "EPOCH N. 3\n"
     ]
    },
    {
     "name": "stderr",
     "output_type": "stream",
     "text": [
      "1045it [05:07,  3.40it/s]\n"
     ]
    },
    {
     "name": "stdout",
     "output_type": "stream",
     "text": [
      "\n",
      "TRAIN RESULTS\n",
      "Loss: 0.13169453212218227\n",
      "Accuracy: 0.956889960595189\n",
      "MCC: 0.9328196332021997\n",
      "Macro F1: 0.9561386109516536\n",
      "Macro Precision: 0.9594394575340545\n",
      "Macro Recall: 0.9529600797570043\n",
      "Micro F1: 0.956889960595189\n",
      "Micro Precision: 0.956889960595189\n",
      "Micro Recall: 0.956889960595189\n",
      "\n",
      "VALIDATION RESULTS\n",
      "Loss: 0.11201166361570358\n",
      "Accuracy: 0.9587318087318087\n",
      "MCC: 0.9366527374795006\n",
      "Macro F1: 0.9541665288395794\n",
      "Macro Precision: 0.9567018203132849\n",
      "Macro Recall: 0.951732469313256\n",
      "Micro F1: 0.9587318087318087\n",
      "Micro Precision: 0.9587318087318087\n",
      "Micro Recall: 0.9587318087318087\n",
      "--------------------------------------------------\n",
      "EPOCH N. 4\n"
     ]
    },
    {
     "name": "stderr",
     "output_type": "stream",
     "text": [
      "1045it [05:05,  3.42it/s]\n"
     ]
    },
    {
     "name": "stdout",
     "output_type": "stream",
     "text": [
      "\n",
      "TRAIN RESULTS\n",
      "Loss: 0.10754218771084519\n",
      "Accuracy: 0.9658883726401223\n",
      "MCC: 0.9468404506414314\n",
      "Macro F1: 0.9651178567732991\n",
      "Macro Precision: 0.9687247309194313\n",
      "Macro Recall: 0.9616401683015866\n",
      "Micro F1: 0.9658883726401223\n",
      "Micro Precision: 0.9658883726401223\n",
      "Micro Recall: 0.9658883726401223\n",
      "\n",
      "VALIDATION RESULTS\n",
      "Loss: 0.1065928116440773\n",
      "Accuracy: 0.9565488565488566\n",
      "MCC: 0.9329990759286638\n",
      "Macro F1: 0.9511115985175247\n",
      "Macro Precision: 0.9633003321372279\n",
      "Macro Recall: 0.9397220595659664\n",
      "Micro F1: 0.9565488565488566\n",
      "Micro Precision: 0.9565488565488566\n",
      "Micro Recall: 0.9565488565488566\n",
      "--------------------------------------------------\n",
      "EPOCH N. 5\n"
     ]
    },
    {
     "name": "stderr",
     "output_type": "stream",
     "text": [
      "1045it [05:07,  3.40it/s]\n"
     ]
    },
    {
     "name": "stdout",
     "output_type": "stream",
     "text": [
      "\n",
      "TRAIN RESULTS\n",
      "Loss: 0.08850518125554983\n",
      "Accuracy: 0.9722107863318238\n",
      "MCC: 0.9567215701387609\n",
      "Macro F1: 0.9700902293132323\n",
      "Macro Precision: 0.9726548432310796\n",
      "Macro Recall: 0.9675934066342003\n",
      "Micro F1: 0.9722107863318238\n",
      "Micro Precision: 0.9722107863318238\n",
      "Micro Recall: 0.9722107863318238\n",
      "\n",
      "VALIDATION RESULTS\n",
      "Loss: 0.10727085918188095\n",
      "Accuracy: 0.9655925155925156\n",
      "MCC: 0.9472350708242725\n",
      "Macro F1: 0.9606467994829322\n",
      "Macro Precision: 0.9695667171051557\n",
      "Macro Recall: 0.9533186488063201\n",
      "Micro F1: 0.9655925155925156\n",
      "Micro Precision: 0.9655925155925156\n",
      "Micro Recall: 0.9655925155925156\n",
      "--------------------------------------------------\n"
     ]
    },
    {
     "data": {
      "text/html": [
       "Waiting for W&B process to finish... <strong style=\"color:red\">(failed 1).</strong> Press Control-C to abort syncing."
      ],
      "text/plain": [
       "<IPython.core.display.HTML object>"
      ]
     },
     "metadata": {},
     "output_type": "display_data"
    },
    {
     "data": {
      "text/html": [
       "<style>\n",
       "    table.wandb td:nth-child(1) { padding: 0 10px; text-align: left ; width: auto;} td:nth-child(2) {text-align: left ; width: 100%}\n",
       "    .wandb-row { display: flex; flex-direction: row; flex-wrap: wrap; justify-content: flex-start; width: 100% }\n",
       "    .wandb-col { display: flex; flex-direction: column; flex-basis: 100%; flex: 1; padding: 10px; }\n",
       "    </style>\n",
       "<div class=\"wandb-row\"><div class=\"wandb-col\"><h3>Run history:</h3><br/><table class=\"wandb\"><tr><td>Epoch</td><td>▁▃▅▆█</td></tr><tr><td>Train Loss</td><td>█▃▂▁▁</td></tr><tr><td>Validation Loss</td><td>█▂▁▁▁</td></tr></table><br/></div><div class=\"wandb-col\"><h3>Run summary:</h3><br/><table class=\"wandb\"><tr><td>Epoch</td><td>5</td></tr><tr><td>Train Loss</td><td>0.08851</td></tr><tr><td>Validation Loss</td><td>0.10727</td></tr></table><br/></div></div>"
      ],
      "text/plain": [
       "<IPython.core.display.HTML object>"
      ]
     },
     "metadata": {},
     "output_type": "display_data"
    },
    {
     "data": {
      "text/html": [
       " View run <strong style=\"color:#cdcd00\">ToBERT-Trial22</strong> at: <a href='https://wandb.ai/gmarinowandb-8601/RhetoricalRolesClassification-ITA-RhetRoles/runs/jtyfle54' target=\"_blank\">https://wandb.ai/gmarinowandb-8601/RhetoricalRolesClassification-ITA-RhetRoles/runs/jtyfle54</a><br/>Synced 5 W&B file(s), 0 media file(s), 0 artifact file(s) and 0 other file(s)"
      ],
      "text/plain": [
       "<IPython.core.display.HTML object>"
      ]
     },
     "metadata": {},
     "output_type": "display_data"
    },
    {
     "data": {
      "text/html": [
       "Find logs at: <code>./wandb/run-20230426_025154-jtyfle54/logs</code>"
      ],
      "text/plain": [
       "<IPython.core.display.HTML object>"
      ]
     },
     "metadata": {},
     "output_type": "display_data"
    },
    {
     "name": "stderr",
     "output_type": "stream",
     "text": [
      "\u001b[32m[I 2023-04-26 03:21:14,845]\u001b[0m Trial 22 pruned. \u001b[0m\n"
     ]
    },
    {
     "name": "stdout",
     "output_type": "stream",
     "text": [
      "\n",
      "************************ Starting New Optuna Trial ************************\n",
      "\n"
     ]
    },
    {
     "name": "stderr",
     "output_type": "stream",
     "text": [
      "Some weights of the model checkpoint at dlicari/Italian-Legal-BERT were not used when initializing BertForTokenClassification: ['cls.predictions.transform.LayerNorm.bias', 'cls.predictions.transform.dense.weight', 'cls.predictions.decoder.weight', 'cls.predictions.transform.dense.bias', 'cls.predictions.decoder.bias', 'cls.predictions.bias', 'cls.predictions.transform.LayerNorm.weight']\n",
      "- This IS expected if you are initializing BertForTokenClassification from the checkpoint of a model trained on another task or with another architecture (e.g. initializing a BertForSequenceClassification model from a BertForPreTraining model).\n",
      "- This IS NOT expected if you are initializing BertForTokenClassification from the checkpoint of a model that you expect to be exactly identical (initializing a BertForSequenceClassification model from a BertForSequenceClassification model).\n",
      "Some weights of BertForTokenClassification were not initialized from the model checkpoint at dlicari/Italian-Legal-BERT and are newly initialized: ['classifier.bias', 'classifier.weight']\n",
      "You should probably TRAIN this model on a down-stream task to be able to use it for predictions and inference.\n"
     ]
    },
    {
     "data": {
      "text/html": [
       "wandb version 0.15.0 is available!  To upgrade, please run:\n",
       " $ pip install wandb --upgrade"
      ],
      "text/plain": [
       "<IPython.core.display.HTML object>"
      ]
     },
     "metadata": {},
     "output_type": "display_data"
    },
    {
     "data": {
      "text/html": [
       "Tracking run with wandb version 0.13.10"
      ],
      "text/plain": [
       "<IPython.core.display.HTML object>"
      ]
     },
     "metadata": {},
     "output_type": "display_data"
    },
    {
     "data": {
      "text/html": [
       "Run data is saved locally in <code>/home/g.marino/Desktop/GA/RhetoricalRolesClassification/ITA-RhetRoles/wandb/run-20230426_032116-w8z2zj7d</code>"
      ],
      "text/plain": [
       "<IPython.core.display.HTML object>"
      ]
     },
     "metadata": {},
     "output_type": "display_data"
    },
    {
     "data": {
      "text/html": [
       "Syncing run <strong><a href='https://wandb.ai/gmarinowandb-8601/RhetoricalRolesClassification-ITA-RhetRoles/runs/w8z2zj7d' target=\"_blank\">ToBERT-Trial23</a></strong> to <a href='https://wandb.ai/gmarinowandb-8601/RhetoricalRolesClassification-ITA-RhetRoles' target=\"_blank\">Weights & Biases</a> (<a href='https://wandb.me/run' target=\"_blank\">docs</a>)<br/>"
      ],
      "text/plain": [
       "<IPython.core.display.HTML object>"
      ]
     },
     "metadata": {},
     "output_type": "display_data"
    },
    {
     "data": {
      "text/html": [
       " View project at <a href='https://wandb.ai/gmarinowandb-8601/RhetoricalRolesClassification-ITA-RhetRoles' target=\"_blank\">https://wandb.ai/gmarinowandb-8601/RhetoricalRolesClassification-ITA-RhetRoles</a>"
      ],
      "text/plain": [
       "<IPython.core.display.HTML object>"
      ]
     },
     "metadata": {},
     "output_type": "display_data"
    },
    {
     "data": {
      "text/html": [
       " View run at <a href='https://wandb.ai/gmarinowandb-8601/RhetoricalRolesClassification-ITA-RhetRoles/runs/w8z2zj7d' target=\"_blank\">https://wandb.ai/gmarinowandb-8601/RhetoricalRolesClassification-ITA-RhetRoles/runs/w8z2zj7d</a>"
      ],
      "text/plain": [
       "<IPython.core.display.HTML object>"
      ]
     },
     "metadata": {},
     "output_type": "display_data"
    },
    {
     "name": "stdout",
     "output_type": "stream",
     "text": [
      "\n",
      "************** Training Started **************\n",
      "\n",
      "EPOCH N. 1\n"
     ]
    },
    {
     "name": "stderr",
     "output_type": "stream",
     "text": [
      "1045it [05:06,  3.41it/s]\n"
     ]
    },
    {
     "name": "stdout",
     "output_type": "stream",
     "text": [
      "\n",
      "TRAIN RESULTS\n",
      "Loss: 0.40412505788853365\n",
      "Accuracy: 0.8420866905840146\n",
      "MCC: 0.7516756449183375\n",
      "Macro F1: 0.8373722446715774\n",
      "Macro Precision: 0.8493150524584386\n",
      "Macro Recall: 0.8264530667416299\n",
      "Micro F1: 0.8420866905840146\n",
      "Micro Precision: 0.8420866905840146\n",
      "Micro Recall: 0.8420866905840146\n",
      "\n",
      "VALIDATION RESULTS\n",
      "Loss: 0.2160733938217163\n",
      "Accuracy: 0.9017671517671517\n",
      "MCC: 0.8474894479833364\n",
      "Macro F1: 0.9012983105897081\n",
      "Macro Precision: 0.9301335619925304\n",
      "Macro Recall: 0.8791826284915837\n",
      "Micro F1: 0.9017671517671517\n",
      "Micro Precision: 0.9017671517671517\n",
      "Micro Recall: 0.9017671517671517\n",
      "--------------------------------------------------\n",
      "EPOCH N. 2\n"
     ]
    },
    {
     "name": "stderr",
     "output_type": "stream",
     "text": [
      "1045it [05:06,  3.41it/s]\n"
     ]
    },
    {
     "name": "stdout",
     "output_type": "stream",
     "text": [
      "\n",
      "TRAIN RESULTS\n",
      "Loss: 0.17637095510754644\n",
      "Accuracy: 0.9332470740457567\n",
      "MCC: 0.8957545571152126\n",
      "Macro F1: 0.9332123505976699\n",
      "Macro Precision: 0.9385970527432589\n",
      "Macro Recall: 0.9280996892921483\n",
      "Micro F1: 0.9332470740457567\n",
      "Micro Precision: 0.9332470740457567\n",
      "Micro Recall: 0.9332470740457567\n",
      "\n",
      "VALIDATION RESULTS\n",
      "Loss: 0.1316729336977005\n",
      "Accuracy: 0.9496881496881497\n",
      "MCC: 0.922726489768734\n",
      "Macro F1: 0.9479104254496109\n",
      "Macro Precision: 0.9569992963413853\n",
      "Macro Recall: 0.939918110922954\n",
      "Micro F1: 0.9496881496881497\n",
      "Micro Precision: 0.9496881496881497\n",
      "Micro Recall: 0.9496881496881497\n",
      "--------------------------------------------------\n",
      "EPOCH N. 3\n"
     ]
    },
    {
     "name": "stderr",
     "output_type": "stream",
     "text": [
      "1045it [05:07,  3.40it/s]\n"
     ]
    },
    {
     "name": "stdout",
     "output_type": "stream",
     "text": [
      "\n",
      "TRAIN RESULTS\n",
      "Loss: 0.11893762593663355\n",
      "Accuracy: 0.9603893430571075\n",
      "MCC: 0.9382534204128157\n",
      "Macro F1: 0.9597318848054373\n",
      "Macro Precision: 0.9635375944637351\n",
      "Macro Recall: 0.9560345599166993\n",
      "Micro F1: 0.9603893430571075\n",
      "Micro Precision: 0.9603893430571075\n",
      "Micro Recall: 0.9603893430571075\n",
      "\n",
      "VALIDATION RESULTS\n",
      "Loss: 0.10120484232902527\n",
      "Accuracy: 0.9635135135135136\n",
      "MCC: 0.9444448458382793\n",
      "Macro F1: 0.9585832744767474\n",
      "Macro Precision: 0.9554769339264204\n",
      "Macro Recall: 0.9626458822315401\n",
      "Micro F1: 0.9635135135135136\n",
      "Micro Precision: 0.9635135135135136\n",
      "Micro Recall: 0.9635135135135136\n",
      "--------------------------------------------------\n",
      "EPOCH N. 4\n"
     ]
    },
    {
     "name": "stderr",
     "output_type": "stream",
     "text": [
      "1045it [05:07,  3.40it/s]\n"
     ]
    },
    {
     "name": "stdout",
     "output_type": "stream",
     "text": [
      "\n",
      "TRAIN RESULTS\n",
      "Loss: 0.09450653754436504\n",
      "Accuracy: 0.969534787978592\n",
      "MCC: 0.9525547494415695\n",
      "Macro F1: 0.968289606751951\n",
      "Macro Precision: 0.9710229210532224\n",
      "Macro Recall: 0.9656035650596694\n",
      "Micro F1: 0.969534787978592\n",
      "Micro Precision: 0.969534787978592\n",
      "Micro Recall: 0.969534787978592\n",
      "\n",
      "VALIDATION RESULTS\n",
      "Loss: 0.06465253233909607\n",
      "Accuracy: 0.9773388773388774\n",
      "MCC: 0.9652824542824184\n",
      "Macro F1: 0.9710241361228891\n",
      "Macro Precision: 0.9723159878413131\n",
      "Macro Recall: 0.9700822765351402\n",
      "Micro F1: 0.9773388773388774\n",
      "Micro Precision: 0.9773388773388774\n",
      "Micro Recall: 0.9773388773388774\n",
      "--------------------------------------------------\n",
      "EPOCH N. 5\n"
     ]
    },
    {
     "name": "stderr",
     "output_type": "stream",
     "text": [
      "1045it [05:06,  3.41it/s]\n"
     ]
    },
    {
     "name": "stdout",
     "output_type": "stream",
     "text": [
      "\n",
      "TRAIN RESULTS\n",
      "Loss: 0.07470829767332653\n",
      "Accuracy: 0.9772687172851849\n",
      "MCC: 0.9646162329588712\n",
      "Macro F1: 0.9764701764282906\n",
      "Macro Precision: 0.9787936271668608\n",
      "Macro Recall: 0.9742040612404196\n",
      "Micro F1: 0.9772687172851849\n",
      "Micro Precision: 0.9772687172851849\n",
      "Micro Recall: 0.9772687172851849\n",
      "\n",
      "VALIDATION RESULTS\n",
      "Loss: 0.07365228980779648\n",
      "Accuracy: 0.9761954261954262\n",
      "MCC: 0.9634554922729551\n",
      "Macro F1: 0.9690267593974216\n",
      "Macro Precision: 0.9721431348461161\n",
      "Macro Recall: 0.9663668952714181\n",
      "Micro F1: 0.9761954261954262\n",
      "Micro Precision: 0.9761954261954262\n",
      "Micro Recall: 0.9761954261954262\n",
      "--------------------------------------------------\n",
      "EPOCH N. 6\n"
     ]
    },
    {
     "name": "stderr",
     "output_type": "stream",
     "text": [
      "1045it [05:06,  3.41it/s]\n"
     ]
    },
    {
     "name": "stdout",
     "output_type": "stream",
     "text": [
      "\n",
      "TRAIN RESULTS\n",
      "Loss: 0.060574579551792594\n",
      "Accuracy: 0.9810915720755161\n",
      "MCC: 0.9705868450096987\n",
      "Macro F1: 0.9800094563549738\n",
      "Macro Precision: 0.9810797505290358\n",
      "Macro Recall: 0.9789500263964147\n",
      "Micro F1: 0.9810915720755161\n",
      "Micro Precision: 0.9810915720755161\n",
      "Micro Recall: 0.9810915720755161\n",
      "\n",
      "VALIDATION RESULTS\n",
      "Loss: 0.08347085863351822\n",
      "Accuracy: 0.972037422037422\n",
      "MCC: 0.9569972474021697\n",
      "Macro F1: 0.9673104675893383\n",
      "Macro Precision: 0.9719446724889474\n",
      "Macro Recall: 0.962964775358875\n",
      "Micro F1: 0.972037422037422\n",
      "Micro Precision: 0.972037422037422\n",
      "Micro Recall: 0.972037422037422\n",
      "Early stopped training\n",
      "--------------------------------------------------\n"
     ]
    },
    {
     "data": {
      "text/html": [
       "Waiting for W&B process to finish... <strong style=\"color:green\">(success).</strong>"
      ],
      "text/plain": [
       "<IPython.core.display.HTML object>"
      ]
     },
     "metadata": {},
     "output_type": "display_data"
    },
    {
     "data": {
      "application/vnd.jupyter.widget-view+json": {
       "model_id": "850dca7aafe94816b46428b61d178d91",
       "version_major": 2,
       "version_minor": 0
      },
      "text/plain": [
       "VBox(children=(Label(value='0.005 MB of 0.005 MB uploaded (0.000 MB deduped)\\r'), FloatProgress(value=1.0, max…"
      ]
     },
     "metadata": {},
     "output_type": "display_data"
    },
    {
     "data": {
      "text/html": [
       "<style>\n",
       "    table.wandb td:nth-child(1) { padding: 0 10px; text-align: left ; width: auto;} td:nth-child(2) {text-align: left ; width: 100%}\n",
       "    .wandb-row { display: flex; flex-direction: row; flex-wrap: wrap; justify-content: flex-start; width: 100% }\n",
       "    .wandb-col { display: flex; flex-direction: column; flex-basis: 100%; flex: 1; padding: 10px; }\n",
       "    </style>\n",
       "<div class=\"wandb-row\"><div class=\"wandb-col\"><h3>Run history:</h3><br/><table class=\"wandb\"><tr><td>Epoch</td><td>▁▂▄▅▇█</td></tr><tr><td>Train Loss</td><td>█▃▂▂▁▁</td></tr><tr><td>Validation Loss</td><td>█▄▃▁▁▂</td></tr></table><br/></div><div class=\"wandb-col\"><h3>Run summary:</h3><br/><table class=\"wandb\"><tr><td>Epoch</td><td>6</td></tr><tr><td>Train Loss</td><td>0.06057</td></tr><tr><td>Validation Loss</td><td>0.08347</td></tr></table><br/></div></div>"
      ],
      "text/plain": [
       "<IPython.core.display.HTML object>"
      ]
     },
     "metadata": {},
     "output_type": "display_data"
    },
    {
     "data": {
      "text/html": [
       " View run <strong style=\"color:#cdcd00\">ToBERT-Trial23</strong> at: <a href='https://wandb.ai/gmarinowandb-8601/RhetoricalRolesClassification-ITA-RhetRoles/runs/w8z2zj7d' target=\"_blank\">https://wandb.ai/gmarinowandb-8601/RhetoricalRolesClassification-ITA-RhetRoles/runs/w8z2zj7d</a><br/>Synced 5 W&B file(s), 0 media file(s), 0 artifact file(s) and 0 other file(s)"
      ],
      "text/plain": [
       "<IPython.core.display.HTML object>"
      ]
     },
     "metadata": {},
     "output_type": "display_data"
    },
    {
     "data": {
      "text/html": [
       "Find logs at: <code>./wandb/run-20230426_032116-w8z2zj7d/logs</code>"
      ],
      "text/plain": [
       "<IPython.core.display.HTML object>"
      ]
     },
     "metadata": {},
     "output_type": "display_data"
    },
    {
     "name": "stderr",
     "output_type": "stream",
     "text": [
      "\u001b[32m[I 2023-04-26 03:56:27,990]\u001b[0m Trial 23 finished with value: 0.06465253233909607 and parameters: {'lr': 8.32282596973597e-05, 'weight_decay': 0.06927161013879751, 'embedding': 'rel', 'transformer_dropout': 0.261449972781848, 'transformer_dim_feedforward': 167}. Best is trial 23 with value: 0.06465253233909607.\u001b[0m\n"
     ]
    },
    {
     "name": "stdout",
     "output_type": "stream",
     "text": [
      "\n",
      "************************ Starting New Optuna Trial ************************\n",
      "\n"
     ]
    },
    {
     "name": "stderr",
     "output_type": "stream",
     "text": [
      "Some weights of the model checkpoint at dlicari/Italian-Legal-BERT were not used when initializing BertForTokenClassification: ['cls.predictions.transform.LayerNorm.bias', 'cls.predictions.transform.dense.weight', 'cls.predictions.decoder.weight', 'cls.predictions.transform.dense.bias', 'cls.predictions.decoder.bias', 'cls.predictions.bias', 'cls.predictions.transform.LayerNorm.weight']\n",
      "- This IS expected if you are initializing BertForTokenClassification from the checkpoint of a model trained on another task or with another architecture (e.g. initializing a BertForSequenceClassification model from a BertForPreTraining model).\n",
      "- This IS NOT expected if you are initializing BertForTokenClassification from the checkpoint of a model that you expect to be exactly identical (initializing a BertForSequenceClassification model from a BertForSequenceClassification model).\n",
      "Some weights of BertForTokenClassification were not initialized from the model checkpoint at dlicari/Italian-Legal-BERT and are newly initialized: ['classifier.bias', 'classifier.weight']\n",
      "You should probably TRAIN this model on a down-stream task to be able to use it for predictions and inference.\n"
     ]
    },
    {
     "data": {
      "text/html": [
       "wandb version 0.15.0 is available!  To upgrade, please run:\n",
       " $ pip install wandb --upgrade"
      ],
      "text/plain": [
       "<IPython.core.display.HTML object>"
      ]
     },
     "metadata": {},
     "output_type": "display_data"
    },
    {
     "data": {
      "text/html": [
       "Tracking run with wandb version 0.13.10"
      ],
      "text/plain": [
       "<IPython.core.display.HTML object>"
      ]
     },
     "metadata": {},
     "output_type": "display_data"
    },
    {
     "data": {
      "text/html": [
       "Run data is saved locally in <code>/home/g.marino/Desktop/GA/RhetoricalRolesClassification/ITA-RhetRoles/wandb/run-20230426_035629-flfil4ee</code>"
      ],
      "text/plain": [
       "<IPython.core.display.HTML object>"
      ]
     },
     "metadata": {},
     "output_type": "display_data"
    },
    {
     "data": {
      "text/html": [
       "Syncing run <strong><a href='https://wandb.ai/gmarinowandb-8601/RhetoricalRolesClassification-ITA-RhetRoles/runs/flfil4ee' target=\"_blank\">ToBERT-Trial24</a></strong> to <a href='https://wandb.ai/gmarinowandb-8601/RhetoricalRolesClassification-ITA-RhetRoles' target=\"_blank\">Weights & Biases</a> (<a href='https://wandb.me/run' target=\"_blank\">docs</a>)<br/>"
      ],
      "text/plain": [
       "<IPython.core.display.HTML object>"
      ]
     },
     "metadata": {},
     "output_type": "display_data"
    },
    {
     "data": {
      "text/html": [
       " View project at <a href='https://wandb.ai/gmarinowandb-8601/RhetoricalRolesClassification-ITA-RhetRoles' target=\"_blank\">https://wandb.ai/gmarinowandb-8601/RhetoricalRolesClassification-ITA-RhetRoles</a>"
      ],
      "text/plain": [
       "<IPython.core.display.HTML object>"
      ]
     },
     "metadata": {},
     "output_type": "display_data"
    },
    {
     "data": {
      "text/html": [
       " View run at <a href='https://wandb.ai/gmarinowandb-8601/RhetoricalRolesClassification-ITA-RhetRoles/runs/flfil4ee' target=\"_blank\">https://wandb.ai/gmarinowandb-8601/RhetoricalRolesClassification-ITA-RhetRoles/runs/flfil4ee</a>"
      ],
      "text/plain": [
       "<IPython.core.display.HTML object>"
      ]
     },
     "metadata": {},
     "output_type": "display_data"
    },
    {
     "name": "stdout",
     "output_type": "stream",
     "text": [
      "\n",
      "************** Training Started **************\n",
      "\n",
      "EPOCH N. 1\n"
     ]
    },
    {
     "name": "stderr",
     "output_type": "stream",
     "text": [
      "1045it [05:06,  3.41it/s]\n"
     ]
    },
    {
     "name": "stdout",
     "output_type": "stream",
     "text": [
      "\n",
      "TRAIN RESULTS\n",
      "Loss: 0.4181455990410985\n",
      "Accuracy: 0.8401164500382285\n",
      "MCC: 0.7483528392313121\n",
      "Macro F1: 0.8289343653101066\n",
      "Macro Precision: 0.8395591064752743\n",
      "Macro Recall: 0.8198803135348239\n",
      "Micro F1: 0.8401164500382285\n",
      "Micro Precision: 0.8401164500382285\n",
      "Micro Recall: 0.8401164500382285\n",
      "\n",
      "VALIDATION RESULTS\n",
      "Loss: 0.1921079307794571\n",
      "Accuracy: 0.913929313929314\n",
      "MCC: 0.8679742889668991\n",
      "Macro F1: 0.9223128722914034\n",
      "Macro Precision: 0.9290659694327621\n",
      "Macro Recall: 0.916150952374258\n",
      "Micro F1: 0.913929313929314\n",
      "Micro Precision: 0.913929313929314\n",
      "Micro Recall: 0.913929313929314\n",
      "--------------------------------------------------\n",
      "EPOCH N. 2\n"
     ]
    },
    {
     "name": "stderr",
     "output_type": "stream",
     "text": [
      "1045it [05:06,  3.41it/s]\n"
     ]
    },
    {
     "name": "stdout",
     "output_type": "stream",
     "text": [
      "\n",
      "TRAIN RESULTS\n",
      "Loss: 0.18674036202669303\n",
      "Accuracy: 0.9306004822678351\n",
      "MCC: 0.8916632918016744\n",
      "Macro F1: 0.9342859447180695\n",
      "Macro Precision: 0.9390680509852787\n",
      "Macro Recall: 0.929743617067021\n",
      "Micro F1: 0.9306004822678351\n",
      "Micro Precision: 0.9306004822678351\n",
      "Micro Recall: 0.9306004822678351\n",
      "\n",
      "VALIDATION RESULTS\n",
      "Loss: 0.17382405698299408\n",
      "Accuracy: 0.9302494802494803\n",
      "MCC: 0.8927995057643362\n",
      "Macro F1: 0.9325015701582625\n",
      "Macro Precision: 0.9473671227571391\n",
      "Macro Recall: 0.9203312056720376\n",
      "Micro F1: 0.9302494802494803\n",
      "Micro Precision: 0.9302494802494803\n",
      "Micro Recall: 0.9302494802494803\n",
      "--------------------------------------------------\n",
      "EPOCH N. 3\n"
     ]
    },
    {
     "name": "stderr",
     "output_type": "stream",
     "text": [
      "1045it [05:06,  3.41it/s]\n"
     ]
    },
    {
     "name": "stdout",
     "output_type": "stream",
     "text": [
      "\n",
      "TRAIN RESULTS\n",
      "Loss: 0.13151698703727235\n",
      "Accuracy: 0.9545227312827148\n",
      "MCC: 0.9290922451921055\n",
      "Macro F1: 0.9566281728147018\n",
      "Macro Precision: 0.9604989631853252\n",
      "Macro Recall: 0.9529107247352483\n",
      "Micro F1: 0.9545227312827148\n",
      "Micro Precision: 0.9545227312827148\n",
      "Micro Recall: 0.9545227312827148\n",
      "\n",
      "VALIDATION RESULTS\n",
      "Loss: 0.1364368051290512\n",
      "Accuracy: 0.9508316008316008\n",
      "MCC: 0.924850850688279\n",
      "Macro F1: 0.946762278485541\n",
      "Macro Precision: 0.9468825024108206\n",
      "Macro Recall: 0.9480144588725761\n",
      "Micro F1: 0.9508316008316008\n",
      "Micro Precision: 0.9508316008316008\n",
      "Micro Recall: 0.9508316008316008\n",
      "--------------------------------------------------\n"
     ]
    },
    {
     "data": {
      "text/html": [
       "Waiting for W&B process to finish... <strong style=\"color:red\">(failed 1).</strong> Press Control-C to abort syncing."
      ],
      "text/plain": [
       "<IPython.core.display.HTML object>"
      ]
     },
     "metadata": {},
     "output_type": "display_data"
    },
    {
     "data": {
      "application/vnd.jupyter.widget-view+json": {
       "model_id": "befe67ea6679438e9091d1e3ed2c0cf6",
       "version_major": 2,
       "version_minor": 0
      },
      "text/plain": [
       "VBox(children=(Label(value='0.005 MB of 0.005 MB uploaded (0.000 MB deduped)\\r'), FloatProgress(value=1.0, max…"
      ]
     },
     "metadata": {},
     "output_type": "display_data"
    },
    {
     "data": {
      "text/html": [
       "<style>\n",
       "    table.wandb td:nth-child(1) { padding: 0 10px; text-align: left ; width: auto;} td:nth-child(2) {text-align: left ; width: 100%}\n",
       "    .wandb-row { display: flex; flex-direction: row; flex-wrap: wrap; justify-content: flex-start; width: 100% }\n",
       "    .wandb-col { display: flex; flex-direction: column; flex-basis: 100%; flex: 1; padding: 10px; }\n",
       "    </style>\n",
       "<div class=\"wandb-row\"><div class=\"wandb-col\"><h3>Run history:</h3><br/><table class=\"wandb\"><tr><td>Epoch</td><td>▁▅█</td></tr><tr><td>Train Loss</td><td>█▂▁</td></tr><tr><td>Validation Loss</td><td>█▆▁</td></tr></table><br/></div><div class=\"wandb-col\"><h3>Run summary:</h3><br/><table class=\"wandb\"><tr><td>Epoch</td><td>3</td></tr><tr><td>Train Loss</td><td>0.13152</td></tr><tr><td>Validation Loss</td><td>0.13644</td></tr></table><br/></div></div>"
      ],
      "text/plain": [
       "<IPython.core.display.HTML object>"
      ]
     },
     "metadata": {},
     "output_type": "display_data"
    },
    {
     "data": {
      "text/html": [
       " View run <strong style=\"color:#cdcd00\">ToBERT-Trial24</strong> at: <a href='https://wandb.ai/gmarinowandb-8601/RhetoricalRolesClassification-ITA-RhetRoles/runs/flfil4ee' target=\"_blank\">https://wandb.ai/gmarinowandb-8601/RhetoricalRolesClassification-ITA-RhetRoles/runs/flfil4ee</a><br/>Synced 5 W&B file(s), 0 media file(s), 0 artifact file(s) and 0 other file(s)"
      ],
      "text/plain": [
       "<IPython.core.display.HTML object>"
      ]
     },
     "metadata": {},
     "output_type": "display_data"
    },
    {
     "data": {
      "text/html": [
       "Find logs at: <code>./wandb/run-20230426_035629-flfil4ee/logs</code>"
      ],
      "text/plain": [
       "<IPython.core.display.HTML object>"
      ]
     },
     "metadata": {},
     "output_type": "display_data"
    },
    {
     "name": "stderr",
     "output_type": "stream",
     "text": [
      "\u001b[32m[I 2023-04-26 04:14:07,835]\u001b[0m Trial 24 pruned. \u001b[0m\n"
     ]
    },
    {
     "name": "stdout",
     "output_type": "stream",
     "text": [
      "\n",
      "************************ Starting New Optuna Trial ************************\n",
      "\n"
     ]
    },
    {
     "name": "stderr",
     "output_type": "stream",
     "text": [
      "Some weights of the model checkpoint at dlicari/Italian-Legal-BERT were not used when initializing BertForTokenClassification: ['cls.predictions.transform.LayerNorm.bias', 'cls.predictions.transform.dense.weight', 'cls.predictions.decoder.weight', 'cls.predictions.transform.dense.bias', 'cls.predictions.decoder.bias', 'cls.predictions.bias', 'cls.predictions.transform.LayerNorm.weight']\n",
      "- This IS expected if you are initializing BertForTokenClassification from the checkpoint of a model trained on another task or with another architecture (e.g. initializing a BertForSequenceClassification model from a BertForPreTraining model).\n",
      "- This IS NOT expected if you are initializing BertForTokenClassification from the checkpoint of a model that you expect to be exactly identical (initializing a BertForSequenceClassification model from a BertForSequenceClassification model).\n",
      "Some weights of BertForTokenClassification were not initialized from the model checkpoint at dlicari/Italian-Legal-BERT and are newly initialized: ['classifier.bias', 'classifier.weight']\n",
      "You should probably TRAIN this model on a down-stream task to be able to use it for predictions and inference.\n"
     ]
    },
    {
     "data": {
      "text/html": [
       "wandb version 0.15.0 is available!  To upgrade, please run:\n",
       " $ pip install wandb --upgrade"
      ],
      "text/plain": [
       "<IPython.core.display.HTML object>"
      ]
     },
     "metadata": {},
     "output_type": "display_data"
    },
    {
     "data": {
      "text/html": [
       "Tracking run with wandb version 0.13.10"
      ],
      "text/plain": [
       "<IPython.core.display.HTML object>"
      ]
     },
     "metadata": {},
     "output_type": "display_data"
    },
    {
     "data": {
      "text/html": [
       "Run data is saved locally in <code>/home/g.marino/Desktop/GA/RhetoricalRolesClassification/ITA-RhetRoles/wandb/run-20230426_041409-9ij2xxlm</code>"
      ],
      "text/plain": [
       "<IPython.core.display.HTML object>"
      ]
     },
     "metadata": {},
     "output_type": "display_data"
    },
    {
     "data": {
      "text/html": [
       "Syncing run <strong><a href='https://wandb.ai/gmarinowandb-8601/RhetoricalRolesClassification-ITA-RhetRoles/runs/9ij2xxlm' target=\"_blank\">ToBERT-Trial25</a></strong> to <a href='https://wandb.ai/gmarinowandb-8601/RhetoricalRolesClassification-ITA-RhetRoles' target=\"_blank\">Weights & Biases</a> (<a href='https://wandb.me/run' target=\"_blank\">docs</a>)<br/>"
      ],
      "text/plain": [
       "<IPython.core.display.HTML object>"
      ]
     },
     "metadata": {},
     "output_type": "display_data"
    },
    {
     "data": {
      "text/html": [
       " View project at <a href='https://wandb.ai/gmarinowandb-8601/RhetoricalRolesClassification-ITA-RhetRoles' target=\"_blank\">https://wandb.ai/gmarinowandb-8601/RhetoricalRolesClassification-ITA-RhetRoles</a>"
      ],
      "text/plain": [
       "<IPython.core.display.HTML object>"
      ]
     },
     "metadata": {},
     "output_type": "display_data"
    },
    {
     "data": {
      "text/html": [
       " View run at <a href='https://wandb.ai/gmarinowandb-8601/RhetoricalRolesClassification-ITA-RhetRoles/runs/9ij2xxlm' target=\"_blank\">https://wandb.ai/gmarinowandb-8601/RhetoricalRolesClassification-ITA-RhetRoles/runs/9ij2xxlm</a>"
      ],
      "text/plain": [
       "<IPython.core.display.HTML object>"
      ]
     },
     "metadata": {},
     "output_type": "display_data"
    },
    {
     "name": "stdout",
     "output_type": "stream",
     "text": [
      "\n",
      "************** Training Started **************\n",
      "\n",
      "EPOCH N. 1\n"
     ]
    },
    {
     "name": "stderr",
     "output_type": "stream",
     "text": [
      "1045it [05:07,  3.40it/s]\n"
     ]
    },
    {
     "name": "stdout",
     "output_type": "stream",
     "text": [
      "\n",
      "TRAIN RESULTS\n",
      "Loss: 0.37093003861000096\n",
      "Accuracy: 0.8568193848144445\n",
      "MCC: 0.7751837524992023\n",
      "Macro F1: 0.8541586433452792\n",
      "Macro Precision: 0.8646605303686963\n",
      "Macro Recall: 0.8444785133068674\n",
      "Micro F1: 0.8568193848144445\n",
      "Micro Precision: 0.8568193848144445\n",
      "Micro Recall: 0.8568193848144445\n",
      "\n",
      "VALIDATION RESULTS\n",
      "Loss: 0.23902244865894318\n",
      "Accuracy: 0.9015592515592515\n",
      "MCC: 0.8550746218793519\n",
      "Macro F1: 0.9167797131056679\n",
      "Macro Precision: 0.9165557339729903\n",
      "Macro Recall: 0.9215522885018406\n",
      "Micro F1: 0.9015592515592514\n",
      "Micro Precision: 0.9015592515592515\n",
      "Micro Recall: 0.9015592515592515\n",
      "--------------------------------------------------\n"
     ]
    },
    {
     "data": {
      "text/html": [
       "Waiting for W&B process to finish... <strong style=\"color:red\">(failed 1).</strong> Press Control-C to abort syncing."
      ],
      "text/plain": [
       "<IPython.core.display.HTML object>"
      ]
     },
     "metadata": {},
     "output_type": "display_data"
    },
    {
     "data": {
      "application/vnd.jupyter.widget-view+json": {
       "model_id": "b4671efbd721471e830ccc21a3a378dd",
       "version_major": 2,
       "version_minor": 0
      },
      "text/plain": [
       "VBox(children=(Label(value='0.005 MB of 0.005 MB uploaded (0.000 MB deduped)\\r'), FloatProgress(value=1.0, max…"
      ]
     },
     "metadata": {},
     "output_type": "display_data"
    },
    {
     "data": {
      "text/html": [
       "<style>\n",
       "    table.wandb td:nth-child(1) { padding: 0 10px; text-align: left ; width: auto;} td:nth-child(2) {text-align: left ; width: 100%}\n",
       "    .wandb-row { display: flex; flex-direction: row; flex-wrap: wrap; justify-content: flex-start; width: 100% }\n",
       "    .wandb-col { display: flex; flex-direction: column; flex-basis: 100%; flex: 1; padding: 10px; }\n",
       "    </style>\n",
       "<div class=\"wandb-row\"><div class=\"wandb-col\"><h3>Run history:</h3><br/><table class=\"wandb\"><tr><td>Epoch</td><td>▁</td></tr><tr><td>Train Loss</td><td>▁</td></tr><tr><td>Validation Loss</td><td>▁</td></tr></table><br/></div><div class=\"wandb-col\"><h3>Run summary:</h3><br/><table class=\"wandb\"><tr><td>Epoch</td><td>1</td></tr><tr><td>Train Loss</td><td>0.37093</td></tr><tr><td>Validation Loss</td><td>0.23902</td></tr></table><br/></div></div>"
      ],
      "text/plain": [
       "<IPython.core.display.HTML object>"
      ]
     },
     "metadata": {},
     "output_type": "display_data"
    },
    {
     "data": {
      "text/html": [
       " View run <strong style=\"color:#cdcd00\">ToBERT-Trial25</strong> at: <a href='https://wandb.ai/gmarinowandb-8601/RhetoricalRolesClassification-ITA-RhetRoles/runs/9ij2xxlm' target=\"_blank\">https://wandb.ai/gmarinowandb-8601/RhetoricalRolesClassification-ITA-RhetRoles/runs/9ij2xxlm</a><br/>Synced 5 W&B file(s), 0 media file(s), 0 artifact file(s) and 0 other file(s)"
      ],
      "text/plain": [
       "<IPython.core.display.HTML object>"
      ]
     },
     "metadata": {},
     "output_type": "display_data"
    },
    {
     "data": {
      "text/html": [
       "Find logs at: <code>./wandb/run-20230426_041409-9ij2xxlm/logs</code>"
      ],
      "text/plain": [
       "<IPython.core.display.HTML object>"
      ]
     },
     "metadata": {},
     "output_type": "display_data"
    },
    {
     "name": "stderr",
     "output_type": "stream",
     "text": [
      "\u001b[32m[I 2023-04-26 04:20:19,623]\u001b[0m Trial 25 pruned. \u001b[0m\n"
     ]
    },
    {
     "name": "stdout",
     "output_type": "stream",
     "text": [
      "\n",
      "************************ Starting New Optuna Trial ************************\n",
      "\n"
     ]
    },
    {
     "name": "stderr",
     "output_type": "stream",
     "text": [
      "Some weights of the model checkpoint at dlicari/Italian-Legal-BERT were not used when initializing BertForTokenClassification: ['cls.predictions.transform.LayerNorm.bias', 'cls.predictions.transform.dense.weight', 'cls.predictions.decoder.weight', 'cls.predictions.transform.dense.bias', 'cls.predictions.decoder.bias', 'cls.predictions.bias', 'cls.predictions.transform.LayerNorm.weight']\n",
      "- This IS expected if you are initializing BertForTokenClassification from the checkpoint of a model trained on another task or with another architecture (e.g. initializing a BertForSequenceClassification model from a BertForPreTraining model).\n",
      "- This IS NOT expected if you are initializing BertForTokenClassification from the checkpoint of a model that you expect to be exactly identical (initializing a BertForSequenceClassification model from a BertForSequenceClassification model).\n",
      "Some weights of BertForTokenClassification were not initialized from the model checkpoint at dlicari/Italian-Legal-BERT and are newly initialized: ['classifier.bias', 'classifier.weight']\n",
      "You should probably TRAIN this model on a down-stream task to be able to use it for predictions and inference.\n"
     ]
    },
    {
     "data": {
      "text/html": [
       "wandb version 0.15.0 is available!  To upgrade, please run:\n",
       " $ pip install wandb --upgrade"
      ],
      "text/plain": [
       "<IPython.core.display.HTML object>"
      ]
     },
     "metadata": {},
     "output_type": "display_data"
    },
    {
     "data": {
      "text/html": [
       "Tracking run with wandb version 0.13.10"
      ],
      "text/plain": [
       "<IPython.core.display.HTML object>"
      ]
     },
     "metadata": {},
     "output_type": "display_data"
    },
    {
     "data": {
      "text/html": [
       "Run data is saved locally in <code>/home/g.marino/Desktop/GA/RhetoricalRolesClassification/ITA-RhetRoles/wandb/run-20230426_042021-zt83z7hr</code>"
      ],
      "text/plain": [
       "<IPython.core.display.HTML object>"
      ]
     },
     "metadata": {},
     "output_type": "display_data"
    },
    {
     "data": {
      "text/html": [
       "Syncing run <strong><a href='https://wandb.ai/gmarinowandb-8601/RhetoricalRolesClassification-ITA-RhetRoles/runs/zt83z7hr' target=\"_blank\">ToBERT-Trial26</a></strong> to <a href='https://wandb.ai/gmarinowandb-8601/RhetoricalRolesClassification-ITA-RhetRoles' target=\"_blank\">Weights & Biases</a> (<a href='https://wandb.me/run' target=\"_blank\">docs</a>)<br/>"
      ],
      "text/plain": [
       "<IPython.core.display.HTML object>"
      ]
     },
     "metadata": {},
     "output_type": "display_data"
    },
    {
     "data": {
      "text/html": [
       " View project at <a href='https://wandb.ai/gmarinowandb-8601/RhetoricalRolesClassification-ITA-RhetRoles' target=\"_blank\">https://wandb.ai/gmarinowandb-8601/RhetoricalRolesClassification-ITA-RhetRoles</a>"
      ],
      "text/plain": [
       "<IPython.core.display.HTML object>"
      ]
     },
     "metadata": {},
     "output_type": "display_data"
    },
    {
     "data": {
      "text/html": [
       " View run at <a href='https://wandb.ai/gmarinowandb-8601/RhetoricalRolesClassification-ITA-RhetRoles/runs/zt83z7hr' target=\"_blank\">https://wandb.ai/gmarinowandb-8601/RhetoricalRolesClassification-ITA-RhetRoles/runs/zt83z7hr</a>"
      ],
      "text/plain": [
       "<IPython.core.display.HTML object>"
      ]
     },
     "metadata": {},
     "output_type": "display_data"
    },
    {
     "name": "stdout",
     "output_type": "stream",
     "text": [
      "\n",
      "************** Training Started **************\n",
      "\n",
      "EPOCH N. 1\n"
     ]
    },
    {
     "name": "stderr",
     "output_type": "stream",
     "text": [
      "1045it [05:08,  3.39it/s]\n"
     ]
    },
    {
     "name": "stdout",
     "output_type": "stream",
     "text": [
      "\n",
      "TRAIN RESULTS\n",
      "Loss: 0.4035706712975742\n",
      "Accuracy: 0.8453655237311063\n",
      "MCC: 0.7562068187042122\n",
      "Macro F1: 0.8425199404848234\n",
      "Macro Precision: 0.8599947547225961\n",
      "Macro Recall: 0.8268733401968802\n",
      "Micro F1: 0.8453655237311063\n",
      "Micro Precision: 0.8453655237311063\n",
      "Micro Recall: 0.8453655237311063\n",
      "\n",
      "VALIDATION RESULTS\n",
      "Loss: 0.1974971890449524\n",
      "Accuracy: 0.9246361746361746\n",
      "MCC: 0.8848302262273536\n",
      "Macro F1: 0.9254519268370043\n",
      "Macro Precision: 0.9256162599010992\n",
      "Macro Recall: 0.9254418689501829\n",
      "Micro F1: 0.9246361746361746\n",
      "Micro Precision: 0.9246361746361746\n",
      "Micro Recall: 0.9246361746361746\n",
      "--------------------------------------------------\n",
      "EPOCH N. 2\n"
     ]
    },
    {
     "name": "stderr",
     "output_type": "stream",
     "text": [
      "1045it [05:07,  3.40it/s]\n"
     ]
    },
    {
     "name": "stdout",
     "output_type": "stream",
     "text": [
      "\n",
      "TRAIN RESULTS\n",
      "Loss: 0.1960949095572082\n",
      "Accuracy: 0.9303946362406634\n",
      "MCC: 0.8912476201138613\n",
      "Macro F1: 0.9314836781000011\n",
      "Macro Precision: 0.9377382519706474\n",
      "Macro Recall: 0.9255340637899095\n",
      "Micro F1: 0.9303946362406634\n",
      "Micro Precision: 0.9303946362406634\n",
      "Micro Recall: 0.9303946362406634\n",
      "\n",
      "VALIDATION RESULTS\n",
      "Loss: 0.13515077531337738\n",
      "Accuracy: 0.9484407484407484\n",
      "MCC: 0.9208575975623214\n",
      "Macro F1: 0.9443145230533828\n",
      "Macro Precision: 0.946110319439694\n",
      "Macro Recall: 0.9425944605389092\n",
      "Micro F1: 0.9484407484407484\n",
      "Micro Precision: 0.9484407484407484\n",
      "Micro Recall: 0.9484407484407484\n",
      "--------------------------------------------------\n",
      "EPOCH N. 3\n"
     ]
    },
    {
     "name": "stderr",
     "output_type": "stream",
     "text": [
      "1045it [05:08,  3.38it/s]\n"
     ]
    },
    {
     "name": "stdout",
     "output_type": "stream",
     "text": [
      "\n",
      "TRAIN RESULTS\n",
      "Loss: 0.14732041292418346\n",
      "Accuracy: 0.9504793271775569\n",
      "MCC: 0.9227761625663409\n",
      "Macro F1: 0.9509174011243429\n",
      "Macro Precision: 0.95528551678204\n",
      "Macro Recall: 0.9467955727433937\n",
      "Micro F1: 0.950479327177557\n",
      "Micro Precision: 0.9504793271775569\n",
      "Micro Recall: 0.9504793271775569\n",
      "\n",
      "VALIDATION RESULTS\n",
      "Loss: 0.11439330875873566\n",
      "Accuracy: 0.9507276507276508\n",
      "MCC: 0.9241432199776494\n",
      "Macro F1: 0.9497795919434953\n",
      "Macro Precision: 0.9552449720770717\n",
      "Macro Recall: 0.9444675196942425\n",
      "Micro F1: 0.9507276507276508\n",
      "Micro Precision: 0.9507276507276508\n",
      "Micro Recall: 0.9507276507276508\n",
      "--------------------------------------------------\n",
      "EPOCH N. 4\n"
     ]
    },
    {
     "name": "stderr",
     "output_type": "stream",
     "text": [
      "1045it [05:08,  3.39it/s]\n"
     ]
    },
    {
     "name": "stdout",
     "output_type": "stream",
     "text": [
      "\n",
      "TRAIN RESULTS\n",
      "Loss: 0.11525191037529081\n",
      "Accuracy: 0.9619920014115156\n",
      "MCC: 0.9407645805300837\n",
      "Macro F1: 0.9617017350134949\n",
      "Macro Precision: 0.9653761136512085\n",
      "Macro Recall: 0.9581193315593808\n",
      "Micro F1: 0.9619920014115156\n",
      "Micro Precision: 0.9619920014115156\n",
      "Micro Recall: 0.9619920014115156\n",
      "\n",
      "VALIDATION RESULTS\n",
      "Loss: 0.1353176087141037\n",
      "Accuracy: 0.9597713097713098\n",
      "MCC: 0.9384684633601934\n",
      "Macro F1: 0.9548935667157055\n",
      "Macro Precision: 0.9536841850356265\n",
      "Macro Recall: 0.9566068791129121\n",
      "Micro F1: 0.9597713097713098\n",
      "Micro Precision: 0.9597713097713098\n",
      "Micro Recall: 0.9597713097713098\n",
      "--------------------------------------------------\n"
     ]
    },
    {
     "data": {
      "text/html": [
       "Waiting for W&B process to finish... <strong style=\"color:red\">(failed 1).</strong> Press Control-C to abort syncing."
      ],
      "text/plain": [
       "<IPython.core.display.HTML object>"
      ]
     },
     "metadata": {},
     "output_type": "display_data"
    },
    {
     "data": {
      "application/vnd.jupyter.widget-view+json": {
       "model_id": "8c55276c3c644edf994c7b70c3c71d22",
       "version_major": 2,
       "version_minor": 0
      },
      "text/plain": [
       "VBox(children=(Label(value='0.005 MB of 0.005 MB uploaded (0.000 MB deduped)\\r'), FloatProgress(value=1.0, max…"
      ]
     },
     "metadata": {},
     "output_type": "display_data"
    },
    {
     "data": {
      "text/html": [
       "<style>\n",
       "    table.wandb td:nth-child(1) { padding: 0 10px; text-align: left ; width: auto;} td:nth-child(2) {text-align: left ; width: 100%}\n",
       "    .wandb-row { display: flex; flex-direction: row; flex-wrap: wrap; justify-content: flex-start; width: 100% }\n",
       "    .wandb-col { display: flex; flex-direction: column; flex-basis: 100%; flex: 1; padding: 10px; }\n",
       "    </style>\n",
       "<div class=\"wandb-row\"><div class=\"wandb-col\"><h3>Run history:</h3><br/><table class=\"wandb\"><tr><td>Epoch</td><td>▁▃▆█</td></tr><tr><td>Train Loss</td><td>█▃▂▁</td></tr><tr><td>Validation Loss</td><td>█▃▁▃</td></tr></table><br/></div><div class=\"wandb-col\"><h3>Run summary:</h3><br/><table class=\"wandb\"><tr><td>Epoch</td><td>4</td></tr><tr><td>Train Loss</td><td>0.11525</td></tr><tr><td>Validation Loss</td><td>0.13532</td></tr></table><br/></div></div>"
      ],
      "text/plain": [
       "<IPython.core.display.HTML object>"
      ]
     },
     "metadata": {},
     "output_type": "display_data"
    },
    {
     "data": {
      "text/html": [
       " View run <strong style=\"color:#cdcd00\">ToBERT-Trial26</strong> at: <a href='https://wandb.ai/gmarinowandb-8601/RhetoricalRolesClassification-ITA-RhetRoles/runs/zt83z7hr' target=\"_blank\">https://wandb.ai/gmarinowandb-8601/RhetoricalRolesClassification-ITA-RhetRoles/runs/zt83z7hr</a><br/>Synced 5 W&B file(s), 0 media file(s), 0 artifact file(s) and 0 other file(s)"
      ],
      "text/plain": [
       "<IPython.core.display.HTML object>"
      ]
     },
     "metadata": {},
     "output_type": "display_data"
    },
    {
     "data": {
      "text/html": [
       "Find logs at: <code>./wandb/run-20230426_042021-zt83z7hr/logs</code>"
      ],
      "text/plain": [
       "<IPython.core.display.HTML object>"
      ]
     },
     "metadata": {},
     "output_type": "display_data"
    },
    {
     "name": "stderr",
     "output_type": "stream",
     "text": [
      "\u001b[32m[I 2023-04-26 04:44:00,119]\u001b[0m Trial 26 pruned. \u001b[0m\n"
     ]
    },
    {
     "name": "stdout",
     "output_type": "stream",
     "text": [
      "\n",
      "************************ Starting New Optuna Trial ************************\n",
      "\n"
     ]
    },
    {
     "name": "stderr",
     "output_type": "stream",
     "text": [
      "Some weights of the model checkpoint at dlicari/Italian-Legal-BERT were not used when initializing BertForTokenClassification: ['cls.predictions.transform.LayerNorm.bias', 'cls.predictions.transform.dense.weight', 'cls.predictions.decoder.weight', 'cls.predictions.transform.dense.bias', 'cls.predictions.decoder.bias', 'cls.predictions.bias', 'cls.predictions.transform.LayerNorm.weight']\n",
      "- This IS expected if you are initializing BertForTokenClassification from the checkpoint of a model trained on another task or with another architecture (e.g. initializing a BertForSequenceClassification model from a BertForPreTraining model).\n",
      "- This IS NOT expected if you are initializing BertForTokenClassification from the checkpoint of a model that you expect to be exactly identical (initializing a BertForSequenceClassification model from a BertForSequenceClassification model).\n",
      "Some weights of BertForTokenClassification were not initialized from the model checkpoint at dlicari/Italian-Legal-BERT and are newly initialized: ['classifier.bias', 'classifier.weight']\n",
      "You should probably TRAIN this model on a down-stream task to be able to use it for predictions and inference.\n"
     ]
    },
    {
     "data": {
      "text/html": [
       "wandb version 0.15.0 is available!  To upgrade, please run:\n",
       " $ pip install wandb --upgrade"
      ],
      "text/plain": [
       "<IPython.core.display.HTML object>"
      ]
     },
     "metadata": {},
     "output_type": "display_data"
    },
    {
     "data": {
      "text/html": [
       "Tracking run with wandb version 0.13.10"
      ],
      "text/plain": [
       "<IPython.core.display.HTML object>"
      ]
     },
     "metadata": {},
     "output_type": "display_data"
    },
    {
     "data": {
      "text/html": [
       "Run data is saved locally in <code>/home/g.marino/Desktop/GA/RhetoricalRolesClassification/ITA-RhetRoles/wandb/run-20230426_044401-oygwfmld</code>"
      ],
      "text/plain": [
       "<IPython.core.display.HTML object>"
      ]
     },
     "metadata": {},
     "output_type": "display_data"
    },
    {
     "data": {
      "text/html": [
       "Syncing run <strong><a href='https://wandb.ai/gmarinowandb-8601/RhetoricalRolesClassification-ITA-RhetRoles/runs/oygwfmld' target=\"_blank\">ToBERT-Trial27</a></strong> to <a href='https://wandb.ai/gmarinowandb-8601/RhetoricalRolesClassification-ITA-RhetRoles' target=\"_blank\">Weights & Biases</a> (<a href='https://wandb.me/run' target=\"_blank\">docs</a>)<br/>"
      ],
      "text/plain": [
       "<IPython.core.display.HTML object>"
      ]
     },
     "metadata": {},
     "output_type": "display_data"
    },
    {
     "data": {
      "text/html": [
       " View project at <a href='https://wandb.ai/gmarinowandb-8601/RhetoricalRolesClassification-ITA-RhetRoles' target=\"_blank\">https://wandb.ai/gmarinowandb-8601/RhetoricalRolesClassification-ITA-RhetRoles</a>"
      ],
      "text/plain": [
       "<IPython.core.display.HTML object>"
      ]
     },
     "metadata": {},
     "output_type": "display_data"
    },
    {
     "data": {
      "text/html": [
       " View run at <a href='https://wandb.ai/gmarinowandb-8601/RhetoricalRolesClassification-ITA-RhetRoles/runs/oygwfmld' target=\"_blank\">https://wandb.ai/gmarinowandb-8601/RhetoricalRolesClassification-ITA-RhetRoles/runs/oygwfmld</a>"
      ],
      "text/plain": [
       "<IPython.core.display.HTML object>"
      ]
     },
     "metadata": {},
     "output_type": "display_data"
    },
    {
     "name": "stdout",
     "output_type": "stream",
     "text": [
      "\n",
      "************** Training Started **************\n",
      "\n",
      "EPOCH N. 1\n"
     ]
    },
    {
     "name": "stderr",
     "output_type": "stream",
     "text": [
      "1045it [05:06,  3.41it/s]\n"
     ]
    },
    {
     "name": "stdout",
     "output_type": "stream",
     "text": [
      "\n",
      "TRAIN RESULTS\n",
      "Loss: 0.3884625237366033\n",
      "Accuracy: 0.8439098982532495\n",
      "MCC: 0.75532363573799\n",
      "Macro F1: 0.8448434343633953\n",
      "Macro Precision: 0.8546674982883353\n",
      "Macro Recall: 0.8355716689795895\n",
      "Micro F1: 0.8439098982532494\n",
      "Micro Precision: 0.8439098982532495\n",
      "Micro Recall: 0.8439098982532495\n",
      "\n",
      "VALIDATION RESULTS\n",
      "Loss: 0.173193097114563\n",
      "Accuracy: 0.9227650727650728\n",
      "MCC: 0.8806878279755971\n",
      "Macro F1: 0.9239030092703946\n",
      "Macro Precision: 0.9365266974820241\n",
      "Macro Recall: 0.9126115583905824\n",
      "Micro F1: 0.9227650727650728\n",
      "Micro Precision: 0.9227650727650728\n",
      "Micro Recall: 0.9227650727650728\n",
      "--------------------------------------------------\n",
      "EPOCH N. 2\n"
     ]
    },
    {
     "name": "stderr",
     "output_type": "stream",
     "text": [
      "1045it [05:06,  3.41it/s]\n"
     ]
    },
    {
     "name": "stdout",
     "output_type": "stream",
     "text": [
      "\n",
      "TRAIN RESULTS\n",
      "Loss: 0.3023124753557698\n",
      "Accuracy: 0.8828736105393166\n",
      "MCC: 0.8190341089451354\n",
      "Macro F1: 0.8804430906838814\n",
      "Macro Precision: 0.880764913405472\n",
      "Macro Recall: 0.8806200144166763\n",
      "Micro F1: 0.8828736105393166\n",
      "Micro Precision: 0.8828736105393166\n",
      "Micro Recall: 0.8828736105393166\n",
      "\n",
      "VALIDATION RESULTS\n",
      "Loss: 0.792540967464447\n",
      "Accuracy: 0.7082120582120582\n",
      "MCC: 0.5386376920059212\n",
      "Macro F1: 0.608256938410204\n",
      "Macro Precision: 0.742671216409745\n",
      "Macro Recall: 0.5652278264079554\n",
      "Micro F1: 0.7082120582120582\n",
      "Micro Precision: 0.7082120582120582\n",
      "Micro Recall: 0.7082120582120582\n",
      "--------------------------------------------------\n",
      "EPOCH N. 3\n"
     ]
    },
    {
     "name": "stderr",
     "output_type": "stream",
     "text": [
      "1045it [05:05,  3.42it/s]\n"
     ]
    },
    {
     "name": "stdout",
     "output_type": "stream",
     "text": [
      "\n",
      "TRAIN RESULTS\n",
      "Loss: 0.7057025513295352\n",
      "Accuracy: 0.7104922660706934\n",
      "MCC: 0.5471669486698728\n",
      "Macro F1: 0.6648664265884979\n",
      "Macro Precision: 0.6665230835970126\n",
      "Macro Recall: 0.6651517517308662\n",
      "Micro F1: 0.7104922660706934\n",
      "Micro Precision: 0.7104922660706934\n",
      "Micro Recall: 0.7104922660706934\n",
      "\n",
      "VALIDATION RESULTS\n",
      "Loss: 0.660326361656189\n",
      "Accuracy: 0.7182952182952183\n",
      "MCC: 0.5585124441001942\n",
      "Macro F1: 0.6769834895536841\n",
      "Macro Precision: 0.6956163934372898\n",
      "Macro Recall: 0.6726350066891154\n",
      "Micro F1: 0.7182952182952183\n",
      "Micro Precision: 0.7182952182952183\n",
      "Micro Recall: 0.7182952182952183\n",
      "Early stopped training\n",
      "--------------------------------------------------\n"
     ]
    },
    {
     "data": {
      "text/html": [
       "Waiting for W&B process to finish... <strong style=\"color:red\">(failed 1).</strong> Press Control-C to abort syncing."
      ],
      "text/plain": [
       "<IPython.core.display.HTML object>"
      ]
     },
     "metadata": {},
     "output_type": "display_data"
    },
    {
     "data": {
      "text/html": [
       "<style>\n",
       "    table.wandb td:nth-child(1) { padding: 0 10px; text-align: left ; width: auto;} td:nth-child(2) {text-align: left ; width: 100%}\n",
       "    .wandb-row { display: flex; flex-direction: row; flex-wrap: wrap; justify-content: flex-start; width: 100% }\n",
       "    .wandb-col { display: flex; flex-direction: column; flex-basis: 100%; flex: 1; padding: 10px; }\n",
       "    </style>\n",
       "<div class=\"wandb-row\"><div class=\"wandb-col\"><h3>Run history:</h3><br/><table class=\"wandb\"><tr><td>Epoch</td><td>▁▅█</td></tr><tr><td>Train Loss</td><td>▂▁█</td></tr><tr><td>Validation Loss</td><td>▁█▇</td></tr></table><br/></div><div class=\"wandb-col\"><h3>Run summary:</h3><br/><table class=\"wandb\"><tr><td>Epoch</td><td>3</td></tr><tr><td>Train Loss</td><td>0.7057</td></tr><tr><td>Validation Loss</td><td>0.66033</td></tr></table><br/></div></div>"
      ],
      "text/plain": [
       "<IPython.core.display.HTML object>"
      ]
     },
     "metadata": {},
     "output_type": "display_data"
    },
    {
     "data": {
      "text/html": [
       " View run <strong style=\"color:#cdcd00\">ToBERT-Trial27</strong> at: <a href='https://wandb.ai/gmarinowandb-8601/RhetoricalRolesClassification-ITA-RhetRoles/runs/oygwfmld' target=\"_blank\">https://wandb.ai/gmarinowandb-8601/RhetoricalRolesClassification-ITA-RhetRoles/runs/oygwfmld</a><br/>Synced 5 W&B file(s), 0 media file(s), 0 artifact file(s) and 0 other file(s)"
      ],
      "text/plain": [
       "<IPython.core.display.HTML object>"
      ]
     },
     "metadata": {},
     "output_type": "display_data"
    },
    {
     "data": {
      "text/html": [
       "Find logs at: <code>./wandb/run-20230426_044401-oygwfmld/logs</code>"
      ],
      "text/plain": [
       "<IPython.core.display.HTML object>"
      ]
     },
     "metadata": {},
     "output_type": "display_data"
    },
    {
     "name": "stderr",
     "output_type": "stream",
     "text": [
      "\u001b[32m[I 2023-04-26 05:01:33,998]\u001b[0m Trial 27 pruned. \u001b[0m\n"
     ]
    },
    {
     "name": "stdout",
     "output_type": "stream",
     "text": [
      "\n",
      "************************ Starting New Optuna Trial ************************\n",
      "\n"
     ]
    },
    {
     "name": "stderr",
     "output_type": "stream",
     "text": [
      "Some weights of the model checkpoint at dlicari/Italian-Legal-BERT were not used when initializing BertForTokenClassification: ['cls.predictions.transform.LayerNorm.bias', 'cls.predictions.transform.dense.weight', 'cls.predictions.decoder.weight', 'cls.predictions.transform.dense.bias', 'cls.predictions.decoder.bias', 'cls.predictions.bias', 'cls.predictions.transform.LayerNorm.weight']\n",
      "- This IS expected if you are initializing BertForTokenClassification from the checkpoint of a model trained on another task or with another architecture (e.g. initializing a BertForSequenceClassification model from a BertForPreTraining model).\n",
      "- This IS NOT expected if you are initializing BertForTokenClassification from the checkpoint of a model that you expect to be exactly identical (initializing a BertForSequenceClassification model from a BertForSequenceClassification model).\n",
      "Some weights of BertForTokenClassification were not initialized from the model checkpoint at dlicari/Italian-Legal-BERT and are newly initialized: ['classifier.bias', 'classifier.weight']\n",
      "You should probably TRAIN this model on a down-stream task to be able to use it for predictions and inference.\n"
     ]
    },
    {
     "data": {
      "text/html": [
       "wandb version 0.15.0 is available!  To upgrade, please run:\n",
       " $ pip install wandb --upgrade"
      ],
      "text/plain": [
       "<IPython.core.display.HTML object>"
      ]
     },
     "metadata": {},
     "output_type": "display_data"
    },
    {
     "data": {
      "text/html": [
       "Tracking run with wandb version 0.13.10"
      ],
      "text/plain": [
       "<IPython.core.display.HTML object>"
      ]
     },
     "metadata": {},
     "output_type": "display_data"
    },
    {
     "data": {
      "text/html": [
       "Run data is saved locally in <code>/home/g.marino/Desktop/GA/RhetoricalRolesClassification/ITA-RhetRoles/wandb/run-20230426_050135-8j1jjwkx</code>"
      ],
      "text/plain": [
       "<IPython.core.display.HTML object>"
      ]
     },
     "metadata": {},
     "output_type": "display_data"
    },
    {
     "data": {
      "text/html": [
       "Syncing run <strong><a href='https://wandb.ai/gmarinowandb-8601/RhetoricalRolesClassification-ITA-RhetRoles/runs/8j1jjwkx' target=\"_blank\">ToBERT-Trial28</a></strong> to <a href='https://wandb.ai/gmarinowandb-8601/RhetoricalRolesClassification-ITA-RhetRoles' target=\"_blank\">Weights & Biases</a> (<a href='https://wandb.me/run' target=\"_blank\">docs</a>)<br/>"
      ],
      "text/plain": [
       "<IPython.core.display.HTML object>"
      ]
     },
     "metadata": {},
     "output_type": "display_data"
    },
    {
     "data": {
      "text/html": [
       " View project at <a href='https://wandb.ai/gmarinowandb-8601/RhetoricalRolesClassification-ITA-RhetRoles' target=\"_blank\">https://wandb.ai/gmarinowandb-8601/RhetoricalRolesClassification-ITA-RhetRoles</a>"
      ],
      "text/plain": [
       "<IPython.core.display.HTML object>"
      ]
     },
     "metadata": {},
     "output_type": "display_data"
    },
    {
     "data": {
      "text/html": [
       " View run at <a href='https://wandb.ai/gmarinowandb-8601/RhetoricalRolesClassification-ITA-RhetRoles/runs/8j1jjwkx' target=\"_blank\">https://wandb.ai/gmarinowandb-8601/RhetoricalRolesClassification-ITA-RhetRoles/runs/8j1jjwkx</a>"
      ],
      "text/plain": [
       "<IPython.core.display.HTML object>"
      ]
     },
     "metadata": {},
     "output_type": "display_data"
    },
    {
     "name": "stdout",
     "output_type": "stream",
     "text": [
      "\n",
      "************** Training Started **************\n",
      "\n",
      "EPOCH N. 1\n"
     ]
    },
    {
     "name": "stderr",
     "output_type": "stream",
     "text": [
      "1045it [05:00,  3.47it/s]\n"
     ]
    },
    {
     "name": "stdout",
     "output_type": "stream",
     "text": [
      "\n",
      "TRAIN RESULTS\n",
      "Loss: 0.5842076482420618\n",
      "Accuracy: 0.7796859377756866\n",
      "MCC: 0.6464986478364875\n",
      "Macro F1: 0.7564601747631676\n",
      "Macro Precision: 0.8046440874785679\n",
      "Macro Recall: 0.7201059758187791\n",
      "Micro F1: 0.7796859377756866\n",
      "Micro Precision: 0.7796859377756866\n",
      "Micro Recall: 0.7796859377756866\n",
      "\n",
      "VALIDATION RESULTS\n",
      "Loss: 0.3059973418712616\n",
      "Accuracy: 0.858939708939709\n",
      "MCC: 0.7900615428634921\n",
      "Macro F1: 0.8740555551023306\n",
      "Macro Precision: 0.8635539966483851\n",
      "Macro Recall: 0.8872341140949331\n",
      "Micro F1: 0.858939708939709\n",
      "Micro Precision: 0.858939708939709\n",
      "Micro Recall: 0.858939708939709\n",
      "--------------------------------------------------\n"
     ]
    },
    {
     "data": {
      "text/html": [
       "Waiting for W&B process to finish... <strong style=\"color:red\">(failed 1).</strong> Press Control-C to abort syncing."
      ],
      "text/plain": [
       "<IPython.core.display.HTML object>"
      ]
     },
     "metadata": {},
     "output_type": "display_data"
    },
    {
     "data": {
      "application/vnd.jupyter.widget-view+json": {
       "model_id": "005a9eeca5a44161a9fb507e9c7a677e",
       "version_major": 2,
       "version_minor": 0
      },
      "text/plain": [
       "VBox(children=(Label(value='0.005 MB of 0.005 MB uploaded (0.000 MB deduped)\\r'), FloatProgress(value=1.0, max…"
      ]
     },
     "metadata": {},
     "output_type": "display_data"
    },
    {
     "data": {
      "text/html": [
       "<style>\n",
       "    table.wandb td:nth-child(1) { padding: 0 10px; text-align: left ; width: auto;} td:nth-child(2) {text-align: left ; width: 100%}\n",
       "    .wandb-row { display: flex; flex-direction: row; flex-wrap: wrap; justify-content: flex-start; width: 100% }\n",
       "    .wandb-col { display: flex; flex-direction: column; flex-basis: 100%; flex: 1; padding: 10px; }\n",
       "    </style>\n",
       "<div class=\"wandb-row\"><div class=\"wandb-col\"><h3>Run history:</h3><br/><table class=\"wandb\"><tr><td>Epoch</td><td>▁</td></tr><tr><td>Train Loss</td><td>▁</td></tr><tr><td>Validation Loss</td><td>▁</td></tr></table><br/></div><div class=\"wandb-col\"><h3>Run summary:</h3><br/><table class=\"wandb\"><tr><td>Epoch</td><td>1</td></tr><tr><td>Train Loss</td><td>0.58421</td></tr><tr><td>Validation Loss</td><td>0.306</td></tr></table><br/></div></div>"
      ],
      "text/plain": [
       "<IPython.core.display.HTML object>"
      ]
     },
     "metadata": {},
     "output_type": "display_data"
    },
    {
     "data": {
      "text/html": [
       " View run <strong style=\"color:#cdcd00\">ToBERT-Trial28</strong> at: <a href='https://wandb.ai/gmarinowandb-8601/RhetoricalRolesClassification-ITA-RhetRoles/runs/8j1jjwkx' target=\"_blank\">https://wandb.ai/gmarinowandb-8601/RhetoricalRolesClassification-ITA-RhetRoles/runs/8j1jjwkx</a><br/>Synced 5 W&B file(s), 0 media file(s), 0 artifact file(s) and 0 other file(s)"
      ],
      "text/plain": [
       "<IPython.core.display.HTML object>"
      ]
     },
     "metadata": {},
     "output_type": "display_data"
    },
    {
     "data": {
      "text/html": [
       "Find logs at: <code>./wandb/run-20230426_050135-8j1jjwkx/logs</code>"
      ],
      "text/plain": [
       "<IPython.core.display.HTML object>"
      ]
     },
     "metadata": {},
     "output_type": "display_data"
    },
    {
     "name": "stderr",
     "output_type": "stream",
     "text": [
      "\u001b[32m[I 2023-04-26 05:07:34,911]\u001b[0m Trial 28 pruned. \u001b[0m\n"
     ]
    },
    {
     "name": "stdout",
     "output_type": "stream",
     "text": [
      "\n",
      "************************ Starting New Optuna Trial ************************\n",
      "\n"
     ]
    },
    {
     "name": "stderr",
     "output_type": "stream",
     "text": [
      "Some weights of the model checkpoint at dlicari/Italian-Legal-BERT were not used when initializing BertForTokenClassification: ['cls.predictions.transform.LayerNorm.bias', 'cls.predictions.transform.dense.weight', 'cls.predictions.decoder.weight', 'cls.predictions.transform.dense.bias', 'cls.predictions.decoder.bias', 'cls.predictions.bias', 'cls.predictions.transform.LayerNorm.weight']\n",
      "- This IS expected if you are initializing BertForTokenClassification from the checkpoint of a model trained on another task or with another architecture (e.g. initializing a BertForSequenceClassification model from a BertForPreTraining model).\n",
      "- This IS NOT expected if you are initializing BertForTokenClassification from the checkpoint of a model that you expect to be exactly identical (initializing a BertForSequenceClassification model from a BertForSequenceClassification model).\n",
      "Some weights of BertForTokenClassification were not initialized from the model checkpoint at dlicari/Italian-Legal-BERT and are newly initialized: ['classifier.bias', 'classifier.weight']\n",
      "You should probably TRAIN this model on a down-stream task to be able to use it for predictions and inference.\n"
     ]
    },
    {
     "data": {
      "text/html": [
       "wandb version 0.15.0 is available!  To upgrade, please run:\n",
       " $ pip install wandb --upgrade"
      ],
      "text/plain": [
       "<IPython.core.display.HTML object>"
      ]
     },
     "metadata": {},
     "output_type": "display_data"
    },
    {
     "data": {
      "text/html": [
       "Tracking run with wandb version 0.13.10"
      ],
      "text/plain": [
       "<IPython.core.display.HTML object>"
      ]
     },
     "metadata": {},
     "output_type": "display_data"
    },
    {
     "data": {
      "text/html": [
       "Run data is saved locally in <code>/home/g.marino/Desktop/GA/RhetoricalRolesClassification/ITA-RhetRoles/wandb/run-20230426_050736-epvfy9wv</code>"
      ],
      "text/plain": [
       "<IPython.core.display.HTML object>"
      ]
     },
     "metadata": {},
     "output_type": "display_data"
    },
    {
     "data": {
      "text/html": [
       "Syncing run <strong><a href='https://wandb.ai/gmarinowandb-8601/RhetoricalRolesClassification-ITA-RhetRoles/runs/epvfy9wv' target=\"_blank\">ToBERT-Trial29</a></strong> to <a href='https://wandb.ai/gmarinowandb-8601/RhetoricalRolesClassification-ITA-RhetRoles' target=\"_blank\">Weights & Biases</a> (<a href='https://wandb.me/run' target=\"_blank\">docs</a>)<br/>"
      ],
      "text/plain": [
       "<IPython.core.display.HTML object>"
      ]
     },
     "metadata": {},
     "output_type": "display_data"
    },
    {
     "data": {
      "text/html": [
       " View project at <a href='https://wandb.ai/gmarinowandb-8601/RhetoricalRolesClassification-ITA-RhetRoles' target=\"_blank\">https://wandb.ai/gmarinowandb-8601/RhetoricalRolesClassification-ITA-RhetRoles</a>"
      ],
      "text/plain": [
       "<IPython.core.display.HTML object>"
      ]
     },
     "metadata": {},
     "output_type": "display_data"
    },
    {
     "data": {
      "text/html": [
       " View run at <a href='https://wandb.ai/gmarinowandb-8601/RhetoricalRolesClassification-ITA-RhetRoles/runs/epvfy9wv' target=\"_blank\">https://wandb.ai/gmarinowandb-8601/RhetoricalRolesClassification-ITA-RhetRoles/runs/epvfy9wv</a>"
      ],
      "text/plain": [
       "<IPython.core.display.HTML object>"
      ]
     },
     "metadata": {},
     "output_type": "display_data"
    },
    {
     "name": "stdout",
     "output_type": "stream",
     "text": [
      "\n",
      "************** Training Started **************\n",
      "\n",
      "EPOCH N. 1\n"
     ]
    },
    {
     "name": "stderr",
     "output_type": "stream",
     "text": [
      "1045it [04:59,  3.49it/s]\n"
     ]
    },
    {
     "name": "stdout",
     "output_type": "stream",
     "text": [
      "\n",
      "TRAIN RESULTS\n",
      "Loss: 0.39646217977654846\n",
      "Accuracy: 0.8468505557842734\n",
      "MCC: 0.7592289538965917\n",
      "Macro F1: 0.8472496041514269\n",
      "Macro Precision: 0.8589761585327246\n",
      "Macro Recall: 0.8365491891737877\n",
      "Micro F1: 0.8468505557842734\n",
      "Micro Precision: 0.8468505557842734\n",
      "Micro Recall: 0.8468505557842734\n",
      "\n",
      "VALIDATION RESULTS\n",
      "Loss: 0.21923884749412537\n",
      "Accuracy: 0.9029106029106029\n",
      "MCC: 0.8508677621683421\n",
      "Macro F1: 0.8907504825487169\n",
      "Macro Precision: 0.9300009262143295\n",
      "Macro Recall: 0.8685740282459399\n",
      "Micro F1: 0.9029106029106029\n",
      "Micro Precision: 0.9029106029106029\n",
      "Micro Recall: 0.9029106029106029\n",
      "--------------------------------------------------\n",
      "EPOCH N. 2\n"
     ]
    },
    {
     "name": "stderr",
     "output_type": "stream",
     "text": [
      "1045it [04:59,  3.49it/s]\n"
     ]
    },
    {
     "name": "stdout",
     "output_type": "stream",
     "text": [
      "\n",
      "TRAIN RESULTS\n",
      "Loss: 0.5542993327223976\n",
      "Accuracy: 0.7814944421572664\n",
      "MCC: 0.6585400937136273\n",
      "Macro F1: 0.7438800372427193\n",
      "Macro Precision: 0.743570984631105\n",
      "Macro Recall: 0.7469502621308373\n",
      "Micro F1: 0.7814944421572664\n",
      "Micro Precision: 0.7814944421572664\n",
      "Micro Recall: 0.7814944421572664\n",
      "\n",
      "VALIDATION RESULTS\n",
      "Loss: 0.7040418386459351\n",
      "Accuracy: 0.7196465696465697\n",
      "MCC: 0.5518513462504273\n",
      "Macro F1: 0.6594352895631452\n",
      "Macro Precision: 0.7344278996940009\n",
      "Macro Recall: 0.6130292133844292\n",
      "Micro F1: 0.7196465696465697\n",
      "Micro Precision: 0.7196465696465697\n",
      "Micro Recall: 0.7196465696465697\n",
      "--------------------------------------------------\n"
     ]
    },
    {
     "data": {
      "text/html": [
       "Waiting for W&B process to finish... <strong style=\"color:red\">(failed 1).</strong> Press Control-C to abort syncing."
      ],
      "text/plain": [
       "<IPython.core.display.HTML object>"
      ]
     },
     "metadata": {},
     "output_type": "display_data"
    },
    {
     "data": {
      "application/vnd.jupyter.widget-view+json": {
       "model_id": "17fa02c00f274c8f8849b4ca9cfe2508",
       "version_major": 2,
       "version_minor": 0
      },
      "text/plain": [
       "VBox(children=(Label(value='0.005 MB of 0.005 MB uploaded (0.000 MB deduped)\\r'), FloatProgress(value=1.0, max…"
      ]
     },
     "metadata": {},
     "output_type": "display_data"
    },
    {
     "data": {
      "text/html": [
       "<style>\n",
       "    table.wandb td:nth-child(1) { padding: 0 10px; text-align: left ; width: auto;} td:nth-child(2) {text-align: left ; width: 100%}\n",
       "    .wandb-row { display: flex; flex-direction: row; flex-wrap: wrap; justify-content: flex-start; width: 100% }\n",
       "    .wandb-col { display: flex; flex-direction: column; flex-basis: 100%; flex: 1; padding: 10px; }\n",
       "    </style>\n",
       "<div class=\"wandb-row\"><div class=\"wandb-col\"><h3>Run history:</h3><br/><table class=\"wandb\"><tr><td>Epoch</td><td>▁█</td></tr><tr><td>Train Loss</td><td>▁█</td></tr><tr><td>Validation Loss</td><td>▁█</td></tr></table><br/></div><div class=\"wandb-col\"><h3>Run summary:</h3><br/><table class=\"wandb\"><tr><td>Epoch</td><td>2</td></tr><tr><td>Train Loss</td><td>0.5543</td></tr><tr><td>Validation Loss</td><td>0.70404</td></tr></table><br/></div></div>"
      ],
      "text/plain": [
       "<IPython.core.display.HTML object>"
      ]
     },
     "metadata": {},
     "output_type": "display_data"
    },
    {
     "data": {
      "text/html": [
       " View run <strong style=\"color:#cdcd00\">ToBERT-Trial29</strong> at: <a href='https://wandb.ai/gmarinowandb-8601/RhetoricalRolesClassification-ITA-RhetRoles/runs/epvfy9wv' target=\"_blank\">https://wandb.ai/gmarinowandb-8601/RhetoricalRolesClassification-ITA-RhetRoles/runs/epvfy9wv</a><br/>Synced 5 W&B file(s), 0 media file(s), 0 artifact file(s) and 0 other file(s)"
      ],
      "text/plain": [
       "<IPython.core.display.HTML object>"
      ]
     },
     "metadata": {},
     "output_type": "display_data"
    },
    {
     "data": {
      "text/html": [
       "Find logs at: <code>./wandb/run-20230426_050736-epvfy9wv/logs</code>"
      ],
      "text/plain": [
       "<IPython.core.display.HTML object>"
      ]
     },
     "metadata": {},
     "output_type": "display_data"
    },
    {
     "name": "stderr",
     "output_type": "stream",
     "text": [
      "\u001b[32m[I 2023-04-26 05:19:06,081]\u001b[0m Trial 29 pruned. \u001b[0m\n"
     ]
    },
    {
     "name": "stdout",
     "output_type": "stream",
     "text": [
      "\n",
      "************************ Starting New Optuna Trial ************************\n",
      "\n"
     ]
    },
    {
     "name": "stderr",
     "output_type": "stream",
     "text": [
      "Some weights of the model checkpoint at dlicari/Italian-Legal-BERT were not used when initializing BertForTokenClassification: ['cls.predictions.transform.LayerNorm.bias', 'cls.predictions.transform.dense.weight', 'cls.predictions.decoder.weight', 'cls.predictions.transform.dense.bias', 'cls.predictions.decoder.bias', 'cls.predictions.bias', 'cls.predictions.transform.LayerNorm.weight']\n",
      "- This IS expected if you are initializing BertForTokenClassification from the checkpoint of a model trained on another task or with another architecture (e.g. initializing a BertForSequenceClassification model from a BertForPreTraining model).\n",
      "- This IS NOT expected if you are initializing BertForTokenClassification from the checkpoint of a model that you expect to be exactly identical (initializing a BertForSequenceClassification model from a BertForSequenceClassification model).\n",
      "Some weights of BertForTokenClassification were not initialized from the model checkpoint at dlicari/Italian-Legal-BERT and are newly initialized: ['classifier.bias', 'classifier.weight']\n",
      "You should probably TRAIN this model on a down-stream task to be able to use it for predictions and inference.\n"
     ]
    },
    {
     "data": {
      "text/html": [
       "wandb version 0.15.0 is available!  To upgrade, please run:\n",
       " $ pip install wandb --upgrade"
      ],
      "text/plain": [
       "<IPython.core.display.HTML object>"
      ]
     },
     "metadata": {},
     "output_type": "display_data"
    },
    {
     "data": {
      "text/html": [
       "Tracking run with wandb version 0.13.10"
      ],
      "text/plain": [
       "<IPython.core.display.HTML object>"
      ]
     },
     "metadata": {},
     "output_type": "display_data"
    },
    {
     "data": {
      "text/html": [
       "Run data is saved locally in <code>/home/g.marino/Desktop/GA/RhetoricalRolesClassification/ITA-RhetRoles/wandb/run-20230426_051907-ypgkgtn0</code>"
      ],
      "text/plain": [
       "<IPython.core.display.HTML object>"
      ]
     },
     "metadata": {},
     "output_type": "display_data"
    },
    {
     "data": {
      "text/html": [
       "Syncing run <strong><a href='https://wandb.ai/gmarinowandb-8601/RhetoricalRolesClassification-ITA-RhetRoles/runs/ypgkgtn0' target=\"_blank\">ToBERT-Trial30</a></strong> to <a href='https://wandb.ai/gmarinowandb-8601/RhetoricalRolesClassification-ITA-RhetRoles' target=\"_blank\">Weights & Biases</a> (<a href='https://wandb.me/run' target=\"_blank\">docs</a>)<br/>"
      ],
      "text/plain": [
       "<IPython.core.display.HTML object>"
      ]
     },
     "metadata": {},
     "output_type": "display_data"
    },
    {
     "data": {
      "text/html": [
       " View project at <a href='https://wandb.ai/gmarinowandb-8601/RhetoricalRolesClassification-ITA-RhetRoles' target=\"_blank\">https://wandb.ai/gmarinowandb-8601/RhetoricalRolesClassification-ITA-RhetRoles</a>"
      ],
      "text/plain": [
       "<IPython.core.display.HTML object>"
      ]
     },
     "metadata": {},
     "output_type": "display_data"
    },
    {
     "data": {
      "text/html": [
       " View run at <a href='https://wandb.ai/gmarinowandb-8601/RhetoricalRolesClassification-ITA-RhetRoles/runs/ypgkgtn0' target=\"_blank\">https://wandb.ai/gmarinowandb-8601/RhetoricalRolesClassification-ITA-RhetRoles/runs/ypgkgtn0</a>"
      ],
      "text/plain": [
       "<IPython.core.display.HTML object>"
      ]
     },
     "metadata": {},
     "output_type": "display_data"
    },
    {
     "name": "stdout",
     "output_type": "stream",
     "text": [
      "\n",
      "************** Training Started **************\n",
      "\n",
      "EPOCH N. 1\n"
     ]
    },
    {
     "name": "stderr",
     "output_type": "stream",
     "text": [
      "1045it [04:58,  3.50it/s]\n"
     ]
    },
    {
     "name": "stdout",
     "output_type": "stream",
     "text": [
      "\n",
      "TRAIN RESULTS\n",
      "Loss: 0.36597050110493123\n",
      "Accuracy: 0.856025407281068\n",
      "MCC: 0.774059928623407\n",
      "Macro F1: 0.8572950092472359\n",
      "Macro Precision: 0.8675319408291322\n",
      "Macro Recall: 0.8477609916104163\n",
      "Micro F1: 0.856025407281068\n",
      "Micro Precision: 0.856025407281068\n",
      "Micro Recall: 0.856025407281068\n",
      "\n",
      "VALIDATION RESULTS\n",
      "Loss: 0.23148389160633087\n",
      "Accuracy: 0.9088357588357588\n",
      "MCC: 0.8639101544755465\n",
      "Macro F1: 0.9201510045293129\n",
      "Macro Precision: 0.9189462918279343\n",
      "Macro Recall: 0.9242006525606952\n",
      "Micro F1: 0.9088357588357588\n",
      "Micro Precision: 0.9088357588357588\n",
      "Micro Recall: 0.9088357588357588\n",
      "--------------------------------------------------\n"
     ]
    },
    {
     "data": {
      "text/html": [
       "Waiting for W&B process to finish... <strong style=\"color:red\">(failed 1).</strong> Press Control-C to abort syncing."
      ],
      "text/plain": [
       "<IPython.core.display.HTML object>"
      ]
     },
     "metadata": {},
     "output_type": "display_data"
    },
    {
     "data": {
      "application/vnd.jupyter.widget-view+json": {
       "model_id": "3fc1334bae894f33824462febad76f2c",
       "version_major": 2,
       "version_minor": 0
      },
      "text/plain": [
       "VBox(children=(Label(value='0.005 MB of 0.005 MB uploaded (0.000 MB deduped)\\r'), FloatProgress(value=1.0, max…"
      ]
     },
     "metadata": {},
     "output_type": "display_data"
    },
    {
     "data": {
      "text/html": [
       "<style>\n",
       "    table.wandb td:nth-child(1) { padding: 0 10px; text-align: left ; width: auto;} td:nth-child(2) {text-align: left ; width: 100%}\n",
       "    .wandb-row { display: flex; flex-direction: row; flex-wrap: wrap; justify-content: flex-start; width: 100% }\n",
       "    .wandb-col { display: flex; flex-direction: column; flex-basis: 100%; flex: 1; padding: 10px; }\n",
       "    </style>\n",
       "<div class=\"wandb-row\"><div class=\"wandb-col\"><h3>Run history:</h3><br/><table class=\"wandb\"><tr><td>Epoch</td><td>▁</td></tr><tr><td>Train Loss</td><td>▁</td></tr><tr><td>Validation Loss</td><td>▁</td></tr></table><br/></div><div class=\"wandb-col\"><h3>Run summary:</h3><br/><table class=\"wandb\"><tr><td>Epoch</td><td>1</td></tr><tr><td>Train Loss</td><td>0.36597</td></tr><tr><td>Validation Loss</td><td>0.23148</td></tr></table><br/></div></div>"
      ],
      "text/plain": [
       "<IPython.core.display.HTML object>"
      ]
     },
     "metadata": {},
     "output_type": "display_data"
    },
    {
     "data": {
      "text/html": [
       " View run <strong style=\"color:#cdcd00\">ToBERT-Trial30</strong> at: <a href='https://wandb.ai/gmarinowandb-8601/RhetoricalRolesClassification-ITA-RhetRoles/runs/ypgkgtn0' target=\"_blank\">https://wandb.ai/gmarinowandb-8601/RhetoricalRolesClassification-ITA-RhetRoles/runs/ypgkgtn0</a><br/>Synced 5 W&B file(s), 0 media file(s), 0 artifact file(s) and 0 other file(s)"
      ],
      "text/plain": [
       "<IPython.core.display.HTML object>"
      ]
     },
     "metadata": {},
     "output_type": "display_data"
    },
    {
     "data": {
      "text/html": [
       "Find logs at: <code>./wandb/run-20230426_051907-ypgkgtn0/logs</code>"
      ],
      "text/plain": [
       "<IPython.core.display.HTML object>"
      ]
     },
     "metadata": {},
     "output_type": "display_data"
    },
    {
     "name": "stderr",
     "output_type": "stream",
     "text": [
      "\u001b[32m[I 2023-04-26 05:25:04,341]\u001b[0m Trial 30 pruned. \u001b[0m\n"
     ]
    },
    {
     "name": "stdout",
     "output_type": "stream",
     "text": [
      "\n",
      "************************ Starting New Optuna Trial ************************\n",
      "\n"
     ]
    },
    {
     "name": "stderr",
     "output_type": "stream",
     "text": [
      "Some weights of the model checkpoint at dlicari/Italian-Legal-BERT were not used when initializing BertForTokenClassification: ['cls.predictions.transform.LayerNorm.bias', 'cls.predictions.transform.dense.weight', 'cls.predictions.decoder.weight', 'cls.predictions.transform.dense.bias', 'cls.predictions.decoder.bias', 'cls.predictions.bias', 'cls.predictions.transform.LayerNorm.weight']\n",
      "- This IS expected if you are initializing BertForTokenClassification from the checkpoint of a model trained on another task or with another architecture (e.g. initializing a BertForSequenceClassification model from a BertForPreTraining model).\n",
      "- This IS NOT expected if you are initializing BertForTokenClassification from the checkpoint of a model that you expect to be exactly identical (initializing a BertForSequenceClassification model from a BertForSequenceClassification model).\n",
      "Some weights of BertForTokenClassification were not initialized from the model checkpoint at dlicari/Italian-Legal-BERT and are newly initialized: ['classifier.bias', 'classifier.weight']\n",
      "You should probably TRAIN this model on a down-stream task to be able to use it for predictions and inference.\n"
     ]
    },
    {
     "data": {
      "text/html": [
       "wandb version 0.15.0 is available!  To upgrade, please run:\n",
       " $ pip install wandb --upgrade"
      ],
      "text/plain": [
       "<IPython.core.display.HTML object>"
      ]
     },
     "metadata": {},
     "output_type": "display_data"
    },
    {
     "data": {
      "text/html": [
       "Tracking run with wandb version 0.13.10"
      ],
      "text/plain": [
       "<IPython.core.display.HTML object>"
      ]
     },
     "metadata": {},
     "output_type": "display_data"
    },
    {
     "data": {
      "text/html": [
       "Run data is saved locally in <code>/home/g.marino/Desktop/GA/RhetoricalRolesClassification/ITA-RhetRoles/wandb/run-20230426_052505-4jmexwm0</code>"
      ],
      "text/plain": [
       "<IPython.core.display.HTML object>"
      ]
     },
     "metadata": {},
     "output_type": "display_data"
    },
    {
     "data": {
      "text/html": [
       "Syncing run <strong><a href='https://wandb.ai/gmarinowandb-8601/RhetoricalRolesClassification-ITA-RhetRoles/runs/4jmexwm0' target=\"_blank\">ToBERT-Trial31</a></strong> to <a href='https://wandb.ai/gmarinowandb-8601/RhetoricalRolesClassification-ITA-RhetRoles' target=\"_blank\">Weights & Biases</a> (<a href='https://wandb.me/run' target=\"_blank\">docs</a>)<br/>"
      ],
      "text/plain": [
       "<IPython.core.display.HTML object>"
      ]
     },
     "metadata": {},
     "output_type": "display_data"
    },
    {
     "data": {
      "text/html": [
       " View project at <a href='https://wandb.ai/gmarinowandb-8601/RhetoricalRolesClassification-ITA-RhetRoles' target=\"_blank\">https://wandb.ai/gmarinowandb-8601/RhetoricalRolesClassification-ITA-RhetRoles</a>"
      ],
      "text/plain": [
       "<IPython.core.display.HTML object>"
      ]
     },
     "metadata": {},
     "output_type": "display_data"
    },
    {
     "data": {
      "text/html": [
       " View run at <a href='https://wandb.ai/gmarinowandb-8601/RhetoricalRolesClassification-ITA-RhetRoles/runs/4jmexwm0' target=\"_blank\">https://wandb.ai/gmarinowandb-8601/RhetoricalRolesClassification-ITA-RhetRoles/runs/4jmexwm0</a>"
      ],
      "text/plain": [
       "<IPython.core.display.HTML object>"
      ]
     },
     "metadata": {},
     "output_type": "display_data"
    },
    {
     "name": "stdout",
     "output_type": "stream",
     "text": [
      "\n",
      "************** Training Started **************\n",
      "\n",
      "EPOCH N. 1\n"
     ]
    },
    {
     "name": "stderr",
     "output_type": "stream",
     "text": [
      "1045it [04:59,  3.49it/s]\n"
     ]
    },
    {
     "name": "stdout",
     "output_type": "stream",
     "text": [
      "\n",
      "TRAIN RESULTS\n",
      "Loss: 0.35321654457928675\n",
      "Accuracy: 0.8661706757631006\n",
      "MCC: 0.7902677736383656\n",
      "Macro F1: 0.868543385066235\n",
      "Macro Precision: 0.875877952383546\n",
      "Macro Recall: 0.86176492196101\n",
      "Micro F1: 0.8661706757631006\n",
      "Micro Precision: 0.8661706757631006\n",
      "Micro Recall: 0.8661706757631006\n",
      "\n",
      "VALIDATION RESULTS\n",
      "Loss: 0.20838025212287903\n",
      "Accuracy: 0.907068607068607\n",
      "MCC: 0.8568447089257776\n",
      "Macro F1: 0.9109737126416247\n",
      "Macro Precision: 0.9174954474804637\n",
      "Macro Recall: 0.9059601209678618\n",
      "Micro F1: 0.907068607068607\n",
      "Micro Precision: 0.907068607068607\n",
      "Micro Recall: 0.907068607068607\n",
      "--------------------------------------------------\n",
      "EPOCH N. 2\n"
     ]
    },
    {
     "name": "stderr",
     "output_type": "stream",
     "text": [
      "1045it [04:58,  3.50it/s]\n"
     ]
    },
    {
     "name": "stdout",
     "output_type": "stream",
     "text": [
      "\n",
      "TRAIN RESULTS\n",
      "Loss: 0.21295778330038947\n",
      "Accuracy: 0.9227195200846909\n",
      "MCC: 0.8793525415752839\n",
      "Macro F1: 0.9199651085823849\n",
      "Macro Precision: 0.924365998937245\n",
      "Macro Recall: 0.9157467479689163\n",
      "Micro F1: 0.9227195200846909\n",
      "Micro Precision: 0.9227195200846909\n",
      "Micro Recall: 0.9227195200846909\n",
      "\n",
      "VALIDATION RESULTS\n",
      "Loss: 0.1408262997865677\n",
      "Accuracy: 0.9418918918918919\n",
      "MCC: 0.9110942758556412\n",
      "Macro F1: 0.9326668484830986\n",
      "Macro Precision: 0.9504680184721668\n",
      "Macro Recall: 0.9191863637603748\n",
      "Micro F1: 0.9418918918918919\n",
      "Micro Precision: 0.9418918918918919\n",
      "Micro Recall: 0.9418918918918919\n",
      "--------------------------------------------------\n",
      "EPOCH N. 3\n"
     ]
    },
    {
     "name": "stderr",
     "output_type": "stream",
     "text": [
      "1045it [04:59,  3.49it/s]\n"
     ]
    },
    {
     "name": "stdout",
     "output_type": "stream",
     "text": [
      "\n",
      "TRAIN RESULTS\n",
      "Loss: 0.14513787230394298\n",
      "Accuracy: 0.9515379638887255\n",
      "MCC: 0.9244489863627919\n",
      "Macro F1: 0.9517190507034672\n",
      "Macro Precision: 0.955681364483007\n",
      "Macro Recall: 0.9478620107124429\n",
      "Micro F1: 0.9515379638887255\n",
      "Micro Precision: 0.9515379638887255\n",
      "Micro Recall: 0.9515379638887255\n",
      "\n",
      "VALIDATION RESULTS\n",
      "Loss: 0.12703166902065277\n",
      "Accuracy: 0.9509355509355509\n",
      "MCC: 0.9248124210320977\n",
      "Macro F1: 0.9506521745423917\n",
      "Macro Precision: 0.9628093371628863\n",
      "Macro Recall: 0.9401907477456796\n",
      "Micro F1: 0.9509355509355509\n",
      "Micro Precision: 0.9509355509355509\n",
      "Micro Recall: 0.9509355509355509\n",
      "--------------------------------------------------\n"
     ]
    },
    {
     "data": {
      "text/html": [
       "Waiting for W&B process to finish... <strong style=\"color:red\">(failed 1).</strong> Press Control-C to abort syncing."
      ],
      "text/plain": [
       "<IPython.core.display.HTML object>"
      ]
     },
     "metadata": {},
     "output_type": "display_data"
    },
    {
     "data": {
      "text/html": [
       "<style>\n",
       "    table.wandb td:nth-child(1) { padding: 0 10px; text-align: left ; width: auto;} td:nth-child(2) {text-align: left ; width: 100%}\n",
       "    .wandb-row { display: flex; flex-direction: row; flex-wrap: wrap; justify-content: flex-start; width: 100% }\n",
       "    .wandb-col { display: flex; flex-direction: column; flex-basis: 100%; flex: 1; padding: 10px; }\n",
       "    </style>\n",
       "<div class=\"wandb-row\"><div class=\"wandb-col\"><h3>Run history:</h3><br/><table class=\"wandb\"><tr><td>Epoch</td><td>▁▅█</td></tr><tr><td>Train Loss</td><td>█▃▁</td></tr><tr><td>Validation Loss</td><td>█▂▁</td></tr></table><br/></div><div class=\"wandb-col\"><h3>Run summary:</h3><br/><table class=\"wandb\"><tr><td>Epoch</td><td>3</td></tr><tr><td>Train Loss</td><td>0.14514</td></tr><tr><td>Validation Loss</td><td>0.12703</td></tr></table><br/></div></div>"
      ],
      "text/plain": [
       "<IPython.core.display.HTML object>"
      ]
     },
     "metadata": {},
     "output_type": "display_data"
    },
    {
     "data": {
      "text/html": [
       " View run <strong style=\"color:#cdcd00\">ToBERT-Trial31</strong> at: <a href='https://wandb.ai/gmarinowandb-8601/RhetoricalRolesClassification-ITA-RhetRoles/runs/4jmexwm0' target=\"_blank\">https://wandb.ai/gmarinowandb-8601/RhetoricalRolesClassification-ITA-RhetRoles/runs/4jmexwm0</a><br/>Synced 5 W&B file(s), 0 media file(s), 0 artifact file(s) and 0 other file(s)"
      ],
      "text/plain": [
       "<IPython.core.display.HTML object>"
      ]
     },
     "metadata": {},
     "output_type": "display_data"
    },
    {
     "data": {
      "text/html": [
       "Find logs at: <code>./wandb/run-20230426_052505-4jmexwm0/logs</code>"
      ],
      "text/plain": [
       "<IPython.core.display.HTML object>"
      ]
     },
     "metadata": {},
     "output_type": "display_data"
    },
    {
     "name": "stderr",
     "output_type": "stream",
     "text": [
      "\u001b[32m[I 2023-04-26 05:42:24,924]\u001b[0m Trial 31 pruned. \u001b[0m\n"
     ]
    }
   ],
   "source": [
    "study.optimize(objective, n_trials=32)"
   ]
  },
  {
   "cell_type": "code",
   "execution_count": 6,
   "metadata": {},
   "outputs": [
    {
     "name": "stdout",
     "output_type": "stream",
     "text": [
      "\n",
      "************************ Optuna Study Completed ************************\n",
      "\n",
      "Best trial: 23\n",
      "Value: 0.06465253233909607\n",
      "Params:\n",
      "\tembedding: rel\n",
      "\tlr: 8.32282596973597e-05\n",
      "\ttransformer_dim_feedforward: 167\n",
      "\ttransformer_dropout: 0.261449972781848\n",
      "\tweight_decay: 0.06927161013879751\n"
     ]
    }
   ],
   "source": [
    "print(\"\\n************************ Optuna Study Completed ************************\\n\")\n",
    "best_trial = study.best_trial\n",
    "print(\"Best trial:\", best_trial.number)\n",
    "print(\"Value:\", best_trial.value)\n",
    "print(\"Params:\")\n",
    "for key, value in best_trial.params.items():\n",
    "    print(f\"\\t{key}: {value}\")"
   ]
  },
  {
   "cell_type": "markdown",
   "metadata": {},
   "source": [
    "## Test"
   ]
  },
  {
   "cell_type": "code",
   "execution_count": 7,
   "metadata": {},
   "outputs": [
    {
     "name": "stderr",
     "output_type": "stream",
     "text": [
      "Some weights of the model checkpoint at dlicari/Italian-Legal-BERT were not used when initializing BertForTokenClassification: ['cls.predictions.decoder.weight', 'cls.predictions.transform.LayerNorm.weight', 'cls.predictions.transform.dense.weight', 'cls.predictions.transform.dense.bias', 'cls.predictions.decoder.bias', 'cls.predictions.bias', 'cls.predictions.transform.LayerNorm.bias']\n",
      "- This IS expected if you are initializing BertForTokenClassification from the checkpoint of a model trained on another task or with another architecture (e.g. initializing a BertForSequenceClassification model from a BertForPreTraining model).\n",
      "- This IS NOT expected if you are initializing BertForTokenClassification from the checkpoint of a model that you expect to be exactly identical (initializing a BertForSequenceClassification model from a BertForSequenceClassification model).\n",
      "Some weights of BertForTokenClassification were not initialized from the model checkpoint at dlicari/Italian-Legal-BERT and are newly initialized: ['classifier.weight', 'classifier.bias']\n",
      "You should probably TRAIN this model on a down-stream task to be able to use it for predictions and inference.\n"
     ]
    },
    {
     "data": {
      "text/plain": [
       "<All keys matched successfully>"
      ]
     },
     "execution_count": 7,
     "metadata": {},
     "output_type": "execute_result"
    }
   ],
   "source": [
    "best_trial = study.best_trial\n",
    "best_params = best_trial.params\n",
    "\n",
    "embedder = absolute_embedder if best_params[\"embedding\"] == \"abs\" else relative_embedder\n",
    "\n",
    "transformer = torch.nn.Transformer(\n",
    "    d_model=768,\n",
    "    nhead=12,\n",
    "    batch_first=True,\n",
    "    dim_feedforward=best_params[\"transformer_dim_feedforward\"],\n",
    "    activation=\"gelu\",\n",
    "    dropout=best_params[\"transformer_dropout\"],\n",
    "    layer_norm_eps=1e-12,\n",
    "    num_encoder_layers=2,\n",
    "    num_decoder_layers=0\n",
    ").encoder\n",
    "\n",
    "model = AutoTransformerOverBERTForTokenClassification(\n",
    "    model_name=HUGGING_FACE_BERT_MODEL,\n",
    "    embedder=embedder,\n",
    "    transformer=transformer,\n",
    "    num_labels=NUM_LABELS,\n",
    "    max_document_length=MAX_DOCUMENT_LENGTH,\n",
    "    max_segment_length=MAX_SEGMENT_LENGTH,\n",
    "    device=DEVICE\n",
    ")\n",
    "model_id = f\"{MODEL_NAME}-Trial{best_trial.number}\"\n",
    "model.load_state_dict(torch.load(os.path.join(MODELS_FOLDER, model_id)))"
   ]
  },
  {
   "cell_type": "code",
   "execution_count": 9,
   "metadata": {},
   "outputs": [
    {
     "name": "stderr",
     "output_type": "stream",
     "text": [
      "100%|██████████| 294/294 [01:07<00:00,  4.36it/s]"
     ]
    },
    {
     "name": "stdout",
     "output_type": "stream",
     "text": [
      "Overall\n",
      "\tAccuracy: 0.9817366579177603\n",
      "\tMCC: 0.9720783528395587\n",
      "\tMacro F1: 0.9795379129594168\n",
      "\tMacro Precision: 0.9788718561392054\n",
      "\tMacro Recall: 0.980232328631341\n",
      "\tMicro F1: 0.9817366579177603\n",
      "\tMicro Precision: 0.9817366579177603\n",
      "\tMicro Recall: 0.9817366579177603\n",
      "Rhetorical role: UNK\n",
      "\tMacro F1: 0.9944166802993666\n",
      "\tMacro Precision: 0.9941546830468946\n",
      "\tMacro Recall: 0.9946789875086139\n",
      "Rhetorical role: CONCLUSIONI DELLE PARTI\n",
      "\tMacro F1: 0.9895915345087756\n",
      "\tMacro Precision: 0.9864074958850024\n",
      "\tMacro Recall: 0.9928325173843624\n",
      "Rhetorical role: SVOLGIMENTO DEL PROCESSO\n",
      "\tMacro F1: 0.9836025201142898\n",
      "\tMacro Precision: 0.9835248845153817\n",
      "\tMacro Recall: 0.9836802133221133\n",
      "Rhetorical role: MOTIVI DELLA DECISIONE\n",
      "\tMacro F1: 0.9863127553133663\n",
      "\tMacro Precision: 0.9862693161305649\n",
      "\tMacro Recall: 0.9863596044340375\n",
      "Rhetorical role: P.Q.M.\n",
      "\tMacro F1: 0.9809305944204749\n",
      "\tMacro Precision: 0.9825436078002614\n",
      "\tMacro Recall: 0.9793306705903755\n"
     ]
    },
    {
     "name": "stderr",
     "output_type": "stream",
     "text": [
      "\n"
     ]
    }
   ],
   "source": [
    "test_ToBERT(\n",
    "    model=model,\n",
    "    test_dataset=test_dataset,\n",
    "    label2rhetRole=label2rhetRole,\n",
    "    device=DEVICE,\n",
    ")"
   ]
  },
  {
   "cell_type": "code",
   "execution_count": null,
   "metadata": {},
   "outputs": [],
   "source": []
  }
 ],
 "metadata": {
  "kernelspec": {
   "display_name": "Python 3 (ipykernel)",
   "language": "python",
   "name": "python3"
  },
  "language_info": {
   "codemirror_mode": {
    "name": "ipython",
    "version": 3
   },
   "file_extension": ".py",
   "mimetype": "text/x-python",
   "name": "python",
   "nbconvert_exporter": "python",
   "pygments_lexer": "ipython3",
   "version": "3.10.7"
  }
 },
 "nbformat": 4,
 "nbformat_minor": 4
}
