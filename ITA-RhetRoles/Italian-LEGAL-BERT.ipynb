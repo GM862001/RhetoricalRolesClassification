{
 "cells": [
  {
   "cell_type": "markdown",
   "metadata": {},
   "source": [
    "# Italian-LEGAL-BERT"
   ]
  },
  {
   "cell_type": "code",
   "execution_count": 1,
   "metadata": {},
   "outputs": [],
   "source": [
    "import os\n",
    "import optuna\n",
    "import pandas as pd\n",
    "import sys\n",
    "import torch\n",
    "import transformers\n",
    "import wandb\n",
    "\n",
    "sys.path.insert(0, os.path.abspath('../'))\n",
    "\n",
    "from rhetorical_roles_classification import (\n",
    "    RhetoricalRolesDataset,\n",
    ")\n",
    "from rhetorical_roles_classification.train import train\n",
    "from rhetorical_roles_classification.test import test_BERT\n",
    "\n",
    "from config import (\n",
    "    DATA_FOLDER,\n",
    "    MODELS_FOLDER,\n",
    "    HUGGING_FACE_BERT_MODEL,\n",
    "    NUM_LABELS,\n",
    "    WANDB_PROJECT,\n",
    "    MAX_SEGMENT_LENGTH,\n",
    "    label2rhetRole\n",
    ")"
   ]
  },
  {
   "cell_type": "code",
   "execution_count": 2,
   "metadata": {},
   "outputs": [
    {
     "name": "stderr",
     "output_type": "stream",
     "text": [
      "Failed to detect the name of this notebook, you can set it manually with the WANDB_NOTEBOOK_NAME environment variable to enable code saving.\n",
      "\u001b[34m\u001b[1mwandb\u001b[0m: Currently logged in as: \u001b[33mgmarinowandb-8601\u001b[0m. Use \u001b[1m`wandb login --relogin`\u001b[0m to force relogin\n"
     ]
    }
   ],
   "source": [
    "MODEL_NAME = \"Italian-LEGAL-BERT\"\n",
    "\n",
    "DEVICE = \"cuda:0\"\n",
    "\n",
    "wandb_login_success = wandb.login()"
   ]
  },
  {
   "cell_type": "markdown",
   "metadata": {},
   "source": [
    "## Dataset Loading"
   ]
  },
  {
   "cell_type": "code",
   "execution_count": 3,
   "metadata": {},
   "outputs": [],
   "source": [
    "train_dataset = RhetoricalRolesDataset(\n",
    "    data_filepath=os.path.join(DATA_FOLDER, \"train.csv\"),\n",
    "    tokenizer_model_name=HUGGING_FACE_BERT_MODEL,\n",
    "    max_segment_length=MAX_SEGMENT_LENGTH\n",
    ")\n",
    "valid_dataset = RhetoricalRolesDataset(\n",
    "    data_filepath=os.path.join(DATA_FOLDER, \"valid.csv\"),\n",
    "    tokenizer_model_name=HUGGING_FACE_BERT_MODEL,\n",
    "    max_segment_length=MAX_SEGMENT_LENGTH\n",
    ")\n",
    "test_dataset = RhetoricalRolesDataset(\n",
    "    data_filepath=os.path.join(DATA_FOLDER, \"test.csv\"),\n",
    "    tokenizer_model_name=HUGGING_FACE_BERT_MODEL,\n",
    "    max_segment_length=MAX_SEGMENT_LENGTH\n",
    ")"
   ]
  },
  {
   "cell_type": "markdown",
   "metadata": {},
   "source": [
    "## Hyperparameter Tuning"
   ]
  },
  {
   "cell_type": "code",
   "execution_count": 4,
   "metadata": {},
   "outputs": [],
   "source": [
    "hyperparameters = {\n",
    "    \"batch_size\": 128,\n",
    "    \"epochs\": 20,\n",
    "    \"num_warmup_steps\": 0,\n",
    "    \"accum_iter\": 3,\n",
    "    \"early_stopping\": True,\n",
    "    \"early_stopping_patience\": 2\n",
    "}\n",
    "\n",
    "def objective(trial):\n",
    "    \n",
    "    print(\"\\n************************ Starting New Optuna Trial ************************\\n\")\n",
    "    \n",
    "    hyperparameters[\"lr\"] = trial.suggest_float(\"lr\", 5e-6, 5e-4)\n",
    "    hyperparameters[\"weight_decay\"] = trial.suggest_float(\"weight_decay\", 1e-3, 1e-1)\n",
    "\n",
    "    model = transformers.AutoModelForSequenceClassification.from_pretrained(\n",
    "        HUGGING_FACE_BERT_MODEL,\n",
    "        num_labels=NUM_LABELS,\n",
    "    )\n",
    "    model_id = f\"{MODEL_NAME}-Trial{trial.number}\"\n",
    "\n",
    "    with wandb.init(project=WANDB_PROJECT, config=hyperparameters, name=model_id):\n",
    "\n",
    "        valid_loss = train(\n",
    "            model=model,\n",
    "            destination_path=os.path.join(MODELS_FOLDER, model_id),\n",
    "            train_dataset=train_dataset,\n",
    "            valid_dataset=valid_dataset,\n",
    "            device=DEVICE,\n",
    "            optuna_trial=trial,\n",
    "            use_wandb=True,\n",
    "            **hyperparameters\n",
    "        )\n",
    "        \n",
    "    return valid_loss"
   ]
  },
  {
   "cell_type": "code",
   "execution_count": 4,
   "metadata": {},
   "outputs": [
    {
     "name": "stderr",
     "output_type": "stream",
     "text": [
      "\u001b[32m[I 2023-04-29 12:22:55,723]\u001b[0m Using an existing study with name 'Italian-LEGAL-BERT.optuna' instead of creating a new one.\u001b[0m\n"
     ]
    }
   ],
   "source": [
    "study_name = f\"{MODEL_NAME}.optuna\"\n",
    "storage_name = \"sqlite:///{}.db\".format(study_name)\n",
    "study = optuna.create_study(study_name=study_name, storage=storage_name, load_if_exists=True, direction=\"minimize\")"
   ]
  },
  {
   "cell_type": "code",
   "execution_count": 6,
   "metadata": {
    "collapsed": true,
    "jupyter": {
     "outputs_hidden": true
    }
   },
   "outputs": [
    {
     "name": "stdout",
     "output_type": "stream",
     "text": [
      "\n",
      "************************ Starting New Optuna Trial ************************\n",
      "\n"
     ]
    },
    {
     "name": "stderr",
     "output_type": "stream",
     "text": [
      "Some weights of the model checkpoint at dlicari/Italian-Legal-BERT were not used when initializing BertForSequenceClassification: ['cls.predictions.transform.dense.weight', 'cls.predictions.decoder.weight', 'cls.predictions.transform.dense.bias', 'cls.predictions.bias', 'cls.predictions.decoder.bias', 'cls.predictions.transform.LayerNorm.weight', 'cls.predictions.transform.LayerNorm.bias']\n",
      "- This IS expected if you are initializing BertForSequenceClassification from the checkpoint of a model trained on another task or with another architecture (e.g. initializing a BertForSequenceClassification model from a BertForPreTraining model).\n",
      "- This IS NOT expected if you are initializing BertForSequenceClassification from the checkpoint of a model that you expect to be exactly identical (initializing a BertForSequenceClassification model from a BertForSequenceClassification model).\n",
      "Some weights of BertForSequenceClassification were not initialized from the model checkpoint at dlicari/Italian-Legal-BERT and are newly initialized: ['classifier.weight', 'classifier.bias', 'bert.pooler.dense.weight', 'bert.pooler.dense.bias']\n",
      "You should probably TRAIN this model on a down-stream task to be able to use it for predictions and inference.\n"
     ]
    },
    {
     "data": {
      "text/html": [
       "wandb version 0.15.0 is available!  To upgrade, please run:\n",
       " $ pip install wandb --upgrade"
      ],
      "text/plain": [
       "<IPython.core.display.HTML object>"
      ]
     },
     "metadata": {},
     "output_type": "display_data"
    },
    {
     "data": {
      "text/html": [
       "Tracking run with wandb version 0.13.10"
      ],
      "text/plain": [
       "<IPython.core.display.HTML object>"
      ]
     },
     "metadata": {},
     "output_type": "display_data"
    },
    {
     "data": {
      "text/html": [
       "Run data is saved locally in <code>/home/g.marino/Desktop/GA/RhetoricalRolesClassification/ITA-RhetRoles/wandb/run-20230424_192340-35grxzle</code>"
      ],
      "text/plain": [
       "<IPython.core.display.HTML object>"
      ]
     },
     "metadata": {},
     "output_type": "display_data"
    },
    {
     "data": {
      "text/html": [
       "Syncing run <strong><a href='https://wandb.ai/gmarinowandb-8601/RhetoricalRolesClassification-ITA-RhetRoles/runs/35grxzle' target=\"_blank\">Italian-LEGAL-BERT-Trial0</a></strong> to <a href='https://wandb.ai/gmarinowandb-8601/RhetoricalRolesClassification-ITA-RhetRoles' target=\"_blank\">Weights & Biases</a> (<a href='https://wandb.me/run' target=\"_blank\">docs</a>)<br/>"
      ],
      "text/plain": [
       "<IPython.core.display.HTML object>"
      ]
     },
     "metadata": {},
     "output_type": "display_data"
    },
    {
     "data": {
      "text/html": [
       " View project at <a href='https://wandb.ai/gmarinowandb-8601/RhetoricalRolesClassification-ITA-RhetRoles' target=\"_blank\">https://wandb.ai/gmarinowandb-8601/RhetoricalRolesClassification-ITA-RhetRoles</a>"
      ],
      "text/plain": [
       "<IPython.core.display.HTML object>"
      ]
     },
     "metadata": {},
     "output_type": "display_data"
    },
    {
     "data": {
      "text/html": [
       " View run at <a href='https://wandb.ai/gmarinowandb-8601/RhetoricalRolesClassification-ITA-RhetRoles/runs/35grxzle' target=\"_blank\">https://wandb.ai/gmarinowandb-8601/RhetoricalRolesClassification-ITA-RhetRoles/runs/35grxzle</a>"
      ],
      "text/plain": [
       "<IPython.core.display.HTML object>"
      ]
     },
     "metadata": {},
     "output_type": "display_data"
    },
    {
     "name": "stdout",
     "output_type": "stream",
     "text": [
      "\n",
      "************** Training Started **************\n",
      "\n",
      "EPOCH N. 1\n"
     ]
    },
    {
     "name": "stderr",
     "output_type": "stream",
     "text": [
      "532it [01:47,  4.97it/s]\n"
     ]
    },
    {
     "name": "stdout",
     "output_type": "stream",
     "text": [
      "\n",
      "TRAIN RESULTS\n",
      "Loss: 0.004335491501032826\n",
      "Accuracy: 0.7971681467976239\n",
      "MCC: 0.6778517139072799\n",
      "Macro F1: 0.7766420878741671\n",
      "Macro Precision: 0.8106312525570015\n",
      "Macro Recall: 0.7522371829134281\n",
      "Micro F1: 0.7971681467976239\n",
      "Micro Precision: 0.7971681467976239\n",
      "Micro Recall: 0.7971681467976239\n",
      "\n",
      "VALIDATION RESULTS\n",
      "Loss: 0.003135881619527936\n",
      "Accuracy: 0.8497920997920998\n",
      "MCC: 0.7686455327102741\n",
      "Macro F1: 0.8595188196635604\n",
      "Macro Precision: 0.8591071701069609\n",
      "Macro Recall: 0.8603353232267926\n",
      "Micro F1: 0.8497920997920998\n",
      "Micro Precision: 0.8497920997920998\n",
      "Micro Recall: 0.8497920997920998\n",
      "--------------------------------------------------\n",
      "EPOCH N. 2\n"
     ]
    },
    {
     "name": "stderr",
     "output_type": "stream",
     "text": [
      "532it [01:46,  4.99it/s]\n"
     ]
    },
    {
     "name": "stdout",
     "output_type": "stream",
     "text": [
      "\n",
      "TRAIN RESULTS\n",
      "Loss: 0.0028059878332056956\n",
      "Accuracy: 0.8659060165853085\n",
      "MCC: 0.7907407843430418\n",
      "Macro F1: 0.8698831785869162\n",
      "Macro Precision: 0.873334167988469\n",
      "Macro Recall: 0.8700310357641096\n",
      "Micro F1: 0.8659060165853085\n",
      "Micro Precision: 0.8659060165853085\n",
      "Micro Recall: 0.8659060165853085\n",
      "\n",
      "VALIDATION RESULTS\n",
      "Loss: 0.0028912408743053675\n",
      "Accuracy: 0.8625779625779626\n",
      "MCC: 0.7875722703683862\n",
      "Macro F1: 0.8696223125836399\n",
      "Macro Precision: 0.8745776023644677\n",
      "Macro Recall: 0.865797849153906\n",
      "Micro F1: 0.8625779625779627\n",
      "Micro Precision: 0.8625779625779626\n",
      "Micro Recall: 0.8625779625779626\n",
      "--------------------------------------------------\n",
      "EPOCH N. 3\n"
     ]
    },
    {
     "name": "stderr",
     "output_type": "stream",
     "text": [
      "532it [01:47,  4.93it/s]\n"
     ]
    },
    {
     "name": "stdout",
     "output_type": "stream",
     "text": [
      "\n",
      "TRAIN RESULTS\n",
      "Loss: 0.0024089154517928243\n",
      "Accuracy: 0.8842263130035876\n",
      "MCC: 0.819212249894914\n",
      "Macro F1: 0.8885608278248913\n",
      "Macro Precision: 0.8914044019601339\n",
      "Macro Recall: 0.8872095891260402\n",
      "Micro F1: 0.8842263130035876\n",
      "Micro Precision: 0.8842263130035876\n",
      "Micro Recall: 0.8842263130035876\n",
      "\n",
      "VALIDATION RESULTS\n",
      "Loss: 0.0028153297025710344\n",
      "Accuracy: 0.8690228690228691\n",
      "MCC: 0.7975793323336688\n",
      "Macro F1: 0.8754838467776329\n",
      "Macro Precision: 0.8810608100619058\n",
      "Macro Recall: 0.870792308424669\n",
      "Micro F1: 0.8690228690228692\n",
      "Micro Precision: 0.8690228690228691\n",
      "Micro Recall: 0.8690228690228691\n",
      "--------------------------------------------------\n",
      "EPOCH N. 4\n"
     ]
    },
    {
     "name": "stderr",
     "output_type": "stream",
     "text": [
      "532it [01:47,  4.96it/s]\n"
     ]
    },
    {
     "name": "stdout",
     "output_type": "stream",
     "text": [
      "\n",
      "TRAIN RESULTS\n",
      "Loss: 0.0021254228507866686\n",
      "Accuracy: 0.8985767217549844\n",
      "MCC: 0.841703547637593\n",
      "Macro F1: 0.902651501481615\n",
      "Macro Precision: 0.905080369177611\n",
      "Macro Recall: 0.9011287183050969\n",
      "Micro F1: 0.8985767217549845\n",
      "Micro Precision: 0.8985767217549844\n",
      "Micro Recall: 0.8985767217549844\n",
      "\n",
      "VALIDATION RESULTS\n",
      "Loss: 0.0028651361353695393\n",
      "Accuracy: 0.8708939708939709\n",
      "MCC: 0.7999594879102249\n",
      "Macro F1: 0.8763347741437105\n",
      "Macro Precision: 0.8866056674988789\n",
      "Macro Recall: 0.8678561203441287\n",
      "Micro F1: 0.8708939708939709\n",
      "Micro Precision: 0.8708939708939709\n",
      "Micro Recall: 0.8708939708939709\n",
      "--------------------------------------------------\n",
      "EPOCH N. 5\n"
     ]
    },
    {
     "name": "stderr",
     "output_type": "stream",
     "text": [
      "532it [01:49,  4.84it/s]\n"
     ]
    },
    {
     "name": "stdout",
     "output_type": "stream",
     "text": [
      "\n",
      "TRAIN RESULTS\n",
      "Loss: 0.0019041185177933193\n",
      "Accuracy: 0.9091630888666706\n",
      "MCC: 0.8582699157707848\n",
      "Macro F1: 0.9117798481823716\n",
      "Macro Precision: 0.9141506253406193\n",
      "Macro Recall: 0.9100527460835302\n",
      "Micro F1: 0.9091630888666706\n",
      "Micro Precision: 0.9091630888666706\n",
      "Micro Recall: 0.9091630888666706\n",
      "\n",
      "VALIDATION RESULTS\n",
      "Loss: 0.0030766993295401335\n",
      "Accuracy: 0.8665280665280666\n",
      "MCC: 0.7946745260764555\n",
      "Macro F1: 0.8756084592699516\n",
      "Macro Precision: 0.8789743310653775\n",
      "Macro Recall: 0.8729459309806027\n",
      "Micro F1: 0.8665280665280666\n",
      "Micro Precision: 0.8665280665280666\n",
      "Micro Recall: 0.8665280665280666\n",
      "Early stopped training\n",
      "--------------------------------------------------\n"
     ]
    },
    {
     "data": {
      "text/html": [
       "Waiting for W&B process to finish... <strong style=\"color:green\">(success).</strong>"
      ],
      "text/plain": [
       "<IPython.core.display.HTML object>"
      ]
     },
     "metadata": {},
     "output_type": "display_data"
    },
    {
     "data": {
      "text/html": [
       "<style>\n",
       "    table.wandb td:nth-child(1) { padding: 0 10px; text-align: left ; width: auto;} td:nth-child(2) {text-align: left ; width: 100%}\n",
       "    .wandb-row { display: flex; flex-direction: row; flex-wrap: wrap; justify-content: flex-start; width: 100% }\n",
       "    .wandb-col { display: flex; flex-direction: column; flex-basis: 100%; flex: 1; padding: 10px; }\n",
       "    </style>\n",
       "<div class=\"wandb-row\"><div class=\"wandb-col\"><h3>Run history:</h3><br/><table class=\"wandb\"><tr><td>Epoch</td><td>▁▃▅▆█</td></tr><tr><td>Train Loss</td><td>█▄▂▂▁</td></tr><tr><td>Validation Loss</td><td>█▃▁▂▇</td></tr></table><br/></div><div class=\"wandb-col\"><h3>Run summary:</h3><br/><table class=\"wandb\"><tr><td>Epoch</td><td>5</td></tr><tr><td>Train Loss</td><td>0.0019</td></tr><tr><td>Validation Loss</td><td>0.00308</td></tr></table><br/></div></div>"
      ],
      "text/plain": [
       "<IPython.core.display.HTML object>"
      ]
     },
     "metadata": {},
     "output_type": "display_data"
    },
    {
     "data": {
      "text/html": [
       " View run <strong style=\"color:#cdcd00\">Italian-LEGAL-BERT-Trial0</strong> at: <a href='https://wandb.ai/gmarinowandb-8601/RhetoricalRolesClassification-ITA-RhetRoles/runs/35grxzle' target=\"_blank\">https://wandb.ai/gmarinowandb-8601/RhetoricalRolesClassification-ITA-RhetRoles/runs/35grxzle</a><br/>Synced 5 W&B file(s), 0 media file(s), 0 artifact file(s) and 0 other file(s)"
      ],
      "text/plain": [
       "<IPython.core.display.HTML object>"
      ]
     },
     "metadata": {},
     "output_type": "display_data"
    },
    {
     "data": {
      "text/html": [
       "Find logs at: <code>./wandb/run-20230424_192340-35grxzle/logs</code>"
      ],
      "text/plain": [
       "<IPython.core.display.HTML object>"
      ]
     },
     "metadata": {},
     "output_type": "display_data"
    },
    {
     "name": "stderr",
     "output_type": "stream",
     "text": [
      "\u001b[32m[I 2023-04-24 19:34:08,806]\u001b[0m Trial 0 finished with value: 0.0028153297025710344 and parameters: {'lr': 2.69393221855796e-05, 'weight_decay': 0.07388704266790483}. Best is trial 0 with value: 0.0028153297025710344.\u001b[0m\n"
     ]
    },
    {
     "name": "stdout",
     "output_type": "stream",
     "text": [
      "\n",
      "************************ Starting New Optuna Trial ************************\n",
      "\n"
     ]
    },
    {
     "name": "stderr",
     "output_type": "stream",
     "text": [
      "Some weights of the model checkpoint at dlicari/Italian-Legal-BERT were not used when initializing BertForSequenceClassification: ['cls.predictions.transform.dense.weight', 'cls.predictions.decoder.weight', 'cls.predictions.transform.dense.bias', 'cls.predictions.bias', 'cls.predictions.decoder.bias', 'cls.predictions.transform.LayerNorm.weight', 'cls.predictions.transform.LayerNorm.bias']\n",
      "- This IS expected if you are initializing BertForSequenceClassification from the checkpoint of a model trained on another task or with another architecture (e.g. initializing a BertForSequenceClassification model from a BertForPreTraining model).\n",
      "- This IS NOT expected if you are initializing BertForSequenceClassification from the checkpoint of a model that you expect to be exactly identical (initializing a BertForSequenceClassification model from a BertForSequenceClassification model).\n",
      "Some weights of BertForSequenceClassification were not initialized from the model checkpoint at dlicari/Italian-Legal-BERT and are newly initialized: ['classifier.weight', 'classifier.bias', 'bert.pooler.dense.weight', 'bert.pooler.dense.bias']\n",
      "You should probably TRAIN this model on a down-stream task to be able to use it for predictions and inference.\n"
     ]
    },
    {
     "data": {
      "text/html": [
       "wandb version 0.15.0 is available!  To upgrade, please run:\n",
       " $ pip install wandb --upgrade"
      ],
      "text/plain": [
       "<IPython.core.display.HTML object>"
      ]
     },
     "metadata": {},
     "output_type": "display_data"
    },
    {
     "data": {
      "text/html": [
       "Tracking run with wandb version 0.13.10"
      ],
      "text/plain": [
       "<IPython.core.display.HTML object>"
      ]
     },
     "metadata": {},
     "output_type": "display_data"
    },
    {
     "data": {
      "text/html": [
       "Run data is saved locally in <code>/home/g.marino/Desktop/GA/RhetoricalRolesClassification/ITA-RhetRoles/wandb/run-20230424_193410-ggxdjeaf</code>"
      ],
      "text/plain": [
       "<IPython.core.display.HTML object>"
      ]
     },
     "metadata": {},
     "output_type": "display_data"
    },
    {
     "data": {
      "text/html": [
       "Syncing run <strong><a href='https://wandb.ai/gmarinowandb-8601/RhetoricalRolesClassification-ITA-RhetRoles/runs/ggxdjeaf' target=\"_blank\">Italian-LEGAL-BERT-Trial1</a></strong> to <a href='https://wandb.ai/gmarinowandb-8601/RhetoricalRolesClassification-ITA-RhetRoles' target=\"_blank\">Weights & Biases</a> (<a href='https://wandb.me/run' target=\"_blank\">docs</a>)<br/>"
      ],
      "text/plain": [
       "<IPython.core.display.HTML object>"
      ]
     },
     "metadata": {},
     "output_type": "display_data"
    },
    {
     "data": {
      "text/html": [
       " View project at <a href='https://wandb.ai/gmarinowandb-8601/RhetoricalRolesClassification-ITA-RhetRoles' target=\"_blank\">https://wandb.ai/gmarinowandb-8601/RhetoricalRolesClassification-ITA-RhetRoles</a>"
      ],
      "text/plain": [
       "<IPython.core.display.HTML object>"
      ]
     },
     "metadata": {},
     "output_type": "display_data"
    },
    {
     "data": {
      "text/html": [
       " View run at <a href='https://wandb.ai/gmarinowandb-8601/RhetoricalRolesClassification-ITA-RhetRoles/runs/ggxdjeaf' target=\"_blank\">https://wandb.ai/gmarinowandb-8601/RhetoricalRolesClassification-ITA-RhetRoles/runs/ggxdjeaf</a>"
      ],
      "text/plain": [
       "<IPython.core.display.HTML object>"
      ]
     },
     "metadata": {},
     "output_type": "display_data"
    },
    {
     "name": "stdout",
     "output_type": "stream",
     "text": [
      "\n",
      "************** Training Started **************\n",
      "\n",
      "EPOCH N. 1\n"
     ]
    },
    {
     "name": "stderr",
     "output_type": "stream",
     "text": [
      "532it [01:46,  5.01it/s]\n"
     ]
    },
    {
     "name": "stdout",
     "output_type": "stream",
     "text": [
      "\n",
      "TRAIN RESULTS\n",
      "Loss: 0.0035132883551618125\n",
      "Accuracy: 0.829353643474681\n",
      "MCC: 0.7320735361272882\n",
      "Macro F1: 0.818718757390881\n",
      "Macro Precision: 0.8258425076512295\n",
      "Macro Recall: 0.8160202210745734\n",
      "Micro F1: 0.8293536434746809\n",
      "Micro Precision: 0.829353643474681\n",
      "Micro Recall: 0.829353643474681\n",
      "\n",
      "VALIDATION RESULTS\n",
      "Loss: 0.003087524091824889\n",
      "Accuracy: 0.8506237006237006\n",
      "MCC: 0.7691615354504754\n",
      "Macro F1: 0.8551470187267027\n",
      "Macro Precision: 0.8812880343821344\n",
      "Macro Recall: 0.8384697733748674\n",
      "Micro F1: 0.8506237006237006\n",
      "Micro Precision: 0.8506237006237006\n",
      "Micro Recall: 0.8506237006237006\n",
      "--------------------------------------------------\n",
      "EPOCH N. 2\n"
     ]
    },
    {
     "name": "stderr",
     "output_type": "stream",
     "text": [
      "532it [01:42,  5.17it/s]\n"
     ]
    },
    {
     "name": "stdout",
     "output_type": "stream",
     "text": [
      "\n",
      "TRAIN RESULTS\n",
      "Loss: 0.007245368081626069\n",
      "Accuracy: 0.6998470858083867\n",
      "MCC: 0.5081496382413583\n",
      "Macro F1: 0.6203188859600107\n",
      "Macro Precision: 0.7617207779739138\n",
      "Macro Recall: 0.5578008794395254\n",
      "Micro F1: 0.6998470858083867\n",
      "Micro Precision: 0.6998470858083867\n",
      "Micro Recall: 0.6998470858083867\n",
      "\n",
      "VALIDATION RESULTS\n",
      "Loss: 0.014820565469563007\n",
      "Accuracy: 0.5200623700623701\n",
      "MCC: 0.0\n",
      "Macro F1: 0.1368529029610887\n",
      "Macro Precision: 0.10401247401247402\n",
      "Macro Recall: 0.2\n",
      "Micro F1: 0.5200623700623701\n",
      "Micro Precision: 0.5200623700623701\n",
      "Micro Recall: 0.5200623700623701\n",
      "--------------------------------------------------\n",
      "EPOCH N. 3\n"
     ]
    },
    {
     "name": "stderr",
     "output_type": "stream",
     "text": [
      "532it [01:44,  5.09it/s]\n"
     ]
    },
    {
     "name": "stdout",
     "output_type": "stream",
     "text": [
      "\n",
      "TRAIN RESULTS\n",
      "Loss: 0.010158221244755922\n",
      "Accuracy: 0.5306563547609245\n",
      "MCC: 0.001246322680617379\n",
      "Macro F1: 0.13954072355318395\n",
      "Macro Precision: 0.17048378471305703\n",
      "Macro Recall: 0.19992774696925428\n",
      "Micro F1: 0.5306563547609245\n",
      "Micro Precision: 0.5306563547609245\n",
      "Micro Recall: 0.5306563547609245\n",
      "\n",
      "VALIDATION RESULTS\n",
      "Loss: 0.010506860911846161\n",
      "Accuracy: 0.5200623700623701\n",
      "MCC: 0.0\n",
      "Macro F1: 0.1368529029610887\n",
      "Macro Precision: 0.10401247401247402\n",
      "Macro Recall: 0.2\n",
      "Micro F1: 0.5200623700623701\n",
      "Micro Precision: 0.5200623700623701\n",
      "Micro Recall: 0.5200623700623701\n",
      "Early stopped training\n",
      "--------------------------------------------------\n"
     ]
    },
    {
     "data": {
      "text/html": [
       "Waiting for W&B process to finish... <strong style=\"color:green\">(success).</strong>"
      ],
      "text/plain": [
       "<IPython.core.display.HTML object>"
      ]
     },
     "metadata": {},
     "output_type": "display_data"
    },
    {
     "data": {
      "text/html": [
       "<style>\n",
       "    table.wandb td:nth-child(1) { padding: 0 10px; text-align: left ; width: auto;} td:nth-child(2) {text-align: left ; width: 100%}\n",
       "    .wandb-row { display: flex; flex-direction: row; flex-wrap: wrap; justify-content: flex-start; width: 100% }\n",
       "    .wandb-col { display: flex; flex-direction: column; flex-basis: 100%; flex: 1; padding: 10px; }\n",
       "    </style>\n",
       "<div class=\"wandb-row\"><div class=\"wandb-col\"><h3>Run history:</h3><br/><table class=\"wandb\"><tr><td>Epoch</td><td>▁▅█</td></tr><tr><td>Train Loss</td><td>▁▅█</td></tr><tr><td>Validation Loss</td><td>▁█▅</td></tr></table><br/></div><div class=\"wandb-col\"><h3>Run summary:</h3><br/><table class=\"wandb\"><tr><td>Epoch</td><td>3</td></tr><tr><td>Train Loss</td><td>0.01016</td></tr><tr><td>Validation Loss</td><td>0.01051</td></tr></table><br/></div></div>"
      ],
      "text/plain": [
       "<IPython.core.display.HTML object>"
      ]
     },
     "metadata": {},
     "output_type": "display_data"
    },
    {
     "data": {
      "text/html": [
       " View run <strong style=\"color:#cdcd00\">Italian-LEGAL-BERT-Trial1</strong> at: <a href='https://wandb.ai/gmarinowandb-8601/RhetoricalRolesClassification-ITA-RhetRoles/runs/ggxdjeaf' target=\"_blank\">https://wandb.ai/gmarinowandb-8601/RhetoricalRolesClassification-ITA-RhetRoles/runs/ggxdjeaf</a><br/>Synced 5 W&B file(s), 0 media file(s), 0 artifact file(s) and 0 other file(s)"
      ],
      "text/plain": [
       "<IPython.core.display.HTML object>"
      ]
     },
     "metadata": {},
     "output_type": "display_data"
    },
    {
     "data": {
      "text/html": [
       "Find logs at: <code>./wandb/run-20230424_193410-ggxdjeaf/logs</code>"
      ],
      "text/plain": [
       "<IPython.core.display.HTML object>"
      ]
     },
     "metadata": {},
     "output_type": "display_data"
    },
    {
     "name": "stderr",
     "output_type": "stream",
     "text": [
      "\u001b[32m[I 2023-04-24 19:40:20,821]\u001b[0m Trial 1 finished with value: 0.003087524091824889 and parameters: {'lr': 0.0001250309535162511, 'weight_decay': 0.02415717630776804}. Best is trial 0 with value: 0.0028153297025710344.\u001b[0m\n"
     ]
    },
    {
     "name": "stdout",
     "output_type": "stream",
     "text": [
      "\n",
      "************************ Starting New Optuna Trial ************************\n",
      "\n"
     ]
    },
    {
     "name": "stderr",
     "output_type": "stream",
     "text": [
      "Some weights of the model checkpoint at dlicari/Italian-Legal-BERT were not used when initializing BertForSequenceClassification: ['cls.predictions.transform.dense.weight', 'cls.predictions.decoder.weight', 'cls.predictions.transform.dense.bias', 'cls.predictions.bias', 'cls.predictions.decoder.bias', 'cls.predictions.transform.LayerNorm.weight', 'cls.predictions.transform.LayerNorm.bias']\n",
      "- This IS expected if you are initializing BertForSequenceClassification from the checkpoint of a model trained on another task or with another architecture (e.g. initializing a BertForSequenceClassification model from a BertForPreTraining model).\n",
      "- This IS NOT expected if you are initializing BertForSequenceClassification from the checkpoint of a model that you expect to be exactly identical (initializing a BertForSequenceClassification model from a BertForSequenceClassification model).\n",
      "Some weights of BertForSequenceClassification were not initialized from the model checkpoint at dlicari/Italian-Legal-BERT and are newly initialized: ['classifier.weight', 'classifier.bias', 'bert.pooler.dense.weight', 'bert.pooler.dense.bias']\n",
      "You should probably TRAIN this model on a down-stream task to be able to use it for predictions and inference.\n"
     ]
    },
    {
     "data": {
      "text/html": [
       "wandb version 0.15.0 is available!  To upgrade, please run:\n",
       " $ pip install wandb --upgrade"
      ],
      "text/plain": [
       "<IPython.core.display.HTML object>"
      ]
     },
     "metadata": {},
     "output_type": "display_data"
    },
    {
     "data": {
      "text/html": [
       "Tracking run with wandb version 0.13.10"
      ],
      "text/plain": [
       "<IPython.core.display.HTML object>"
      ]
     },
     "metadata": {},
     "output_type": "display_data"
    },
    {
     "data": {
      "text/html": [
       "Run data is saved locally in <code>/home/g.marino/Desktop/GA/RhetoricalRolesClassification/ITA-RhetRoles/wandb/run-20230424_194022-2ibp2g0m</code>"
      ],
      "text/plain": [
       "<IPython.core.display.HTML object>"
      ]
     },
     "metadata": {},
     "output_type": "display_data"
    },
    {
     "data": {
      "text/html": [
       "Syncing run <strong><a href='https://wandb.ai/gmarinowandb-8601/RhetoricalRolesClassification-ITA-RhetRoles/runs/2ibp2g0m' target=\"_blank\">Italian-LEGAL-BERT-Trial2</a></strong> to <a href='https://wandb.ai/gmarinowandb-8601/RhetoricalRolesClassification-ITA-RhetRoles' target=\"_blank\">Weights & Biases</a> (<a href='https://wandb.me/run' target=\"_blank\">docs</a>)<br/>"
      ],
      "text/plain": [
       "<IPython.core.display.HTML object>"
      ]
     },
     "metadata": {},
     "output_type": "display_data"
    },
    {
     "data": {
      "text/html": [
       " View project at <a href='https://wandb.ai/gmarinowandb-8601/RhetoricalRolesClassification-ITA-RhetRoles' target=\"_blank\">https://wandb.ai/gmarinowandb-8601/RhetoricalRolesClassification-ITA-RhetRoles</a>"
      ],
      "text/plain": [
       "<IPython.core.display.HTML object>"
      ]
     },
     "metadata": {},
     "output_type": "display_data"
    },
    {
     "data": {
      "text/html": [
       " View run at <a href='https://wandb.ai/gmarinowandb-8601/RhetoricalRolesClassification-ITA-RhetRoles/runs/2ibp2g0m' target=\"_blank\">https://wandb.ai/gmarinowandb-8601/RhetoricalRolesClassification-ITA-RhetRoles/runs/2ibp2g0m</a>"
      ],
      "text/plain": [
       "<IPython.core.display.HTML object>"
      ]
     },
     "metadata": {},
     "output_type": "display_data"
    },
    {
     "name": "stdout",
     "output_type": "stream",
     "text": [
      "\n",
      "************** Training Started **************\n",
      "\n",
      "EPOCH N. 1\n"
     ]
    },
    {
     "name": "stderr",
     "output_type": "stream",
     "text": [
      "532it [01:44,  5.10it/s]\n"
     ]
    },
    {
     "name": "stdout",
     "output_type": "stream",
     "text": [
      "\n",
      "TRAIN RESULTS\n",
      "Loss: 0.009140197662005094\n",
      "Accuracy: 0.5685761336234783\n",
      "MCC: 0.21583172418212684\n",
      "Macro F1: 0.3140548539919864\n",
      "Macro Precision: 0.6264719898967869\n",
      "Macro Recall: 0.2967600370206219\n",
      "Micro F1: 0.5685761336234783\n",
      "Micro Precision: 0.5685761336234783\n",
      "Micro Recall: 0.5685761336234783\n",
      "\n",
      "VALIDATION RESULTS\n",
      "Loss: 0.010161826387047768\n",
      "Accuracy: 0.5200623700623701\n",
      "MCC: 0.0\n",
      "Macro F1: 0.1368529029610887\n",
      "Macro Precision: 0.10401247401247402\n",
      "Macro Recall: 0.2\n",
      "Micro F1: 0.5200623700623701\n",
      "Micro Precision: 0.5200623700623701\n",
      "Micro Recall: 0.5200623700623701\n",
      "--------------------------------------------------\n",
      "EPOCH N. 2\n"
     ]
    },
    {
     "name": "stderr",
     "output_type": "stream",
     "text": [
      "532it [01:43,  5.12it/s]\n"
     ]
    },
    {
     "name": "stdout",
     "output_type": "stream",
     "text": [
      "\n",
      "TRAIN RESULTS\n",
      "Loss: 0.009969246574677362\n",
      "Accuracy: 0.5315091454449214\n",
      "MCC: -0.0023620960362937273\n",
      "Macro F1: 0.1388197117923215\n",
      "Macro Precision: 0.10630339209833703\n",
      "Macro Recall: 0.1999944674965422\n",
      "Micro F1: 0.5315091454449214\n",
      "Micro Precision: 0.5315091454449214\n",
      "Micro Recall: 0.5315091454449214\n",
      "\n",
      "VALIDATION RESULTS\n",
      "Loss: 0.010096286423504353\n",
      "Accuracy: 0.5200623700623701\n",
      "MCC: 0.0\n",
      "Macro F1: 0.1368529029610887\n",
      "Macro Precision: 0.10401247401247402\n",
      "Macro Recall: 0.2\n",
      "Micro F1: 0.5200623700623701\n",
      "Micro Precision: 0.5200623700623701\n",
      "Micro Recall: 0.5200623700623701\n",
      "--------------------------------------------------\n",
      "EPOCH N. 3\n"
     ]
    },
    {
     "name": "stderr",
     "output_type": "stream",
     "text": [
      "532it [01:44,  5.07it/s]\n"
     ]
    },
    {
     "name": "stdout",
     "output_type": "stream",
     "text": [
      "\n",
      "TRAIN RESULTS\n",
      "Loss: 0.009938869055022928\n",
      "Accuracy: 0.5315238487325766\n",
      "MCC: 0.0\n",
      "Macro F1: 0.13882221923542176\n",
      "Macro Precision: 0.10630476974651533\n",
      "Macro Recall: 0.2\n",
      "Micro F1: 0.5315238487325766\n",
      "Micro Precision: 0.5315238487325766\n",
      "Micro Recall: 0.5315238487325766\n",
      "\n",
      "VALIDATION RESULTS\n",
      "Loss: 0.010096322745084763\n",
      "Accuracy: 0.5200623700623701\n",
      "MCC: 0.0\n",
      "Macro F1: 0.1368529029610887\n",
      "Macro Precision: 0.10401247401247402\n",
      "Macro Recall: 0.2\n",
      "Micro F1: 0.5200623700623701\n",
      "Micro Precision: 0.5200623700623701\n",
      "Micro Recall: 0.5200623700623701\n",
      "--------------------------------------------------\n",
      "EPOCH N. 4\n"
     ]
    },
    {
     "name": "stderr",
     "output_type": "stream",
     "text": [
      "532it [01:46,  5.00it/s]\n"
     ]
    },
    {
     "name": "stdout",
     "output_type": "stream",
     "text": [
      "\n",
      "TRAIN RESULTS\n",
      "Loss: 0.009929463119217418\n",
      "Accuracy: 0.5315238487325766\n",
      "MCC: 0.0\n",
      "Macro F1: 0.13882221923542176\n",
      "Macro Precision: 0.10630476974651533\n",
      "Macro Recall: 0.2\n",
      "Micro F1: 0.5315238487325766\n",
      "Micro Precision: 0.5315238487325766\n",
      "Micro Recall: 0.5315238487325766\n",
      "\n",
      "VALIDATION RESULTS\n",
      "Loss: 0.010098662227392197\n",
      "Accuracy: 0.5200623700623701\n",
      "MCC: 0.0\n",
      "Macro F1: 0.1368529029610887\n",
      "Macro Precision: 0.10401247401247402\n",
      "Macro Recall: 0.2\n",
      "Micro F1: 0.5200623700623701\n",
      "Micro Precision: 0.5200623700623701\n",
      "Micro Recall: 0.5200623700623701\n",
      "Early stopped training\n",
      "--------------------------------------------------\n"
     ]
    },
    {
     "data": {
      "text/html": [
       "Waiting for W&B process to finish... <strong style=\"color:green\">(success).</strong>"
      ],
      "text/plain": [
       "<IPython.core.display.HTML object>"
      ]
     },
     "metadata": {},
     "output_type": "display_data"
    },
    {
     "data": {
      "application/vnd.jupyter.widget-view+json": {
       "model_id": "2569c0725e7a4d848ed1075058c8c252",
       "version_major": 2,
       "version_minor": 0
      },
      "text/plain": [
       "VBox(children=(Label(value='0.005 MB of 0.005 MB uploaded (0.000 MB deduped)\\r'), FloatProgress(value=1.0, max…"
      ]
     },
     "metadata": {},
     "output_type": "display_data"
    },
    {
     "data": {
      "text/html": [
       "<style>\n",
       "    table.wandb td:nth-child(1) { padding: 0 10px; text-align: left ; width: auto;} td:nth-child(2) {text-align: left ; width: 100%}\n",
       "    .wandb-row { display: flex; flex-direction: row; flex-wrap: wrap; justify-content: flex-start; width: 100% }\n",
       "    .wandb-col { display: flex; flex-direction: column; flex-basis: 100%; flex: 1; padding: 10px; }\n",
       "    </style>\n",
       "<div class=\"wandb-row\"><div class=\"wandb-col\"><h3>Run history:</h3><br/><table class=\"wandb\"><tr><td>Epoch</td><td>▁▃▆█</td></tr><tr><td>Train Loss</td><td>▁███</td></tr><tr><td>Validation Loss</td><td>█▁▁▁</td></tr></table><br/></div><div class=\"wandb-col\"><h3>Run summary:</h3><br/><table class=\"wandb\"><tr><td>Epoch</td><td>4</td></tr><tr><td>Train Loss</td><td>0.00993</td></tr><tr><td>Validation Loss</td><td>0.0101</td></tr></table><br/></div></div>"
      ],
      "text/plain": [
       "<IPython.core.display.HTML object>"
      ]
     },
     "metadata": {},
     "output_type": "display_data"
    },
    {
     "data": {
      "text/html": [
       " View run <strong style=\"color:#cdcd00\">Italian-LEGAL-BERT-Trial2</strong> at: <a href='https://wandb.ai/gmarinowandb-8601/RhetoricalRolesClassification-ITA-RhetRoles/runs/2ibp2g0m' target=\"_blank\">https://wandb.ai/gmarinowandb-8601/RhetoricalRolesClassification-ITA-RhetRoles/runs/2ibp2g0m</a><br/>Synced 5 W&B file(s), 0 media file(s), 0 artifact file(s) and 0 other file(s)"
      ],
      "text/plain": [
       "<IPython.core.display.HTML object>"
      ]
     },
     "metadata": {},
     "output_type": "display_data"
    },
    {
     "data": {
      "text/html": [
       "Find logs at: <code>./wandb/run-20230424_194022-2ibp2g0m/logs</code>"
      ],
      "text/plain": [
       "<IPython.core.display.HTML object>"
      ]
     },
     "metadata": {},
     "output_type": "display_data"
    },
    {
     "name": "stderr",
     "output_type": "stream",
     "text": [
      "\u001b[32m[I 2023-04-24 19:48:42,878]\u001b[0m Trial 2 finished with value: 0.010096286423504353 and parameters: {'lr': 0.00042976372538303386, 'weight_decay': 0.0016082003418065518}. Best is trial 0 with value: 0.0028153297025710344.\u001b[0m\n"
     ]
    },
    {
     "name": "stdout",
     "output_type": "stream",
     "text": [
      "\n",
      "************************ Starting New Optuna Trial ************************\n",
      "\n"
     ]
    },
    {
     "name": "stderr",
     "output_type": "stream",
     "text": [
      "Some weights of the model checkpoint at dlicari/Italian-Legal-BERT were not used when initializing BertForSequenceClassification: ['cls.predictions.transform.dense.weight', 'cls.predictions.decoder.weight', 'cls.predictions.transform.dense.bias', 'cls.predictions.bias', 'cls.predictions.decoder.bias', 'cls.predictions.transform.LayerNorm.weight', 'cls.predictions.transform.LayerNorm.bias']\n",
      "- This IS expected if you are initializing BertForSequenceClassification from the checkpoint of a model trained on another task or with another architecture (e.g. initializing a BertForSequenceClassification model from a BertForPreTraining model).\n",
      "- This IS NOT expected if you are initializing BertForSequenceClassification from the checkpoint of a model that you expect to be exactly identical (initializing a BertForSequenceClassification model from a BertForSequenceClassification model).\n",
      "Some weights of BertForSequenceClassification were not initialized from the model checkpoint at dlicari/Italian-Legal-BERT and are newly initialized: ['classifier.weight', 'classifier.bias', 'bert.pooler.dense.weight', 'bert.pooler.dense.bias']\n",
      "You should probably TRAIN this model on a down-stream task to be able to use it for predictions and inference.\n"
     ]
    },
    {
     "data": {
      "text/html": [
       "wandb version 0.15.0 is available!  To upgrade, please run:\n",
       " $ pip install wandb --upgrade"
      ],
      "text/plain": [
       "<IPython.core.display.HTML object>"
      ]
     },
     "metadata": {},
     "output_type": "display_data"
    },
    {
     "data": {
      "text/html": [
       "Tracking run with wandb version 0.13.10"
      ],
      "text/plain": [
       "<IPython.core.display.HTML object>"
      ]
     },
     "metadata": {},
     "output_type": "display_data"
    },
    {
     "data": {
      "text/html": [
       "Run data is saved locally in <code>/home/g.marino/Desktop/GA/RhetoricalRolesClassification/ITA-RhetRoles/wandb/run-20230424_194844-fkcvryoa</code>"
      ],
      "text/plain": [
       "<IPython.core.display.HTML object>"
      ]
     },
     "metadata": {},
     "output_type": "display_data"
    },
    {
     "data": {
      "text/html": [
       "Syncing run <strong><a href='https://wandb.ai/gmarinowandb-8601/RhetoricalRolesClassification-ITA-RhetRoles/runs/fkcvryoa' target=\"_blank\">Italian-LEGAL-BERT-Trial3</a></strong> to <a href='https://wandb.ai/gmarinowandb-8601/RhetoricalRolesClassification-ITA-RhetRoles' target=\"_blank\">Weights & Biases</a> (<a href='https://wandb.me/run' target=\"_blank\">docs</a>)<br/>"
      ],
      "text/plain": [
       "<IPython.core.display.HTML object>"
      ]
     },
     "metadata": {},
     "output_type": "display_data"
    },
    {
     "data": {
      "text/html": [
       " View project at <a href='https://wandb.ai/gmarinowandb-8601/RhetoricalRolesClassification-ITA-RhetRoles' target=\"_blank\">https://wandb.ai/gmarinowandb-8601/RhetoricalRolesClassification-ITA-RhetRoles</a>"
      ],
      "text/plain": [
       "<IPython.core.display.HTML object>"
      ]
     },
     "metadata": {},
     "output_type": "display_data"
    },
    {
     "data": {
      "text/html": [
       " View run at <a href='https://wandb.ai/gmarinowandb-8601/RhetoricalRolesClassification-ITA-RhetRoles/runs/fkcvryoa' target=\"_blank\">https://wandb.ai/gmarinowandb-8601/RhetoricalRolesClassification-ITA-RhetRoles/runs/fkcvryoa</a>"
      ],
      "text/plain": [
       "<IPython.core.display.HTML object>"
      ]
     },
     "metadata": {},
     "output_type": "display_data"
    },
    {
     "name": "stdout",
     "output_type": "stream",
     "text": [
      "\n",
      "************** Training Started **************\n",
      "\n",
      "EPOCH N. 1\n"
     ]
    },
    {
     "name": "stderr",
     "output_type": "stream",
     "text": [
      "532it [01:45,  5.04it/s]\n"
     ]
    },
    {
     "name": "stdout",
     "output_type": "stream",
     "text": [
      "\n",
      "TRAIN RESULTS\n",
      "Loss: 0.0035993029927461418\n",
      "Accuracy: 0.8275451390931012\n",
      "MCC: 0.7289024791541864\n",
      "Macro F1: 0.8211587301411786\n",
      "Macro Precision: 0.835693240837126\n",
      "Macro Recall: 0.8117150946468495\n",
      "Micro F1: 0.8275451390931012\n",
      "Micro Precision: 0.8275451390931012\n",
      "Micro Recall: 0.8275451390931012\n",
      "\n",
      "VALIDATION RESULTS\n",
      "Loss: 0.0030032172799110413\n",
      "Accuracy: 0.8556133056133056\n",
      "MCC: 0.7782825726727945\n",
      "Macro F1: 0.8629385002268775\n",
      "Macro Precision: 0.8684113531116362\n",
      "Macro Recall: 0.858528883610053\n",
      "Micro F1: 0.8556133056133057\n",
      "Micro Precision: 0.8556133056133056\n",
      "Micro Recall: 0.8556133056133056\n",
      "--------------------------------------------------\n",
      "EPOCH N. 2\n"
     ]
    },
    {
     "name": "stderr",
     "output_type": "stream",
     "text": [
      "532it [01:43,  5.13it/s]\n"
     ]
    },
    {
     "name": "stdout",
     "output_type": "stream",
     "text": [
      "\n",
      "TRAIN RESULTS\n",
      "Loss: 0.002492767974970054\n",
      "Accuracy: 0.8789331294477445\n",
      "MCC: 0.8106268574566264\n",
      "Macro F1: 0.8817883867553473\n",
      "Macro Precision: 0.8862233280921765\n",
      "Macro Recall: 0.8783896252676524\n",
      "Micro F1: 0.8789331294477445\n",
      "Micro Precision: 0.8789331294477445\n",
      "Micro Recall: 0.8789331294477445\n",
      "\n",
      "VALIDATION RESULTS\n",
      "Loss: 0.003019624622538686\n",
      "Accuracy: 0.8581081081081081\n",
      "MCC: 0.7847889345790205\n",
      "Macro F1: 0.8677413946106147\n",
      "Macro Precision: 0.8667615907046795\n",
      "Macro Recall: 0.870198617188296\n",
      "Micro F1: 0.8581081081081081\n",
      "Micro Precision: 0.8581081081081081\n",
      "Micro Recall: 0.8581081081081081\n",
      "--------------------------------------------------\n",
      "EPOCH N. 3\n"
     ]
    },
    {
     "name": "stderr",
     "output_type": "stream",
     "text": [
      "532it [01:47,  4.94it/s]\n"
     ]
    },
    {
     "name": "stdout",
     "output_type": "stream",
     "text": [
      "\n",
      "TRAIN RESULTS\n",
      "Loss: 0.0020179735896600063\n",
      "Accuracy: 0.9026642357231077\n",
      "MCC: 0.8480184810797499\n",
      "Macro F1: 0.9041824380074232\n",
      "Macro Precision: 0.9071136368037814\n",
      "Macro Recall: 0.9017009055700251\n",
      "Micro F1: 0.9026642357231077\n",
      "Micro Precision: 0.9026642357231077\n",
      "Micro Recall: 0.9026642357231077\n",
      "\n",
      "VALIDATION RESULTS\n",
      "Loss: 0.003071550512686372\n",
      "Accuracy: 0.8665280665280666\n",
      "MCC: 0.7945389164380264\n",
      "Macro F1: 0.871890699364888\n",
      "Macro Precision: 0.8721348003239878\n",
      "Macro Recall: 0.8722955160769175\n",
      "Micro F1: 0.8665280665280666\n",
      "Micro Precision: 0.8665280665280666\n",
      "Micro Recall: 0.8665280665280666\n",
      "Early stopped training\n",
      "--------------------------------------------------\n"
     ]
    },
    {
     "data": {
      "text/html": [
       "Waiting for W&B process to finish... <strong style=\"color:green\">(success).</strong>"
      ],
      "text/plain": [
       "<IPython.core.display.HTML object>"
      ]
     },
     "metadata": {},
     "output_type": "display_data"
    },
    {
     "data": {
      "application/vnd.jupyter.widget-view+json": {
       "model_id": "beb4546a62a94adfaea5b00fa2630a44",
       "version_major": 2,
       "version_minor": 0
      },
      "text/plain": [
       "VBox(children=(Label(value='0.005 MB of 0.005 MB uploaded (0.000 MB deduped)\\r'), FloatProgress(value=1.0, max…"
      ]
     },
     "metadata": {},
     "output_type": "display_data"
    },
    {
     "data": {
      "text/html": [
       "<style>\n",
       "    table.wandb td:nth-child(1) { padding: 0 10px; text-align: left ; width: auto;} td:nth-child(2) {text-align: left ; width: 100%}\n",
       "    .wandb-row { display: flex; flex-direction: row; flex-wrap: wrap; justify-content: flex-start; width: 100% }\n",
       "    .wandb-col { display: flex; flex-direction: column; flex-basis: 100%; flex: 1; padding: 10px; }\n",
       "    </style>\n",
       "<div class=\"wandb-row\"><div class=\"wandb-col\"><h3>Run history:</h3><br/><table class=\"wandb\"><tr><td>Epoch</td><td>▁▅█</td></tr><tr><td>Train Loss</td><td>█▃▁</td></tr><tr><td>Validation Loss</td><td>▁▃█</td></tr></table><br/></div><div class=\"wandb-col\"><h3>Run summary:</h3><br/><table class=\"wandb\"><tr><td>Epoch</td><td>3</td></tr><tr><td>Train Loss</td><td>0.00202</td></tr><tr><td>Validation Loss</td><td>0.00307</td></tr></table><br/></div></div>"
      ],
      "text/plain": [
       "<IPython.core.display.HTML object>"
      ]
     },
     "metadata": {},
     "output_type": "display_data"
    },
    {
     "data": {
      "text/html": [
       " View run <strong style=\"color:#cdcd00\">Italian-LEGAL-BERT-Trial3</strong> at: <a href='https://wandb.ai/gmarinowandb-8601/RhetoricalRolesClassification-ITA-RhetRoles/runs/fkcvryoa' target=\"_blank\">https://wandb.ai/gmarinowandb-8601/RhetoricalRolesClassification-ITA-RhetRoles/runs/fkcvryoa</a><br/>Synced 5 W&B file(s), 0 media file(s), 0 artifact file(s) and 0 other file(s)"
      ],
      "text/plain": [
       "<IPython.core.display.HTML object>"
      ]
     },
     "metadata": {},
     "output_type": "display_data"
    },
    {
     "data": {
      "text/html": [
       "Find logs at: <code>./wandb/run-20230424_194844-fkcvryoa/logs</code>"
      ],
      "text/plain": [
       "<IPython.core.display.HTML object>"
      ]
     },
     "metadata": {},
     "output_type": "display_data"
    },
    {
     "name": "stderr",
     "output_type": "stream",
     "text": [
      "\u001b[32m[I 2023-04-24 19:54:53,470]\u001b[0m Trial 3 finished with value: 0.0030032172799110413 and parameters: {'lr': 0.0001712901645962176, 'weight_decay': 0.060248582695463584}. Best is trial 0 with value: 0.0028153297025710344.\u001b[0m\n"
     ]
    },
    {
     "name": "stdout",
     "output_type": "stream",
     "text": [
      "\n",
      "************************ Starting New Optuna Trial ************************\n",
      "\n"
     ]
    },
    {
     "name": "stderr",
     "output_type": "stream",
     "text": [
      "Some weights of the model checkpoint at dlicari/Italian-Legal-BERT were not used when initializing BertForSequenceClassification: ['cls.predictions.transform.dense.weight', 'cls.predictions.decoder.weight', 'cls.predictions.transform.dense.bias', 'cls.predictions.bias', 'cls.predictions.decoder.bias', 'cls.predictions.transform.LayerNorm.weight', 'cls.predictions.transform.LayerNorm.bias']\n",
      "- This IS expected if you are initializing BertForSequenceClassification from the checkpoint of a model trained on another task or with another architecture (e.g. initializing a BertForSequenceClassification model from a BertForPreTraining model).\n",
      "- This IS NOT expected if you are initializing BertForSequenceClassification from the checkpoint of a model that you expect to be exactly identical (initializing a BertForSequenceClassification model from a BertForSequenceClassification model).\n",
      "Some weights of BertForSequenceClassification were not initialized from the model checkpoint at dlicari/Italian-Legal-BERT and are newly initialized: ['classifier.weight', 'classifier.bias', 'bert.pooler.dense.weight', 'bert.pooler.dense.bias']\n",
      "You should probably TRAIN this model on a down-stream task to be able to use it for predictions and inference.\n"
     ]
    },
    {
     "data": {
      "text/html": [
       "wandb version 0.15.0 is available!  To upgrade, please run:\n",
       " $ pip install wandb --upgrade"
      ],
      "text/plain": [
       "<IPython.core.display.HTML object>"
      ]
     },
     "metadata": {},
     "output_type": "display_data"
    },
    {
     "data": {
      "text/html": [
       "Tracking run with wandb version 0.13.10"
      ],
      "text/plain": [
       "<IPython.core.display.HTML object>"
      ]
     },
     "metadata": {},
     "output_type": "display_data"
    },
    {
     "data": {
      "text/html": [
       "Run data is saved locally in <code>/home/g.marino/Desktop/GA/RhetoricalRolesClassification/ITA-RhetRoles/wandb/run-20230424_195454-x2xoa219</code>"
      ],
      "text/plain": [
       "<IPython.core.display.HTML object>"
      ]
     },
     "metadata": {},
     "output_type": "display_data"
    },
    {
     "data": {
      "text/html": [
       "Syncing run <strong><a href='https://wandb.ai/gmarinowandb-8601/RhetoricalRolesClassification-ITA-RhetRoles/runs/x2xoa219' target=\"_blank\">Italian-LEGAL-BERT-Trial4</a></strong> to <a href='https://wandb.ai/gmarinowandb-8601/RhetoricalRolesClassification-ITA-RhetRoles' target=\"_blank\">Weights & Biases</a> (<a href='https://wandb.me/run' target=\"_blank\">docs</a>)<br/>"
      ],
      "text/plain": [
       "<IPython.core.display.HTML object>"
      ]
     },
     "metadata": {},
     "output_type": "display_data"
    },
    {
     "data": {
      "text/html": [
       " View project at <a href='https://wandb.ai/gmarinowandb-8601/RhetoricalRolesClassification-ITA-RhetRoles' target=\"_blank\">https://wandb.ai/gmarinowandb-8601/RhetoricalRolesClassification-ITA-RhetRoles</a>"
      ],
      "text/plain": [
       "<IPython.core.display.HTML object>"
      ]
     },
     "metadata": {},
     "output_type": "display_data"
    },
    {
     "data": {
      "text/html": [
       " View run at <a href='https://wandb.ai/gmarinowandb-8601/RhetoricalRolesClassification-ITA-RhetRoles/runs/x2xoa219' target=\"_blank\">https://wandb.ai/gmarinowandb-8601/RhetoricalRolesClassification-ITA-RhetRoles/runs/x2xoa219</a>"
      ],
      "text/plain": [
       "<IPython.core.display.HTML object>"
      ]
     },
     "metadata": {},
     "output_type": "display_data"
    },
    {
     "name": "stdout",
     "output_type": "stream",
     "text": [
      "\n",
      "************** Training Started **************\n",
      "\n",
      "EPOCH N. 1\n"
     ]
    },
    {
     "name": "stderr",
     "output_type": "stream",
     "text": [
      "532it [01:42,  5.20it/s]\n"
     ]
    },
    {
     "name": "stdout",
     "output_type": "stream",
     "text": [
      "\n",
      "TRAIN RESULTS\n",
      "Loss: 0.003644311140353123\n",
      "Accuracy: 0.8221049226607069\n",
      "MCC: 0.7201072843807639\n",
      "Macro F1: 0.815228014483351\n",
      "Macro Precision: 0.827632752366242\n",
      "Macro Recall: 0.8068008966409994\n",
      "Micro F1: 0.822104922660707\n",
      "Micro Precision: 0.8221049226607069\n",
      "Micro Recall: 0.8221049226607069\n",
      "\n",
      "VALIDATION RESULTS\n",
      "Loss: 0.0032861914951354265\n",
      "Accuracy: 0.8445945945945946\n",
      "MCC: 0.7593337855911657\n",
      "Macro F1: 0.8513501696752549\n",
      "Macro Precision: 0.865137932510958\n",
      "Macro Recall: 0.8421907269433639\n",
      "Micro F1: 0.8445945945945946\n",
      "Micro Precision: 0.8445945945945946\n",
      "Micro Recall: 0.8445945945945946\n",
      "--------------------------------------------------\n",
      "EPOCH N. 2\n"
     ]
    },
    {
     "name": "stderr",
     "output_type": "stream",
     "text": [
      "532it [01:42,  5.20it/s]\n"
     ]
    },
    {
     "name": "stdout",
     "output_type": "stream",
     "text": [
      "\n",
      "TRAIN RESULTS\n",
      "Loss: 0.0028639004608992094\n",
      "Accuracy: 0.8594071634417456\n",
      "MCC: 0.7796220936984325\n",
      "Macro F1: 0.8592004813747817\n",
      "Macro Precision: 0.8658700376487272\n",
      "Macro Recall: 0.8542025341283402\n",
      "Micro F1: 0.8594071634417456\n",
      "Micro Precision: 0.8594071634417456\n",
      "Micro Recall: 0.8594071634417456\n",
      "\n",
      "VALIDATION RESULTS\n",
      "Loss: 0.003139737993478775\n",
      "Accuracy: 0.8576923076923076\n",
      "MCC: 0.7793352686281645\n",
      "Macro F1: 0.8607340683643745\n",
      "Macro Precision: 0.8808456002818067\n",
      "Macro Recall: 0.8469371944893453\n",
      "Micro F1: 0.8576923076923076\n",
      "Micro Precision: 0.8576923076923076\n",
      "Micro Recall: 0.8576923076923076\n",
      "--------------------------------------------------\n",
      "EPOCH N. 3\n"
     ]
    },
    {
     "name": "stderr",
     "output_type": "stream",
     "text": [
      "532it [01:42,  5.17it/s]\n"
     ]
    },
    {
     "name": "stdout",
     "output_type": "stream",
     "text": [
      "\n",
      "TRAIN RESULTS\n",
      "Loss: 0.0023805374849377565\n",
      "Accuracy: 0.8846233017702758\n",
      "MCC: 0.8195897377527002\n",
      "Macro F1: 0.8869711931249743\n",
      "Macro Precision: 0.8909489015168033\n",
      "Macro Recall: 0.8837789507216295\n",
      "Micro F1: 0.8846233017702758\n",
      "Micro Precision: 0.8846233017702758\n",
      "Micro Recall: 0.8846233017702758\n",
      "\n",
      "VALIDATION RESULTS\n",
      "Loss: 0.0031830656807869673\n",
      "Accuracy: 0.8582120582120583\n",
      "MCC: 0.7810765170121245\n",
      "Macro F1: 0.8658822735057321\n",
      "Macro Precision: 0.870799655789121\n",
      "Macro Recall: 0.8617515779248563\n",
      "Micro F1: 0.8582120582120583\n",
      "Micro Precision: 0.8582120582120583\n",
      "Micro Recall: 0.8582120582120583\n",
      "--------------------------------------------------\n",
      "EPOCH N. 4\n"
     ]
    },
    {
     "name": "stderr",
     "output_type": "stream",
     "text": [
      "532it [01:43,  5.14it/s]\n"
     ]
    },
    {
     "name": "stdout",
     "output_type": "stream",
     "text": [
      "\n",
      "TRAIN RESULTS\n",
      "Loss: 0.0020606393765850725\n",
      "Accuracy: 0.899517732164912\n",
      "MCC: 0.8430684534437418\n",
      "Macro F1: 0.9009996634035499\n",
      "Macro Precision: 0.9045299693652504\n",
      "Macro Recall: 0.8979204190312553\n",
      "Micro F1: 0.899517732164912\n",
      "Micro Precision: 0.899517732164912\n",
      "Micro Recall: 0.899517732164912\n",
      "\n",
      "VALIDATION RESULTS\n",
      "Loss: 0.0032511272002011538\n",
      "Accuracy: 0.8633056133056133\n",
      "MCC: 0.7883455239605206\n",
      "Macro F1: 0.8680486104378217\n",
      "Macro Precision: 0.8775073651029907\n",
      "Macro Recall: 0.8607051474048462\n",
      "Micro F1: 0.8633056133056133\n",
      "Micro Precision: 0.8633056133056133\n",
      "Micro Recall: 0.8633056133056133\n",
      "Early stopped training\n",
      "--------------------------------------------------\n"
     ]
    },
    {
     "data": {
      "text/html": [
       "Waiting for W&B process to finish... <strong style=\"color:green\">(success).</strong>"
      ],
      "text/plain": [
       "<IPython.core.display.HTML object>"
      ]
     },
     "metadata": {},
     "output_type": "display_data"
    },
    {
     "data": {
      "text/html": [
       "<style>\n",
       "    table.wandb td:nth-child(1) { padding: 0 10px; text-align: left ; width: auto;} td:nth-child(2) {text-align: left ; width: 100%}\n",
       "    .wandb-row { display: flex; flex-direction: row; flex-wrap: wrap; justify-content: flex-start; width: 100% }\n",
       "    .wandb-col { display: flex; flex-direction: column; flex-basis: 100%; flex: 1; padding: 10px; }\n",
       "    </style>\n",
       "<div class=\"wandb-row\"><div class=\"wandb-col\"><h3>Run history:</h3><br/><table class=\"wandb\"><tr><td>Epoch</td><td>▁▃▆█</td></tr><tr><td>Train Loss</td><td>█▅▂▁</td></tr><tr><td>Validation Loss</td><td>█▁▃▆</td></tr></table><br/></div><div class=\"wandb-col\"><h3>Run summary:</h3><br/><table class=\"wandb\"><tr><td>Epoch</td><td>4</td></tr><tr><td>Train Loss</td><td>0.00206</td></tr><tr><td>Validation Loss</td><td>0.00325</td></tr></table><br/></div></div>"
      ],
      "text/plain": [
       "<IPython.core.display.HTML object>"
      ]
     },
     "metadata": {},
     "output_type": "display_data"
    },
    {
     "data": {
      "text/html": [
       " View run <strong style=\"color:#cdcd00\">Italian-LEGAL-BERT-Trial4</strong> at: <a href='https://wandb.ai/gmarinowandb-8601/RhetoricalRolesClassification-ITA-RhetRoles/runs/x2xoa219' target=\"_blank\">https://wandb.ai/gmarinowandb-8601/RhetoricalRolesClassification-ITA-RhetRoles/runs/x2xoa219</a><br/>Synced 5 W&B file(s), 0 media file(s), 0 artifact file(s) and 0 other file(s)"
      ],
      "text/plain": [
       "<IPython.core.display.HTML object>"
      ]
     },
     "metadata": {},
     "output_type": "display_data"
    },
    {
     "data": {
      "text/html": [
       "Find logs at: <code>./wandb/run-20230424_195454-x2xoa219/logs</code>"
      ],
      "text/plain": [
       "<IPython.core.display.HTML object>"
      ]
     },
     "metadata": {},
     "output_type": "display_data"
    },
    {
     "name": "stderr",
     "output_type": "stream",
     "text": [
      "\u001b[32m[I 2023-04-24 20:02:53,611]\u001b[0m Trial 4 finished with value: 0.003139737993478775 and parameters: {'lr': 0.00026658115617172025, 'weight_decay': 0.07768212291354333}. Best is trial 0 with value: 0.0028153297025710344.\u001b[0m\n"
     ]
    },
    {
     "name": "stdout",
     "output_type": "stream",
     "text": [
      "\n",
      "************************ Starting New Optuna Trial ************************\n",
      "\n"
     ]
    },
    {
     "name": "stderr",
     "output_type": "stream",
     "text": [
      "Some weights of the model checkpoint at dlicari/Italian-Legal-BERT were not used when initializing BertForSequenceClassification: ['cls.predictions.transform.dense.weight', 'cls.predictions.decoder.weight', 'cls.predictions.transform.dense.bias', 'cls.predictions.bias', 'cls.predictions.decoder.bias', 'cls.predictions.transform.LayerNorm.weight', 'cls.predictions.transform.LayerNorm.bias']\n",
      "- This IS expected if you are initializing BertForSequenceClassification from the checkpoint of a model trained on another task or with another architecture (e.g. initializing a BertForSequenceClassification model from a BertForPreTraining model).\n",
      "- This IS NOT expected if you are initializing BertForSequenceClassification from the checkpoint of a model that you expect to be exactly identical (initializing a BertForSequenceClassification model from a BertForSequenceClassification model).\n",
      "Some weights of BertForSequenceClassification were not initialized from the model checkpoint at dlicari/Italian-Legal-BERT and are newly initialized: ['classifier.weight', 'classifier.bias', 'bert.pooler.dense.weight', 'bert.pooler.dense.bias']\n",
      "You should probably TRAIN this model on a down-stream task to be able to use it for predictions and inference.\n"
     ]
    },
    {
     "data": {
      "text/html": [
       "wandb version 0.15.0 is available!  To upgrade, please run:\n",
       " $ pip install wandb --upgrade"
      ],
      "text/plain": [
       "<IPython.core.display.HTML object>"
      ]
     },
     "metadata": {},
     "output_type": "display_data"
    },
    {
     "data": {
      "text/html": [
       "Tracking run with wandb version 0.13.10"
      ],
      "text/plain": [
       "<IPython.core.display.HTML object>"
      ]
     },
     "metadata": {},
     "output_type": "display_data"
    },
    {
     "data": {
      "text/html": [
       "Run data is saved locally in <code>/home/g.marino/Desktop/GA/RhetoricalRolesClassification/ITA-RhetRoles/wandb/run-20230424_200255-qttry3dp</code>"
      ],
      "text/plain": [
       "<IPython.core.display.HTML object>"
      ]
     },
     "metadata": {},
     "output_type": "display_data"
    },
    {
     "data": {
      "text/html": [
       "Syncing run <strong><a href='https://wandb.ai/gmarinowandb-8601/RhetoricalRolesClassification-ITA-RhetRoles/runs/qttry3dp' target=\"_blank\">Italian-LEGAL-BERT-Trial5</a></strong> to <a href='https://wandb.ai/gmarinowandb-8601/RhetoricalRolesClassification-ITA-RhetRoles' target=\"_blank\">Weights & Biases</a> (<a href='https://wandb.me/run' target=\"_blank\">docs</a>)<br/>"
      ],
      "text/plain": [
       "<IPython.core.display.HTML object>"
      ]
     },
     "metadata": {},
     "output_type": "display_data"
    },
    {
     "data": {
      "text/html": [
       " View project at <a href='https://wandb.ai/gmarinowandb-8601/RhetoricalRolesClassification-ITA-RhetRoles' target=\"_blank\">https://wandb.ai/gmarinowandb-8601/RhetoricalRolesClassification-ITA-RhetRoles</a>"
      ],
      "text/plain": [
       "<IPython.core.display.HTML object>"
      ]
     },
     "metadata": {},
     "output_type": "display_data"
    },
    {
     "data": {
      "text/html": [
       " View run at <a href='https://wandb.ai/gmarinowandb-8601/RhetoricalRolesClassification-ITA-RhetRoles/runs/qttry3dp' target=\"_blank\">https://wandb.ai/gmarinowandb-8601/RhetoricalRolesClassification-ITA-RhetRoles/runs/qttry3dp</a>"
      ],
      "text/plain": [
       "<IPython.core.display.HTML object>"
      ]
     },
     "metadata": {},
     "output_type": "display_data"
    },
    {
     "name": "stdout",
     "output_type": "stream",
     "text": [
      "\n",
      "************** Training Started **************\n",
      "\n",
      "EPOCH N. 1\n"
     ]
    },
    {
     "name": "stderr",
     "output_type": "stream",
     "text": [
      "532it [01:43,  5.14it/s]\n"
     ]
    },
    {
     "name": "stdout",
     "output_type": "stream",
     "text": [
      "\n",
      "TRAIN RESULTS\n",
      "Loss: 0.0040464608602009755\n",
      "Accuracy: 0.8046815267893901\n",
      "MCC: 0.6905578990573421\n",
      "Macro F1: 0.7905321428493908\n",
      "Macro Precision: 0.813659590263694\n",
      "Macro Recall: 0.7731904565757494\n",
      "Micro F1: 0.80468152678939\n",
      "Micro Precision: 0.8046815267893901\n",
      "Micro Recall: 0.8046815267893901\n",
      "\n",
      "VALIDATION RESULTS\n",
      "Loss: 0.003150829579681158\n",
      "Accuracy: 0.8501039501039501\n",
      "MCC: 0.7687191893960125\n",
      "Macro F1: 0.8582412986175305\n",
      "Macro Precision: 0.8614926026319367\n",
      "Macro Recall: 0.8562445855787775\n",
      "Micro F1: 0.8501039501039501\n",
      "Micro Precision: 0.8501039501039501\n",
      "Micro Recall: 0.8501039501039501\n",
      "--------------------------------------------------\n"
     ]
    },
    {
     "data": {
      "text/html": [
       "Waiting for W&B process to finish... <strong style=\"color:red\">(failed 1).</strong> Press Control-C to abort syncing."
      ],
      "text/plain": [
       "<IPython.core.display.HTML object>"
      ]
     },
     "metadata": {},
     "output_type": "display_data"
    },
    {
     "data": {
      "application/vnd.jupyter.widget-view+json": {
       "model_id": "bce6d227ce464d338605812302f70b01",
       "version_major": 2,
       "version_minor": 0
      },
      "text/plain": [
       "VBox(children=(Label(value='0.005 MB of 0.005 MB uploaded (0.000 MB deduped)\\r'), FloatProgress(value=1.0, max…"
      ]
     },
     "metadata": {},
     "output_type": "display_data"
    },
    {
     "data": {
      "text/html": [
       "<style>\n",
       "    table.wandb td:nth-child(1) { padding: 0 10px; text-align: left ; width: auto;} td:nth-child(2) {text-align: left ; width: 100%}\n",
       "    .wandb-row { display: flex; flex-direction: row; flex-wrap: wrap; justify-content: flex-start; width: 100% }\n",
       "    .wandb-col { display: flex; flex-direction: column; flex-basis: 100%; flex: 1; padding: 10px; }\n",
       "    </style>\n",
       "<div class=\"wandb-row\"><div class=\"wandb-col\"><h3>Run history:</h3><br/><table class=\"wandb\"><tr><td>Epoch</td><td>▁</td></tr><tr><td>Train Loss</td><td>▁</td></tr><tr><td>Validation Loss</td><td>▁</td></tr></table><br/></div><div class=\"wandb-col\"><h3>Run summary:</h3><br/><table class=\"wandb\"><tr><td>Epoch</td><td>1</td></tr><tr><td>Train Loss</td><td>0.00405</td></tr><tr><td>Validation Loss</td><td>0.00315</td></tr></table><br/></div></div>"
      ],
      "text/plain": [
       "<IPython.core.display.HTML object>"
      ]
     },
     "metadata": {},
     "output_type": "display_data"
    },
    {
     "data": {
      "text/html": [
       " View run <strong style=\"color:#cdcd00\">Italian-LEGAL-BERT-Trial5</strong> at: <a href='https://wandb.ai/gmarinowandb-8601/RhetoricalRolesClassification-ITA-RhetRoles/runs/qttry3dp' target=\"_blank\">https://wandb.ai/gmarinowandb-8601/RhetoricalRolesClassification-ITA-RhetRoles/runs/qttry3dp</a><br/>Synced 5 W&B file(s), 0 media file(s), 0 artifact file(s) and 0 other file(s)"
      ],
      "text/plain": [
       "<IPython.core.display.HTML object>"
      ]
     },
     "metadata": {},
     "output_type": "display_data"
    },
    {
     "data": {
      "text/html": [
       "Find logs at: <code>./wandb/run-20230424_200255-qttry3dp/logs</code>"
      ],
      "text/plain": [
       "<IPython.core.display.HTML object>"
      ]
     },
     "metadata": {},
     "output_type": "display_data"
    },
    {
     "name": "stderr",
     "output_type": "stream",
     "text": [
      "\u001b[32m[I 2023-04-24 20:05:15,736]\u001b[0m Trial 5 pruned. \u001b[0m\n"
     ]
    },
    {
     "name": "stdout",
     "output_type": "stream",
     "text": [
      "\n",
      "************************ Starting New Optuna Trial ************************\n",
      "\n"
     ]
    },
    {
     "name": "stderr",
     "output_type": "stream",
     "text": [
      "Some weights of the model checkpoint at dlicari/Italian-Legal-BERT were not used when initializing BertForSequenceClassification: ['cls.predictions.transform.dense.weight', 'cls.predictions.decoder.weight', 'cls.predictions.transform.dense.bias', 'cls.predictions.bias', 'cls.predictions.decoder.bias', 'cls.predictions.transform.LayerNorm.weight', 'cls.predictions.transform.LayerNorm.bias']\n",
      "- This IS expected if you are initializing BertForSequenceClassification from the checkpoint of a model trained on another task or with another architecture (e.g. initializing a BertForSequenceClassification model from a BertForPreTraining model).\n",
      "- This IS NOT expected if you are initializing BertForSequenceClassification from the checkpoint of a model that you expect to be exactly identical (initializing a BertForSequenceClassification model from a BertForSequenceClassification model).\n",
      "Some weights of BertForSequenceClassification were not initialized from the model checkpoint at dlicari/Italian-Legal-BERT and are newly initialized: ['classifier.weight', 'classifier.bias', 'bert.pooler.dense.weight', 'bert.pooler.dense.bias']\n",
      "You should probably TRAIN this model on a down-stream task to be able to use it for predictions and inference.\n"
     ]
    },
    {
     "data": {
      "text/html": [
       "wandb version 0.15.0 is available!  To upgrade, please run:\n",
       " $ pip install wandb --upgrade"
      ],
      "text/plain": [
       "<IPython.core.display.HTML object>"
      ]
     },
     "metadata": {},
     "output_type": "display_data"
    },
    {
     "data": {
      "text/html": [
       "Tracking run with wandb version 0.13.10"
      ],
      "text/plain": [
       "<IPython.core.display.HTML object>"
      ]
     },
     "metadata": {},
     "output_type": "display_data"
    },
    {
     "data": {
      "text/html": [
       "Run data is saved locally in <code>/home/g.marino/Desktop/GA/RhetoricalRolesClassification/ITA-RhetRoles/wandb/run-20230424_200517-6l7rerhx</code>"
      ],
      "text/plain": [
       "<IPython.core.display.HTML object>"
      ]
     },
     "metadata": {},
     "output_type": "display_data"
    },
    {
     "data": {
      "text/html": [
       "Syncing run <strong><a href='https://wandb.ai/gmarinowandb-8601/RhetoricalRolesClassification-ITA-RhetRoles/runs/6l7rerhx' target=\"_blank\">Italian-LEGAL-BERT-Trial6</a></strong> to <a href='https://wandb.ai/gmarinowandb-8601/RhetoricalRolesClassification-ITA-RhetRoles' target=\"_blank\">Weights & Biases</a> (<a href='https://wandb.me/run' target=\"_blank\">docs</a>)<br/>"
      ],
      "text/plain": [
       "<IPython.core.display.HTML object>"
      ]
     },
     "metadata": {},
     "output_type": "display_data"
    },
    {
     "data": {
      "text/html": [
       " View project at <a href='https://wandb.ai/gmarinowandb-8601/RhetoricalRolesClassification-ITA-RhetRoles' target=\"_blank\">https://wandb.ai/gmarinowandb-8601/RhetoricalRolesClassification-ITA-RhetRoles</a>"
      ],
      "text/plain": [
       "<IPython.core.display.HTML object>"
      ]
     },
     "metadata": {},
     "output_type": "display_data"
    },
    {
     "data": {
      "text/html": [
       " View run at <a href='https://wandb.ai/gmarinowandb-8601/RhetoricalRolesClassification-ITA-RhetRoles/runs/6l7rerhx' target=\"_blank\">https://wandb.ai/gmarinowandb-8601/RhetoricalRolesClassification-ITA-RhetRoles/runs/6l7rerhx</a>"
      ],
      "text/plain": [
       "<IPython.core.display.HTML object>"
      ]
     },
     "metadata": {},
     "output_type": "display_data"
    },
    {
     "name": "stdout",
     "output_type": "stream",
     "text": [
      "\n",
      "************** Training Started **************\n",
      "\n",
      "EPOCH N. 1\n"
     ]
    },
    {
     "name": "stderr",
     "output_type": "stream",
     "text": [
      "532it [01:42,  5.19it/s]\n"
     ]
    },
    {
     "name": "stdout",
     "output_type": "stream",
     "text": [
      "\n",
      "TRAIN RESULTS\n",
      "Loss: 0.006300455716359772\n",
      "Accuracy: 0.6950538140328177\n",
      "MCC: 0.5034387814869115\n",
      "Macro F1: 0.6361193196814793\n",
      "Macro Precision: 0.6869807550401741\n",
      "Macro Recall: 0.6018627551751873\n",
      "Micro F1: 0.6950538140328177\n",
      "Micro Precision: 0.6950538140328177\n",
      "Micro Recall: 0.6950538140328177\n",
      "\n",
      "VALIDATION RESULTS\n",
      "Loss: 0.010673634707927704\n",
      "Accuracy: 0.5200623700623701\n",
      "MCC: 0.0\n",
      "Macro F1: 0.1368529029610887\n",
      "Macro Precision: 0.10401247401247402\n",
      "Macro Recall: 0.2\n",
      "Micro F1: 0.5200623700623701\n",
      "Micro Precision: 0.5200623700623701\n",
      "Micro Recall: 0.5200623700623701\n",
      "--------------------------------------------------\n"
     ]
    },
    {
     "data": {
      "text/html": [
       "Waiting for W&B process to finish... <strong style=\"color:red\">(failed 1).</strong> Press Control-C to abort syncing."
      ],
      "text/plain": [
       "<IPython.core.display.HTML object>"
      ]
     },
     "metadata": {},
     "output_type": "display_data"
    },
    {
     "data": {
      "application/vnd.jupyter.widget-view+json": {
       "model_id": "75f057a04fdf46de95dd72987b3811bb",
       "version_major": 2,
       "version_minor": 0
      },
      "text/plain": [
       "VBox(children=(Label(value='0.005 MB of 0.005 MB uploaded (0.000 MB deduped)\\r'), FloatProgress(value=1.0, max…"
      ]
     },
     "metadata": {},
     "output_type": "display_data"
    },
    {
     "data": {
      "text/html": [
       "<style>\n",
       "    table.wandb td:nth-child(1) { padding: 0 10px; text-align: left ; width: auto;} td:nth-child(2) {text-align: left ; width: 100%}\n",
       "    .wandb-row { display: flex; flex-direction: row; flex-wrap: wrap; justify-content: flex-start; width: 100% }\n",
       "    .wandb-col { display: flex; flex-direction: column; flex-basis: 100%; flex: 1; padding: 10px; }\n",
       "    </style>\n",
       "<div class=\"wandb-row\"><div class=\"wandb-col\"><h3>Run history:</h3><br/><table class=\"wandb\"><tr><td>Epoch</td><td>▁</td></tr><tr><td>Train Loss</td><td>▁</td></tr><tr><td>Validation Loss</td><td>▁</td></tr></table><br/></div><div class=\"wandb-col\"><h3>Run summary:</h3><br/><table class=\"wandb\"><tr><td>Epoch</td><td>1</td></tr><tr><td>Train Loss</td><td>0.0063</td></tr><tr><td>Validation Loss</td><td>0.01067</td></tr></table><br/></div></div>"
      ],
      "text/plain": [
       "<IPython.core.display.HTML object>"
      ]
     },
     "metadata": {},
     "output_type": "display_data"
    },
    {
     "data": {
      "text/html": [
       " View run <strong style=\"color:#cdcd00\">Italian-LEGAL-BERT-Trial6</strong> at: <a href='https://wandb.ai/gmarinowandb-8601/RhetoricalRolesClassification-ITA-RhetRoles/runs/6l7rerhx' target=\"_blank\">https://wandb.ai/gmarinowandb-8601/RhetoricalRolesClassification-ITA-RhetRoles/runs/6l7rerhx</a><br/>Synced 5 W&B file(s), 0 media file(s), 0 artifact file(s) and 0 other file(s)"
      ],
      "text/plain": [
       "<IPython.core.display.HTML object>"
      ]
     },
     "metadata": {},
     "output_type": "display_data"
    },
    {
     "data": {
      "text/html": [
       "Find logs at: <code>./wandb/run-20230424_200517-6l7rerhx/logs</code>"
      ],
      "text/plain": [
       "<IPython.core.display.HTML object>"
      ]
     },
     "metadata": {},
     "output_type": "display_data"
    },
    {
     "name": "stderr",
     "output_type": "stream",
     "text": [
      "\u001b[32m[I 2023-04-24 20:07:31,370]\u001b[0m Trial 6 pruned. \u001b[0m\n"
     ]
    },
    {
     "name": "stdout",
     "output_type": "stream",
     "text": [
      "\n",
      "************************ Starting New Optuna Trial ************************\n",
      "\n"
     ]
    },
    {
     "name": "stderr",
     "output_type": "stream",
     "text": [
      "Some weights of the model checkpoint at dlicari/Italian-Legal-BERT were not used when initializing BertForSequenceClassification: ['cls.predictions.transform.dense.weight', 'cls.predictions.decoder.weight', 'cls.predictions.transform.dense.bias', 'cls.predictions.bias', 'cls.predictions.decoder.bias', 'cls.predictions.transform.LayerNorm.weight', 'cls.predictions.transform.LayerNorm.bias']\n",
      "- This IS expected if you are initializing BertForSequenceClassification from the checkpoint of a model trained on another task or with another architecture (e.g. initializing a BertForSequenceClassification model from a BertForPreTraining model).\n",
      "- This IS NOT expected if you are initializing BertForSequenceClassification from the checkpoint of a model that you expect to be exactly identical (initializing a BertForSequenceClassification model from a BertForSequenceClassification model).\n",
      "Some weights of BertForSequenceClassification were not initialized from the model checkpoint at dlicari/Italian-Legal-BERT and are newly initialized: ['classifier.weight', 'classifier.bias', 'bert.pooler.dense.weight', 'bert.pooler.dense.bias']\n",
      "You should probably TRAIN this model on a down-stream task to be able to use it for predictions and inference.\n"
     ]
    },
    {
     "data": {
      "text/html": [
       "wandb version 0.15.0 is available!  To upgrade, please run:\n",
       " $ pip install wandb --upgrade"
      ],
      "text/plain": [
       "<IPython.core.display.HTML object>"
      ]
     },
     "metadata": {},
     "output_type": "display_data"
    },
    {
     "data": {
      "text/html": [
       "Tracking run with wandb version 0.13.10"
      ],
      "text/plain": [
       "<IPython.core.display.HTML object>"
      ]
     },
     "metadata": {},
     "output_type": "display_data"
    },
    {
     "data": {
      "text/html": [
       "Run data is saved locally in <code>/home/g.marino/Desktop/GA/RhetoricalRolesClassification/ITA-RhetRoles/wandb/run-20230424_200732-03seeh4z</code>"
      ],
      "text/plain": [
       "<IPython.core.display.HTML object>"
      ]
     },
     "metadata": {},
     "output_type": "display_data"
    },
    {
     "data": {
      "text/html": [
       "Syncing run <strong><a href='https://wandb.ai/gmarinowandb-8601/RhetoricalRolesClassification-ITA-RhetRoles/runs/03seeh4z' target=\"_blank\">Italian-LEGAL-BERT-Trial7</a></strong> to <a href='https://wandb.ai/gmarinowandb-8601/RhetoricalRolesClassification-ITA-RhetRoles' target=\"_blank\">Weights & Biases</a> (<a href='https://wandb.me/run' target=\"_blank\">docs</a>)<br/>"
      ],
      "text/plain": [
       "<IPython.core.display.HTML object>"
      ]
     },
     "metadata": {},
     "output_type": "display_data"
    },
    {
     "data": {
      "text/html": [
       " View project at <a href='https://wandb.ai/gmarinowandb-8601/RhetoricalRolesClassification-ITA-RhetRoles' target=\"_blank\">https://wandb.ai/gmarinowandb-8601/RhetoricalRolesClassification-ITA-RhetRoles</a>"
      ],
      "text/plain": [
       "<IPython.core.display.HTML object>"
      ]
     },
     "metadata": {},
     "output_type": "display_data"
    },
    {
     "data": {
      "text/html": [
       " View run at <a href='https://wandb.ai/gmarinowandb-8601/RhetoricalRolesClassification-ITA-RhetRoles/runs/03seeh4z' target=\"_blank\">https://wandb.ai/gmarinowandb-8601/RhetoricalRolesClassification-ITA-RhetRoles/runs/03seeh4z</a>"
      ],
      "text/plain": [
       "<IPython.core.display.HTML object>"
      ]
     },
     "metadata": {},
     "output_type": "display_data"
    },
    {
     "name": "stdout",
     "output_type": "stream",
     "text": [
      "\n",
      "************** Training Started **************\n",
      "\n",
      "EPOCH N. 1\n"
     ]
    },
    {
     "name": "stderr",
     "output_type": "stream",
     "text": [
      "532it [01:46,  5.00it/s]\n"
     ]
    },
    {
     "name": "stdout",
     "output_type": "stream",
     "text": [
      "\n",
      "TRAIN RESULTS\n",
      "Loss: 0.009401735499179595\n",
      "Accuracy: 0.5587837440451685\n",
      "MCC: 0.18264467673539436\n",
      "Macro F1: 0.2924090017746272\n",
      "Macro Precision: 0.5963616023907695\n",
      "Macro Recall: 0.2809393779118123\n",
      "Micro F1: 0.5587837440451685\n",
      "Micro Precision: 0.5587837440451685\n",
      "Micro Recall: 0.5587837440451685\n",
      "\n",
      "VALIDATION RESULTS\n",
      "Loss: 0.010161266662180424\n",
      "Accuracy: 0.5200623700623701\n",
      "MCC: 0.0\n",
      "Macro F1: 0.1368529029610887\n",
      "Macro Precision: 0.10401247401247402\n",
      "Macro Recall: 0.2\n",
      "Micro F1: 0.5200623700623701\n",
      "Micro Precision: 0.5200623700623701\n",
      "Micro Recall: 0.5200623700623701\n",
      "--------------------------------------------------\n"
     ]
    },
    {
     "data": {
      "text/html": [
       "Waiting for W&B process to finish... <strong style=\"color:red\">(failed 1).</strong> Press Control-C to abort syncing."
      ],
      "text/plain": [
       "<IPython.core.display.HTML object>"
      ]
     },
     "metadata": {},
     "output_type": "display_data"
    },
    {
     "data": {
      "application/vnd.jupyter.widget-view+json": {
       "model_id": "874adfc09b5649cbb381827ea7330ea0",
       "version_major": 2,
       "version_minor": 0
      },
      "text/plain": [
       "VBox(children=(Label(value='0.005 MB of 0.005 MB uploaded (0.000 MB deduped)\\r'), FloatProgress(value=1.0, max…"
      ]
     },
     "metadata": {},
     "output_type": "display_data"
    },
    {
     "data": {
      "text/html": [
       "<style>\n",
       "    table.wandb td:nth-child(1) { padding: 0 10px; text-align: left ; width: auto;} td:nth-child(2) {text-align: left ; width: 100%}\n",
       "    .wandb-row { display: flex; flex-direction: row; flex-wrap: wrap; justify-content: flex-start; width: 100% }\n",
       "    .wandb-col { display: flex; flex-direction: column; flex-basis: 100%; flex: 1; padding: 10px; }\n",
       "    </style>\n",
       "<div class=\"wandb-row\"><div class=\"wandb-col\"><h3>Run history:</h3><br/><table class=\"wandb\"><tr><td>Epoch</td><td>▁</td></tr><tr><td>Train Loss</td><td>▁</td></tr><tr><td>Validation Loss</td><td>▁</td></tr></table><br/></div><div class=\"wandb-col\"><h3>Run summary:</h3><br/><table class=\"wandb\"><tr><td>Epoch</td><td>1</td></tr><tr><td>Train Loss</td><td>0.0094</td></tr><tr><td>Validation Loss</td><td>0.01016</td></tr></table><br/></div></div>"
      ],
      "text/plain": [
       "<IPython.core.display.HTML object>"
      ]
     },
     "metadata": {},
     "output_type": "display_data"
    },
    {
     "data": {
      "text/html": [
       " View run <strong style=\"color:#cdcd00\">Italian-LEGAL-BERT-Trial7</strong> at: <a href='https://wandb.ai/gmarinowandb-8601/RhetoricalRolesClassification-ITA-RhetRoles/runs/03seeh4z' target=\"_blank\">https://wandb.ai/gmarinowandb-8601/RhetoricalRolesClassification-ITA-RhetRoles/runs/03seeh4z</a><br/>Synced 5 W&B file(s), 0 media file(s), 0 artifact file(s) and 0 other file(s)"
      ],
      "text/plain": [
       "<IPython.core.display.HTML object>"
      ]
     },
     "metadata": {},
     "output_type": "display_data"
    },
    {
     "data": {
      "text/html": [
       "Find logs at: <code>./wandb/run-20230424_200732-03seeh4z/logs</code>"
      ],
      "text/plain": [
       "<IPython.core.display.HTML object>"
      ]
     },
     "metadata": {},
     "output_type": "display_data"
    },
    {
     "name": "stderr",
     "output_type": "stream",
     "text": [
      "\u001b[32m[I 2023-04-24 20:10:05,695]\u001b[0m Trial 7 pruned. \u001b[0m\n"
     ]
    },
    {
     "name": "stdout",
     "output_type": "stream",
     "text": [
      "\n",
      "************************ Starting New Optuna Trial ************************\n",
      "\n"
     ]
    },
    {
     "name": "stderr",
     "output_type": "stream",
     "text": [
      "Some weights of the model checkpoint at dlicari/Italian-Legal-BERT were not used when initializing BertForSequenceClassification: ['cls.predictions.transform.dense.weight', 'cls.predictions.decoder.weight', 'cls.predictions.transform.dense.bias', 'cls.predictions.bias', 'cls.predictions.decoder.bias', 'cls.predictions.transform.LayerNorm.weight', 'cls.predictions.transform.LayerNorm.bias']\n",
      "- This IS expected if you are initializing BertForSequenceClassification from the checkpoint of a model trained on another task or with another architecture (e.g. initializing a BertForSequenceClassification model from a BertForPreTraining model).\n",
      "- This IS NOT expected if you are initializing BertForSequenceClassification from the checkpoint of a model that you expect to be exactly identical (initializing a BertForSequenceClassification model from a BertForSequenceClassification model).\n",
      "Some weights of BertForSequenceClassification were not initialized from the model checkpoint at dlicari/Italian-Legal-BERT and are newly initialized: ['classifier.weight', 'classifier.bias', 'bert.pooler.dense.weight', 'bert.pooler.dense.bias']\n",
      "You should probably TRAIN this model on a down-stream task to be able to use it for predictions and inference.\n"
     ]
    },
    {
     "data": {
      "text/html": [
       "wandb version 0.15.0 is available!  To upgrade, please run:\n",
       " $ pip install wandb --upgrade"
      ],
      "text/plain": [
       "<IPython.core.display.HTML object>"
      ]
     },
     "metadata": {},
     "output_type": "display_data"
    },
    {
     "data": {
      "text/html": [
       "Tracking run with wandb version 0.13.10"
      ],
      "text/plain": [
       "<IPython.core.display.HTML object>"
      ]
     },
     "metadata": {},
     "output_type": "display_data"
    },
    {
     "data": {
      "text/html": [
       "Run data is saved locally in <code>/home/g.marino/Desktop/GA/RhetoricalRolesClassification/ITA-RhetRoles/wandb/run-20230424_201007-4z8gydt6</code>"
      ],
      "text/plain": [
       "<IPython.core.display.HTML object>"
      ]
     },
     "metadata": {},
     "output_type": "display_data"
    },
    {
     "data": {
      "text/html": [
       "Syncing run <strong><a href='https://wandb.ai/gmarinowandb-8601/RhetoricalRolesClassification-ITA-RhetRoles/runs/4z8gydt6' target=\"_blank\">Italian-LEGAL-BERT-Trial8</a></strong> to <a href='https://wandb.ai/gmarinowandb-8601/RhetoricalRolesClassification-ITA-RhetRoles' target=\"_blank\">Weights & Biases</a> (<a href='https://wandb.me/run' target=\"_blank\">docs</a>)<br/>"
      ],
      "text/plain": [
       "<IPython.core.display.HTML object>"
      ]
     },
     "metadata": {},
     "output_type": "display_data"
    },
    {
     "data": {
      "text/html": [
       " View project at <a href='https://wandb.ai/gmarinowandb-8601/RhetoricalRolesClassification-ITA-RhetRoles' target=\"_blank\">https://wandb.ai/gmarinowandb-8601/RhetoricalRolesClassification-ITA-RhetRoles</a>"
      ],
      "text/plain": [
       "<IPython.core.display.HTML object>"
      ]
     },
     "metadata": {},
     "output_type": "display_data"
    },
    {
     "data": {
      "text/html": [
       " View run at <a href='https://wandb.ai/gmarinowandb-8601/RhetoricalRolesClassification-ITA-RhetRoles/runs/4z8gydt6' target=\"_blank\">https://wandb.ai/gmarinowandb-8601/RhetoricalRolesClassification-ITA-RhetRoles/runs/4z8gydt6</a>"
      ],
      "text/plain": [
       "<IPython.core.display.HTML object>"
      ]
     },
     "metadata": {},
     "output_type": "display_data"
    },
    {
     "name": "stdout",
     "output_type": "stream",
     "text": [
      "\n",
      "************** Training Started **************\n",
      "\n",
      "EPOCH N. 1\n"
     ]
    },
    {
     "name": "stderr",
     "output_type": "stream",
     "text": [
      "532it [01:49,  4.84it/s]\n"
     ]
    },
    {
     "name": "stdout",
     "output_type": "stream",
     "text": [
      "\n",
      "TRAIN RESULTS\n",
      "Loss: 0.005652471559595124\n",
      "Accuracy: 0.7382961830265248\n",
      "MCC: 0.5769113528953601\n",
      "Macro F1: 0.7008247623598097\n",
      "Macro Precision: 0.7635813572951777\n",
      "Macro Recall: 0.6603535547444157\n",
      "Micro F1: 0.7382961830265247\n",
      "Micro Precision: 0.7382961830265248\n",
      "Micro Recall: 0.7382961830265248\n",
      "\n",
      "VALIDATION RESULTS\n",
      "Loss: 0.003593617817386985\n",
      "Accuracy: 0.8356548856548857\n",
      "MCC: 0.7475416850008441\n",
      "Macro F1: 0.842624716176584\n",
      "Macro Precision: 0.8385921920081435\n",
      "Macro Recall: 0.8497885127062116\n",
      "Micro F1: 0.8356548856548855\n",
      "Micro Precision: 0.8356548856548857\n",
      "Micro Recall: 0.8356548856548857\n",
      "--------------------------------------------------\n"
     ]
    },
    {
     "data": {
      "text/html": [
       "Waiting for W&B process to finish... <strong style=\"color:red\">(failed 1).</strong> Press Control-C to abort syncing."
      ],
      "text/plain": [
       "<IPython.core.display.HTML object>"
      ]
     },
     "metadata": {},
     "output_type": "display_data"
    },
    {
     "data": {
      "application/vnd.jupyter.widget-view+json": {
       "model_id": "687d47903dc24337b3e9a4447e2fb78c",
       "version_major": 2,
       "version_minor": 0
      },
      "text/plain": [
       "VBox(children=(Label(value='0.005 MB of 0.005 MB uploaded (0.000 MB deduped)\\r'), FloatProgress(value=1.0, max…"
      ]
     },
     "metadata": {},
     "output_type": "display_data"
    },
    {
     "data": {
      "text/html": [
       "<style>\n",
       "    table.wandb td:nth-child(1) { padding: 0 10px; text-align: left ; width: auto;} td:nth-child(2) {text-align: left ; width: 100%}\n",
       "    .wandb-row { display: flex; flex-direction: row; flex-wrap: wrap; justify-content: flex-start; width: 100% }\n",
       "    .wandb-col { display: flex; flex-direction: column; flex-basis: 100%; flex: 1; padding: 10px; }\n",
       "    </style>\n",
       "<div class=\"wandb-row\"><div class=\"wandb-col\"><h3>Run history:</h3><br/><table class=\"wandb\"><tr><td>Epoch</td><td>▁</td></tr><tr><td>Train Loss</td><td>▁</td></tr><tr><td>Validation Loss</td><td>▁</td></tr></table><br/></div><div class=\"wandb-col\"><h3>Run summary:</h3><br/><table class=\"wandb\"><tr><td>Epoch</td><td>1</td></tr><tr><td>Train Loss</td><td>0.00565</td></tr><tr><td>Validation Loss</td><td>0.00359</td></tr></table><br/></div></div>"
      ],
      "text/plain": [
       "<IPython.core.display.HTML object>"
      ]
     },
     "metadata": {},
     "output_type": "display_data"
    },
    {
     "data": {
      "text/html": [
       " View run <strong style=\"color:#cdcd00\">Italian-LEGAL-BERT-Trial8</strong> at: <a href='https://wandb.ai/gmarinowandb-8601/RhetoricalRolesClassification-ITA-RhetRoles/runs/4z8gydt6' target=\"_blank\">https://wandb.ai/gmarinowandb-8601/RhetoricalRolesClassification-ITA-RhetRoles/runs/4z8gydt6</a><br/>Synced 5 W&B file(s), 0 media file(s), 0 artifact file(s) and 0 other file(s)"
      ],
      "text/plain": [
       "<IPython.core.display.HTML object>"
      ]
     },
     "metadata": {},
     "output_type": "display_data"
    },
    {
     "data": {
      "text/html": [
       "Find logs at: <code>./wandb/run-20230424_201007-4z8gydt6/logs</code>"
      ],
      "text/plain": [
       "<IPython.core.display.HTML object>"
      ]
     },
     "metadata": {},
     "output_type": "display_data"
    },
    {
     "name": "stderr",
     "output_type": "stream",
     "text": [
      "\u001b[32m[I 2023-04-24 20:12:32,615]\u001b[0m Trial 8 pruned. \u001b[0m\n"
     ]
    },
    {
     "name": "stdout",
     "output_type": "stream",
     "text": [
      "\n",
      "************************ Starting New Optuna Trial ************************\n",
      "\n"
     ]
    },
    {
     "name": "stderr",
     "output_type": "stream",
     "text": [
      "Some weights of the model checkpoint at dlicari/Italian-Legal-BERT were not used when initializing BertForSequenceClassification: ['cls.predictions.transform.dense.weight', 'cls.predictions.decoder.weight', 'cls.predictions.transform.dense.bias', 'cls.predictions.bias', 'cls.predictions.decoder.bias', 'cls.predictions.transform.LayerNorm.weight', 'cls.predictions.transform.LayerNorm.bias']\n",
      "- This IS expected if you are initializing BertForSequenceClassification from the checkpoint of a model trained on another task or with another architecture (e.g. initializing a BertForSequenceClassification model from a BertForPreTraining model).\n",
      "- This IS NOT expected if you are initializing BertForSequenceClassification from the checkpoint of a model that you expect to be exactly identical (initializing a BertForSequenceClassification model from a BertForSequenceClassification model).\n",
      "Some weights of BertForSequenceClassification were not initialized from the model checkpoint at dlicari/Italian-Legal-BERT and are newly initialized: ['classifier.weight', 'classifier.bias', 'bert.pooler.dense.weight', 'bert.pooler.dense.bias']\n",
      "You should probably TRAIN this model on a down-stream task to be able to use it for predictions and inference.\n"
     ]
    },
    {
     "data": {
      "text/html": [
       "wandb version 0.15.0 is available!  To upgrade, please run:\n",
       " $ pip install wandb --upgrade"
      ],
      "text/plain": [
       "<IPython.core.display.HTML object>"
      ]
     },
     "metadata": {},
     "output_type": "display_data"
    },
    {
     "data": {
      "text/html": [
       "Tracking run with wandb version 0.13.10"
      ],
      "text/plain": [
       "<IPython.core.display.HTML object>"
      ]
     },
     "metadata": {},
     "output_type": "display_data"
    },
    {
     "data": {
      "text/html": [
       "Run data is saved locally in <code>/home/g.marino/Desktop/GA/RhetoricalRolesClassification/ITA-RhetRoles/wandb/run-20230424_201234-o2q04hy0</code>"
      ],
      "text/plain": [
       "<IPython.core.display.HTML object>"
      ]
     },
     "metadata": {},
     "output_type": "display_data"
    },
    {
     "data": {
      "text/html": [
       "Syncing run <strong><a href='https://wandb.ai/gmarinowandb-8601/RhetoricalRolesClassification-ITA-RhetRoles/runs/o2q04hy0' target=\"_blank\">Italian-LEGAL-BERT-Trial9</a></strong> to <a href='https://wandb.ai/gmarinowandb-8601/RhetoricalRolesClassification-ITA-RhetRoles' target=\"_blank\">Weights & Biases</a> (<a href='https://wandb.me/run' target=\"_blank\">docs</a>)<br/>"
      ],
      "text/plain": [
       "<IPython.core.display.HTML object>"
      ]
     },
     "metadata": {},
     "output_type": "display_data"
    },
    {
     "data": {
      "text/html": [
       " View project at <a href='https://wandb.ai/gmarinowandb-8601/RhetoricalRolesClassification-ITA-RhetRoles' target=\"_blank\">https://wandb.ai/gmarinowandb-8601/RhetoricalRolesClassification-ITA-RhetRoles</a>"
      ],
      "text/plain": [
       "<IPython.core.display.HTML object>"
      ]
     },
     "metadata": {},
     "output_type": "display_data"
    },
    {
     "data": {
      "text/html": [
       " View run at <a href='https://wandb.ai/gmarinowandb-8601/RhetoricalRolesClassification-ITA-RhetRoles/runs/o2q04hy0' target=\"_blank\">https://wandb.ai/gmarinowandb-8601/RhetoricalRolesClassification-ITA-RhetRoles/runs/o2q04hy0</a>"
      ],
      "text/plain": [
       "<IPython.core.display.HTML object>"
      ]
     },
     "metadata": {},
     "output_type": "display_data"
    },
    {
     "name": "stdout",
     "output_type": "stream",
     "text": [
      "\n",
      "************** Training Started **************\n",
      "\n",
      "EPOCH N. 1\n"
     ]
    },
    {
     "name": "stderr",
     "output_type": "stream",
     "text": [
      "532it [01:45,  5.03it/s]\n"
     ]
    },
    {
     "name": "stdout",
     "output_type": "stream",
     "text": [
      "\n",
      "TRAIN RESULTS\n",
      "Loss: 0.0034751767807604038\n",
      "Accuracy: 0.8326177733341175\n",
      "MCC: 0.7375519435955114\n",
      "Macro F1: 0.827149591636209\n",
      "Macro Precision: 0.834730539587367\n",
      "Macro Recall: 0.8239949706715084\n",
      "Micro F1: 0.8326177733341175\n",
      "Micro Precision: 0.8326177733341175\n",
      "Micro Recall: 0.8326177733341175\n",
      "\n",
      "VALIDATION RESULTS\n",
      "Loss: 0.002848222618922591\n",
      "Accuracy: 0.8664241164241164\n",
      "MCC: 0.7956366576546348\n",
      "Macro F1: 0.875216048031304\n",
      "Macro Precision: 0.8742480272742326\n",
      "Macro Recall: 0.8780787859417722\n",
      "Micro F1: 0.8664241164241164\n",
      "Micro Precision: 0.8664241164241164\n",
      "Micro Recall: 0.8664241164241164\n",
      "--------------------------------------------------\n",
      "EPOCH N. 2\n"
     ]
    },
    {
     "name": "stderr",
     "output_type": "stream",
     "text": [
      "532it [01:42,  5.18it/s]\n"
     ]
    },
    {
     "name": "stdout",
     "output_type": "stream",
     "text": [
      "\n",
      "TRAIN RESULTS\n",
      "Loss: 0.0023864955448360432\n",
      "Accuracy: 0.8843439393048286\n",
      "MCC: 0.8193339368840525\n",
      "Macro F1: 0.8877459585783758\n",
      "Macro Precision: 0.8909177226132565\n",
      "Macro Recall: 0.8858722242985537\n",
      "Micro F1: 0.8843439393048286\n",
      "Micro Precision: 0.8843439393048286\n",
      "Micro Recall: 0.8843439393048286\n",
      "\n",
      "VALIDATION RESULTS\n",
      "Loss: 0.003072946099564433\n",
      "Accuracy: 0.8665280665280666\n",
      "MCC: 0.7925472371726796\n",
      "Macro F1: 0.87185004546509\n",
      "Macro Precision: 0.8891800227989298\n",
      "Macro Recall: 0.8575061082259902\n",
      "Micro F1: 0.8665280665280666\n",
      "Micro Precision: 0.8665280665280666\n",
      "Micro Recall: 0.8665280665280666\n",
      "--------------------------------------------------\n",
      "EPOCH N. 3\n"
     ]
    },
    {
     "name": "stderr",
     "output_type": "stream",
     "text": [
      "532it [01:43,  5.13it/s]\n"
     ]
    },
    {
     "name": "stdout",
     "output_type": "stream",
     "text": [
      "\n",
      "TRAIN RESULTS\n",
      "Loss: 0.0019168382031708431\n",
      "Accuracy: 0.9087366935246721\n",
      "MCC: 0.8576058161004149\n",
      "Macro F1: 0.9104321125742978\n",
      "Macro Precision: 0.91266176656771\n",
      "Macro Recall: 0.9087335108037069\n",
      "Micro F1: 0.9087366935246721\n",
      "Micro Precision: 0.9087366935246721\n",
      "Micro Recall: 0.9087366935246721\n",
      "\n",
      "VALIDATION RESULTS\n",
      "Loss: 0.003062131116166711\n",
      "Accuracy: 0.8686070686070686\n",
      "MCC: 0.7958765914742255\n",
      "Macro F1: 0.87191277374005\n",
      "Macro Precision: 0.8890271755853962\n",
      "Macro Recall: 0.858272561895102\n",
      "Micro F1: 0.8686070686070687\n",
      "Micro Precision: 0.8686070686070686\n",
      "Micro Recall: 0.8686070686070686\n",
      "Early stopped training\n",
      "--------------------------------------------------\n"
     ]
    },
    {
     "data": {
      "text/html": [
       "Waiting for W&B process to finish... <strong style=\"color:green\">(success).</strong>"
      ],
      "text/plain": [
       "<IPython.core.display.HTML object>"
      ]
     },
     "metadata": {},
     "output_type": "display_data"
    },
    {
     "data": {
      "application/vnd.jupyter.widget-view+json": {
       "model_id": "7afa5186b4ad4c14bbebabcbb840612d",
       "version_major": 2,
       "version_minor": 0
      },
      "text/plain": [
       "VBox(children=(Label(value='0.005 MB of 0.005 MB uploaded (0.000 MB deduped)\\r'), FloatProgress(value=1.0, max…"
      ]
     },
     "metadata": {},
     "output_type": "display_data"
    },
    {
     "data": {
      "text/html": [
       "<style>\n",
       "    table.wandb td:nth-child(1) { padding: 0 10px; text-align: left ; width: auto;} td:nth-child(2) {text-align: left ; width: 100%}\n",
       "    .wandb-row { display: flex; flex-direction: row; flex-wrap: wrap; justify-content: flex-start; width: 100% }\n",
       "    .wandb-col { display: flex; flex-direction: column; flex-basis: 100%; flex: 1; padding: 10px; }\n",
       "    </style>\n",
       "<div class=\"wandb-row\"><div class=\"wandb-col\"><h3>Run history:</h3><br/><table class=\"wandb\"><tr><td>Epoch</td><td>▁▅█</td></tr><tr><td>Train Loss</td><td>█▃▁</td></tr><tr><td>Validation Loss</td><td>▁██</td></tr></table><br/></div><div class=\"wandb-col\"><h3>Run summary:</h3><br/><table class=\"wandb\"><tr><td>Epoch</td><td>3</td></tr><tr><td>Train Loss</td><td>0.00192</td></tr><tr><td>Validation Loss</td><td>0.00306</td></tr></table><br/></div></div>"
      ],
      "text/plain": [
       "<IPython.core.display.HTML object>"
      ]
     },
     "metadata": {},
     "output_type": "display_data"
    },
    {
     "data": {
      "text/html": [
       " View run <strong style=\"color:#cdcd00\">Italian-LEGAL-BERT-Trial9</strong> at: <a href='https://wandb.ai/gmarinowandb-8601/RhetoricalRolesClassification-ITA-RhetRoles/runs/o2q04hy0' target=\"_blank\">https://wandb.ai/gmarinowandb-8601/RhetoricalRolesClassification-ITA-RhetRoles/runs/o2q04hy0</a><br/>Synced 5 W&B file(s), 0 media file(s), 0 artifact file(s) and 0 other file(s)"
      ],
      "text/plain": [
       "<IPython.core.display.HTML object>"
      ]
     },
     "metadata": {},
     "output_type": "display_data"
    },
    {
     "data": {
      "text/html": [
       "Find logs at: <code>./wandb/run-20230424_201234-o2q04hy0/logs</code>"
      ],
      "text/plain": [
       "<IPython.core.display.HTML object>"
      ]
     },
     "metadata": {},
     "output_type": "display_data"
    },
    {
     "name": "stderr",
     "output_type": "stream",
     "text": [
      "\u001b[32m[I 2023-04-24 20:18:38,499]\u001b[0m Trial 9 finished with value: 0.002848222618922591 and parameters: {'lr': 0.00014270801602472835, 'weight_decay': 0.009088741563858}. Best is trial 0 with value: 0.0028153297025710344.\u001b[0m\n"
     ]
    },
    {
     "name": "stdout",
     "output_type": "stream",
     "text": [
      "\n",
      "************************ Starting New Optuna Trial ************************\n",
      "\n"
     ]
    },
    {
     "name": "stderr",
     "output_type": "stream",
     "text": [
      "Some weights of the model checkpoint at dlicari/Italian-Legal-BERT were not used when initializing BertForSequenceClassification: ['cls.predictions.transform.dense.weight', 'cls.predictions.decoder.weight', 'cls.predictions.transform.dense.bias', 'cls.predictions.bias', 'cls.predictions.decoder.bias', 'cls.predictions.transform.LayerNorm.weight', 'cls.predictions.transform.LayerNorm.bias']\n",
      "- This IS expected if you are initializing BertForSequenceClassification from the checkpoint of a model trained on another task or with another architecture (e.g. initializing a BertForSequenceClassification model from a BertForPreTraining model).\n",
      "- This IS NOT expected if you are initializing BertForSequenceClassification from the checkpoint of a model that you expect to be exactly identical (initializing a BertForSequenceClassification model from a BertForSequenceClassification model).\n",
      "Some weights of BertForSequenceClassification were not initialized from the model checkpoint at dlicari/Italian-Legal-BERT and are newly initialized: ['classifier.weight', 'classifier.bias', 'bert.pooler.dense.weight', 'bert.pooler.dense.bias']\n",
      "You should probably TRAIN this model on a down-stream task to be able to use it for predictions and inference.\n"
     ]
    },
    {
     "data": {
      "text/html": [
       "wandb version 0.15.0 is available!  To upgrade, please run:\n",
       " $ pip install wandb --upgrade"
      ],
      "text/plain": [
       "<IPython.core.display.HTML object>"
      ]
     },
     "metadata": {},
     "output_type": "display_data"
    },
    {
     "data": {
      "text/html": [
       "Tracking run with wandb version 0.13.10"
      ],
      "text/plain": [
       "<IPython.core.display.HTML object>"
      ]
     },
     "metadata": {},
     "output_type": "display_data"
    },
    {
     "data": {
      "text/html": [
       "Run data is saved locally in <code>/home/g.marino/Desktop/GA/RhetoricalRolesClassification/ITA-RhetRoles/wandb/run-20230424_201839-5opfovag</code>"
      ],
      "text/plain": [
       "<IPython.core.display.HTML object>"
      ]
     },
     "metadata": {},
     "output_type": "display_data"
    },
    {
     "data": {
      "text/html": [
       "Syncing run <strong><a href='https://wandb.ai/gmarinowandb-8601/RhetoricalRolesClassification-ITA-RhetRoles/runs/5opfovag' target=\"_blank\">Italian-LEGAL-BERT-Trial10</a></strong> to <a href='https://wandb.ai/gmarinowandb-8601/RhetoricalRolesClassification-ITA-RhetRoles' target=\"_blank\">Weights & Biases</a> (<a href='https://wandb.me/run' target=\"_blank\">docs</a>)<br/>"
      ],
      "text/plain": [
       "<IPython.core.display.HTML object>"
      ]
     },
     "metadata": {},
     "output_type": "display_data"
    },
    {
     "data": {
      "text/html": [
       " View project at <a href='https://wandb.ai/gmarinowandb-8601/RhetoricalRolesClassification-ITA-RhetRoles' target=\"_blank\">https://wandb.ai/gmarinowandb-8601/RhetoricalRolesClassification-ITA-RhetRoles</a>"
      ],
      "text/plain": [
       "<IPython.core.display.HTML object>"
      ]
     },
     "metadata": {},
     "output_type": "display_data"
    },
    {
     "data": {
      "text/html": [
       " View run at <a href='https://wandb.ai/gmarinowandb-8601/RhetoricalRolesClassification-ITA-RhetRoles/runs/5opfovag' target=\"_blank\">https://wandb.ai/gmarinowandb-8601/RhetoricalRolesClassification-ITA-RhetRoles/runs/5opfovag</a>"
      ],
      "text/plain": [
       "<IPython.core.display.HTML object>"
      ]
     },
     "metadata": {},
     "output_type": "display_data"
    },
    {
     "name": "stdout",
     "output_type": "stream",
     "text": [
      "\n",
      "************** Training Started **************\n",
      "\n",
      "EPOCH N. 1\n"
     ]
    },
    {
     "name": "stderr",
     "output_type": "stream",
     "text": [
      "532it [01:51,  4.75it/s]\n"
     ]
    },
    {
     "name": "stdout",
     "output_type": "stream",
     "text": [
      "\n",
      "TRAIN RESULTS\n",
      "Loss: 0.006931533358563033\n",
      "Accuracy: 0.676292418984885\n",
      "MCC: 0.46387586254128604\n",
      "Macro F1: 0.5428840655162588\n",
      "Macro Precision: 0.6278560048276015\n",
      "Macro Recall: 0.5023773943963807\n",
      "Micro F1: 0.676292418984885\n",
      "Micro Precision: 0.676292418984885\n",
      "Micro Recall: 0.676292418984885\n",
      "\n",
      "VALIDATION RESULTS\n",
      "Loss: 0.004202607087790966\n",
      "Accuracy: 0.8227650727650727\n",
      "MCC: 0.7267801115972823\n",
      "Macro F1: 0.8258640474097675\n",
      "Macro Precision: 0.831191149150982\n",
      "Macro Recall: 0.8237246984913045\n",
      "Micro F1: 0.8227650727650726\n",
      "Micro Precision: 0.8227650727650727\n",
      "Micro Recall: 0.8227650727650727\n",
      "--------------------------------------------------\n"
     ]
    },
    {
     "data": {
      "text/html": [
       "Waiting for W&B process to finish... <strong style=\"color:red\">(failed 1).</strong> Press Control-C to abort syncing."
      ],
      "text/plain": [
       "<IPython.core.display.HTML object>"
      ]
     },
     "metadata": {},
     "output_type": "display_data"
    },
    {
     "data": {
      "application/vnd.jupyter.widget-view+json": {
       "model_id": "edc8ce52affe4b20a42a4bae87f967d3",
       "version_major": 2,
       "version_minor": 0
      },
      "text/plain": [
       "VBox(children=(Label(value='0.005 MB of 0.005 MB uploaded (0.000 MB deduped)\\r'), FloatProgress(value=1.0, max…"
      ]
     },
     "metadata": {},
     "output_type": "display_data"
    },
    {
     "data": {
      "text/html": [
       "<style>\n",
       "    table.wandb td:nth-child(1) { padding: 0 10px; text-align: left ; width: auto;} td:nth-child(2) {text-align: left ; width: 100%}\n",
       "    .wandb-row { display: flex; flex-direction: row; flex-wrap: wrap; justify-content: flex-start; width: 100% }\n",
       "    .wandb-col { display: flex; flex-direction: column; flex-basis: 100%; flex: 1; padding: 10px; }\n",
       "    </style>\n",
       "<div class=\"wandb-row\"><div class=\"wandb-col\"><h3>Run history:</h3><br/><table class=\"wandb\"><tr><td>Epoch</td><td>▁</td></tr><tr><td>Train Loss</td><td>▁</td></tr><tr><td>Validation Loss</td><td>▁</td></tr></table><br/></div><div class=\"wandb-col\"><h3>Run summary:</h3><br/><table class=\"wandb\"><tr><td>Epoch</td><td>1</td></tr><tr><td>Train Loss</td><td>0.00693</td></tr><tr><td>Validation Loss</td><td>0.0042</td></tr></table><br/></div></div>"
      ],
      "text/plain": [
       "<IPython.core.display.HTML object>"
      ]
     },
     "metadata": {},
     "output_type": "display_data"
    },
    {
     "data": {
      "text/html": [
       " View run <strong style=\"color:#cdcd00\">Italian-LEGAL-BERT-Trial10</strong> at: <a href='https://wandb.ai/gmarinowandb-8601/RhetoricalRolesClassification-ITA-RhetRoles/runs/5opfovag' target=\"_blank\">https://wandb.ai/gmarinowandb-8601/RhetoricalRolesClassification-ITA-RhetRoles/runs/5opfovag</a><br/>Synced 5 W&B file(s), 0 media file(s), 0 artifact file(s) and 0 other file(s)"
      ],
      "text/plain": [
       "<IPython.core.display.HTML object>"
      ]
     },
     "metadata": {},
     "output_type": "display_data"
    },
    {
     "data": {
      "text/html": [
       "Find logs at: <code>./wandb/run-20230424_201839-5opfovag/logs</code>"
      ],
      "text/plain": [
       "<IPython.core.display.HTML object>"
      ]
     },
     "metadata": {},
     "output_type": "display_data"
    },
    {
     "name": "stderr",
     "output_type": "stream",
     "text": [
      "\u001b[32m[I 2023-04-24 20:21:01,195]\u001b[0m Trial 10 pruned. \u001b[0m\n"
     ]
    },
    {
     "name": "stdout",
     "output_type": "stream",
     "text": [
      "\n",
      "************************ Starting New Optuna Trial ************************\n",
      "\n"
     ]
    },
    {
     "name": "stderr",
     "output_type": "stream",
     "text": [
      "Some weights of the model checkpoint at dlicari/Italian-Legal-BERT were not used when initializing BertForSequenceClassification: ['cls.predictions.transform.dense.weight', 'cls.predictions.decoder.weight', 'cls.predictions.transform.dense.bias', 'cls.predictions.bias', 'cls.predictions.decoder.bias', 'cls.predictions.transform.LayerNorm.weight', 'cls.predictions.transform.LayerNorm.bias']\n",
      "- This IS expected if you are initializing BertForSequenceClassification from the checkpoint of a model trained on another task or with another architecture (e.g. initializing a BertForSequenceClassification model from a BertForPreTraining model).\n",
      "- This IS NOT expected if you are initializing BertForSequenceClassification from the checkpoint of a model that you expect to be exactly identical (initializing a BertForSequenceClassification model from a BertForSequenceClassification model).\n",
      "Some weights of BertForSequenceClassification were not initialized from the model checkpoint at dlicari/Italian-Legal-BERT and are newly initialized: ['classifier.weight', 'classifier.bias', 'bert.pooler.dense.weight', 'bert.pooler.dense.bias']\n",
      "You should probably TRAIN this model on a down-stream task to be able to use it for predictions and inference.\n"
     ]
    },
    {
     "data": {
      "text/html": [
       "wandb version 0.15.0 is available!  To upgrade, please run:\n",
       " $ pip install wandb --upgrade"
      ],
      "text/plain": [
       "<IPython.core.display.HTML object>"
      ]
     },
     "metadata": {},
     "output_type": "display_data"
    },
    {
     "data": {
      "text/html": [
       "Tracking run with wandb version 0.13.10"
      ],
      "text/plain": [
       "<IPython.core.display.HTML object>"
      ]
     },
     "metadata": {},
     "output_type": "display_data"
    },
    {
     "data": {
      "text/html": [
       "Run data is saved locally in <code>/home/g.marino/Desktop/GA/RhetoricalRolesClassification/ITA-RhetRoles/wandb/run-20230424_202102-00jvlvrm</code>"
      ],
      "text/plain": [
       "<IPython.core.display.HTML object>"
      ]
     },
     "metadata": {},
     "output_type": "display_data"
    },
    {
     "data": {
      "text/html": [
       "Syncing run <strong><a href='https://wandb.ai/gmarinowandb-8601/RhetoricalRolesClassification-ITA-RhetRoles/runs/00jvlvrm' target=\"_blank\">Italian-LEGAL-BERT-Trial11</a></strong> to <a href='https://wandb.ai/gmarinowandb-8601/RhetoricalRolesClassification-ITA-RhetRoles' target=\"_blank\">Weights & Biases</a> (<a href='https://wandb.me/run' target=\"_blank\">docs</a>)<br/>"
      ],
      "text/plain": [
       "<IPython.core.display.HTML object>"
      ]
     },
     "metadata": {},
     "output_type": "display_data"
    },
    {
     "data": {
      "text/html": [
       " View project at <a href='https://wandb.ai/gmarinowandb-8601/RhetoricalRolesClassification-ITA-RhetRoles' target=\"_blank\">https://wandb.ai/gmarinowandb-8601/RhetoricalRolesClassification-ITA-RhetRoles</a>"
      ],
      "text/plain": [
       "<IPython.core.display.HTML object>"
      ]
     },
     "metadata": {},
     "output_type": "display_data"
    },
    {
     "data": {
      "text/html": [
       " View run at <a href='https://wandb.ai/gmarinowandb-8601/RhetoricalRolesClassification-ITA-RhetRoles/runs/00jvlvrm' target=\"_blank\">https://wandb.ai/gmarinowandb-8601/RhetoricalRolesClassification-ITA-RhetRoles/runs/00jvlvrm</a>"
      ],
      "text/plain": [
       "<IPython.core.display.HTML object>"
      ]
     },
     "metadata": {},
     "output_type": "display_data"
    },
    {
     "name": "stdout",
     "output_type": "stream",
     "text": [
      "\n",
      "************** Training Started **************\n",
      "\n",
      "EPOCH N. 1\n"
     ]
    },
    {
     "name": "stderr",
     "output_type": "stream",
     "text": [
      "532it [01:48,  4.91it/s]\n"
     ]
    },
    {
     "name": "stdout",
     "output_type": "stream",
     "text": [
      "\n",
      "TRAIN RESULTS\n",
      "Loss: 0.003580098437020577\n",
      "Accuracy: 0.8283685232017879\n",
      "MCC: 0.7306114598935027\n",
      "Macro F1: 0.8219651005314755\n",
      "Macro Precision: 0.8358596005164438\n",
      "Macro Recall: 0.8136154822771037\n",
      "Micro F1: 0.8283685232017879\n",
      "Micro Precision: 0.8283685232017879\n",
      "Micro Recall: 0.8283685232017879\n",
      "\n",
      "VALIDATION RESULTS\n",
      "Loss: 0.0028104919474571943\n",
      "Accuracy: 0.8667359667359668\n",
      "MCC: 0.7937008156167681\n",
      "Macro F1: 0.8719635410581714\n",
      "Macro Precision: 0.8817263328030609\n",
      "Macro Recall: 0.8642003377164802\n",
      "Micro F1: 0.8667359667359668\n",
      "Micro Precision: 0.8667359667359668\n",
      "Micro Recall: 0.8667359667359668\n",
      "--------------------------------------------------\n",
      "EPOCH N. 2\n"
     ]
    },
    {
     "name": "stderr",
     "output_type": "stream",
     "text": [
      "532it [01:48,  4.91it/s]\n"
     ]
    },
    {
     "name": "stdout",
     "output_type": "stream",
     "text": [
      "\n",
      "TRAIN RESULTS\n",
      "Loss: 0.002414413972824088\n",
      "Accuracy: 0.8836381814973828\n",
      "MCC: 0.818195656365563\n",
      "Macro F1: 0.8875398870824753\n",
      "Macro Precision: 0.8909385813803622\n",
      "Macro Recall: 0.885532369710449\n",
      "Micro F1: 0.8836381814973828\n",
      "Micro Precision: 0.8836381814973828\n",
      "Micro Recall: 0.8836381814973828\n",
      "\n",
      "VALIDATION RESULTS\n",
      "Loss: 0.002819756278768182\n",
      "Accuracy: 0.8651767151767151\n",
      "MCC: 0.7947048718789929\n",
      "Macro F1: 0.8763072113170166\n",
      "Macro Precision: 0.8753571798555064\n",
      "Macro Recall: 0.8776479785109494\n",
      "Micro F1: 0.8651767151767151\n",
      "Micro Precision: 0.8651767151767151\n",
      "Micro Recall: 0.8651767151767151\n",
      "--------------------------------------------------\n",
      "EPOCH N. 3\n"
     ]
    },
    {
     "name": "stderr",
     "output_type": "stream",
     "text": [
      "532it [01:47,  4.94it/s]\n"
     ]
    },
    {
     "name": "stdout",
     "output_type": "stream",
     "text": [
      "\n",
      "TRAIN RESULTS\n",
      "Loss: 0.0019461996441451001\n",
      "Accuracy: 0.9062959477739222\n",
      "MCC: 0.8537247567175743\n",
      "Macro F1: 0.9088060232927362\n",
      "Macro Precision: 0.911757843764117\n",
      "Macro Recall: 0.9063207598673291\n",
      "Micro F1: 0.9062959477739221\n",
      "Micro Precision: 0.9062959477739222\n",
      "Micro Recall: 0.9062959477739222\n",
      "\n",
      "VALIDATION RESULTS\n",
      "Loss: 0.003045695833861828\n",
      "Accuracy: 0.8675675675675676\n",
      "MCC: 0.7949815409751844\n",
      "Macro F1: 0.8750241572934436\n",
      "Macro Precision: 0.8888377858550836\n",
      "Macro Recall: 0.8650055564556578\n",
      "Micro F1: 0.8675675675675676\n",
      "Micro Precision: 0.8675675675675676\n",
      "Micro Recall: 0.8675675675675676\n",
      "Early stopped training\n",
      "--------------------------------------------------\n"
     ]
    },
    {
     "data": {
      "text/html": [
       "Waiting for W&B process to finish... <strong style=\"color:green\">(success).</strong>"
      ],
      "text/plain": [
       "<IPython.core.display.HTML object>"
      ]
     },
     "metadata": {},
     "output_type": "display_data"
    },
    {
     "data": {
      "application/vnd.jupyter.widget-view+json": {
       "model_id": "de9a013635ea4dae994c1be7413eeeb3",
       "version_major": 2,
       "version_minor": 0
      },
      "text/plain": [
       "VBox(children=(Label(value='0.005 MB of 0.005 MB uploaded (0.000 MB deduped)\\r'), FloatProgress(value=1.0, max…"
      ]
     },
     "metadata": {},
     "output_type": "display_data"
    },
    {
     "data": {
      "text/html": [
       "<style>\n",
       "    table.wandb td:nth-child(1) { padding: 0 10px; text-align: left ; width: auto;} td:nth-child(2) {text-align: left ; width: 100%}\n",
       "    .wandb-row { display: flex; flex-direction: row; flex-wrap: wrap; justify-content: flex-start; width: 100% }\n",
       "    .wandb-col { display: flex; flex-direction: column; flex-basis: 100%; flex: 1; padding: 10px; }\n",
       "    </style>\n",
       "<div class=\"wandb-row\"><div class=\"wandb-col\"><h3>Run history:</h3><br/><table class=\"wandb\"><tr><td>Epoch</td><td>▁▅█</td></tr><tr><td>Train Loss</td><td>█▃▁</td></tr><tr><td>Validation Loss</td><td>▁▁█</td></tr></table><br/></div><div class=\"wandb-col\"><h3>Run summary:</h3><br/><table class=\"wandb\"><tr><td>Epoch</td><td>3</td></tr><tr><td>Train Loss</td><td>0.00195</td></tr><tr><td>Validation Loss</td><td>0.00305</td></tr></table><br/></div></div>"
      ],
      "text/plain": [
       "<IPython.core.display.HTML object>"
      ]
     },
     "metadata": {},
     "output_type": "display_data"
    },
    {
     "data": {
      "text/html": [
       " View run <strong style=\"color:#cdcd00\">Italian-LEGAL-BERT-Trial11</strong> at: <a href='https://wandb.ai/gmarinowandb-8601/RhetoricalRolesClassification-ITA-RhetRoles/runs/00jvlvrm' target=\"_blank\">https://wandb.ai/gmarinowandb-8601/RhetoricalRolesClassification-ITA-RhetRoles/runs/00jvlvrm</a><br/>Synced 5 W&B file(s), 0 media file(s), 0 artifact file(s) and 0 other file(s)"
      ],
      "text/plain": [
       "<IPython.core.display.HTML object>"
      ]
     },
     "metadata": {},
     "output_type": "display_data"
    },
    {
     "data": {
      "text/html": [
       "Find logs at: <code>./wandb/run-20230424_202102-00jvlvrm/logs</code>"
      ],
      "text/plain": [
       "<IPython.core.display.HTML object>"
      ]
     },
     "metadata": {},
     "output_type": "display_data"
    },
    {
     "name": "stderr",
     "output_type": "stream",
     "text": [
      "\u001b[32m[I 2023-04-24 20:27:19,532]\u001b[0m Trial 11 finished with value: 0.0028104919474571943 and parameters: {'lr': 9.341486960100408e-05, 'weight_decay': 0.04864935950679955}. Best is trial 11 with value: 0.0028104919474571943.\u001b[0m\n"
     ]
    },
    {
     "name": "stdout",
     "output_type": "stream",
     "text": [
      "\n",
      "************************ Starting New Optuna Trial ************************\n",
      "\n"
     ]
    },
    {
     "name": "stderr",
     "output_type": "stream",
     "text": [
      "Some weights of the model checkpoint at dlicari/Italian-Legal-BERT were not used when initializing BertForSequenceClassification: ['cls.predictions.transform.dense.weight', 'cls.predictions.decoder.weight', 'cls.predictions.transform.dense.bias', 'cls.predictions.bias', 'cls.predictions.decoder.bias', 'cls.predictions.transform.LayerNorm.weight', 'cls.predictions.transform.LayerNorm.bias']\n",
      "- This IS expected if you are initializing BertForSequenceClassification from the checkpoint of a model trained on another task or with another architecture (e.g. initializing a BertForSequenceClassification model from a BertForPreTraining model).\n",
      "- This IS NOT expected if you are initializing BertForSequenceClassification from the checkpoint of a model that you expect to be exactly identical (initializing a BertForSequenceClassification model from a BertForSequenceClassification model).\n",
      "Some weights of BertForSequenceClassification were not initialized from the model checkpoint at dlicari/Italian-Legal-BERT and are newly initialized: ['classifier.weight', 'classifier.bias', 'bert.pooler.dense.weight', 'bert.pooler.dense.bias']\n",
      "You should probably TRAIN this model on a down-stream task to be able to use it for predictions and inference.\n"
     ]
    },
    {
     "data": {
      "text/html": [
       "wandb version 0.15.0 is available!  To upgrade, please run:\n",
       " $ pip install wandb --upgrade"
      ],
      "text/plain": [
       "<IPython.core.display.HTML object>"
      ]
     },
     "metadata": {},
     "output_type": "display_data"
    },
    {
     "data": {
      "text/html": [
       "Tracking run with wandb version 0.13.10"
      ],
      "text/plain": [
       "<IPython.core.display.HTML object>"
      ]
     },
     "metadata": {},
     "output_type": "display_data"
    },
    {
     "data": {
      "text/html": [
       "Run data is saved locally in <code>/home/g.marino/Desktop/GA/RhetoricalRolesClassification/ITA-RhetRoles/wandb/run-20230424_202721-pn2sydcb</code>"
      ],
      "text/plain": [
       "<IPython.core.display.HTML object>"
      ]
     },
     "metadata": {},
     "output_type": "display_data"
    },
    {
     "data": {
      "text/html": [
       "Syncing run <strong><a href='https://wandb.ai/gmarinowandb-8601/RhetoricalRolesClassification-ITA-RhetRoles/runs/pn2sydcb' target=\"_blank\">Italian-LEGAL-BERT-Trial12</a></strong> to <a href='https://wandb.ai/gmarinowandb-8601/RhetoricalRolesClassification-ITA-RhetRoles' target=\"_blank\">Weights & Biases</a> (<a href='https://wandb.me/run' target=\"_blank\">docs</a>)<br/>"
      ],
      "text/plain": [
       "<IPython.core.display.HTML object>"
      ]
     },
     "metadata": {},
     "output_type": "display_data"
    },
    {
     "data": {
      "text/html": [
       " View project at <a href='https://wandb.ai/gmarinowandb-8601/RhetoricalRolesClassification-ITA-RhetRoles' target=\"_blank\">https://wandb.ai/gmarinowandb-8601/RhetoricalRolesClassification-ITA-RhetRoles</a>"
      ],
      "text/plain": [
       "<IPython.core.display.HTML object>"
      ]
     },
     "metadata": {},
     "output_type": "display_data"
    },
    {
     "data": {
      "text/html": [
       " View run at <a href='https://wandb.ai/gmarinowandb-8601/RhetoricalRolesClassification-ITA-RhetRoles/runs/pn2sydcb' target=\"_blank\">https://wandb.ai/gmarinowandb-8601/RhetoricalRolesClassification-ITA-RhetRoles/runs/pn2sydcb</a>"
      ],
      "text/plain": [
       "<IPython.core.display.HTML object>"
      ]
     },
     "metadata": {},
     "output_type": "display_data"
    },
    {
     "name": "stdout",
     "output_type": "stream",
     "text": [
      "\n",
      "************** Training Started **************\n",
      "\n",
      "EPOCH N. 1\n"
     ]
    },
    {
     "name": "stderr",
     "output_type": "stream",
     "text": [
      "532it [01:43,  5.16it/s]\n"
     ]
    },
    {
     "name": "stdout",
     "output_type": "stream",
     "text": [
      "\n",
      "TRAIN RESULTS\n",
      "Loss: 0.0037499708157738873\n",
      "Accuracy: 0.821619714168088\n",
      "MCC: 0.7190261866361308\n",
      "Macro F1: 0.8099340055166753\n",
      "Macro Precision: 0.8252507743623679\n",
      "Macro Recall: 0.7995789416635798\n",
      "Micro F1: 0.821619714168088\n",
      "Micro Precision: 0.821619714168088\n",
      "Micro Recall: 0.821619714168088\n",
      "\n",
      "VALIDATION RESULTS\n",
      "Loss: 0.0028936960734426975\n",
      "Accuracy: 0.8627858627858628\n",
      "MCC: 0.7889138808911546\n",
      "Macro F1: 0.8700426707969007\n",
      "Macro Precision: 0.8730244579276809\n",
      "Macro Recall: 0.8671934063522823\n",
      "Micro F1: 0.8627858627858628\n",
      "Micro Precision: 0.8627858627858628\n",
      "Micro Recall: 0.8627858627858628\n",
      "--------------------------------------------------\n",
      "EPOCH N. 2\n"
     ]
    },
    {
     "name": "stderr",
     "output_type": "stream",
     "text": [
      "532it [01:46,  5.00it/s]\n"
     ]
    },
    {
     "name": "stdout",
     "output_type": "stream",
     "text": [
      "\n",
      "TRAIN RESULTS\n",
      "Loss: 0.002457450177898016\n",
      "Accuracy: 0.8813150620478739\n",
      "MCC: 0.8144442004384298\n",
      "Macro F1: 0.8850944384697378\n",
      "Macro Precision: 0.8894194869782401\n",
      "Macro Recall: 0.8821195783086067\n",
      "Micro F1: 0.8813150620478739\n",
      "Micro Precision: 0.8813150620478739\n",
      "Micro Recall: 0.8813150620478739\n",
      "\n",
      "VALIDATION RESULTS\n",
      "Loss: 0.0027747247368097305\n",
      "Accuracy: 0.8674636174636174\n",
      "MCC: 0.797657969086132\n",
      "Macro F1: 0.8754147112756172\n",
      "Macro Precision: 0.8707494507701299\n",
      "Macro Recall: 0.8814904411497464\n",
      "Micro F1: 0.8674636174636174\n",
      "Micro Precision: 0.8674636174636174\n",
      "Micro Recall: 0.8674636174636174\n",
      "--------------------------------------------------\n",
      "EPOCH N. 3\n"
     ]
    },
    {
     "name": "stderr",
     "output_type": "stream",
     "text": [
      "532it [01:43,  5.13it/s]\n"
     ]
    },
    {
     "name": "stdout",
     "output_type": "stream",
     "text": [
      "\n",
      "TRAIN RESULTS\n",
      "Loss: 0.002005894776688515\n",
      "Accuracy: 0.9039875316120685\n",
      "MCC: 0.8500876825193354\n",
      "Macro F1: 0.9068771018103288\n",
      "Macro Precision: 0.9100033901139696\n",
      "Macro Recall: 0.9043460719817634\n",
      "Micro F1: 0.9039875316120686\n",
      "Micro Precision: 0.9039875316120685\n",
      "Micro Recall: 0.9039875316120685\n",
      "\n",
      "VALIDATION RESULTS\n",
      "Loss: 0.0028951894491910934\n",
      "Accuracy: 0.8715176715176716\n",
      "MCC: 0.8020675974687245\n",
      "Macro F1: 0.8789020924567319\n",
      "Macro Precision: 0.8813460973283556\n",
      "Macro Recall: 0.8768074585444211\n",
      "Micro F1: 0.8715176715176716\n",
      "Micro Precision: 0.8715176715176716\n",
      "Micro Recall: 0.8715176715176716\n",
      "--------------------------------------------------\n",
      "EPOCH N. 4\n"
     ]
    },
    {
     "name": "stderr",
     "output_type": "stream",
     "text": [
      "532it [01:43,  5.14it/s]\n"
     ]
    },
    {
     "name": "stdout",
     "output_type": "stream",
     "text": [
      "\n",
      "TRAIN RESULTS\n",
      "Loss: 0.0016114234023612505\n",
      "Accuracy: 0.9242780685761336\n",
      "MCC: 0.8818979935983825\n",
      "Macro F1: 0.924454244894959\n",
      "Macro Precision: 0.9270011007915591\n",
      "Macro Recall: 0.9221762696939344\n",
      "Micro F1: 0.9242780685761336\n",
      "Micro Precision: 0.9242780685761336\n",
      "Micro Recall: 0.9242780685761336\n",
      "\n",
      "VALIDATION RESULTS\n",
      "Loss: 0.0033836516086012125\n",
      "Accuracy: 0.8641372141372141\n",
      "MCC: 0.7900354239607115\n",
      "Macro F1: 0.8692730260048502\n",
      "Macro Precision: 0.8774484891951388\n",
      "Macro Recall: 0.8650310606997065\n",
      "Micro F1: 0.8641372141372141\n",
      "Micro Precision: 0.8641372141372141\n",
      "Micro Recall: 0.8641372141372141\n",
      "Early stopped training\n",
      "--------------------------------------------------\n"
     ]
    },
    {
     "data": {
      "text/html": [
       "Waiting for W&B process to finish... <strong style=\"color:green\">(success).</strong>"
      ],
      "text/plain": [
       "<IPython.core.display.HTML object>"
      ]
     },
     "metadata": {},
     "output_type": "display_data"
    },
    {
     "data": {
      "application/vnd.jupyter.widget-view+json": {
       "model_id": "1bc69318c346406e8983ed55711c160e",
       "version_major": 2,
       "version_minor": 0
      },
      "text/plain": [
       "VBox(children=(Label(value='0.005 MB of 0.005 MB uploaded (0.000 MB deduped)\\r'), FloatProgress(value=1.0, max…"
      ]
     },
     "metadata": {},
     "output_type": "display_data"
    },
    {
     "data": {
      "text/html": [
       "<style>\n",
       "    table.wandb td:nth-child(1) { padding: 0 10px; text-align: left ; width: auto;} td:nth-child(2) {text-align: left ; width: 100%}\n",
       "    .wandb-row { display: flex; flex-direction: row; flex-wrap: wrap; justify-content: flex-start; width: 100% }\n",
       "    .wandb-col { display: flex; flex-direction: column; flex-basis: 100%; flex: 1; padding: 10px; }\n",
       "    </style>\n",
       "<div class=\"wandb-row\"><div class=\"wandb-col\"><h3>Run history:</h3><br/><table class=\"wandb\"><tr><td>Epoch</td><td>▁▃▆█</td></tr><tr><td>Train Loss</td><td>█▄▂▁</td></tr><tr><td>Validation Loss</td><td>▂▁▂█</td></tr></table><br/></div><div class=\"wandb-col\"><h3>Run summary:</h3><br/><table class=\"wandb\"><tr><td>Epoch</td><td>4</td></tr><tr><td>Train Loss</td><td>0.00161</td></tr><tr><td>Validation Loss</td><td>0.00338</td></tr></table><br/></div></div>"
      ],
      "text/plain": [
       "<IPython.core.display.HTML object>"
      ]
     },
     "metadata": {},
     "output_type": "display_data"
    },
    {
     "data": {
      "text/html": [
       " View run <strong style=\"color:#cdcd00\">Italian-LEGAL-BERT-Trial12</strong> at: <a href='https://wandb.ai/gmarinowandb-8601/RhetoricalRolesClassification-ITA-RhetRoles/runs/pn2sydcb' target=\"_blank\">https://wandb.ai/gmarinowandb-8601/RhetoricalRolesClassification-ITA-RhetRoles/runs/pn2sydcb</a><br/>Synced 5 W&B file(s), 0 media file(s), 0 artifact file(s) and 0 other file(s)"
      ],
      "text/plain": [
       "<IPython.core.display.HTML object>"
      ]
     },
     "metadata": {},
     "output_type": "display_data"
    },
    {
     "data": {
      "text/html": [
       "Find logs at: <code>./wandb/run-20230424_202721-pn2sydcb/logs</code>"
      ],
      "text/plain": [
       "<IPython.core.display.HTML object>"
      ]
     },
     "metadata": {},
     "output_type": "display_data"
    },
    {
     "name": "stderr",
     "output_type": "stream",
     "text": [
      "\u001b[32m[I 2023-04-24 20:35:27,418]\u001b[0m Trial 12 finished with value: 0.0027747247368097305 and parameters: {'lr': 6.49435749751354e-05, 'weight_decay': 0.053536308903641604}. Best is trial 12 with value: 0.0027747247368097305.\u001b[0m\n"
     ]
    },
    {
     "name": "stdout",
     "output_type": "stream",
     "text": [
      "\n",
      "************************ Starting New Optuna Trial ************************\n",
      "\n"
     ]
    },
    {
     "name": "stderr",
     "output_type": "stream",
     "text": [
      "Some weights of the model checkpoint at dlicari/Italian-Legal-BERT were not used when initializing BertForSequenceClassification: ['cls.predictions.transform.dense.weight', 'cls.predictions.decoder.weight', 'cls.predictions.transform.dense.bias', 'cls.predictions.bias', 'cls.predictions.decoder.bias', 'cls.predictions.transform.LayerNorm.weight', 'cls.predictions.transform.LayerNorm.bias']\n",
      "- This IS expected if you are initializing BertForSequenceClassification from the checkpoint of a model trained on another task or with another architecture (e.g. initializing a BertForSequenceClassification model from a BertForPreTraining model).\n",
      "- This IS NOT expected if you are initializing BertForSequenceClassification from the checkpoint of a model that you expect to be exactly identical (initializing a BertForSequenceClassification model from a BertForSequenceClassification model).\n",
      "Some weights of BertForSequenceClassification were not initialized from the model checkpoint at dlicari/Italian-Legal-BERT and are newly initialized: ['classifier.weight', 'classifier.bias', 'bert.pooler.dense.weight', 'bert.pooler.dense.bias']\n",
      "You should probably TRAIN this model on a down-stream task to be able to use it for predictions and inference.\n"
     ]
    },
    {
     "data": {
      "text/html": [
       "wandb version 0.15.0 is available!  To upgrade, please run:\n",
       " $ pip install wandb --upgrade"
      ],
      "text/plain": [
       "<IPython.core.display.HTML object>"
      ]
     },
     "metadata": {},
     "output_type": "display_data"
    },
    {
     "data": {
      "text/html": [
       "Tracking run with wandb version 0.13.10"
      ],
      "text/plain": [
       "<IPython.core.display.HTML object>"
      ]
     },
     "metadata": {},
     "output_type": "display_data"
    },
    {
     "data": {
      "text/html": [
       "Run data is saved locally in <code>/home/g.marino/Desktop/GA/RhetoricalRolesClassification/ITA-RhetRoles/wandb/run-20230424_203528-d1db11v3</code>"
      ],
      "text/plain": [
       "<IPython.core.display.HTML object>"
      ]
     },
     "metadata": {},
     "output_type": "display_data"
    },
    {
     "data": {
      "text/html": [
       "Syncing run <strong><a href='https://wandb.ai/gmarinowandb-8601/RhetoricalRolesClassification-ITA-RhetRoles/runs/d1db11v3' target=\"_blank\">Italian-LEGAL-BERT-Trial13</a></strong> to <a href='https://wandb.ai/gmarinowandb-8601/RhetoricalRolesClassification-ITA-RhetRoles' target=\"_blank\">Weights & Biases</a> (<a href='https://wandb.me/run' target=\"_blank\">docs</a>)<br/>"
      ],
      "text/plain": [
       "<IPython.core.display.HTML object>"
      ]
     },
     "metadata": {},
     "output_type": "display_data"
    },
    {
     "data": {
      "text/html": [
       " View project at <a href='https://wandb.ai/gmarinowandb-8601/RhetoricalRolesClassification-ITA-RhetRoles' target=\"_blank\">https://wandb.ai/gmarinowandb-8601/RhetoricalRolesClassification-ITA-RhetRoles</a>"
      ],
      "text/plain": [
       "<IPython.core.display.HTML object>"
      ]
     },
     "metadata": {},
     "output_type": "display_data"
    },
    {
     "data": {
      "text/html": [
       " View run at <a href='https://wandb.ai/gmarinowandb-8601/RhetoricalRolesClassification-ITA-RhetRoles/runs/d1db11v3' target=\"_blank\">https://wandb.ai/gmarinowandb-8601/RhetoricalRolesClassification-ITA-RhetRoles/runs/d1db11v3</a>"
      ],
      "text/plain": [
       "<IPython.core.display.HTML object>"
      ]
     },
     "metadata": {},
     "output_type": "display_data"
    },
    {
     "name": "stdout",
     "output_type": "stream",
     "text": [
      "\n",
      "************** Training Started **************\n",
      "\n",
      "EPOCH N. 1\n"
     ]
    },
    {
     "name": "stderr",
     "output_type": "stream",
     "text": [
      "532it [01:46,  4.99it/s]\n"
     ]
    },
    {
     "name": "stdout",
     "output_type": "stream",
     "text": [
      "\n",
      "TRAIN RESULTS\n",
      "Loss: 0.00410772282775904\n",
      "Accuracy: 0.8008880785743693\n",
      "MCC: 0.6841015070502339\n",
      "Macro F1: 0.7818494744550982\n",
      "Macro Precision: 0.8114523339348667\n",
      "Macro Recall: 0.7610160356117284\n",
      "Micro F1: 0.8008880785743693\n",
      "Micro Precision: 0.8008880785743693\n",
      "Micro Recall: 0.8008880785743693\n",
      "\n",
      "VALIDATION RESULTS\n",
      "Loss: 0.002925393171608448\n",
      "Accuracy: 0.8601871101871101\n",
      "MCC: 0.7851544343664127\n",
      "Macro F1: 0.8692455127377962\n",
      "Macro Precision: 0.8681357313269353\n",
      "Macro Recall: 0.870628033225765\n",
      "Micro F1: 0.8601871101871101\n",
      "Micro Precision: 0.8601871101871101\n",
      "Micro Recall: 0.8601871101871101\n",
      "--------------------------------------------------\n",
      "EPOCH N. 2\n"
     ]
    },
    {
     "name": "stderr",
     "output_type": "stream",
     "text": [
      "532it [01:44,  5.10it/s]\n"
     ]
    },
    {
     "name": "stdout",
     "output_type": "stream",
     "text": [
      "\n",
      "TRAIN RESULTS\n",
      "Loss: 0.0024417894128570907\n",
      "Accuracy: 0.8815209080750456\n",
      "MCC: 0.8146687804287527\n",
      "Macro F1: 0.8843650777379191\n",
      "Macro Precision: 0.8892674348133738\n",
      "Macro Recall: 0.8806633780246654\n",
      "Micro F1: 0.8815209080750456\n",
      "Micro Precision: 0.8815209080750456\n",
      "Micro Recall: 0.8815209080750456\n",
      "\n",
      "VALIDATION RESULTS\n",
      "Loss: 0.0029580360278487206\n",
      "Accuracy: 0.8625779625779626\n",
      "MCC: 0.7916725642385212\n",
      "Macro F1: 0.8736336962518048\n",
      "Macro Precision: 0.8706496550787314\n",
      "Macro Recall: 0.8773551355611264\n",
      "Micro F1: 0.8625779625779627\n",
      "Micro Precision: 0.8625779625779626\n",
      "Micro Recall: 0.8625779625779626\n",
      "--------------------------------------------------\n",
      "EPOCH N. 3\n"
     ]
    },
    {
     "name": "stderr",
     "output_type": "stream",
     "text": [
      "532it [01:45,  5.05it/s]\n"
     ]
    },
    {
     "name": "stdout",
     "output_type": "stream",
     "text": [
      "\n",
      "TRAIN RESULTS\n",
      "Loss: 0.0019177570317926698\n",
      "Accuracy: 0.9068987825677821\n",
      "MCC: 0.8546448574584858\n",
      "Macro F1: 0.9086646674682651\n",
      "Macro Precision: 0.9120512014576269\n",
      "Macro Recall: 0.9058166139268009\n",
      "Micro F1: 0.9068987825677821\n",
      "Micro Precision: 0.9068987825677821\n",
      "Micro Recall: 0.9068987825677821\n",
      "\n",
      "VALIDATION RESULTS\n",
      "Loss: 0.0032323936466127634\n",
      "Accuracy: 0.8663201663201663\n",
      "MCC: 0.7921793977533765\n",
      "Macro F1: 0.8716197999080985\n",
      "Macro Precision: 0.8901558689305371\n",
      "Macro Recall: 0.8563220952084623\n",
      "Micro F1: 0.8663201663201663\n",
      "Micro Precision: 0.8663201663201663\n",
      "Micro Recall: 0.8663201663201663\n",
      "Early stopped training\n",
      "--------------------------------------------------\n"
     ]
    },
    {
     "data": {
      "text/html": [
       "Waiting for W&B process to finish... <strong style=\"color:green\">(success).</strong>"
      ],
      "text/plain": [
       "<IPython.core.display.HTML object>"
      ]
     },
     "metadata": {},
     "output_type": "display_data"
    },
    {
     "data": {
      "application/vnd.jupyter.widget-view+json": {
       "model_id": "fe5be1a2102d46aa9f153ef9a3f7fc3e",
       "version_major": 2,
       "version_minor": 0
      },
      "text/plain": [
       "VBox(children=(Label(value='0.005 MB of 0.005 MB uploaded (0.000 MB deduped)\\r'), FloatProgress(value=1.0, max…"
      ]
     },
     "metadata": {},
     "output_type": "display_data"
    },
    {
     "data": {
      "text/html": [
       "<style>\n",
       "    table.wandb td:nth-child(1) { padding: 0 10px; text-align: left ; width: auto;} td:nth-child(2) {text-align: left ; width: 100%}\n",
       "    .wandb-row { display: flex; flex-direction: row; flex-wrap: wrap; justify-content: flex-start; width: 100% }\n",
       "    .wandb-col { display: flex; flex-direction: column; flex-basis: 100%; flex: 1; padding: 10px; }\n",
       "    </style>\n",
       "<div class=\"wandb-row\"><div class=\"wandb-col\"><h3>Run history:</h3><br/><table class=\"wandb\"><tr><td>Epoch</td><td>▁▅█</td></tr><tr><td>Train Loss</td><td>█▃▁</td></tr><tr><td>Validation Loss</td><td>▁▂█</td></tr></table><br/></div><div class=\"wandb-col\"><h3>Run summary:</h3><br/><table class=\"wandb\"><tr><td>Epoch</td><td>3</td></tr><tr><td>Train Loss</td><td>0.00192</td></tr><tr><td>Validation Loss</td><td>0.00323</td></tr></table><br/></div></div>"
      ],
      "text/plain": [
       "<IPython.core.display.HTML object>"
      ]
     },
     "metadata": {},
     "output_type": "display_data"
    },
    {
     "data": {
      "text/html": [
       " View run <strong style=\"color:#cdcd00\">Italian-LEGAL-BERT-Trial13</strong> at: <a href='https://wandb.ai/gmarinowandb-8601/RhetoricalRolesClassification-ITA-RhetRoles/runs/d1db11v3' target=\"_blank\">https://wandb.ai/gmarinowandb-8601/RhetoricalRolesClassification-ITA-RhetRoles/runs/d1db11v3</a><br/>Synced 5 W&B file(s), 0 media file(s), 0 artifact file(s) and 0 other file(s)"
      ],
      "text/plain": [
       "<IPython.core.display.HTML object>"
      ]
     },
     "metadata": {},
     "output_type": "display_data"
    },
    {
     "data": {
      "text/html": [
       "Find logs at: <code>./wandb/run-20230424_203528-d1db11v3/logs</code>"
      ],
      "text/plain": [
       "<IPython.core.display.HTML object>"
      ]
     },
     "metadata": {},
     "output_type": "display_data"
    },
    {
     "name": "stderr",
     "output_type": "stream",
     "text": [
      "\u001b[32m[I 2023-04-24 20:41:40,382]\u001b[0m Trial 13 finished with value: 0.002925393171608448 and parameters: {'lr': 0.00010234349136014419, 'weight_decay': 0.04341423763040709}. Best is trial 12 with value: 0.0027747247368097305.\u001b[0m\n"
     ]
    },
    {
     "name": "stdout",
     "output_type": "stream",
     "text": [
      "\n",
      "************************ Starting New Optuna Trial ************************\n",
      "\n"
     ]
    },
    {
     "name": "stderr",
     "output_type": "stream",
     "text": [
      "Some weights of the model checkpoint at dlicari/Italian-Legal-BERT were not used when initializing BertForSequenceClassification: ['cls.predictions.transform.dense.weight', 'cls.predictions.decoder.weight', 'cls.predictions.transform.dense.bias', 'cls.predictions.bias', 'cls.predictions.decoder.bias', 'cls.predictions.transform.LayerNorm.weight', 'cls.predictions.transform.LayerNorm.bias']\n",
      "- This IS expected if you are initializing BertForSequenceClassification from the checkpoint of a model trained on another task or with another architecture (e.g. initializing a BertForSequenceClassification model from a BertForPreTraining model).\n",
      "- This IS NOT expected if you are initializing BertForSequenceClassification from the checkpoint of a model that you expect to be exactly identical (initializing a BertForSequenceClassification model from a BertForSequenceClassification model).\n",
      "Some weights of BertForSequenceClassification were not initialized from the model checkpoint at dlicari/Italian-Legal-BERT and are newly initialized: ['classifier.weight', 'classifier.bias', 'bert.pooler.dense.weight', 'bert.pooler.dense.bias']\n",
      "You should probably TRAIN this model on a down-stream task to be able to use it for predictions and inference.\n"
     ]
    },
    {
     "data": {
      "text/html": [
       "wandb version 0.15.0 is available!  To upgrade, please run:\n",
       " $ pip install wandb --upgrade"
      ],
      "text/plain": [
       "<IPython.core.display.HTML object>"
      ]
     },
     "metadata": {},
     "output_type": "display_data"
    },
    {
     "data": {
      "text/html": [
       "Tracking run with wandb version 0.13.10"
      ],
      "text/plain": [
       "<IPython.core.display.HTML object>"
      ]
     },
     "metadata": {},
     "output_type": "display_data"
    },
    {
     "data": {
      "text/html": [
       "Run data is saved locally in <code>/home/g.marino/Desktop/GA/RhetoricalRolesClassification/ITA-RhetRoles/wandb/run-20230424_204141-autlltb7</code>"
      ],
      "text/plain": [
       "<IPython.core.display.HTML object>"
      ]
     },
     "metadata": {},
     "output_type": "display_data"
    },
    {
     "data": {
      "text/html": [
       "Syncing run <strong><a href='https://wandb.ai/gmarinowandb-8601/RhetoricalRolesClassification-ITA-RhetRoles/runs/autlltb7' target=\"_blank\">Italian-LEGAL-BERT-Trial14</a></strong> to <a href='https://wandb.ai/gmarinowandb-8601/RhetoricalRolesClassification-ITA-RhetRoles' target=\"_blank\">Weights & Biases</a> (<a href='https://wandb.me/run' target=\"_blank\">docs</a>)<br/>"
      ],
      "text/plain": [
       "<IPython.core.display.HTML object>"
      ]
     },
     "metadata": {},
     "output_type": "display_data"
    },
    {
     "data": {
      "text/html": [
       " View project at <a href='https://wandb.ai/gmarinowandb-8601/RhetoricalRolesClassification-ITA-RhetRoles' target=\"_blank\">https://wandb.ai/gmarinowandb-8601/RhetoricalRolesClassification-ITA-RhetRoles</a>"
      ],
      "text/plain": [
       "<IPython.core.display.HTML object>"
      ]
     },
     "metadata": {},
     "output_type": "display_data"
    },
    {
     "data": {
      "text/html": [
       " View run at <a href='https://wandb.ai/gmarinowandb-8601/RhetoricalRolesClassification-ITA-RhetRoles/runs/autlltb7' target=\"_blank\">https://wandb.ai/gmarinowandb-8601/RhetoricalRolesClassification-ITA-RhetRoles/runs/autlltb7</a>"
      ],
      "text/plain": [
       "<IPython.core.display.HTML object>"
      ]
     },
     "metadata": {},
     "output_type": "display_data"
    },
    {
     "name": "stdout",
     "output_type": "stream",
     "text": [
      "\n",
      "************** Training Started **************\n",
      "\n",
      "EPOCH N. 1\n"
     ]
    },
    {
     "name": "stderr",
     "output_type": "stream",
     "text": [
      "532it [01:43,  5.12it/s]\n"
     ]
    },
    {
     "name": "stdout",
     "output_type": "stream",
     "text": [
      "\n",
      "TRAIN RESULTS\n",
      "Loss: 0.0036828805608853997\n",
      "Accuracy: 0.8240604599188378\n",
      "MCC: 0.7228949851992954\n",
      "Macro F1: 0.816983055229368\n",
      "Macro Precision: 0.8341473819496079\n",
      "Macro Recall: 0.8054086108857108\n",
      "Micro F1: 0.8240604599188378\n",
      "Micro Precision: 0.8240604599188378\n",
      "Micro Recall: 0.8240604599188378\n",
      "\n",
      "VALIDATION RESULTS\n",
      "Loss: 0.0028781082946807146\n",
      "Accuracy: 0.866008316008316\n",
      "MCC: 0.7934517400430086\n",
      "Macro F1: 0.8717644762273477\n",
      "Macro Precision: 0.8783850032766385\n",
      "Macro Recall: 0.8682409959827092\n",
      "Micro F1: 0.866008316008316\n",
      "Micro Precision: 0.866008316008316\n",
      "Micro Recall: 0.866008316008316\n",
      "--------------------------------------------------\n",
      "EPOCH N. 2\n"
     ]
    },
    {
     "name": "stderr",
     "output_type": "stream",
     "text": [
      "532it [01:42,  5.17it/s]\n"
     ]
    },
    {
     "name": "stdout",
     "output_type": "stream",
     "text": [
      "\n",
      "TRAIN RESULTS\n",
      "Loss: 0.002468815525475652\n",
      "Accuracy: 0.8810062930071164\n",
      "MCC: 0.8141392552071575\n",
      "Macro F1: 0.8852630662625633\n",
      "Macro Precision: 0.8883804375347333\n",
      "Macro Recall: 0.8837863008174827\n",
      "Micro F1: 0.8810062930071164\n",
      "Micro Precision: 0.8810062930071164\n",
      "Micro Recall: 0.8810062930071164\n",
      "\n",
      "VALIDATION RESULTS\n",
      "Loss: 0.002836876083165407\n",
      "Accuracy: 0.8727650727650728\n",
      "MCC: 0.8039392107496413\n",
      "Macro F1: 0.8764700697042835\n",
      "Macro Precision: 0.8800397185587711\n",
      "Macro Recall: 0.8747674646136195\n",
      "Micro F1: 0.8727650727650728\n",
      "Micro Precision: 0.8727650727650728\n",
      "Micro Recall: 0.8727650727650728\n",
      "--------------------------------------------------\n",
      "EPOCH N. 3\n"
     ]
    },
    {
     "name": "stderr",
     "output_type": "stream",
     "text": [
      "532it [01:53,  4.69it/s]\n"
     ]
    },
    {
     "name": "stdout",
     "output_type": "stream",
     "text": [
      "\n",
      "TRAIN RESULTS\n",
      "Loss: 0.001991365287201633\n",
      "Accuracy: 0.904061048050344\n",
      "MCC: 0.850254266066647\n",
      "Macro F1: 0.9068002303248814\n",
      "Macro Precision: 0.9095305405126128\n",
      "Macro Recall: 0.9046886232149278\n",
      "Micro F1: 0.904061048050344\n",
      "Micro Precision: 0.904061048050344\n",
      "Micro Recall: 0.904061048050344\n",
      "\n",
      "VALIDATION RESULTS\n",
      "Loss: 0.0030357278883457184\n",
      "Accuracy: 0.8675675675675676\n",
      "MCC: 0.7949159624121139\n",
      "Macro F1: 0.8737973745829803\n",
      "Macro Precision: 0.8844221037483612\n",
      "Macro Recall: 0.8640082107378152\n",
      "Micro F1: 0.8675675675675676\n",
      "Micro Precision: 0.8675675675675676\n",
      "Micro Recall: 0.8675675675675676\n",
      "--------------------------------------------------\n",
      "EPOCH N. 4\n"
     ]
    },
    {
     "name": "stderr",
     "output_type": "stream",
     "text": [
      "532it [01:47,  4.95it/s]\n"
     ]
    },
    {
     "name": "stdout",
     "output_type": "stream",
     "text": [
      "\n",
      "TRAIN RESULTS\n",
      "Loss: 0.0016087267231471131\n",
      "Accuracy: 0.9233958713168264\n",
      "MCC: 0.8805193293076251\n",
      "Macro F1: 0.9243254813063263\n",
      "Macro Precision: 0.9267085922757327\n",
      "Macro Recall: 0.9221932755685784\n",
      "Micro F1: 0.9233958713168264\n",
      "Micro Precision: 0.9233958713168264\n",
      "Micro Recall: 0.9233958713168264\n",
      "\n",
      "VALIDATION RESULTS\n",
      "Loss: 0.003210958791896701\n",
      "Accuracy: 0.8689189189189189\n",
      "MCC: 0.7976139317979265\n",
      "Macro F1: 0.8780950080171802\n",
      "Macro Precision: 0.8829421078863078\n",
      "Macro Recall: 0.873747279163428\n",
      "Micro F1: 0.8689189189189189\n",
      "Micro Precision: 0.8689189189189189\n",
      "Micro Recall: 0.8689189189189189\n",
      "Early stopped training\n",
      "--------------------------------------------------\n"
     ]
    },
    {
     "data": {
      "text/html": [
       "Waiting for W&B process to finish... <strong style=\"color:green\">(success).</strong>"
      ],
      "text/plain": [
       "<IPython.core.display.HTML object>"
      ]
     },
     "metadata": {},
     "output_type": "display_data"
    },
    {
     "data": {
      "application/vnd.jupyter.widget-view+json": {
       "model_id": "7b9d2a7edf264301a7b1d76645959fb2",
       "version_major": 2,
       "version_minor": 0
      },
      "text/plain": [
       "VBox(children=(Label(value='0.005 MB of 0.005 MB uploaded (0.000 MB deduped)\\r'), FloatProgress(value=1.0, max…"
      ]
     },
     "metadata": {},
     "output_type": "display_data"
    },
    {
     "data": {
      "text/html": [
       "<style>\n",
       "    table.wandb td:nth-child(1) { padding: 0 10px; text-align: left ; width: auto;} td:nth-child(2) {text-align: left ; width: 100%}\n",
       "    .wandb-row { display: flex; flex-direction: row; flex-wrap: wrap; justify-content: flex-start; width: 100% }\n",
       "    .wandb-col { display: flex; flex-direction: column; flex-basis: 100%; flex: 1; padding: 10px; }\n",
       "    </style>\n",
       "<div class=\"wandb-row\"><div class=\"wandb-col\"><h3>Run history:</h3><br/><table class=\"wandb\"><tr><td>Epoch</td><td>▁▃▆█</td></tr><tr><td>Train Loss</td><td>█▄▂▁</td></tr><tr><td>Validation Loss</td><td>▂▁▅█</td></tr></table><br/></div><div class=\"wandb-col\"><h3>Run summary:</h3><br/><table class=\"wandb\"><tr><td>Epoch</td><td>4</td></tr><tr><td>Train Loss</td><td>0.00161</td></tr><tr><td>Validation Loss</td><td>0.00321</td></tr></table><br/></div></div>"
      ],
      "text/plain": [
       "<IPython.core.display.HTML object>"
      ]
     },
     "metadata": {},
     "output_type": "display_data"
    },
    {
     "data": {
      "text/html": [
       " View run <strong style=\"color:#cdcd00\">Italian-LEGAL-BERT-Trial14</strong> at: <a href='https://wandb.ai/gmarinowandb-8601/RhetoricalRolesClassification-ITA-RhetRoles/runs/autlltb7' target=\"_blank\">https://wandb.ai/gmarinowandb-8601/RhetoricalRolesClassification-ITA-RhetRoles/runs/autlltb7</a><br/>Synced 5 W&B file(s), 0 media file(s), 0 artifact file(s) and 0 other file(s)"
      ],
      "text/plain": [
       "<IPython.core.display.HTML object>"
      ]
     },
     "metadata": {},
     "output_type": "display_data"
    },
    {
     "data": {
      "text/html": [
       "Find logs at: <code>./wandb/run-20230424_204141-autlltb7/logs</code>"
      ],
      "text/plain": [
       "<IPython.core.display.HTML object>"
      ]
     },
     "metadata": {},
     "output_type": "display_data"
    },
    {
     "name": "stderr",
     "output_type": "stream",
     "text": [
      "\u001b[32m[I 2023-04-24 20:50:00,746]\u001b[0m Trial 14 finished with value: 0.002836876083165407 and parameters: {'lr': 7.26479498465391e-05, 'weight_decay': 0.05156522349680512}. Best is trial 12 with value: 0.0027747247368097305.\u001b[0m\n"
     ]
    },
    {
     "name": "stdout",
     "output_type": "stream",
     "text": [
      "\n",
      "************************ Starting New Optuna Trial ************************\n",
      "\n"
     ]
    },
    {
     "name": "stderr",
     "output_type": "stream",
     "text": [
      "Some weights of the model checkpoint at dlicari/Italian-Legal-BERT were not used when initializing BertForSequenceClassification: ['cls.predictions.transform.dense.weight', 'cls.predictions.decoder.weight', 'cls.predictions.transform.dense.bias', 'cls.predictions.bias', 'cls.predictions.decoder.bias', 'cls.predictions.transform.LayerNorm.weight', 'cls.predictions.transform.LayerNorm.bias']\n",
      "- This IS expected if you are initializing BertForSequenceClassification from the checkpoint of a model trained on another task or with another architecture (e.g. initializing a BertForSequenceClassification model from a BertForPreTraining model).\n",
      "- This IS NOT expected if you are initializing BertForSequenceClassification from the checkpoint of a model that you expect to be exactly identical (initializing a BertForSequenceClassification model from a BertForSequenceClassification model).\n",
      "Some weights of BertForSequenceClassification were not initialized from the model checkpoint at dlicari/Italian-Legal-BERT and are newly initialized: ['classifier.weight', 'classifier.bias', 'bert.pooler.dense.weight', 'bert.pooler.dense.bias']\n",
      "You should probably TRAIN this model on a down-stream task to be able to use it for predictions and inference.\n"
     ]
    },
    {
     "data": {
      "text/html": [
       "wandb version 0.15.0 is available!  To upgrade, please run:\n",
       " $ pip install wandb --upgrade"
      ],
      "text/plain": [
       "<IPython.core.display.HTML object>"
      ]
     },
     "metadata": {},
     "output_type": "display_data"
    },
    {
     "data": {
      "text/html": [
       "Tracking run with wandb version 0.13.10"
      ],
      "text/plain": [
       "<IPython.core.display.HTML object>"
      ]
     },
     "metadata": {},
     "output_type": "display_data"
    },
    {
     "data": {
      "text/html": [
       "Run data is saved locally in <code>/home/g.marino/Desktop/GA/RhetoricalRolesClassification/ITA-RhetRoles/wandb/run-20230424_205002-g8ja94ij</code>"
      ],
      "text/plain": [
       "<IPython.core.display.HTML object>"
      ]
     },
     "metadata": {},
     "output_type": "display_data"
    },
    {
     "data": {
      "text/html": [
       "Syncing run <strong><a href='https://wandb.ai/gmarinowandb-8601/RhetoricalRolesClassification-ITA-RhetRoles/runs/g8ja94ij' target=\"_blank\">Italian-LEGAL-BERT-Trial15</a></strong> to <a href='https://wandb.ai/gmarinowandb-8601/RhetoricalRolesClassification-ITA-RhetRoles' target=\"_blank\">Weights & Biases</a> (<a href='https://wandb.me/run' target=\"_blank\">docs</a>)<br/>"
      ],
      "text/plain": [
       "<IPython.core.display.HTML object>"
      ]
     },
     "metadata": {},
     "output_type": "display_data"
    },
    {
     "data": {
      "text/html": [
       " View project at <a href='https://wandb.ai/gmarinowandb-8601/RhetoricalRolesClassification-ITA-RhetRoles' target=\"_blank\">https://wandb.ai/gmarinowandb-8601/RhetoricalRolesClassification-ITA-RhetRoles</a>"
      ],
      "text/plain": [
       "<IPython.core.display.HTML object>"
      ]
     },
     "metadata": {},
     "output_type": "display_data"
    },
    {
     "data": {
      "text/html": [
       " View run at <a href='https://wandb.ai/gmarinowandb-8601/RhetoricalRolesClassification-ITA-RhetRoles/runs/g8ja94ij' target=\"_blank\">https://wandb.ai/gmarinowandb-8601/RhetoricalRolesClassification-ITA-RhetRoles/runs/g8ja94ij</a>"
      ],
      "text/plain": [
       "<IPython.core.display.HTML object>"
      ]
     },
     "metadata": {},
     "output_type": "display_data"
    },
    {
     "name": "stdout",
     "output_type": "stream",
     "text": [
      "\n",
      "************** Training Started **************\n",
      "\n",
      "EPOCH N. 1\n"
     ]
    },
    {
     "name": "stderr",
     "output_type": "stream",
     "text": [
      "532it [01:50,  4.81it/s]\n"
     ]
    },
    {
     "name": "stdout",
     "output_type": "stream",
     "text": [
      "\n",
      "TRAIN RESULTS\n",
      "Loss: 0.0034221123356468737\n",
      "Accuracy: 0.833794036346527\n",
      "MCC: 0.7390828307019124\n",
      "Macro F1: 0.831027800079589\n",
      "Macro Precision: 0.8409097957100657\n",
      "Macro Recall: 0.8254470853124488\n",
      "Micro F1: 0.833794036346527\n",
      "Micro Precision: 0.833794036346527\n",
      "Micro Recall: 0.833794036346527\n",
      "\n",
      "VALIDATION RESULTS\n",
      "Loss: 0.002925364300608635\n",
      "Accuracy: 0.8601871101871101\n",
      "MCC: 0.7834138885207035\n",
      "Macro F1: 0.8672937932283205\n",
      "Macro Precision: 0.877766285495673\n",
      "Macro Recall: 0.8576753091348921\n",
      "Micro F1: 0.8601871101871101\n",
      "Micro Precision: 0.8601871101871101\n",
      "Micro Recall: 0.8601871101871101\n",
      "--------------------------------------------------\n",
      "EPOCH N. 2\n"
     ]
    },
    {
     "name": "stderr",
     "output_type": "stream",
     "text": [
      "532it [01:44,  5.10it/s]\n"
     ]
    },
    {
     "name": "stdout",
     "output_type": "stream",
     "text": [
      "\n",
      "TRAIN RESULTS\n",
      "Loss: 0.0028111859209564286\n",
      "Accuracy: 0.8629065459036641\n",
      "MCC: 0.7846806350308037\n",
      "Macro F1: 0.8616322341789535\n",
      "Macro Precision: 0.8722506375340208\n",
      "Macro Recall: 0.8525226360787205\n",
      "Micro F1: 0.8629065459036641\n",
      "Micro Precision: 0.8629065459036641\n",
      "Micro Recall: 0.8629065459036641\n",
      "\n",
      "VALIDATION RESULTS\n",
      "Loss: 0.007336540147662163\n",
      "Accuracy: 0.6511434511434512\n",
      "MCC: 0.41844079276899965\n",
      "Macro F1: 0.5353182098821577\n",
      "Macro Precision: 0.748303574857043\n",
      "Macro Recall: 0.46772437920241466\n",
      "Micro F1: 0.6511434511434512\n",
      "Micro Precision: 0.6511434511434512\n",
      "Micro Recall: 0.6511434511434512\n",
      "--------------------------------------------------\n",
      "EPOCH N. 3\n"
     ]
    },
    {
     "name": "stderr",
     "output_type": "stream",
     "text": [
      "532it [01:46,  5.02it/s]\n"
     ]
    },
    {
     "name": "stdout",
     "output_type": "stream",
     "text": [
      "\n",
      "TRAIN RESULTS\n",
      "Loss: 0.002366416079170149\n",
      "Accuracy: 0.8857407516320649\n",
      "MCC: 0.820704083592889\n",
      "Macro F1: 0.8850712759520037\n",
      "Macro Precision: 0.8970594154640168\n",
      "Macro Recall: 0.8744601410360368\n",
      "Micro F1: 0.8857407516320649\n",
      "Micro Precision: 0.8857407516320649\n",
      "Micro Recall: 0.8857407516320649\n",
      "\n",
      "VALIDATION RESULTS\n",
      "Loss: 0.003097554901614785\n",
      "Accuracy: 0.8674636174636174\n",
      "MCC: 0.7957212869956067\n",
      "Macro F1: 0.8753520056511876\n",
      "Macro Precision: 0.8797288902112793\n",
      "Macro Recall: 0.8723312281693001\n",
      "Micro F1: 0.8674636174636174\n",
      "Micro Precision: 0.8674636174636174\n",
      "Micro Recall: 0.8674636174636174\n",
      "Early stopped training\n",
      "--------------------------------------------------\n"
     ]
    },
    {
     "data": {
      "text/html": [
       "Waiting for W&B process to finish... <strong style=\"color:green\">(success).</strong>"
      ],
      "text/plain": [
       "<IPython.core.display.HTML object>"
      ]
     },
     "metadata": {},
     "output_type": "display_data"
    },
    {
     "data": {
      "text/html": [
       "<style>\n",
       "    table.wandb td:nth-child(1) { padding: 0 10px; text-align: left ; width: auto;} td:nth-child(2) {text-align: left ; width: 100%}\n",
       "    .wandb-row { display: flex; flex-direction: row; flex-wrap: wrap; justify-content: flex-start; width: 100% }\n",
       "    .wandb-col { display: flex; flex-direction: column; flex-basis: 100%; flex: 1; padding: 10px; }\n",
       "    </style>\n",
       "<div class=\"wandb-row\"><div class=\"wandb-col\"><h3>Run history:</h3><br/><table class=\"wandb\"><tr><td>Epoch</td><td>▁▅█</td></tr><tr><td>Train Loss</td><td>█▄▁</td></tr><tr><td>Validation Loss</td><td>▁█▁</td></tr></table><br/></div><div class=\"wandb-col\"><h3>Run summary:</h3><br/><table class=\"wandb\"><tr><td>Epoch</td><td>3</td></tr><tr><td>Train Loss</td><td>0.00237</td></tr><tr><td>Validation Loss</td><td>0.0031</td></tr></table><br/></div></div>"
      ],
      "text/plain": [
       "<IPython.core.display.HTML object>"
      ]
     },
     "metadata": {},
     "output_type": "display_data"
    },
    {
     "data": {
      "text/html": [
       " View run <strong style=\"color:#cdcd00\">Italian-LEGAL-BERT-Trial15</strong> at: <a href='https://wandb.ai/gmarinowandb-8601/RhetoricalRolesClassification-ITA-RhetRoles/runs/g8ja94ij' target=\"_blank\">https://wandb.ai/gmarinowandb-8601/RhetoricalRolesClassification-ITA-RhetRoles/runs/g8ja94ij</a><br/>Synced 5 W&B file(s), 0 media file(s), 0 artifact file(s) and 0 other file(s)"
      ],
      "text/plain": [
       "<IPython.core.display.HTML object>"
      ]
     },
     "metadata": {},
     "output_type": "display_data"
    },
    {
     "data": {
      "text/html": [
       "Find logs at: <code>./wandb/run-20230424_205002-g8ja94ij/logs</code>"
      ],
      "text/plain": [
       "<IPython.core.display.HTML object>"
      ]
     },
     "metadata": {},
     "output_type": "display_data"
    },
    {
     "name": "stderr",
     "output_type": "stream",
     "text": [
      "\u001b[32m[I 2023-04-24 20:56:20,274]\u001b[0m Trial 15 finished with value: 0.002925364300608635 and parameters: {'lr': 0.00018158043615195494, 'weight_decay': 0.05834128234994287}. Best is trial 12 with value: 0.0027747247368097305.\u001b[0m\n"
     ]
    },
    {
     "name": "stdout",
     "output_type": "stream",
     "text": [
      "\n",
      "************************ Starting New Optuna Trial ************************\n",
      "\n"
     ]
    },
    {
     "name": "stderr",
     "output_type": "stream",
     "text": [
      "Some weights of the model checkpoint at dlicari/Italian-Legal-BERT were not used when initializing BertForSequenceClassification: ['cls.predictions.transform.dense.weight', 'cls.predictions.decoder.weight', 'cls.predictions.transform.dense.bias', 'cls.predictions.bias', 'cls.predictions.decoder.bias', 'cls.predictions.transform.LayerNorm.weight', 'cls.predictions.transform.LayerNorm.bias']\n",
      "- This IS expected if you are initializing BertForSequenceClassification from the checkpoint of a model trained on another task or with another architecture (e.g. initializing a BertForSequenceClassification model from a BertForPreTraining model).\n",
      "- This IS NOT expected if you are initializing BertForSequenceClassification from the checkpoint of a model that you expect to be exactly identical (initializing a BertForSequenceClassification model from a BertForSequenceClassification model).\n",
      "Some weights of BertForSequenceClassification were not initialized from the model checkpoint at dlicari/Italian-Legal-BERT and are newly initialized: ['classifier.weight', 'classifier.bias', 'bert.pooler.dense.weight', 'bert.pooler.dense.bias']\n",
      "You should probably TRAIN this model on a down-stream task to be able to use it for predictions and inference.\n"
     ]
    },
    {
     "data": {
      "text/html": [
       "wandb version 0.15.0 is available!  To upgrade, please run:\n",
       " $ pip install wandb --upgrade"
      ],
      "text/plain": [
       "<IPython.core.display.HTML object>"
      ]
     },
     "metadata": {},
     "output_type": "display_data"
    },
    {
     "data": {
      "text/html": [
       "Tracking run with wandb version 0.13.10"
      ],
      "text/plain": [
       "<IPython.core.display.HTML object>"
      ]
     },
     "metadata": {},
     "output_type": "display_data"
    },
    {
     "data": {
      "text/html": [
       "Run data is saved locally in <code>/home/g.marino/Desktop/GA/RhetoricalRolesClassification/ITA-RhetRoles/wandb/run-20230424_205621-z195fe5h</code>"
      ],
      "text/plain": [
       "<IPython.core.display.HTML object>"
      ]
     },
     "metadata": {},
     "output_type": "display_data"
    },
    {
     "data": {
      "text/html": [
       "Syncing run <strong><a href='https://wandb.ai/gmarinowandb-8601/RhetoricalRolesClassification-ITA-RhetRoles/runs/z195fe5h' target=\"_blank\">Italian-LEGAL-BERT-Trial16</a></strong> to <a href='https://wandb.ai/gmarinowandb-8601/RhetoricalRolesClassification-ITA-RhetRoles' target=\"_blank\">Weights & Biases</a> (<a href='https://wandb.me/run' target=\"_blank\">docs</a>)<br/>"
      ],
      "text/plain": [
       "<IPython.core.display.HTML object>"
      ]
     },
     "metadata": {},
     "output_type": "display_data"
    },
    {
     "data": {
      "text/html": [
       " View project at <a href='https://wandb.ai/gmarinowandb-8601/RhetoricalRolesClassification-ITA-RhetRoles' target=\"_blank\">https://wandb.ai/gmarinowandb-8601/RhetoricalRolesClassification-ITA-RhetRoles</a>"
      ],
      "text/plain": [
       "<IPython.core.display.HTML object>"
      ]
     },
     "metadata": {},
     "output_type": "display_data"
    },
    {
     "data": {
      "text/html": [
       " View run at <a href='https://wandb.ai/gmarinowandb-8601/RhetoricalRolesClassification-ITA-RhetRoles/runs/z195fe5h' target=\"_blank\">https://wandb.ai/gmarinowandb-8601/RhetoricalRolesClassification-ITA-RhetRoles/runs/z195fe5h</a>"
      ],
      "text/plain": [
       "<IPython.core.display.HTML object>"
      ]
     },
     "metadata": {},
     "output_type": "display_data"
    },
    {
     "name": "stdout",
     "output_type": "stream",
     "text": [
      "\n",
      "************** Training Started **************\n",
      "\n",
      "EPOCH N. 1\n"
     ]
    },
    {
     "name": "stderr",
     "output_type": "stream",
     "text": [
      "532it [01:44,  5.10it/s]\n"
     ]
    },
    {
     "name": "stdout",
     "output_type": "stream",
     "text": [
      "\n",
      "TRAIN RESULTS\n",
      "Loss: 0.003836873627593081\n",
      "Accuracy: 0.8147973886961124\n",
      "MCC: 0.7081162181258374\n",
      "Macro F1: 0.8002244941258552\n",
      "Macro Precision: 0.8159299712821809\n",
      "Macro Recall: 0.7911476017688719\n",
      "Micro F1: 0.8147973886961124\n",
      "Micro Precision: 0.8147973886961124\n",
      "Micro Recall: 0.8147973886961124\n",
      "\n",
      "VALIDATION RESULTS\n",
      "Loss: 0.0028785723261535168\n",
      "Accuracy: 0.8598752598752599\n",
      "MCC: 0.7846527096092638\n",
      "Macro F1: 0.8709731509092359\n",
      "Macro Precision: 0.8730298312494783\n",
      "Macro Recall: 0.8689784501503613\n",
      "Micro F1: 0.8598752598752599\n",
      "Micro Precision: 0.8598752598752599\n",
      "Micro Recall: 0.8598752598752599\n",
      "--------------------------------------------------\n",
      "EPOCH N. 2\n"
     ]
    },
    {
     "name": "stderr",
     "output_type": "stream",
     "text": [
      "532it [01:42,  5.17it/s]\n"
     ]
    },
    {
     "name": "stdout",
     "output_type": "stream",
     "text": [
      "\n",
      "TRAIN RESULTS\n",
      "Loss: 0.0024588349661064353\n",
      "Accuracy: 0.8809327765688408\n",
      "MCC: 0.8140220982313151\n",
      "Macro F1: 0.8850176213086363\n",
      "Macro Precision: 0.8881881653625554\n",
      "Macro Recall: 0.8834017207053678\n",
      "Micro F1: 0.8809327765688408\n",
      "Micro Precision: 0.8809327765688408\n",
      "Micro Recall: 0.8809327765688408\n",
      "\n",
      "VALIDATION RESULTS\n",
      "Loss: 0.002894914010539651\n",
      "Accuracy: 0.8675675675675676\n",
      "MCC: 0.7948004493635361\n",
      "Macro F1: 0.8744739283365656\n",
      "Macro Precision: 0.8885628703157881\n",
      "Macro Recall: 0.863355338425196\n",
      "Micro F1: 0.8675675675675676\n",
      "Micro Precision: 0.8675675675675676\n",
      "Micro Recall: 0.8675675675675676\n",
      "--------------------------------------------------\n",
      "EPOCH N. 3\n"
     ]
    },
    {
     "name": "stderr",
     "output_type": "stream",
     "text": [
      "532it [01:43,  5.16it/s]\n"
     ]
    },
    {
     "name": "stdout",
     "output_type": "stream",
     "text": [
      "\n",
      "TRAIN RESULTS\n",
      "Loss: 0.0019886116147486525\n",
      "Accuracy: 0.903928718461448\n",
      "MCC: 0.8500106477688705\n",
      "Macro F1: 0.9065569212930582\n",
      "Macro Precision: 0.9094688373092309\n",
      "Macro Recall: 0.9042345055806227\n",
      "Micro F1: 0.903928718461448\n",
      "Micro Precision: 0.903928718461448\n",
      "Micro Recall: 0.903928718461448\n",
      "\n",
      "VALIDATION RESULTS\n",
      "Loss: 0.0030654207803308964\n",
      "Accuracy: 0.8698544698544699\n",
      "MCC: 0.7985621764233007\n",
      "Macro F1: 0.8767913132446636\n",
      "Macro Precision: 0.8857685758696663\n",
      "Macro Recall: 0.8693483652511336\n",
      "Micro F1: 0.8698544698544699\n",
      "Micro Precision: 0.8698544698544699\n",
      "Micro Recall: 0.8698544698544699\n",
      "Early stopped training\n",
      "--------------------------------------------------\n"
     ]
    },
    {
     "data": {
      "text/html": [
       "Waiting for W&B process to finish... <strong style=\"color:green\">(success).</strong>"
      ],
      "text/plain": [
       "<IPython.core.display.HTML object>"
      ]
     },
     "metadata": {},
     "output_type": "display_data"
    },
    {
     "data": {
      "text/html": [
       "<style>\n",
       "    table.wandb td:nth-child(1) { padding: 0 10px; text-align: left ; width: auto;} td:nth-child(2) {text-align: left ; width: 100%}\n",
       "    .wandb-row { display: flex; flex-direction: row; flex-wrap: wrap; justify-content: flex-start; width: 100% }\n",
       "    .wandb-col { display: flex; flex-direction: column; flex-basis: 100%; flex: 1; padding: 10px; }\n",
       "    </style>\n",
       "<div class=\"wandb-row\"><div class=\"wandb-col\"><h3>Run history:</h3><br/><table class=\"wandb\"><tr><td>Epoch</td><td>▁▅█</td></tr><tr><td>Train Loss</td><td>█▃▁</td></tr><tr><td>Validation Loss</td><td>▁▂█</td></tr></table><br/></div><div class=\"wandb-col\"><h3>Run summary:</h3><br/><table class=\"wandb\"><tr><td>Epoch</td><td>3</td></tr><tr><td>Train Loss</td><td>0.00199</td></tr><tr><td>Validation Loss</td><td>0.00307</td></tr></table><br/></div></div>"
      ],
      "text/plain": [
       "<IPython.core.display.HTML object>"
      ]
     },
     "metadata": {},
     "output_type": "display_data"
    },
    {
     "data": {
      "text/html": [
       " View run <strong style=\"color:#cdcd00\">Italian-LEGAL-BERT-Trial16</strong> at: <a href='https://wandb.ai/gmarinowandb-8601/RhetoricalRolesClassification-ITA-RhetRoles/runs/z195fe5h' target=\"_blank\">https://wandb.ai/gmarinowandb-8601/RhetoricalRolesClassification-ITA-RhetRoles/runs/z195fe5h</a><br/>Synced 5 W&B file(s), 0 media file(s), 0 artifact file(s) and 0 other file(s)"
      ],
      "text/plain": [
       "<IPython.core.display.HTML object>"
      ]
     },
     "metadata": {},
     "output_type": "display_data"
    },
    {
     "data": {
      "text/html": [
       "Find logs at: <code>./wandb/run-20230424_205621-z195fe5h/logs</code>"
      ],
      "text/plain": [
       "<IPython.core.display.HTML object>"
      ]
     },
     "metadata": {},
     "output_type": "display_data"
    },
    {
     "name": "stderr",
     "output_type": "stream",
     "text": [
      "\u001b[32m[I 2023-04-24 21:02:25,761]\u001b[0m Trial 16 finished with value: 0.0028785723261535168 and parameters: {'lr': 7.245038496750522e-05, 'weight_decay': 0.04227270242530425}. Best is trial 12 with value: 0.0027747247368097305.\u001b[0m\n"
     ]
    },
    {
     "name": "stdout",
     "output_type": "stream",
     "text": [
      "\n",
      "************************ Starting New Optuna Trial ************************\n",
      "\n"
     ]
    },
    {
     "name": "stderr",
     "output_type": "stream",
     "text": [
      "Some weights of the model checkpoint at dlicari/Italian-Legal-BERT were not used when initializing BertForSequenceClassification: ['cls.predictions.transform.dense.weight', 'cls.predictions.decoder.weight', 'cls.predictions.transform.dense.bias', 'cls.predictions.bias', 'cls.predictions.decoder.bias', 'cls.predictions.transform.LayerNorm.weight', 'cls.predictions.transform.LayerNorm.bias']\n",
      "- This IS expected if you are initializing BertForSequenceClassification from the checkpoint of a model trained on another task or with another architecture (e.g. initializing a BertForSequenceClassification model from a BertForPreTraining model).\n",
      "- This IS NOT expected if you are initializing BertForSequenceClassification from the checkpoint of a model that you expect to be exactly identical (initializing a BertForSequenceClassification model from a BertForSequenceClassification model).\n",
      "Some weights of BertForSequenceClassification were not initialized from the model checkpoint at dlicari/Italian-Legal-BERT and are newly initialized: ['classifier.weight', 'classifier.bias', 'bert.pooler.dense.weight', 'bert.pooler.dense.bias']\n",
      "You should probably TRAIN this model on a down-stream task to be able to use it for predictions and inference.\n"
     ]
    },
    {
     "data": {
      "text/html": [
       "wandb version 0.15.0 is available!  To upgrade, please run:\n",
       " $ pip install wandb --upgrade"
      ],
      "text/plain": [
       "<IPython.core.display.HTML object>"
      ]
     },
     "metadata": {},
     "output_type": "display_data"
    },
    {
     "data": {
      "text/html": [
       "Tracking run with wandb version 0.13.10"
      ],
      "text/plain": [
       "<IPython.core.display.HTML object>"
      ]
     },
     "metadata": {},
     "output_type": "display_data"
    },
    {
     "data": {
      "text/html": [
       "Run data is saved locally in <code>/home/g.marino/Desktop/GA/RhetoricalRolesClassification/ITA-RhetRoles/wandb/run-20230424_210227-9yasmc8y</code>"
      ],
      "text/plain": [
       "<IPython.core.display.HTML object>"
      ]
     },
     "metadata": {},
     "output_type": "display_data"
    },
    {
     "data": {
      "text/html": [
       "Syncing run <strong><a href='https://wandb.ai/gmarinowandb-8601/RhetoricalRolesClassification-ITA-RhetRoles/runs/9yasmc8y' target=\"_blank\">Italian-LEGAL-BERT-Trial17</a></strong> to <a href='https://wandb.ai/gmarinowandb-8601/RhetoricalRolesClassification-ITA-RhetRoles' target=\"_blank\">Weights & Biases</a> (<a href='https://wandb.me/run' target=\"_blank\">docs</a>)<br/>"
      ],
      "text/plain": [
       "<IPython.core.display.HTML object>"
      ]
     },
     "metadata": {},
     "output_type": "display_data"
    },
    {
     "data": {
      "text/html": [
       " View project at <a href='https://wandb.ai/gmarinowandb-8601/RhetoricalRolesClassification-ITA-RhetRoles' target=\"_blank\">https://wandb.ai/gmarinowandb-8601/RhetoricalRolesClassification-ITA-RhetRoles</a>"
      ],
      "text/plain": [
       "<IPython.core.display.HTML object>"
      ]
     },
     "metadata": {},
     "output_type": "display_data"
    },
    {
     "data": {
      "text/html": [
       " View run at <a href='https://wandb.ai/gmarinowandb-8601/RhetoricalRolesClassification-ITA-RhetRoles/runs/9yasmc8y' target=\"_blank\">https://wandb.ai/gmarinowandb-8601/RhetoricalRolesClassification-ITA-RhetRoles/runs/9yasmc8y</a>"
      ],
      "text/plain": [
       "<IPython.core.display.HTML object>"
      ]
     },
     "metadata": {},
     "output_type": "display_data"
    },
    {
     "name": "stdout",
     "output_type": "stream",
     "text": [
      "\n",
      "************** Training Started **************\n",
      "\n",
      "EPOCH N. 1\n"
     ]
    },
    {
     "name": "stderr",
     "output_type": "stream",
     "text": [
      "532it [01:42,  5.17it/s]\n"
     ]
    },
    {
     "name": "stdout",
     "output_type": "stream",
     "text": [
      "\n",
      "TRAIN RESULTS\n",
      "Loss: 0.0034605080980132947\n",
      "Accuracy: 0.8330588719637712\n",
      "MCC: 0.7378771928797864\n",
      "Macro F1: 0.8267136105312396\n",
      "Macro Precision: 0.8379465145362911\n",
      "Macro Recall: 0.8198802772553331\n",
      "Micro F1: 0.8330588719637712\n",
      "Micro Precision: 0.8330588719637712\n",
      "Micro Recall: 0.8330588719637712\n",
      "\n",
      "VALIDATION RESULTS\n",
      "Loss: 0.003142348024994135\n",
      "Accuracy: 0.8471933471933472\n",
      "MCC: 0.7678384175540318\n",
      "Macro F1: 0.8525309232454426\n",
      "Macro Precision: 0.8435919563848563\n",
      "Macro Recall: 0.8627758041904731\n",
      "Micro F1: 0.8471933471933472\n",
      "Micro Precision: 0.8471933471933472\n",
      "Micro Recall: 0.8471933471933472\n",
      "--------------------------------------------------\n"
     ]
    },
    {
     "data": {
      "text/html": [
       "Waiting for W&B process to finish... <strong style=\"color:red\">(failed 1).</strong> Press Control-C to abort syncing."
      ],
      "text/plain": [
       "<IPython.core.display.HTML object>"
      ]
     },
     "metadata": {},
     "output_type": "display_data"
    },
    {
     "data": {
      "application/vnd.jupyter.widget-view+json": {
       "model_id": "144b8a7676294f39917fc89071bcb671",
       "version_major": 2,
       "version_minor": 0
      },
      "text/plain": [
       "VBox(children=(Label(value='0.005 MB of 0.005 MB uploaded (0.000 MB deduped)\\r'), FloatProgress(value=1.0, max…"
      ]
     },
     "metadata": {},
     "output_type": "display_data"
    },
    {
     "data": {
      "text/html": [
       "<style>\n",
       "    table.wandb td:nth-child(1) { padding: 0 10px; text-align: left ; width: auto;} td:nth-child(2) {text-align: left ; width: 100%}\n",
       "    .wandb-row { display: flex; flex-direction: row; flex-wrap: wrap; justify-content: flex-start; width: 100% }\n",
       "    .wandb-col { display: flex; flex-direction: column; flex-basis: 100%; flex: 1; padding: 10px; }\n",
       "    </style>\n",
       "<div class=\"wandb-row\"><div class=\"wandb-col\"><h3>Run history:</h3><br/><table class=\"wandb\"><tr><td>Epoch</td><td>▁</td></tr><tr><td>Train Loss</td><td>▁</td></tr><tr><td>Validation Loss</td><td>▁</td></tr></table><br/></div><div class=\"wandb-col\"><h3>Run summary:</h3><br/><table class=\"wandb\"><tr><td>Epoch</td><td>1</td></tr><tr><td>Train Loss</td><td>0.00346</td></tr><tr><td>Validation Loss</td><td>0.00314</td></tr></table><br/></div></div>"
      ],
      "text/plain": [
       "<IPython.core.display.HTML object>"
      ]
     },
     "metadata": {},
     "output_type": "display_data"
    },
    {
     "data": {
      "text/html": [
       " View run <strong style=\"color:#cdcd00\">Italian-LEGAL-BERT-Trial17</strong> at: <a href='https://wandb.ai/gmarinowandb-8601/RhetoricalRolesClassification-ITA-RhetRoles/runs/9yasmc8y' target=\"_blank\">https://wandb.ai/gmarinowandb-8601/RhetoricalRolesClassification-ITA-RhetRoles/runs/9yasmc8y</a><br/>Synced 5 W&B file(s), 0 media file(s), 0 artifact file(s) and 0 other file(s)"
      ],
      "text/plain": [
       "<IPython.core.display.HTML object>"
      ]
     },
     "metadata": {},
     "output_type": "display_data"
    },
    {
     "data": {
      "text/html": [
       "Find logs at: <code>./wandb/run-20230424_210227-9yasmc8y/logs</code>"
      ],
      "text/plain": [
       "<IPython.core.display.HTML object>"
      ]
     },
     "metadata": {},
     "output_type": "display_data"
    },
    {
     "name": "stderr",
     "output_type": "stream",
     "text": [
      "\u001b[32m[I 2023-04-24 21:04:48,388]\u001b[0m Trial 17 pruned. \u001b[0m\n"
     ]
    },
    {
     "name": "stdout",
     "output_type": "stream",
     "text": [
      "\n",
      "************************ Starting New Optuna Trial ************************\n",
      "\n"
     ]
    },
    {
     "name": "stderr",
     "output_type": "stream",
     "text": [
      "Some weights of the model checkpoint at dlicari/Italian-Legal-BERT were not used when initializing BertForSequenceClassification: ['cls.predictions.transform.dense.weight', 'cls.predictions.decoder.weight', 'cls.predictions.transform.dense.bias', 'cls.predictions.bias', 'cls.predictions.decoder.bias', 'cls.predictions.transform.LayerNorm.weight', 'cls.predictions.transform.LayerNorm.bias']\n",
      "- This IS expected if you are initializing BertForSequenceClassification from the checkpoint of a model trained on another task or with another architecture (e.g. initializing a BertForSequenceClassification model from a BertForPreTraining model).\n",
      "- This IS NOT expected if you are initializing BertForSequenceClassification from the checkpoint of a model that you expect to be exactly identical (initializing a BertForSequenceClassification model from a BertForSequenceClassification model).\n",
      "Some weights of BertForSequenceClassification were not initialized from the model checkpoint at dlicari/Italian-Legal-BERT and are newly initialized: ['classifier.weight', 'classifier.bias', 'bert.pooler.dense.weight', 'bert.pooler.dense.bias']\n",
      "You should probably TRAIN this model on a down-stream task to be able to use it for predictions and inference.\n"
     ]
    },
    {
     "data": {
      "text/html": [
       "wandb version 0.15.0 is available!  To upgrade, please run:\n",
       " $ pip install wandb --upgrade"
      ],
      "text/plain": [
       "<IPython.core.display.HTML object>"
      ]
     },
     "metadata": {},
     "output_type": "display_data"
    },
    {
     "data": {
      "text/html": [
       "Tracking run with wandb version 0.13.10"
      ],
      "text/plain": [
       "<IPython.core.display.HTML object>"
      ]
     },
     "metadata": {},
     "output_type": "display_data"
    },
    {
     "data": {
      "text/html": [
       "Run data is saved locally in <code>/home/g.marino/Desktop/GA/RhetoricalRolesClassification/ITA-RhetRoles/wandb/run-20230424_210449-ykjx4xyi</code>"
      ],
      "text/plain": [
       "<IPython.core.display.HTML object>"
      ]
     },
     "metadata": {},
     "output_type": "display_data"
    },
    {
     "data": {
      "text/html": [
       "Syncing run <strong><a href='https://wandb.ai/gmarinowandb-8601/RhetoricalRolesClassification-ITA-RhetRoles/runs/ykjx4xyi' target=\"_blank\">Italian-LEGAL-BERT-Trial18</a></strong> to <a href='https://wandb.ai/gmarinowandb-8601/RhetoricalRolesClassification-ITA-RhetRoles' target=\"_blank\">Weights & Biases</a> (<a href='https://wandb.me/run' target=\"_blank\">docs</a>)<br/>"
      ],
      "text/plain": [
       "<IPython.core.display.HTML object>"
      ]
     },
     "metadata": {},
     "output_type": "display_data"
    },
    {
     "data": {
      "text/html": [
       " View project at <a href='https://wandb.ai/gmarinowandb-8601/RhetoricalRolesClassification-ITA-RhetRoles' target=\"_blank\">https://wandb.ai/gmarinowandb-8601/RhetoricalRolesClassification-ITA-RhetRoles</a>"
      ],
      "text/plain": [
       "<IPython.core.display.HTML object>"
      ]
     },
     "metadata": {},
     "output_type": "display_data"
    },
    {
     "data": {
      "text/html": [
       " View run at <a href='https://wandb.ai/gmarinowandb-8601/RhetoricalRolesClassification-ITA-RhetRoles/runs/ykjx4xyi' target=\"_blank\">https://wandb.ai/gmarinowandb-8601/RhetoricalRolesClassification-ITA-RhetRoles/runs/ykjx4xyi</a>"
      ],
      "text/plain": [
       "<IPython.core.display.HTML object>"
      ]
     },
     "metadata": {},
     "output_type": "display_data"
    },
    {
     "name": "stdout",
     "output_type": "stream",
     "text": [
      "\n",
      "************** Training Started **************\n",
      "\n",
      "EPOCH N. 1\n"
     ]
    },
    {
     "name": "stderr",
     "output_type": "stream",
     "text": [
      "532it [01:42,  5.17it/s]\n"
     ]
    },
    {
     "name": "stdout",
     "output_type": "stream",
     "text": [
      "\n",
      "TRAIN RESULTS\n",
      "Loss: 0.003713910887327319\n",
      "Accuracy: 0.8235017349879433\n",
      "MCC: 0.7218841621981733\n",
      "Macro F1: 0.8148530471528179\n",
      "Macro Precision: 0.829313269278202\n",
      "Macro Recall: 0.8051302448173562\n",
      "Micro F1: 0.8235017349879434\n",
      "Micro Precision: 0.8235017349879433\n",
      "Micro Recall: 0.8235017349879433\n",
      "\n",
      "VALIDATION RESULTS\n",
      "Loss: 0.002986315404996276\n",
      "Accuracy: 0.8601871101871101\n",
      "MCC: 0.7842527167500042\n",
      "Macro F1: 0.8658420907118245\n",
      "Macro Precision: 0.8696459004008803\n",
      "Macro Recall: 0.8630165074376469\n",
      "Micro F1: 0.8601871101871101\n",
      "Micro Precision: 0.8601871101871101\n",
      "Micro Recall: 0.8601871101871101\n",
      "--------------------------------------------------\n"
     ]
    },
    {
     "data": {
      "text/html": [
       "Waiting for W&B process to finish... <strong style=\"color:red\">(failed 1).</strong> Press Control-C to abort syncing."
      ],
      "text/plain": [
       "<IPython.core.display.HTML object>"
      ]
     },
     "metadata": {},
     "output_type": "display_data"
    },
    {
     "data": {
      "application/vnd.jupyter.widget-view+json": {
       "model_id": "a60e7a91c8434820a313e0a025bb7ad8",
       "version_major": 2,
       "version_minor": 0
      },
      "text/plain": [
       "VBox(children=(Label(value='0.005 MB of 0.005 MB uploaded (0.000 MB deduped)\\r'), FloatProgress(value=1.0, max…"
      ]
     },
     "metadata": {},
     "output_type": "display_data"
    },
    {
     "data": {
      "text/html": [
       "<style>\n",
       "    table.wandb td:nth-child(1) { padding: 0 10px; text-align: left ; width: auto;} td:nth-child(2) {text-align: left ; width: 100%}\n",
       "    .wandb-row { display: flex; flex-direction: row; flex-wrap: wrap; justify-content: flex-start; width: 100% }\n",
       "    .wandb-col { display: flex; flex-direction: column; flex-basis: 100%; flex: 1; padding: 10px; }\n",
       "    </style>\n",
       "<div class=\"wandb-row\"><div class=\"wandb-col\"><h3>Run history:</h3><br/><table class=\"wandb\"><tr><td>Epoch</td><td>▁</td></tr><tr><td>Train Loss</td><td>▁</td></tr><tr><td>Validation Loss</td><td>▁</td></tr></table><br/></div><div class=\"wandb-col\"><h3>Run summary:</h3><br/><table class=\"wandb\"><tr><td>Epoch</td><td>1</td></tr><tr><td>Train Loss</td><td>0.00371</td></tr><tr><td>Validation Loss</td><td>0.00299</td></tr></table><br/></div></div>"
      ],
      "text/plain": [
       "<IPython.core.display.HTML object>"
      ]
     },
     "metadata": {},
     "output_type": "display_data"
    },
    {
     "data": {
      "text/html": [
       " View run <strong style=\"color:#cdcd00\">Italian-LEGAL-BERT-Trial18</strong> at: <a href='https://wandb.ai/gmarinowandb-8601/RhetoricalRolesClassification-ITA-RhetRoles/runs/ykjx4xyi' target=\"_blank\">https://wandb.ai/gmarinowandb-8601/RhetoricalRolesClassification-ITA-RhetRoles/runs/ykjx4xyi</a><br/>Synced 5 W&B file(s), 0 media file(s), 0 artifact file(s) and 0 other file(s)"
      ],
      "text/plain": [
       "<IPython.core.display.HTML object>"
      ]
     },
     "metadata": {},
     "output_type": "display_data"
    },
    {
     "data": {
      "text/html": [
       "Find logs at: <code>./wandb/run-20230424_210449-ykjx4xyi/logs</code>"
      ],
      "text/plain": [
       "<IPython.core.display.HTML object>"
      ]
     },
     "metadata": {},
     "output_type": "display_data"
    },
    {
     "name": "stderr",
     "output_type": "stream",
     "text": [
      "\u001b[32m[I 2023-04-24 21:07:08,892]\u001b[0m Trial 18 pruned. \u001b[0m\n"
     ]
    },
    {
     "name": "stdout",
     "output_type": "stream",
     "text": [
      "\n",
      "************************ Starting New Optuna Trial ************************\n",
      "\n"
     ]
    },
    {
     "name": "stderr",
     "output_type": "stream",
     "text": [
      "Some weights of the model checkpoint at dlicari/Italian-Legal-BERT were not used when initializing BertForSequenceClassification: ['cls.predictions.transform.dense.weight', 'cls.predictions.decoder.weight', 'cls.predictions.transform.dense.bias', 'cls.predictions.bias', 'cls.predictions.decoder.bias', 'cls.predictions.transform.LayerNorm.weight', 'cls.predictions.transform.LayerNorm.bias']\n",
      "- This IS expected if you are initializing BertForSequenceClassification from the checkpoint of a model trained on another task or with another architecture (e.g. initializing a BertForSequenceClassification model from a BertForPreTraining model).\n",
      "- This IS NOT expected if you are initializing BertForSequenceClassification from the checkpoint of a model that you expect to be exactly identical (initializing a BertForSequenceClassification model from a BertForSequenceClassification model).\n",
      "Some weights of BertForSequenceClassification were not initialized from the model checkpoint at dlicari/Italian-Legal-BERT and are newly initialized: ['classifier.weight', 'classifier.bias', 'bert.pooler.dense.weight', 'bert.pooler.dense.bias']\n",
      "You should probably TRAIN this model on a down-stream task to be able to use it for predictions and inference.\n"
     ]
    },
    {
     "data": {
      "text/html": [
       "wandb version 0.15.0 is available!  To upgrade, please run:\n",
       " $ pip install wandb --upgrade"
      ],
      "text/plain": [
       "<IPython.core.display.HTML object>"
      ]
     },
     "metadata": {},
     "output_type": "display_data"
    },
    {
     "data": {
      "text/html": [
       "Tracking run with wandb version 0.13.10"
      ],
      "text/plain": [
       "<IPython.core.display.HTML object>"
      ]
     },
     "metadata": {},
     "output_type": "display_data"
    },
    {
     "data": {
      "text/html": [
       "Run data is saved locally in <code>/home/g.marino/Desktop/GA/RhetoricalRolesClassification/ITA-RhetRoles/wandb/run-20230424_210710-8lxyayog</code>"
      ],
      "text/plain": [
       "<IPython.core.display.HTML object>"
      ]
     },
     "metadata": {},
     "output_type": "display_data"
    },
    {
     "data": {
      "text/html": [
       "Syncing run <strong><a href='https://wandb.ai/gmarinowandb-8601/RhetoricalRolesClassification-ITA-RhetRoles/runs/8lxyayog' target=\"_blank\">Italian-LEGAL-BERT-Trial19</a></strong> to <a href='https://wandb.ai/gmarinowandb-8601/RhetoricalRolesClassification-ITA-RhetRoles' target=\"_blank\">Weights & Biases</a> (<a href='https://wandb.me/run' target=\"_blank\">docs</a>)<br/>"
      ],
      "text/plain": [
       "<IPython.core.display.HTML object>"
      ]
     },
     "metadata": {},
     "output_type": "display_data"
    },
    {
     "data": {
      "text/html": [
       " View project at <a href='https://wandb.ai/gmarinowandb-8601/RhetoricalRolesClassification-ITA-RhetRoles' target=\"_blank\">https://wandb.ai/gmarinowandb-8601/RhetoricalRolesClassification-ITA-RhetRoles</a>"
      ],
      "text/plain": [
       "<IPython.core.display.HTML object>"
      ]
     },
     "metadata": {},
     "output_type": "display_data"
    },
    {
     "data": {
      "text/html": [
       " View run at <a href='https://wandb.ai/gmarinowandb-8601/RhetoricalRolesClassification-ITA-RhetRoles/runs/8lxyayog' target=\"_blank\">https://wandb.ai/gmarinowandb-8601/RhetoricalRolesClassification-ITA-RhetRoles/runs/8lxyayog</a>"
      ],
      "text/plain": [
       "<IPython.core.display.HTML object>"
      ]
     },
     "metadata": {},
     "output_type": "display_data"
    },
    {
     "name": "stdout",
     "output_type": "stream",
     "text": [
      "\n",
      "************** Training Started **************\n",
      "\n",
      "EPOCH N. 1\n"
     ]
    },
    {
     "name": "stderr",
     "output_type": "stream",
     "text": [
      "532it [01:42,  5.18it/s]\n"
     ]
    },
    {
     "name": "stdout",
     "output_type": "stream",
     "text": [
      "\n",
      "TRAIN RESULTS\n",
      "Loss: 0.003797862204861474\n",
      "Accuracy: 0.817443980474034\n",
      "MCC: 0.7116271882401508\n",
      "Macro F1: 0.8068616527585872\n",
      "Macro Precision: 0.8272349407508589\n",
      "Macro Recall: 0.7918706361377135\n",
      "Micro F1: 0.8174439804740341\n",
      "Micro Precision: 0.817443980474034\n",
      "Micro Recall: 0.817443980474034\n",
      "\n",
      "VALIDATION RESULTS\n",
      "Loss: 0.002883985871449113\n",
      "Accuracy: 0.8615384615384616\n",
      "MCC: 0.788426148335492\n",
      "Macro F1: 0.8633879392709114\n",
      "Macro Precision: 0.8603885170981819\n",
      "Macro Recall: 0.8724172321292387\n",
      "Micro F1: 0.8615384615384615\n",
      "Micro Precision: 0.8615384615384616\n",
      "Micro Recall: 0.8615384615384616\n",
      "--------------------------------------------------\n",
      "EPOCH N. 2\n"
     ]
    },
    {
     "name": "stderr",
     "output_type": "stream",
     "text": [
      "532it [01:42,  5.17it/s]\n"
     ]
    },
    {
     "name": "stdout",
     "output_type": "stream",
     "text": [
      "\n",
      "TRAIN RESULTS\n",
      "Loss: 0.0024039056985765837\n",
      "Accuracy: 0.8845056754690349\n",
      "MCC: 0.8195434979362561\n",
      "Macro F1: 0.8879034962264397\n",
      "Macro Precision: 0.8914688802008719\n",
      "Macro Recall: 0.8855602257946446\n",
      "Micro F1: 0.8845056754690349\n",
      "Micro Precision: 0.8845056754690349\n",
      "Micro Recall: 0.8845056754690349\n",
      "\n",
      "VALIDATION RESULTS\n",
      "Loss: 0.0028477231971919537\n",
      "Accuracy: 0.8688149688149688\n",
      "MCC: 0.7999603136283417\n",
      "Macro F1: 0.8785846788449427\n",
      "Macro Precision: 0.8748664288042971\n",
      "Macro Recall: 0.8825050426738249\n",
      "Micro F1: 0.8688149688149688\n",
      "Micro Precision: 0.8688149688149688\n",
      "Micro Recall: 0.8688149688149688\n",
      "--------------------------------------------------\n",
      "EPOCH N. 3\n"
     ]
    },
    {
     "name": "stderr",
     "output_type": "stream",
     "text": [
      "532it [01:42,  5.21it/s]\n"
     ]
    },
    {
     "name": "stdout",
     "output_type": "stream",
     "text": [
      "\n",
      "TRAIN RESULTS\n",
      "Loss: 0.0019258797183630222\n",
      "Accuracy: 0.9080750455801917\n",
      "MCC: 0.8565478789512909\n",
      "Macro F1: 0.909515394143184\n",
      "Macro Precision: 0.9122341297017493\n",
      "Macro Recall: 0.907310530067239\n",
      "Micro F1: 0.9080750455801916\n",
      "Micro Precision: 0.9080750455801917\n",
      "Micro Recall: 0.9080750455801917\n",
      "\n",
      "VALIDATION RESULTS\n",
      "Loss: 0.003092340659350157\n",
      "Accuracy: 0.8692307692307693\n",
      "MCC: 0.7981204095841129\n",
      "Macro F1: 0.8728837771504752\n",
      "Macro Precision: 0.8755712857624592\n",
      "Macro Recall: 0.8720973422135065\n",
      "Micro F1: 0.8692307692307693\n",
      "Micro Precision: 0.8692307692307693\n",
      "Micro Recall: 0.8692307692307693\n",
      "--------------------------------------------------\n",
      "EPOCH N. 4\n"
     ]
    },
    {
     "name": "stderr",
     "output_type": "stream",
     "text": [
      "532it [01:41,  5.22it/s]\n"
     ]
    },
    {
     "name": "stdout",
     "output_type": "stream",
     "text": [
      "\n",
      "TRAIN RESULTS\n",
      "Loss: 0.0015077751218270906\n",
      "Accuracy: 0.9283067693936364\n",
      "MCC: 0.8882677092554809\n",
      "Macro F1: 0.9283877267833803\n",
      "Macro Precision: 0.9299426433112196\n",
      "Macro Recall: 0.9270090717218231\n",
      "Micro F1: 0.9283067693936364\n",
      "Micro Precision: 0.9283067693936364\n",
      "Micro Recall: 0.9283067693936364\n",
      "\n",
      "VALIDATION RESULTS\n",
      "Loss: 0.0035198426339775324\n",
      "Accuracy: 0.8667359667359668\n",
      "MCC: 0.793206252794733\n",
      "Macro F1: 0.8731670679368613\n",
      "Macro Precision: 0.8861377697370335\n",
      "Macro Recall: 0.8622043736003189\n",
      "Micro F1: 0.8667359667359668\n",
      "Micro Precision: 0.8667359667359668\n",
      "Micro Recall: 0.8667359667359668\n",
      "Early stopped training\n",
      "--------------------------------------------------\n"
     ]
    },
    {
     "data": {
      "text/html": [
       "Waiting for W&B process to finish... <strong style=\"color:green\">(success).</strong>"
      ],
      "text/plain": [
       "<IPython.core.display.HTML object>"
      ]
     },
     "metadata": {},
     "output_type": "display_data"
    },
    {
     "data": {
      "application/vnd.jupyter.widget-view+json": {
       "model_id": "50bd9d07476c4d748c5ceda0a44735aa",
       "version_major": 2,
       "version_minor": 0
      },
      "text/plain": [
       "VBox(children=(Label(value='0.005 MB of 0.005 MB uploaded (0.000 MB deduped)\\r'), FloatProgress(value=1.0, max…"
      ]
     },
     "metadata": {},
     "output_type": "display_data"
    },
    {
     "data": {
      "text/html": [
       "<style>\n",
       "    table.wandb td:nth-child(1) { padding: 0 10px; text-align: left ; width: auto;} td:nth-child(2) {text-align: left ; width: 100%}\n",
       "    .wandb-row { display: flex; flex-direction: row; flex-wrap: wrap; justify-content: flex-start; width: 100% }\n",
       "    .wandb-col { display: flex; flex-direction: column; flex-basis: 100%; flex: 1; padding: 10px; }\n",
       "    </style>\n",
       "<div class=\"wandb-row\"><div class=\"wandb-col\"><h3>Run history:</h3><br/><table class=\"wandb\"><tr><td>Epoch</td><td>▁▃▆█</td></tr><tr><td>Train Loss</td><td>█▄▂▁</td></tr><tr><td>Validation Loss</td><td>▁▁▄█</td></tr></table><br/></div><div class=\"wandb-col\"><h3>Run summary:</h3><br/><table class=\"wandb\"><tr><td>Epoch</td><td>4</td></tr><tr><td>Train Loss</td><td>0.00151</td></tr><tr><td>Validation Loss</td><td>0.00352</td></tr></table><br/></div></div>"
      ],
      "text/plain": [
       "<IPython.core.display.HTML object>"
      ]
     },
     "metadata": {},
     "output_type": "display_data"
    },
    {
     "data": {
      "text/html": [
       " View run <strong style=\"color:#cdcd00\">Italian-LEGAL-BERT-Trial19</strong> at: <a href='https://wandb.ai/gmarinowandb-8601/RhetoricalRolesClassification-ITA-RhetRoles/runs/8lxyayog' target=\"_blank\">https://wandb.ai/gmarinowandb-8601/RhetoricalRolesClassification-ITA-RhetRoles/runs/8lxyayog</a><br/>Synced 5 W&B file(s), 0 media file(s), 0 artifact file(s) and 0 other file(s)"
      ],
      "text/plain": [
       "<IPython.core.display.HTML object>"
      ]
     },
     "metadata": {},
     "output_type": "display_data"
    },
    {
     "data": {
      "text/html": [
       "Find logs at: <code>./wandb/run-20230424_210710-8lxyayog/logs</code>"
      ],
      "text/plain": [
       "<IPython.core.display.HTML object>"
      ]
     },
     "metadata": {},
     "output_type": "display_data"
    },
    {
     "name": "stderr",
     "output_type": "stream",
     "text": [
      "\u001b[32m[I 2023-04-24 21:15:05,047]\u001b[0m Trial 19 finished with value: 0.0028477231971919537 and parameters: {'lr': 0.00011975880815433443, 'weight_decay': 0.06669006362812246}. Best is trial 12 with value: 0.0027747247368097305.\u001b[0m\n"
     ]
    },
    {
     "name": "stdout",
     "output_type": "stream",
     "text": [
      "\n",
      "************************ Starting New Optuna Trial ************************\n",
      "\n"
     ]
    },
    {
     "name": "stderr",
     "output_type": "stream",
     "text": [
      "Some weights of the model checkpoint at dlicari/Italian-Legal-BERT were not used when initializing BertForSequenceClassification: ['cls.predictions.transform.dense.weight', 'cls.predictions.decoder.weight', 'cls.predictions.transform.dense.bias', 'cls.predictions.bias', 'cls.predictions.decoder.bias', 'cls.predictions.transform.LayerNorm.weight', 'cls.predictions.transform.LayerNorm.bias']\n",
      "- This IS expected if you are initializing BertForSequenceClassification from the checkpoint of a model trained on another task or with another architecture (e.g. initializing a BertForSequenceClassification model from a BertForPreTraining model).\n",
      "- This IS NOT expected if you are initializing BertForSequenceClassification from the checkpoint of a model that you expect to be exactly identical (initializing a BertForSequenceClassification model from a BertForSequenceClassification model).\n",
      "Some weights of BertForSequenceClassification were not initialized from the model checkpoint at dlicari/Italian-Legal-BERT and are newly initialized: ['classifier.weight', 'classifier.bias', 'bert.pooler.dense.weight', 'bert.pooler.dense.bias']\n",
      "You should probably TRAIN this model on a down-stream task to be able to use it for predictions and inference.\n"
     ]
    },
    {
     "data": {
      "text/html": [
       "wandb version 0.15.0 is available!  To upgrade, please run:\n",
       " $ pip install wandb --upgrade"
      ],
      "text/plain": [
       "<IPython.core.display.HTML object>"
      ]
     },
     "metadata": {},
     "output_type": "display_data"
    },
    {
     "data": {
      "text/html": [
       "Tracking run with wandb version 0.13.10"
      ],
      "text/plain": [
       "<IPython.core.display.HTML object>"
      ]
     },
     "metadata": {},
     "output_type": "display_data"
    },
    {
     "data": {
      "text/html": [
       "Run data is saved locally in <code>/home/g.marino/Desktop/GA/RhetoricalRolesClassification/ITA-RhetRoles/wandb/run-20230424_211506-5i5ilsq9</code>"
      ],
      "text/plain": [
       "<IPython.core.display.HTML object>"
      ]
     },
     "metadata": {},
     "output_type": "display_data"
    },
    {
     "data": {
      "text/html": [
       "Syncing run <strong><a href='https://wandb.ai/gmarinowandb-8601/RhetoricalRolesClassification-ITA-RhetRoles/runs/5i5ilsq9' target=\"_blank\">Italian-LEGAL-BERT-Trial20</a></strong> to <a href='https://wandb.ai/gmarinowandb-8601/RhetoricalRolesClassification-ITA-RhetRoles' target=\"_blank\">Weights & Biases</a> (<a href='https://wandb.me/run' target=\"_blank\">docs</a>)<br/>"
      ],
      "text/plain": [
       "<IPython.core.display.HTML object>"
      ]
     },
     "metadata": {},
     "output_type": "display_data"
    },
    {
     "data": {
      "text/html": [
       " View project at <a href='https://wandb.ai/gmarinowandb-8601/RhetoricalRolesClassification-ITA-RhetRoles' target=\"_blank\">https://wandb.ai/gmarinowandb-8601/RhetoricalRolesClassification-ITA-RhetRoles</a>"
      ],
      "text/plain": [
       "<IPython.core.display.HTML object>"
      ]
     },
     "metadata": {},
     "output_type": "display_data"
    },
    {
     "data": {
      "text/html": [
       " View run at <a href='https://wandb.ai/gmarinowandb-8601/RhetoricalRolesClassification-ITA-RhetRoles/runs/5i5ilsq9' target=\"_blank\">https://wandb.ai/gmarinowandb-8601/RhetoricalRolesClassification-ITA-RhetRoles/runs/5i5ilsq9</a>"
      ],
      "text/plain": [
       "<IPython.core.display.HTML object>"
      ]
     },
     "metadata": {},
     "output_type": "display_data"
    },
    {
     "name": "stdout",
     "output_type": "stream",
     "text": [
      "\n",
      "************** Training Started **************\n",
      "\n",
      "EPOCH N. 1\n"
     ]
    },
    {
     "name": "stderr",
     "output_type": "stream",
     "text": [
      "532it [01:42,  5.20it/s]\n"
     ]
    },
    {
     "name": "stdout",
     "output_type": "stream",
     "text": [
      "\n",
      "TRAIN RESULTS\n",
      "Loss: 0.00956064228316598\n",
      "Accuracy: 0.5466094218667295\n",
      "MCC: 0.13269355806776503\n",
      "Macro F1: 0.23448509948095175\n",
      "Macro Precision: 0.6261802492322358\n",
      "Macro Recall: 0.24664949477032314\n",
      "Micro F1: 0.5466094218667295\n",
      "Micro Precision: 0.5466094218667295\n",
      "Micro Recall: 0.5466094218667295\n",
      "\n",
      "VALIDATION RESULTS\n",
      "Loss: 0.010106283240020275\n",
      "Accuracy: 0.5200623700623701\n",
      "MCC: 0.0\n",
      "Macro F1: 0.1368529029610887\n",
      "Macro Precision: 0.10401247401247402\n",
      "Macro Recall: 0.2\n",
      "Micro F1: 0.5200623700623701\n",
      "Micro Precision: 0.5200623700623701\n",
      "Micro Recall: 0.5200623700623701\n",
      "--------------------------------------------------\n"
     ]
    },
    {
     "data": {
      "text/html": [
       "Waiting for W&B process to finish... <strong style=\"color:red\">(failed 1).</strong> Press Control-C to abort syncing."
      ],
      "text/plain": [
       "<IPython.core.display.HTML object>"
      ]
     },
     "metadata": {},
     "output_type": "display_data"
    },
    {
     "data": {
      "application/vnd.jupyter.widget-view+json": {
       "model_id": "b693ff679cd24662aad53a432ea86848",
       "version_major": 2,
       "version_minor": 0
      },
      "text/plain": [
       "VBox(children=(Label(value='0.005 MB of 0.005 MB uploaded (0.000 MB deduped)\\r'), FloatProgress(value=1.0, max…"
      ]
     },
     "metadata": {},
     "output_type": "display_data"
    },
    {
     "data": {
      "text/html": [
       "<style>\n",
       "    table.wandb td:nth-child(1) { padding: 0 10px; text-align: left ; width: auto;} td:nth-child(2) {text-align: left ; width: 100%}\n",
       "    .wandb-row { display: flex; flex-direction: row; flex-wrap: wrap; justify-content: flex-start; width: 100% }\n",
       "    .wandb-col { display: flex; flex-direction: column; flex-basis: 100%; flex: 1; padding: 10px; }\n",
       "    </style>\n",
       "<div class=\"wandb-row\"><div class=\"wandb-col\"><h3>Run history:</h3><br/><table class=\"wandb\"><tr><td>Epoch</td><td>▁</td></tr><tr><td>Train Loss</td><td>▁</td></tr><tr><td>Validation Loss</td><td>▁</td></tr></table><br/></div><div class=\"wandb-col\"><h3>Run summary:</h3><br/><table class=\"wandb\"><tr><td>Epoch</td><td>1</td></tr><tr><td>Train Loss</td><td>0.00956</td></tr><tr><td>Validation Loss</td><td>0.01011</td></tr></table><br/></div></div>"
      ],
      "text/plain": [
       "<IPython.core.display.HTML object>"
      ]
     },
     "metadata": {},
     "output_type": "display_data"
    },
    {
     "data": {
      "text/html": [
       " View run <strong style=\"color:#cdcd00\">Italian-LEGAL-BERT-Trial20</strong> at: <a href='https://wandb.ai/gmarinowandb-8601/RhetoricalRolesClassification-ITA-RhetRoles/runs/5i5ilsq9' target=\"_blank\">https://wandb.ai/gmarinowandb-8601/RhetoricalRolesClassification-ITA-RhetRoles/runs/5i5ilsq9</a><br/>Synced 5 W&B file(s), 0 media file(s), 0 artifact file(s) and 0 other file(s)"
      ],
      "text/plain": [
       "<IPython.core.display.HTML object>"
      ]
     },
     "metadata": {},
     "output_type": "display_data"
    },
    {
     "data": {
      "text/html": [
       "Find logs at: <code>./wandb/run-20230424_211506-5i5ilsq9/logs</code>"
      ],
      "text/plain": [
       "<IPython.core.display.HTML object>"
      ]
     },
     "metadata": {},
     "output_type": "display_data"
    },
    {
     "name": "stderr",
     "output_type": "stream",
     "text": [
      "\u001b[32m[I 2023-04-24 21:17:23,969]\u001b[0m Trial 20 pruned. \u001b[0m\n"
     ]
    },
    {
     "name": "stdout",
     "output_type": "stream",
     "text": [
      "\n",
      "************************ Starting New Optuna Trial ************************\n",
      "\n"
     ]
    },
    {
     "name": "stderr",
     "output_type": "stream",
     "text": [
      "Some weights of the model checkpoint at dlicari/Italian-Legal-BERT were not used when initializing BertForSequenceClassification: ['cls.predictions.transform.dense.weight', 'cls.predictions.decoder.weight', 'cls.predictions.transform.dense.bias', 'cls.predictions.bias', 'cls.predictions.decoder.bias', 'cls.predictions.transform.LayerNorm.weight', 'cls.predictions.transform.LayerNorm.bias']\n",
      "- This IS expected if you are initializing BertForSequenceClassification from the checkpoint of a model trained on another task or with another architecture (e.g. initializing a BertForSequenceClassification model from a BertForPreTraining model).\n",
      "- This IS NOT expected if you are initializing BertForSequenceClassification from the checkpoint of a model that you expect to be exactly identical (initializing a BertForSequenceClassification model from a BertForSequenceClassification model).\n",
      "Some weights of BertForSequenceClassification were not initialized from the model checkpoint at dlicari/Italian-Legal-BERT and are newly initialized: ['classifier.weight', 'classifier.bias', 'bert.pooler.dense.weight', 'bert.pooler.dense.bias']\n",
      "You should probably TRAIN this model on a down-stream task to be able to use it for predictions and inference.\n"
     ]
    },
    {
     "data": {
      "text/html": [
       "wandb version 0.15.0 is available!  To upgrade, please run:\n",
       " $ pip install wandb --upgrade"
      ],
      "text/plain": [
       "<IPython.core.display.HTML object>"
      ]
     },
     "metadata": {},
     "output_type": "display_data"
    },
    {
     "data": {
      "text/html": [
       "Tracking run with wandb version 0.13.10"
      ],
      "text/plain": [
       "<IPython.core.display.HTML object>"
      ]
     },
     "metadata": {},
     "output_type": "display_data"
    },
    {
     "data": {
      "text/html": [
       "Run data is saved locally in <code>/home/g.marino/Desktop/GA/RhetoricalRolesClassification/ITA-RhetRoles/wandb/run-20230424_211725-gtgpwtis</code>"
      ],
      "text/plain": [
       "<IPython.core.display.HTML object>"
      ]
     },
     "metadata": {},
     "output_type": "display_data"
    },
    {
     "data": {
      "text/html": [
       "Syncing run <strong><a href='https://wandb.ai/gmarinowandb-8601/RhetoricalRolesClassification-ITA-RhetRoles/runs/gtgpwtis' target=\"_blank\">Italian-LEGAL-BERT-Trial21</a></strong> to <a href='https://wandb.ai/gmarinowandb-8601/RhetoricalRolesClassification-ITA-RhetRoles' target=\"_blank\">Weights & Biases</a> (<a href='https://wandb.me/run' target=\"_blank\">docs</a>)<br/>"
      ],
      "text/plain": [
       "<IPython.core.display.HTML object>"
      ]
     },
     "metadata": {},
     "output_type": "display_data"
    },
    {
     "data": {
      "text/html": [
       " View project at <a href='https://wandb.ai/gmarinowandb-8601/RhetoricalRolesClassification-ITA-RhetRoles' target=\"_blank\">https://wandb.ai/gmarinowandb-8601/RhetoricalRolesClassification-ITA-RhetRoles</a>"
      ],
      "text/plain": [
       "<IPython.core.display.HTML object>"
      ]
     },
     "metadata": {},
     "output_type": "display_data"
    },
    {
     "data": {
      "text/html": [
       " View run at <a href='https://wandb.ai/gmarinowandb-8601/RhetoricalRolesClassification-ITA-RhetRoles/runs/gtgpwtis' target=\"_blank\">https://wandb.ai/gmarinowandb-8601/RhetoricalRolesClassification-ITA-RhetRoles/runs/gtgpwtis</a>"
      ],
      "text/plain": [
       "<IPython.core.display.HTML object>"
      ]
     },
     "metadata": {},
     "output_type": "display_data"
    },
    {
     "name": "stdout",
     "output_type": "stream",
     "text": [
      "\n",
      "************** Training Started **************\n",
      "\n",
      "EPOCH N. 1\n"
     ]
    },
    {
     "name": "stderr",
     "output_type": "stream",
     "text": [
      "532it [01:42,  5.20it/s]\n"
     ]
    },
    {
     "name": "stdout",
     "output_type": "stream",
     "text": [
      "\n",
      "TRAIN RESULTS\n",
      "Loss: 0.00411621691906781\n",
      "Accuracy: 0.8060783391166265\n",
      "MCC: 0.6932144907653786\n",
      "Macro F1: 0.7926579240763234\n",
      "Macro Precision: 0.8191344064276731\n",
      "Macro Recall: 0.77459309402372\n",
      "Micro F1: 0.8060783391166265\n",
      "Micro Precision: 0.8060783391166265\n",
      "Micro Recall: 0.8060783391166265\n",
      "\n",
      "VALIDATION RESULTS\n",
      "Loss: 0.0031016147695481777\n",
      "Accuracy: 0.8551975051975051\n",
      "MCC: 0.7756673368236936\n",
      "Macro F1: 0.8635792129772536\n",
      "Macro Precision: 0.8731096621266289\n",
      "Macro Recall: 0.8551720011768287\n",
      "Micro F1: 0.855197505197505\n",
      "Micro Precision: 0.8551975051975051\n",
      "Micro Recall: 0.8551975051975051\n",
      "--------------------------------------------------\n"
     ]
    },
    {
     "data": {
      "text/html": [
       "Waiting for W&B process to finish... <strong style=\"color:red\">(failed 1).</strong> Press Control-C to abort syncing."
      ],
      "text/plain": [
       "<IPython.core.display.HTML object>"
      ]
     },
     "metadata": {},
     "output_type": "display_data"
    },
    {
     "data": {
      "application/vnd.jupyter.widget-view+json": {
       "model_id": "c1a5c1e426cb488d906c08b57089080a",
       "version_major": 2,
       "version_minor": 0
      },
      "text/plain": [
       "VBox(children=(Label(value='0.005 MB of 0.005 MB uploaded (0.000 MB deduped)\\r'), FloatProgress(value=1.0, max…"
      ]
     },
     "metadata": {},
     "output_type": "display_data"
    },
    {
     "data": {
      "text/html": [
       "<style>\n",
       "    table.wandb td:nth-child(1) { padding: 0 10px; text-align: left ; width: auto;} td:nth-child(2) {text-align: left ; width: 100%}\n",
       "    .wandb-row { display: flex; flex-direction: row; flex-wrap: wrap; justify-content: flex-start; width: 100% }\n",
       "    .wandb-col { display: flex; flex-direction: column; flex-basis: 100%; flex: 1; padding: 10px; }\n",
       "    </style>\n",
       "<div class=\"wandb-row\"><div class=\"wandb-col\"><h3>Run history:</h3><br/><table class=\"wandb\"><tr><td>Epoch</td><td>▁</td></tr><tr><td>Train Loss</td><td>▁</td></tr><tr><td>Validation Loss</td><td>▁</td></tr></table><br/></div><div class=\"wandb-col\"><h3>Run summary:</h3><br/><table class=\"wandb\"><tr><td>Epoch</td><td>1</td></tr><tr><td>Train Loss</td><td>0.00412</td></tr><tr><td>Validation Loss</td><td>0.0031</td></tr></table><br/></div></div>"
      ],
      "text/plain": [
       "<IPython.core.display.HTML object>"
      ]
     },
     "metadata": {},
     "output_type": "display_data"
    },
    {
     "data": {
      "text/html": [
       " View run <strong style=\"color:#cdcd00\">Italian-LEGAL-BERT-Trial21</strong> at: <a href='https://wandb.ai/gmarinowandb-8601/RhetoricalRolesClassification-ITA-RhetRoles/runs/gtgpwtis' target=\"_blank\">https://wandb.ai/gmarinowandb-8601/RhetoricalRolesClassification-ITA-RhetRoles/runs/gtgpwtis</a><br/>Synced 5 W&B file(s), 0 media file(s), 0 artifact file(s) and 0 other file(s)"
      ],
      "text/plain": [
       "<IPython.core.display.HTML object>"
      ]
     },
     "metadata": {},
     "output_type": "display_data"
    },
    {
     "data": {
      "text/html": [
       "Find logs at: <code>./wandb/run-20230424_211725-gtgpwtis/logs</code>"
      ],
      "text/plain": [
       "<IPython.core.display.HTML object>"
      ]
     },
     "metadata": {},
     "output_type": "display_data"
    },
    {
     "name": "stderr",
     "output_type": "stream",
     "text": [
      "\u001b[32m[I 2023-04-24 21:19:43,282]\u001b[0m Trial 21 pruned. \u001b[0m\n"
     ]
    },
    {
     "name": "stdout",
     "output_type": "stream",
     "text": [
      "\n",
      "************************ Starting New Optuna Trial ************************\n",
      "\n"
     ]
    },
    {
     "name": "stderr",
     "output_type": "stream",
     "text": [
      "Some weights of the model checkpoint at dlicari/Italian-Legal-BERT were not used when initializing BertForSequenceClassification: ['cls.predictions.transform.dense.weight', 'cls.predictions.decoder.weight', 'cls.predictions.transform.dense.bias', 'cls.predictions.bias', 'cls.predictions.decoder.bias', 'cls.predictions.transform.LayerNorm.weight', 'cls.predictions.transform.LayerNorm.bias']\n",
      "- This IS expected if you are initializing BertForSequenceClassification from the checkpoint of a model trained on another task or with another architecture (e.g. initializing a BertForSequenceClassification model from a BertForPreTraining model).\n",
      "- This IS NOT expected if you are initializing BertForSequenceClassification from the checkpoint of a model that you expect to be exactly identical (initializing a BertForSequenceClassification model from a BertForSequenceClassification model).\n",
      "Some weights of BertForSequenceClassification were not initialized from the model checkpoint at dlicari/Italian-Legal-BERT and are newly initialized: ['classifier.weight', 'classifier.bias', 'bert.pooler.dense.weight', 'bert.pooler.dense.bias']\n",
      "You should probably TRAIN this model on a down-stream task to be able to use it for predictions and inference.\n"
     ]
    },
    {
     "data": {
      "text/html": [
       "wandb version 0.15.0 is available!  To upgrade, please run:\n",
       " $ pip install wandb --upgrade"
      ],
      "text/plain": [
       "<IPython.core.display.HTML object>"
      ]
     },
     "metadata": {},
     "output_type": "display_data"
    },
    {
     "data": {
      "text/html": [
       "Tracking run with wandb version 0.13.10"
      ],
      "text/plain": [
       "<IPython.core.display.HTML object>"
      ]
     },
     "metadata": {},
     "output_type": "display_data"
    },
    {
     "data": {
      "text/html": [
       "Run data is saved locally in <code>/home/g.marino/Desktop/GA/RhetoricalRolesClassification/ITA-RhetRoles/wandb/run-20230424_211944-s20doptu</code>"
      ],
      "text/plain": [
       "<IPython.core.display.HTML object>"
      ]
     },
     "metadata": {},
     "output_type": "display_data"
    },
    {
     "data": {
      "text/html": [
       "Syncing run <strong><a href='https://wandb.ai/gmarinowandb-8601/RhetoricalRolesClassification-ITA-RhetRoles/runs/s20doptu' target=\"_blank\">Italian-LEGAL-BERT-Trial22</a></strong> to <a href='https://wandb.ai/gmarinowandb-8601/RhetoricalRolesClassification-ITA-RhetRoles' target=\"_blank\">Weights & Biases</a> (<a href='https://wandb.me/run' target=\"_blank\">docs</a>)<br/>"
      ],
      "text/plain": [
       "<IPython.core.display.HTML object>"
      ]
     },
     "metadata": {},
     "output_type": "display_data"
    },
    {
     "data": {
      "text/html": [
       " View project at <a href='https://wandb.ai/gmarinowandb-8601/RhetoricalRolesClassification-ITA-RhetRoles' target=\"_blank\">https://wandb.ai/gmarinowandb-8601/RhetoricalRolesClassification-ITA-RhetRoles</a>"
      ],
      "text/plain": [
       "<IPython.core.display.HTML object>"
      ]
     },
     "metadata": {},
     "output_type": "display_data"
    },
    {
     "data": {
      "text/html": [
       " View run at <a href='https://wandb.ai/gmarinowandb-8601/RhetoricalRolesClassification-ITA-RhetRoles/runs/s20doptu' target=\"_blank\">https://wandb.ai/gmarinowandb-8601/RhetoricalRolesClassification-ITA-RhetRoles/runs/s20doptu</a>"
      ],
      "text/plain": [
       "<IPython.core.display.HTML object>"
      ]
     },
     "metadata": {},
     "output_type": "display_data"
    },
    {
     "name": "stdout",
     "output_type": "stream",
     "text": [
      "\n",
      "************** Training Started **************\n",
      "\n",
      "EPOCH N. 1\n"
     ]
    },
    {
     "name": "stderr",
     "output_type": "stream",
     "text": [
      "532it [01:42,  5.19it/s]\n"
     ]
    },
    {
     "name": "stdout",
     "output_type": "stream",
     "text": [
      "\n",
      "TRAIN RESULTS\n",
      "Loss: 0.004039318822944318\n",
      "Accuracy: 0.8072840087043462\n",
      "MCC: 0.6951792887018416\n",
      "Macro F1: 0.7892460850005731\n",
      "Macro Precision: 0.812136269405535\n",
      "Macro Recall: 0.7728977925201264\n",
      "Micro F1: 0.8072840087043462\n",
      "Micro Precision: 0.8072840087043462\n",
      "Micro Recall: 0.8072840087043462\n",
      "\n",
      "VALIDATION RESULTS\n",
      "Loss: 0.002963090781122446\n",
      "Accuracy: 0.8576923076923076\n",
      "MCC: 0.7806986780623886\n",
      "Macro F1: 0.8676586475212986\n",
      "Macro Precision: 0.872383637175534\n",
      "Macro Recall: 0.8640755397808858\n",
      "Micro F1: 0.8576923076923076\n",
      "Micro Precision: 0.8576923076923076\n",
      "Micro Recall: 0.8576923076923076\n",
      "--------------------------------------------------\n"
     ]
    },
    {
     "data": {
      "text/html": [
       "Waiting for W&B process to finish... <strong style=\"color:red\">(failed 1).</strong> Press Control-C to abort syncing."
      ],
      "text/plain": [
       "<IPython.core.display.HTML object>"
      ]
     },
     "metadata": {},
     "output_type": "display_data"
    },
    {
     "data": {
      "text/html": [
       "<style>\n",
       "    table.wandb td:nth-child(1) { padding: 0 10px; text-align: left ; width: auto;} td:nth-child(2) {text-align: left ; width: 100%}\n",
       "    .wandb-row { display: flex; flex-direction: row; flex-wrap: wrap; justify-content: flex-start; width: 100% }\n",
       "    .wandb-col { display: flex; flex-direction: column; flex-basis: 100%; flex: 1; padding: 10px; }\n",
       "    </style>\n",
       "<div class=\"wandb-row\"><div class=\"wandb-col\"><h3>Run history:</h3><br/><table class=\"wandb\"><tr><td>Epoch</td><td>▁</td></tr><tr><td>Train Loss</td><td>▁</td></tr><tr><td>Validation Loss</td><td>▁</td></tr></table><br/></div><div class=\"wandb-col\"><h3>Run summary:</h3><br/><table class=\"wandb\"><tr><td>Epoch</td><td>1</td></tr><tr><td>Train Loss</td><td>0.00404</td></tr><tr><td>Validation Loss</td><td>0.00296</td></tr></table><br/></div></div>"
      ],
      "text/plain": [
       "<IPython.core.display.HTML object>"
      ]
     },
     "metadata": {},
     "output_type": "display_data"
    },
    {
     "data": {
      "text/html": [
       " View run <strong style=\"color:#cdcd00\">Italian-LEGAL-BERT-Trial22</strong> at: <a href='https://wandb.ai/gmarinowandb-8601/RhetoricalRolesClassification-ITA-RhetRoles/runs/s20doptu' target=\"_blank\">https://wandb.ai/gmarinowandb-8601/RhetoricalRolesClassification-ITA-RhetRoles/runs/s20doptu</a><br/>Synced 5 W&B file(s), 0 media file(s), 0 artifact file(s) and 0 other file(s)"
      ],
      "text/plain": [
       "<IPython.core.display.HTML object>"
      ]
     },
     "metadata": {},
     "output_type": "display_data"
    },
    {
     "data": {
      "text/html": [
       "Find logs at: <code>./wandb/run-20230424_211944-s20doptu/logs</code>"
      ],
      "text/plain": [
       "<IPython.core.display.HTML object>"
      ]
     },
     "metadata": {},
     "output_type": "display_data"
    },
    {
     "name": "stderr",
     "output_type": "stream",
     "text": [
      "\u001b[32m[I 2023-04-24 21:22:08,383]\u001b[0m Trial 22 pruned. \u001b[0m\n"
     ]
    },
    {
     "name": "stdout",
     "output_type": "stream",
     "text": [
      "\n",
      "************************ Starting New Optuna Trial ************************\n",
      "\n"
     ]
    },
    {
     "name": "stderr",
     "output_type": "stream",
     "text": [
      "Some weights of the model checkpoint at dlicari/Italian-Legal-BERT were not used when initializing BertForSequenceClassification: ['cls.predictions.transform.dense.weight', 'cls.predictions.decoder.weight', 'cls.predictions.transform.dense.bias', 'cls.predictions.bias', 'cls.predictions.decoder.bias', 'cls.predictions.transform.LayerNorm.weight', 'cls.predictions.transform.LayerNorm.bias']\n",
      "- This IS expected if you are initializing BertForSequenceClassification from the checkpoint of a model trained on another task or with another architecture (e.g. initializing a BertForSequenceClassification model from a BertForPreTraining model).\n",
      "- This IS NOT expected if you are initializing BertForSequenceClassification from the checkpoint of a model that you expect to be exactly identical (initializing a BertForSequenceClassification model from a BertForSequenceClassification model).\n",
      "Some weights of BertForSequenceClassification were not initialized from the model checkpoint at dlicari/Italian-Legal-BERT and are newly initialized: ['classifier.weight', 'classifier.bias', 'bert.pooler.dense.weight', 'bert.pooler.dense.bias']\n",
      "You should probably TRAIN this model on a down-stream task to be able to use it for predictions and inference.\n"
     ]
    },
    {
     "data": {
      "text/html": [
       "wandb version 0.15.0 is available!  To upgrade, please run:\n",
       " $ pip install wandb --upgrade"
      ],
      "text/plain": [
       "<IPython.core.display.HTML object>"
      ]
     },
     "metadata": {},
     "output_type": "display_data"
    },
    {
     "data": {
      "text/html": [
       "Tracking run with wandb version 0.13.10"
      ],
      "text/plain": [
       "<IPython.core.display.HTML object>"
      ]
     },
     "metadata": {},
     "output_type": "display_data"
    },
    {
     "data": {
      "text/html": [
       "Run data is saved locally in <code>/home/g.marino/Desktop/GA/RhetoricalRolesClassification/ITA-RhetRoles/wandb/run-20230424_212209-w8no8t59</code>"
      ],
      "text/plain": [
       "<IPython.core.display.HTML object>"
      ]
     },
     "metadata": {},
     "output_type": "display_data"
    },
    {
     "data": {
      "text/html": [
       "Syncing run <strong><a href='https://wandb.ai/gmarinowandb-8601/RhetoricalRolesClassification-ITA-RhetRoles/runs/w8no8t59' target=\"_blank\">Italian-LEGAL-BERT-Trial23</a></strong> to <a href='https://wandb.ai/gmarinowandb-8601/RhetoricalRolesClassification-ITA-RhetRoles' target=\"_blank\">Weights & Biases</a> (<a href='https://wandb.me/run' target=\"_blank\">docs</a>)<br/>"
      ],
      "text/plain": [
       "<IPython.core.display.HTML object>"
      ]
     },
     "metadata": {},
     "output_type": "display_data"
    },
    {
     "data": {
      "text/html": [
       " View project at <a href='https://wandb.ai/gmarinowandb-8601/RhetoricalRolesClassification-ITA-RhetRoles' target=\"_blank\">https://wandb.ai/gmarinowandb-8601/RhetoricalRolesClassification-ITA-RhetRoles</a>"
      ],
      "text/plain": [
       "<IPython.core.display.HTML object>"
      ]
     },
     "metadata": {},
     "output_type": "display_data"
    },
    {
     "data": {
      "text/html": [
       " View run at <a href='https://wandb.ai/gmarinowandb-8601/RhetoricalRolesClassification-ITA-RhetRoles/runs/w8no8t59' target=\"_blank\">https://wandb.ai/gmarinowandb-8601/RhetoricalRolesClassification-ITA-RhetRoles/runs/w8no8t59</a>"
      ],
      "text/plain": [
       "<IPython.core.display.HTML object>"
      ]
     },
     "metadata": {},
     "output_type": "display_data"
    },
    {
     "name": "stdout",
     "output_type": "stream",
     "text": [
      "\n",
      "************** Training Started **************\n",
      "\n",
      "EPOCH N. 1\n"
     ]
    },
    {
     "name": "stderr",
     "output_type": "stream",
     "text": [
      "532it [01:42,  5.18it/s]\n"
     ]
    },
    {
     "name": "stdout",
     "output_type": "stream",
     "text": [
      "\n",
      "TRAIN RESULTS\n",
      "Loss: 0.0035653840477681263\n",
      "Accuracy: 0.8295447862141975\n",
      "MCC: 0.7322011286540885\n",
      "Macro F1: 0.8232711095535189\n",
      "Macro Precision: 0.8339589058621852\n",
      "Macro Recall: 0.8171139645436478\n",
      "Micro F1: 0.8295447862141975\n",
      "Micro Precision: 0.8295447862141975\n",
      "Micro Recall: 0.8295447862141975\n",
      "\n",
      "VALIDATION RESULTS\n",
      "Loss: 0.002850982593372464\n",
      "Accuracy: 0.8613305613305613\n",
      "MCC: 0.7852685286009027\n",
      "Macro F1: 0.8640333942709301\n",
      "Macro Precision: 0.8766233123463003\n",
      "Macro Recall: 0.8545161753851304\n",
      "Micro F1: 0.8613305613305613\n",
      "Micro Precision: 0.8613305613305613\n",
      "Micro Recall: 0.8613305613305613\n",
      "--------------------------------------------------\n",
      "EPOCH N. 2\n"
     ]
    },
    {
     "name": "stderr",
     "output_type": "stream",
     "text": [
      "532it [01:42,  5.17it/s]\n"
     ]
    },
    {
     "name": "stdout",
     "output_type": "stream",
     "text": [
      "\n",
      "TRAIN RESULTS\n",
      "Loss: 0.0023932187957500196\n",
      "Accuracy: 0.8853437628653767\n",
      "MCC: 0.8208641598165559\n",
      "Macro F1: 0.8889931310912772\n",
      "Macro Precision: 0.8922941087964003\n",
      "Macro Recall: 0.8869674159350043\n",
      "Micro F1: 0.8853437628653767\n",
      "Micro Precision: 0.8853437628653767\n",
      "Micro Recall: 0.8853437628653767\n",
      "\n",
      "VALIDATION RESULTS\n",
      "Loss: 0.0028826911002397537\n",
      "Accuracy: 0.8715176715176716\n",
      "MCC: 0.8016104402318672\n",
      "Macro F1: 0.8786767307421386\n",
      "Macro Precision: 0.8870419920980208\n",
      "Macro Recall: 0.8730013711932403\n",
      "Micro F1: 0.8715176715176716\n",
      "Micro Precision: 0.8715176715176716\n",
      "Micro Recall: 0.8715176715176716\n",
      "--------------------------------------------------\n",
      "EPOCH N. 3\n"
     ]
    },
    {
     "name": "stderr",
     "output_type": "stream",
     "text": [
      "532it [01:42,  5.21it/s]\n"
     ]
    },
    {
     "name": "stdout",
     "output_type": "stream",
     "text": [
      "\n",
      "TRAIN RESULTS\n",
      "Loss: 0.0019056865903720613\n",
      "Accuracy: 0.9090895724283949\n",
      "MCC: 0.8581355181145754\n",
      "Macro F1: 0.9119821900987712\n",
      "Macro Precision: 0.9145577397276871\n",
      "Macro Recall: 0.9098565325717599\n",
      "Micro F1: 0.9090895724283949\n",
      "Micro Precision: 0.9090895724283949\n",
      "Micro Recall: 0.9090895724283949\n",
      "\n",
      "VALIDATION RESULTS\n",
      "Loss: 0.0030369237065315247\n",
      "Accuracy: 0.8685031185031185\n",
      "MCC: 0.7986995770365172\n",
      "Macro F1: 0.8784154956251295\n",
      "Macro Precision: 0.876243305480644\n",
      "Macro Recall: 0.881092137839668\n",
      "Micro F1: 0.8685031185031185\n",
      "Micro Precision: 0.8685031185031185\n",
      "Micro Recall: 0.8685031185031185\n",
      "Early stopped training\n",
      "--------------------------------------------------\n"
     ]
    },
    {
     "data": {
      "text/html": [
       "Waiting for W&B process to finish... <strong style=\"color:green\">(success).</strong>"
      ],
      "text/plain": [
       "<IPython.core.display.HTML object>"
      ]
     },
     "metadata": {},
     "output_type": "display_data"
    },
    {
     "data": {
      "text/html": [
       "<style>\n",
       "    table.wandb td:nth-child(1) { padding: 0 10px; text-align: left ; width: auto;} td:nth-child(2) {text-align: left ; width: 100%}\n",
       "    .wandb-row { display: flex; flex-direction: row; flex-wrap: wrap; justify-content: flex-start; width: 100% }\n",
       "    .wandb-col { display: flex; flex-direction: column; flex-basis: 100%; flex: 1; padding: 10px; }\n",
       "    </style>\n",
       "<div class=\"wandb-row\"><div class=\"wandb-col\"><h3>Run history:</h3><br/><table class=\"wandb\"><tr><td>Epoch</td><td>▁▅█</td></tr><tr><td>Train Loss</td><td>█▃▁</td></tr><tr><td>Validation Loss</td><td>▁▂█</td></tr></table><br/></div><div class=\"wandb-col\"><h3>Run summary:</h3><br/><table class=\"wandb\"><tr><td>Epoch</td><td>3</td></tr><tr><td>Train Loss</td><td>0.00191</td></tr><tr><td>Validation Loss</td><td>0.00304</td></tr></table><br/></div></div>"
      ],
      "text/plain": [
       "<IPython.core.display.HTML object>"
      ]
     },
     "metadata": {},
     "output_type": "display_data"
    },
    {
     "data": {
      "text/html": [
       " View run <strong style=\"color:#cdcd00\">Italian-LEGAL-BERT-Trial23</strong> at: <a href='https://wandb.ai/gmarinowandb-8601/RhetoricalRolesClassification-ITA-RhetRoles/runs/w8no8t59' target=\"_blank\">https://wandb.ai/gmarinowandb-8601/RhetoricalRolesClassification-ITA-RhetRoles/runs/w8no8t59</a><br/>Synced 5 W&B file(s), 0 media file(s), 0 artifact file(s) and 0 other file(s)"
      ],
      "text/plain": [
       "<IPython.core.display.HTML object>"
      ]
     },
     "metadata": {},
     "output_type": "display_data"
    },
    {
     "data": {
      "text/html": [
       "Find logs at: <code>./wandb/run-20230424_212209-w8no8t59/logs</code>"
      ],
      "text/plain": [
       "<IPython.core.display.HTML object>"
      ]
     },
     "metadata": {},
     "output_type": "display_data"
    },
    {
     "name": "stderr",
     "output_type": "stream",
     "text": [
      "\u001b[32m[I 2023-04-24 21:28:09,368]\u001b[0m Trial 23 finished with value: 0.002850982593372464 and parameters: {'lr': 9.569716912271804e-05, 'weight_decay': 0.05565110748844876}. Best is trial 12 with value: 0.0027747247368097305.\u001b[0m\n"
     ]
    },
    {
     "name": "stdout",
     "output_type": "stream",
     "text": [
      "\n",
      "************************ Starting New Optuna Trial ************************\n",
      "\n"
     ]
    },
    {
     "name": "stderr",
     "output_type": "stream",
     "text": [
      "Some weights of the model checkpoint at dlicari/Italian-Legal-BERT were not used when initializing BertForSequenceClassification: ['cls.predictions.transform.dense.weight', 'cls.predictions.decoder.weight', 'cls.predictions.transform.dense.bias', 'cls.predictions.bias', 'cls.predictions.decoder.bias', 'cls.predictions.transform.LayerNorm.weight', 'cls.predictions.transform.LayerNorm.bias']\n",
      "- This IS expected if you are initializing BertForSequenceClassification from the checkpoint of a model trained on another task or with another architecture (e.g. initializing a BertForSequenceClassification model from a BertForPreTraining model).\n",
      "- This IS NOT expected if you are initializing BertForSequenceClassification from the checkpoint of a model that you expect to be exactly identical (initializing a BertForSequenceClassification model from a BertForSequenceClassification model).\n",
      "Some weights of BertForSequenceClassification were not initialized from the model checkpoint at dlicari/Italian-Legal-BERT and are newly initialized: ['classifier.weight', 'classifier.bias', 'bert.pooler.dense.weight', 'bert.pooler.dense.bias']\n",
      "You should probably TRAIN this model on a down-stream task to be able to use it for predictions and inference.\n"
     ]
    },
    {
     "data": {
      "text/html": [
       "wandb version 0.15.0 is available!  To upgrade, please run:\n",
       " $ pip install wandb --upgrade"
      ],
      "text/plain": [
       "<IPython.core.display.HTML object>"
      ]
     },
     "metadata": {},
     "output_type": "display_data"
    },
    {
     "data": {
      "text/html": [
       "Tracking run with wandb version 0.13.10"
      ],
      "text/plain": [
       "<IPython.core.display.HTML object>"
      ]
     },
     "metadata": {},
     "output_type": "display_data"
    },
    {
     "data": {
      "text/html": [
       "Run data is saved locally in <code>/home/g.marino/Desktop/GA/RhetoricalRolesClassification/ITA-RhetRoles/wandb/run-20230424_212810-vpm0mgk0</code>"
      ],
      "text/plain": [
       "<IPython.core.display.HTML object>"
      ]
     },
     "metadata": {},
     "output_type": "display_data"
    },
    {
     "data": {
      "text/html": [
       "Syncing run <strong><a href='https://wandb.ai/gmarinowandb-8601/RhetoricalRolesClassification-ITA-RhetRoles/runs/vpm0mgk0' target=\"_blank\">Italian-LEGAL-BERT-Trial24</a></strong> to <a href='https://wandb.ai/gmarinowandb-8601/RhetoricalRolesClassification-ITA-RhetRoles' target=\"_blank\">Weights & Biases</a> (<a href='https://wandb.me/run' target=\"_blank\">docs</a>)<br/>"
      ],
      "text/plain": [
       "<IPython.core.display.HTML object>"
      ]
     },
     "metadata": {},
     "output_type": "display_data"
    },
    {
     "data": {
      "text/html": [
       " View project at <a href='https://wandb.ai/gmarinowandb-8601/RhetoricalRolesClassification-ITA-RhetRoles' target=\"_blank\">https://wandb.ai/gmarinowandb-8601/RhetoricalRolesClassification-ITA-RhetRoles</a>"
      ],
      "text/plain": [
       "<IPython.core.display.HTML object>"
      ]
     },
     "metadata": {},
     "output_type": "display_data"
    },
    {
     "data": {
      "text/html": [
       " View run at <a href='https://wandb.ai/gmarinowandb-8601/RhetoricalRolesClassification-ITA-RhetRoles/runs/vpm0mgk0' target=\"_blank\">https://wandb.ai/gmarinowandb-8601/RhetoricalRolesClassification-ITA-RhetRoles/runs/vpm0mgk0</a>"
      ],
      "text/plain": [
       "<IPython.core.display.HTML object>"
      ]
     },
     "metadata": {},
     "output_type": "display_data"
    },
    {
     "name": "stdout",
     "output_type": "stream",
     "text": [
      "\n",
      "************** Training Started **************\n",
      "\n",
      "EPOCH N. 1\n"
     ]
    },
    {
     "name": "stderr",
     "output_type": "stream",
     "text": [
      "532it [01:42,  5.21it/s]\n"
     ]
    },
    {
     "name": "stdout",
     "output_type": "stream",
     "text": [
      "\n",
      "TRAIN RESULTS\n",
      "Loss: 0.006992069860069231\n",
      "Accuracy: 0.6871875551373287\n",
      "MCC: 0.482908092790633\n",
      "Macro F1: 0.5793726467417635\n",
      "Macro Precision: 0.7077865869435712\n",
      "Macro Recall: 0.5239466245725911\n",
      "Micro F1: 0.6871875551373287\n",
      "Micro Precision: 0.6871875551373287\n",
      "Micro Recall: 0.6871875551373287\n",
      "\n",
      "VALIDATION RESULTS\n",
      "Loss: 0.0043682074174284935\n",
      "Accuracy: 0.8161122661122661\n",
      "MCC: 0.7168181086955029\n",
      "Macro F1: 0.8218960595167539\n",
      "Macro Precision: 0.8275552664963464\n",
      "Macro Recall: 0.8194843888889072\n",
      "Micro F1: 0.8161122661122661\n",
      "Micro Precision: 0.8161122661122661\n",
      "Micro Recall: 0.8161122661122661\n",
      "--------------------------------------------------\n"
     ]
    },
    {
     "data": {
      "text/html": [
       "Waiting for W&B process to finish... <strong style=\"color:red\">(failed 1).</strong> Press Control-C to abort syncing."
      ],
      "text/plain": [
       "<IPython.core.display.HTML object>"
      ]
     },
     "metadata": {},
     "output_type": "display_data"
    },
    {
     "data": {
      "application/vnd.jupyter.widget-view+json": {
       "model_id": "5641c55f9e334f9391c28dc025940a8a",
       "version_major": 2,
       "version_minor": 0
      },
      "text/plain": [
       "VBox(children=(Label(value='0.005 MB of 0.005 MB uploaded (0.000 MB deduped)\\r'), FloatProgress(value=1.0, max…"
      ]
     },
     "metadata": {},
     "output_type": "display_data"
    },
    {
     "data": {
      "text/html": [
       "<style>\n",
       "    table.wandb td:nth-child(1) { padding: 0 10px; text-align: left ; width: auto;} td:nth-child(2) {text-align: left ; width: 100%}\n",
       "    .wandb-row { display: flex; flex-direction: row; flex-wrap: wrap; justify-content: flex-start; width: 100% }\n",
       "    .wandb-col { display: flex; flex-direction: column; flex-basis: 100%; flex: 1; padding: 10px; }\n",
       "    </style>\n",
       "<div class=\"wandb-row\"><div class=\"wandb-col\"><h3>Run history:</h3><br/><table class=\"wandb\"><tr><td>Epoch</td><td>▁</td></tr><tr><td>Train Loss</td><td>▁</td></tr><tr><td>Validation Loss</td><td>▁</td></tr></table><br/></div><div class=\"wandb-col\"><h3>Run summary:</h3><br/><table class=\"wandb\"><tr><td>Epoch</td><td>1</td></tr><tr><td>Train Loss</td><td>0.00699</td></tr><tr><td>Validation Loss</td><td>0.00437</td></tr></table><br/></div></div>"
      ],
      "text/plain": [
       "<IPython.core.display.HTML object>"
      ]
     },
     "metadata": {},
     "output_type": "display_data"
    },
    {
     "data": {
      "text/html": [
       " View run <strong style=\"color:#cdcd00\">Italian-LEGAL-BERT-Trial24</strong> at: <a href='https://wandb.ai/gmarinowandb-8601/RhetoricalRolesClassification-ITA-RhetRoles/runs/vpm0mgk0' target=\"_blank\">https://wandb.ai/gmarinowandb-8601/RhetoricalRolesClassification-ITA-RhetRoles/runs/vpm0mgk0</a><br/>Synced 5 W&B file(s), 0 media file(s), 0 artifact file(s) and 0 other file(s)"
      ],
      "text/plain": [
       "<IPython.core.display.HTML object>"
      ]
     },
     "metadata": {},
     "output_type": "display_data"
    },
    {
     "data": {
      "text/html": [
       "Find logs at: <code>./wandb/run-20230424_212810-vpm0mgk0/logs</code>"
      ],
      "text/plain": [
       "<IPython.core.display.HTML object>"
      ]
     },
     "metadata": {},
     "output_type": "display_data"
    },
    {
     "name": "stderr",
     "output_type": "stream",
     "text": [
      "\u001b[32m[I 2023-04-24 21:30:26,448]\u001b[0m Trial 24 pruned. \u001b[0m\n"
     ]
    },
    {
     "name": "stdout",
     "output_type": "stream",
     "text": [
      "\n",
      "************************ Starting New Optuna Trial ************************\n",
      "\n"
     ]
    },
    {
     "name": "stderr",
     "output_type": "stream",
     "text": [
      "Some weights of the model checkpoint at dlicari/Italian-Legal-BERT were not used when initializing BertForSequenceClassification: ['cls.predictions.transform.dense.weight', 'cls.predictions.decoder.weight', 'cls.predictions.transform.dense.bias', 'cls.predictions.bias', 'cls.predictions.decoder.bias', 'cls.predictions.transform.LayerNorm.weight', 'cls.predictions.transform.LayerNorm.bias']\n",
      "- This IS expected if you are initializing BertForSequenceClassification from the checkpoint of a model trained on another task or with another architecture (e.g. initializing a BertForSequenceClassification model from a BertForPreTraining model).\n",
      "- This IS NOT expected if you are initializing BertForSequenceClassification from the checkpoint of a model that you expect to be exactly identical (initializing a BertForSequenceClassification model from a BertForSequenceClassification model).\n",
      "Some weights of BertForSequenceClassification were not initialized from the model checkpoint at dlicari/Italian-Legal-BERT and are newly initialized: ['classifier.weight', 'classifier.bias', 'bert.pooler.dense.weight', 'bert.pooler.dense.bias']\n",
      "You should probably TRAIN this model on a down-stream task to be able to use it for predictions and inference.\n"
     ]
    },
    {
     "data": {
      "text/html": [
       "wandb version 0.15.0 is available!  To upgrade, please run:\n",
       " $ pip install wandb --upgrade"
      ],
      "text/plain": [
       "<IPython.core.display.HTML object>"
      ]
     },
     "metadata": {},
     "output_type": "display_data"
    },
    {
     "data": {
      "text/html": [
       "Tracking run with wandb version 0.13.10"
      ],
      "text/plain": [
       "<IPython.core.display.HTML object>"
      ]
     },
     "metadata": {},
     "output_type": "display_data"
    },
    {
     "data": {
      "text/html": [
       "Run data is saved locally in <code>/home/g.marino/Desktop/GA/RhetoricalRolesClassification/ITA-RhetRoles/wandb/run-20230424_213027-z5l23loh</code>"
      ],
      "text/plain": [
       "<IPython.core.display.HTML object>"
      ]
     },
     "metadata": {},
     "output_type": "display_data"
    },
    {
     "data": {
      "text/html": [
       "Syncing run <strong><a href='https://wandb.ai/gmarinowandb-8601/RhetoricalRolesClassification-ITA-RhetRoles/runs/z5l23loh' target=\"_blank\">Italian-LEGAL-BERT-Trial25</a></strong> to <a href='https://wandb.ai/gmarinowandb-8601/RhetoricalRolesClassification-ITA-RhetRoles' target=\"_blank\">Weights & Biases</a> (<a href='https://wandb.me/run' target=\"_blank\">docs</a>)<br/>"
      ],
      "text/plain": [
       "<IPython.core.display.HTML object>"
      ]
     },
     "metadata": {},
     "output_type": "display_data"
    },
    {
     "data": {
      "text/html": [
       " View project at <a href='https://wandb.ai/gmarinowandb-8601/RhetoricalRolesClassification-ITA-RhetRoles' target=\"_blank\">https://wandb.ai/gmarinowandb-8601/RhetoricalRolesClassification-ITA-RhetRoles</a>"
      ],
      "text/plain": [
       "<IPython.core.display.HTML object>"
      ]
     },
     "metadata": {},
     "output_type": "display_data"
    },
    {
     "data": {
      "text/html": [
       " View run at <a href='https://wandb.ai/gmarinowandb-8601/RhetoricalRolesClassification-ITA-RhetRoles/runs/z5l23loh' target=\"_blank\">https://wandb.ai/gmarinowandb-8601/RhetoricalRolesClassification-ITA-RhetRoles/runs/z5l23loh</a>"
      ],
      "text/plain": [
       "<IPython.core.display.HTML object>"
      ]
     },
     "metadata": {},
     "output_type": "display_data"
    },
    {
     "name": "stdout",
     "output_type": "stream",
     "text": [
      "\n",
      "************** Training Started **************\n",
      "\n",
      "EPOCH N. 1\n"
     ]
    },
    {
     "name": "stderr",
     "output_type": "stream",
     "text": [
      "532it [01:41,  5.23it/s]\n"
     ]
    },
    {
     "name": "stdout",
     "output_type": "stream",
     "text": [
      "\n",
      "TRAIN RESULTS\n",
      "Loss: 0.003806431639142256\n",
      "Accuracy: 0.8191495618420279\n",
      "MCC: 0.7148327550700513\n",
      "Macro F1: 0.8080374155628078\n",
      "Macro Precision: 0.8268383984497184\n",
      "Macro Recall: 0.7951250632309799\n",
      "Micro F1: 0.819149561842028\n",
      "Micro Precision: 0.8191495618420279\n",
      "Micro Recall: 0.8191495618420279\n",
      "\n",
      "VALIDATION RESULTS\n",
      "Loss: 0.0028946339152753353\n",
      "Accuracy: 0.8626819126819126\n",
      "MCC: 0.7901178015268633\n",
      "Macro F1: 0.8701990456230415\n",
      "Macro Precision: 0.8653864182029618\n",
      "Macro Recall: 0.8760201920142695\n",
      "Micro F1: 0.8626819126819126\n",
      "Micro Precision: 0.8626819126819126\n",
      "Micro Recall: 0.8626819126819126\n",
      "--------------------------------------------------\n",
      "EPOCH N. 2\n"
     ]
    },
    {
     "name": "stderr",
     "output_type": "stream",
     "text": [
      "532it [01:41,  5.23it/s]\n"
     ]
    },
    {
     "name": "stdout",
     "output_type": "stream",
     "text": [
      "\n",
      "TRAIN RESULTS\n",
      "Loss: 0.0024615221813567376\n",
      "Accuracy: 0.8814620949244251\n",
      "MCC: 0.8147425341008018\n",
      "Macro F1: 0.8857888024541228\n",
      "Macro Precision: 0.8894393315104143\n",
      "Macro Recall: 0.8835852662990874\n",
      "Micro F1: 0.8814620949244251\n",
      "Micro Precision: 0.8814620949244251\n",
      "Micro Recall: 0.8814620949244251\n",
      "\n",
      "VALIDATION RESULTS\n",
      "Loss: 0.0027855525258928537\n",
      "Accuracy: 0.8722453222453223\n",
      "MCC: 0.8029646726136781\n",
      "Macro F1: 0.8795152363528034\n",
      "Macro Precision: 0.883385841646702\n",
      "Macro Recall: 0.8759540433033329\n",
      "Micro F1: 0.8722453222453223\n",
      "Micro Precision: 0.8722453222453223\n",
      "Micro Recall: 0.8722453222453223\n",
      "--------------------------------------------------\n",
      "EPOCH N. 3\n"
     ]
    },
    {
     "name": "stderr",
     "output_type": "stream",
     "text": [
      "532it [01:41,  5.22it/s]\n"
     ]
    },
    {
     "name": "stdout",
     "output_type": "stream",
     "text": [
      "\n",
      "TRAIN RESULTS\n",
      "Loss: 0.0020113383970673995\n",
      "Accuracy: 0.9040022348997235\n",
      "MCC: 0.8500958936468791\n",
      "Macro F1: 0.9069738730635752\n",
      "Macro Precision: 0.9099413573337373\n",
      "Macro Recall: 0.9045854974206975\n",
      "Micro F1: 0.9040022348997235\n",
      "Micro Precision: 0.9040022348997235\n",
      "Micro Recall: 0.9040022348997235\n",
      "\n",
      "VALIDATION RESULTS\n",
      "Loss: 0.0032111071050167084\n",
      "Accuracy: 0.8611226611226611\n",
      "MCC: 0.7876510464896946\n",
      "Macro F1: 0.8672512376385626\n",
      "Macro Precision: 0.86941362124966\n",
      "Macro Recall: 0.8676619158118297\n",
      "Micro F1: 0.8611226611226611\n",
      "Micro Precision: 0.8611226611226611\n",
      "Micro Recall: 0.8611226611226611\n",
      "--------------------------------------------------\n",
      "EPOCH N. 4\n"
     ]
    },
    {
     "name": "stderr",
     "output_type": "stream",
     "text": [
      "532it [01:42,  5.19it/s]\n"
     ]
    },
    {
     "name": "stdout",
     "output_type": "stream",
     "text": [
      "\n",
      "TRAIN RESULTS\n",
      "Loss: 0.0016314004214484572\n",
      "Accuracy: 0.9232929483032406\n",
      "MCC: 0.8803930327677031\n",
      "Macro F1: 0.9245648366944526\n",
      "Macro Precision: 0.9265485031890677\n",
      "Macro Recall: 0.9228559036163017\n",
      "Micro F1: 0.9232929483032406\n",
      "Micro Precision: 0.9232929483032406\n",
      "Micro Recall: 0.9232929483032406\n",
      "\n",
      "VALIDATION RESULTS\n",
      "Loss: 0.0031807883642613888\n",
      "Accuracy: 0.8673596673596674\n",
      "MCC: 0.7951670617273243\n",
      "Macro F1: 0.8747269670618338\n",
      "Macro Precision: 0.8786185252223155\n",
      "Macro Recall: 0.8719771523319156\n",
      "Micro F1: 0.8673596673596674\n",
      "Micro Precision: 0.8673596673596674\n",
      "Micro Recall: 0.8673596673596674\n",
      "Early stopped training\n",
      "--------------------------------------------------\n"
     ]
    },
    {
     "data": {
      "text/html": [
       "Waiting for W&B process to finish... <strong style=\"color:green\">(success).</strong>"
      ],
      "text/plain": [
       "<IPython.core.display.HTML object>"
      ]
     },
     "metadata": {},
     "output_type": "display_data"
    },
    {
     "data": {
      "application/vnd.jupyter.widget-view+json": {
       "model_id": "b6512dbe43504442bd94b5fa54a23df8",
       "version_major": 2,
       "version_minor": 0
      },
      "text/plain": [
       "VBox(children=(Label(value='0.005 MB of 0.005 MB uploaded (0.000 MB deduped)\\r'), FloatProgress(value=1.0, max…"
      ]
     },
     "metadata": {},
     "output_type": "display_data"
    },
    {
     "data": {
      "text/html": [
       "<style>\n",
       "    table.wandb td:nth-child(1) { padding: 0 10px; text-align: left ; width: auto;} td:nth-child(2) {text-align: left ; width: 100%}\n",
       "    .wandb-row { display: flex; flex-direction: row; flex-wrap: wrap; justify-content: flex-start; width: 100% }\n",
       "    .wandb-col { display: flex; flex-direction: column; flex-basis: 100%; flex: 1; padding: 10px; }\n",
       "    </style>\n",
       "<div class=\"wandb-row\"><div class=\"wandb-col\"><h3>Run history:</h3><br/><table class=\"wandb\"><tr><td>Epoch</td><td>▁▃▆█</td></tr><tr><td>Train Loss</td><td>█▄▂▁</td></tr><tr><td>Validation Loss</td><td>▃▁██</td></tr></table><br/></div><div class=\"wandb-col\"><h3>Run summary:</h3><br/><table class=\"wandb\"><tr><td>Epoch</td><td>4</td></tr><tr><td>Train Loss</td><td>0.00163</td></tr><tr><td>Validation Loss</td><td>0.00318</td></tr></table><br/></div></div>"
      ],
      "text/plain": [
       "<IPython.core.display.HTML object>"
      ]
     },
     "metadata": {},
     "output_type": "display_data"
    },
    {
     "data": {
      "text/html": [
       " View run <strong style=\"color:#cdcd00\">Italian-LEGAL-BERT-Trial25</strong> at: <a href='https://wandb.ai/gmarinowandb-8601/RhetoricalRolesClassification-ITA-RhetRoles/runs/z5l23loh' target=\"_blank\">https://wandb.ai/gmarinowandb-8601/RhetoricalRolesClassification-ITA-RhetRoles/runs/z5l23loh</a><br/>Synced 5 W&B file(s), 0 media file(s), 0 artifact file(s) and 0 other file(s)"
      ],
      "text/plain": [
       "<IPython.core.display.HTML object>"
      ]
     },
     "metadata": {},
     "output_type": "display_data"
    },
    {
     "data": {
      "text/html": [
       "Find logs at: <code>./wandb/run-20230424_213027-z5l23loh/logs</code>"
      ],
      "text/plain": [
       "<IPython.core.display.HTML object>"
      ]
     },
     "metadata": {},
     "output_type": "display_data"
    },
    {
     "name": "stderr",
     "output_type": "stream",
     "text": [
      "\u001b[32m[I 2023-04-24 21:38:25,936]\u001b[0m Trial 25 finished with value: 0.0027855525258928537 and parameters: {'lr': 6.286596615811361e-05, 'weight_decay': 0.03644746453737498}. Best is trial 12 with value: 0.0027747247368097305.\u001b[0m\n"
     ]
    },
    {
     "name": "stdout",
     "output_type": "stream",
     "text": [
      "\n",
      "************************ Starting New Optuna Trial ************************\n",
      "\n"
     ]
    },
    {
     "name": "stderr",
     "output_type": "stream",
     "text": [
      "Some weights of the model checkpoint at dlicari/Italian-Legal-BERT were not used when initializing BertForSequenceClassification: ['cls.predictions.transform.dense.weight', 'cls.predictions.decoder.weight', 'cls.predictions.transform.dense.bias', 'cls.predictions.bias', 'cls.predictions.decoder.bias', 'cls.predictions.transform.LayerNorm.weight', 'cls.predictions.transform.LayerNorm.bias']\n",
      "- This IS expected if you are initializing BertForSequenceClassification from the checkpoint of a model trained on another task or with another architecture (e.g. initializing a BertForSequenceClassification model from a BertForPreTraining model).\n",
      "- This IS NOT expected if you are initializing BertForSequenceClassification from the checkpoint of a model that you expect to be exactly identical (initializing a BertForSequenceClassification model from a BertForSequenceClassification model).\n",
      "Some weights of BertForSequenceClassification were not initialized from the model checkpoint at dlicari/Italian-Legal-BERT and are newly initialized: ['classifier.weight', 'classifier.bias', 'bert.pooler.dense.weight', 'bert.pooler.dense.bias']\n",
      "You should probably TRAIN this model on a down-stream task to be able to use it for predictions and inference.\n"
     ]
    },
    {
     "data": {
      "text/html": [
       "wandb version 0.15.0 is available!  To upgrade, please run:\n",
       " $ pip install wandb --upgrade"
      ],
      "text/plain": [
       "<IPython.core.display.HTML object>"
      ]
     },
     "metadata": {},
     "output_type": "display_data"
    },
    {
     "data": {
      "text/html": [
       "Tracking run with wandb version 0.13.10"
      ],
      "text/plain": [
       "<IPython.core.display.HTML object>"
      ]
     },
     "metadata": {},
     "output_type": "display_data"
    },
    {
     "data": {
      "text/html": [
       "Run data is saved locally in <code>/home/g.marino/Desktop/GA/RhetoricalRolesClassification/ITA-RhetRoles/wandb/run-20230424_213827-oq2zam1e</code>"
      ],
      "text/plain": [
       "<IPython.core.display.HTML object>"
      ]
     },
     "metadata": {},
     "output_type": "display_data"
    },
    {
     "data": {
      "text/html": [
       "Syncing run <strong><a href='https://wandb.ai/gmarinowandb-8601/RhetoricalRolesClassification-ITA-RhetRoles/runs/oq2zam1e' target=\"_blank\">Italian-LEGAL-BERT-Trial26</a></strong> to <a href='https://wandb.ai/gmarinowandb-8601/RhetoricalRolesClassification-ITA-RhetRoles' target=\"_blank\">Weights & Biases</a> (<a href='https://wandb.me/run' target=\"_blank\">docs</a>)<br/>"
      ],
      "text/plain": [
       "<IPython.core.display.HTML object>"
      ]
     },
     "metadata": {},
     "output_type": "display_data"
    },
    {
     "data": {
      "text/html": [
       " View project at <a href='https://wandb.ai/gmarinowandb-8601/RhetoricalRolesClassification-ITA-RhetRoles' target=\"_blank\">https://wandb.ai/gmarinowandb-8601/RhetoricalRolesClassification-ITA-RhetRoles</a>"
      ],
      "text/plain": [
       "<IPython.core.display.HTML object>"
      ]
     },
     "metadata": {},
     "output_type": "display_data"
    },
    {
     "data": {
      "text/html": [
       " View run at <a href='https://wandb.ai/gmarinowandb-8601/RhetoricalRolesClassification-ITA-RhetRoles/runs/oq2zam1e' target=\"_blank\">https://wandb.ai/gmarinowandb-8601/RhetoricalRolesClassification-ITA-RhetRoles/runs/oq2zam1e</a>"
      ],
      "text/plain": [
       "<IPython.core.display.HTML object>"
      ]
     },
     "metadata": {},
     "output_type": "display_data"
    },
    {
     "name": "stdout",
     "output_type": "stream",
     "text": [
      "\n",
      "************** Training Started **************\n",
      "\n",
      "EPOCH N. 1\n"
     ]
    },
    {
     "name": "stderr",
     "output_type": "stream",
     "text": [
      "532it [01:43,  5.15it/s]\n"
     ]
    },
    {
     "name": "stdout",
     "output_type": "stream",
     "text": [
      "\n",
      "TRAIN RESULTS\n",
      "Loss: 0.0035959195856353097\n",
      "Accuracy: 0.8287214021055108\n",
      "MCC: 0.7307394985340957\n",
      "Macro F1: 0.824721198355095\n",
      "Macro Precision: 0.8390576824659888\n",
      "Macro Recall: 0.815272610860626\n",
      "Micro F1: 0.8287214021055108\n",
      "Micro Precision: 0.8287214021055108\n",
      "Micro Recall: 0.8287214021055108\n",
      "\n",
      "VALIDATION RESULTS\n",
      "Loss: 0.0029730249661952257\n",
      "Accuracy: 0.8616424116424116\n",
      "MCC: 0.7877057841952736\n",
      "Macro F1: 0.8661981012254103\n",
      "Macro Precision: 0.8756721672809065\n",
      "Macro Recall: 0.864949856839537\n",
      "Micro F1: 0.8616424116424116\n",
      "Micro Precision: 0.8616424116424116\n",
      "Micro Recall: 0.8616424116424116\n",
      "--------------------------------------------------\n"
     ]
    },
    {
     "data": {
      "text/html": [
       "Waiting for W&B process to finish... <strong style=\"color:red\">(failed 1).</strong> Press Control-C to abort syncing."
      ],
      "text/plain": [
       "<IPython.core.display.HTML object>"
      ]
     },
     "metadata": {},
     "output_type": "display_data"
    },
    {
     "data": {
      "application/vnd.jupyter.widget-view+json": {
       "model_id": "987af566b5a34d52aaafec266b7fc67c",
       "version_major": 2,
       "version_minor": 0
      },
      "text/plain": [
       "VBox(children=(Label(value='0.005 MB of 0.005 MB uploaded (0.000 MB deduped)\\r'), FloatProgress(value=1.0, max…"
      ]
     },
     "metadata": {},
     "output_type": "display_data"
    },
    {
     "data": {
      "text/html": [
       "<style>\n",
       "    table.wandb td:nth-child(1) { padding: 0 10px; text-align: left ; width: auto;} td:nth-child(2) {text-align: left ; width: 100%}\n",
       "    .wandb-row { display: flex; flex-direction: row; flex-wrap: wrap; justify-content: flex-start; width: 100% }\n",
       "    .wandb-col { display: flex; flex-direction: column; flex-basis: 100%; flex: 1; padding: 10px; }\n",
       "    </style>\n",
       "<div class=\"wandb-row\"><div class=\"wandb-col\"><h3>Run history:</h3><br/><table class=\"wandb\"><tr><td>Epoch</td><td>▁</td></tr><tr><td>Train Loss</td><td>▁</td></tr><tr><td>Validation Loss</td><td>▁</td></tr></table><br/></div><div class=\"wandb-col\"><h3>Run summary:</h3><br/><table class=\"wandb\"><tr><td>Epoch</td><td>1</td></tr><tr><td>Train Loss</td><td>0.0036</td></tr><tr><td>Validation Loss</td><td>0.00297</td></tr></table><br/></div></div>"
      ],
      "text/plain": [
       "<IPython.core.display.HTML object>"
      ]
     },
     "metadata": {},
     "output_type": "display_data"
    },
    {
     "data": {
      "text/html": [
       " View run <strong style=\"color:#cdcd00\">Italian-LEGAL-BERT-Trial26</strong> at: <a href='https://wandb.ai/gmarinowandb-8601/RhetoricalRolesClassification-ITA-RhetRoles/runs/oq2zam1e' target=\"_blank\">https://wandb.ai/gmarinowandb-8601/RhetoricalRolesClassification-ITA-RhetRoles/runs/oq2zam1e</a><br/>Synced 5 W&B file(s), 0 media file(s), 0 artifact file(s) and 0 other file(s)"
      ],
      "text/plain": [
       "<IPython.core.display.HTML object>"
      ]
     },
     "metadata": {},
     "output_type": "display_data"
    },
    {
     "data": {
      "text/html": [
       "Find logs at: <code>./wandb/run-20230424_213827-oq2zam1e/logs</code>"
      ],
      "text/plain": [
       "<IPython.core.display.HTML object>"
      ]
     },
     "metadata": {},
     "output_type": "display_data"
    },
    {
     "name": "stderr",
     "output_type": "stream",
     "text": [
      "\u001b[32m[I 2023-04-24 21:40:44,439]\u001b[0m Trial 26 pruned. \u001b[0m\n"
     ]
    },
    {
     "name": "stdout",
     "output_type": "stream",
     "text": [
      "\n",
      "************************ Starting New Optuna Trial ************************\n",
      "\n"
     ]
    },
    {
     "name": "stderr",
     "output_type": "stream",
     "text": [
      "Some weights of the model checkpoint at dlicari/Italian-Legal-BERT were not used when initializing BertForSequenceClassification: ['cls.predictions.transform.dense.weight', 'cls.predictions.decoder.weight', 'cls.predictions.transform.dense.bias', 'cls.predictions.bias', 'cls.predictions.decoder.bias', 'cls.predictions.transform.LayerNorm.weight', 'cls.predictions.transform.LayerNorm.bias']\n",
      "- This IS expected if you are initializing BertForSequenceClassification from the checkpoint of a model trained on another task or with another architecture (e.g. initializing a BertForSequenceClassification model from a BertForPreTraining model).\n",
      "- This IS NOT expected if you are initializing BertForSequenceClassification from the checkpoint of a model that you expect to be exactly identical (initializing a BertForSequenceClassification model from a BertForSequenceClassification model).\n",
      "Some weights of BertForSequenceClassification were not initialized from the model checkpoint at dlicari/Italian-Legal-BERT and are newly initialized: ['classifier.weight', 'classifier.bias', 'bert.pooler.dense.weight', 'bert.pooler.dense.bias']\n",
      "You should probably TRAIN this model on a down-stream task to be able to use it for predictions and inference.\n"
     ]
    },
    {
     "data": {
      "text/html": [
       "wandb version 0.15.0 is available!  To upgrade, please run:\n",
       " $ pip install wandb --upgrade"
      ],
      "text/plain": [
       "<IPython.core.display.HTML object>"
      ]
     },
     "metadata": {},
     "output_type": "display_data"
    },
    {
     "data": {
      "text/html": [
       "Tracking run with wandb version 0.13.10"
      ],
      "text/plain": [
       "<IPython.core.display.HTML object>"
      ]
     },
     "metadata": {},
     "output_type": "display_data"
    },
    {
     "data": {
      "text/html": [
       "Run data is saved locally in <code>/home/g.marino/Desktop/GA/RhetoricalRolesClassification/ITA-RhetRoles/wandb/run-20230424_214045-w7rzgett</code>"
      ],
      "text/plain": [
       "<IPython.core.display.HTML object>"
      ]
     },
     "metadata": {},
     "output_type": "display_data"
    },
    {
     "data": {
      "text/html": [
       "Syncing run <strong><a href='https://wandb.ai/gmarinowandb-8601/RhetoricalRolesClassification-ITA-RhetRoles/runs/w7rzgett' target=\"_blank\">Italian-LEGAL-BERT-Trial27</a></strong> to <a href='https://wandb.ai/gmarinowandb-8601/RhetoricalRolesClassification-ITA-RhetRoles' target=\"_blank\">Weights & Biases</a> (<a href='https://wandb.me/run' target=\"_blank\">docs</a>)<br/>"
      ],
      "text/plain": [
       "<IPython.core.display.HTML object>"
      ]
     },
     "metadata": {},
     "output_type": "display_data"
    },
    {
     "data": {
      "text/html": [
       " View project at <a href='https://wandb.ai/gmarinowandb-8601/RhetoricalRolesClassification-ITA-RhetRoles' target=\"_blank\">https://wandb.ai/gmarinowandb-8601/RhetoricalRolesClassification-ITA-RhetRoles</a>"
      ],
      "text/plain": [
       "<IPython.core.display.HTML object>"
      ]
     },
     "metadata": {},
     "output_type": "display_data"
    },
    {
     "data": {
      "text/html": [
       " View run at <a href='https://wandb.ai/gmarinowandb-8601/RhetoricalRolesClassification-ITA-RhetRoles/runs/w7rzgett' target=\"_blank\">https://wandb.ai/gmarinowandb-8601/RhetoricalRolesClassification-ITA-RhetRoles/runs/w7rzgett</a>"
      ],
      "text/plain": [
       "<IPython.core.display.HTML object>"
      ]
     },
     "metadata": {},
     "output_type": "display_data"
    },
    {
     "name": "stdout",
     "output_type": "stream",
     "text": [
      "\n",
      "************** Training Started **************\n",
      "\n",
      "EPOCH N. 1\n"
     ]
    },
    {
     "name": "stderr",
     "output_type": "stream",
     "text": [
      "532it [01:42,  5.19it/s]\n"
     ]
    },
    {
     "name": "stdout",
     "output_type": "stream",
     "text": [
      "\n",
      "TRAIN RESULTS\n",
      "Loss: 0.0034613947712210553\n",
      "Accuracy: 0.8325736634711521\n",
      "MCC: 0.7369579948287526\n",
      "Macro F1: 0.8303133277518875\n",
      "Macro Precision: 0.8409242969699907\n",
      "Macro Recall: 0.8233621527393353\n",
      "Micro F1: 0.8325736634711521\n",
      "Micro Precision: 0.8325736634711521\n",
      "Micro Recall: 0.8325736634711521\n",
      "\n",
      "VALIDATION RESULTS\n",
      "Loss: 0.002944324165582657\n",
      "Accuracy: 0.866008316008316\n",
      "MCC: 0.7945537397939484\n",
      "Macro F1: 0.8698960554336491\n",
      "Macro Precision: 0.876868383071821\n",
      "Macro Recall: 0.8699632846396306\n",
      "Micro F1: 0.866008316008316\n",
      "Micro Precision: 0.866008316008316\n",
      "Micro Recall: 0.866008316008316\n",
      "--------------------------------------------------\n"
     ]
    },
    {
     "data": {
      "text/html": [
       "Waiting for W&B process to finish... <strong style=\"color:red\">(failed 1).</strong> Press Control-C to abort syncing."
      ],
      "text/plain": [
       "<IPython.core.display.HTML object>"
      ]
     },
     "metadata": {},
     "output_type": "display_data"
    },
    {
     "data": {
      "text/html": [
       "<style>\n",
       "    table.wandb td:nth-child(1) { padding: 0 10px; text-align: left ; width: auto;} td:nth-child(2) {text-align: left ; width: 100%}\n",
       "    .wandb-row { display: flex; flex-direction: row; flex-wrap: wrap; justify-content: flex-start; width: 100% }\n",
       "    .wandb-col { display: flex; flex-direction: column; flex-basis: 100%; flex: 1; padding: 10px; }\n",
       "    </style>\n",
       "<div class=\"wandb-row\"><div class=\"wandb-col\"><h3>Run history:</h3><br/><table class=\"wandb\"><tr><td>Epoch</td><td>▁</td></tr><tr><td>Train Loss</td><td>▁</td></tr><tr><td>Validation Loss</td><td>▁</td></tr></table><br/></div><div class=\"wandb-col\"><h3>Run summary:</h3><br/><table class=\"wandb\"><tr><td>Epoch</td><td>1</td></tr><tr><td>Train Loss</td><td>0.00346</td></tr><tr><td>Validation Loss</td><td>0.00294</td></tr></table><br/></div></div>"
      ],
      "text/plain": [
       "<IPython.core.display.HTML object>"
      ]
     },
     "metadata": {},
     "output_type": "display_data"
    },
    {
     "data": {
      "text/html": [
       " View run <strong style=\"color:#cdcd00\">Italian-LEGAL-BERT-Trial27</strong> at: <a href='https://wandb.ai/gmarinowandb-8601/RhetoricalRolesClassification-ITA-RhetRoles/runs/w7rzgett' target=\"_blank\">https://wandb.ai/gmarinowandb-8601/RhetoricalRolesClassification-ITA-RhetRoles/runs/w7rzgett</a><br/>Synced 5 W&B file(s), 0 media file(s), 0 artifact file(s) and 0 other file(s)"
      ],
      "text/plain": [
       "<IPython.core.display.HTML object>"
      ]
     },
     "metadata": {},
     "output_type": "display_data"
    },
    {
     "data": {
      "text/html": [
       "Find logs at: <code>./wandb/run-20230424_214045-w7rzgett/logs</code>"
      ],
      "text/plain": [
       "<IPython.core.display.HTML object>"
      ]
     },
     "metadata": {},
     "output_type": "display_data"
    },
    {
     "name": "stderr",
     "output_type": "stream",
     "text": [
      "\u001b[32m[I 2023-04-24 21:43:11,264]\u001b[0m Trial 27 pruned. \u001b[0m\n"
     ]
    },
    {
     "name": "stdout",
     "output_type": "stream",
     "text": [
      "\n",
      "************************ Starting New Optuna Trial ************************\n",
      "\n"
     ]
    },
    {
     "name": "stderr",
     "output_type": "stream",
     "text": [
      "Some weights of the model checkpoint at dlicari/Italian-Legal-BERT were not used when initializing BertForSequenceClassification: ['cls.predictions.transform.dense.weight', 'cls.predictions.decoder.weight', 'cls.predictions.transform.dense.bias', 'cls.predictions.bias', 'cls.predictions.decoder.bias', 'cls.predictions.transform.LayerNorm.weight', 'cls.predictions.transform.LayerNorm.bias']\n",
      "- This IS expected if you are initializing BertForSequenceClassification from the checkpoint of a model trained on another task or with another architecture (e.g. initializing a BertForSequenceClassification model from a BertForPreTraining model).\n",
      "- This IS NOT expected if you are initializing BertForSequenceClassification from the checkpoint of a model that you expect to be exactly identical (initializing a BertForSequenceClassification model from a BertForSequenceClassification model).\n",
      "Some weights of BertForSequenceClassification were not initialized from the model checkpoint at dlicari/Italian-Legal-BERT and are newly initialized: ['classifier.weight', 'classifier.bias', 'bert.pooler.dense.weight', 'bert.pooler.dense.bias']\n",
      "You should probably TRAIN this model on a down-stream task to be able to use it for predictions and inference.\n"
     ]
    },
    {
     "data": {
      "text/html": [
       "wandb version 0.15.0 is available!  To upgrade, please run:\n",
       " $ pip install wandb --upgrade"
      ],
      "text/plain": [
       "<IPython.core.display.HTML object>"
      ]
     },
     "metadata": {},
     "output_type": "display_data"
    },
    {
     "data": {
      "text/html": [
       "Tracking run with wandb version 0.13.10"
      ],
      "text/plain": [
       "<IPython.core.display.HTML object>"
      ]
     },
     "metadata": {},
     "output_type": "display_data"
    },
    {
     "data": {
      "text/html": [
       "Run data is saved locally in <code>/home/g.marino/Desktop/GA/RhetoricalRolesClassification/ITA-RhetRoles/wandb/run-20230424_214312-bxlnuc9h</code>"
      ],
      "text/plain": [
       "<IPython.core.display.HTML object>"
      ]
     },
     "metadata": {},
     "output_type": "display_data"
    },
    {
     "data": {
      "text/html": [
       "Syncing run <strong><a href='https://wandb.ai/gmarinowandb-8601/RhetoricalRolesClassification-ITA-RhetRoles/runs/bxlnuc9h' target=\"_blank\">Italian-LEGAL-BERT-Trial28</a></strong> to <a href='https://wandb.ai/gmarinowandb-8601/RhetoricalRolesClassification-ITA-RhetRoles' target=\"_blank\">Weights & Biases</a> (<a href='https://wandb.me/run' target=\"_blank\">docs</a>)<br/>"
      ],
      "text/plain": [
       "<IPython.core.display.HTML object>"
      ]
     },
     "metadata": {},
     "output_type": "display_data"
    },
    {
     "data": {
      "text/html": [
       " View project at <a href='https://wandb.ai/gmarinowandb-8601/RhetoricalRolesClassification-ITA-RhetRoles' target=\"_blank\">https://wandb.ai/gmarinowandb-8601/RhetoricalRolesClassification-ITA-RhetRoles</a>"
      ],
      "text/plain": [
       "<IPython.core.display.HTML object>"
      ]
     },
     "metadata": {},
     "output_type": "display_data"
    },
    {
     "data": {
      "text/html": [
       " View run at <a href='https://wandb.ai/gmarinowandb-8601/RhetoricalRolesClassification-ITA-RhetRoles/runs/bxlnuc9h' target=\"_blank\">https://wandb.ai/gmarinowandb-8601/RhetoricalRolesClassification-ITA-RhetRoles/runs/bxlnuc9h</a>"
      ],
      "text/plain": [
       "<IPython.core.display.HTML object>"
      ]
     },
     "metadata": {},
     "output_type": "display_data"
    },
    {
     "name": "stdout",
     "output_type": "stream",
     "text": [
      "\n",
      "************** Training Started **************\n",
      "\n",
      "EPOCH N. 1\n"
     ]
    },
    {
     "name": "stderr",
     "output_type": "stream",
     "text": [
      "532it [01:42,  5.19it/s]\n"
     ]
    },
    {
     "name": "stdout",
     "output_type": "stream",
     "text": [
      "\n",
      "TRAIN RESULTS\n",
      "Loss: 0.0038772949369726465\n",
      "Accuracy: 0.8153855202023172\n",
      "MCC: 0.708637455915258\n",
      "Macro F1: 0.800565199779794\n",
      "Macro Precision: 0.8194718239520189\n",
      "Macro Recall: 0.78703465024966\n",
      "Micro F1: 0.8153855202023172\n",
      "Micro Precision: 0.8153855202023172\n",
      "Micro Recall: 0.8153855202023172\n",
      "\n",
      "VALIDATION RESULTS\n",
      "Loss: 0.003031538799405098\n",
      "Accuracy: 0.8576923076923076\n",
      "MCC: 0.7809481013041658\n",
      "Macro F1: 0.8633219872347461\n",
      "Macro Precision: 0.8776659794268667\n",
      "Macro Recall: 0.8566516041515202\n",
      "Micro F1: 0.8576923076923076\n",
      "Micro Precision: 0.8576923076923076\n",
      "Micro Recall: 0.8576923076923076\n",
      "--------------------------------------------------\n"
     ]
    },
    {
     "data": {
      "text/html": [
       "Waiting for W&B process to finish... <strong style=\"color:red\">(failed 1).</strong> Press Control-C to abort syncing."
      ],
      "text/plain": [
       "<IPython.core.display.HTML object>"
      ]
     },
     "metadata": {},
     "output_type": "display_data"
    },
    {
     "data": {
      "application/vnd.jupyter.widget-view+json": {
       "model_id": "c7c9be65d8a34663bea31f9f959d7365",
       "version_major": 2,
       "version_minor": 0
      },
      "text/plain": [
       "VBox(children=(Label(value='0.005 MB of 0.005 MB uploaded (0.000 MB deduped)\\r'), FloatProgress(value=1.0, max…"
      ]
     },
     "metadata": {},
     "output_type": "display_data"
    },
    {
     "data": {
      "text/html": [
       "<style>\n",
       "    table.wandb td:nth-child(1) { padding: 0 10px; text-align: left ; width: auto;} td:nth-child(2) {text-align: left ; width: 100%}\n",
       "    .wandb-row { display: flex; flex-direction: row; flex-wrap: wrap; justify-content: flex-start; width: 100% }\n",
       "    .wandb-col { display: flex; flex-direction: column; flex-basis: 100%; flex: 1; padding: 10px; }\n",
       "    </style>\n",
       "<div class=\"wandb-row\"><div class=\"wandb-col\"><h3>Run history:</h3><br/><table class=\"wandb\"><tr><td>Epoch</td><td>▁</td></tr><tr><td>Train Loss</td><td>▁</td></tr><tr><td>Validation Loss</td><td>▁</td></tr></table><br/></div><div class=\"wandb-col\"><h3>Run summary:</h3><br/><table class=\"wandb\"><tr><td>Epoch</td><td>1</td></tr><tr><td>Train Loss</td><td>0.00388</td></tr><tr><td>Validation Loss</td><td>0.00303</td></tr></table><br/></div></div>"
      ],
      "text/plain": [
       "<IPython.core.display.HTML object>"
      ]
     },
     "metadata": {},
     "output_type": "display_data"
    },
    {
     "data": {
      "text/html": [
       " View run <strong style=\"color:#cdcd00\">Italian-LEGAL-BERT-Trial28</strong> at: <a href='https://wandb.ai/gmarinowandb-8601/RhetoricalRolesClassification-ITA-RhetRoles/runs/bxlnuc9h' target=\"_blank\">https://wandb.ai/gmarinowandb-8601/RhetoricalRolesClassification-ITA-RhetRoles/runs/bxlnuc9h</a><br/>Synced 5 W&B file(s), 0 media file(s), 0 artifact file(s) and 0 other file(s)"
      ],
      "text/plain": [
       "<IPython.core.display.HTML object>"
      ]
     },
     "metadata": {},
     "output_type": "display_data"
    },
    {
     "data": {
      "text/html": [
       "Find logs at: <code>./wandb/run-20230424_214312-bxlnuc9h/logs</code>"
      ],
      "text/plain": [
       "<IPython.core.display.HTML object>"
      ]
     },
     "metadata": {},
     "output_type": "display_data"
    },
    {
     "name": "stderr",
     "output_type": "stream",
     "text": [
      "\u001b[32m[I 2023-04-24 21:45:28,237]\u001b[0m Trial 28 pruned. \u001b[0m\n"
     ]
    },
    {
     "name": "stdout",
     "output_type": "stream",
     "text": [
      "\n",
      "************************ Starting New Optuna Trial ************************\n",
      "\n"
     ]
    },
    {
     "name": "stderr",
     "output_type": "stream",
     "text": [
      "Some weights of the model checkpoint at dlicari/Italian-Legal-BERT were not used when initializing BertForSequenceClassification: ['cls.predictions.transform.dense.weight', 'cls.predictions.decoder.weight', 'cls.predictions.transform.dense.bias', 'cls.predictions.bias', 'cls.predictions.decoder.bias', 'cls.predictions.transform.LayerNorm.weight', 'cls.predictions.transform.LayerNorm.bias']\n",
      "- This IS expected if you are initializing BertForSequenceClassification from the checkpoint of a model trained on another task or with another architecture (e.g. initializing a BertForSequenceClassification model from a BertForPreTraining model).\n",
      "- This IS NOT expected if you are initializing BertForSequenceClassification from the checkpoint of a model that you expect to be exactly identical (initializing a BertForSequenceClassification model from a BertForSequenceClassification model).\n",
      "Some weights of BertForSequenceClassification were not initialized from the model checkpoint at dlicari/Italian-Legal-BERT and are newly initialized: ['classifier.weight', 'classifier.bias', 'bert.pooler.dense.weight', 'bert.pooler.dense.bias']\n",
      "You should probably TRAIN this model on a down-stream task to be able to use it for predictions and inference.\n"
     ]
    },
    {
     "data": {
      "text/html": [
       "wandb version 0.15.0 is available!  To upgrade, please run:\n",
       " $ pip install wandb --upgrade"
      ],
      "text/plain": [
       "<IPython.core.display.HTML object>"
      ]
     },
     "metadata": {},
     "output_type": "display_data"
    },
    {
     "data": {
      "text/html": [
       "Tracking run with wandb version 0.13.10"
      ],
      "text/plain": [
       "<IPython.core.display.HTML object>"
      ]
     },
     "metadata": {},
     "output_type": "display_data"
    },
    {
     "data": {
      "text/html": [
       "Run data is saved locally in <code>/home/g.marino/Desktop/GA/RhetoricalRolesClassification/ITA-RhetRoles/wandb/run-20230424_214529-91kgthq3</code>"
      ],
      "text/plain": [
       "<IPython.core.display.HTML object>"
      ]
     },
     "metadata": {},
     "output_type": "display_data"
    },
    {
     "data": {
      "text/html": [
       "Syncing run <strong><a href='https://wandb.ai/gmarinowandb-8601/RhetoricalRolesClassification-ITA-RhetRoles/runs/91kgthq3' target=\"_blank\">Italian-LEGAL-BERT-Trial29</a></strong> to <a href='https://wandb.ai/gmarinowandb-8601/RhetoricalRolesClassification-ITA-RhetRoles' target=\"_blank\">Weights & Biases</a> (<a href='https://wandb.me/run' target=\"_blank\">docs</a>)<br/>"
      ],
      "text/plain": [
       "<IPython.core.display.HTML object>"
      ]
     },
     "metadata": {},
     "output_type": "display_data"
    },
    {
     "data": {
      "text/html": [
       " View project at <a href='https://wandb.ai/gmarinowandb-8601/RhetoricalRolesClassification-ITA-RhetRoles' target=\"_blank\">https://wandb.ai/gmarinowandb-8601/RhetoricalRolesClassification-ITA-RhetRoles</a>"
      ],
      "text/plain": [
       "<IPython.core.display.HTML object>"
      ]
     },
     "metadata": {},
     "output_type": "display_data"
    },
    {
     "data": {
      "text/html": [
       " View run at <a href='https://wandb.ai/gmarinowandb-8601/RhetoricalRolesClassification-ITA-RhetRoles/runs/91kgthq3' target=\"_blank\">https://wandb.ai/gmarinowandb-8601/RhetoricalRolesClassification-ITA-RhetRoles/runs/91kgthq3</a>"
      ],
      "text/plain": [
       "<IPython.core.display.HTML object>"
      ]
     },
     "metadata": {},
     "output_type": "display_data"
    },
    {
     "name": "stdout",
     "output_type": "stream",
     "text": [
      "\n",
      "************** Training Started **************\n",
      "\n",
      "EPOCH N. 1\n"
     ]
    },
    {
     "name": "stderr",
     "output_type": "stream",
     "text": [
      "532it [01:42,  5.18it/s]\n"
     ]
    },
    {
     "name": "stdout",
     "output_type": "stream",
     "text": [
      "\n",
      "TRAIN RESULTS\n",
      "Loss: 0.0036216559251049003\n",
      "Accuracy: 0.8267364582720697\n",
      "MCC: 0.7276981266533836\n",
      "Macro F1: 0.815724154595193\n",
      "Macro Precision: 0.8269882179824661\n",
      "Macro Recall: 0.8095998844254784\n",
      "Micro F1: 0.8267364582720697\n",
      "Micro Precision: 0.8267364582720697\n",
      "Micro Recall: 0.8267364582720697\n",
      "\n",
      "VALIDATION RESULTS\n",
      "Loss: 0.00288951862603426\n",
      "Accuracy: 0.8650727650727651\n",
      "MCC: 0.7910421401924379\n",
      "Macro F1: 0.8693025126988292\n",
      "Macro Precision: 0.8786506891226459\n",
      "Macro Recall: 0.8627709307054579\n",
      "Micro F1: 0.8650727650727651\n",
      "Micro Precision: 0.8650727650727651\n",
      "Micro Recall: 0.8650727650727651\n",
      "--------------------------------------------------\n",
      "EPOCH N. 2\n"
     ]
    },
    {
     "name": "stderr",
     "output_type": "stream",
     "text": [
      "532it [01:42,  5.18it/s]\n"
     ]
    },
    {
     "name": "stdout",
     "output_type": "stream",
     "text": [
      "\n",
      "TRAIN RESULTS\n",
      "Loss: 0.0025235534799696313\n",
      "Accuracy: 0.8786684702699523\n",
      "MCC: 0.8101772977290994\n",
      "Macro F1: 0.8803419177742084\n",
      "Macro Precision: 0.885355087608386\n",
      "Macro Recall: 0.8768223839724539\n",
      "Micro F1: 0.8786684702699523\n",
      "Micro Precision: 0.8786684702699523\n",
      "Micro Recall: 0.8786684702699523\n",
      "\n",
      "VALIDATION RESULTS\n",
      "Loss: 0.0030659043695777655\n",
      "Accuracy: 0.8570686070686071\n",
      "MCC: 0.7840372389501588\n",
      "Macro F1: 0.8693943896267319\n",
      "Macro Precision: 0.867133475994828\n",
      "Macro Recall: 0.8729506422010254\n",
      "Micro F1: 0.8570686070686072\n",
      "Micro Precision: 0.8570686070686071\n",
      "Micro Recall: 0.8570686070686071\n",
      "--------------------------------------------------\n",
      "EPOCH N. 3\n"
     ]
    },
    {
     "name": "stderr",
     "output_type": "stream",
     "text": [
      "532it [01:42,  5.20it/s]\n"
     ]
    },
    {
     "name": "stdout",
     "output_type": "stream",
     "text": [
      "\n",
      "TRAIN RESULTS\n",
      "Loss: 0.002046609225859889\n",
      "Accuracy: 0.9017085220255249\n",
      "MCC: 0.8465512860581691\n",
      "Macro F1: 0.9047589391118691\n",
      "Macro Precision: 0.9075273645893794\n",
      "Macro Recall: 0.9025107252912778\n",
      "Micro F1: 0.9017085220255249\n",
      "Micro Precision: 0.9017085220255249\n",
      "Micro Recall: 0.9017085220255249\n",
      "\n",
      "VALIDATION RESULTS\n",
      "Loss: 0.0030748245771974325\n",
      "Accuracy: 0.8640332640332641\n",
      "MCC: 0.7887746518453281\n",
      "Macro F1: 0.8689096239551841\n",
      "Macro Precision: 0.8836017481592693\n",
      "Macro Recall: 0.8564108325902577\n",
      "Micro F1: 0.8640332640332641\n",
      "Micro Precision: 0.8640332640332641\n",
      "Micro Recall: 0.8640332640332641\n",
      "Early stopped training\n",
      "--------------------------------------------------\n"
     ]
    },
    {
     "data": {
      "text/html": [
       "Waiting for W&B process to finish... <strong style=\"color:green\">(success).</strong>"
      ],
      "text/plain": [
       "<IPython.core.display.HTML object>"
      ]
     },
     "metadata": {},
     "output_type": "display_data"
    },
    {
     "data": {
      "application/vnd.jupyter.widget-view+json": {
       "model_id": "369bfdeeca154b8090835ae8403f888e",
       "version_major": 2,
       "version_minor": 0
      },
      "text/plain": [
       "VBox(children=(Label(value='0.005 MB of 0.005 MB uploaded (0.000 MB deduped)\\r'), FloatProgress(value=1.0, max…"
      ]
     },
     "metadata": {},
     "output_type": "display_data"
    },
    {
     "data": {
      "text/html": [
       "<style>\n",
       "    table.wandb td:nth-child(1) { padding: 0 10px; text-align: left ; width: auto;} td:nth-child(2) {text-align: left ; width: 100%}\n",
       "    .wandb-row { display: flex; flex-direction: row; flex-wrap: wrap; justify-content: flex-start; width: 100% }\n",
       "    .wandb-col { display: flex; flex-direction: column; flex-basis: 100%; flex: 1; padding: 10px; }\n",
       "    </style>\n",
       "<div class=\"wandb-row\"><div class=\"wandb-col\"><h3>Run history:</h3><br/><table class=\"wandb\"><tr><td>Epoch</td><td>▁▅█</td></tr><tr><td>Train Loss</td><td>█▃▁</td></tr><tr><td>Validation Loss</td><td>▁██</td></tr></table><br/></div><div class=\"wandb-col\"><h3>Run summary:</h3><br/><table class=\"wandb\"><tr><td>Epoch</td><td>3</td></tr><tr><td>Train Loss</td><td>0.00205</td></tr><tr><td>Validation Loss</td><td>0.00307</td></tr></table><br/></div></div>"
      ],
      "text/plain": [
       "<IPython.core.display.HTML object>"
      ]
     },
     "metadata": {},
     "output_type": "display_data"
    },
    {
     "data": {
      "text/html": [
       " View run <strong style=\"color:#cdcd00\">Italian-LEGAL-BERT-Trial29</strong> at: <a href='https://wandb.ai/gmarinowandb-8601/RhetoricalRolesClassification-ITA-RhetRoles/runs/91kgthq3' target=\"_blank\">https://wandb.ai/gmarinowandb-8601/RhetoricalRolesClassification-ITA-RhetRoles/runs/91kgthq3</a><br/>Synced 5 W&B file(s), 0 media file(s), 0 artifact file(s) and 0 other file(s)"
      ],
      "text/plain": [
       "<IPython.core.display.HTML object>"
      ]
     },
     "metadata": {},
     "output_type": "display_data"
    },
    {
     "data": {
      "text/html": [
       "Find logs at: <code>./wandb/run-20230424_214529-91kgthq3/logs</code>"
      ],
      "text/plain": [
       "<IPython.core.display.HTML object>"
      ]
     },
     "metadata": {},
     "output_type": "display_data"
    },
    {
     "name": "stderr",
     "output_type": "stream",
     "text": [
      "\u001b[32m[I 2023-04-24 21:51:31,750]\u001b[0m Trial 29 finished with value: 0.00288951862603426 and parameters: {'lr': 9.406351223761696e-05, 'weight_decay': 0.04133621934445521}. Best is trial 12 with value: 0.0027747247368097305.\u001b[0m\n"
     ]
    },
    {
     "name": "stdout",
     "output_type": "stream",
     "text": [
      "\n",
      "************************ Starting New Optuna Trial ************************\n",
      "\n"
     ]
    },
    {
     "name": "stderr",
     "output_type": "stream",
     "text": [
      "Some weights of the model checkpoint at dlicari/Italian-Legal-BERT were not used when initializing BertForSequenceClassification: ['cls.predictions.transform.dense.weight', 'cls.predictions.decoder.weight', 'cls.predictions.transform.dense.bias', 'cls.predictions.bias', 'cls.predictions.decoder.bias', 'cls.predictions.transform.LayerNorm.weight', 'cls.predictions.transform.LayerNorm.bias']\n",
      "- This IS expected if you are initializing BertForSequenceClassification from the checkpoint of a model trained on another task or with another architecture (e.g. initializing a BertForSequenceClassification model from a BertForPreTraining model).\n",
      "- This IS NOT expected if you are initializing BertForSequenceClassification from the checkpoint of a model that you expect to be exactly identical (initializing a BertForSequenceClassification model from a BertForSequenceClassification model).\n",
      "Some weights of BertForSequenceClassification were not initialized from the model checkpoint at dlicari/Italian-Legal-BERT and are newly initialized: ['classifier.weight', 'classifier.bias', 'bert.pooler.dense.weight', 'bert.pooler.dense.bias']\n",
      "You should probably TRAIN this model on a down-stream task to be able to use it for predictions and inference.\n"
     ]
    },
    {
     "data": {
      "text/html": [
       "wandb version 0.15.0 is available!  To upgrade, please run:\n",
       " $ pip install wandb --upgrade"
      ],
      "text/plain": [
       "<IPython.core.display.HTML object>"
      ]
     },
     "metadata": {},
     "output_type": "display_data"
    },
    {
     "data": {
      "text/html": [
       "Tracking run with wandb version 0.13.10"
      ],
      "text/plain": [
       "<IPython.core.display.HTML object>"
      ]
     },
     "metadata": {},
     "output_type": "display_data"
    },
    {
     "data": {
      "text/html": [
       "Run data is saved locally in <code>/home/g.marino/Desktop/GA/RhetoricalRolesClassification/ITA-RhetRoles/wandb/run-20230424_215133-mzliwxyk</code>"
      ],
      "text/plain": [
       "<IPython.core.display.HTML object>"
      ]
     },
     "metadata": {},
     "output_type": "display_data"
    },
    {
     "data": {
      "text/html": [
       "Syncing run <strong><a href='https://wandb.ai/gmarinowandb-8601/RhetoricalRolesClassification-ITA-RhetRoles/runs/mzliwxyk' target=\"_blank\">Italian-LEGAL-BERT-Trial30</a></strong> to <a href='https://wandb.ai/gmarinowandb-8601/RhetoricalRolesClassification-ITA-RhetRoles' target=\"_blank\">Weights & Biases</a> (<a href='https://wandb.me/run' target=\"_blank\">docs</a>)<br/>"
      ],
      "text/plain": [
       "<IPython.core.display.HTML object>"
      ]
     },
     "metadata": {},
     "output_type": "display_data"
    },
    {
     "data": {
      "text/html": [
       " View project at <a href='https://wandb.ai/gmarinowandb-8601/RhetoricalRolesClassification-ITA-RhetRoles' target=\"_blank\">https://wandb.ai/gmarinowandb-8601/RhetoricalRolesClassification-ITA-RhetRoles</a>"
      ],
      "text/plain": [
       "<IPython.core.display.HTML object>"
      ]
     },
     "metadata": {},
     "output_type": "display_data"
    },
    {
     "data": {
      "text/html": [
       " View run at <a href='https://wandb.ai/gmarinowandb-8601/RhetoricalRolesClassification-ITA-RhetRoles/runs/mzliwxyk' target=\"_blank\">https://wandb.ai/gmarinowandb-8601/RhetoricalRolesClassification-ITA-RhetRoles/runs/mzliwxyk</a>"
      ],
      "text/plain": [
       "<IPython.core.display.HTML object>"
      ]
     },
     "metadata": {},
     "output_type": "display_data"
    },
    {
     "name": "stdout",
     "output_type": "stream",
     "text": [
      "\n",
      "************** Training Started **************\n",
      "\n",
      "EPOCH N. 1\n"
     ]
    },
    {
     "name": "stderr",
     "output_type": "stream",
     "text": [
      "532it [01:42,  5.17it/s]\n"
     ]
    },
    {
     "name": "stdout",
     "output_type": "stream",
     "text": [
      "\n",
      "TRAIN RESULTS\n",
      "Loss: 0.00419598278191723\n",
      "Accuracy: 0.8030347585720167\n",
      "MCC: 0.6883585431087897\n",
      "Macro F1: 0.7845627226019489\n",
      "Macro Precision: 0.8053855610784899\n",
      "Macro Recall: 0.7701194952231992\n",
      "Micro F1: 0.8030347585720167\n",
      "Micro Precision: 0.8030347585720167\n",
      "Micro Recall: 0.8030347585720167\n",
      "\n",
      "VALIDATION RESULTS\n",
      "Loss: 0.0030598901212215424\n",
      "Accuracy: 0.856029106029106\n",
      "MCC: 0.7777108323545099\n",
      "Macro F1: 0.8637379835715141\n",
      "Macro Precision: 0.8696286715870949\n",
      "Macro Recall: 0.8599790964169391\n",
      "Micro F1: 0.856029106029106\n",
      "Micro Precision: 0.856029106029106\n",
      "Micro Recall: 0.856029106029106\n",
      "--------------------------------------------------\n"
     ]
    },
    {
     "data": {
      "text/html": [
       "Waiting for W&B process to finish... <strong style=\"color:red\">(failed 1).</strong> Press Control-C to abort syncing."
      ],
      "text/plain": [
       "<IPython.core.display.HTML object>"
      ]
     },
     "metadata": {},
     "output_type": "display_data"
    },
    {
     "data": {
      "application/vnd.jupyter.widget-view+json": {
       "model_id": "b3c74213cf2e4ebf8c886165f70bf06b",
       "version_major": 2,
       "version_minor": 0
      },
      "text/plain": [
       "VBox(children=(Label(value='0.005 MB of 0.005 MB uploaded (0.000 MB deduped)\\r'), FloatProgress(value=1.0, max…"
      ]
     },
     "metadata": {},
     "output_type": "display_data"
    },
    {
     "data": {
      "text/html": [
       "<style>\n",
       "    table.wandb td:nth-child(1) { padding: 0 10px; text-align: left ; width: auto;} td:nth-child(2) {text-align: left ; width: 100%}\n",
       "    .wandb-row { display: flex; flex-direction: row; flex-wrap: wrap; justify-content: flex-start; width: 100% }\n",
       "    .wandb-col { display: flex; flex-direction: column; flex-basis: 100%; flex: 1; padding: 10px; }\n",
       "    </style>\n",
       "<div class=\"wandb-row\"><div class=\"wandb-col\"><h3>Run history:</h3><br/><table class=\"wandb\"><tr><td>Epoch</td><td>▁</td></tr><tr><td>Train Loss</td><td>▁</td></tr><tr><td>Validation Loss</td><td>▁</td></tr></table><br/></div><div class=\"wandb-col\"><h3>Run summary:</h3><br/><table class=\"wandb\"><tr><td>Epoch</td><td>1</td></tr><tr><td>Train Loss</td><td>0.0042</td></tr><tr><td>Validation Loss</td><td>0.00306</td></tr></table><br/></div></div>"
      ],
      "text/plain": [
       "<IPython.core.display.HTML object>"
      ]
     },
     "metadata": {},
     "output_type": "display_data"
    },
    {
     "data": {
      "text/html": [
       " View run <strong style=\"color:#cdcd00\">Italian-LEGAL-BERT-Trial30</strong> at: <a href='https://wandb.ai/gmarinowandb-8601/RhetoricalRolesClassification-ITA-RhetRoles/runs/mzliwxyk' target=\"_blank\">https://wandb.ai/gmarinowandb-8601/RhetoricalRolesClassification-ITA-RhetRoles/runs/mzliwxyk</a><br/>Synced 5 W&B file(s), 0 media file(s), 0 artifact file(s) and 0 other file(s)"
      ],
      "text/plain": [
       "<IPython.core.display.HTML object>"
      ]
     },
     "metadata": {},
     "output_type": "display_data"
    },
    {
     "data": {
      "text/html": [
       "Find logs at: <code>./wandb/run-20230424_215133-mzliwxyk/logs</code>"
      ],
      "text/plain": [
       "<IPython.core.display.HTML object>"
      ]
     },
     "metadata": {},
     "output_type": "display_data"
    },
    {
     "name": "stderr",
     "output_type": "stream",
     "text": [
      "\u001b[32m[I 2023-04-24 21:53:51,994]\u001b[0m Trial 30 pruned. \u001b[0m\n"
     ]
    },
    {
     "name": "stdout",
     "output_type": "stream",
     "text": [
      "\n",
      "************************ Starting New Optuna Trial ************************\n",
      "\n"
     ]
    },
    {
     "name": "stderr",
     "output_type": "stream",
     "text": [
      "Some weights of the model checkpoint at dlicari/Italian-Legal-BERT were not used when initializing BertForSequenceClassification: ['cls.predictions.transform.dense.weight', 'cls.predictions.decoder.weight', 'cls.predictions.transform.dense.bias', 'cls.predictions.bias', 'cls.predictions.decoder.bias', 'cls.predictions.transform.LayerNorm.weight', 'cls.predictions.transform.LayerNorm.bias']\n",
      "- This IS expected if you are initializing BertForSequenceClassification from the checkpoint of a model trained on another task or with another architecture (e.g. initializing a BertForSequenceClassification model from a BertForPreTraining model).\n",
      "- This IS NOT expected if you are initializing BertForSequenceClassification from the checkpoint of a model that you expect to be exactly identical (initializing a BertForSequenceClassification model from a BertForSequenceClassification model).\n",
      "Some weights of BertForSequenceClassification were not initialized from the model checkpoint at dlicari/Italian-Legal-BERT and are newly initialized: ['classifier.weight', 'classifier.bias', 'bert.pooler.dense.weight', 'bert.pooler.dense.bias']\n",
      "You should probably TRAIN this model on a down-stream task to be able to use it for predictions and inference.\n"
     ]
    },
    {
     "data": {
      "text/html": [
       "wandb version 0.15.0 is available!  To upgrade, please run:\n",
       " $ pip install wandb --upgrade"
      ],
      "text/plain": [
       "<IPython.core.display.HTML object>"
      ]
     },
     "metadata": {},
     "output_type": "display_data"
    },
    {
     "data": {
      "text/html": [
       "Tracking run with wandb version 0.13.10"
      ],
      "text/plain": [
       "<IPython.core.display.HTML object>"
      ]
     },
     "metadata": {},
     "output_type": "display_data"
    },
    {
     "data": {
      "text/html": [
       "Run data is saved locally in <code>/home/g.marino/Desktop/GA/RhetoricalRolesClassification/ITA-RhetRoles/wandb/run-20230424_215353-tnstlw33</code>"
      ],
      "text/plain": [
       "<IPython.core.display.HTML object>"
      ]
     },
     "metadata": {},
     "output_type": "display_data"
    },
    {
     "data": {
      "text/html": [
       "Syncing run <strong><a href='https://wandb.ai/gmarinowandb-8601/RhetoricalRolesClassification-ITA-RhetRoles/runs/tnstlw33' target=\"_blank\">Italian-LEGAL-BERT-Trial31</a></strong> to <a href='https://wandb.ai/gmarinowandb-8601/RhetoricalRolesClassification-ITA-RhetRoles' target=\"_blank\">Weights & Biases</a> (<a href='https://wandb.me/run' target=\"_blank\">docs</a>)<br/>"
      ],
      "text/plain": [
       "<IPython.core.display.HTML object>"
      ]
     },
     "metadata": {},
     "output_type": "display_data"
    },
    {
     "data": {
      "text/html": [
       " View project at <a href='https://wandb.ai/gmarinowandb-8601/RhetoricalRolesClassification-ITA-RhetRoles' target=\"_blank\">https://wandb.ai/gmarinowandb-8601/RhetoricalRolesClassification-ITA-RhetRoles</a>"
      ],
      "text/plain": [
       "<IPython.core.display.HTML object>"
      ]
     },
     "metadata": {},
     "output_type": "display_data"
    },
    {
     "data": {
      "text/html": [
       " View run at <a href='https://wandb.ai/gmarinowandb-8601/RhetoricalRolesClassification-ITA-RhetRoles/runs/tnstlw33' target=\"_blank\">https://wandb.ai/gmarinowandb-8601/RhetoricalRolesClassification-ITA-RhetRoles/runs/tnstlw33</a>"
      ],
      "text/plain": [
       "<IPython.core.display.HTML object>"
      ]
     },
     "metadata": {},
     "output_type": "display_data"
    },
    {
     "name": "stdout",
     "output_type": "stream",
     "text": [
      "\n",
      "************** Training Started **************\n",
      "\n",
      "EPOCH N. 1\n"
     ]
    },
    {
     "name": "stderr",
     "output_type": "stream",
     "text": [
      "532it [01:42,  5.20it/s]\n"
     ]
    },
    {
     "name": "stdout",
     "output_type": "stream",
     "text": [
      "\n",
      "TRAIN RESULTS\n",
      "Loss: 0.003591037421256509\n",
      "Accuracy: 0.8283097100511675\n",
      "MCC: 0.729776293074256\n",
      "Macro F1: 0.8234214473499539\n",
      "Macro Precision: 0.836309319982746\n",
      "Macro Recall: 0.8144832844899715\n",
      "Micro F1: 0.8283097100511675\n",
      "Micro Precision: 0.8283097100511675\n",
      "Micro Recall: 0.8283097100511675\n",
      "\n",
      "VALIDATION RESULTS\n",
      "Loss: 0.0028390465304255486\n",
      "Accuracy: 0.8609147609147609\n",
      "MCC: 0.7844568386377049\n",
      "Macro F1: 0.8681857128814509\n",
      "Macro Precision: 0.880514322901122\n",
      "Macro Recall: 0.8568920912848939\n",
      "Micro F1: 0.8609147609147609\n",
      "Micro Precision: 0.8609147609147609\n",
      "Micro Recall: 0.8609147609147609\n",
      "--------------------------------------------------\n",
      "EPOCH N. 2\n"
     ]
    },
    {
     "name": "stderr",
     "output_type": "stream",
     "text": [
      "532it [01:42,  5.18it/s]\n"
     ]
    },
    {
     "name": "stdout",
     "output_type": "stream",
     "text": [
      "\n",
      "TRAIN RESULTS\n",
      "Loss: 0.0023968443855102543\n",
      "Accuracy: 0.8844468623184144\n",
      "MCC: 0.8193238010092605\n",
      "Macro F1: 0.8873770425323293\n",
      "Macro Precision: 0.8917933687606971\n",
      "Macro Recall: 0.8840438438941158\n",
      "Micro F1: 0.8844468623184144\n",
      "Micro Precision: 0.8844468623184144\n",
      "Micro Recall: 0.8844468623184144\n",
      "\n",
      "VALIDATION RESULTS\n",
      "Loss: 0.0030705060344189405\n",
      "Accuracy: 0.8641372141372141\n",
      "MCC: 0.7893346560936495\n",
      "Macro F1: 0.8675287513061773\n",
      "Macro Precision: 0.880583057989828\n",
      "Macro Recall: 0.8590985203765061\n",
      "Micro F1: 0.8641372141372141\n",
      "Micro Precision: 0.8641372141372141\n",
      "Micro Recall: 0.8641372141372141\n",
      "--------------------------------------------------\n",
      "EPOCH N. 3\n"
     ]
    },
    {
     "name": "stderr",
     "output_type": "stream",
     "text": [
      "532it [01:42,  5.19it/s]\n"
     ]
    },
    {
     "name": "stdout",
     "output_type": "stream",
     "text": [
      "\n",
      "TRAIN RESULTS\n",
      "Loss: 0.001882438961069654\n",
      "Accuracy: 0.9102364288654943\n",
      "MCC: 0.8598906066449791\n",
      "Macro F1: 0.9120798284664792\n",
      "Macro Precision: 0.9152698234498953\n",
      "Macro Recall: 0.9092503453034462\n",
      "Micro F1: 0.9102364288654943\n",
      "Micro Precision: 0.9102364288654943\n",
      "Micro Recall: 0.9102364288654943\n",
      "\n",
      "VALIDATION RESULTS\n",
      "Loss: 0.0031825038604438305\n",
      "Accuracy: 0.8627858627858628\n",
      "MCC: 0.7892511504852846\n",
      "Macro F1: 0.8683184263121368\n",
      "Macro Precision: 0.8743826447230194\n",
      "Macro Recall: 0.8685525204285323\n",
      "Micro F1: 0.8627858627858628\n",
      "Micro Precision: 0.8627858627858628\n",
      "Micro Recall: 0.8627858627858628\n",
      "Early stopped training\n",
      "--------------------------------------------------\n"
     ]
    },
    {
     "data": {
      "text/html": [
       "Waiting for W&B process to finish... <strong style=\"color:green\">(success).</strong>"
      ],
      "text/plain": [
       "<IPython.core.display.HTML object>"
      ]
     },
     "metadata": {},
     "output_type": "display_data"
    },
    {
     "data": {
      "text/html": [
       "<style>\n",
       "    table.wandb td:nth-child(1) { padding: 0 10px; text-align: left ; width: auto;} td:nth-child(2) {text-align: left ; width: 100%}\n",
       "    .wandb-row { display: flex; flex-direction: row; flex-wrap: wrap; justify-content: flex-start; width: 100% }\n",
       "    .wandb-col { display: flex; flex-direction: column; flex-basis: 100%; flex: 1; padding: 10px; }\n",
       "    </style>\n",
       "<div class=\"wandb-row\"><div class=\"wandb-col\"><h3>Run history:</h3><br/><table class=\"wandb\"><tr><td>Epoch</td><td>▁▅█</td></tr><tr><td>Train Loss</td><td>█▃▁</td></tr><tr><td>Validation Loss</td><td>▁▆█</td></tr></table><br/></div><div class=\"wandb-col\"><h3>Run summary:</h3><br/><table class=\"wandb\"><tr><td>Epoch</td><td>3</td></tr><tr><td>Train Loss</td><td>0.00188</td></tr><tr><td>Validation Loss</td><td>0.00318</td></tr></table><br/></div></div>"
      ],
      "text/plain": [
       "<IPython.core.display.HTML object>"
      ]
     },
     "metadata": {},
     "output_type": "display_data"
    },
    {
     "data": {
      "text/html": [
       " View run <strong style=\"color:#cdcd00\">Italian-LEGAL-BERT-Trial31</strong> at: <a href='https://wandb.ai/gmarinowandb-8601/RhetoricalRolesClassification-ITA-RhetRoles/runs/tnstlw33' target=\"_blank\">https://wandb.ai/gmarinowandb-8601/RhetoricalRolesClassification-ITA-RhetRoles/runs/tnstlw33</a><br/>Synced 5 W&B file(s), 0 media file(s), 0 artifact file(s) and 0 other file(s)"
      ],
      "text/plain": [
       "<IPython.core.display.HTML object>"
      ]
     },
     "metadata": {},
     "output_type": "display_data"
    },
    {
     "data": {
      "text/html": [
       "Find logs at: <code>./wandb/run-20230424_215353-tnstlw33/logs</code>"
      ],
      "text/plain": [
       "<IPython.core.display.HTML object>"
      ]
     },
     "metadata": {},
     "output_type": "display_data"
    },
    {
     "name": "stderr",
     "output_type": "stream",
     "text": [
      "\u001b[32m[I 2023-04-24 21:59:50,141]\u001b[0m Trial 31 finished with value: 0.0028390465304255486 and parameters: {'lr': 0.00011409531137229585, 'weight_decay': 0.027704244707390878}. Best is trial 12 with value: 0.0027747247368097305.\u001b[0m\n"
     ]
    }
   ],
   "source": [
    "study.optimize(objective, n_trials=32)"
   ]
  },
  {
   "cell_type": "code",
   "execution_count": 5,
   "metadata": {},
   "outputs": [
    {
     "name": "stdout",
     "output_type": "stream",
     "text": [
      "\n",
      "************************ Optuna Study Completed ************************\n",
      "\n",
      "Best trial: 12\n",
      "Value: 0.0027747247368097305\n",
      "Params:\n",
      "\tlr: 6.49435749751354e-05\n",
      "\tweight_decay: 0.053536308903641604\n"
     ]
    }
   ],
   "source": [
    "print(\"\\n************************ Optuna Study Completed ************************\\n\")\n",
    "best_trial = study.best_trial\n",
    "print(\"Best trial:\", best_trial.number)\n",
    "print(\"Value:\", best_trial.value)\n",
    "print(\"Params:\")\n",
    "for key, value in best_trial.params.items():\n",
    "    print(f\"\\t{key}: {value}\")"
   ]
  },
  {
   "cell_type": "markdown",
   "metadata": {},
   "source": [
    "## Test"
   ]
  },
  {
   "cell_type": "code",
   "execution_count": 6,
   "metadata": {},
   "outputs": [
    {
     "name": "stderr",
     "output_type": "stream",
     "text": [
      "Some weights of the model checkpoint at dlicari/Italian-Legal-BERT were not used when initializing BertForSequenceClassification: ['cls.predictions.transform.dense.bias', 'cls.predictions.transform.dense.weight', 'cls.predictions.transform.LayerNorm.bias', 'cls.predictions.decoder.bias', 'cls.predictions.transform.LayerNorm.weight', 'cls.predictions.bias', 'cls.predictions.decoder.weight']\n",
      "- This IS expected if you are initializing BertForSequenceClassification from the checkpoint of a model trained on another task or with another architecture (e.g. initializing a BertForSequenceClassification model from a BertForPreTraining model).\n",
      "- This IS NOT expected if you are initializing BertForSequenceClassification from the checkpoint of a model that you expect to be exactly identical (initializing a BertForSequenceClassification model from a BertForSequenceClassification model).\n",
      "Some weights of BertForSequenceClassification were not initialized from the model checkpoint at dlicari/Italian-Legal-BERT and are newly initialized: ['classifier.weight', 'classifier.bias', 'bert.pooler.dense.weight', 'bert.pooler.dense.bias']\n",
      "You should probably TRAIN this model on a down-stream task to be able to use it for predictions and inference.\n"
     ]
    },
    {
     "data": {
      "text/plain": [
       "<All keys matched successfully>"
      ]
     },
     "execution_count": 6,
     "metadata": {},
     "output_type": "execute_result"
    }
   ],
   "source": [
    "best_trial = study.best_trial\n",
    "best_params = best_trial.params\n",
    "\n",
    "model = transformers.AutoModelForSequenceClassification.from_pretrained(\n",
    "    HUGGING_FACE_BERT_MODEL,\n",
    "    num_labels=NUM_LABELS,\n",
    ")\n",
    "model_id = f\"{MODEL_NAME}-Trial{best_trial.number}\"\n",
    "model.load_state_dict(torch.load(os.path.join(MODELS_FOLDER, model_id)))"
   ]
  },
  {
   "cell_type": "code",
   "execution_count": 7,
   "metadata": {},
   "outputs": [
    {
     "name": "stderr",
     "output_type": "stream",
     "text": [
      "100%|██████████| 143/143 [00:18<00:00,  7.77it/s]\n"
     ]
    },
    {
     "name": "stdout",
     "output_type": "stream",
     "text": [
      "Overall\n",
      "\tAccuracy: 0.8720472440944882\n",
      "\tMCC: 0.8061252310760577\n",
      "\tMacro F1: 0.8781011379790327\n",
      "\tMacro Precision: 0.8717954154090514\n",
      "\tMacro Recall: 0.8885260605841208\n",
      "\tMicro F1: 0.8720472440944882\n",
      "\tMicro Precision: 0.8720472440944882\n",
      "\tMicro Recall: 0.8720472440944882\n",
      "Rhetorical role: UNK\n",
      "\tMacro F1: 0.9895155349295848\n",
      "\tMacro Precision: 0.9849383905205003\n",
      "\tMacro Recall: 0.9941903132531236\n",
      "Rhetorical role: CONCLUSIONI DELLE PARTI\n",
      "\tMacro F1: 0.8962120963954674\n",
      "\tMacro Precision: 0.8659435443574401\n",
      "\tMacro Recall: 0.9351504558781598\n",
      "Rhetorical role: SVOLGIMENTO DEL PROCESSO\n",
      "\tMacro F1: 0.8489107320183222\n",
      "\tMacro Precision: 0.8608255299548514\n",
      "\tMacro Recall: 0.838681728114644\n",
      "Rhetorical role: MOTIVI DELLA DECISIONE\n",
      "\tMacro F1: 0.9123647343233967\n",
      "\tMacro Precision: 0.9122665511231973\n",
      "\tMacro Recall: 0.9124970684311142\n",
      "Rhetorical role: P.Q.M.\n",
      "\tMacro F1: 0.9512013069674099\n",
      "\tMacro Precision: 0.9574066270974255\n",
      "\tMacro Recall: 0.9451980656743505\n"
     ]
    }
   ],
   "source": [
    "test_BERT(\n",
    "    model=model,\n",
    "    test_dataset=test_dataset,\n",
    "    label2rhetRole=label2rhetRole,\n",
    "    device=DEVICE\n",
    ")"
   ]
  },
  {
   "cell_type": "code",
   "execution_count": null,
   "metadata": {},
   "outputs": [],
   "source": []
  }
 ],
 "metadata": {
  "kernelspec": {
   "display_name": "Python 3 (ipykernel)",
   "language": "python",
   "name": "python3"
  },
  "language_info": {
   "codemirror_mode": {
    "name": "ipython",
    "version": 3
   },
   "file_extension": ".py",
   "mimetype": "text/x-python",
   "name": "python",
   "nbconvert_exporter": "python",
   "pygments_lexer": "ipython3",
   "version": "3.10.7"
  }
 },
 "nbformat": 4,
 "nbformat_minor": 4
}
