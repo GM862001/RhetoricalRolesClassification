{
 "cells": [
  {
   "cell_type": "markdown",
   "id": "d011e4d3",
   "metadata": {},
   "source": [
    "# Legal Rhetorical Roles Classification using LEGAL-BERT and LEGAL-ToBERT"
   ]
  },
  {
   "cell_type": "code",
   "execution_count": 1,
   "id": "cb5734a5",
   "metadata": {},
   "outputs": [],
   "source": [
    "import os\n",
    "\n",
    "import joblib\n",
    "\n",
    "from rhetorical_roles_classification import (\n",
    "    RhetoricalRolesDataset,\n",
    "    RhetoricalRolesDatasetForTransformerOverBERT\n",
    ")\n",
    "from rhetorical_roles_classification.test import test_BERT, test_ToBERT"
   ]
  },
  {
   "cell_type": "code",
   "execution_count": 2,
   "id": "039219a1",
   "metadata": {},
   "outputs": [],
   "source": [
    "DATA_FOLDER = \"./BUILD/data\"\n",
    "MODELS_FOLDER = \"./models/eng\""
   ]
  },
  {
   "cell_type": "code",
   "execution_count": 3,
   "id": "b3f143c9",
   "metadata": {},
   "outputs": [],
   "source": [
    "BERT, BERT_config = joblib.load(\n",
    "    os.path.join(MODELS_FOLDER, \"LEGAL-BERT.joblib\")\n",
    ")\n",
    "ToBERT, ToBERT_config = joblib.load(\n",
    "    os.path.join(MODELS_FOLDER, \"LEGAL-ToBERT.joblib\")\n",
    ")"
   ]
  },
  {
   "cell_type": "code",
   "execution_count": 4,
   "id": "8a74ca89",
   "metadata": {},
   "outputs": [],
   "source": [
    "BERT_test_dataset = RhetoricalRolesDataset(\n",
    "    data_filepath=os.path.join(DATA_FOLDER, \"test.csv\"),\n",
    "    max_segment_length=ToBERT_config[\"max_segment_length\"],\n",
    "    tokenizer_model_name=ToBERT_config[\"tokenizer_model_name\"]\n",
    ")\n",
    "ToBERT_test_dataset = RhetoricalRolesDatasetForTransformerOverBERT(\n",
    "    data_filepath=os.path.join(DATA_FOLDER, \"test.json\"),\n",
    "    max_document_length=ToBERT_config[\"max_document_length\"],\n",
    "    max_segment_length=ToBERT_config[\"max_segment_length\"],\n",
    "    tokenizer_model_name=ToBERT_config[\"tokenizer_model_name\"]\n",
    ")"
   ]
  },
  {
   "cell_type": "code",
   "execution_count": 5,
   "id": "d3bceae6",
   "metadata": {},
   "outputs": [
    {
     "name": "stdout",
     "output_type": "stream",
     "text": [
      "huggingface/tokenizers: The current process just got forked, after parallelism has already been used. Disabling parallelism to avoid deadlocks...\n",
      "To disable this warning, you can either:\n",
      "\t- Avoid using `tokenizers` before the fork if possible\n",
      "\t- Explicitly set the environment variable TOKENIZERS_PARALLELISM=(true | false)\n"
     ]
    },
    {
     "name": "stderr",
     "output_type": "stream",
     "text": [
      "100%|██████████████████████████████████████████████████████████████████████| 23/23 [10:30<00:00, 27.43s/it]\n"
     ]
    },
    {
     "name": "stdout",
     "output_type": "stream",
     "text": [
      "Overall\n",
      "\tAccuracy: 0.6561306009030914\n",
      "\tMCC: 0.5594308542642985\n",
      "\tMacro F1: 0.4723346093512131\n",
      "\tMacro Precision: 0.5321535407608603\n",
      "\tMacro Recall: 0.45666527835444104\n",
      "\tMicro F1: 0.6561306009030914\n",
      "\tMicro Precision: 0.6561306009030914\n",
      "\tMicro Recall: 0.6561306009030914\n",
      "Rhetorical role: PREAMBLE\n",
      "\tMacro F1: 0.8368535342545244\n",
      "\tMacro Precision: 0.874517200031333\n",
      "\tMacro Recall: 0.8096196827146922\n",
      "Rhetorical role: FAC\n",
      "\tMacro F1: 0.7893681195430859\n",
      "\tMacro Precision: 0.7712810714837115\n",
      "\tMacro Recall: 0.8162551934124282\n",
      "Rhetorical role: RLC\n",
      "\tMacro F1: 0.6334970322033109\n",
      "\tMacro Precision: 0.7031749288174369\n",
      "\tMacro Recall: 0.6019678135959164\n",
      "Rhetorical role: ISSUE\n",
      "\tMacro F1: 0.8895394343068495\n",
      "\tMacro Precision: 0.9261040334357218\n",
      "\tMacro Recall: 0.8589395546129375\n",
      "Rhetorical role: ARG_PETITIONER\n",
      "\tMacro F1: 0.6460517504760709\n",
      "\tMacro Precision: 0.6503813463465081\n",
      "\tMacro Recall: 0.6419900320398718\n",
      "Rhetorical role: ARG_RESPONDENT\n",
      "\tMacro F1: 0.49667832167832165\n",
      "\tMacro Precision: 0.4934004862799583\n",
      "\tMacro Recall: 0.5\n",
      "Rhetorical role: ANALYSIS\n",
      "\tMacro F1: 0.7443006876497644\n",
      "\tMacro Precision: 0.7400213832782567\n",
      "\tMacro Recall: 0.7611324731321192\n",
      "Rhetorical role: STA\n",
      "\tMacro F1: 0.8016422809039434\n",
      "\tMacro Precision: 0.8016422809039434\n",
      "\tMacro Recall: 0.8016422809039434\n",
      "Rhetorical role: PRE_RELIED\n",
      "\tMacro F1: 0.6973016416112454\n",
      "\tMacro Precision: 0.8322632139056403\n",
      "\tMacro Recall: 0.6445990521131907\n",
      "Rhetorical role: PRE_NOT_RELIED\n",
      "\tMacro F1: 0.49895579533588585\n",
      "\tMacro Precision: 0.4979159430357763\n",
      "\tMacro Recall: 0.5\n",
      "Rhetorical role: RATIO\n",
      "\tMacro F1: 0.5199799922191963\n",
      "\tMacro Precision: 0.6548323471400395\n",
      "\tMacro Recall: 0.5135737171337029\n",
      "Rhetorical role: RPC\n",
      "\tMacro F1: 0.8976280842017008\n",
      "\tMacro Precision: 0.8786683203957545\n",
      "\tMacro Recall: 0.9187727623882573\n",
      "Rhetorical role: NONE\n",
      "\tMacro F1: 0.8922122060493616\n",
      "\tMacro Precision: 0.9188645477597822\n",
      "\tMacro Recall: 0.8692215850149733\n"
     ]
    }
   ],
   "source": [
    "test_BERT(\n",
    "    model=BERT,\n",
    "    test_dataset=BERT_test_dataset,\n",
    "    label2rhetRole=BERT_config[\"label2rhetRole\"]\n",
    ")"
   ]
  },
  {
   "cell_type": "code",
   "execution_count": 6,
   "id": "28c4c37d",
   "metadata": {},
   "outputs": [
    {
     "name": "stderr",
     "output_type": "stream",
     "text": [
      "100%|██████████████████████████████████████████████████████████████████████| 30/30 [46:13<00:00, 92.46s/it]\n"
     ]
    },
    {
     "name": "stdout",
     "output_type": "stream",
     "text": [
      "Overall\n",
      "\tAccuracy: 0.7846474470302188\n",
      "\tMCC: 0.7267670113883938\n",
      "\tMacro F1: 0.5738055350853982\n",
      "\tMacro Precision: 0.6233189100752514\n",
      "\tMacro Recall: 0.564134905480945\n",
      "\tMicro F1: 0.7846474470302188\n",
      "\tMicro Precision: 0.7846474470302188\n",
      "\tMicro Recall: 0.7846474470302188\n",
      "Rhetorical role: PREAMBLE\n",
      "\tMacro F1: 0.972360717424781\n",
      "\tMacro Precision: 0.9650979366930781\n",
      "\tMacro Recall: 0.9800347539328567\n",
      "Rhetorical role: FAC\n",
      "\tMacro F1: 0.8728314702807327\n",
      "\tMacro Precision: 0.8770990744745795\n",
      "\tMacro Recall: 0.868752906061106\n",
      "Rhetorical role: RLC\n",
      "\tMacro F1: 0.7119394276215356\n",
      "\tMacro Precision: 0.7941883986660105\n",
      "\tMacro Recall: 0.6678897250614649\n",
      "Rhetorical role: ISSUE\n",
      "\tMacro F1: 0.886315915977784\n",
      "\tMacro Precision: 0.875589205357262\n",
      "\tMacro Recall: 0.8977023683280312\n",
      "Rhetorical role: ARG_PETITIONER\n",
      "\tMacro F1: 0.5753200137675577\n",
      "\tMacro Precision: 0.6372785829307568\n",
      "\tMacro Recall: 0.553760870670803\n",
      "Rhetorical role: ARG_RESPONDENT\n",
      "\tMacro F1: 0.6979748896386189\n",
      "\tMacro Precision: 0.6810762903052533\n",
      "\tMacro Recall: 0.7185803738490895\n",
      "Rhetorical role: ANALYSIS\n",
      "\tMacro F1: 0.8439578420644339\n",
      "\tMacro Precision: 0.8359787200345834\n",
      "\tMacro Recall: 0.8617837913207629\n",
      "Rhetorical role: STA\n",
      "\tMacro F1: 0.8054966287883907\n",
      "\tMacro Precision: 0.768862810734732\n",
      "\tMacro Recall: 0.8541614471112893\n",
      "Rhetorical role: PRE_RELIED\n",
      "\tMacro F1: 0.7315345012020097\n",
      "\tMacro Precision: 0.7838720196847184\n",
      "\tMacro Recall: 0.6971007631466548\n",
      "Rhetorical role: PRE_NOT_RELIED\n",
      "\tMacro F1: 0.49886858137510875\n",
      "\tMacro Precision: 0.4979152189020153\n",
      "\tMacro Recall: 0.4998256016742239\n",
      "Rhetorical role: RATIO\n",
      "\tMacro F1: 0.6090352813365844\n",
      "\tMacro Precision: 0.7836354667653225\n",
      "\tMacro Recall: 0.5701825764125514\n",
      "Rhetorical role: RPC\n",
      "\tMacro F1: 0.9355293801504836\n",
      "\tMacro Precision: 0.9504358078234874\n",
      "\tMacro Recall: 0.9216422028473679\n",
      "Rhetorical role: NONE\n",
      "\tMacro F1: 0.9514870671497178\n",
      "\tMacro Precision: 0.9722592483413011\n",
      "\tMacro Recall: 0.9327229844786753\n"
     ]
    }
   ],
   "source": [
    "test_ToBERT(\n",
    "    model=ToBERT,\n",
    "    test_dataset=ToBERT_test_dataset,\n",
    "    label2rhetRole=ToBERT_config[\"label2rhetRole\"]\n",
    ")"
   ]
  },
  {
   "cell_type": "code",
   "execution_count": null,
   "id": "9f4c6f9d",
   "metadata": {},
   "outputs": [],
   "source": []
  }
 ],
 "metadata": {
  "kernelspec": {
   "display_name": "env",
   "language": "python",
   "name": "python3"
  },
  "language_info": {
   "codemirror_mode": {
    "name": "ipython",
    "version": 3
   },
   "file_extension": ".py",
   "mimetype": "text/x-python",
   "name": "python",
   "nbconvert_exporter": "python",
   "pygments_lexer": "ipython3",
   "version": "3.10.7"
  },
  "vscode": {
   "interpreter": {
    "hash": "503b4cee5d758491a5c5bfdd7aeeeb186e46ff0620f68ae22d961a7d88744c99"
   }
  }
 },
 "nbformat": 4,
 "nbformat_minor": 5
}
