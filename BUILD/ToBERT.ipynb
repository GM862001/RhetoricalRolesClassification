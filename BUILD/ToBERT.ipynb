{
 "cells": [
  {
   "cell_type": "markdown",
   "metadata": {},
   "source": [
    "# TransformerOverBERT"
   ]
  },
  {
   "cell_type": "code",
   "execution_count": 1,
   "metadata": {},
   "outputs": [],
   "source": [
    "import joblib\n",
    "import os\n",
    "import optuna\n",
    "import sys\n",
    "import torch\n",
    "import wandb\n",
    "\n",
    "sys.path.insert(0, os.path.abspath('../'))\n",
    "\n",
    "from rhetorical_roles_classification import (\n",
    "    AbsoluteSinusoidalEmbedder,\n",
    "    AutoTransformerOverBERTForTokenClassification,\n",
    "    RelativeSinusoidalEmbedder,\n",
    "    RhetoricalRolesDatasetForTransformerOverBERT\n",
    ")\n",
    "from rhetorical_roles_classification.train import train\n",
    "from rhetorical_roles_classification.test import test_ToBERT\n",
    "\n",
    "from config import (\n",
    "    DATA_FOLDER,\n",
    "    MODELS_FOLDER,\n",
    "    HUGGING_FACE_BERT_MODEL,\n",
    "    NUM_LABELS,\n",
    "    WANDB_PROJECT,\n",
    "    MAX_SEGMENT_LENGTH,\n",
    "    label2rhetRole\n",
    ")"
   ]
  },
  {
   "cell_type": "code",
   "execution_count": 2,
   "metadata": {},
   "outputs": [
    {
     "name": "stderr",
     "output_type": "stream",
     "text": [
      "Failed to detect the name of this notebook, you can set it manually with the WANDB_NOTEBOOK_NAME environment variable to enable code saving.\n",
      "\u001b[34m\u001b[1mwandb\u001b[0m: Currently logged in as: \u001b[33mgmarinowandb-8601\u001b[0m. Use \u001b[1m`wandb login --relogin`\u001b[0m to force relogin\n"
     ]
    }
   ],
   "source": [
    "MODEL_NAME = \"ToBERT\"\n",
    "\n",
    "MAX_DOCUMENT_LENGTH = 386\n",
    "\n",
    "DEVICE = \"cuda:1\"\n",
    "\n",
    "wandb_login_success = wandb.login()"
   ]
  },
  {
   "cell_type": "markdown",
   "metadata": {},
   "source": [
    "## Dataset Loading"
   ]
  },
  {
   "cell_type": "code",
   "execution_count": 3,
   "metadata": {},
   "outputs": [],
   "source": [
    "train_dataset = RhetoricalRolesDatasetForTransformerOverBERT(\n",
    "    data_filepath=os.path.join(DATA_FOLDER, \"train.json\"),\n",
    "    max_document_length=MAX_DOCUMENT_LENGTH,\n",
    "    max_segment_length=MAX_SEGMENT_LENGTH,\n",
    "    tokenizer_model_name=HUGGING_FACE_BERT_MODEL\n",
    ")\n",
    "valid_dataset = RhetoricalRolesDatasetForTransformerOverBERT(\n",
    "    data_filepath=os.path.join(DATA_FOLDER, \"valid.json\"),\n",
    "    max_document_length=MAX_DOCUMENT_LENGTH,\n",
    "    max_segment_length=MAX_SEGMENT_LENGTH,\n",
    "    tokenizer_model_name=HUGGING_FACE_BERT_MODEL\n",
    ")\n",
    "test_dataset = RhetoricalRolesDatasetForTransformerOverBERT(\n",
    "    data_filepath=os.path.join(DATA_FOLDER, \"test.json\"),\n",
    "    max_document_length=MAX_DOCUMENT_LENGTH,\n",
    "    max_segment_length=MAX_SEGMENT_LENGTH,\n",
    "    tokenizer_model_name=HUGGING_FACE_BERT_MODEL\n",
    ")"
   ]
  },
  {
   "cell_type": "markdown",
   "metadata": {},
   "source": [
    "## Embedders"
   ]
  },
  {
   "cell_type": "code",
   "execution_count": null,
   "metadata": {},
   "outputs": [],
   "source": [
    "absolute_embedder = AbsoluteSinusoidalEmbedder(\n",
    "    max_document_length=MAX_DOCUMENT_LENGTH,\n",
    "    embedding_dimension=768\n",
    ")\n",
    "joblib.dump(absolute_embedder, os.path.join(MODELS_FOLDER, \"absolute_embedder\"))\n",
    "\n",
    "relative_embedder = RelativeSinusoidalEmbedder(\n",
    "    max_document_length=MAX_DOCUMENT_LENGTH,\n",
    "    embedding_dimension=768\n",
    ")\n",
    "joblib.dump(relative_embedder, os.path.join(MODELS_FOLDER, \"relative_embedder\"))"
   ]
  },
  {
   "cell_type": "code",
   "execution_count": 4,
   "metadata": {},
   "outputs": [],
   "source": [
    "absolute_embedder = joblib.load(os.path.join(MODELS_FOLDER, \"absolute_embedder\"))\n",
    "relative_embedder = joblib.load(os.path.join(MODELS_FOLDER, \"relative_embedder\"))"
   ]
  },
  {
   "cell_type": "markdown",
   "metadata": {},
   "source": [
    "## Hyperparameter Tuning"
   ]
  },
  {
   "cell_type": "code",
   "execution_count": 5,
   "metadata": {},
   "outputs": [],
   "source": [
    "hyperparameters = {\n",
    "    \"batch_size\": 1,\n",
    "    \"epochs\": 20,\n",
    "    \"num_warmup_steps\": 0,\n",
    "    \"accum_iter\": 3,\n",
    "    \"early_stopping\": True,\n",
    "    \"early_stopping_patience\": 2\n",
    "}\n",
    "\n",
    "def objective(trial):\n",
    "    \n",
    "    print(\"\\n************************ Starting New Optuna Trial ************************\\n\")\n",
    "    \n",
    "    hyperparameters[\"lr\"] = trial.suggest_float(\"lr\", 5e-6, 5e-4)\n",
    "    hyperparameters[\"weight_decay\"] = trial.suggest_float(\"weight_decay\", 1e-3, 1e-1)\n",
    "    \n",
    "    embedding_type = trial.suggest_categorical(\"embedding\", [\"abs\", \"rel\"])\n",
    "    embedder = absolute_embedder if embedding_type == \"abs\" else relative_embedder\n",
    "\n",
    "    transformer_dropout = trial.suggest_float(\"transformer_dropout\", 0.1, 0.7)\n",
    "    transformer_dim_feedforward = trial.suggest_int(\"transformer_dim_feedforward\", 50, 1000)\n",
    "    transformer = torch.nn.Transformer(\n",
    "        d_model=768,\n",
    "        nhead=12,\n",
    "        batch_first=True,\n",
    "        dim_feedforward=transformer_dim_feedforward,\n",
    "        activation=\"gelu\",\n",
    "        dropout=transformer_dropout,\n",
    "        layer_norm_eps=1e-12,\n",
    "        num_encoder_layers=2,\n",
    "        num_decoder_layers=0\n",
    "    ).encoder\n",
    "\n",
    "    model = AutoTransformerOverBERTForTokenClassification(\n",
    "        model_name=HUGGING_FACE_BERT_MODEL,\n",
    "        embedder=embedder,\n",
    "        transformer=transformer,\n",
    "        num_labels=NUM_LABELS,\n",
    "        max_document_length=MAX_DOCUMENT_LENGTH,\n",
    "        max_segment_length=MAX_SEGMENT_LENGTH,\n",
    "        device=DEVICE\n",
    "    )\n",
    "    model_id = f\"{MODEL_NAME}-Trial{trial.number}\"\n",
    "\n",
    "    with wandb.init(project=WANDB_PROJECT, config=hyperparameters, name=model_id):\n",
    "\n",
    "        wandb.config[\"embedding_type\"] = embedding_type\n",
    "        wandb.config[\"transformer_dropout\"] = transformer_dropout\n",
    "        wandb.config[\"transformer_dim_feedforward\"] = transformer_dim_feedforward        \n",
    "\n",
    "        valid_loss = train(\n",
    "            model=model,\n",
    "            destination_path=os.path.join(MODELS_FOLDER, model_id),\n",
    "            train_dataset=train_dataset,\n",
    "            valid_dataset=valid_dataset,\n",
    "            device=DEVICE,\n",
    "            optuna_trial=trial,\n",
    "            use_wandb=True,\n",
    "            **hyperparameters\n",
    "        )\n",
    "        \n",
    "    return valid_loss"
   ]
  },
  {
   "cell_type": "code",
   "execution_count": 5,
   "metadata": {},
   "outputs": [
    {
     "name": "stderr",
     "output_type": "stream",
     "text": [
      "\u001b[32m[I 2023-04-29 12:26:58,535]\u001b[0m Using an existing study with name 'ToBERT.optuna' instead of creating a new one.\u001b[0m\n"
     ]
    }
   ],
   "source": [
    "study_name = f\"{MODEL_NAME}.optuna\"\n",
    "storage_name = \"sqlite:///{}.db\".format(study_name)\n",
    "study = optuna.create_study(study_name=study_name, storage=storage_name, load_if_exists=True, direction=\"minimize\")"
   ]
  },
  {
   "cell_type": "code",
   "execution_count": 7,
   "metadata": {
    "collapsed": true,
    "jupyter": {
     "outputs_hidden": true
    }
   },
   "outputs": [
    {
     "name": "stdout",
     "output_type": "stream",
     "text": [
      "\n",
      "************************ Starting New Optuna Trial ************************\n",
      "\n"
     ]
    },
    {
     "name": "stderr",
     "output_type": "stream",
     "text": [
      "Some weights of the model checkpoint at nlpaueb/legal-bert-base-uncased were not used when initializing BertForTokenClassification: ['cls.seq_relationship.weight', 'cls.predictions.bias', 'cls.predictions.transform.LayerNorm.bias', 'cls.predictions.decoder.bias', 'cls.predictions.decoder.weight', 'cls.seq_relationship.bias', 'cls.predictions.transform.dense.bias', 'cls.predictions.transform.LayerNorm.weight', 'cls.predictions.transform.dense.weight']\n",
      "- This IS expected if you are initializing BertForTokenClassification from the checkpoint of a model trained on another task or with another architecture (e.g. initializing a BertForSequenceClassification model from a BertForPreTraining model).\n",
      "- This IS NOT expected if you are initializing BertForTokenClassification from the checkpoint of a model that you expect to be exactly identical (initializing a BertForSequenceClassification model from a BertForSequenceClassification model).\n",
      "Some weights of BertForTokenClassification were not initialized from the model checkpoint at nlpaueb/legal-bert-base-uncased and are newly initialized: ['classifier.weight', 'classifier.bias']\n",
      "You should probably TRAIN this model on a down-stream task to be able to use it for predictions and inference.\n"
     ]
    },
    {
     "data": {
      "text/html": [
       "wandb version 0.15.0 is available!  To upgrade, please run:\n",
       " $ pip install wandb --upgrade"
      ],
      "text/plain": [
       "<IPython.core.display.HTML object>"
      ]
     },
     "metadata": {},
     "output_type": "display_data"
    },
    {
     "data": {
      "text/html": [
       "Tracking run with wandb version 0.13.10"
      ],
      "text/plain": [
       "<IPython.core.display.HTML object>"
      ]
     },
     "metadata": {},
     "output_type": "display_data"
    },
    {
     "data": {
      "text/html": [
       "Run data is saved locally in <code>/home/g.marino/Desktop/GA/RhetoricalRolesClassification/BUILD/wandb/run-20230425_155213-nf0zawl6</code>"
      ],
      "text/plain": [
       "<IPython.core.display.HTML object>"
      ]
     },
     "metadata": {},
     "output_type": "display_data"
    },
    {
     "data": {
      "text/html": [
       "Syncing run <strong><a href='https://wandb.ai/gmarinowandb-8601/RhetoricalRolesClassification-BUILD/runs/nf0zawl6' target=\"_blank\">ToBERT-Trial0</a></strong> to <a href='https://wandb.ai/gmarinowandb-8601/RhetoricalRolesClassification-BUILD' target=\"_blank\">Weights & Biases</a> (<a href='https://wandb.me/run' target=\"_blank\">docs</a>)<br/>"
      ],
      "text/plain": [
       "<IPython.core.display.HTML object>"
      ]
     },
     "metadata": {},
     "output_type": "display_data"
    },
    {
     "data": {
      "text/html": [
       " View project at <a href='https://wandb.ai/gmarinowandb-8601/RhetoricalRolesClassification-BUILD' target=\"_blank\">https://wandb.ai/gmarinowandb-8601/RhetoricalRolesClassification-BUILD</a>"
      ],
      "text/plain": [
       "<IPython.core.display.HTML object>"
      ]
     },
     "metadata": {},
     "output_type": "display_data"
    },
    {
     "data": {
      "text/html": [
       " View run at <a href='https://wandb.ai/gmarinowandb-8601/RhetoricalRolesClassification-BUILD/runs/nf0zawl6' target=\"_blank\">https://wandb.ai/gmarinowandb-8601/RhetoricalRolesClassification-BUILD/runs/nf0zawl6</a>"
      ],
      "text/plain": [
       "<IPython.core.display.HTML object>"
      ]
     },
     "metadata": {},
     "output_type": "display_data"
    },
    {
     "name": "stdout",
     "output_type": "stream",
     "text": [
      "\n",
      "************** Training Started **************\n",
      "\n",
      "EPOCH N. 1\n"
     ]
    },
    {
     "name": "stderr",
     "output_type": "stream",
     "text": [
      "221it [01:30,  2.44it/s]\n"
     ]
    },
    {
     "name": "stdout",
     "output_type": "stream",
     "text": [
      "\n",
      "TRAIN RESULTS\n",
      "Loss: 1.9679547203072596\n",
      "Accuracy: 0.42023920472196336\n",
      "MCC: 0.19230760693160562\n",
      "Macro F1: 0.11017042053172824\n",
      "Macro Precision: 0.14173441118908806\n",
      "Macro Recall: 0.12281069204929076\n",
      "Micro F1: 0.42023920472196336\n",
      "Micro Precision: 0.42023920472196336\n",
      "Micro Recall: 0.42023920472196336\n",
      "\n",
      "VALIDATION RESULTS\n",
      "Loss: 2.1501386165618896\n",
      "Accuracy: 0.5553494124922697\n",
      "MCC: 0.3987340430629391\n",
      "Macro F1: 0.14705571811251172\n",
      "Macro Precision: 0.1400871570320531\n",
      "Macro Recall: 0.16823164117976763\n",
      "Micro F1: 0.5553494124922697\n",
      "Micro Precision: 0.5553494124922697\n",
      "Micro Recall: 0.5553494124922697\n",
      "--------------------------------------------------\n",
      "EPOCH N. 2\n"
     ]
    },
    {
     "name": "stderr",
     "output_type": "stream",
     "text": [
      "221it [01:29,  2.47it/s]\n"
     ]
    },
    {
     "name": "stdout",
     "output_type": "stream",
     "text": [
      "\n",
      "TRAIN RESULTS\n",
      "Loss: 1.6880583347777975\n",
      "Accuracy: 0.5173967070518795\n",
      "MCC: 0.3412629349991065\n",
      "Macro F1: 0.1422949553148095\n",
      "Macro Precision: 0.17629737085601327\n",
      "Macro Recall: 0.1602498808946803\n",
      "Micro F1: 0.5173967070518795\n",
      "Micro Precision: 0.5173967070518795\n",
      "Micro Recall: 0.5173967070518795\n",
      "\n",
      "VALIDATION RESULTS\n",
      "Loss: 1.8249033689498901\n",
      "Accuracy: 0.49814471243042674\n",
      "MCC: 0.34093644394079436\n",
      "Macro F1: 0.146077508515459\n",
      "Macro Precision: 0.12713907030494986\n",
      "Macro Recall: 0.17902776949353721\n",
      "Micro F1: 0.49814471243042674\n",
      "Micro Precision: 0.49814471243042674\n",
      "Micro Recall: 0.49814471243042674\n",
      "--------------------------------------------------\n",
      "EPOCH N. 3\n"
     ]
    },
    {
     "name": "stderr",
     "output_type": "stream",
     "text": [
      "221it [01:29,  2.46it/s]\n"
     ]
    },
    {
     "name": "stdout",
     "output_type": "stream",
     "text": [
      "\n",
      "TRAIN RESULTS\n",
      "Loss: 1.601940657218657\n",
      "Accuracy: 0.5205420938179559\n",
      "MCC: 0.34929007705239606\n",
      "Macro F1: 0.15479858797244522\n",
      "Macro Precision: 0.2120229393998671\n",
      "Macro Recall: 0.17005180528136016\n",
      "Micro F1: 0.5205420938179559\n",
      "Micro Precision: 0.5205420938179559\n",
      "Micro Recall: 0.5205420938179559\n",
      "\n",
      "VALIDATION RESULTS\n",
      "Loss: 1.5464500188827515\n",
      "Accuracy: 0.5878169449598021\n",
      "MCC: 0.43731153503475106\n",
      "Macro F1: 0.16347772199447347\n",
      "Macro Precision: 0.15321265979148596\n",
      "Macro Recall: 0.18625493818836233\n",
      "Micro F1: 0.5878169449598021\n",
      "Micro Precision: 0.5878169449598021\n",
      "Micro Recall: 0.5878169449598021\n",
      "--------------------------------------------------\n",
      "EPOCH N. 4\n"
     ]
    },
    {
     "name": "stderr",
     "output_type": "stream",
     "text": [
      "221it [01:29,  2.46it/s]\n"
     ]
    },
    {
     "name": "stdout",
     "output_type": "stream",
     "text": [
      "\n",
      "TRAIN RESULTS\n",
      "Loss: 1.554113570111909\n",
      "Accuracy: 0.5202314383348866\n",
      "MCC: 0.3493055255613142\n",
      "Macro F1: 0.15905566316718042\n",
      "Macro Precision: 0.1693815221739377\n",
      "Macro Recall: 0.17429975367432954\n",
      "Micro F1: 0.5202314383348866\n",
      "Micro Precision: 0.5202314383348866\n",
      "Micro Recall: 0.5202314383348866\n",
      "\n",
      "VALIDATION RESULTS\n",
      "Loss: 1.8302228450775146\n",
      "Accuracy: 0.5689548546691404\n",
      "MCC: 0.43232707305569434\n",
      "Macro F1: 0.1804893796608695\n",
      "Macro Precision: 0.15512553698634585\n",
      "Macro Recall: 0.23266363120550532\n",
      "Micro F1: 0.5689548546691404\n",
      "Micro Precision: 0.5689548546691404\n",
      "Micro Recall: 0.5689548546691404\n",
      "--------------------------------------------------\n",
      "EPOCH N. 5\n"
     ]
    },
    {
     "name": "stderr",
     "output_type": "stream",
     "text": [
      "221it [01:33,  2.36it/s]\n"
     ]
    },
    {
     "name": "stdout",
     "output_type": "stream",
     "text": [
      "\n",
      "TRAIN RESULTS\n",
      "Loss: 1.5393731343260717\n",
      "Accuracy: 0.5246194470332401\n",
      "MCC: 0.3563453297930444\n",
      "Macro F1: 0.1631220720787724\n",
      "Macro Precision: 0.1861977943646678\n",
      "Macro Recall: 0.17812925263971116\n",
      "Micro F1: 0.5246194470332401\n",
      "Micro Precision: 0.5246194470332401\n",
      "Micro Recall: 0.5246194470332401\n",
      "\n",
      "VALIDATION RESULTS\n",
      "Loss: 1.6704845428466797\n",
      "Accuracy: 0.5432900432900433\n",
      "MCC: 0.4063813905853892\n",
      "Macro F1: 0.17284039237782403\n",
      "Macro Precision: 0.15337001302443526\n",
      "Macro Recall: 0.2140841141892399\n",
      "Micro F1: 0.5432900432900433\n",
      "Micro Precision: 0.5432900432900433\n",
      "Micro Recall: 0.5432900432900433\n",
      "Early stopped training\n",
      "--------------------------------------------------\n"
     ]
    },
    {
     "data": {
      "text/html": [
       "Waiting for W&B process to finish... <strong style=\"color:green\">(success).</strong>"
      ],
      "text/plain": [
       "<IPython.core.display.HTML object>"
      ]
     },
     "metadata": {},
     "output_type": "display_data"
    },
    {
     "data": {
      "text/html": [
       "<style>\n",
       "    table.wandb td:nth-child(1) { padding: 0 10px; text-align: left ; width: auto;} td:nth-child(2) {text-align: left ; width: 100%}\n",
       "    .wandb-row { display: flex; flex-direction: row; flex-wrap: wrap; justify-content: flex-start; width: 100% }\n",
       "    .wandb-col { display: flex; flex-direction: column; flex-basis: 100%; flex: 1; padding: 10px; }\n",
       "    </style>\n",
       "<div class=\"wandb-row\"><div class=\"wandb-col\"><h3>Run history:</h3><br/><table class=\"wandb\"><tr><td>Epoch</td><td>▁▃▅▆█</td></tr><tr><td>Train Loss</td><td>█▃▂▁▁</td></tr><tr><td>Validation Loss</td><td>█▄▁▄▂</td></tr></table><br/></div><div class=\"wandb-col\"><h3>Run summary:</h3><br/><table class=\"wandb\"><tr><td>Epoch</td><td>5</td></tr><tr><td>Train Loss</td><td>1.53937</td></tr><tr><td>Validation Loss</td><td>1.67048</td></tr></table><br/></div></div>"
      ],
      "text/plain": [
       "<IPython.core.display.HTML object>"
      ]
     },
     "metadata": {},
     "output_type": "display_data"
    },
    {
     "data": {
      "text/html": [
       " View run <strong style=\"color:#cdcd00\">ToBERT-Trial0</strong> at: <a href='https://wandb.ai/gmarinowandb-8601/RhetoricalRolesClassification-BUILD/runs/nf0zawl6' target=\"_blank\">https://wandb.ai/gmarinowandb-8601/RhetoricalRolesClassification-BUILD/runs/nf0zawl6</a><br/>Synced 5 W&B file(s), 0 media file(s), 0 artifact file(s) and 0 other file(s)"
      ],
      "text/plain": [
       "<IPython.core.display.HTML object>"
      ]
     },
     "metadata": {},
     "output_type": "display_data"
    },
    {
     "data": {
      "text/html": [
       "Find logs at: <code>./wandb/run-20230425_155213-nf0zawl6/logs</code>"
      ],
      "text/plain": [
       "<IPython.core.display.HTML object>"
      ]
     },
     "metadata": {},
     "output_type": "display_data"
    },
    {
     "name": "stderr",
     "output_type": "stream",
     "text": [
      "\u001b[32m[I 2023-04-25 16:00:56,382]\u001b[0m Trial 0 finished with value: 1.5464500188827515 and parameters: {'lr': 0.00017631610198086124, 'weight_decay': 0.01802976005262912, 'embedding': 'abs', 'transformer_dropout': 0.5369150453606962, 'transformer_dim_feedforward': 729}. Best is trial 0 with value: 1.5464500188827515.\u001b[0m\n"
     ]
    },
    {
     "name": "stdout",
     "output_type": "stream",
     "text": [
      "\n",
      "************************ Starting New Optuna Trial ************************\n",
      "\n"
     ]
    },
    {
     "name": "stderr",
     "output_type": "stream",
     "text": [
      "Some weights of the model checkpoint at nlpaueb/legal-bert-base-uncased were not used when initializing BertForTokenClassification: ['cls.seq_relationship.weight', 'cls.predictions.bias', 'cls.predictions.transform.LayerNorm.bias', 'cls.predictions.decoder.bias', 'cls.predictions.decoder.weight', 'cls.seq_relationship.bias', 'cls.predictions.transform.dense.bias', 'cls.predictions.transform.LayerNorm.weight', 'cls.predictions.transform.dense.weight']\n",
      "- This IS expected if you are initializing BertForTokenClassification from the checkpoint of a model trained on another task or with another architecture (e.g. initializing a BertForSequenceClassification model from a BertForPreTraining model).\n",
      "- This IS NOT expected if you are initializing BertForTokenClassification from the checkpoint of a model that you expect to be exactly identical (initializing a BertForSequenceClassification model from a BertForSequenceClassification model).\n",
      "Some weights of BertForTokenClassification were not initialized from the model checkpoint at nlpaueb/legal-bert-base-uncased and are newly initialized: ['classifier.weight', 'classifier.bias']\n",
      "You should probably TRAIN this model on a down-stream task to be able to use it for predictions and inference.\n"
     ]
    },
    {
     "data": {
      "text/html": [
       "wandb version 0.15.0 is available!  To upgrade, please run:\n",
       " $ pip install wandb --upgrade"
      ],
      "text/plain": [
       "<IPython.core.display.HTML object>"
      ]
     },
     "metadata": {},
     "output_type": "display_data"
    },
    {
     "data": {
      "text/html": [
       "Tracking run with wandb version 0.13.10"
      ],
      "text/plain": [
       "<IPython.core.display.HTML object>"
      ]
     },
     "metadata": {},
     "output_type": "display_data"
    },
    {
     "data": {
      "text/html": [
       "Run data is saved locally in <code>/home/g.marino/Desktop/GA/RhetoricalRolesClassification/BUILD/wandb/run-20230425_160058-v5yalokq</code>"
      ],
      "text/plain": [
       "<IPython.core.display.HTML object>"
      ]
     },
     "metadata": {},
     "output_type": "display_data"
    },
    {
     "data": {
      "text/html": [
       "Syncing run <strong><a href='https://wandb.ai/gmarinowandb-8601/RhetoricalRolesClassification-BUILD/runs/v5yalokq' target=\"_blank\">ToBERT-Trial1</a></strong> to <a href='https://wandb.ai/gmarinowandb-8601/RhetoricalRolesClassification-BUILD' target=\"_blank\">Weights & Biases</a> (<a href='https://wandb.me/run' target=\"_blank\">docs</a>)<br/>"
      ],
      "text/plain": [
       "<IPython.core.display.HTML object>"
      ]
     },
     "metadata": {},
     "output_type": "display_data"
    },
    {
     "data": {
      "text/html": [
       " View project at <a href='https://wandb.ai/gmarinowandb-8601/RhetoricalRolesClassification-BUILD' target=\"_blank\">https://wandb.ai/gmarinowandb-8601/RhetoricalRolesClassification-BUILD</a>"
      ],
      "text/plain": [
       "<IPython.core.display.HTML object>"
      ]
     },
     "metadata": {},
     "output_type": "display_data"
    },
    {
     "data": {
      "text/html": [
       " View run at <a href='https://wandb.ai/gmarinowandb-8601/RhetoricalRolesClassification-BUILD/runs/v5yalokq' target=\"_blank\">https://wandb.ai/gmarinowandb-8601/RhetoricalRolesClassification-BUILD/runs/v5yalokq</a>"
      ],
      "text/plain": [
       "<IPython.core.display.HTML object>"
      ]
     },
     "metadata": {},
     "output_type": "display_data"
    },
    {
     "name": "stdout",
     "output_type": "stream",
     "text": [
      "\n",
      "************** Training Started **************\n",
      "\n",
      "EPOCH N. 1\n"
     ]
    },
    {
     "name": "stderr",
     "output_type": "stream",
     "text": [
      "221it [01:28,  2.50it/s]\n"
     ]
    },
    {
     "name": "stdout",
     "output_type": "stream",
     "text": [
      "\n",
      "TRAIN RESULTS\n",
      "Loss: 1.9041787558551289\n",
      "Accuracy: 0.45239204721963344\n",
      "MCC: 0.2431460714446545\n",
      "Macro F1: 0.11839505592883677\n",
      "Macro Precision: 0.12055757609467312\n",
      "Macro Recall: 0.13506826799740046\n",
      "Micro F1: 0.45239204721963344\n",
      "Micro Precision: 0.45239204721963344\n",
      "Micro Recall: 0.45239204721963344\n",
      "\n",
      "VALIDATION RESULTS\n",
      "Loss: 1.9956350326538086\n",
      "Accuracy: 0.479282622139765\n",
      "MCC: 0.26846869699656434\n",
      "Macro F1: 0.090579278990943\n",
      "Macro Precision: 0.129475219439469\n",
      "Macro Recall: 0.12018439914072412\n",
      "Micro F1: 0.479282622139765\n",
      "Micro Precision: 0.479282622139765\n",
      "Micro Recall: 0.479282622139765\n",
      "--------------------------------------------------\n",
      "EPOCH N. 2\n"
     ]
    },
    {
     "name": "stderr",
     "output_type": "stream",
     "text": [
      "221it [01:29,  2.47it/s]\n"
     ]
    },
    {
     "name": "stdout",
     "output_type": "stream",
     "text": [
      "\n",
      "TRAIN RESULTS\n",
      "Loss: 1.7474103912508865\n",
      "Accuracy: 0.4927384280832557\n",
      "MCC: 0.3019435819487003\n",
      "Macro F1: 0.13262906691865034\n",
      "Macro Precision: 0.162165935529075\n",
      "Macro Recall: 0.14961052600621308\n",
      "Micro F1: 0.49273842808325574\n",
      "Micro Precision: 0.4927384280832557\n",
      "Micro Recall: 0.4927384280832557\n",
      "\n",
      "VALIDATION RESULTS\n",
      "Loss: 1.8469407558441162\n",
      "Accuracy: 0.33426097711812\n",
      "MCC: 0.1904586791885059\n",
      "Macro F1: 0.12416338206519154\n",
      "Macro Precision: 0.13029256174075393\n",
      "Macro Recall: 0.15856086326473\n",
      "Micro F1: 0.33426097711812\n",
      "Micro Precision: 0.33426097711812\n",
      "Micro Recall: 0.33426097711812\n",
      "--------------------------------------------------\n",
      "EPOCH N. 3\n"
     ]
    },
    {
     "name": "stderr",
     "output_type": "stream",
     "text": [
      "221it [01:27,  2.54it/s]\n"
     ]
    },
    {
     "name": "stdout",
     "output_type": "stream",
     "text": [
      "\n",
      "TRAIN RESULTS\n",
      "Loss: 1.669359772723185\n",
      "Accuracy: 0.509242000621311\n",
      "MCC: 0.32866040043588624\n",
      "Macro F1: 0.13935989144718258\n",
      "Macro Precision: 0.13760346050317762\n",
      "Macro Recall: 0.15726115262538215\n",
      "Micro F1: 0.509242000621311\n",
      "Micro Precision: 0.509242000621311\n",
      "Micro Recall: 0.509242000621311\n",
      "\n",
      "VALIDATION RESULTS\n",
      "Loss: 1.5937250852584839\n",
      "Accuracy: 0.5485466914038343\n",
      "MCC: 0.3733522840637556\n",
      "Macro F1: 0.14106938863497204\n",
      "Macro Precision: 0.13496770797621307\n",
      "Macro Recall: 0.15681881849920687\n",
      "Micro F1: 0.5485466914038343\n",
      "Micro Precision: 0.5485466914038343\n",
      "Micro Recall: 0.5485466914038343\n",
      "--------------------------------------------------\n",
      "EPOCH N. 4\n"
     ]
    },
    {
     "name": "stderr",
     "output_type": "stream",
     "text": [
      "221it [01:26,  2.55it/s]\n"
     ]
    },
    {
     "name": "stdout",
     "output_type": "stream",
     "text": [
      "\n",
      "TRAIN RESULTS\n",
      "Loss: 1.6356276392397298\n",
      "Accuracy: 0.5104846225535881\n",
      "MCC: 0.3322110108240657\n",
      "Macro F1: 0.1448404112704217\n",
      "Macro Precision: 0.23287198403981557\n",
      "Macro Recall: 0.16070378367788068\n",
      "Micro F1: 0.5104846225535881\n",
      "Micro Precision: 0.5104846225535881\n",
      "Micro Recall: 0.5104846225535881\n",
      "\n",
      "VALIDATION RESULTS\n",
      "Loss: 1.6025446653366089\n",
      "Accuracy: 0.5633889919604206\n",
      "MCC: 0.39732891783773805\n",
      "Macro F1: 0.14475942890955767\n",
      "Macro Precision: 0.14162947194266284\n",
      "Macro Recall: 0.16088145610463164\n",
      "Micro F1: 0.5633889919604206\n",
      "Micro Precision: 0.5633889919604206\n",
      "Micro Recall: 0.5633889919604206\n",
      "--------------------------------------------------\n",
      "EPOCH N. 5\n"
     ]
    },
    {
     "name": "stderr",
     "output_type": "stream",
     "text": [
      "221it [01:29,  2.47it/s]\n"
     ]
    },
    {
     "name": "stdout",
     "output_type": "stream",
     "text": [
      "\n",
      "TRAIN RESULTS\n",
      "Loss: 1.6354121487604547\n",
      "Accuracy: 0.5216293880086984\n",
      "MCC: 0.3463786344849236\n",
      "Macro F1: 0.1404614008096796\n",
      "Macro Precision: 0.13975641581552242\n",
      "Macro Recall: 0.15920284784876243\n",
      "Micro F1: 0.5216293880086984\n",
      "Micro Precision: 0.5216293880086984\n",
      "Micro Recall: 0.5216293880086984\n",
      "\n",
      "VALIDATION RESULTS\n",
      "Loss: 1.5591456890106201\n",
      "Accuracy: 0.5624613481756339\n",
      "MCC: 0.39552584788096734\n",
      "Macro F1: 0.14468619343003436\n",
      "Macro Precision: 0.13699055175269884\n",
      "Macro Recall: 0.16138976459892782\n",
      "Micro F1: 0.5624613481756339\n",
      "Micro Precision: 0.5624613481756339\n",
      "Micro Recall: 0.5624613481756339\n",
      "--------------------------------------------------\n",
      "EPOCH N. 6\n"
     ]
    },
    {
     "name": "stderr",
     "output_type": "stream",
     "text": [
      "221it [01:28,  2.50it/s]\n"
     ]
    },
    {
     "name": "stdout",
     "output_type": "stream",
     "text": [
      "\n",
      "TRAIN RESULTS\n",
      "Loss: 1.6087796755505903\n",
      "Accuracy: 0.5231438334886611\n",
      "MCC: 0.3489609430522815\n",
      "Macro F1: 0.14328721013609172\n",
      "Macro Precision: 0.16449577982088323\n",
      "Macro Recall: 0.16090173735002355\n",
      "Micro F1: 0.5231438334886611\n",
      "Micro Precision: 0.5231438334886611\n",
      "Micro Recall: 0.5231438334886611\n",
      "\n",
      "VALIDATION RESULTS\n",
      "Loss: 1.5559022426605225\n",
      "Accuracy: 0.5850340136054422\n",
      "MCC: 0.431486625281264\n",
      "Macro F1: 0.15118997095743886\n",
      "Macro Precision: 0.14413953461771514\n",
      "Macro Recall: 0.17032732317736526\n",
      "Micro F1: 0.5850340136054422\n",
      "Micro Precision: 0.5850340136054422\n",
      "Micro Recall: 0.5850340136054422\n",
      "--------------------------------------------------\n",
      "EPOCH N. 7\n"
     ]
    },
    {
     "name": "stderr",
     "output_type": "stream",
     "text": [
      "221it [01:26,  2.55it/s]\n"
     ]
    },
    {
     "name": "stdout",
     "output_type": "stream",
     "text": [
      "\n",
      "TRAIN RESULTS\n",
      "Loss: 1.5834317587619453\n",
      "Accuracy: 0.5224060267163716\n",
      "MCC: 0.3482295993499321\n",
      "Macro F1: 0.14486428023917938\n",
      "Macro Precision: 0.16079990594055613\n",
      "Macro Recall: 0.16160584850484647\n",
      "Micro F1: 0.5224060267163716\n",
      "Micro Precision: 0.5224060267163716\n",
      "Micro Recall: 0.5224060267163716\n",
      "\n",
      "VALIDATION RESULTS\n",
      "Loss: 1.514951229095459\n",
      "Accuracy: 0.556895485466914\n",
      "MCC: 0.3869464715444471\n",
      "Macro F1: 0.1449419981062503\n",
      "Macro Precision: 0.1765011423865518\n",
      "Macro Recall: 0.1591673016057887\n",
      "Micro F1: 0.556895485466914\n",
      "Micro Precision: 0.556895485466914\n",
      "Micro Recall: 0.556895485466914\n",
      "--------------------------------------------------\n",
      "EPOCH N. 8\n"
     ]
    },
    {
     "name": "stderr",
     "output_type": "stream",
     "text": [
      "221it [01:27,  2.53it/s]\n"
     ]
    },
    {
     "name": "stdout",
     "output_type": "stream",
     "text": [
      "\n",
      "TRAIN RESULTS\n",
      "Loss: 1.5733331514699427\n",
      "Accuracy: 0.5200372786579683\n",
      "MCC: 0.3457951946163047\n",
      "Macro F1: 0.1496505791861194\n",
      "Macro Precision: 0.15534529293601274\n",
      "Macro Recall: 0.16556080704079384\n",
      "Micro F1: 0.5200372786579683\n",
      "Micro Precision: 0.5200372786579683\n",
      "Micro Recall: 0.5200372786579683\n",
      "\n",
      "VALIDATION RESULTS\n",
      "Loss: 1.5280803442001343\n",
      "Accuracy: 0.5454545454545454\n",
      "MCC: 0.3714915817561787\n",
      "Macro F1: 0.14505203080482929\n",
      "Macro Precision: 0.15113734167892526\n",
      "Macro Recall: 0.15870517705514567\n",
      "Micro F1: 0.5454545454545454\n",
      "Micro Precision: 0.5454545454545454\n",
      "Micro Recall: 0.5454545454545454\n",
      "--------------------------------------------------\n",
      "EPOCH N. 9\n"
     ]
    },
    {
     "name": "stderr",
     "output_type": "stream",
     "text": [
      "221it [01:26,  2.56it/s]\n"
     ]
    },
    {
     "name": "stdout",
     "output_type": "stream",
     "text": [
      "\n",
      "TRAIN RESULTS\n",
      "Loss: 1.5448645962848921\n",
      "Accuracy: 0.5252407579993786\n",
      "MCC: 0.3532330729704641\n",
      "Macro F1: 0.15157991600362125\n",
      "Macro Precision: 0.1580602865290969\n",
      "Macro Recall: 0.16734873244581025\n",
      "Micro F1: 0.5252407579993786\n",
      "Micro Precision: 0.5252407579993786\n",
      "Micro Recall: 0.5252407579993786\n",
      "\n",
      "VALIDATION RESULTS\n",
      "Loss: 1.4525415897369385\n",
      "Accuracy: 0.5813234384662956\n",
      "MCC: 0.4273975244564683\n",
      "Macro F1: 0.16136563153118613\n",
      "Macro Precision: 0.16705053939950976\n",
      "Macro Recall: 0.18264292016728012\n",
      "Micro F1: 0.5813234384662956\n",
      "Micro Precision: 0.5813234384662956\n",
      "Micro Recall: 0.5813234384662956\n",
      "--------------------------------------------------\n",
      "EPOCH N. 10\n"
     ]
    },
    {
     "name": "stderr",
     "output_type": "stream",
     "text": [
      "221it [01:26,  2.55it/s]\n"
     ]
    },
    {
     "name": "stdout",
     "output_type": "stream",
     "text": [
      "\n",
      "TRAIN RESULTS\n",
      "Loss: 1.5408198911679816\n",
      "Accuracy: 0.5224448586517552\n",
      "MCC: 0.35011949266216613\n",
      "Macro F1: 0.1529988798235376\n",
      "Macro Precision: 0.16373564903450666\n",
      "Macro Recall: 0.16763501595723754\n",
      "Micro F1: 0.5224448586517552\n",
      "Micro Precision: 0.5224448586517552\n",
      "Micro Recall: 0.5224448586517552\n",
      "\n",
      "VALIDATION RESULTS\n",
      "Loss: 1.6197298765182495\n",
      "Accuracy: 0.5355596784168213\n",
      "MCC: 0.3695578658424368\n",
      "Macro F1: 0.13431141978711222\n",
      "Macro Precision: 0.11533359158133205\n",
      "Macro Recall: 0.16648399100440586\n",
      "Micro F1: 0.5355596784168213\n",
      "Micro Precision: 0.5355596784168213\n",
      "Micro Recall: 0.5355596784168213\n",
      "--------------------------------------------------\n",
      "EPOCH N. 11\n"
     ]
    },
    {
     "name": "stderr",
     "output_type": "stream",
     "text": [
      "221it [01:26,  2.56it/s]\n"
     ]
    },
    {
     "name": "stdout",
     "output_type": "stream",
     "text": [
      "\n",
      "TRAIN RESULTS\n",
      "Loss: 1.590003127426044\n",
      "Accuracy: 0.5279201615408512\n",
      "MCC: 0.35638723027515107\n",
      "Macro F1: 0.1442879264870342\n",
      "Macro Precision: 0.15590969003371916\n",
      "Macro Recall: 0.1639494129170595\n",
      "Micro F1: 0.5279201615408512\n",
      "Micro Precision: 0.5279201615408512\n",
      "Micro Recall: 0.5279201615408512\n",
      "\n",
      "VALIDATION RESULTS\n",
      "Loss: 1.5808930397033691\n",
      "Accuracy: 0.551638837353123\n",
      "MCC: 0.38097959675653714\n",
      "Macro F1: 0.14727069058540526\n",
      "Macro Precision: 0.15831295653381355\n",
      "Macro Recall: 0.15979702232715848\n",
      "Micro F1: 0.551638837353123\n",
      "Micro Precision: 0.551638837353123\n",
      "Micro Recall: 0.551638837353123\n",
      "Early stopped training\n",
      "--------------------------------------------------\n"
     ]
    },
    {
     "data": {
      "text/html": [
       "Waiting for W&B process to finish... <strong style=\"color:green\">(success).</strong>"
      ],
      "text/plain": [
       "<IPython.core.display.HTML object>"
      ]
     },
     "metadata": {},
     "output_type": "display_data"
    },
    {
     "data": {
      "text/html": [
       "<style>\n",
       "    table.wandb td:nth-child(1) { padding: 0 10px; text-align: left ; width: auto;} td:nth-child(2) {text-align: left ; width: 100%}\n",
       "    .wandb-row { display: flex; flex-direction: row; flex-wrap: wrap; justify-content: flex-start; width: 100% }\n",
       "    .wandb-col { display: flex; flex-direction: column; flex-basis: 100%; flex: 1; padding: 10px; }\n",
       "    </style>\n",
       "<div class=\"wandb-row\"><div class=\"wandb-col\"><h3>Run history:</h3><br/><table class=\"wandb\"><tr><td>Epoch</td><td>▁▂▂▃▄▅▅▆▇▇█</td></tr><tr><td>Train Loss</td><td>█▅▃▃▃▂▂▂▁▁▂</td></tr><tr><td>Validation Loss</td><td>█▆▃▃▂▂▂▂▁▃▃</td></tr></table><br/></div><div class=\"wandb-col\"><h3>Run summary:</h3><br/><table class=\"wandb\"><tr><td>Epoch</td><td>11</td></tr><tr><td>Train Loss</td><td>1.59</td></tr><tr><td>Validation Loss</td><td>1.58089</td></tr></table><br/></div></div>"
      ],
      "text/plain": [
       "<IPython.core.display.HTML object>"
      ]
     },
     "metadata": {},
     "output_type": "display_data"
    },
    {
     "data": {
      "text/html": [
       " View run <strong style=\"color:#cdcd00\">ToBERT-Trial1</strong> at: <a href='https://wandb.ai/gmarinowandb-8601/RhetoricalRolesClassification-BUILD/runs/v5yalokq' target=\"_blank\">https://wandb.ai/gmarinowandb-8601/RhetoricalRolesClassification-BUILD/runs/v5yalokq</a><br/>Synced 5 W&B file(s), 0 media file(s), 0 artifact file(s) and 0 other file(s)"
      ],
      "text/plain": [
       "<IPython.core.display.HTML object>"
      ]
     },
     "metadata": {},
     "output_type": "display_data"
    },
    {
     "data": {
      "text/html": [
       "Find logs at: <code>./wandb/run-20230425_160058-v5yalokq/logs</code>"
      ],
      "text/plain": [
       "<IPython.core.display.HTML object>"
      ]
     },
     "metadata": {},
     "output_type": "display_data"
    },
    {
     "name": "stderr",
     "output_type": "stream",
     "text": [
      "\u001b[32m[I 2023-04-25 16:19:20,531]\u001b[0m Trial 1 finished with value: 1.4525415897369385 and parameters: {'lr': 0.0004911483416538667, 'weight_decay': 0.04425448878259514, 'embedding': 'abs', 'transformer_dropout': 0.4275963245038036, 'transformer_dim_feedforward': 853}. Best is trial 1 with value: 1.4525415897369385.\u001b[0m\n"
     ]
    },
    {
     "name": "stdout",
     "output_type": "stream",
     "text": [
      "\n",
      "************************ Starting New Optuna Trial ************************\n",
      "\n"
     ]
    },
    {
     "name": "stderr",
     "output_type": "stream",
     "text": [
      "Some weights of the model checkpoint at nlpaueb/legal-bert-base-uncased were not used when initializing BertForTokenClassification: ['cls.seq_relationship.weight', 'cls.predictions.bias', 'cls.predictions.transform.LayerNorm.bias', 'cls.predictions.decoder.bias', 'cls.predictions.decoder.weight', 'cls.seq_relationship.bias', 'cls.predictions.transform.dense.bias', 'cls.predictions.transform.LayerNorm.weight', 'cls.predictions.transform.dense.weight']\n",
      "- This IS expected if you are initializing BertForTokenClassification from the checkpoint of a model trained on another task or with another architecture (e.g. initializing a BertForSequenceClassification model from a BertForPreTraining model).\n",
      "- This IS NOT expected if you are initializing BertForTokenClassification from the checkpoint of a model that you expect to be exactly identical (initializing a BertForSequenceClassification model from a BertForSequenceClassification model).\n",
      "Some weights of BertForTokenClassification were not initialized from the model checkpoint at nlpaueb/legal-bert-base-uncased and are newly initialized: ['classifier.weight', 'classifier.bias']\n",
      "You should probably TRAIN this model on a down-stream task to be able to use it for predictions and inference.\n"
     ]
    },
    {
     "data": {
      "text/html": [
       "wandb version 0.15.0 is available!  To upgrade, please run:\n",
       " $ pip install wandb --upgrade"
      ],
      "text/plain": [
       "<IPython.core.display.HTML object>"
      ]
     },
     "metadata": {},
     "output_type": "display_data"
    },
    {
     "data": {
      "text/html": [
       "Tracking run with wandb version 0.13.10"
      ],
      "text/plain": [
       "<IPython.core.display.HTML object>"
      ]
     },
     "metadata": {},
     "output_type": "display_data"
    },
    {
     "data": {
      "text/html": [
       "Run data is saved locally in <code>/home/g.marino/Desktop/GA/RhetoricalRolesClassification/BUILD/wandb/run-20230425_161922-ecdyk3m1</code>"
      ],
      "text/plain": [
       "<IPython.core.display.HTML object>"
      ]
     },
     "metadata": {},
     "output_type": "display_data"
    },
    {
     "data": {
      "text/html": [
       "Syncing run <strong><a href='https://wandb.ai/gmarinowandb-8601/RhetoricalRolesClassification-BUILD/runs/ecdyk3m1' target=\"_blank\">ToBERT-Trial2</a></strong> to <a href='https://wandb.ai/gmarinowandb-8601/RhetoricalRolesClassification-BUILD' target=\"_blank\">Weights & Biases</a> (<a href='https://wandb.me/run' target=\"_blank\">docs</a>)<br/>"
      ],
      "text/plain": [
       "<IPython.core.display.HTML object>"
      ]
     },
     "metadata": {},
     "output_type": "display_data"
    },
    {
     "data": {
      "text/html": [
       " View project at <a href='https://wandb.ai/gmarinowandb-8601/RhetoricalRolesClassification-BUILD' target=\"_blank\">https://wandb.ai/gmarinowandb-8601/RhetoricalRolesClassification-BUILD</a>"
      ],
      "text/plain": [
       "<IPython.core.display.HTML object>"
      ]
     },
     "metadata": {},
     "output_type": "display_data"
    },
    {
     "data": {
      "text/html": [
       " View run at <a href='https://wandb.ai/gmarinowandb-8601/RhetoricalRolesClassification-BUILD/runs/ecdyk3m1' target=\"_blank\">https://wandb.ai/gmarinowandb-8601/RhetoricalRolesClassification-BUILD/runs/ecdyk3m1</a>"
      ],
      "text/plain": [
       "<IPython.core.display.HTML object>"
      ]
     },
     "metadata": {},
     "output_type": "display_data"
    },
    {
     "name": "stdout",
     "output_type": "stream",
     "text": [
      "\n",
      "************** Training Started **************\n",
      "\n",
      "EPOCH N. 1\n"
     ]
    },
    {
     "name": "stderr",
     "output_type": "stream",
     "text": [
      "221it [01:28,  2.50it/s]\n"
     ]
    },
    {
     "name": "stdout",
     "output_type": "stream",
     "text": [
      "\n",
      "TRAIN RESULTS\n",
      "Loss: 1.9418409277950477\n",
      "Accuracy: 0.4186470953712333\n",
      "MCC: 0.1916832641389489\n",
      "Macro F1: 0.11135062704440965\n",
      "Macro Precision: 0.14458383216572734\n",
      "Macro Recall: 0.12348775549925305\n",
      "Micro F1: 0.4186470953712333\n",
      "Micro Precision: 0.4186470953712333\n",
      "Micro Recall: 0.4186470953712333\n",
      "\n",
      "VALIDATION RESULTS\n",
      "Loss: 2.914841651916504\n",
      "Accuracy: 0.40197897340754485\n",
      "MCC: 0.09854683260749574\n",
      "Macro F1: 0.05865326983059333\n",
      "Macro Precision: 0.2006273111074474\n",
      "Macro Recall: 0.0854608230256396\n",
      "Micro F1: 0.40197897340754485\n",
      "Micro Precision: 0.40197897340754485\n",
      "Micro Recall: 0.40197897340754485\n",
      "--------------------------------------------------\n",
      "EPOCH N. 2\n"
     ]
    },
    {
     "name": "stderr",
     "output_type": "stream",
     "text": [
      "221it [01:30,  2.45it/s]\n"
     ]
    },
    {
     "name": "stdout",
     "output_type": "stream",
     "text": [
      "\n",
      "TRAIN RESULTS\n",
      "Loss: 1.6410373400778793\n",
      "Accuracy: 0.5257844050947499\n",
      "MCC: 0.3568419093891259\n",
      "Macro F1: 0.16315178142551914\n",
      "Macro Precision: 0.19052464070224923\n",
      "Macro Recall: 0.1769548852466777\n",
      "Micro F1: 0.5257844050947499\n",
      "Micro Precision: 0.5257844050947499\n",
      "Micro Recall: 0.5257844050947499\n",
      "\n",
      "VALIDATION RESULTS\n",
      "Loss: 1.9535892009735107\n",
      "Accuracy: 0.5871985157699443\n",
      "MCC: 0.4364027914184028\n",
      "Macro F1: 0.1743057780255356\n",
      "Macro Precision: 0.17273590472384534\n",
      "Macro Recall: 0.1902764136105264\n",
      "Micro F1: 0.5871985157699443\n",
      "Micro Precision: 0.5871985157699443\n",
      "Micro Recall: 0.5871985157699443\n",
      "--------------------------------------------------\n",
      "EPOCH N. 3\n"
     ]
    },
    {
     "name": "stderr",
     "output_type": "stream",
     "text": [
      "221it [01:28,  2.51it/s]\n"
     ]
    },
    {
     "name": "stdout",
     "output_type": "stream",
     "text": [
      "\n",
      "TRAIN RESULTS\n",
      "Loss: 1.5179038468529196\n",
      "Accuracy: 0.5536269027648338\n",
      "MCC: 0.39999396440690926\n",
      "Macro F1: 0.18519082424549432\n",
      "Macro Precision: 0.225948917587554\n",
      "Macro Recall: 0.19855905228322318\n",
      "Micro F1: 0.5536269027648338\n",
      "Micro Precision: 0.5536269027648338\n",
      "Micro Recall: 0.5536269027648338\n",
      "\n",
      "VALIDATION RESULTS\n",
      "Loss: 1.6856635808944702\n",
      "Accuracy: 0.5816326530612245\n",
      "MCC: 0.43994808829198007\n",
      "Macro F1: 0.20491296694938288\n",
      "Macro Precision: 0.18724336021150523\n",
      "Macro Recall: 0.23015105645929437\n",
      "Micro F1: 0.5816326530612245\n",
      "Micro Precision: 0.5816326530612245\n",
      "Micro Recall: 0.5816326530612245\n",
      "--------------------------------------------------\n",
      "EPOCH N. 4\n"
     ]
    },
    {
     "name": "stderr",
     "output_type": "stream",
     "text": [
      "221it [01:27,  2.54it/s]\n"
     ]
    },
    {
     "name": "stdout",
     "output_type": "stream",
     "text": [
      "\n",
      "TRAIN RESULTS\n",
      "Loss: 1.4604388124802534\n",
      "Accuracy: 0.5655483069276173\n",
      "MCC: 0.41852162456333736\n",
      "Macro F1: 0.20083134368421132\n",
      "Macro Precision: 0.24636587607495775\n",
      "Macro Recall: 0.21354542542147176\n",
      "Micro F1: 0.5655483069276173\n",
      "Micro Precision: 0.5655483069276173\n",
      "Micro Recall: 0.5655483069276173\n",
      "\n",
      "VALIDATION RESULTS\n",
      "Loss: 1.628898024559021\n",
      "Accuracy: 0.5760667903525046\n",
      "MCC: 0.41923818462535145\n",
      "Macro F1: 0.17995624981920613\n",
      "Macro Precision: 0.18982562741205783\n",
      "Macro Recall: 0.18923791732711662\n",
      "Micro F1: 0.5760667903525046\n",
      "Micro Precision: 0.5760667903525046\n",
      "Micro Recall: 0.5760667903525046\n",
      "--------------------------------------------------\n",
      "EPOCH N. 5\n"
     ]
    },
    {
     "name": "stderr",
     "output_type": "stream",
     "text": [
      "221it [01:28,  2.49it/s]\n"
     ]
    },
    {
     "name": "stdout",
     "output_type": "stream",
     "text": [
      "\n",
      "TRAIN RESULTS\n",
      "Loss: 1.4426817813070651\n",
      "Accuracy: 0.5490059024541784\n",
      "MCC: 0.3955829604375146\n",
      "Macro F1: 0.19123036663682713\n",
      "Macro Precision: 0.28629927161656143\n",
      "Macro Recall: 0.20280718921359517\n",
      "Micro F1: 0.5490059024541784\n",
      "Micro Precision: 0.5490059024541784\n",
      "Micro Recall: 0.5490059024541784\n",
      "\n",
      "VALIDATION RESULTS\n",
      "Loss: 1.8283140659332275\n",
      "Accuracy: 0.5562770562770563\n",
      "MCC: 0.41219010520709015\n",
      "Macro F1: 0.1822098346389795\n",
      "Macro Precision: 0.17716375618459113\n",
      "Macro Recall: 0.21160368636636628\n",
      "Micro F1: 0.5562770562770563\n",
      "Micro Precision: 0.5562770562770563\n",
      "Micro Recall: 0.5562770562770563\n",
      "--------------------------------------------------\n",
      "EPOCH N. 6\n"
     ]
    },
    {
     "name": "stderr",
     "output_type": "stream",
     "text": [
      "221it [01:27,  2.52it/s]\n"
     ]
    },
    {
     "name": "stdout",
     "output_type": "stream",
     "text": [
      "\n",
      "TRAIN RESULTS\n",
      "Loss: 1.4701177984880647\n",
      "Accuracy: 0.5464429947188568\n",
      "MCC: 0.389725659583467\n",
      "Macro F1: 0.1903079490167494\n",
      "Macro Precision: 0.21877305781636705\n",
      "Macro Recall: 0.19856783417401933\n",
      "Micro F1: 0.5464429947188568\n",
      "Micro Precision: 0.5464429947188568\n",
      "Micro Recall: 0.5464429947188568\n",
      "\n",
      "VALIDATION RESULTS\n",
      "Loss: 1.653412103652954\n",
      "Accuracy: 0.5457637600494744\n",
      "MCC: 0.3717864120263696\n",
      "Macro F1: 0.143515408461492\n",
      "Macro Precision: 0.18073588780061306\n",
      "Macro Recall: 0.15731491762701946\n",
      "Micro F1: 0.5457637600494744\n",
      "Micro Precision: 0.5457637600494744\n",
      "Micro Recall: 0.5457637600494744\n",
      "Early stopped training\n",
      "--------------------------------------------------\n"
     ]
    },
    {
     "data": {
      "text/html": [
       "Waiting for W&B process to finish... <strong style=\"color:green\">(success).</strong>"
      ],
      "text/plain": [
       "<IPython.core.display.HTML object>"
      ]
     },
     "metadata": {},
     "output_type": "display_data"
    },
    {
     "data": {
      "application/vnd.jupyter.widget-view+json": {
       "model_id": "ff77d6f165564f1daff80d7bd82182bf",
       "version_major": 2,
       "version_minor": 0
      },
      "text/plain": [
       "VBox(children=(Label(value='0.005 MB of 0.005 MB uploaded (0.000 MB deduped)\\r'), FloatProgress(value=1.0, max…"
      ]
     },
     "metadata": {},
     "output_type": "display_data"
    },
    {
     "data": {
      "text/html": [
       "<style>\n",
       "    table.wandb td:nth-child(1) { padding: 0 10px; text-align: left ; width: auto;} td:nth-child(2) {text-align: left ; width: 100%}\n",
       "    .wandb-row { display: flex; flex-direction: row; flex-wrap: wrap; justify-content: flex-start; width: 100% }\n",
       "    .wandb-col { display: flex; flex-direction: column; flex-basis: 100%; flex: 1; padding: 10px; }\n",
       "    </style>\n",
       "<div class=\"wandb-row\"><div class=\"wandb-col\"><h3>Run history:</h3><br/><table class=\"wandb\"><tr><td>Epoch</td><td>▁▂▄▅▇█</td></tr><tr><td>Train Loss</td><td>█▄▂▁▁▁</td></tr><tr><td>Validation Loss</td><td>█▃▁▁▂▁</td></tr></table><br/></div><div class=\"wandb-col\"><h3>Run summary:</h3><br/><table class=\"wandb\"><tr><td>Epoch</td><td>6</td></tr><tr><td>Train Loss</td><td>1.47012</td></tr><tr><td>Validation Loss</td><td>1.65341</td></tr></table><br/></div></div>"
      ],
      "text/plain": [
       "<IPython.core.display.HTML object>"
      ]
     },
     "metadata": {},
     "output_type": "display_data"
    },
    {
     "data": {
      "text/html": [
       " View run <strong style=\"color:#cdcd00\">ToBERT-Trial2</strong> at: <a href='https://wandb.ai/gmarinowandb-8601/RhetoricalRolesClassification-BUILD/runs/ecdyk3m1' target=\"_blank\">https://wandb.ai/gmarinowandb-8601/RhetoricalRolesClassification-BUILD/runs/ecdyk3m1</a><br/>Synced 5 W&B file(s), 0 media file(s), 0 artifact file(s) and 0 other file(s)"
      ],
      "text/plain": [
       "<IPython.core.display.HTML object>"
      ]
     },
     "metadata": {},
     "output_type": "display_data"
    },
    {
     "data": {
      "text/html": [
       "Find logs at: <code>./wandb/run-20230425_161922-ecdyk3m1/logs</code>"
      ],
      "text/plain": [
       "<IPython.core.display.HTML object>"
      ]
     },
     "metadata": {},
     "output_type": "display_data"
    },
    {
     "name": "stderr",
     "output_type": "stream",
     "text": [
      "\u001b[32m[I 2023-04-25 16:29:38,998]\u001b[0m Trial 2 finished with value: 1.628898024559021 and parameters: {'lr': 0.00013211038331467352, 'weight_decay': 0.0749811647996099, 'embedding': 'abs', 'transformer_dropout': 0.5726009169895264, 'transformer_dim_feedforward': 475}. Best is trial 1 with value: 1.4525415897369385.\u001b[0m\n"
     ]
    },
    {
     "name": "stdout",
     "output_type": "stream",
     "text": [
      "\n",
      "************************ Starting New Optuna Trial ************************\n",
      "\n"
     ]
    },
    {
     "name": "stderr",
     "output_type": "stream",
     "text": [
      "Some weights of the model checkpoint at nlpaueb/legal-bert-base-uncased were not used when initializing BertForTokenClassification: ['cls.seq_relationship.weight', 'cls.predictions.bias', 'cls.predictions.transform.LayerNorm.bias', 'cls.predictions.decoder.bias', 'cls.predictions.decoder.weight', 'cls.seq_relationship.bias', 'cls.predictions.transform.dense.bias', 'cls.predictions.transform.LayerNorm.weight', 'cls.predictions.transform.dense.weight']\n",
      "- This IS expected if you are initializing BertForTokenClassification from the checkpoint of a model trained on another task or with another architecture (e.g. initializing a BertForSequenceClassification model from a BertForPreTraining model).\n",
      "- This IS NOT expected if you are initializing BertForTokenClassification from the checkpoint of a model that you expect to be exactly identical (initializing a BertForSequenceClassification model from a BertForSequenceClassification model).\n",
      "Some weights of BertForTokenClassification were not initialized from the model checkpoint at nlpaueb/legal-bert-base-uncased and are newly initialized: ['classifier.weight', 'classifier.bias']\n",
      "You should probably TRAIN this model on a down-stream task to be able to use it for predictions and inference.\n"
     ]
    },
    {
     "data": {
      "text/html": [
       "wandb version 0.15.0 is available!  To upgrade, please run:\n",
       " $ pip install wandb --upgrade"
      ],
      "text/plain": [
       "<IPython.core.display.HTML object>"
      ]
     },
     "metadata": {},
     "output_type": "display_data"
    },
    {
     "data": {
      "text/html": [
       "Tracking run with wandb version 0.13.10"
      ],
      "text/plain": [
       "<IPython.core.display.HTML object>"
      ]
     },
     "metadata": {},
     "output_type": "display_data"
    },
    {
     "data": {
      "text/html": [
       "Run data is saved locally in <code>/home/g.marino/Desktop/GA/RhetoricalRolesClassification/BUILD/wandb/run-20230425_162940-924cm39t</code>"
      ],
      "text/plain": [
       "<IPython.core.display.HTML object>"
      ]
     },
     "metadata": {},
     "output_type": "display_data"
    },
    {
     "data": {
      "text/html": [
       "Syncing run <strong><a href='https://wandb.ai/gmarinowandb-8601/RhetoricalRolesClassification-BUILD/runs/924cm39t' target=\"_blank\">ToBERT-Trial3</a></strong> to <a href='https://wandb.ai/gmarinowandb-8601/RhetoricalRolesClassification-BUILD' target=\"_blank\">Weights & Biases</a> (<a href='https://wandb.me/run' target=\"_blank\">docs</a>)<br/>"
      ],
      "text/plain": [
       "<IPython.core.display.HTML object>"
      ]
     },
     "metadata": {},
     "output_type": "display_data"
    },
    {
     "data": {
      "text/html": [
       " View project at <a href='https://wandb.ai/gmarinowandb-8601/RhetoricalRolesClassification-BUILD' target=\"_blank\">https://wandb.ai/gmarinowandb-8601/RhetoricalRolesClassification-BUILD</a>"
      ],
      "text/plain": [
       "<IPython.core.display.HTML object>"
      ]
     },
     "metadata": {},
     "output_type": "display_data"
    },
    {
     "data": {
      "text/html": [
       " View run at <a href='https://wandb.ai/gmarinowandb-8601/RhetoricalRolesClassification-BUILD/runs/924cm39t' target=\"_blank\">https://wandb.ai/gmarinowandb-8601/RhetoricalRolesClassification-BUILD/runs/924cm39t</a>"
      ],
      "text/plain": [
       "<IPython.core.display.HTML object>"
      ]
     },
     "metadata": {},
     "output_type": "display_data"
    },
    {
     "name": "stdout",
     "output_type": "stream",
     "text": [
      "\n",
      "************** Training Started **************\n",
      "\n",
      "EPOCH N. 1\n"
     ]
    },
    {
     "name": "stderr",
     "output_type": "stream",
     "text": [
      "221it [01:27,  2.52it/s]\n"
     ]
    },
    {
     "name": "stdout",
     "output_type": "stream",
     "text": [
      "\n",
      "TRAIN RESULTS\n",
      "Loss: 1.7486749849707832\n",
      "Accuracy: 0.4649735942839391\n",
      "MCC: 0.27084322758018203\n",
      "Macro F1: 0.16956639716389582\n",
      "Macro Precision: 0.23075974799098076\n",
      "Macro Recall: 0.16822036910627483\n",
      "Micro F1: 0.4649735942839391\n",
      "Micro Precision: 0.4649735942839391\n",
      "Micro Recall: 0.4649735942839391\n",
      "\n",
      "VALIDATION RESULTS\n",
      "Loss: 1.308169960975647\n",
      "Accuracy: 0.6484230055658627\n",
      "MCC: 0.5285796069283544\n",
      "Macro F1: 0.27244392720296423\n",
      "Macro Precision: 0.40793194697244356\n",
      "Macro Recall: 0.27623753046401833\n",
      "Micro F1: 0.6484230055658627\n",
      "Micro Precision: 0.6484230055658627\n",
      "Micro Recall: 0.6484230055658627\n",
      "--------------------------------------------------\n",
      "EPOCH N. 2\n"
     ]
    },
    {
     "name": "stderr",
     "output_type": "stream",
     "text": [
      "221it [01:27,  2.53it/s]\n"
     ]
    },
    {
     "name": "stdout",
     "output_type": "stream",
     "text": [
      "\n",
      "TRAIN RESULTS\n",
      "Loss: 1.0561913984123938\n",
      "Accuracy: 0.6689965827896862\n",
      "MCC: 0.5678406832186681\n",
      "Macro F1: 0.42277622936049586\n",
      "Macro Precision: 0.5481373300765353\n",
      "Macro Recall: 0.3924305293352163\n",
      "Micro F1: 0.6689965827896862\n",
      "Micro Precision: 0.6689965827896862\n",
      "Micro Recall: 0.6689965827896862\n",
      "\n",
      "VALIDATION RESULTS\n",
      "Loss: 1.0108122825622559\n",
      "Accuracy: 0.7130488559059988\n",
      "MCC: 0.6220298939449227\n",
      "Macro F1: 0.4701273504704761\n",
      "Macro Precision: 0.5271917224992545\n",
      "Macro Recall: 0.4615987465319259\n",
      "Micro F1: 0.7130488559059988\n",
      "Micro Precision: 0.7130488559059988\n",
      "Micro Recall: 0.7130488559059988\n",
      "--------------------------------------------------\n",
      "EPOCH N. 3\n"
     ]
    },
    {
     "name": "stderr",
     "output_type": "stream",
     "text": [
      "221it [01:27,  2.54it/s]\n"
     ]
    },
    {
     "name": "stdout",
     "output_type": "stream",
     "text": [
      "\n",
      "TRAIN RESULTS\n",
      "Loss: 0.8411902460307558\n",
      "Accuracy: 0.7236331158744952\n",
      "MCC: 0.6430452843273985\n",
      "Macro F1: 0.5449521657571207\n",
      "Macro Precision: 0.6197318038145265\n",
      "Macro Recall: 0.5116436298604079\n",
      "Micro F1: 0.7236331158744952\n",
      "Micro Precision: 0.7236331158744952\n",
      "Micro Recall: 0.7236331158744952\n",
      "\n",
      "VALIDATION RESULTS\n",
      "Loss: 0.8966327905654907\n",
      "Accuracy: 0.7090290661719233\n",
      "MCC: 0.6300401594246653\n",
      "Macro F1: 0.5353813338628264\n",
      "Macro Precision: 0.5678846411451088\n",
      "Macro Recall: 0.5489699143394636\n",
      "Micro F1: 0.7090290661719232\n",
      "Micro Precision: 0.7090290661719233\n",
      "Micro Recall: 0.7090290661719233\n",
      "--------------------------------------------------\n",
      "EPOCH N. 4\n"
     ]
    },
    {
     "name": "stderr",
     "output_type": "stream",
     "text": [
      "221it [01:27,  2.53it/s]\n"
     ]
    },
    {
     "name": "stdout",
     "output_type": "stream",
     "text": [
      "\n",
      "TRAIN RESULTS\n",
      "Loss: 0.7356367627689742\n",
      "Accuracy: 0.7486020503261882\n",
      "MCC: 0.676849855939861\n",
      "Macro F1: 0.5847147086706029\n",
      "Macro Precision: 0.637458461873501\n",
      "Macro Recall: 0.5579955588001639\n",
      "Micro F1: 0.7486020503261882\n",
      "Micro Precision: 0.7486020503261882\n",
      "Micro Recall: 0.7486020503261882\n",
      "\n",
      "VALIDATION RESULTS\n",
      "Loss: 0.8791658282279968\n",
      "Accuracy: 0.7334570191713049\n",
      "MCC: 0.6530527878036115\n",
      "Macro F1: 0.523169396380644\n",
      "Macro Precision: 0.5589548221088557\n",
      "Macro Recall: 0.508537631686638\n",
      "Micro F1: 0.7334570191713049\n",
      "Micro Precision: 0.7334570191713049\n",
      "Micro Recall: 0.7334570191713049\n",
      "--------------------------------------------------\n",
      "EPOCH N. 5\n"
     ]
    },
    {
     "name": "stderr",
     "output_type": "stream",
     "text": [
      "221it [01:29,  2.48it/s]\n"
     ]
    },
    {
     "name": "stdout",
     "output_type": "stream",
     "text": [
      "\n",
      "TRAIN RESULTS\n",
      "Loss: 0.6358642765569471\n",
      "Accuracy: 0.7744252873563219\n",
      "MCC: 0.7110784193036219\n",
      "Macro F1: 0.6219028421487285\n",
      "Macro Precision: 0.6683621296141767\n",
      "Macro Recall: 0.5949117304161496\n",
      "Micro F1: 0.774425287356322\n",
      "Micro Precision: 0.7744252873563219\n",
      "Micro Recall: 0.7744252873563219\n",
      "\n",
      "VALIDATION RESULTS\n",
      "Loss: 0.9381589293479919\n",
      "Accuracy: 0.7229437229437229\n",
      "MCC: 0.6473523864033626\n",
      "Macro F1: 0.5383846617313075\n",
      "Macro Precision: 0.5707447108758501\n",
      "Macro Recall: 0.5576276143514488\n",
      "Micro F1: 0.7229437229437228\n",
      "Micro Precision: 0.7229437229437229\n",
      "Micro Recall: 0.7229437229437229\n",
      "--------------------------------------------------\n",
      "EPOCH N. 6\n"
     ]
    },
    {
     "name": "stderr",
     "output_type": "stream",
     "text": [
      "221it [01:31,  2.43it/s]\n"
     ]
    },
    {
     "name": "stdout",
     "output_type": "stream",
     "text": [
      "\n",
      "TRAIN RESULTS\n",
      "Loss: 0.5353975127455336\n",
      "Accuracy: 0.8047918608263436\n",
      "MCC: 0.7506302519135667\n",
      "Macro F1: 0.6595024420884472\n",
      "Macro Precision: 0.7042725707501677\n",
      "Macro Recall: 0.634404100917039\n",
      "Micro F1: 0.8047918608263436\n",
      "Micro Precision: 0.8047918608263436\n",
      "Micro Recall: 0.8047918608263436\n",
      "\n",
      "VALIDATION RESULTS\n",
      "Loss: 0.8794521689414978\n",
      "Accuracy: 0.7476808905380334\n",
      "MCC: 0.6750831739502576\n",
      "Macro F1: 0.5756939590522202\n",
      "Macro Precision: 0.5938800276858499\n",
      "Macro Recall: 0.5774693252454117\n",
      "Micro F1: 0.7476808905380334\n",
      "Micro Precision: 0.7476808905380334\n",
      "Micro Recall: 0.7476808905380334\n",
      "Early stopped training\n",
      "--------------------------------------------------\n"
     ]
    },
    {
     "data": {
      "text/html": [
       "Waiting for W&B process to finish... <strong style=\"color:green\">(success).</strong>"
      ],
      "text/plain": [
       "<IPython.core.display.HTML object>"
      ]
     },
     "metadata": {},
     "output_type": "display_data"
    },
    {
     "data": {
      "text/html": [
       "<style>\n",
       "    table.wandb td:nth-child(1) { padding: 0 10px; text-align: left ; width: auto;} td:nth-child(2) {text-align: left ; width: 100%}\n",
       "    .wandb-row { display: flex; flex-direction: row; flex-wrap: wrap; justify-content: flex-start; width: 100% }\n",
       "    .wandb-col { display: flex; flex-direction: column; flex-basis: 100%; flex: 1; padding: 10px; }\n",
       "    </style>\n",
       "<div class=\"wandb-row\"><div class=\"wandb-col\"><h3>Run history:</h3><br/><table class=\"wandb\"><tr><td>Epoch</td><td>▁▂▄▅▇█</td></tr><tr><td>Train Loss</td><td>█▄▃▂▂▁</td></tr><tr><td>Validation Loss</td><td>█▃▁▁▂▁</td></tr></table><br/></div><div class=\"wandb-col\"><h3>Run summary:</h3><br/><table class=\"wandb\"><tr><td>Epoch</td><td>6</td></tr><tr><td>Train Loss</td><td>0.5354</td></tr><tr><td>Validation Loss</td><td>0.87945</td></tr></table><br/></div></div>"
      ],
      "text/plain": [
       "<IPython.core.display.HTML object>"
      ]
     },
     "metadata": {},
     "output_type": "display_data"
    },
    {
     "data": {
      "text/html": [
       " View run <strong style=\"color:#cdcd00\">ToBERT-Trial3</strong> at: <a href='https://wandb.ai/gmarinowandb-8601/RhetoricalRolesClassification-BUILD/runs/924cm39t' target=\"_blank\">https://wandb.ai/gmarinowandb-8601/RhetoricalRolesClassification-BUILD/runs/924cm39t</a><br/>Synced 5 W&B file(s), 0 media file(s), 0 artifact file(s) and 0 other file(s)"
      ],
      "text/plain": [
       "<IPython.core.display.HTML object>"
      ]
     },
     "metadata": {},
     "output_type": "display_data"
    },
    {
     "data": {
      "text/html": [
       "Find logs at: <code>./wandb/run-20230425_162940-924cm39t/logs</code>"
      ],
      "text/plain": [
       "<IPython.core.display.HTML object>"
      ]
     },
     "metadata": {},
     "output_type": "display_data"
    },
    {
     "name": "stderr",
     "output_type": "stream",
     "text": [
      "\u001b[32m[I 2023-04-25 16:39:51,642]\u001b[0m Trial 3 finished with value: 0.8791658282279968 and parameters: {'lr': 4.240553875731099e-05, 'weight_decay': 0.049256036038801125, 'embedding': 'rel', 'transformer_dropout': 0.4808109082908081, 'transformer_dim_feedforward': 164}. Best is trial 3 with value: 0.8791658282279968.\u001b[0m\n"
     ]
    },
    {
     "name": "stdout",
     "output_type": "stream",
     "text": [
      "\n",
      "************************ Starting New Optuna Trial ************************\n",
      "\n"
     ]
    },
    {
     "name": "stderr",
     "output_type": "stream",
     "text": [
      "Some weights of the model checkpoint at nlpaueb/legal-bert-base-uncased were not used when initializing BertForTokenClassification: ['cls.seq_relationship.weight', 'cls.predictions.bias', 'cls.predictions.transform.LayerNorm.bias', 'cls.predictions.decoder.bias', 'cls.predictions.decoder.weight', 'cls.seq_relationship.bias', 'cls.predictions.transform.dense.bias', 'cls.predictions.transform.LayerNorm.weight', 'cls.predictions.transform.dense.weight']\n",
      "- This IS expected if you are initializing BertForTokenClassification from the checkpoint of a model trained on another task or with another architecture (e.g. initializing a BertForSequenceClassification model from a BertForPreTraining model).\n",
      "- This IS NOT expected if you are initializing BertForTokenClassification from the checkpoint of a model that you expect to be exactly identical (initializing a BertForSequenceClassification model from a BertForSequenceClassification model).\n",
      "Some weights of BertForTokenClassification were not initialized from the model checkpoint at nlpaueb/legal-bert-base-uncased and are newly initialized: ['classifier.weight', 'classifier.bias']\n",
      "You should probably TRAIN this model on a down-stream task to be able to use it for predictions and inference.\n"
     ]
    },
    {
     "data": {
      "text/html": [
       "wandb version 0.15.0 is available!  To upgrade, please run:\n",
       " $ pip install wandb --upgrade"
      ],
      "text/plain": [
       "<IPython.core.display.HTML object>"
      ]
     },
     "metadata": {},
     "output_type": "display_data"
    },
    {
     "data": {
      "text/html": [
       "Tracking run with wandb version 0.13.10"
      ],
      "text/plain": [
       "<IPython.core.display.HTML object>"
      ]
     },
     "metadata": {},
     "output_type": "display_data"
    },
    {
     "data": {
      "text/html": [
       "Run data is saved locally in <code>/home/g.marino/Desktop/GA/RhetoricalRolesClassification/BUILD/wandb/run-20230425_163953-zbslc9ln</code>"
      ],
      "text/plain": [
       "<IPython.core.display.HTML object>"
      ]
     },
     "metadata": {},
     "output_type": "display_data"
    },
    {
     "data": {
      "text/html": [
       "Syncing run <strong><a href='https://wandb.ai/gmarinowandb-8601/RhetoricalRolesClassification-BUILD/runs/zbslc9ln' target=\"_blank\">ToBERT-Trial4</a></strong> to <a href='https://wandb.ai/gmarinowandb-8601/RhetoricalRolesClassification-BUILD' target=\"_blank\">Weights & Biases</a> (<a href='https://wandb.me/run' target=\"_blank\">docs</a>)<br/>"
      ],
      "text/plain": [
       "<IPython.core.display.HTML object>"
      ]
     },
     "metadata": {},
     "output_type": "display_data"
    },
    {
     "data": {
      "text/html": [
       " View project at <a href='https://wandb.ai/gmarinowandb-8601/RhetoricalRolesClassification-BUILD' target=\"_blank\">https://wandb.ai/gmarinowandb-8601/RhetoricalRolesClassification-BUILD</a>"
      ],
      "text/plain": [
       "<IPython.core.display.HTML object>"
      ]
     },
     "metadata": {},
     "output_type": "display_data"
    },
    {
     "data": {
      "text/html": [
       " View run at <a href='https://wandb.ai/gmarinowandb-8601/RhetoricalRolesClassification-BUILD/runs/zbslc9ln' target=\"_blank\">https://wandb.ai/gmarinowandb-8601/RhetoricalRolesClassification-BUILD/runs/zbslc9ln</a>"
      ],
      "text/plain": [
       "<IPython.core.display.HTML object>"
      ]
     },
     "metadata": {},
     "output_type": "display_data"
    },
    {
     "name": "stdout",
     "output_type": "stream",
     "text": [
      "\n",
      "************** Training Started **************\n",
      "\n",
      "EPOCH N. 1\n"
     ]
    },
    {
     "name": "stderr",
     "output_type": "stream",
     "text": [
      "221it [01:29,  2.47it/s]\n"
     ]
    },
    {
     "name": "stdout",
     "output_type": "stream",
     "text": [
      "\n",
      "TRAIN RESULTS\n",
      "Loss: 1.6965083830496843\n",
      "Accuracy: 0.4927772600186393\n",
      "MCC: 0.31657724550127914\n",
      "Macro F1: 0.1675463553520829\n",
      "Macro Precision: 0.19714069254203553\n",
      "Macro Recall: 0.17826735622281895\n",
      "Micro F1: 0.4927772600186393\n",
      "Micro Precision: 0.4927772600186393\n",
      "Micro Recall: 0.4927772600186393\n",
      "\n",
      "VALIDATION RESULTS\n",
      "Loss: 1.806053638458252\n",
      "Accuracy: 0.5451453308596166\n",
      "MCC: 0.39123295722218177\n",
      "Macro F1: 0.1587081294907415\n",
      "Macro Precision: 0.16630343938168907\n",
      "Macro Recall: 0.18352483938811734\n",
      "Micro F1: 0.5451453308596166\n",
      "Micro Precision: 0.5451453308596166\n",
      "Micro Recall: 0.5451453308596166\n",
      "--------------------------------------------------\n",
      "EPOCH N. 2\n"
     ]
    },
    {
     "name": "stderr",
     "output_type": "stream",
     "text": [
      "221it [01:27,  2.54it/s]\n"
     ]
    },
    {
     "name": "stdout",
     "output_type": "stream",
     "text": [
      "\n",
      "TRAIN RESULTS\n",
      "Loss: 1.564542718332817\n",
      "Accuracy: 0.5232991612301957\n",
      "MCC: 0.36097589766260835\n",
      "Macro F1: 0.1891018768047089\n",
      "Macro Precision: 0.21623540264940022\n",
      "Macro Recall: 0.2034048121888368\n",
      "Micro F1: 0.5232991612301957\n",
      "Micro Precision: 0.5232991612301957\n",
      "Micro Recall: 0.5232991612301957\n",
      "\n",
      "VALIDATION RESULTS\n",
      "Loss: 1.4522078037261963\n",
      "Accuracy: 0.5862708719851577\n",
      "MCC: 0.4465625496360466\n",
      "Macro F1: 0.18647846369821966\n",
      "Macro Precision: 0.1924859312412012\n",
      "Macro Recall: 0.20815626870553322\n",
      "Micro F1: 0.5862708719851577\n",
      "Micro Precision: 0.5862708719851577\n",
      "Micro Recall: 0.5862708719851577\n",
      "--------------------------------------------------\n",
      "EPOCH N. 3\n"
     ]
    },
    {
     "name": "stderr",
     "output_type": "stream",
     "text": [
      "221it [01:26,  2.54it/s]\n"
     ]
    },
    {
     "name": "stdout",
     "output_type": "stream",
     "text": [
      "\n",
      "TRAIN RESULTS\n",
      "Loss: 1.4571938660349781\n",
      "Accuracy: 0.5464818266542405\n",
      "MCC: 0.3919569249751579\n",
      "Macro F1: 0.19818981943370284\n",
      "Macro Precision: 0.22282177780657092\n",
      "Macro Recall: 0.2085765623977764\n",
      "Micro F1: 0.5464818266542405\n",
      "Micro Precision: 0.5464818266542405\n",
      "Micro Recall: 0.5464818266542405\n",
      "\n",
      "VALIDATION RESULTS\n",
      "Loss: 1.4033489227294922\n",
      "Accuracy: 0.6023500309214594\n",
      "MCC: 0.457594597023087\n",
      "Macro F1: 0.20509861450725853\n",
      "Macro Precision: 0.23790802482725062\n",
      "Macro Recall: 0.2120514825262065\n",
      "Micro F1: 0.6023500309214594\n",
      "Micro Precision: 0.6023500309214594\n",
      "Micro Recall: 0.6023500309214594\n",
      "--------------------------------------------------\n",
      "EPOCH N. 4\n"
     ]
    },
    {
     "name": "stderr",
     "output_type": "stream",
     "text": [
      "221it [01:31,  2.42it/s]\n"
     ]
    },
    {
     "name": "stdout",
     "output_type": "stream",
     "text": [
      "\n",
      "TRAIN RESULTS\n",
      "Loss: 1.4454035208775446\n",
      "Accuracy: 0.5487340789064927\n",
      "MCC: 0.3951018167719012\n",
      "Macro F1: 0.20035909553127015\n",
      "Macro Precision: 0.21891238655679815\n",
      "Macro Recall: 0.2117708585925556\n",
      "Micro F1: 0.5487340789064927\n",
      "Micro Precision: 0.5487340789064927\n",
      "Micro Recall: 0.5487340789064927\n",
      "\n",
      "VALIDATION RESULTS\n",
      "Loss: 1.4410789012908936\n",
      "Accuracy: 0.5723562152133581\n",
      "MCC: 0.41524060816636543\n",
      "Macro F1: 0.1961109844660999\n",
      "Macro Precision: 0.222956008912858\n",
      "Macro Recall: 0.20776227714434242\n",
      "Micro F1: 0.5723562152133581\n",
      "Micro Precision: 0.5723562152133581\n",
      "Micro Recall: 0.5723562152133581\n",
      "--------------------------------------------------\n",
      "EPOCH N. 5\n"
     ]
    },
    {
     "name": "stderr",
     "output_type": "stream",
     "text": [
      "221it [01:31,  2.41it/s]\n"
     ]
    },
    {
     "name": "stdout",
     "output_type": "stream",
     "text": [
      "\n",
      "TRAIN RESULTS\n",
      "Loss: 1.438383605415465\n",
      "Accuracy: 0.5560733146940043\n",
      "MCC: 0.40516264848425376\n",
      "Macro F1: 0.20671019158989126\n",
      "Macro Precision: 0.2402795592555916\n",
      "Macro Recall: 0.21852420145356624\n",
      "Micro F1: 0.5560733146940043\n",
      "Micro Precision: 0.5560733146940043\n",
      "Micro Recall: 0.5560733146940043\n",
      "\n",
      "VALIDATION RESULTS\n",
      "Loss: 1.4542864561080933\n",
      "Accuracy: 0.5581323438466296\n",
      "MCC: 0.42112924686692427\n",
      "Macro F1: 0.20505400264690807\n",
      "Macro Precision: 0.2788608406137402\n",
      "Macro Recall: 0.20755799257120341\n",
      "Micro F1: 0.5581323438466296\n",
      "Micro Precision: 0.5581323438466296\n",
      "Micro Recall: 0.5581323438466296\n",
      "Early stopped training\n",
      "--------------------------------------------------\n"
     ]
    },
    {
     "data": {
      "text/html": [
       "Waiting for W&B process to finish... <strong style=\"color:green\">(success).</strong>"
      ],
      "text/plain": [
       "<IPython.core.display.HTML object>"
      ]
     },
     "metadata": {},
     "output_type": "display_data"
    },
    {
     "data": {
      "text/html": [
       "<style>\n",
       "    table.wandb td:nth-child(1) { padding: 0 10px; text-align: left ; width: auto;} td:nth-child(2) {text-align: left ; width: 100%}\n",
       "    .wandb-row { display: flex; flex-direction: row; flex-wrap: wrap; justify-content: flex-start; width: 100% }\n",
       "    .wandb-col { display: flex; flex-direction: column; flex-basis: 100%; flex: 1; padding: 10px; }\n",
       "    </style>\n",
       "<div class=\"wandb-row\"><div class=\"wandb-col\"><h3>Run history:</h3><br/><table class=\"wandb\"><tr><td>Epoch</td><td>▁▃▅▆█</td></tr><tr><td>Train Loss</td><td>█▄▂▁▁</td></tr><tr><td>Validation Loss</td><td>█▂▁▂▂</td></tr></table><br/></div><div class=\"wandb-col\"><h3>Run summary:</h3><br/><table class=\"wandb\"><tr><td>Epoch</td><td>5</td></tr><tr><td>Train Loss</td><td>1.43838</td></tr><tr><td>Validation Loss</td><td>1.45429</td></tr></table><br/></div></div>"
      ],
      "text/plain": [
       "<IPython.core.display.HTML object>"
      ]
     },
     "metadata": {},
     "output_type": "display_data"
    },
    {
     "data": {
      "text/html": [
       " View run <strong style=\"color:#cdcd00\">ToBERT-Trial4</strong> at: <a href='https://wandb.ai/gmarinowandb-8601/RhetoricalRolesClassification-BUILD/runs/zbslc9ln' target=\"_blank\">https://wandb.ai/gmarinowandb-8601/RhetoricalRolesClassification-BUILD/runs/zbslc9ln</a><br/>Synced 5 W&B file(s), 0 media file(s), 0 artifact file(s) and 0 other file(s)"
      ],
      "text/plain": [
       "<IPython.core.display.HTML object>"
      ]
     },
     "metadata": {},
     "output_type": "display_data"
    },
    {
     "data": {
      "text/html": [
       "Find logs at: <code>./wandb/run-20230425_163953-zbslc9ln/logs</code>"
      ],
      "text/plain": [
       "<IPython.core.display.HTML object>"
      ]
     },
     "metadata": {},
     "output_type": "display_data"
    },
    {
     "name": "stderr",
     "output_type": "stream",
     "text": [
      "\u001b[32m[I 2023-04-25 16:48:30,907]\u001b[0m Trial 4 finished with value: 1.4033489227294922 and parameters: {'lr': 0.0002467952307568719, 'weight_decay': 0.06537609314188138, 'embedding': 'rel', 'transformer_dropout': 0.17569380494104037, 'transformer_dim_feedforward': 165}. Best is trial 3 with value: 0.8791658282279968.\u001b[0m\n"
     ]
    },
    {
     "name": "stdout",
     "output_type": "stream",
     "text": [
      "\n",
      "************************ Starting New Optuna Trial ************************\n",
      "\n"
     ]
    },
    {
     "name": "stderr",
     "output_type": "stream",
     "text": [
      "Some weights of the model checkpoint at nlpaueb/legal-bert-base-uncased were not used when initializing BertForTokenClassification: ['cls.seq_relationship.weight', 'cls.predictions.bias', 'cls.predictions.transform.LayerNorm.bias', 'cls.predictions.decoder.bias', 'cls.predictions.decoder.weight', 'cls.seq_relationship.bias', 'cls.predictions.transform.dense.bias', 'cls.predictions.transform.LayerNorm.weight', 'cls.predictions.transform.dense.weight']\n",
      "- This IS expected if you are initializing BertForTokenClassification from the checkpoint of a model trained on another task or with another architecture (e.g. initializing a BertForSequenceClassification model from a BertForPreTraining model).\n",
      "- This IS NOT expected if you are initializing BertForTokenClassification from the checkpoint of a model that you expect to be exactly identical (initializing a BertForSequenceClassification model from a BertForSequenceClassification model).\n",
      "Some weights of BertForTokenClassification were not initialized from the model checkpoint at nlpaueb/legal-bert-base-uncased and are newly initialized: ['classifier.weight', 'classifier.bias']\n",
      "You should probably TRAIN this model on a down-stream task to be able to use it for predictions and inference.\n"
     ]
    },
    {
     "data": {
      "text/html": [
       "wandb version 0.15.0 is available!  To upgrade, please run:\n",
       " $ pip install wandb --upgrade"
      ],
      "text/plain": [
       "<IPython.core.display.HTML object>"
      ]
     },
     "metadata": {},
     "output_type": "display_data"
    },
    {
     "data": {
      "text/html": [
       "Tracking run with wandb version 0.13.10"
      ],
      "text/plain": [
       "<IPython.core.display.HTML object>"
      ]
     },
     "metadata": {},
     "output_type": "display_data"
    },
    {
     "data": {
      "text/html": [
       "Run data is saved locally in <code>/home/g.marino/Desktop/GA/RhetoricalRolesClassification/BUILD/wandb/run-20230425_164832-vosg9yrf</code>"
      ],
      "text/plain": [
       "<IPython.core.display.HTML object>"
      ]
     },
     "metadata": {},
     "output_type": "display_data"
    },
    {
     "data": {
      "text/html": [
       "Syncing run <strong><a href='https://wandb.ai/gmarinowandb-8601/RhetoricalRolesClassification-BUILD/runs/vosg9yrf' target=\"_blank\">ToBERT-Trial5</a></strong> to <a href='https://wandb.ai/gmarinowandb-8601/RhetoricalRolesClassification-BUILD' target=\"_blank\">Weights & Biases</a> (<a href='https://wandb.me/run' target=\"_blank\">docs</a>)<br/>"
      ],
      "text/plain": [
       "<IPython.core.display.HTML object>"
      ]
     },
     "metadata": {},
     "output_type": "display_data"
    },
    {
     "data": {
      "text/html": [
       " View project at <a href='https://wandb.ai/gmarinowandb-8601/RhetoricalRolesClassification-BUILD' target=\"_blank\">https://wandb.ai/gmarinowandb-8601/RhetoricalRolesClassification-BUILD</a>"
      ],
      "text/plain": [
       "<IPython.core.display.HTML object>"
      ]
     },
     "metadata": {},
     "output_type": "display_data"
    },
    {
     "data": {
      "text/html": [
       " View run at <a href='https://wandb.ai/gmarinowandb-8601/RhetoricalRolesClassification-BUILD/runs/vosg9yrf' target=\"_blank\">https://wandb.ai/gmarinowandb-8601/RhetoricalRolesClassification-BUILD/runs/vosg9yrf</a>"
      ],
      "text/plain": [
       "<IPython.core.display.HTML object>"
      ]
     },
     "metadata": {},
     "output_type": "display_data"
    },
    {
     "name": "stdout",
     "output_type": "stream",
     "text": [
      "\n",
      "************** Training Started **************\n",
      "\n",
      "EPOCH N. 1\n"
     ]
    },
    {
     "name": "stderr",
     "output_type": "stream",
     "text": [
      "221it [01:32,  2.38it/s]\n"
     ]
    },
    {
     "name": "stdout",
     "output_type": "stream",
     "text": [
      "\n",
      "TRAIN RESULTS\n",
      "Loss: 1.9515815161471992\n",
      "Accuracy: 0.4544501397949674\n",
      "MCC: 0.24167902503890515\n",
      "Macro F1: 0.11659283038252208\n",
      "Macro Precision: 0.12880659615025336\n",
      "Macro Recall: 0.13226364555934292\n",
      "Micro F1: 0.4544501397949674\n",
      "Micro Precision: 0.4544501397949674\n",
      "Micro Recall: 0.4544501397949674\n",
      "\n",
      "VALIDATION RESULTS\n",
      "Loss: 1.7262320518493652\n",
      "Accuracy: 0.5071119356833642\n",
      "MCC: 0.3141785458182841\n",
      "Macro F1: 0.12175954912270531\n",
      "Macro Precision: 0.12567168137658463\n",
      "Macro Recall: 0.13601451688361904\n",
      "Micro F1: 0.5071119356833642\n",
      "Micro Precision: 0.5071119356833642\n",
      "Micro Recall: 0.5071119356833642\n",
      "--------------------------------------------------\n",
      "EPOCH N. 2\n"
     ]
    },
    {
     "name": "stderr",
     "output_type": "stream",
     "text": [
      "221it [01:33,  2.36it/s]\n"
     ]
    },
    {
     "name": "stdout",
     "output_type": "stream",
     "text": [
      "\n",
      "TRAIN RESULTS\n",
      "Loss: 1.6744959705016191\n",
      "Accuracy: 0.5089701770736254\n",
      "MCC: 0.3290589265478047\n",
      "Macro F1: 0.14274832395197293\n",
      "Macro Precision: 0.17351061479229615\n",
      "Macro Recall: 0.15967402286031424\n",
      "Micro F1: 0.5089701770736254\n",
      "Micro Precision: 0.5089701770736254\n",
      "Micro Recall: 0.5089701770736254\n",
      "\n",
      "VALIDATION RESULTS\n",
      "Loss: 1.9162790775299072\n",
      "Accuracy: 0.4897959183673469\n",
      "MCC: 0.3003784125397696\n",
      "Macro F1: 0.1113377307688317\n",
      "Macro Precision: 0.12378958100111945\n",
      "Macro Recall: 0.12903918996147162\n",
      "Micro F1: 0.4897959183673469\n",
      "Micro Precision: 0.4897959183673469\n",
      "Micro Recall: 0.4897959183673469\n",
      "--------------------------------------------------\n",
      "EPOCH N. 3\n"
     ]
    },
    {
     "name": "stderr",
     "output_type": "stream",
     "text": [
      "221it [01:30,  2.44it/s]\n"
     ]
    },
    {
     "name": "stdout",
     "output_type": "stream",
     "text": [
      "\n",
      "TRAIN RESULTS\n",
      "Loss: 1.6273687538518087\n",
      "Accuracy: 0.518484001242622\n",
      "MCC: 0.3437020158038697\n",
      "Macro F1: 0.148843142520082\n",
      "Macro Precision: 0.17861170952299862\n",
      "Macro Recall: 0.16518454072872307\n",
      "Micro F1: 0.518484001242622\n",
      "Micro Precision: 0.518484001242622\n",
      "Micro Recall: 0.518484001242622\n",
      "\n",
      "VALIDATION RESULTS\n",
      "Loss: 1.5347325801849365\n",
      "Accuracy: 0.5602968460111317\n",
      "MCC: 0.39244241465103474\n",
      "Macro F1: 0.14289149865740922\n",
      "Macro Precision: 0.13988851215840595\n",
      "Macro Recall: 0.1588658586761231\n",
      "Micro F1: 0.5602968460111317\n",
      "Micro Precision: 0.5602968460111317\n",
      "Micro Recall: 0.5602968460111317\n",
      "--------------------------------------------------\n",
      "EPOCH N. 4\n"
     ]
    },
    {
     "name": "stderr",
     "output_type": "stream",
     "text": [
      "221it [01:27,  2.52it/s]\n"
     ]
    },
    {
     "name": "stdout",
     "output_type": "stream",
     "text": [
      "\n",
      "TRAIN RESULTS\n",
      "Loss: 1.5841553898958058\n",
      "Accuracy: 0.516309412861137\n",
      "MCC: 0.342190909861928\n",
      "Macro F1: 0.15571810088560792\n",
      "Macro Precision: 0.18841812196820043\n",
      "Macro Recall: 0.1694691091752387\n",
      "Micro F1: 0.516309412861137\n",
      "Micro Precision: 0.516309412861137\n",
      "Micro Recall: 0.516309412861137\n",
      "\n",
      "VALIDATION RESULTS\n",
      "Loss: 1.5864251852035522\n",
      "Accuracy: 0.5918367346938775\n",
      "MCC: 0.44262609740059833\n",
      "Macro F1: 0.15542022960507568\n",
      "Macro Precision: 0.13645169717623304\n",
      "Macro Recall: 0.181252605886223\n",
      "Micro F1: 0.5918367346938775\n",
      "Micro Precision: 0.5918367346938775\n",
      "Micro Recall: 0.5918367346938775\n",
      "--------------------------------------------------\n",
      "EPOCH N. 5\n"
     ]
    },
    {
     "name": "stderr",
     "output_type": "stream",
     "text": [
      "221it [01:27,  2.52it/s]\n"
     ]
    },
    {
     "name": "stdout",
     "output_type": "stream",
     "text": [
      "\n",
      "TRAIN RESULTS\n",
      "Loss: 1.5589905243653517\n",
      "Accuracy: 0.5191829760795278\n",
      "MCC: 0.34661585166182557\n",
      "Macro F1: 0.15722638225254543\n",
      "Macro Precision: 0.17450622338330143\n",
      "Macro Recall: 0.17071832561255504\n",
      "Micro F1: 0.5191829760795278\n",
      "Micro Precision: 0.5191829760795278\n",
      "Micro Recall: 0.5191829760795278\n",
      "\n",
      "VALIDATION RESULTS\n",
      "Loss: 1.6257879734039307\n",
      "Accuracy: 0.5850340136054422\n",
      "MCC: 0.43428420095733\n",
      "Macro F1: 0.15377711960797383\n",
      "Macro Precision: 0.14208023042125634\n",
      "Macro Recall: 0.1755454815883681\n",
      "Micro F1: 0.5850340136054422\n",
      "Micro Precision: 0.5850340136054422\n",
      "Micro Recall: 0.5850340136054422\n",
      "Early stopped training\n",
      "--------------------------------------------------\n"
     ]
    },
    {
     "data": {
      "text/html": [
       "Waiting for W&B process to finish... <strong style=\"color:green\">(success).</strong>"
      ],
      "text/plain": [
       "<IPython.core.display.HTML object>"
      ]
     },
     "metadata": {},
     "output_type": "display_data"
    },
    {
     "data": {
      "text/html": [
       "<style>\n",
       "    table.wandb td:nth-child(1) { padding: 0 10px; text-align: left ; width: auto;} td:nth-child(2) {text-align: left ; width: 100%}\n",
       "    .wandb-row { display: flex; flex-direction: row; flex-wrap: wrap; justify-content: flex-start; width: 100% }\n",
       "    .wandb-col { display: flex; flex-direction: column; flex-basis: 100%; flex: 1; padding: 10px; }\n",
       "    </style>\n",
       "<div class=\"wandb-row\"><div class=\"wandb-col\"><h3>Run history:</h3><br/><table class=\"wandb\"><tr><td>Epoch</td><td>▁▃▅▆█</td></tr><tr><td>Train Loss</td><td>█▃▂▁▁</td></tr><tr><td>Validation Loss</td><td>▅█▁▂▃</td></tr></table><br/></div><div class=\"wandb-col\"><h3>Run summary:</h3><br/><table class=\"wandb\"><tr><td>Epoch</td><td>5</td></tr><tr><td>Train Loss</td><td>1.55899</td></tr><tr><td>Validation Loss</td><td>1.62579</td></tr></table><br/></div></div>"
      ],
      "text/plain": [
       "<IPython.core.display.HTML object>"
      ]
     },
     "metadata": {},
     "output_type": "display_data"
    },
    {
     "data": {
      "text/html": [
       " View run <strong style=\"color:#cdcd00\">ToBERT-Trial5</strong> at: <a href='https://wandb.ai/gmarinowandb-8601/RhetoricalRolesClassification-BUILD/runs/vosg9yrf' target=\"_blank\">https://wandb.ai/gmarinowandb-8601/RhetoricalRolesClassification-BUILD/runs/vosg9yrf</a><br/>Synced 5 W&B file(s), 0 media file(s), 0 artifact file(s) and 0 other file(s)"
      ],
      "text/plain": [
       "<IPython.core.display.HTML object>"
      ]
     },
     "metadata": {},
     "output_type": "display_data"
    },
    {
     "data": {
      "text/html": [
       "Find logs at: <code>./wandb/run-20230425_164832-vosg9yrf/logs</code>"
      ],
      "text/plain": [
       "<IPython.core.display.HTML object>"
      ]
     },
     "metadata": {},
     "output_type": "display_data"
    },
    {
     "name": "stderr",
     "output_type": "stream",
     "text": [
      "\u001b[32m[I 2023-04-25 16:57:14,113]\u001b[0m Trial 5 finished with value: 1.5347325801849365 and parameters: {'lr': 0.0004218389107987745, 'weight_decay': 0.06343268508843662, 'embedding': 'abs', 'transformer_dropout': 0.3195099821209444, 'transformer_dim_feedforward': 164}. Best is trial 3 with value: 0.8791658282279968.\u001b[0m\n"
     ]
    },
    {
     "name": "stdout",
     "output_type": "stream",
     "text": [
      "\n",
      "************************ Starting New Optuna Trial ************************\n",
      "\n"
     ]
    },
    {
     "name": "stderr",
     "output_type": "stream",
     "text": [
      "Some weights of the model checkpoint at nlpaueb/legal-bert-base-uncased were not used when initializing BertForTokenClassification: ['cls.seq_relationship.weight', 'cls.predictions.bias', 'cls.predictions.transform.LayerNorm.bias', 'cls.predictions.decoder.bias', 'cls.predictions.decoder.weight', 'cls.seq_relationship.bias', 'cls.predictions.transform.dense.bias', 'cls.predictions.transform.LayerNorm.weight', 'cls.predictions.transform.dense.weight']\n",
      "- This IS expected if you are initializing BertForTokenClassification from the checkpoint of a model trained on another task or with another architecture (e.g. initializing a BertForSequenceClassification model from a BertForPreTraining model).\n",
      "- This IS NOT expected if you are initializing BertForTokenClassification from the checkpoint of a model that you expect to be exactly identical (initializing a BertForSequenceClassification model from a BertForSequenceClassification model).\n",
      "Some weights of BertForTokenClassification were not initialized from the model checkpoint at nlpaueb/legal-bert-base-uncased and are newly initialized: ['classifier.weight', 'classifier.bias']\n",
      "You should probably TRAIN this model on a down-stream task to be able to use it for predictions and inference.\n"
     ]
    },
    {
     "data": {
      "text/html": [
       "wandb version 0.15.0 is available!  To upgrade, please run:\n",
       " $ pip install wandb --upgrade"
      ],
      "text/plain": [
       "<IPython.core.display.HTML object>"
      ]
     },
     "metadata": {},
     "output_type": "display_data"
    },
    {
     "data": {
      "text/html": [
       "Tracking run with wandb version 0.13.10"
      ],
      "text/plain": [
       "<IPython.core.display.HTML object>"
      ]
     },
     "metadata": {},
     "output_type": "display_data"
    },
    {
     "data": {
      "text/html": [
       "Run data is saved locally in <code>/home/g.marino/Desktop/GA/RhetoricalRolesClassification/BUILD/wandb/run-20230425_165715-baec9bre</code>"
      ],
      "text/plain": [
       "<IPython.core.display.HTML object>"
      ]
     },
     "metadata": {},
     "output_type": "display_data"
    },
    {
     "data": {
      "text/html": [
       "Syncing run <strong><a href='https://wandb.ai/gmarinowandb-8601/RhetoricalRolesClassification-BUILD/runs/baec9bre' target=\"_blank\">ToBERT-Trial6</a></strong> to <a href='https://wandb.ai/gmarinowandb-8601/RhetoricalRolesClassification-BUILD' target=\"_blank\">Weights & Biases</a> (<a href='https://wandb.me/run' target=\"_blank\">docs</a>)<br/>"
      ],
      "text/plain": [
       "<IPython.core.display.HTML object>"
      ]
     },
     "metadata": {},
     "output_type": "display_data"
    },
    {
     "data": {
      "text/html": [
       " View project at <a href='https://wandb.ai/gmarinowandb-8601/RhetoricalRolesClassification-BUILD' target=\"_blank\">https://wandb.ai/gmarinowandb-8601/RhetoricalRolesClassification-BUILD</a>"
      ],
      "text/plain": [
       "<IPython.core.display.HTML object>"
      ]
     },
     "metadata": {},
     "output_type": "display_data"
    },
    {
     "data": {
      "text/html": [
       " View run at <a href='https://wandb.ai/gmarinowandb-8601/RhetoricalRolesClassification-BUILD/runs/baec9bre' target=\"_blank\">https://wandb.ai/gmarinowandb-8601/RhetoricalRolesClassification-BUILD/runs/baec9bre</a>"
      ],
      "text/plain": [
       "<IPython.core.display.HTML object>"
      ]
     },
     "metadata": {},
     "output_type": "display_data"
    },
    {
     "name": "stdout",
     "output_type": "stream",
     "text": [
      "\n",
      "************** Training Started **************\n",
      "\n",
      "EPOCH N. 1\n"
     ]
    },
    {
     "name": "stderr",
     "output_type": "stream",
     "text": [
      "221it [01:28,  2.49it/s]\n"
     ]
    },
    {
     "name": "stdout",
     "output_type": "stream",
     "text": [
      "\n",
      "TRAIN RESULTS\n",
      "Loss: 1.5126190664271963\n",
      "Accuracy: 0.5422879776328052\n",
      "MCC: 0.3858443782878034\n",
      "Macro F1: 0.2606669633702286\n",
      "Macro Precision: 0.4290663197667221\n",
      "Macro Recall: 0.2393908763206007\n",
      "Micro F1: 0.5422879776328052\n",
      "Micro Precision: 0.5422879776328052\n",
      "Micro Recall: 0.5422879776328052\n",
      "\n",
      "VALIDATION RESULTS\n",
      "Loss: 1.1623517274856567\n",
      "Accuracy: 0.6651205936920223\n",
      "MCC: 0.5581624499360791\n",
      "Macro F1: 0.38868607795866733\n",
      "Macro Precision: 0.5161622661497036\n",
      "Macro Recall: 0.3777742717750501\n",
      "Micro F1: 0.6651205936920223\n",
      "Micro Precision: 0.6651205936920223\n",
      "Micro Recall: 0.6651205936920223\n",
      "--------------------------------------------------\n",
      "EPOCH N. 2\n"
     ]
    },
    {
     "name": "stderr",
     "output_type": "stream",
     "text": [
      "221it [01:27,  2.51it/s]\n"
     ]
    },
    {
     "name": "stdout",
     "output_type": "stream",
     "text": [
      "\n",
      "TRAIN RESULTS\n",
      "Loss: 0.9397156697727437\n",
      "Accuracy: 0.6889950295122709\n",
      "MCC: 0.5979585144126005\n",
      "Macro F1: 0.4987762743914612\n",
      "Macro Precision: 0.5562201452695483\n",
      "Macro Recall: 0.4728748630429316\n",
      "Micro F1: 0.6889950295122709\n",
      "Micro Precision: 0.6889950295122709\n",
      "Micro Recall: 0.6889950295122709\n",
      "\n",
      "VALIDATION RESULTS\n",
      "Loss: 0.871252715587616\n",
      "Accuracy: 0.7257266542980829\n",
      "MCC: 0.6410511624855209\n",
      "Macro F1: 0.5237956644452496\n",
      "Macro Precision: 0.6047367989038012\n",
      "Macro Recall: 0.505437503345083\n",
      "Micro F1: 0.7257266542980829\n",
      "Micro Precision: 0.7257266542980829\n",
      "Micro Recall: 0.7257266542980829\n",
      "--------------------------------------------------\n",
      "EPOCH N. 3\n"
     ]
    },
    {
     "name": "stderr",
     "output_type": "stream",
     "text": [
      "221it [01:27,  2.54it/s]\n"
     ]
    },
    {
     "name": "stdout",
     "output_type": "stream",
     "text": [
      "\n",
      "TRAIN RESULTS\n",
      "Loss: 0.7800777117591099\n",
      "Accuracy: 0.7315548306927617\n",
      "MCC: 0.6549581937291367\n",
      "Macro F1: 0.5637038792867585\n",
      "Macro Precision: 0.6064842961762719\n",
      "Macro Recall: 0.5429709249690365\n",
      "Micro F1: 0.7315548306927618\n",
      "Micro Precision: 0.7315548306927617\n",
      "Micro Recall: 0.7315548306927617\n",
      "\n",
      "VALIDATION RESULTS\n",
      "Loss: 0.9937920570373535\n",
      "Accuracy: 0.7217068645640075\n",
      "MCC: 0.6381314325292305\n",
      "Macro F1: 0.5122933311721671\n",
      "Macro Precision: 0.600450938302691\n",
      "Macro Recall: 0.4917971862165337\n",
      "Micro F1: 0.7217068645640075\n",
      "Micro Precision: 0.7217068645640075\n",
      "Micro Recall: 0.7217068645640075\n",
      "--------------------------------------------------\n",
      "EPOCH N. 4\n"
     ]
    },
    {
     "name": "stderr",
     "output_type": "stream",
     "text": [
      "221it [01:29,  2.48it/s]\n"
     ]
    },
    {
     "name": "stdout",
     "output_type": "stream",
     "text": [
      "\n",
      "TRAIN RESULTS\n",
      "Loss: 0.6518127736193022\n",
      "Accuracy: 0.7602516309412861\n",
      "MCC: 0.6925715886167968\n",
      "Macro F1: 0.6131190739130447\n",
      "Macro Precision: 0.6632557599178173\n",
      "Macro Recall: 0.5843593057244512\n",
      "Micro F1: 0.760251630941286\n",
      "Micro Precision: 0.7602516309412861\n",
      "Micro Recall: 0.7602516309412861\n",
      "\n",
      "VALIDATION RESULTS\n",
      "Loss: 0.9708415865898132\n",
      "Accuracy: 0.7186147186147186\n",
      "MCC: 0.6412926304512538\n",
      "Macro F1: 0.5423119590463688\n",
      "Macro Precision: 0.5679723417390263\n",
      "Macro Recall: 0.5683581014993829\n",
      "Micro F1: 0.7186147186147186\n",
      "Micro Precision: 0.7186147186147186\n",
      "Micro Recall: 0.7186147186147186\n",
      "Early stopped training\n",
      "--------------------------------------------------\n"
     ]
    },
    {
     "data": {
      "text/html": [
       "Waiting for W&B process to finish... <strong style=\"color:green\">(success).</strong>"
      ],
      "text/plain": [
       "<IPython.core.display.HTML object>"
      ]
     },
     "metadata": {},
     "output_type": "display_data"
    },
    {
     "data": {
      "application/vnd.jupyter.widget-view+json": {
       "model_id": "6281d451dd4d419697f49164a2cf687c",
       "version_major": 2,
       "version_minor": 0
      },
      "text/plain": [
       "VBox(children=(Label(value='0.005 MB of 0.005 MB uploaded (0.000 MB deduped)\\r'), FloatProgress(value=1.0, max…"
      ]
     },
     "metadata": {},
     "output_type": "display_data"
    },
    {
     "data": {
      "text/html": [
       "<style>\n",
       "    table.wandb td:nth-child(1) { padding: 0 10px; text-align: left ; width: auto;} td:nth-child(2) {text-align: left ; width: 100%}\n",
       "    .wandb-row { display: flex; flex-direction: row; flex-wrap: wrap; justify-content: flex-start; width: 100% }\n",
       "    .wandb-col { display: flex; flex-direction: column; flex-basis: 100%; flex: 1; padding: 10px; }\n",
       "    </style>\n",
       "<div class=\"wandb-row\"><div class=\"wandb-col\"><h3>Run history:</h3><br/><table class=\"wandb\"><tr><td>Epoch</td><td>▁▃▆█</td></tr><tr><td>Train Loss</td><td>█▃▂▁</td></tr><tr><td>Validation Loss</td><td>█▁▄▃</td></tr></table><br/></div><div class=\"wandb-col\"><h3>Run summary:</h3><br/><table class=\"wandb\"><tr><td>Epoch</td><td>4</td></tr><tr><td>Train Loss</td><td>0.65181</td></tr><tr><td>Validation Loss</td><td>0.97084</td></tr></table><br/></div></div>"
      ],
      "text/plain": [
       "<IPython.core.display.HTML object>"
      ]
     },
     "metadata": {},
     "output_type": "display_data"
    },
    {
     "data": {
      "text/html": [
       " View run <strong style=\"color:#cdcd00\">ToBERT-Trial6</strong> at: <a href='https://wandb.ai/gmarinowandb-8601/RhetoricalRolesClassification-BUILD/runs/baec9bre' target=\"_blank\">https://wandb.ai/gmarinowandb-8601/RhetoricalRolesClassification-BUILD/runs/baec9bre</a><br/>Synced 5 W&B file(s), 0 media file(s), 0 artifact file(s) and 0 other file(s)"
      ],
      "text/plain": [
       "<IPython.core.display.HTML object>"
      ]
     },
     "metadata": {},
     "output_type": "display_data"
    },
    {
     "data": {
      "text/html": [
       "Find logs at: <code>./wandb/run-20230425_165715-baec9bre/logs</code>"
      ],
      "text/plain": [
       "<IPython.core.display.HTML object>"
      ]
     },
     "metadata": {},
     "output_type": "display_data"
    },
    {
     "name": "stderr",
     "output_type": "stream",
     "text": [
      "\u001b[32m[I 2023-04-25 17:04:10,161]\u001b[0m Trial 6 finished with value: 0.871252715587616 and parameters: {'lr': 9.750607249345427e-05, 'weight_decay': 0.0961916267871805, 'embedding': 'rel', 'transformer_dropout': 0.3156110111431899, 'transformer_dim_feedforward': 65}. Best is trial 6 with value: 0.871252715587616.\u001b[0m\n"
     ]
    },
    {
     "name": "stdout",
     "output_type": "stream",
     "text": [
      "\n",
      "************************ Starting New Optuna Trial ************************\n",
      "\n"
     ]
    },
    {
     "name": "stderr",
     "output_type": "stream",
     "text": [
      "Some weights of the model checkpoint at nlpaueb/legal-bert-base-uncased were not used when initializing BertForTokenClassification: ['cls.seq_relationship.weight', 'cls.predictions.bias', 'cls.predictions.transform.LayerNorm.bias', 'cls.predictions.decoder.bias', 'cls.predictions.decoder.weight', 'cls.seq_relationship.bias', 'cls.predictions.transform.dense.bias', 'cls.predictions.transform.LayerNorm.weight', 'cls.predictions.transform.dense.weight']\n",
      "- This IS expected if you are initializing BertForTokenClassification from the checkpoint of a model trained on another task or with another architecture (e.g. initializing a BertForSequenceClassification model from a BertForPreTraining model).\n",
      "- This IS NOT expected if you are initializing BertForTokenClassification from the checkpoint of a model that you expect to be exactly identical (initializing a BertForSequenceClassification model from a BertForSequenceClassification model).\n",
      "Some weights of BertForTokenClassification were not initialized from the model checkpoint at nlpaueb/legal-bert-base-uncased and are newly initialized: ['classifier.weight', 'classifier.bias']\n",
      "You should probably TRAIN this model on a down-stream task to be able to use it for predictions and inference.\n"
     ]
    },
    {
     "data": {
      "text/html": [
       "wandb version 0.15.0 is available!  To upgrade, please run:\n",
       " $ pip install wandb --upgrade"
      ],
      "text/plain": [
       "<IPython.core.display.HTML object>"
      ]
     },
     "metadata": {},
     "output_type": "display_data"
    },
    {
     "data": {
      "text/html": [
       "Tracking run with wandb version 0.13.10"
      ],
      "text/plain": [
       "<IPython.core.display.HTML object>"
      ]
     },
     "metadata": {},
     "output_type": "display_data"
    },
    {
     "data": {
      "text/html": [
       "Run data is saved locally in <code>/home/g.marino/Desktop/GA/RhetoricalRolesClassification/BUILD/wandb/run-20230425_170411-x67n9vwr</code>"
      ],
      "text/plain": [
       "<IPython.core.display.HTML object>"
      ]
     },
     "metadata": {},
     "output_type": "display_data"
    },
    {
     "data": {
      "text/html": [
       "Syncing run <strong><a href='https://wandb.ai/gmarinowandb-8601/RhetoricalRolesClassification-BUILD/runs/x67n9vwr' target=\"_blank\">ToBERT-Trial7</a></strong> to <a href='https://wandb.ai/gmarinowandb-8601/RhetoricalRolesClassification-BUILD' target=\"_blank\">Weights & Biases</a> (<a href='https://wandb.me/run' target=\"_blank\">docs</a>)<br/>"
      ],
      "text/plain": [
       "<IPython.core.display.HTML object>"
      ]
     },
     "metadata": {},
     "output_type": "display_data"
    },
    {
     "data": {
      "text/html": [
       " View project at <a href='https://wandb.ai/gmarinowandb-8601/RhetoricalRolesClassification-BUILD' target=\"_blank\">https://wandb.ai/gmarinowandb-8601/RhetoricalRolesClassification-BUILD</a>"
      ],
      "text/plain": [
       "<IPython.core.display.HTML object>"
      ]
     },
     "metadata": {},
     "output_type": "display_data"
    },
    {
     "data": {
      "text/html": [
       " View run at <a href='https://wandb.ai/gmarinowandb-8601/RhetoricalRolesClassification-BUILD/runs/x67n9vwr' target=\"_blank\">https://wandb.ai/gmarinowandb-8601/RhetoricalRolesClassification-BUILD/runs/x67n9vwr</a>"
      ],
      "text/plain": [
       "<IPython.core.display.HTML object>"
      ]
     },
     "metadata": {},
     "output_type": "display_data"
    },
    {
     "name": "stdout",
     "output_type": "stream",
     "text": [
      "\n",
      "************** Training Started **************\n",
      "\n",
      "EPOCH N. 1\n"
     ]
    },
    {
     "name": "stderr",
     "output_type": "stream",
     "text": [
      "221it [01:33,  2.37it/s]\n"
     ]
    },
    {
     "name": "stdout",
     "output_type": "stream",
     "text": [
      "\n",
      "TRAIN RESULTS\n",
      "Loss: 1.9441631309586953\n",
      "Accuracy: 0.4534016775396086\n",
      "MCC: 0.24233358165337174\n",
      "Macro F1: 0.1204280667554519\n",
      "Macro Precision: 0.1369142560771253\n",
      "Macro Recall: 0.13422627144190546\n",
      "Micro F1: 0.4534016775396086\n",
      "Micro Precision: 0.4534016775396086\n",
      "Micro Recall: 0.4534016775396086\n",
      "\n",
      "VALIDATION RESULTS\n",
      "Loss: 2.0347018241882324\n",
      "Accuracy: 0.5142238713667285\n",
      "MCC: 0.3233954130788689\n",
      "Macro F1: 0.12569509203429163\n",
      "Macro Precision: 0.12713226435117678\n",
      "Macro Recall: 0.13982743561772876\n",
      "Micro F1: 0.5142238713667285\n",
      "Micro Precision: 0.5142238713667285\n",
      "Micro Recall: 0.5142238713667285\n",
      "--------------------------------------------------\n"
     ]
    },
    {
     "data": {
      "text/html": [
       "Waiting for W&B process to finish... <strong style=\"color:red\">(failed 1).</strong> Press Control-C to abort syncing."
      ],
      "text/plain": [
       "<IPython.core.display.HTML object>"
      ]
     },
     "metadata": {},
     "output_type": "display_data"
    },
    {
     "data": {
      "application/vnd.jupyter.widget-view+json": {
       "model_id": "776dbe347c1a4074ae947f950c0bf01e",
       "version_major": 2,
       "version_minor": 0
      },
      "text/plain": [
       "VBox(children=(Label(value='0.005 MB of 0.005 MB uploaded (0.000 MB deduped)\\r'), FloatProgress(value=1.0, max…"
      ]
     },
     "metadata": {},
     "output_type": "display_data"
    },
    {
     "data": {
      "text/html": [
       "<style>\n",
       "    table.wandb td:nth-child(1) { padding: 0 10px; text-align: left ; width: auto;} td:nth-child(2) {text-align: left ; width: 100%}\n",
       "    .wandb-row { display: flex; flex-direction: row; flex-wrap: wrap; justify-content: flex-start; width: 100% }\n",
       "    .wandb-col { display: flex; flex-direction: column; flex-basis: 100%; flex: 1; padding: 10px; }\n",
       "    </style>\n",
       "<div class=\"wandb-row\"><div class=\"wandb-col\"><h3>Run history:</h3><br/><table class=\"wandb\"><tr><td>Epoch</td><td>▁</td></tr><tr><td>Train Loss</td><td>▁</td></tr><tr><td>Validation Loss</td><td>▁</td></tr></table><br/></div><div class=\"wandb-col\"><h3>Run summary:</h3><br/><table class=\"wandb\"><tr><td>Epoch</td><td>1</td></tr><tr><td>Train Loss</td><td>1.94416</td></tr><tr><td>Validation Loss</td><td>2.0347</td></tr></table><br/></div></div>"
      ],
      "text/plain": [
       "<IPython.core.display.HTML object>"
      ]
     },
     "metadata": {},
     "output_type": "display_data"
    },
    {
     "data": {
      "text/html": [
       " View run <strong style=\"color:#cdcd00\">ToBERT-Trial7</strong> at: <a href='https://wandb.ai/gmarinowandb-8601/RhetoricalRolesClassification-BUILD/runs/x67n9vwr' target=\"_blank\">https://wandb.ai/gmarinowandb-8601/RhetoricalRolesClassification-BUILD/runs/x67n9vwr</a><br/>Synced 5 W&B file(s), 0 media file(s), 0 artifact file(s) and 0 other file(s)"
      ],
      "text/plain": [
       "<IPython.core.display.HTML object>"
      ]
     },
     "metadata": {},
     "output_type": "display_data"
    },
    {
     "data": {
      "text/html": [
       "Find logs at: <code>./wandb/run-20230425_170411-x67n9vwr/logs</code>"
      ],
      "text/plain": [
       "<IPython.core.display.HTML object>"
      ]
     },
     "metadata": {},
     "output_type": "display_data"
    },
    {
     "name": "stderr",
     "output_type": "stream",
     "text": [
      "\u001b[32m[I 2023-04-25 17:06:18,816]\u001b[0m Trial 7 pruned. \u001b[0m\n"
     ]
    },
    {
     "name": "stdout",
     "output_type": "stream",
     "text": [
      "\n",
      "************************ Starting New Optuna Trial ************************\n",
      "\n"
     ]
    },
    {
     "name": "stderr",
     "output_type": "stream",
     "text": [
      "Some weights of the model checkpoint at nlpaueb/legal-bert-base-uncased were not used when initializing BertForTokenClassification: ['cls.seq_relationship.weight', 'cls.predictions.bias', 'cls.predictions.transform.LayerNorm.bias', 'cls.predictions.decoder.bias', 'cls.predictions.decoder.weight', 'cls.seq_relationship.bias', 'cls.predictions.transform.dense.bias', 'cls.predictions.transform.LayerNorm.weight', 'cls.predictions.transform.dense.weight']\n",
      "- This IS expected if you are initializing BertForTokenClassification from the checkpoint of a model trained on another task or with another architecture (e.g. initializing a BertForSequenceClassification model from a BertForPreTraining model).\n",
      "- This IS NOT expected if you are initializing BertForTokenClassification from the checkpoint of a model that you expect to be exactly identical (initializing a BertForSequenceClassification model from a BertForSequenceClassification model).\n",
      "Some weights of BertForTokenClassification were not initialized from the model checkpoint at nlpaueb/legal-bert-base-uncased and are newly initialized: ['classifier.weight', 'classifier.bias']\n",
      "You should probably TRAIN this model on a down-stream task to be able to use it for predictions and inference.\n"
     ]
    },
    {
     "data": {
      "text/html": [
       "wandb version 0.15.0 is available!  To upgrade, please run:\n",
       " $ pip install wandb --upgrade"
      ],
      "text/plain": [
       "<IPython.core.display.HTML object>"
      ]
     },
     "metadata": {},
     "output_type": "display_data"
    },
    {
     "data": {
      "text/html": [
       "Tracking run with wandb version 0.13.10"
      ],
      "text/plain": [
       "<IPython.core.display.HTML object>"
      ]
     },
     "metadata": {},
     "output_type": "display_data"
    },
    {
     "data": {
      "text/html": [
       "Run data is saved locally in <code>/home/g.marino/Desktop/GA/RhetoricalRolesClassification/BUILD/wandb/run-20230425_170620-35matcic</code>"
      ],
      "text/plain": [
       "<IPython.core.display.HTML object>"
      ]
     },
     "metadata": {},
     "output_type": "display_data"
    },
    {
     "data": {
      "text/html": [
       "Syncing run <strong><a href='https://wandb.ai/gmarinowandb-8601/RhetoricalRolesClassification-BUILD/runs/35matcic' target=\"_blank\">ToBERT-Trial8</a></strong> to <a href='https://wandb.ai/gmarinowandb-8601/RhetoricalRolesClassification-BUILD' target=\"_blank\">Weights & Biases</a> (<a href='https://wandb.me/run' target=\"_blank\">docs</a>)<br/>"
      ],
      "text/plain": [
       "<IPython.core.display.HTML object>"
      ]
     },
     "metadata": {},
     "output_type": "display_data"
    },
    {
     "data": {
      "text/html": [
       " View project at <a href='https://wandb.ai/gmarinowandb-8601/RhetoricalRolesClassification-BUILD' target=\"_blank\">https://wandb.ai/gmarinowandb-8601/RhetoricalRolesClassification-BUILD</a>"
      ],
      "text/plain": [
       "<IPython.core.display.HTML object>"
      ]
     },
     "metadata": {},
     "output_type": "display_data"
    },
    {
     "data": {
      "text/html": [
       " View run at <a href='https://wandb.ai/gmarinowandb-8601/RhetoricalRolesClassification-BUILD/runs/35matcic' target=\"_blank\">https://wandb.ai/gmarinowandb-8601/RhetoricalRolesClassification-BUILD/runs/35matcic</a>"
      ],
      "text/plain": [
       "<IPython.core.display.HTML object>"
      ]
     },
     "metadata": {},
     "output_type": "display_data"
    },
    {
     "name": "stdout",
     "output_type": "stream",
     "text": [
      "\n",
      "************** Training Started **************\n",
      "\n",
      "EPOCH N. 1\n"
     ]
    },
    {
     "name": "stderr",
     "output_type": "stream",
     "text": [
      "221it [01:33,  2.37it/s]\n"
     ]
    },
    {
     "name": "stdout",
     "output_type": "stream",
     "text": [
      "\n",
      "TRAIN RESULTS\n",
      "Loss: 1.976128999733817\n",
      "Accuracy: 0.42645231438334885\n",
      "MCC: 0.19839319536573383\n",
      "Macro F1: 0.10747227927995341\n",
      "Macro Precision: 0.1276673105977211\n",
      "Macro Recall: 0.12251139777091889\n",
      "Micro F1: 0.4264523143833489\n",
      "Micro Precision: 0.42645231438334885\n",
      "Micro Recall: 0.42645231438334885\n",
      "\n",
      "VALIDATION RESULTS\n",
      "Loss: 2.320535659790039\n",
      "Accuracy: 0.564935064935065\n",
      "MCC: 0.41363486365216634\n",
      "Macro F1: 0.1515860295689043\n",
      "Macro Precision: 0.13688387429012724\n",
      "Macro Recall: 0.17626139951903308\n",
      "Micro F1: 0.564935064935065\n",
      "Micro Precision: 0.564935064935065\n",
      "Micro Recall: 0.564935064935065\n",
      "--------------------------------------------------\n"
     ]
    },
    {
     "data": {
      "text/html": [
       "Waiting for W&B process to finish... <strong style=\"color:red\">(failed 1).</strong> Press Control-C to abort syncing."
      ],
      "text/plain": [
       "<IPython.core.display.HTML object>"
      ]
     },
     "metadata": {},
     "output_type": "display_data"
    },
    {
     "data": {
      "application/vnd.jupyter.widget-view+json": {
       "model_id": "d2aa136bcc3d42718174693c9a0ffb63",
       "version_major": 2,
       "version_minor": 0
      },
      "text/plain": [
       "VBox(children=(Label(value='0.005 MB of 0.005 MB uploaded (0.000 MB deduped)\\r'), FloatProgress(value=1.0, max…"
      ]
     },
     "metadata": {},
     "output_type": "display_data"
    },
    {
     "data": {
      "text/html": [
       "<style>\n",
       "    table.wandb td:nth-child(1) { padding: 0 10px; text-align: left ; width: auto;} td:nth-child(2) {text-align: left ; width: 100%}\n",
       "    .wandb-row { display: flex; flex-direction: row; flex-wrap: wrap; justify-content: flex-start; width: 100% }\n",
       "    .wandb-col { display: flex; flex-direction: column; flex-basis: 100%; flex: 1; padding: 10px; }\n",
       "    </style>\n",
       "<div class=\"wandb-row\"><div class=\"wandb-col\"><h3>Run history:</h3><br/><table class=\"wandb\"><tr><td>Epoch</td><td>▁</td></tr><tr><td>Train Loss</td><td>▁</td></tr><tr><td>Validation Loss</td><td>▁</td></tr></table><br/></div><div class=\"wandb-col\"><h3>Run summary:</h3><br/><table class=\"wandb\"><tr><td>Epoch</td><td>1</td></tr><tr><td>Train Loss</td><td>1.97613</td></tr><tr><td>Validation Loss</td><td>2.32054</td></tr></table><br/></div></div>"
      ],
      "text/plain": [
       "<IPython.core.display.HTML object>"
      ]
     },
     "metadata": {},
     "output_type": "display_data"
    },
    {
     "data": {
      "text/html": [
       " View run <strong style=\"color:#cdcd00\">ToBERT-Trial8</strong> at: <a href='https://wandb.ai/gmarinowandb-8601/RhetoricalRolesClassification-BUILD/runs/35matcic' target=\"_blank\">https://wandb.ai/gmarinowandb-8601/RhetoricalRolesClassification-BUILD/runs/35matcic</a><br/>Synced 5 W&B file(s), 0 media file(s), 0 artifact file(s) and 0 other file(s)"
      ],
      "text/plain": [
       "<IPython.core.display.HTML object>"
      ]
     },
     "metadata": {},
     "output_type": "display_data"
    },
    {
     "data": {
      "text/html": [
       "Find logs at: <code>./wandb/run-20230425_170620-35matcic/logs</code>"
      ],
      "text/plain": [
       "<IPython.core.display.HTML object>"
      ]
     },
     "metadata": {},
     "output_type": "display_data"
    },
    {
     "name": "stderr",
     "output_type": "stream",
     "text": [
      "\u001b[32m[I 2023-04-25 17:08:27,118]\u001b[0m Trial 8 pruned. \u001b[0m\n"
     ]
    },
    {
     "name": "stdout",
     "output_type": "stream",
     "text": [
      "\n",
      "************************ Starting New Optuna Trial ************************\n",
      "\n"
     ]
    },
    {
     "name": "stderr",
     "output_type": "stream",
     "text": [
      "Some weights of the model checkpoint at nlpaueb/legal-bert-base-uncased were not used when initializing BertForTokenClassification: ['cls.seq_relationship.weight', 'cls.predictions.bias', 'cls.predictions.transform.LayerNorm.bias', 'cls.predictions.decoder.bias', 'cls.predictions.decoder.weight', 'cls.seq_relationship.bias', 'cls.predictions.transform.dense.bias', 'cls.predictions.transform.LayerNorm.weight', 'cls.predictions.transform.dense.weight']\n",
      "- This IS expected if you are initializing BertForTokenClassification from the checkpoint of a model trained on another task or with another architecture (e.g. initializing a BertForSequenceClassification model from a BertForPreTraining model).\n",
      "- This IS NOT expected if you are initializing BertForTokenClassification from the checkpoint of a model that you expect to be exactly identical (initializing a BertForSequenceClassification model from a BertForSequenceClassification model).\n",
      "Some weights of BertForTokenClassification were not initialized from the model checkpoint at nlpaueb/legal-bert-base-uncased and are newly initialized: ['classifier.weight', 'classifier.bias']\n",
      "You should probably TRAIN this model on a down-stream task to be able to use it for predictions and inference.\n"
     ]
    },
    {
     "data": {
      "text/html": [
       "wandb version 0.15.0 is available!  To upgrade, please run:\n",
       " $ pip install wandb --upgrade"
      ],
      "text/plain": [
       "<IPython.core.display.HTML object>"
      ]
     },
     "metadata": {},
     "output_type": "display_data"
    },
    {
     "data": {
      "text/html": [
       "Tracking run with wandb version 0.13.10"
      ],
      "text/plain": [
       "<IPython.core.display.HTML object>"
      ]
     },
     "metadata": {},
     "output_type": "display_data"
    },
    {
     "data": {
      "text/html": [
       "Run data is saved locally in <code>/home/g.marino/Desktop/GA/RhetoricalRolesClassification/BUILD/wandb/run-20230425_170828-wyh1ia67</code>"
      ],
      "text/plain": [
       "<IPython.core.display.HTML object>"
      ]
     },
     "metadata": {},
     "output_type": "display_data"
    },
    {
     "data": {
      "text/html": [
       "Syncing run <strong><a href='https://wandb.ai/gmarinowandb-8601/RhetoricalRolesClassification-BUILD/runs/wyh1ia67' target=\"_blank\">ToBERT-Trial9</a></strong> to <a href='https://wandb.ai/gmarinowandb-8601/RhetoricalRolesClassification-BUILD' target=\"_blank\">Weights & Biases</a> (<a href='https://wandb.me/run' target=\"_blank\">docs</a>)<br/>"
      ],
      "text/plain": [
       "<IPython.core.display.HTML object>"
      ]
     },
     "metadata": {},
     "output_type": "display_data"
    },
    {
     "data": {
      "text/html": [
       " View project at <a href='https://wandb.ai/gmarinowandb-8601/RhetoricalRolesClassification-BUILD' target=\"_blank\">https://wandb.ai/gmarinowandb-8601/RhetoricalRolesClassification-BUILD</a>"
      ],
      "text/plain": [
       "<IPython.core.display.HTML object>"
      ]
     },
     "metadata": {},
     "output_type": "display_data"
    },
    {
     "data": {
      "text/html": [
       " View run at <a href='https://wandb.ai/gmarinowandb-8601/RhetoricalRolesClassification-BUILD/runs/wyh1ia67' target=\"_blank\">https://wandb.ai/gmarinowandb-8601/RhetoricalRolesClassification-BUILD/runs/wyh1ia67</a>"
      ],
      "text/plain": [
       "<IPython.core.display.HTML object>"
      ]
     },
     "metadata": {},
     "output_type": "display_data"
    },
    {
     "name": "stdout",
     "output_type": "stream",
     "text": [
      "\n",
      "************** Training Started **************\n",
      "\n",
      "EPOCH N. 1\n"
     ]
    },
    {
     "name": "stderr",
     "output_type": "stream",
     "text": [
      "221it [01:36,  2.28it/s]\n"
     ]
    },
    {
     "name": "stdout",
     "output_type": "stream",
     "text": [
      "\n",
      "TRAIN RESULTS\n",
      "Loss: 1.8791635060741891\n",
      "Accuracy: 0.45324634979807393\n",
      "MCC: 0.24321713584427665\n",
      "Macro F1: 0.11877311416031053\n",
      "Macro Precision: 0.12883674655864105\n",
      "Macro Recall: 0.13368036218120724\n",
      "Micro F1: 0.45324634979807393\n",
      "Micro Precision: 0.45324634979807393\n",
      "Micro Recall: 0.45324634979807393\n",
      "\n",
      "VALIDATION RESULTS\n",
      "Loss: 1.907578945159912\n",
      "Accuracy: 0.5627705627705628\n",
      "MCC: 0.40450904789794784\n",
      "Macro F1: 0.14894758093059238\n",
      "Macro Precision: 0.13997186940479014\n",
      "Macro Recall: 0.16977417880788676\n",
      "Micro F1: 0.5627705627705628\n",
      "Micro Precision: 0.5627705627705628\n",
      "Micro Recall: 0.5627705627705628\n",
      "--------------------------------------------------\n"
     ]
    },
    {
     "data": {
      "text/html": [
       "Waiting for W&B process to finish... <strong style=\"color:red\">(failed 1).</strong> Press Control-C to abort syncing."
      ],
      "text/plain": [
       "<IPython.core.display.HTML object>"
      ]
     },
     "metadata": {},
     "output_type": "display_data"
    },
    {
     "data": {
      "application/vnd.jupyter.widget-view+json": {
       "model_id": "b04a25a7fffa49139f1effec036b5ca9",
       "version_major": 2,
       "version_minor": 0
      },
      "text/plain": [
       "VBox(children=(Label(value='0.005 MB of 0.005 MB uploaded (0.000 MB deduped)\\r'), FloatProgress(value=1.0, max…"
      ]
     },
     "metadata": {},
     "output_type": "display_data"
    },
    {
     "data": {
      "text/html": [
       "<style>\n",
       "    table.wandb td:nth-child(1) { padding: 0 10px; text-align: left ; width: auto;} td:nth-child(2) {text-align: left ; width: 100%}\n",
       "    .wandb-row { display: flex; flex-direction: row; flex-wrap: wrap; justify-content: flex-start; width: 100% }\n",
       "    .wandb-col { display: flex; flex-direction: column; flex-basis: 100%; flex: 1; padding: 10px; }\n",
       "    </style>\n",
       "<div class=\"wandb-row\"><div class=\"wandb-col\"><h3>Run history:</h3><br/><table class=\"wandb\"><tr><td>Epoch</td><td>▁</td></tr><tr><td>Train Loss</td><td>▁</td></tr><tr><td>Validation Loss</td><td>▁</td></tr></table><br/></div><div class=\"wandb-col\"><h3>Run summary:</h3><br/><table class=\"wandb\"><tr><td>Epoch</td><td>1</td></tr><tr><td>Train Loss</td><td>1.87916</td></tr><tr><td>Validation Loss</td><td>1.90758</td></tr></table><br/></div></div>"
      ],
      "text/plain": [
       "<IPython.core.display.HTML object>"
      ]
     },
     "metadata": {},
     "output_type": "display_data"
    },
    {
     "data": {
      "text/html": [
       " View run <strong style=\"color:#cdcd00\">ToBERT-Trial9</strong> at: <a href='https://wandb.ai/gmarinowandb-8601/RhetoricalRolesClassification-BUILD/runs/wyh1ia67' target=\"_blank\">https://wandb.ai/gmarinowandb-8601/RhetoricalRolesClassification-BUILD/runs/wyh1ia67</a><br/>Synced 5 W&B file(s), 0 media file(s), 0 artifact file(s) and 0 other file(s)"
      ],
      "text/plain": [
       "<IPython.core.display.HTML object>"
      ]
     },
     "metadata": {},
     "output_type": "display_data"
    },
    {
     "data": {
      "text/html": [
       "Find logs at: <code>./wandb/run-20230425_170828-wyh1ia67/logs</code>"
      ],
      "text/plain": [
       "<IPython.core.display.HTML object>"
      ]
     },
     "metadata": {},
     "output_type": "display_data"
    },
    {
     "name": "stderr",
     "output_type": "stream",
     "text": [
      "\u001b[32m[I 2023-04-25 17:10:41,246]\u001b[0m Trial 9 pruned. \u001b[0m\n"
     ]
    },
    {
     "name": "stdout",
     "output_type": "stream",
     "text": [
      "\n",
      "************************ Starting New Optuna Trial ************************\n",
      "\n"
     ]
    },
    {
     "name": "stderr",
     "output_type": "stream",
     "text": [
      "Some weights of the model checkpoint at nlpaueb/legal-bert-base-uncased were not used when initializing BertForTokenClassification: ['cls.seq_relationship.weight', 'cls.predictions.bias', 'cls.predictions.transform.LayerNorm.bias', 'cls.predictions.decoder.bias', 'cls.predictions.decoder.weight', 'cls.seq_relationship.bias', 'cls.predictions.transform.dense.bias', 'cls.predictions.transform.LayerNorm.weight', 'cls.predictions.transform.dense.weight']\n",
      "- This IS expected if you are initializing BertForTokenClassification from the checkpoint of a model trained on another task or with another architecture (e.g. initializing a BertForSequenceClassification model from a BertForPreTraining model).\n",
      "- This IS NOT expected if you are initializing BertForTokenClassification from the checkpoint of a model that you expect to be exactly identical (initializing a BertForSequenceClassification model from a BertForSequenceClassification model).\n",
      "Some weights of BertForTokenClassification were not initialized from the model checkpoint at nlpaueb/legal-bert-base-uncased and are newly initialized: ['classifier.weight', 'classifier.bias']\n",
      "You should probably TRAIN this model on a down-stream task to be able to use it for predictions and inference.\n"
     ]
    },
    {
     "data": {
      "text/html": [
       "wandb version 0.15.0 is available!  To upgrade, please run:\n",
       " $ pip install wandb --upgrade"
      ],
      "text/plain": [
       "<IPython.core.display.HTML object>"
      ]
     },
     "metadata": {},
     "output_type": "display_data"
    },
    {
     "data": {
      "text/html": [
       "Tracking run with wandb version 0.13.10"
      ],
      "text/plain": [
       "<IPython.core.display.HTML object>"
      ]
     },
     "metadata": {},
     "output_type": "display_data"
    },
    {
     "data": {
      "text/html": [
       "Run data is saved locally in <code>/home/g.marino/Desktop/GA/RhetoricalRolesClassification/BUILD/wandb/run-20230425_171042-kadjeh05</code>"
      ],
      "text/plain": [
       "<IPython.core.display.HTML object>"
      ]
     },
     "metadata": {},
     "output_type": "display_data"
    },
    {
     "data": {
      "text/html": [
       "Syncing run <strong><a href='https://wandb.ai/gmarinowandb-8601/RhetoricalRolesClassification-BUILD/runs/kadjeh05' target=\"_blank\">ToBERT-Trial10</a></strong> to <a href='https://wandb.ai/gmarinowandb-8601/RhetoricalRolesClassification-BUILD' target=\"_blank\">Weights & Biases</a> (<a href='https://wandb.me/run' target=\"_blank\">docs</a>)<br/>"
      ],
      "text/plain": [
       "<IPython.core.display.HTML object>"
      ]
     },
     "metadata": {},
     "output_type": "display_data"
    },
    {
     "data": {
      "text/html": [
       " View project at <a href='https://wandb.ai/gmarinowandb-8601/RhetoricalRolesClassification-BUILD' target=\"_blank\">https://wandb.ai/gmarinowandb-8601/RhetoricalRolesClassification-BUILD</a>"
      ],
      "text/plain": [
       "<IPython.core.display.HTML object>"
      ]
     },
     "metadata": {},
     "output_type": "display_data"
    },
    {
     "data": {
      "text/html": [
       " View run at <a href='https://wandb.ai/gmarinowandb-8601/RhetoricalRolesClassification-BUILD/runs/kadjeh05' target=\"_blank\">https://wandb.ai/gmarinowandb-8601/RhetoricalRolesClassification-BUILD/runs/kadjeh05</a>"
      ],
      "text/plain": [
       "<IPython.core.display.HTML object>"
      ]
     },
     "metadata": {},
     "output_type": "display_data"
    },
    {
     "name": "stdout",
     "output_type": "stream",
     "text": [
      "\n",
      "************** Training Started **************\n",
      "\n",
      "EPOCH N. 1\n"
     ]
    },
    {
     "name": "stderr",
     "output_type": "stream",
     "text": [
      "221it [01:33,  2.36it/s]\n"
     ]
    },
    {
     "name": "stdout",
     "output_type": "stream",
     "text": [
      "\n",
      "TRAIN RESULTS\n",
      "Loss: 2.0013236249733835\n",
      "Accuracy: 0.39659055607331467\n",
      "MCC: 0.16559839918725763\n",
      "Macro F1: 0.10503617101654722\n",
      "Macro Precision: 0.11743656334283495\n",
      "Macro Recall: 0.11603574364369215\n",
      "Micro F1: 0.39659055607331467\n",
      "Micro Precision: 0.39659055607331467\n",
      "Micro Recall: 0.39659055607331467\n",
      "\n",
      "VALIDATION RESULTS\n",
      "Loss: 1.7191226482391357\n",
      "Accuracy: 0.5\n",
      "MCC: 0.30314453222198257\n",
      "Macro F1: 0.12764777526353638\n",
      "Macro Precision: 0.15407519039189424\n",
      "Macro Recall: 0.14065914894632575\n",
      "Micro F1: 0.5\n",
      "Micro Precision: 0.5\n",
      "Micro Recall: 0.5\n",
      "--------------------------------------------------\n",
      "EPOCH N. 2\n"
     ]
    },
    {
     "name": "stderr",
     "output_type": "stream",
     "text": [
      "221it [01:37,  2.26it/s]\n"
     ]
    },
    {
     "name": "stdout",
     "output_type": "stream",
     "text": [
      "\n",
      "TRAIN RESULTS\n",
      "Loss: 1.5405009944514452\n",
      "Accuracy: 0.55634513824169\n",
      "MCC: 0.40169245699316986\n",
      "Macro F1: 0.19372285700263583\n",
      "Macro Precision: 0.25632340512285856\n",
      "Macro Recall: 0.19929430946830864\n",
      "Micro F1: 0.55634513824169\n",
      "Micro Precision: 0.55634513824169\n",
      "Micro Recall: 0.55634513824169\n",
      "\n",
      "VALIDATION RESULTS\n",
      "Loss: 1.3640317916870117\n",
      "Accuracy: 0.6054421768707483\n",
      "MCC: 0.4633287431849239\n",
      "Macro F1: 0.23904384309059495\n",
      "Macro Precision: 0.27363858497237764\n",
      "Macro Recall: 0.23255716356108336\n",
      "Micro F1: 0.6054421768707483\n",
      "Micro Precision: 0.6054421768707483\n",
      "Micro Recall: 0.6054421768707483\n",
      "--------------------------------------------------\n",
      "EPOCH N. 3\n"
     ]
    },
    {
     "name": "stderr",
     "output_type": "stream",
     "text": [
      "221it [01:38,  2.24it/s]\n"
     ]
    },
    {
     "name": "stdout",
     "output_type": "stream",
     "text": [
      "\n",
      "TRAIN RESULTS\n",
      "Loss: 1.2546172328124758\n",
      "Accuracy: 0.6292715128922025\n",
      "MCC: 0.5091465881696823\n",
      "Macro F1: 0.29152028122631624\n",
      "Macro Precision: 0.5653556762451099\n",
      "Macro Recall: 0.28692576423670046\n",
      "Micro F1: 0.6292715128922025\n",
      "Micro Precision: 0.6292715128922025\n",
      "Micro Recall: 0.6292715128922025\n",
      "\n",
      "VALIDATION RESULTS\n",
      "Loss: 1.1041280031204224\n",
      "Accuracy: 0.6694495980210265\n",
      "MCC: 0.5581954617140793\n",
      "Macro F1: 0.36167640221932995\n",
      "Macro Precision: 0.5603968771358802\n",
      "Macro Recall: 0.3414410997537386\n",
      "Micro F1: 0.6694495980210265\n",
      "Micro Precision: 0.6694495980210265\n",
      "Micro Recall: 0.6694495980210265\n",
      "--------------------------------------------------\n",
      "EPOCH N. 4\n"
     ]
    },
    {
     "name": "stderr",
     "output_type": "stream",
     "text": [
      "221it [01:35,  2.31it/s]\n"
     ]
    },
    {
     "name": "stdout",
     "output_type": "stream",
     "text": [
      "\n",
      "TRAIN RESULTS\n",
      "Loss: 1.067664897684598\n",
      "Accuracy: 0.6715983224603914\n",
      "MCC: 0.5699295985325932\n",
      "Macro F1: 0.3913437863769011\n",
      "Macro Precision: 0.5441365375257777\n",
      "Macro Recall: 0.37105031675483136\n",
      "Micro F1: 0.6715983224603914\n",
      "Micro Precision: 0.6715983224603914\n",
      "Micro Recall: 0.6715983224603914\n",
      "\n",
      "VALIDATION RESULTS\n",
      "Loss: 0.9915039539337158\n",
      "Accuracy: 0.7065553494124923\n",
      "MCC: 0.6098307668050574\n",
      "Macro F1: 0.41757637947114323\n",
      "Macro Precision: 0.535510603836102\n",
      "Macro Recall: 0.3893606509813799\n",
      "Micro F1: 0.7065553494124923\n",
      "Micro Precision: 0.7065553494124923\n",
      "Micro Recall: 0.7065553494124923\n",
      "--------------------------------------------------\n",
      "EPOCH N. 5\n"
     ]
    },
    {
     "name": "stderr",
     "output_type": "stream",
     "text": [
      "221it [01:37,  2.27it/s]\n"
     ]
    },
    {
     "name": "stdout",
     "output_type": "stream",
     "text": [
      "\n",
      "TRAIN RESULTS\n",
      "Loss: 0.9595388998003567\n",
      "Accuracy: 0.6979652065858962\n",
      "MCC: 0.6068445399027748\n",
      "Macro F1: 0.4589512107885476\n",
      "Macro Precision: 0.5942137949705303\n",
      "Macro Recall: 0.428588688206288\n",
      "Micro F1: 0.6979652065858962\n",
      "Micro Precision: 0.6979652065858962\n",
      "Micro Recall: 0.6979652065858962\n",
      "\n",
      "VALIDATION RESULTS\n",
      "Loss: 0.9414920210838318\n",
      "Accuracy: 0.7235621521335807\n",
      "MCC: 0.6357397504463622\n",
      "Macro F1: 0.49410268906491395\n",
      "Macro Precision: 0.6529603626048599\n",
      "Macro Recall: 0.4663564489689055\n",
      "Micro F1: 0.7235621521335807\n",
      "Micro Precision: 0.7235621521335807\n",
      "Micro Recall: 0.7235621521335807\n",
      "--------------------------------------------------\n",
      "EPOCH N. 6\n"
     ]
    },
    {
     "name": "stderr",
     "output_type": "stream",
     "text": [
      "221it [01:39,  2.22it/s]\n"
     ]
    },
    {
     "name": "stdout",
     "output_type": "stream",
     "text": [
      "\n",
      "TRAIN RESULTS\n",
      "Loss: 0.8893172066675592\n",
      "Accuracy: 0.7051491146318732\n",
      "MCC: 0.617661171676697\n",
      "Macro F1: 0.49836778876270943\n",
      "Macro Precision: 0.5939465571144296\n",
      "Macro Recall: 0.4688346630029877\n",
      "Micro F1: 0.7051491146318732\n",
      "Micro Precision: 0.7051491146318732\n",
      "Micro Recall: 0.7051491146318732\n",
      "\n",
      "VALIDATION RESULTS\n",
      "Loss: 0.8823127746582031\n",
      "Accuracy: 0.7300556586270872\n",
      "MCC: 0.6461868267570643\n",
      "Macro F1: 0.5197180847099042\n",
      "Macro Precision: 0.5973387545216774\n",
      "Macro Recall: 0.501815830566001\n",
      "Micro F1: 0.7300556586270872\n",
      "Micro Precision: 0.7300556586270872\n",
      "Micro Recall: 0.7300556586270872\n",
      "--------------------------------------------------\n",
      "EPOCH N. 7\n"
     ]
    },
    {
     "name": "stderr",
     "output_type": "stream",
     "text": [
      "221it [01:34,  2.34it/s]\n"
     ]
    },
    {
     "name": "stdout",
     "output_type": "stream",
     "text": [
      "\n",
      "TRAIN RESULTS\n",
      "Loss: 0.838343661565047\n",
      "Accuracy: 0.724681578129854\n",
      "MCC: 0.6440397336261499\n",
      "Macro F1: 0.5269984790123166\n",
      "Macro Precision: 0.6186698210565351\n",
      "Macro Recall: 0.49578334553114806\n",
      "Micro F1: 0.724681578129854\n",
      "Micro Precision: 0.724681578129854\n",
      "Micro Recall: 0.724681578129854\n",
      "\n",
      "VALIDATION RESULTS\n",
      "Loss: 0.8829358816146851\n",
      "Accuracy: 0.7266542980828695\n",
      "MCC: 0.6470282387240798\n",
      "Macro F1: 0.5252284613749114\n",
      "Macro Precision: 0.5654722839985072\n",
      "Macro Recall: 0.529809252430432\n",
      "Micro F1: 0.7266542980828695\n",
      "Micro Precision: 0.7266542980828695\n",
      "Micro Recall: 0.7266542980828695\n",
      "--------------------------------------------------\n",
      "EPOCH N. 8\n"
     ]
    },
    {
     "name": "stderr",
     "output_type": "stream",
     "text": [
      "221it [01:31,  2.41it/s]\n"
     ]
    },
    {
     "name": "stdout",
     "output_type": "stream",
     "text": [
      "\n",
      "TRAIN RESULTS\n",
      "Loss: 0.799670501194928\n",
      "Accuracy: 0.7318266542404473\n",
      "MCC: 0.6538874364062935\n",
      "Macro F1: 0.5464890686138407\n",
      "Macro Precision: 0.6275921234815325\n",
      "Macro Recall: 0.5133244782884918\n",
      "Micro F1: 0.7318266542404475\n",
      "Micro Precision: 0.7318266542404473\n",
      "Micro Recall: 0.7318266542404473\n",
      "\n",
      "VALIDATION RESULTS\n",
      "Loss: 0.8733603954315186\n",
      "Accuracy: 0.7374768089053804\n",
      "MCC: 0.6572950087043917\n",
      "Macro F1: 0.5378800696131449\n",
      "Macro Precision: 0.6105049345488262\n",
      "Macro Recall: 0.5274971284302675\n",
      "Micro F1: 0.7374768089053804\n",
      "Micro Precision: 0.7374768089053804\n",
      "Micro Recall: 0.7374768089053804\n",
      "--------------------------------------------------\n",
      "EPOCH N. 9\n"
     ]
    },
    {
     "name": "stderr",
     "output_type": "stream",
     "text": [
      "221it [01:30,  2.45it/s]\n"
     ]
    },
    {
     "name": "stdout",
     "output_type": "stream",
     "text": [
      "\n",
      "TRAIN RESULTS\n",
      "Loss: 0.7550634850339113\n",
      "Accuracy: 0.7446800248524387\n",
      "MCC: 0.671112398548993\n",
      "Macro F1: 0.568253969562853\n",
      "Macro Precision: 0.6408162569042215\n",
      "Macro Recall: 0.5376741490681233\n",
      "Micro F1: 0.7446800248524387\n",
      "Micro Precision: 0.7446800248524387\n",
      "Micro Recall: 0.7446800248524387\n",
      "\n",
      "VALIDATION RESULTS\n",
      "Loss: 0.8669744729995728\n",
      "Accuracy: 0.7430426716141002\n",
      "MCC: 0.6653317327360668\n",
      "Macro F1: 0.5476407286250601\n",
      "Macro Precision: 0.5975225197847895\n",
      "Macro Recall: 0.5372729675972343\n",
      "Micro F1: 0.7430426716141001\n",
      "Micro Precision: 0.7430426716141002\n",
      "Micro Recall: 0.7430426716141002\n",
      "--------------------------------------------------\n",
      "EPOCH N. 10\n"
     ]
    },
    {
     "name": "stderr",
     "output_type": "stream",
     "text": [
      "221it [01:31,  2.42it/s]\n"
     ]
    },
    {
     "name": "stdout",
     "output_type": "stream",
     "text": [
      "\n",
      "TRAIN RESULTS\n",
      "Loss: 0.719620534130351\n",
      "Accuracy: 0.7528347312830072\n",
      "MCC: 0.6817812669012214\n",
      "Macro F1: 0.5820528602797368\n",
      "Macro Precision: 0.6558391168979758\n",
      "Macro Recall: 0.5483258356841686\n",
      "Micro F1: 0.7528347312830072\n",
      "Micro Precision: 0.7528347312830072\n",
      "Micro Recall: 0.7528347312830072\n",
      "\n",
      "VALIDATION RESULTS\n",
      "Loss: 0.8610497713088989\n",
      "Accuracy: 0.7328385899814471\n",
      "MCC: 0.6544463819917811\n",
      "Macro F1: 0.5426852238572702\n",
      "Macro Precision: 0.5913595302418624\n",
      "Macro Recall: 0.5364850461633163\n",
      "Micro F1: 0.7328385899814471\n",
      "Micro Precision: 0.7328385899814471\n",
      "Micro Recall: 0.7328385899814471\n",
      "--------------------------------------------------\n",
      "EPOCH N. 11\n"
     ]
    },
    {
     "name": "stderr",
     "output_type": "stream",
     "text": [
      "221it [01:31,  2.42it/s]\n"
     ]
    },
    {
     "name": "stdout",
     "output_type": "stream",
     "text": [
      "\n",
      "TRAIN RESULTS\n",
      "Loss: 0.6873038332251942\n",
      "Accuracy: 0.7638630009319665\n",
      "MCC: 0.696529881600191\n",
      "Macro F1: 0.5906073300064373\n",
      "Macro Precision: 0.658237085380571\n",
      "Macro Recall: 0.5597149035032185\n",
      "Micro F1: 0.7638630009319665\n",
      "Micro Precision: 0.7638630009319665\n",
      "Micro Recall: 0.7638630009319665\n",
      "\n",
      "VALIDATION RESULTS\n",
      "Loss: 0.8771015405654907\n",
      "Accuracy: 0.7371675943104514\n",
      "MCC: 0.6586382832578491\n",
      "Macro F1: 0.5538161623196376\n",
      "Macro Precision: 0.6264225777489215\n",
      "Macro Recall: 0.5392486457863297\n",
      "Micro F1: 0.7371675943104514\n",
      "Micro Precision: 0.7371675943104514\n",
      "Micro Recall: 0.7371675943104514\n",
      "--------------------------------------------------\n",
      "EPOCH N. 12\n"
     ]
    },
    {
     "name": "stderr",
     "output_type": "stream",
     "text": [
      "221it [01:29,  2.46it/s]\n"
     ]
    },
    {
     "name": "stdout",
     "output_type": "stream",
     "text": [
      "\n",
      "TRAIN RESULTS\n",
      "Loss: 0.6474737581624165\n",
      "Accuracy: 0.769726623174899\n",
      "MCC: 0.7044052381475957\n",
      "Macro F1: 0.6054733081187832\n",
      "Macro Precision: 0.6646471012465376\n",
      "Macro Recall: 0.5752693243579684\n",
      "Micro F1: 0.7697266231748989\n",
      "Micro Precision: 0.769726623174899\n",
      "Micro Recall: 0.769726623174899\n",
      "\n",
      "VALIDATION RESULTS\n",
      "Loss: 0.9276512861251831\n",
      "Accuracy: 0.7115027829313544\n",
      "MCC: 0.6376157978516831\n",
      "Macro F1: 0.5414262480773872\n",
      "Macro Precision: 0.5744853000281439\n",
      "Macro Recall: 0.5587038012422818\n",
      "Micro F1: 0.7115027829313543\n",
      "Micro Precision: 0.7115027829313544\n",
      "Micro Recall: 0.7115027829313544\n",
      "Early stopped training\n",
      "--------------------------------------------------\n"
     ]
    },
    {
     "data": {
      "text/html": [
       "Waiting for W&B process to finish... <strong style=\"color:green\">(success).</strong>"
      ],
      "text/plain": [
       "<IPython.core.display.HTML object>"
      ]
     },
     "metadata": {},
     "output_type": "display_data"
    },
    {
     "data": {
      "text/html": [
       "<style>\n",
       "    table.wandb td:nth-child(1) { padding: 0 10px; text-align: left ; width: auto;} td:nth-child(2) {text-align: left ; width: 100%}\n",
       "    .wandb-row { display: flex; flex-direction: row; flex-wrap: wrap; justify-content: flex-start; width: 100% }\n",
       "    .wandb-col { display: flex; flex-direction: column; flex-basis: 100%; flex: 1; padding: 10px; }\n",
       "    </style>\n",
       "<div class=\"wandb-row\"><div class=\"wandb-col\"><h3>Run history:</h3><br/><table class=\"wandb\"><tr><td>Epoch</td><td>▁▂▂▃▄▄▅▅▆▇▇█</td></tr><tr><td>Train Loss</td><td>█▆▄▃▃▂▂▂▂▁▁▁</td></tr><tr><td>Validation Loss</td><td>█▅▃▂▂▁▁▁▁▁▁▂</td></tr></table><br/></div><div class=\"wandb-col\"><h3>Run summary:</h3><br/><table class=\"wandb\"><tr><td>Epoch</td><td>12</td></tr><tr><td>Train Loss</td><td>0.64747</td></tr><tr><td>Validation Loss</td><td>0.92765</td></tr></table><br/></div></div>"
      ],
      "text/plain": [
       "<IPython.core.display.HTML object>"
      ]
     },
     "metadata": {},
     "output_type": "display_data"
    },
    {
     "data": {
      "text/html": [
       " View run <strong style=\"color:#cdcd00\">ToBERT-Trial10</strong> at: <a href='https://wandb.ai/gmarinowandb-8601/RhetoricalRolesClassification-BUILD/runs/kadjeh05' target=\"_blank\">https://wandb.ai/gmarinowandb-8601/RhetoricalRolesClassification-BUILD/runs/kadjeh05</a><br/>Synced 5 W&B file(s), 0 media file(s), 0 artifact file(s) and 0 other file(s)"
      ],
      "text/plain": [
       "<IPython.core.display.HTML object>"
      ]
     },
     "metadata": {},
     "output_type": "display_data"
    },
    {
     "data": {
      "text/html": [
       "Find logs at: <code>./wandb/run-20230425_171042-kadjeh05/logs</code>"
      ],
      "text/plain": [
       "<IPython.core.display.HTML object>"
      ]
     },
     "metadata": {},
     "output_type": "display_data"
    },
    {
     "name": "stderr",
     "output_type": "stream",
     "text": [
      "\u001b[32m[I 2023-04-25 17:32:17,307]\u001b[0m Trial 10 finished with value: 0.8610497713088989 and parameters: {'lr': 8.212480193731602e-06, 'weight_decay': 0.09983275455001231, 'embedding': 'rel', 'transformer_dropout': 0.30888942146744863, 'transformer_dim_feedforward': 665}. Best is trial 10 with value: 0.8610497713088989.\u001b[0m\n"
     ]
    },
    {
     "name": "stdout",
     "output_type": "stream",
     "text": [
      "\n",
      "************************ Starting New Optuna Trial ************************\n",
      "\n"
     ]
    },
    {
     "name": "stderr",
     "output_type": "stream",
     "text": [
      "Some weights of the model checkpoint at nlpaueb/legal-bert-base-uncased were not used when initializing BertForTokenClassification: ['cls.seq_relationship.weight', 'cls.predictions.bias', 'cls.predictions.transform.LayerNorm.bias', 'cls.predictions.decoder.bias', 'cls.predictions.decoder.weight', 'cls.seq_relationship.bias', 'cls.predictions.transform.dense.bias', 'cls.predictions.transform.LayerNorm.weight', 'cls.predictions.transform.dense.weight']\n",
      "- This IS expected if you are initializing BertForTokenClassification from the checkpoint of a model trained on another task or with another architecture (e.g. initializing a BertForSequenceClassification model from a BertForPreTraining model).\n",
      "- This IS NOT expected if you are initializing BertForTokenClassification from the checkpoint of a model that you expect to be exactly identical (initializing a BertForSequenceClassification model from a BertForSequenceClassification model).\n",
      "Some weights of BertForTokenClassification were not initialized from the model checkpoint at nlpaueb/legal-bert-base-uncased and are newly initialized: ['classifier.weight', 'classifier.bias']\n",
      "You should probably TRAIN this model on a down-stream task to be able to use it for predictions and inference.\n"
     ]
    },
    {
     "data": {
      "text/html": [
       "wandb version 0.15.0 is available!  To upgrade, please run:\n",
       " $ pip install wandb --upgrade"
      ],
      "text/plain": [
       "<IPython.core.display.HTML object>"
      ]
     },
     "metadata": {},
     "output_type": "display_data"
    },
    {
     "data": {
      "text/html": [
       "Tracking run with wandb version 0.13.10"
      ],
      "text/plain": [
       "<IPython.core.display.HTML object>"
      ]
     },
     "metadata": {},
     "output_type": "display_data"
    },
    {
     "data": {
      "text/html": [
       "Run data is saved locally in <code>/home/g.marino/Desktop/GA/RhetoricalRolesClassification/BUILD/wandb/run-20230425_173219-n8usji3k</code>"
      ],
      "text/plain": [
       "<IPython.core.display.HTML object>"
      ]
     },
     "metadata": {},
     "output_type": "display_data"
    },
    {
     "data": {
      "text/html": [
       "Syncing run <strong><a href='https://wandb.ai/gmarinowandb-8601/RhetoricalRolesClassification-BUILD/runs/n8usji3k' target=\"_blank\">ToBERT-Trial11</a></strong> to <a href='https://wandb.ai/gmarinowandb-8601/RhetoricalRolesClassification-BUILD' target=\"_blank\">Weights & Biases</a> (<a href='https://wandb.me/run' target=\"_blank\">docs</a>)<br/>"
      ],
      "text/plain": [
       "<IPython.core.display.HTML object>"
      ]
     },
     "metadata": {},
     "output_type": "display_data"
    },
    {
     "data": {
      "text/html": [
       " View project at <a href='https://wandb.ai/gmarinowandb-8601/RhetoricalRolesClassification-BUILD' target=\"_blank\">https://wandb.ai/gmarinowandb-8601/RhetoricalRolesClassification-BUILD</a>"
      ],
      "text/plain": [
       "<IPython.core.display.HTML object>"
      ]
     },
     "metadata": {},
     "output_type": "display_data"
    },
    {
     "data": {
      "text/html": [
       " View run at <a href='https://wandb.ai/gmarinowandb-8601/RhetoricalRolesClassification-BUILD/runs/n8usji3k' target=\"_blank\">https://wandb.ai/gmarinowandb-8601/RhetoricalRolesClassification-BUILD/runs/n8usji3k</a>"
      ],
      "text/plain": [
       "<IPython.core.display.HTML object>"
      ]
     },
     "metadata": {},
     "output_type": "display_data"
    },
    {
     "name": "stdout",
     "output_type": "stream",
     "text": [
      "\n",
      "************** Training Started **************\n",
      "\n",
      "EPOCH N. 1\n"
     ]
    },
    {
     "name": "stderr",
     "output_type": "stream",
     "text": [
      "221it [01:27,  2.54it/s]\n"
     ]
    },
    {
     "name": "stdout",
     "output_type": "stream",
     "text": [
      "\n",
      "TRAIN RESULTS\n",
      "Loss: 1.957367741684029\n",
      "Accuracy: 0.40004659832246037\n",
      "MCC: 0.15932157580786382\n",
      "Macro F1: 0.10398283340517593\n",
      "Macro Precision: 0.12895530332795987\n",
      "Macro Recall: 0.11603499361586013\n",
      "Micro F1: 0.4000465983224603\n",
      "Micro Precision: 0.40004659832246037\n",
      "Micro Recall: 0.40004659832246037\n",
      "\n",
      "VALIDATION RESULTS\n",
      "Loss: 1.6429524421691895\n",
      "Accuracy: 0.5401978973407545\n",
      "MCC: 0.36068556222300613\n",
      "Macro F1: 0.13725505109010408\n",
      "Macro Precision: 0.12657966676895085\n",
      "Macro Recall: 0.1551931903133495\n",
      "Micro F1: 0.5401978973407545\n",
      "Micro Precision: 0.5401978973407545\n",
      "Micro Recall: 0.5401978973407545\n",
      "--------------------------------------------------\n",
      "EPOCH N. 2\n"
     ]
    },
    {
     "name": "stderr",
     "output_type": "stream",
     "text": [
      "221it [01:29,  2.46it/s]\n"
     ]
    },
    {
     "name": "stdout",
     "output_type": "stream",
     "text": [
      "\n",
      "TRAIN RESULTS\n",
      "Loss: 1.4875632440882032\n",
      "Accuracy: 0.563412550481516\n",
      "MCC: 0.4125671046383494\n",
      "Macro F1: 0.20832833593752723\n",
      "Macro Precision: 0.3211560394756754\n",
      "Macro Recall: 0.20929020665300854\n",
      "Micro F1: 0.563412550481516\n",
      "Micro Precision: 0.563412550481516\n",
      "Micro Recall: 0.563412550481516\n",
      "\n",
      "VALIDATION RESULTS\n",
      "Loss: 1.2474465370178223\n",
      "Accuracy: 0.6382189239332097\n",
      "MCC: 0.5123171474108695\n",
      "Macro F1: 0.29520923555436757\n",
      "Macro Precision: 0.3730660158017358\n",
      "Macro Recall: 0.28905530691970954\n",
      "Micro F1: 0.6382189239332097\n",
      "Micro Precision: 0.6382189239332097\n",
      "Micro Recall: 0.6382189239332097\n",
      "--------------------------------------------------\n",
      "EPOCH N. 3\n"
     ]
    },
    {
     "name": "stderr",
     "output_type": "stream",
     "text": [
      "221it [01:30,  2.43it/s]\n"
     ]
    },
    {
     "name": "stdout",
     "output_type": "stream",
     "text": [
      "\n",
      "TRAIN RESULTS\n",
      "Loss: 1.1948645570698906\n",
      "Accuracy: 0.6437558247903076\n",
      "MCC: 0.5305643555135583\n",
      "Macro F1: 0.3155725793383777\n",
      "Macro Precision: 0.49769405500733566\n",
      "Macro Recall: 0.3101329112481213\n",
      "Micro F1: 0.6437558247903076\n",
      "Micro Precision: 0.6437558247903076\n",
      "Micro Recall: 0.6437558247903076\n",
      "\n",
      "VALIDATION RESULTS\n",
      "Loss: 1.108487844467163\n",
      "Accuracy: 0.6777983920841064\n",
      "MCC: 0.5719207583448463\n",
      "Macro F1: 0.3536261591986183\n",
      "Macro Precision: 0.5436123707453955\n",
      "Macro Recall: 0.3478916117181886\n",
      "Micro F1: 0.6777983920841064\n",
      "Micro Precision: 0.6777983920841064\n",
      "Micro Recall: 0.6777983920841064\n",
      "--------------------------------------------------\n",
      "EPOCH N. 4\n"
     ]
    },
    {
     "name": "stderr",
     "output_type": "stream",
     "text": [
      "221it [01:32,  2.40it/s]\n"
     ]
    },
    {
     "name": "stdout",
     "output_type": "stream",
     "text": [
      "\n",
      "TRAIN RESULTS\n",
      "Loss: 1.0248341465967272\n",
      "Accuracy: 0.6804908356632494\n",
      "MCC: 0.5825895888823466\n",
      "Macro F1: 0.40619479013916465\n",
      "Macro Precision: 0.5776473052632857\n",
      "Macro Recall: 0.38005101843349226\n",
      "Micro F1: 0.6804908356632494\n",
      "Micro Precision: 0.6804908356632494\n",
      "Micro Recall: 0.6804908356632494\n",
      "\n",
      "VALIDATION RESULTS\n",
      "Loss: 0.995732307434082\n",
      "Accuracy: 0.7037724180581324\n",
      "MCC: 0.615674008125419\n",
      "Macro F1: 0.46567588614115496\n",
      "Macro Precision: 0.5540012085262579\n",
      "Macro Recall: 0.454970319190642\n",
      "Micro F1: 0.7037724180581324\n",
      "Micro Precision: 0.7037724180581324\n",
      "Micro Recall: 0.7037724180581324\n",
      "--------------------------------------------------\n",
      "EPOCH N. 5\n"
     ]
    },
    {
     "name": "stderr",
     "output_type": "stream",
     "text": [
      "221it [01:28,  2.49it/s]\n"
     ]
    },
    {
     "name": "stdout",
     "output_type": "stream",
     "text": [
      "\n",
      "TRAIN RESULTS\n",
      "Loss: 0.9270658615757438\n",
      "Accuracy: 0.6973050636843741\n",
      "MCC: 0.6066705010160196\n",
      "Macro F1: 0.4764202656403024\n",
      "Macro Precision: 0.5973933078017107\n",
      "Macro Recall: 0.44466075326938637\n",
      "Micro F1: 0.6973050636843741\n",
      "Micro Precision: 0.6973050636843741\n",
      "Micro Recall: 0.6973050636843741\n",
      "\n",
      "VALIDATION RESULTS\n",
      "Loss: 0.9030604362487793\n",
      "Accuracy: 0.7272727272727273\n",
      "MCC: 0.6415643800577313\n",
      "Macro F1: 0.49354309082189995\n",
      "Macro Precision: 0.5672556650472589\n",
      "Macro Recall: 0.47640908963844225\n",
      "Micro F1: 0.7272727272727273\n",
      "Micro Precision: 0.7272727272727273\n",
      "Micro Recall: 0.7272727272727273\n",
      "--------------------------------------------------\n",
      "EPOCH N. 6\n"
     ]
    },
    {
     "name": "stderr",
     "output_type": "stream",
     "text": [
      "221it [01:29,  2.47it/s]\n"
     ]
    },
    {
     "name": "stdout",
     "output_type": "stream",
     "text": [
      "\n",
      "TRAIN RESULTS\n",
      "Loss: 0.8699248027208164\n",
      "Accuracy: 0.7148959304131718\n",
      "MCC: 0.6309515493504777\n",
      "Macro F1: 0.5107512427726679\n",
      "Macro Precision: 0.6007734555906257\n",
      "Macro Recall: 0.47966818582095805\n",
      "Micro F1: 0.7148959304131718\n",
      "Micro Precision: 0.7148959304131718\n",
      "Micro Recall: 0.7148959304131718\n",
      "\n",
      "VALIDATION RESULTS\n",
      "Loss: 0.9171242117881775\n",
      "Accuracy: 0.7272727272727273\n",
      "MCC: 0.6419795316803563\n",
      "Macro F1: 0.5082212664646781\n",
      "Macro Precision: 0.5756539120394021\n",
      "Macro Recall: 0.49502073806191665\n",
      "Micro F1: 0.7272727272727273\n",
      "Micro Precision: 0.7272727272727273\n",
      "Micro Recall: 0.7272727272727273\n",
      "--------------------------------------------------\n",
      "EPOCH N. 7\n"
     ]
    },
    {
     "name": "stderr",
     "output_type": "stream",
     "text": [
      "221it [01:28,  2.50it/s]\n"
     ]
    },
    {
     "name": "stdout",
     "output_type": "stream",
     "text": [
      "\n",
      "TRAIN RESULTS\n",
      "Loss: 0.8196958183433136\n",
      "Accuracy: 0.7295355700528114\n",
      "MCC: 0.6506441583659646\n",
      "Macro F1: 0.5419528128769945\n",
      "Macro Precision: 0.6264294524343261\n",
      "Macro Recall: 0.508761169444388\n",
      "Micro F1: 0.7295355700528113\n",
      "Micro Precision: 0.7295355700528114\n",
      "Micro Recall: 0.7295355700528114\n",
      "\n",
      "VALIDATION RESULTS\n",
      "Loss: 0.9383984804153442\n",
      "Accuracy: 0.7269635126777984\n",
      "MCC: 0.6403944472642887\n",
      "Macro F1: 0.5121686229977527\n",
      "Macro Precision: 0.6317638337060559\n",
      "Macro Recall: 0.48128310422520193\n",
      "Micro F1: 0.7269635126777984\n",
      "Micro Precision: 0.7269635126777984\n",
      "Micro Recall: 0.7269635126777984\n",
      "Early stopped training\n",
      "--------------------------------------------------\n"
     ]
    },
    {
     "data": {
      "text/html": [
       "Waiting for W&B process to finish... <strong style=\"color:green\">(success).</strong>"
      ],
      "text/plain": [
       "<IPython.core.display.HTML object>"
      ]
     },
     "metadata": {},
     "output_type": "display_data"
    },
    {
     "data": {
      "application/vnd.jupyter.widget-view+json": {
       "model_id": "44cab90182de41a3b8676b76eb418d67",
       "version_major": 2,
       "version_minor": 0
      },
      "text/plain": [
       "VBox(children=(Label(value='0.005 MB of 0.005 MB uploaded (0.000 MB deduped)\\r'), FloatProgress(value=1.0, max…"
      ]
     },
     "metadata": {},
     "output_type": "display_data"
    },
    {
     "data": {
      "text/html": [
       "<style>\n",
       "    table.wandb td:nth-child(1) { padding: 0 10px; text-align: left ; width: auto;} td:nth-child(2) {text-align: left ; width: 100%}\n",
       "    .wandb-row { display: flex; flex-direction: row; flex-wrap: wrap; justify-content: flex-start; width: 100% }\n",
       "    .wandb-col { display: flex; flex-direction: column; flex-basis: 100%; flex: 1; padding: 10px; }\n",
       "    </style>\n",
       "<div class=\"wandb-row\"><div class=\"wandb-col\"><h3>Run history:</h3><br/><table class=\"wandb\"><tr><td>Epoch</td><td>▁▂▃▅▆▇█</td></tr><tr><td>Train Loss</td><td>█▅▃▂▂▁▁</td></tr><tr><td>Validation Loss</td><td>█▄▃▂▁▁▁</td></tr></table><br/></div><div class=\"wandb-col\"><h3>Run summary:</h3><br/><table class=\"wandb\"><tr><td>Epoch</td><td>7</td></tr><tr><td>Train Loss</td><td>0.8197</td></tr><tr><td>Validation Loss</td><td>0.9384</td></tr></table><br/></div></div>"
      ],
      "text/plain": [
       "<IPython.core.display.HTML object>"
      ]
     },
     "metadata": {},
     "output_type": "display_data"
    },
    {
     "data": {
      "text/html": [
       " View run <strong style=\"color:#cdcd00\">ToBERT-Trial11</strong> at: <a href='https://wandb.ai/gmarinowandb-8601/RhetoricalRolesClassification-BUILD/runs/n8usji3k' target=\"_blank\">https://wandb.ai/gmarinowandb-8601/RhetoricalRolesClassification-BUILD/runs/n8usji3k</a><br/>Synced 5 W&B file(s), 0 media file(s), 0 artifact file(s) and 0 other file(s)"
      ],
      "text/plain": [
       "<IPython.core.display.HTML object>"
      ]
     },
     "metadata": {},
     "output_type": "display_data"
    },
    {
     "data": {
      "text/html": [
       "Find logs at: <code>./wandb/run-20230425_173219-n8usji3k/logs</code>"
      ],
      "text/plain": [
       "<IPython.core.display.HTML object>"
      ]
     },
     "metadata": {},
     "output_type": "display_data"
    },
    {
     "name": "stderr",
     "output_type": "stream",
     "text": [
      "\u001b[32m[I 2023-04-25 17:44:21,145]\u001b[0m Trial 11 finished with value: 0.9030604362487793 and parameters: {'lr': 9.705914201266216e-06, 'weight_decay': 0.09945446738381582, 'embedding': 'rel', 'transformer_dropout': 0.3380870024266672, 'transformer_dim_feedforward': 635}. Best is trial 10 with value: 0.8610497713088989.\u001b[0m\n"
     ]
    },
    {
     "name": "stdout",
     "output_type": "stream",
     "text": [
      "\n",
      "************************ Starting New Optuna Trial ************************\n",
      "\n"
     ]
    },
    {
     "name": "stderr",
     "output_type": "stream",
     "text": [
      "Some weights of the model checkpoint at nlpaueb/legal-bert-base-uncased were not used when initializing BertForTokenClassification: ['cls.seq_relationship.weight', 'cls.predictions.bias', 'cls.predictions.transform.LayerNorm.bias', 'cls.predictions.decoder.bias', 'cls.predictions.decoder.weight', 'cls.seq_relationship.bias', 'cls.predictions.transform.dense.bias', 'cls.predictions.transform.LayerNorm.weight', 'cls.predictions.transform.dense.weight']\n",
      "- This IS expected if you are initializing BertForTokenClassification from the checkpoint of a model trained on another task or with another architecture (e.g. initializing a BertForSequenceClassification model from a BertForPreTraining model).\n",
      "- This IS NOT expected if you are initializing BertForTokenClassification from the checkpoint of a model that you expect to be exactly identical (initializing a BertForSequenceClassification model from a BertForSequenceClassification model).\n",
      "Some weights of BertForTokenClassification were not initialized from the model checkpoint at nlpaueb/legal-bert-base-uncased and are newly initialized: ['classifier.weight', 'classifier.bias']\n",
      "You should probably TRAIN this model on a down-stream task to be able to use it for predictions and inference.\n"
     ]
    },
    {
     "data": {
      "text/html": [
       "wandb version 0.15.0 is available!  To upgrade, please run:\n",
       " $ pip install wandb --upgrade"
      ],
      "text/plain": [
       "<IPython.core.display.HTML object>"
      ]
     },
     "metadata": {},
     "output_type": "display_data"
    },
    {
     "data": {
      "text/html": [
       "Tracking run with wandb version 0.13.10"
      ],
      "text/plain": [
       "<IPython.core.display.HTML object>"
      ]
     },
     "metadata": {},
     "output_type": "display_data"
    },
    {
     "data": {
      "text/html": [
       "Run data is saved locally in <code>/home/g.marino/Desktop/GA/RhetoricalRolesClassification/BUILD/wandb/run-20230425_174422-7x1py6ob</code>"
      ],
      "text/plain": [
       "<IPython.core.display.HTML object>"
      ]
     },
     "metadata": {},
     "output_type": "display_data"
    },
    {
     "data": {
      "text/html": [
       "Syncing run <strong><a href='https://wandb.ai/gmarinowandb-8601/RhetoricalRolesClassification-BUILD/runs/7x1py6ob' target=\"_blank\">ToBERT-Trial12</a></strong> to <a href='https://wandb.ai/gmarinowandb-8601/RhetoricalRolesClassification-BUILD' target=\"_blank\">Weights & Biases</a> (<a href='https://wandb.me/run' target=\"_blank\">docs</a>)<br/>"
      ],
      "text/plain": [
       "<IPython.core.display.HTML object>"
      ]
     },
     "metadata": {},
     "output_type": "display_data"
    },
    {
     "data": {
      "text/html": [
       " View project at <a href='https://wandb.ai/gmarinowandb-8601/RhetoricalRolesClassification-BUILD' target=\"_blank\">https://wandb.ai/gmarinowandb-8601/RhetoricalRolesClassification-BUILD</a>"
      ],
      "text/plain": [
       "<IPython.core.display.HTML object>"
      ]
     },
     "metadata": {},
     "output_type": "display_data"
    },
    {
     "data": {
      "text/html": [
       " View run at <a href='https://wandb.ai/gmarinowandb-8601/RhetoricalRolesClassification-BUILD/runs/7x1py6ob' target=\"_blank\">https://wandb.ai/gmarinowandb-8601/RhetoricalRolesClassification-BUILD/runs/7x1py6ob</a>"
      ],
      "text/plain": [
       "<IPython.core.display.HTML object>"
      ]
     },
     "metadata": {},
     "output_type": "display_data"
    },
    {
     "name": "stdout",
     "output_type": "stream",
     "text": [
      "\n",
      "************** Training Started **************\n",
      "\n",
      "EPOCH N. 1\n"
     ]
    },
    {
     "name": "stderr",
     "output_type": "stream",
     "text": [
      "221it [01:28,  2.51it/s]\n"
     ]
    },
    {
     "name": "stdout",
     "output_type": "stream",
     "text": [
      "\n",
      "TRAIN RESULTS\n",
      "Loss: 1.6219956397470845\n",
      "Accuracy: 0.5286579683131407\n",
      "MCC: 0.36417544913859734\n",
      "Macro F1: 0.19175494168021723\n",
      "Macro Precision: 0.24323597747642653\n",
      "Macro Recall: 0.19390043705635435\n",
      "Micro F1: 0.5286579683131407\n",
      "Micro Precision: 0.5286579683131407\n",
      "Micro Recall: 0.5286579683131407\n",
      "\n",
      "VALIDATION RESULTS\n",
      "Loss: 1.2905786037445068\n",
      "Accuracy: 0.6413110698824984\n",
      "MCC: 0.5206142495806663\n",
      "Macro F1: 0.2536987004936765\n",
      "Macro Precision: 0.32770323099242876\n",
      "Macro Recall: 0.2524092421451421\n",
      "Micro F1: 0.6413110698824984\n",
      "Micro Precision: 0.6413110698824984\n",
      "Micro Recall: 0.6413110698824984\n",
      "--------------------------------------------------\n",
      "EPOCH N. 2\n"
     ]
    },
    {
     "name": "stderr",
     "output_type": "stream",
     "text": [
      "221it [01:30,  2.45it/s]\n"
     ]
    },
    {
     "name": "stdout",
     "output_type": "stream",
     "text": [
      "\n",
      "TRAIN RESULTS\n",
      "Loss: 1.1133419650172756\n",
      "Accuracy: 0.6451926063995029\n",
      "MCC: 0.53504209881822\n",
      "Macro F1: 0.36791290701847884\n",
      "Macro Precision: 0.5040984537483358\n",
      "Macro Recall: 0.3464777952119981\n",
      "Micro F1: 0.6451926063995029\n",
      "Micro Precision: 0.6451926063995029\n",
      "Micro Recall: 0.6451926063995029\n",
      "\n",
      "VALIDATION RESULTS\n",
      "Loss: 0.9031063914299011\n",
      "Accuracy: 0.7213976499690785\n",
      "MCC: 0.6315017990143218\n",
      "Macro F1: 0.45970372665929743\n",
      "Macro Precision: 0.643342287292045\n",
      "Macro Recall: 0.4196101437600426\n",
      "Micro F1: 0.7213976499690785\n",
      "Micro Precision: 0.7213976499690785\n",
      "Micro Recall: 0.7213976499690785\n",
      "--------------------------------------------------\n",
      "EPOCH N. 3\n"
     ]
    },
    {
     "name": "stderr",
     "output_type": "stream",
     "text": [
      "221it [01:28,  2.50it/s]\n"
     ]
    },
    {
     "name": "stdout",
     "output_type": "stream",
     "text": [
      "\n",
      "TRAIN RESULTS\n",
      "Loss: 0.8580118891745131\n",
      "Accuracy: 0.7108574091332712\n",
      "MCC: 0.6264820560763859\n",
      "Macro F1: 0.5315008291635197\n",
      "Macro Precision: 0.5970189202685601\n",
      "Macro Recall: 0.5002863792087646\n",
      "Micro F1: 0.7108574091332712\n",
      "Micro Precision: 0.7108574091332712\n",
      "Micro Recall: 0.7108574091332712\n",
      "\n",
      "VALIDATION RESULTS\n",
      "Loss: 0.8638221025466919\n",
      "Accuracy: 0.7498453927025356\n",
      "MCC: 0.672923498334731\n",
      "Macro F1: 0.5401077560007345\n",
      "Macro Precision: 0.6410760910961228\n",
      "Macro Recall: 0.518527490760078\n",
      "Micro F1: 0.7498453927025356\n",
      "Micro Precision: 0.7498453927025356\n",
      "Micro Recall: 0.7498453927025356\n",
      "--------------------------------------------------\n",
      "EPOCH N. 4\n"
     ]
    },
    {
     "name": "stderr",
     "output_type": "stream",
     "text": [
      "221it [01:28,  2.49it/s]\n"
     ]
    },
    {
     "name": "stdout",
     "output_type": "stream",
     "text": [
      "\n",
      "TRAIN RESULTS\n",
      "Loss: 0.7468226740128314\n",
      "Accuracy: 0.7371854613233924\n",
      "MCC: 0.6620382545298267\n",
      "Macro F1: 0.5752190435177712\n",
      "Macro Precision: 0.631320567116311\n",
      "Macro Recall: 0.5487905470756049\n",
      "Micro F1: 0.7371854613233922\n",
      "Micro Precision: 0.7371854613233924\n",
      "Micro Recall: 0.7371854613233924\n",
      "\n",
      "VALIDATION RESULTS\n",
      "Loss: 0.9179548621177673\n",
      "Accuracy: 0.7238713667285096\n",
      "MCC: 0.6505531920844215\n",
      "Macro F1: 0.5523073482068888\n",
      "Macro Precision: 0.5458658159306831\n",
      "Macro Recall: 0.5824617015820172\n",
      "Micro F1: 0.7238713667285096\n",
      "Micro Precision: 0.7238713667285096\n",
      "Micro Recall: 0.7238713667285096\n",
      "--------------------------------------------------\n",
      "EPOCH N. 5\n"
     ]
    },
    {
     "name": "stderr",
     "output_type": "stream",
     "text": [
      "221it [01:29,  2.47it/s]\n"
     ]
    },
    {
     "name": "stdout",
     "output_type": "stream",
     "text": [
      "\n",
      "TRAIN RESULTS\n",
      "Loss: 0.6022587782656985\n",
      "Accuracy: 0.7791627834731283\n",
      "MCC: 0.7173903000789191\n",
      "Macro F1: 0.6281309155005735\n",
      "Macro Precision: 0.671925948771042\n",
      "Macro Recall: 0.6038198113226062\n",
      "Micro F1: 0.7791627834731282\n",
      "Micro Precision: 0.7791627834731283\n",
      "Micro Recall: 0.7791627834731283\n",
      "\n",
      "VALIDATION RESULTS\n",
      "Loss: 0.8072178363800049\n",
      "Accuracy: 0.7646876932591218\n",
      "MCC: 0.6942647970703549\n",
      "Macro F1: 0.5577808094876486\n",
      "Macro Precision: 0.6078518718476789\n",
      "Macro Recall: 0.537279183665935\n",
      "Micro F1: 0.7646876932591219\n",
      "Micro Precision: 0.7646876932591218\n",
      "Micro Recall: 0.7646876932591218\n",
      "--------------------------------------------------\n",
      "EPOCH N. 6\n"
     ]
    },
    {
     "name": "stderr",
     "output_type": "stream",
     "text": [
      "221it [01:29,  2.47it/s]\n"
     ]
    },
    {
     "name": "stdout",
     "output_type": "stream",
     "text": [
      "\n",
      "TRAIN RESULTS\n",
      "Loss: 0.5074100058475232\n",
      "Accuracy: 0.811587449518484\n",
      "MCC: 0.759501083494216\n",
      "Macro F1: 0.6762793435183566\n",
      "Macro Precision: 0.727334083169336\n",
      "Macro Recall: 0.6501574278155589\n",
      "Micro F1: 0.8115874495184842\n",
      "Micro Precision: 0.811587449518484\n",
      "Micro Recall: 0.811587449518484\n",
      "\n",
      "VALIDATION RESULTS\n",
      "Loss: 0.8460716605186462\n",
      "Accuracy: 0.738404452690167\n",
      "MCC: 0.6689335804006273\n",
      "Macro F1: 0.5697334810510927\n",
      "Macro Precision: 0.573769743817232\n",
      "Macro Recall: 0.5844938637455842\n",
      "Micro F1: 0.7384044526901669\n",
      "Micro Precision: 0.738404452690167\n",
      "Micro Recall: 0.738404452690167\n",
      "--------------------------------------------------\n",
      "EPOCH N. 7\n"
     ]
    },
    {
     "name": "stderr",
     "output_type": "stream",
     "text": [
      "221it [01:28,  2.51it/s]\n"
     ]
    },
    {
     "name": "stdout",
     "output_type": "stream",
     "text": [
      "\n",
      "TRAIN RESULTS\n",
      "Loss: 0.39071149003114636\n",
      "Accuracy: 0.8494874184529357\n",
      "MCC: 0.8087310969248478\n",
      "Macro F1: 0.7276420516636699\n",
      "Macro Precision: 0.7695581654991586\n",
      "Macro Recall: 0.7063246512507685\n",
      "Micro F1: 0.8494874184529357\n",
      "Micro Precision: 0.8494874184529357\n",
      "Micro Recall: 0.8494874184529357\n",
      "\n",
      "VALIDATION RESULTS\n",
      "Loss: 0.9501634836196899\n",
      "Accuracy: 0.7501546072974644\n",
      "MCC: 0.6791740896804486\n",
      "Macro F1: 0.5682882243233769\n",
      "Macro Precision: 0.5950669194460235\n",
      "Macro Recall: 0.5697648652300678\n",
      "Micro F1: 0.7501546072974644\n",
      "Micro Precision: 0.7501546072974644\n",
      "Micro Recall: 0.7501546072974644\n",
      "Early stopped training\n",
      "--------------------------------------------------\n"
     ]
    },
    {
     "data": {
      "text/html": [
       "Waiting for W&B process to finish... <strong style=\"color:green\">(success).</strong>"
      ],
      "text/plain": [
       "<IPython.core.display.HTML object>"
      ]
     },
     "metadata": {},
     "output_type": "display_data"
    },
    {
     "data": {
      "text/html": [
       "<style>\n",
       "    table.wandb td:nth-child(1) { padding: 0 10px; text-align: left ; width: auto;} td:nth-child(2) {text-align: left ; width: 100%}\n",
       "    .wandb-row { display: flex; flex-direction: row; flex-wrap: wrap; justify-content: flex-start; width: 100% }\n",
       "    .wandb-col { display: flex; flex-direction: column; flex-basis: 100%; flex: 1; padding: 10px; }\n",
       "    </style>\n",
       "<div class=\"wandb-row\"><div class=\"wandb-col\"><h3>Run history:</h3><br/><table class=\"wandb\"><tr><td>Epoch</td><td>▁▂▃▅▆▇█</td></tr><tr><td>Train Loss</td><td>█▅▄▃▂▂▁</td></tr><tr><td>Validation Loss</td><td>█▂▂▃▁▂▃</td></tr></table><br/></div><div class=\"wandb-col\"><h3>Run summary:</h3><br/><table class=\"wandb\"><tr><td>Epoch</td><td>7</td></tr><tr><td>Train Loss</td><td>0.39071</td></tr><tr><td>Validation Loss</td><td>0.95016</td></tr></table><br/></div></div>"
      ],
      "text/plain": [
       "<IPython.core.display.HTML object>"
      ]
     },
     "metadata": {},
     "output_type": "display_data"
    },
    {
     "data": {
      "text/html": [
       " View run <strong style=\"color:#cdcd00\">ToBERT-Trial12</strong> at: <a href='https://wandb.ai/gmarinowandb-8601/RhetoricalRolesClassification-BUILD/runs/7x1py6ob' target=\"_blank\">https://wandb.ai/gmarinowandb-8601/RhetoricalRolesClassification-BUILD/runs/7x1py6ob</a><br/>Synced 5 W&B file(s), 0 media file(s), 0 artifact file(s) and 0 other file(s)"
      ],
      "text/plain": [
       "<IPython.core.display.HTML object>"
      ]
     },
     "metadata": {},
     "output_type": "display_data"
    },
    {
     "data": {
      "text/html": [
       "Find logs at: <code>./wandb/run-20230425_174422-7x1py6ob/logs</code>"
      ],
      "text/plain": [
       "<IPython.core.display.HTML object>"
      ]
     },
     "metadata": {},
     "output_type": "display_data"
    },
    {
     "name": "stderr",
     "output_type": "stream",
     "text": [
      "\u001b[32m[I 2023-04-25 17:56:17,512]\u001b[0m Trial 12 finished with value: 0.8072178363800049 and parameters: {'lr': 6.181602188074174e-05, 'weight_decay': 0.08951544053317802, 'embedding': 'rel', 'transformer_dropout': 0.24608074164135307, 'transformer_dim_feedforward': 631}. Best is trial 12 with value: 0.8072178363800049.\u001b[0m\n"
     ]
    },
    {
     "name": "stdout",
     "output_type": "stream",
     "text": [
      "\n",
      "************************ Starting New Optuna Trial ************************\n",
      "\n"
     ]
    },
    {
     "name": "stderr",
     "output_type": "stream",
     "text": [
      "Some weights of the model checkpoint at nlpaueb/legal-bert-base-uncased were not used when initializing BertForTokenClassification: ['cls.seq_relationship.weight', 'cls.predictions.bias', 'cls.predictions.transform.LayerNorm.bias', 'cls.predictions.decoder.bias', 'cls.predictions.decoder.weight', 'cls.seq_relationship.bias', 'cls.predictions.transform.dense.bias', 'cls.predictions.transform.LayerNorm.weight', 'cls.predictions.transform.dense.weight']\n",
      "- This IS expected if you are initializing BertForTokenClassification from the checkpoint of a model trained on another task or with another architecture (e.g. initializing a BertForSequenceClassification model from a BertForPreTraining model).\n",
      "- This IS NOT expected if you are initializing BertForTokenClassification from the checkpoint of a model that you expect to be exactly identical (initializing a BertForSequenceClassification model from a BertForSequenceClassification model).\n",
      "Some weights of BertForTokenClassification were not initialized from the model checkpoint at nlpaueb/legal-bert-base-uncased and are newly initialized: ['classifier.weight', 'classifier.bias']\n",
      "You should probably TRAIN this model on a down-stream task to be able to use it for predictions and inference.\n"
     ]
    },
    {
     "data": {
      "text/html": [
       "wandb version 0.15.0 is available!  To upgrade, please run:\n",
       " $ pip install wandb --upgrade"
      ],
      "text/plain": [
       "<IPython.core.display.HTML object>"
      ]
     },
     "metadata": {},
     "output_type": "display_data"
    },
    {
     "data": {
      "text/html": [
       "Tracking run with wandb version 0.13.10"
      ],
      "text/plain": [
       "<IPython.core.display.HTML object>"
      ]
     },
     "metadata": {},
     "output_type": "display_data"
    },
    {
     "data": {
      "text/html": [
       "Run data is saved locally in <code>/home/g.marino/Desktop/GA/RhetoricalRolesClassification/BUILD/wandb/run-20230425_175619-fqbrsvg5</code>"
      ],
      "text/plain": [
       "<IPython.core.display.HTML object>"
      ]
     },
     "metadata": {},
     "output_type": "display_data"
    },
    {
     "data": {
      "text/html": [
       "Syncing run <strong><a href='https://wandb.ai/gmarinowandb-8601/RhetoricalRolesClassification-BUILD/runs/fqbrsvg5' target=\"_blank\">ToBERT-Trial13</a></strong> to <a href='https://wandb.ai/gmarinowandb-8601/RhetoricalRolesClassification-BUILD' target=\"_blank\">Weights & Biases</a> (<a href='https://wandb.me/run' target=\"_blank\">docs</a>)<br/>"
      ],
      "text/plain": [
       "<IPython.core.display.HTML object>"
      ]
     },
     "metadata": {},
     "output_type": "display_data"
    },
    {
     "data": {
      "text/html": [
       " View project at <a href='https://wandb.ai/gmarinowandb-8601/RhetoricalRolesClassification-BUILD' target=\"_blank\">https://wandb.ai/gmarinowandb-8601/RhetoricalRolesClassification-BUILD</a>"
      ],
      "text/plain": [
       "<IPython.core.display.HTML object>"
      ]
     },
     "metadata": {},
     "output_type": "display_data"
    },
    {
     "data": {
      "text/html": [
       " View run at <a href='https://wandb.ai/gmarinowandb-8601/RhetoricalRolesClassification-BUILD/runs/fqbrsvg5' target=\"_blank\">https://wandb.ai/gmarinowandb-8601/RhetoricalRolesClassification-BUILD/runs/fqbrsvg5</a>"
      ],
      "text/plain": [
       "<IPython.core.display.HTML object>"
      ]
     },
     "metadata": {},
     "output_type": "display_data"
    },
    {
     "name": "stdout",
     "output_type": "stream",
     "text": [
      "\n",
      "************** Training Started **************\n",
      "\n",
      "EPOCH N. 1\n"
     ]
    },
    {
     "name": "stderr",
     "output_type": "stream",
     "text": [
      "221it [01:30,  2.45it/s]\n"
     ]
    },
    {
     "name": "stdout",
     "output_type": "stream",
     "text": [
      "\n",
      "TRAIN RESULTS\n",
      "Loss: 1.8455283906125375\n",
      "Accuracy: 0.4544113078595837\n",
      "MCC: 0.24689950885803544\n",
      "Macro F1: 0.12808745345295736\n",
      "Macro Precision: 0.19968637766420197\n",
      "Macro Recall: 0.1400850261043381\n",
      "Micro F1: 0.4544113078595837\n",
      "Micro Precision: 0.4544113078595837\n",
      "Micro Recall: 0.4544113078595837\n",
      "\n",
      "VALIDATION RESULTS\n",
      "Loss: 1.4458999633789062\n",
      "Accuracy: 0.5946196660482375\n",
      "MCC: 0.447499511549401\n",
      "Macro F1: 0.21418041326754417\n",
      "Macro Precision: 0.2539160516822388\n",
      "Macro Recall: 0.21753822663903044\n",
      "Micro F1: 0.5946196660482375\n",
      "Micro Precision: 0.5946196660482375\n",
      "Micro Recall: 0.5946196660482375\n",
      "--------------------------------------------------\n",
      "EPOCH N. 2\n"
     ]
    },
    {
     "name": "stderr",
     "output_type": "stream",
     "text": [
      "221it [01:29,  2.46it/s]\n"
     ]
    },
    {
     "name": "stdout",
     "output_type": "stream",
     "text": [
      "\n",
      "TRAIN RESULTS\n",
      "Loss: 1.2520764273216283\n",
      "Accuracy: 0.6338148493320908\n",
      "MCC: 0.5154930828060044\n",
      "Macro F1: 0.28213833284436723\n",
      "Macro Precision: 0.5471648823046469\n",
      "Macro Recall: 0.28167553033346626\n",
      "Micro F1: 0.6338148493320908\n",
      "Micro Precision: 0.6338148493320908\n",
      "Micro Recall: 0.6338148493320908\n",
      "\n",
      "VALIDATION RESULTS\n",
      "Loss: 0.9989206194877625\n",
      "Accuracy: 0.6985157699443414\n",
      "MCC: 0.5993418620377701\n",
      "Macro F1: 0.38851789512583235\n",
      "Macro Precision: 0.5709709445353826\n",
      "Macro Recall: 0.36880115801977953\n",
      "Micro F1: 0.6985157699443414\n",
      "Micro Precision: 0.6985157699443414\n",
      "Micro Recall: 0.6985157699443414\n",
      "--------------------------------------------------\n",
      "EPOCH N. 3\n"
     ]
    },
    {
     "name": "stderr",
     "output_type": "stream",
     "text": [
      "221it [01:30,  2.46it/s]\n"
     ]
    },
    {
     "name": "stdout",
     "output_type": "stream",
     "text": [
      "\n",
      "TRAIN RESULTS\n",
      "Loss: 0.9949983980051532\n",
      "Accuracy: 0.6818499534016775\n",
      "MCC: 0.585093631460493\n",
      "Macro F1: 0.4373948390011136\n",
      "Macro Precision: 0.5722704096490026\n",
      "Macro Recall: 0.4049839215542815\n",
      "Micro F1: 0.6818499534016775\n",
      "Micro Precision: 0.6818499534016775\n",
      "Micro Recall: 0.6818499534016775\n",
      "\n",
      "VALIDATION RESULTS\n",
      "Loss: 0.8697869777679443\n",
      "Accuracy: 0.7300556586270872\n",
      "MCC: 0.6469736251253705\n",
      "Macro F1: 0.5110636635390513\n",
      "Macro Precision: 0.5720672478395404\n",
      "Macro Recall: 0.49368434869433186\n",
      "Micro F1: 0.7300556586270872\n",
      "Micro Precision: 0.7300556586270872\n",
      "Micro Recall: 0.7300556586270872\n",
      "--------------------------------------------------\n",
      "EPOCH N. 4\n"
     ]
    },
    {
     "name": "stderr",
     "output_type": "stream",
     "text": [
      "221it [01:28,  2.50it/s]\n"
     ]
    },
    {
     "name": "stdout",
     "output_type": "stream",
     "text": [
      "\n",
      "TRAIN RESULTS\n",
      "Loss: 0.8700302005892965\n",
      "Accuracy: 0.7125660142901522\n",
      "MCC: 0.6281258114806615\n",
      "Macro F1: 0.5175007285256045\n",
      "Macro Precision: 0.6029901602006631\n",
      "Macro Recall: 0.4859723249039013\n",
      "Micro F1: 0.7125660142901522\n",
      "Micro Precision: 0.7125660142901522\n",
      "Micro Recall: 0.7125660142901522\n",
      "\n",
      "VALIDATION RESULTS\n",
      "Loss: 0.8528632521629333\n",
      "Accuracy: 0.7390228818800247\n",
      "MCC: 0.6590491969573562\n",
      "Macro F1: 0.5420561598844669\n",
      "Macro Precision: 0.5902836520530846\n",
      "Macro Recall: 0.5234146491225672\n",
      "Micro F1: 0.7390228818800247\n",
      "Micro Precision: 0.7390228818800247\n",
      "Micro Recall: 0.7390228818800247\n",
      "--------------------------------------------------\n",
      "EPOCH N. 5\n"
     ]
    },
    {
     "name": "stderr",
     "output_type": "stream",
     "text": [
      "221it [01:29,  2.46it/s]\n"
     ]
    },
    {
     "name": "stdout",
     "output_type": "stream",
     "text": [
      "\n",
      "TRAIN RESULTS\n",
      "Loss: 0.7957478215521817\n",
      "Accuracy: 0.7276716371543958\n",
      "MCC: 0.6489192173708141\n",
      "Macro F1: 0.5462832745632664\n",
      "Macro Precision: 0.6102160769025872\n",
      "Macro Recall: 0.519653912507973\n",
      "Micro F1: 0.7276716371543958\n",
      "Micro Precision: 0.7276716371543958\n",
      "Micro Recall: 0.7276716371543958\n",
      "\n",
      "VALIDATION RESULTS\n",
      "Loss: 0.8604857325553894\n",
      "Accuracy: 0.7414965986394558\n",
      "MCC: 0.662026824429379\n",
      "Macro F1: 0.5298758697931689\n",
      "Macro Precision: 0.6076369840272577\n",
      "Macro Recall: 0.5090076770997498\n",
      "Micro F1: 0.7414965986394558\n",
      "Micro Precision: 0.7414965986394558\n",
      "Micro Recall: 0.7414965986394558\n",
      "--------------------------------------------------\n",
      "EPOCH N. 6\n"
     ]
    },
    {
     "name": "stderr",
     "output_type": "stream",
     "text": [
      "221it [01:31,  2.40it/s]\n"
     ]
    },
    {
     "name": "stdout",
     "output_type": "stream",
     "text": [
      "\n",
      "TRAIN RESULTS\n",
      "Loss: 0.7430668308049845\n",
      "Accuracy: 0.7435150667909288\n",
      "MCC: 0.6698769117286282\n",
      "Macro F1: 0.5718041406183136\n",
      "Macro Precision: 0.6386056582210885\n",
      "Macro Recall: 0.540547200667668\n",
      "Micro F1: 0.7435150667909288\n",
      "Micro Precision: 0.7435150667909288\n",
      "Micro Recall: 0.7435150667909288\n",
      "\n",
      "VALIDATION RESULTS\n",
      "Loss: 0.9041433334350586\n",
      "Accuracy: 0.7319109461966605\n",
      "MCC: 0.6521042131517838\n",
      "Macro F1: 0.5388483979193835\n",
      "Macro Precision: 0.653754692015154\n",
      "Macro Recall: 0.5349789403034755\n",
      "Micro F1: 0.7319109461966604\n",
      "Micro Precision: 0.7319109461966605\n",
      "Micro Recall: 0.7319109461966605\n",
      "Early stopped training\n",
      "--------------------------------------------------\n"
     ]
    },
    {
     "data": {
      "text/html": [
       "Waiting for W&B process to finish... <strong style=\"color:green\">(success).</strong>"
      ],
      "text/plain": [
       "<IPython.core.display.HTML object>"
      ]
     },
     "metadata": {},
     "output_type": "display_data"
    },
    {
     "data": {
      "text/html": [
       "<style>\n",
       "    table.wandb td:nth-child(1) { padding: 0 10px; text-align: left ; width: auto;} td:nth-child(2) {text-align: left ; width: 100%}\n",
       "    .wandb-row { display: flex; flex-direction: row; flex-wrap: wrap; justify-content: flex-start; width: 100% }\n",
       "    .wandb-col { display: flex; flex-direction: column; flex-basis: 100%; flex: 1; padding: 10px; }\n",
       "    </style>\n",
       "<div class=\"wandb-row\"><div class=\"wandb-col\"><h3>Run history:</h3><br/><table class=\"wandb\"><tr><td>Epoch</td><td>▁▂▄▅▇█</td></tr><tr><td>Train Loss</td><td>█▄▃▂▁▁</td></tr><tr><td>Validation Loss</td><td>█▃▁▁▁▂</td></tr></table><br/></div><div class=\"wandb-col\"><h3>Run summary:</h3><br/><table class=\"wandb\"><tr><td>Epoch</td><td>6</td></tr><tr><td>Train Loss</td><td>0.74307</td></tr><tr><td>Validation Loss</td><td>0.90414</td></tr></table><br/></div></div>"
      ],
      "text/plain": [
       "<IPython.core.display.HTML object>"
      ]
     },
     "metadata": {},
     "output_type": "display_data"
    },
    {
     "data": {
      "text/html": [
       " View run <strong style=\"color:#cdcd00\">ToBERT-Trial13</strong> at: <a href='https://wandb.ai/gmarinowandb-8601/RhetoricalRolesClassification-BUILD/runs/fqbrsvg5' target=\"_blank\">https://wandb.ai/gmarinowandb-8601/RhetoricalRolesClassification-BUILD/runs/fqbrsvg5</a><br/>Synced 5 W&B file(s), 0 media file(s), 0 artifact file(s) and 0 other file(s)"
      ],
      "text/plain": [
       "<IPython.core.display.HTML object>"
      ]
     },
     "metadata": {},
     "output_type": "display_data"
    },
    {
     "data": {
      "text/html": [
       "Find logs at: <code>./wandb/run-20230425_175619-fqbrsvg5/logs</code>"
      ],
      "text/plain": [
       "<IPython.core.display.HTML object>"
      ]
     },
     "metadata": {},
     "output_type": "display_data"
    },
    {
     "name": "stderr",
     "output_type": "stream",
     "text": [
      "\u001b[32m[I 2023-04-25 18:06:43,005]\u001b[0m Trial 13 finished with value: 0.8528632521629333 and parameters: {'lr': 1.2960328349657534e-05, 'weight_decay': 0.08489958570355999, 'embedding': 'rel', 'transformer_dropout': 0.1938129604203731, 'transformer_dim_feedforward': 988}. Best is trial 12 with value: 0.8072178363800049.\u001b[0m\n"
     ]
    },
    {
     "name": "stdout",
     "output_type": "stream",
     "text": [
      "\n",
      "************************ Starting New Optuna Trial ************************\n",
      "\n"
     ]
    },
    {
     "name": "stderr",
     "output_type": "stream",
     "text": [
      "Some weights of the model checkpoint at nlpaueb/legal-bert-base-uncased were not used when initializing BertForTokenClassification: ['cls.seq_relationship.weight', 'cls.predictions.bias', 'cls.predictions.transform.LayerNorm.bias', 'cls.predictions.decoder.bias', 'cls.predictions.decoder.weight', 'cls.seq_relationship.bias', 'cls.predictions.transform.dense.bias', 'cls.predictions.transform.LayerNorm.weight', 'cls.predictions.transform.dense.weight']\n",
      "- This IS expected if you are initializing BertForTokenClassification from the checkpoint of a model trained on another task or with another architecture (e.g. initializing a BertForSequenceClassification model from a BertForPreTraining model).\n",
      "- This IS NOT expected if you are initializing BertForTokenClassification from the checkpoint of a model that you expect to be exactly identical (initializing a BertForSequenceClassification model from a BertForSequenceClassification model).\n",
      "Some weights of BertForTokenClassification were not initialized from the model checkpoint at nlpaueb/legal-bert-base-uncased and are newly initialized: ['classifier.weight', 'classifier.bias']\n",
      "You should probably TRAIN this model on a down-stream task to be able to use it for predictions and inference.\n"
     ]
    },
    {
     "data": {
      "text/html": [
       "wandb version 0.15.0 is available!  To upgrade, please run:\n",
       " $ pip install wandb --upgrade"
      ],
      "text/plain": [
       "<IPython.core.display.HTML object>"
      ]
     },
     "metadata": {},
     "output_type": "display_data"
    },
    {
     "data": {
      "text/html": [
       "Tracking run with wandb version 0.13.10"
      ],
      "text/plain": [
       "<IPython.core.display.HTML object>"
      ]
     },
     "metadata": {},
     "output_type": "display_data"
    },
    {
     "data": {
      "text/html": [
       "Run data is saved locally in <code>/home/g.marino/Desktop/GA/RhetoricalRolesClassification/BUILD/wandb/run-20230425_180644-u911drnq</code>"
      ],
      "text/plain": [
       "<IPython.core.display.HTML object>"
      ]
     },
     "metadata": {},
     "output_type": "display_data"
    },
    {
     "data": {
      "text/html": [
       "Syncing run <strong><a href='https://wandb.ai/gmarinowandb-8601/RhetoricalRolesClassification-BUILD/runs/u911drnq' target=\"_blank\">ToBERT-Trial14</a></strong> to <a href='https://wandb.ai/gmarinowandb-8601/RhetoricalRolesClassification-BUILD' target=\"_blank\">Weights & Biases</a> (<a href='https://wandb.me/run' target=\"_blank\">docs</a>)<br/>"
      ],
      "text/plain": [
       "<IPython.core.display.HTML object>"
      ]
     },
     "metadata": {},
     "output_type": "display_data"
    },
    {
     "data": {
      "text/html": [
       " View project at <a href='https://wandb.ai/gmarinowandb-8601/RhetoricalRolesClassification-BUILD' target=\"_blank\">https://wandb.ai/gmarinowandb-8601/RhetoricalRolesClassification-BUILD</a>"
      ],
      "text/plain": [
       "<IPython.core.display.HTML object>"
      ]
     },
     "metadata": {},
     "output_type": "display_data"
    },
    {
     "data": {
      "text/html": [
       " View run at <a href='https://wandb.ai/gmarinowandb-8601/RhetoricalRolesClassification-BUILD/runs/u911drnq' target=\"_blank\">https://wandb.ai/gmarinowandb-8601/RhetoricalRolesClassification-BUILD/runs/u911drnq</a>"
      ],
      "text/plain": [
       "<IPython.core.display.HTML object>"
      ]
     },
     "metadata": {},
     "output_type": "display_data"
    },
    {
     "name": "stdout",
     "output_type": "stream",
     "text": [
      "\n",
      "************** Training Started **************\n",
      "\n",
      "EPOCH N. 1\n"
     ]
    },
    {
     "name": "stderr",
     "output_type": "stream",
     "text": [
      "221it [01:33,  2.36it/s]\n"
     ]
    },
    {
     "name": "stdout",
     "output_type": "stream",
     "text": [
      "\n",
      "TRAIN RESULTS\n",
      "Loss: 1.5014873856333046\n",
      "Accuracy: 0.5646163404784095\n",
      "MCC: 0.4179997435007622\n",
      "Macro F1: 0.23132545443817912\n",
      "Macro Precision: 0.2817184906193742\n",
      "Macro Recall: 0.2336223299629164\n",
      "Micro F1: 0.5646163404784095\n",
      "Micro Precision: 0.5646163404784095\n",
      "Micro Recall: 0.5646163404784095\n",
      "\n",
      "VALIDATION RESULTS\n",
      "Loss: 1.2469425201416016\n",
      "Accuracy: 0.6153370439084724\n",
      "MCC: 0.4850544768730835\n",
      "Macro F1: 0.26902625739969743\n",
      "Macro Precision: 0.38473998603130266\n",
      "Macro Recall: 0.26747256580742973\n",
      "Micro F1: 0.6153370439084724\n",
      "Micro Precision: 0.6153370439084724\n",
      "Micro Recall: 0.6153370439084724\n",
      "--------------------------------------------------\n",
      "EPOCH N. 2\n"
     ]
    },
    {
     "name": "stderr",
     "output_type": "stream",
     "text": [
      "221it [01:33,  2.37it/s]\n"
     ]
    },
    {
     "name": "stdout",
     "output_type": "stream",
     "text": [
      "\n",
      "TRAIN RESULTS\n",
      "Loss: 1.0172103710843428\n",
      "Accuracy: 0.6639484311898105\n",
      "MCC: 0.5631540341244453\n",
      "Macro F1: 0.4535460957933992\n",
      "Macro Precision: 0.5342260482896432\n",
      "Macro Recall: 0.42443661168462465\n",
      "Micro F1: 0.6639484311898105\n",
      "Micro Precision: 0.6639484311898105\n",
      "Micro Recall: 0.6639484311898105\n",
      "\n",
      "VALIDATION RESULTS\n",
      "Loss: 0.927956759929657\n",
      "Accuracy: 0.7192331478045764\n",
      "MCC: 0.6348111222212833\n",
      "Macro F1: 0.49057425127629234\n",
      "Macro Precision: 0.5482778079977018\n",
      "Macro Recall: 0.5069883942110043\n",
      "Micro F1: 0.7192331478045764\n",
      "Micro Precision: 0.7192331478045764\n",
      "Micro Recall: 0.7192331478045764\n",
      "--------------------------------------------------\n",
      "EPOCH N. 3\n"
     ]
    },
    {
     "name": "stderr",
     "output_type": "stream",
     "text": [
      "221it [01:34,  2.34it/s]\n"
     ]
    },
    {
     "name": "stdout",
     "output_type": "stream",
     "text": [
      "\n",
      "TRAIN RESULTS\n",
      "Loss: 0.784141512275821\n",
      "Accuracy: 0.7288365952159056\n",
      "MCC: 0.6508137294814468\n",
      "Macro F1: 0.5509375265876655\n",
      "Macro Precision: 0.6027649369166391\n",
      "Macro Recall: 0.5280603842805622\n",
      "Micro F1: 0.7288365952159056\n",
      "Micro Precision: 0.7288365952159056\n",
      "Micro Recall: 0.7288365952159056\n",
      "\n",
      "VALIDATION RESULTS\n",
      "Loss: 0.8495067954063416\n",
      "Accuracy: 0.7346938775510204\n",
      "MCC: 0.6538664043761274\n",
      "Macro F1: 0.5149324827972723\n",
      "Macro Precision: 0.569544554372559\n",
      "Macro Recall: 0.4986998026104122\n",
      "Micro F1: 0.7346938775510203\n",
      "Micro Precision: 0.7346938775510204\n",
      "Micro Recall: 0.7346938775510204\n",
      "--------------------------------------------------\n",
      "EPOCH N. 4\n"
     ]
    },
    {
     "name": "stderr",
     "output_type": "stream",
     "text": [
      "221it [01:35,  2.32it/s]\n"
     ]
    },
    {
     "name": "stdout",
     "output_type": "stream",
     "text": [
      "\n",
      "TRAIN RESULTS\n",
      "Loss: 0.6461734987491936\n",
      "Accuracy: 0.768484001242622\n",
      "MCC: 0.7030610677629493\n",
      "Macro F1: 0.609047847699487\n",
      "Macro Precision: 0.6739025935172516\n",
      "Macro Recall: 0.5806837189013474\n",
      "Micro F1: 0.768484001242622\n",
      "Micro Precision: 0.768484001242622\n",
      "Micro Recall: 0.768484001242622\n",
      "\n",
      "VALIDATION RESULTS\n",
      "Loss: 0.7874695062637329\n",
      "Accuracy: 0.766852195423624\n",
      "MCC: 0.696992520414249\n",
      "Macro F1: 0.5605922119201701\n",
      "Macro Precision: 0.5945685206975526\n",
      "Macro Recall: 0.5565063395591211\n",
      "Micro F1: 0.7668521954236239\n",
      "Micro Precision: 0.766852195423624\n",
      "Micro Recall: 0.766852195423624\n",
      "--------------------------------------------------\n",
      "EPOCH N. 5\n"
     ]
    },
    {
     "name": "stderr",
     "output_type": "stream",
     "text": [
      "221it [01:35,  2.31it/s]\n"
     ]
    },
    {
     "name": "stdout",
     "output_type": "stream",
     "text": [
      "\n",
      "TRAIN RESULTS\n",
      "Loss: 0.5244792011730811\n",
      "Accuracy: 0.8048306927617273\n",
      "MCC: 0.7506342089720576\n",
      "Macro F1: 0.6637990619027678\n",
      "Macro Precision: 0.747599345347333\n",
      "Macro Recall: 0.6368603009351115\n",
      "Micro F1: 0.8048306927617273\n",
      "Micro Precision: 0.8048306927617273\n",
      "Micro Recall: 0.8048306927617273\n",
      "\n",
      "VALIDATION RESULTS\n",
      "Loss: 0.8510818481445312\n",
      "Accuracy: 0.74860853432282\n",
      "MCC: 0.6733730609517276\n",
      "Macro F1: 0.575319083606857\n",
      "Macro Precision: 0.6121417988541116\n",
      "Macro Recall: 0.5617418717148921\n",
      "Micro F1: 0.74860853432282\n",
      "Micro Precision: 0.74860853432282\n",
      "Micro Recall: 0.74860853432282\n",
      "--------------------------------------------------\n",
      "EPOCH N. 6\n"
     ]
    },
    {
     "name": "stderr",
     "output_type": "stream",
     "text": [
      "221it [01:33,  2.36it/s]\n"
     ]
    },
    {
     "name": "stdout",
     "output_type": "stream",
     "text": [
      "\n",
      "TRAIN RESULTS\n",
      "Loss: 0.409339315110472\n",
      "Accuracy: 0.8363622242932588\n",
      "MCC: 0.7918058835130297\n",
      "Macro F1: 0.711883800145747\n",
      "Macro Precision: 0.7774818531596347\n",
      "Macro Recall: 0.6880958550192106\n",
      "Micro F1: 0.8363622242932588\n",
      "Micro Precision: 0.8363622242932588\n",
      "Micro Recall: 0.8363622242932588\n",
      "\n",
      "VALIDATION RESULTS\n",
      "Loss: 0.8219801187515259\n",
      "Accuracy: 0.7733457019171305\n",
      "MCC: 0.705412444061615\n",
      "Macro F1: 0.5763983685848095\n",
      "Macro Precision: 0.6271101812774711\n",
      "Macro Recall: 0.5639562859372647\n",
      "Micro F1: 0.7733457019171305\n",
      "Micro Precision: 0.7733457019171305\n",
      "Micro Recall: 0.7733457019171305\n",
      "Early stopped training\n",
      "--------------------------------------------------\n"
     ]
    },
    {
     "data": {
      "text/html": [
       "Waiting for W&B process to finish... <strong style=\"color:green\">(success).</strong>"
      ],
      "text/plain": [
       "<IPython.core.display.HTML object>"
      ]
     },
     "metadata": {},
     "output_type": "display_data"
    },
    {
     "data": {
      "application/vnd.jupyter.widget-view+json": {
       "model_id": "ba49f90695624cae8e7e8833ae4f5de7",
       "version_major": 2,
       "version_minor": 0
      },
      "text/plain": [
       "VBox(children=(Label(value='0.005 MB of 0.005 MB uploaded (0.000 MB deduped)\\r'), FloatProgress(value=1.0, max…"
      ]
     },
     "metadata": {},
     "output_type": "display_data"
    },
    {
     "data": {
      "text/html": [
       "<style>\n",
       "    table.wandb td:nth-child(1) { padding: 0 10px; text-align: left ; width: auto;} td:nth-child(2) {text-align: left ; width: 100%}\n",
       "    .wandb-row { display: flex; flex-direction: row; flex-wrap: wrap; justify-content: flex-start; width: 100% }\n",
       "    .wandb-col { display: flex; flex-direction: column; flex-basis: 100%; flex: 1; padding: 10px; }\n",
       "    </style>\n",
       "<div class=\"wandb-row\"><div class=\"wandb-col\"><h3>Run history:</h3><br/><table class=\"wandb\"><tr><td>Epoch</td><td>▁▂▄▅▇█</td></tr><tr><td>Train Loss</td><td>█▅▃▃▂▁</td></tr><tr><td>Validation Loss</td><td>█▃▂▁▂▂</td></tr></table><br/></div><div class=\"wandb-col\"><h3>Run summary:</h3><br/><table class=\"wandb\"><tr><td>Epoch</td><td>6</td></tr><tr><td>Train Loss</td><td>0.40934</td></tr><tr><td>Validation Loss</td><td>0.82198</td></tr></table><br/></div></div>"
      ],
      "text/plain": [
       "<IPython.core.display.HTML object>"
      ]
     },
     "metadata": {},
     "output_type": "display_data"
    },
    {
     "data": {
      "text/html": [
       " View run <strong style=\"color:#cdcd00\">ToBERT-Trial14</strong> at: <a href='https://wandb.ai/gmarinowandb-8601/RhetoricalRolesClassification-BUILD/runs/u911drnq' target=\"_blank\">https://wandb.ai/gmarinowandb-8601/RhetoricalRolesClassification-BUILD/runs/u911drnq</a><br/>Synced 5 W&B file(s), 0 media file(s), 0 artifact file(s) and 0 other file(s)"
      ],
      "text/plain": [
       "<IPython.core.display.HTML object>"
      ]
     },
     "metadata": {},
     "output_type": "display_data"
    },
    {
     "data": {
      "text/html": [
       "Find logs at: <code>./wandb/run-20230425_180644-u911drnq/logs</code>"
      ],
      "text/plain": [
       "<IPython.core.display.HTML object>"
      ]
     },
     "metadata": {},
     "output_type": "display_data"
    },
    {
     "name": "stderr",
     "output_type": "stream",
     "text": [
      "\u001b[32m[I 2023-04-25 18:17:35,995]\u001b[0m Trial 14 finished with value: 0.7874695062637329 and parameters: {'lr': 7.544257211555746e-05, 'weight_decay': 0.08363287013131492, 'embedding': 'rel', 'transformer_dropout': 0.13346778353454997, 'transformer_dim_feedforward': 968}. Best is trial 14 with value: 0.7874695062637329.\u001b[0m\n"
     ]
    },
    {
     "name": "stdout",
     "output_type": "stream",
     "text": [
      "\n",
      "************************ Starting New Optuna Trial ************************\n",
      "\n"
     ]
    },
    {
     "name": "stderr",
     "output_type": "stream",
     "text": [
      "Some weights of the model checkpoint at nlpaueb/legal-bert-base-uncased were not used when initializing BertForTokenClassification: ['cls.seq_relationship.weight', 'cls.predictions.bias', 'cls.predictions.transform.LayerNorm.bias', 'cls.predictions.decoder.bias', 'cls.predictions.decoder.weight', 'cls.seq_relationship.bias', 'cls.predictions.transform.dense.bias', 'cls.predictions.transform.LayerNorm.weight', 'cls.predictions.transform.dense.weight']\n",
      "- This IS expected if you are initializing BertForTokenClassification from the checkpoint of a model trained on another task or with another architecture (e.g. initializing a BertForSequenceClassification model from a BertForPreTraining model).\n",
      "- This IS NOT expected if you are initializing BertForTokenClassification from the checkpoint of a model that you expect to be exactly identical (initializing a BertForSequenceClassification model from a BertForSequenceClassification model).\n",
      "Some weights of BertForTokenClassification were not initialized from the model checkpoint at nlpaueb/legal-bert-base-uncased and are newly initialized: ['classifier.weight', 'classifier.bias']\n",
      "You should probably TRAIN this model on a down-stream task to be able to use it for predictions and inference.\n"
     ]
    },
    {
     "data": {
      "text/html": [
       "wandb version 0.15.0 is available!  To upgrade, please run:\n",
       " $ pip install wandb --upgrade"
      ],
      "text/plain": [
       "<IPython.core.display.HTML object>"
      ]
     },
     "metadata": {},
     "output_type": "display_data"
    },
    {
     "data": {
      "text/html": [
       "Tracking run with wandb version 0.13.10"
      ],
      "text/plain": [
       "<IPython.core.display.HTML object>"
      ]
     },
     "metadata": {},
     "output_type": "display_data"
    },
    {
     "data": {
      "text/html": [
       "Run data is saved locally in <code>/home/g.marino/Desktop/GA/RhetoricalRolesClassification/BUILD/wandb/run-20230425_181737-qvy8e2gf</code>"
      ],
      "text/plain": [
       "<IPython.core.display.HTML object>"
      ]
     },
     "metadata": {},
     "output_type": "display_data"
    },
    {
     "data": {
      "text/html": [
       "Syncing run <strong><a href='https://wandb.ai/gmarinowandb-8601/RhetoricalRolesClassification-BUILD/runs/qvy8e2gf' target=\"_blank\">ToBERT-Trial15</a></strong> to <a href='https://wandb.ai/gmarinowandb-8601/RhetoricalRolesClassification-BUILD' target=\"_blank\">Weights & Biases</a> (<a href='https://wandb.me/run' target=\"_blank\">docs</a>)<br/>"
      ],
      "text/plain": [
       "<IPython.core.display.HTML object>"
      ]
     },
     "metadata": {},
     "output_type": "display_data"
    },
    {
     "data": {
      "text/html": [
       " View project at <a href='https://wandb.ai/gmarinowandb-8601/RhetoricalRolesClassification-BUILD' target=\"_blank\">https://wandb.ai/gmarinowandb-8601/RhetoricalRolesClassification-BUILD</a>"
      ],
      "text/plain": [
       "<IPython.core.display.HTML object>"
      ]
     },
     "metadata": {},
     "output_type": "display_data"
    },
    {
     "data": {
      "text/html": [
       " View run at <a href='https://wandb.ai/gmarinowandb-8601/RhetoricalRolesClassification-BUILD/runs/qvy8e2gf' target=\"_blank\">https://wandb.ai/gmarinowandb-8601/RhetoricalRolesClassification-BUILD/runs/qvy8e2gf</a>"
      ],
      "text/plain": [
       "<IPython.core.display.HTML object>"
      ]
     },
     "metadata": {},
     "output_type": "display_data"
    },
    {
     "name": "stdout",
     "output_type": "stream",
     "text": [
      "\n",
      "************** Training Started **************\n",
      "\n",
      "EPOCH N. 1\n"
     ]
    },
    {
     "name": "stderr",
     "output_type": "stream",
     "text": [
      "221it [01:34,  2.33it/s]\n"
     ]
    },
    {
     "name": "stdout",
     "output_type": "stream",
     "text": [
      "\n",
      "TRAIN RESULTS\n",
      "Loss: 1.4897250214852897\n",
      "Accuracy: 0.5482680956818888\n",
      "MCC: 0.39613217756590535\n",
      "Macro F1: 0.23288823305792195\n",
      "Macro Precision: 0.32867265043504\n",
      "Macro Recall: 0.22778746491119767\n",
      "Micro F1: 0.5482680956818888\n",
      "Micro Precision: 0.5482680956818888\n",
      "Micro Recall: 0.5482680956818888\n",
      "\n",
      "VALIDATION RESULTS\n",
      "Loss: 1.0736353397369385\n",
      "Accuracy: 0.6654298082869512\n",
      "MCC: 0.5589854625428607\n",
      "Macro F1: 0.3531597196171858\n",
      "Macro Precision: 0.4456481096949627\n",
      "Macro Recall: 0.34793285565410864\n",
      "Micro F1: 0.6654298082869512\n",
      "Micro Precision: 0.6654298082869512\n",
      "Micro Recall: 0.6654298082869512\n",
      "--------------------------------------------------\n",
      "EPOCH N. 2\n"
     ]
    },
    {
     "name": "stderr",
     "output_type": "stream",
     "text": [
      "221it [01:35,  2.32it/s]\n"
     ]
    },
    {
     "name": "stdout",
     "output_type": "stream",
     "text": [
      "\n",
      "TRAIN RESULTS\n",
      "Loss: 1.0416578707112447\n",
      "Accuracy: 0.6622786579683131\n",
      "MCC: 0.5618817862084351\n",
      "Macro F1: 0.4517997636646172\n",
      "Macro Precision: 0.5151097683277311\n",
      "Macro Recall: 0.42897825996352207\n",
      "Micro F1: 0.6622786579683131\n",
      "Micro Precision: 0.6622786579683131\n",
      "Micro Recall: 0.6622786579683131\n",
      "\n",
      "VALIDATION RESULTS\n",
      "Loss: 0.9686769843101501\n",
      "Accuracy: 0.7105751391465677\n",
      "MCC: 0.621330365963133\n",
      "Macro F1: 0.49336977908787544\n",
      "Macro Precision: 0.5696514691132502\n",
      "Macro Recall: 0.4999698891846889\n",
      "Micro F1: 0.7105751391465677\n",
      "Micro Precision: 0.7105751391465677\n",
      "Micro Recall: 0.7105751391465677\n",
      "--------------------------------------------------\n",
      "EPOCH N. 3\n"
     ]
    },
    {
     "name": "stderr",
     "output_type": "stream",
     "text": [
      "221it [01:34,  2.33it/s]\n"
     ]
    },
    {
     "name": "stdout",
     "output_type": "stream",
     "text": [
      "\n",
      "TRAIN RESULTS\n",
      "Loss: 0.8564232238547295\n",
      "Accuracy: 0.7133038210624417\n",
      "MCC: 0.6304389275077077\n",
      "Macro F1: 0.5265361075818036\n",
      "Macro Precision: 0.5804656659902743\n",
      "Macro Recall: 0.5053006225689569\n",
      "Micro F1: 0.7133038210624417\n",
      "Micro Precision: 0.7133038210624417\n",
      "Micro Recall: 0.7133038210624417\n",
      "\n",
      "VALIDATION RESULTS\n",
      "Loss: 0.9420039653778076\n",
      "Accuracy: 0.7198515769944341\n",
      "MCC: 0.6385002910693005\n",
      "Macro F1: 0.525304558203043\n",
      "Macro Precision: 0.546197951796725\n",
      "Macro Recall: 0.5444155245075971\n",
      "Micro F1: 0.7198515769944341\n",
      "Micro Precision: 0.7198515769944341\n",
      "Micro Recall: 0.7198515769944341\n",
      "--------------------------------------------------\n",
      "EPOCH N. 4\n"
     ]
    },
    {
     "name": "stderr",
     "output_type": "stream",
     "text": [
      "221it [01:35,  2.30it/s]\n"
     ]
    },
    {
     "name": "stdout",
     "output_type": "stream",
     "text": [
      "\n",
      "TRAIN RESULTS\n",
      "Loss: 0.7015748824334253\n",
      "Accuracy: 0.7562907735321528\n",
      "MCC: 0.6871939077298937\n",
      "Macro F1: 0.5974567352306251\n",
      "Macro Precision: 0.6677681222806441\n",
      "Macro Recall: 0.5723156386569028\n",
      "Micro F1: 0.7562907735321528\n",
      "Micro Precision: 0.7562907735321528\n",
      "Micro Recall: 0.7562907735321528\n",
      "\n",
      "VALIDATION RESULTS\n",
      "Loss: 0.8535987734794617\n",
      "Accuracy: 0.7377860235003092\n",
      "MCC: 0.6566578702955813\n",
      "Macro F1: 0.5132597492177495\n",
      "Macro Precision: 0.6559647008925664\n",
      "Macro Recall: 0.48859128930798035\n",
      "Micro F1: 0.7377860235003092\n",
      "Micro Precision: 0.7377860235003092\n",
      "Micro Recall: 0.7377860235003092\n",
      "--------------------------------------------------\n",
      "EPOCH N. 5\n"
     ]
    },
    {
     "name": "stderr",
     "output_type": "stream",
     "text": [
      "221it [01:34,  2.34it/s]\n"
     ]
    },
    {
     "name": "stdout",
     "output_type": "stream",
     "text": [
      "\n",
      "TRAIN RESULTS\n",
      "Loss: 0.5834707498752694\n",
      "Accuracy: 0.7871621621621622\n",
      "MCC: 0.7279504923020894\n",
      "Macro F1: 0.6401962034379752\n",
      "Macro Precision: 0.7313253720602563\n",
      "Macro Recall: 0.6133633225389459\n",
      "Micro F1: 0.7871621621621622\n",
      "Micro Precision: 0.7871621621621622\n",
      "Micro Recall: 0.7871621621621622\n",
      "\n",
      "VALIDATION RESULTS\n",
      "Loss: 0.8261297941207886\n",
      "Accuracy: 0.7557204700061843\n",
      "MCC: 0.68207419409016\n",
      "Macro F1: 0.56345056700459\n",
      "Macro Precision: 0.6112096512957362\n",
      "Macro Recall: 0.5469635395231404\n",
      "Micro F1: 0.7557204700061843\n",
      "Micro Precision: 0.7557204700061843\n",
      "Micro Recall: 0.7557204700061843\n",
      "--------------------------------------------------\n",
      "EPOCH N. 6\n"
     ]
    },
    {
     "name": "stderr",
     "output_type": "stream",
     "text": [
      "221it [01:35,  2.32it/s]\n"
     ]
    },
    {
     "name": "stdout",
     "output_type": "stream",
     "text": [
      "\n",
      "TRAIN RESULTS\n",
      "Loss: 0.45199624479356393\n",
      "Accuracy: 0.8308480894687791\n",
      "MCC: 0.7844525468202016\n",
      "Macro F1: 0.6965194108259453\n",
      "Macro Precision: 0.7562974759976858\n",
      "Macro Recall: 0.6690408819653452\n",
      "Micro F1: 0.8308480894687791\n",
      "Micro Precision: 0.8308480894687791\n",
      "Micro Recall: 0.8308480894687791\n",
      "\n",
      "VALIDATION RESULTS\n",
      "Loss: 0.9269363880157471\n",
      "Accuracy: 0.7504638218923934\n",
      "MCC: 0.6806550250594696\n",
      "Macro F1: 0.5577066699901376\n",
      "Macro Precision: 0.6293870246122276\n",
      "Macro Recall: 0.5460822272359583\n",
      "Micro F1: 0.7504638218923934\n",
      "Micro Precision: 0.7504638218923934\n",
      "Micro Recall: 0.7504638218923934\n",
      "--------------------------------------------------\n",
      "EPOCH N. 7\n"
     ]
    },
    {
     "name": "stderr",
     "output_type": "stream",
     "text": [
      "221it [01:35,  2.32it/s]\n"
     ]
    },
    {
     "name": "stdout",
     "output_type": "stream",
     "text": [
      "\n",
      "TRAIN RESULTS\n",
      "Loss: 0.3564051188090268\n",
      "Accuracy: 0.8637775706741224\n",
      "MCC: 0.8270909033171486\n",
      "Macro F1: 0.7412269593652004\n",
      "Macro Precision: 0.7978210892167935\n",
      "Macro Recall: 0.7188605360727517\n",
      "Micro F1: 0.8637775706741224\n",
      "Micro Precision: 0.8637775706741224\n",
      "Micro Recall: 0.8637775706741224\n",
      "\n",
      "VALIDATION RESULTS\n",
      "Loss: 0.873011589050293\n",
      "Accuracy: 0.7770562770562771\n",
      "MCC: 0.711758562811103\n",
      "Macro F1: 0.5792193301691454\n",
      "Macro Precision: 0.625074601505738\n",
      "Macro Recall: 0.5774599285212982\n",
      "Micro F1: 0.777056277056277\n",
      "Micro Precision: 0.7770562770562771\n",
      "Micro Recall: 0.7770562770562771\n",
      "Early stopped training\n",
      "--------------------------------------------------\n"
     ]
    },
    {
     "data": {
      "text/html": [
       "Waiting for W&B process to finish... <strong style=\"color:green\">(success).</strong>"
      ],
      "text/plain": [
       "<IPython.core.display.HTML object>"
      ]
     },
     "metadata": {},
     "output_type": "display_data"
    },
    {
     "data": {
      "text/html": [
       "<style>\n",
       "    table.wandb td:nth-child(1) { padding: 0 10px; text-align: left ; width: auto;} td:nth-child(2) {text-align: left ; width: 100%}\n",
       "    .wandb-row { display: flex; flex-direction: row; flex-wrap: wrap; justify-content: flex-start; width: 100% }\n",
       "    .wandb-col { display: flex; flex-direction: column; flex-basis: 100%; flex: 1; padding: 10px; }\n",
       "    </style>\n",
       "<div class=\"wandb-row\"><div class=\"wandb-col\"><h3>Run history:</h3><br/><table class=\"wandb\"><tr><td>Epoch</td><td>▁▂▃▅▆▇█</td></tr><tr><td>Train Loss</td><td>█▅▄▃▂▂▁</td></tr><tr><td>Validation Loss</td><td>█▅▄▂▁▄▂</td></tr></table><br/></div><div class=\"wandb-col\"><h3>Run summary:</h3><br/><table class=\"wandb\"><tr><td>Epoch</td><td>7</td></tr><tr><td>Train Loss</td><td>0.35641</td></tr><tr><td>Validation Loss</td><td>0.87301</td></tr></table><br/></div></div>"
      ],
      "text/plain": [
       "<IPython.core.display.HTML object>"
      ]
     },
     "metadata": {},
     "output_type": "display_data"
    },
    {
     "data": {
      "text/html": [
       " View run <strong style=\"color:#cdcd00\">ToBERT-Trial15</strong> at: <a href='https://wandb.ai/gmarinowandb-8601/RhetoricalRolesClassification-BUILD/runs/qvy8e2gf' target=\"_blank\">https://wandb.ai/gmarinowandb-8601/RhetoricalRolesClassification-BUILD/runs/qvy8e2gf</a><br/>Synced 5 W&B file(s), 0 media file(s), 0 artifact file(s) and 0 other file(s)"
      ],
      "text/plain": [
       "<IPython.core.display.HTML object>"
      ]
     },
     "metadata": {},
     "output_type": "display_data"
    },
    {
     "data": {
      "text/html": [
       "Find logs at: <code>./wandb/run-20230425_181737-qvy8e2gf/logs</code>"
      ],
      "text/plain": [
       "<IPython.core.display.HTML object>"
      ]
     },
     "metadata": {},
     "output_type": "display_data"
    },
    {
     "name": "stderr",
     "output_type": "stream",
     "text": [
      "\u001b[32m[I 2023-04-25 18:30:26,658]\u001b[0m Trial 15 finished with value: 0.8261297941207886 and parameters: {'lr': 9.182307959486604e-05, 'weight_decay': 0.08417804427433409, 'embedding': 'rel', 'transformer_dropout': 0.14875579743056513, 'transformer_dim_feedforward': 993}. Best is trial 14 with value: 0.7874695062637329.\u001b[0m\n"
     ]
    },
    {
     "name": "stdout",
     "output_type": "stream",
     "text": [
      "\n",
      "************************ Starting New Optuna Trial ************************\n",
      "\n"
     ]
    },
    {
     "name": "stderr",
     "output_type": "stream",
     "text": [
      "Some weights of the model checkpoint at nlpaueb/legal-bert-base-uncased were not used when initializing BertForTokenClassification: ['cls.seq_relationship.weight', 'cls.predictions.bias', 'cls.predictions.transform.LayerNorm.bias', 'cls.predictions.decoder.bias', 'cls.predictions.decoder.weight', 'cls.seq_relationship.bias', 'cls.predictions.transform.dense.bias', 'cls.predictions.transform.LayerNorm.weight', 'cls.predictions.transform.dense.weight']\n",
      "- This IS expected if you are initializing BertForTokenClassification from the checkpoint of a model trained on another task or with another architecture (e.g. initializing a BertForSequenceClassification model from a BertForPreTraining model).\n",
      "- This IS NOT expected if you are initializing BertForTokenClassification from the checkpoint of a model that you expect to be exactly identical (initializing a BertForSequenceClassification model from a BertForSequenceClassification model).\n",
      "Some weights of BertForTokenClassification were not initialized from the model checkpoint at nlpaueb/legal-bert-base-uncased and are newly initialized: ['classifier.weight', 'classifier.bias']\n",
      "You should probably TRAIN this model on a down-stream task to be able to use it for predictions and inference.\n"
     ]
    },
    {
     "data": {
      "text/html": [
       "wandb version 0.15.0 is available!  To upgrade, please run:\n",
       " $ pip install wandb --upgrade"
      ],
      "text/plain": [
       "<IPython.core.display.HTML object>"
      ]
     },
     "metadata": {},
     "output_type": "display_data"
    },
    {
     "data": {
      "text/html": [
       "Tracking run with wandb version 0.13.10"
      ],
      "text/plain": [
       "<IPython.core.display.HTML object>"
      ]
     },
     "metadata": {},
     "output_type": "display_data"
    },
    {
     "data": {
      "text/html": [
       "Run data is saved locally in <code>/home/g.marino/Desktop/GA/RhetoricalRolesClassification/BUILD/wandb/run-20230425_183028-unawfdtq</code>"
      ],
      "text/plain": [
       "<IPython.core.display.HTML object>"
      ]
     },
     "metadata": {},
     "output_type": "display_data"
    },
    {
     "data": {
      "text/html": [
       "Syncing run <strong><a href='https://wandb.ai/gmarinowandb-8601/RhetoricalRolesClassification-BUILD/runs/unawfdtq' target=\"_blank\">ToBERT-Trial16</a></strong> to <a href='https://wandb.ai/gmarinowandb-8601/RhetoricalRolesClassification-BUILD' target=\"_blank\">Weights & Biases</a> (<a href='https://wandb.me/run' target=\"_blank\">docs</a>)<br/>"
      ],
      "text/plain": [
       "<IPython.core.display.HTML object>"
      ]
     },
     "metadata": {},
     "output_type": "display_data"
    },
    {
     "data": {
      "text/html": [
       " View project at <a href='https://wandb.ai/gmarinowandb-8601/RhetoricalRolesClassification-BUILD' target=\"_blank\">https://wandb.ai/gmarinowandb-8601/RhetoricalRolesClassification-BUILD</a>"
      ],
      "text/plain": [
       "<IPython.core.display.HTML object>"
      ]
     },
     "metadata": {},
     "output_type": "display_data"
    },
    {
     "data": {
      "text/html": [
       " View run at <a href='https://wandb.ai/gmarinowandb-8601/RhetoricalRolesClassification-BUILD/runs/unawfdtq' target=\"_blank\">https://wandb.ai/gmarinowandb-8601/RhetoricalRolesClassification-BUILD/runs/unawfdtq</a>"
      ],
      "text/plain": [
       "<IPython.core.display.HTML object>"
      ]
     },
     "metadata": {},
     "output_type": "display_data"
    },
    {
     "name": "stdout",
     "output_type": "stream",
     "text": [
      "\n",
      "************** Training Started **************\n",
      "\n",
      "EPOCH N. 1\n"
     ]
    },
    {
     "name": "stderr",
     "output_type": "stream",
     "text": [
      "221it [01:35,  2.31it/s]\n"
     ]
    },
    {
     "name": "stdout",
     "output_type": "stream",
     "text": [
      "\n",
      "TRAIN RESULTS\n",
      "Loss: 2.055996270201325\n",
      "Accuracy: 0.36439888164026096\n",
      "MCC: 0.1074937000777464\n",
      "Macro F1: 0.09140844638536556\n",
      "Macro Precision: 0.10653210640929364\n",
      "Macro Recall: 0.10235813205559434\n",
      "Micro F1: 0.3643988816402609\n",
      "Micro Precision: 0.36439888164026096\n",
      "Micro Recall: 0.36439888164026096\n",
      "\n",
      "VALIDATION RESULTS\n",
      "Loss: 2.722740888595581\n",
      "Accuracy: 0.445578231292517\n",
      "MCC: 0.21632647996350157\n",
      "Macro F1: 0.08544031839742902\n",
      "Macro Precision: 0.07302976058722122\n",
      "Macro Recall: 0.11309949459749975\n",
      "Micro F1: 0.445578231292517\n",
      "Micro Precision: 0.445578231292517\n",
      "Micro Recall: 0.445578231292517\n",
      "--------------------------------------------------\n"
     ]
    },
    {
     "data": {
      "text/html": [
       "Waiting for W&B process to finish... <strong style=\"color:red\">(failed 1).</strong> Press Control-C to abort syncing."
      ],
      "text/plain": [
       "<IPython.core.display.HTML object>"
      ]
     },
     "metadata": {},
     "output_type": "display_data"
    },
    {
     "data": {
      "application/vnd.jupyter.widget-view+json": {
       "model_id": "96e753fa9b4f4862b793ca1b6015119b",
       "version_major": 2,
       "version_minor": 0
      },
      "text/plain": [
       "VBox(children=(Label(value='0.005 MB of 0.005 MB uploaded (0.000 MB deduped)\\r'), FloatProgress(value=1.0, max…"
      ]
     },
     "metadata": {},
     "output_type": "display_data"
    },
    {
     "data": {
      "text/html": [
       "<style>\n",
       "    table.wandb td:nth-child(1) { padding: 0 10px; text-align: left ; width: auto;} td:nth-child(2) {text-align: left ; width: 100%}\n",
       "    .wandb-row { display: flex; flex-direction: row; flex-wrap: wrap; justify-content: flex-start; width: 100% }\n",
       "    .wandb-col { display: flex; flex-direction: column; flex-basis: 100%; flex: 1; padding: 10px; }\n",
       "    </style>\n",
       "<div class=\"wandb-row\"><div class=\"wandb-col\"><h3>Run history:</h3><br/><table class=\"wandb\"><tr><td>Epoch</td><td>▁</td></tr><tr><td>Train Loss</td><td>▁</td></tr><tr><td>Validation Loss</td><td>▁</td></tr></table><br/></div><div class=\"wandb-col\"><h3>Run summary:</h3><br/><table class=\"wandb\"><tr><td>Epoch</td><td>1</td></tr><tr><td>Train Loss</td><td>2.056</td></tr><tr><td>Validation Loss</td><td>2.72274</td></tr></table><br/></div></div>"
      ],
      "text/plain": [
       "<IPython.core.display.HTML object>"
      ]
     },
     "metadata": {},
     "output_type": "display_data"
    },
    {
     "data": {
      "text/html": [
       " View run <strong style=\"color:#cdcd00\">ToBERT-Trial16</strong> at: <a href='https://wandb.ai/gmarinowandb-8601/RhetoricalRolesClassification-BUILD/runs/unawfdtq' target=\"_blank\">https://wandb.ai/gmarinowandb-8601/RhetoricalRolesClassification-BUILD/runs/unawfdtq</a><br/>Synced 5 W&B file(s), 0 media file(s), 0 artifact file(s) and 0 other file(s)"
      ],
      "text/plain": [
       "<IPython.core.display.HTML object>"
      ]
     },
     "metadata": {},
     "output_type": "display_data"
    },
    {
     "data": {
      "text/html": [
       "Find logs at: <code>./wandb/run-20230425_183028-unawfdtq/logs</code>"
      ],
      "text/plain": [
       "<IPython.core.display.HTML object>"
      ]
     },
     "metadata": {},
     "output_type": "display_data"
    },
    {
     "name": "stderr",
     "output_type": "stream",
     "text": [
      "\u001b[32m[I 2023-04-25 18:32:39,126]\u001b[0m Trial 16 pruned. \u001b[0m\n"
     ]
    },
    {
     "name": "stdout",
     "output_type": "stream",
     "text": [
      "\n",
      "************************ Starting New Optuna Trial ************************\n",
      "\n"
     ]
    },
    {
     "name": "stderr",
     "output_type": "stream",
     "text": [
      "Some weights of the model checkpoint at nlpaueb/legal-bert-base-uncased were not used when initializing BertForTokenClassification: ['cls.seq_relationship.weight', 'cls.predictions.bias', 'cls.predictions.transform.LayerNorm.bias', 'cls.predictions.decoder.bias', 'cls.predictions.decoder.weight', 'cls.seq_relationship.bias', 'cls.predictions.transform.dense.bias', 'cls.predictions.transform.LayerNorm.weight', 'cls.predictions.transform.dense.weight']\n",
      "- This IS expected if you are initializing BertForTokenClassification from the checkpoint of a model trained on another task or with another architecture (e.g. initializing a BertForSequenceClassification model from a BertForPreTraining model).\n",
      "- This IS NOT expected if you are initializing BertForTokenClassification from the checkpoint of a model that you expect to be exactly identical (initializing a BertForSequenceClassification model from a BertForSequenceClassification model).\n",
      "Some weights of BertForTokenClassification were not initialized from the model checkpoint at nlpaueb/legal-bert-base-uncased and are newly initialized: ['classifier.weight', 'classifier.bias']\n",
      "You should probably TRAIN this model on a down-stream task to be able to use it for predictions and inference.\n"
     ]
    },
    {
     "data": {
      "text/html": [
       "wandb version 0.15.0 is available!  To upgrade, please run:\n",
       " $ pip install wandb --upgrade"
      ],
      "text/plain": [
       "<IPython.core.display.HTML object>"
      ]
     },
     "metadata": {},
     "output_type": "display_data"
    },
    {
     "data": {
      "text/html": [
       "Tracking run with wandb version 0.13.10"
      ],
      "text/plain": [
       "<IPython.core.display.HTML object>"
      ]
     },
     "metadata": {},
     "output_type": "display_data"
    },
    {
     "data": {
      "text/html": [
       "Run data is saved locally in <code>/home/g.marino/Desktop/GA/RhetoricalRolesClassification/BUILD/wandb/run-20230425_183240-2fih0sdh</code>"
      ],
      "text/plain": [
       "<IPython.core.display.HTML object>"
      ]
     },
     "metadata": {},
     "output_type": "display_data"
    },
    {
     "data": {
      "text/html": [
       "Syncing run <strong><a href='https://wandb.ai/gmarinowandb-8601/RhetoricalRolesClassification-BUILD/runs/2fih0sdh' target=\"_blank\">ToBERT-Trial17</a></strong> to <a href='https://wandb.ai/gmarinowandb-8601/RhetoricalRolesClassification-BUILD' target=\"_blank\">Weights & Biases</a> (<a href='https://wandb.me/run' target=\"_blank\">docs</a>)<br/>"
      ],
      "text/plain": [
       "<IPython.core.display.HTML object>"
      ]
     },
     "metadata": {},
     "output_type": "display_data"
    },
    {
     "data": {
      "text/html": [
       " View project at <a href='https://wandb.ai/gmarinowandb-8601/RhetoricalRolesClassification-BUILD' target=\"_blank\">https://wandb.ai/gmarinowandb-8601/RhetoricalRolesClassification-BUILD</a>"
      ],
      "text/plain": [
       "<IPython.core.display.HTML object>"
      ]
     },
     "metadata": {},
     "output_type": "display_data"
    },
    {
     "data": {
      "text/html": [
       " View run at <a href='https://wandb.ai/gmarinowandb-8601/RhetoricalRolesClassification-BUILD/runs/2fih0sdh' target=\"_blank\">https://wandb.ai/gmarinowandb-8601/RhetoricalRolesClassification-BUILD/runs/2fih0sdh</a>"
      ],
      "text/plain": [
       "<IPython.core.display.HTML object>"
      ]
     },
     "metadata": {},
     "output_type": "display_data"
    },
    {
     "name": "stdout",
     "output_type": "stream",
     "text": [
      "\n",
      "************** Training Started **************\n",
      "\n",
      "EPOCH N. 1\n"
     ]
    },
    {
     "name": "stderr",
     "output_type": "stream",
     "text": [
      "221it [01:37,  2.27it/s]\n"
     ]
    },
    {
     "name": "stdout",
     "output_type": "stream",
     "text": [
      "\n",
      "TRAIN RESULTS\n",
      "Loss: 1.5916506022349741\n",
      "Accuracy: 0.5347545821683752\n",
      "MCC: 0.37348416339264856\n",
      "Macro F1: 0.20169921078233333\n",
      "Macro Precision: 0.31206150263775495\n",
      "Macro Recall: 0.20377032796610545\n",
      "Micro F1: 0.5347545821683752\n",
      "Micro Precision: 0.5347545821683752\n",
      "Micro Recall: 0.5347545821683752\n",
      "\n",
      "VALIDATION RESULTS\n",
      "Loss: 1.1605960130691528\n",
      "Accuracy: 0.6728509585652442\n",
      "MCC: 0.5616513765040266\n",
      "Macro F1: 0.3615902988211127\n",
      "Macro Precision: 0.5633267331428725\n",
      "Macro Recall: 0.3261448617050602\n",
      "Micro F1: 0.6728509585652442\n",
      "Micro Precision: 0.6728509585652442\n",
      "Micro Recall: 0.6728509585652442\n",
      "--------------------------------------------------\n",
      "EPOCH N. 2\n"
     ]
    },
    {
     "name": "stderr",
     "output_type": "stream",
     "text": [
      "221it [01:35,  2.30it/s]\n"
     ]
    },
    {
     "name": "stdout",
     "output_type": "stream",
     "text": [
      "\n",
      "TRAIN RESULTS\n",
      "Loss: 0.9822096416044019\n",
      "Accuracy: 0.6803743398570985\n",
      "MCC: 0.5847357658839434\n",
      "Macro F1: 0.4853232491868717\n",
      "Macro Precision: 0.5679463576057934\n",
      "Macro Recall: 0.4520528951409796\n",
      "Micro F1: 0.6803743398570985\n",
      "Micro Precision: 0.6803743398570985\n",
      "Micro Recall: 0.6803743398570985\n",
      "\n",
      "VALIDATION RESULTS\n",
      "Loss: 0.9035639762878418\n",
      "Accuracy: 0.7028447742733457\n",
      "MCC: 0.6218103843398901\n",
      "Macro F1: 0.5090495402388009\n",
      "Macro Precision: 0.5557484982319\n",
      "Macro Recall: 0.5233502169947101\n",
      "Micro F1: 0.7028447742733457\n",
      "Micro Precision: 0.7028447742733457\n",
      "Micro Recall: 0.7028447742733457\n",
      "--------------------------------------------------\n",
      "EPOCH N. 3\n"
     ]
    },
    {
     "name": "stderr",
     "output_type": "stream",
     "text": [
      "221it [01:35,  2.32it/s]\n"
     ]
    },
    {
     "name": "stdout",
     "output_type": "stream",
     "text": [
      "\n",
      "TRAIN RESULTS\n",
      "Loss: 0.7957255872666027\n",
      "Accuracy: 0.7274774774774775\n",
      "MCC: 0.6492449200801033\n",
      "Macro F1: 0.5619762530765372\n",
      "Macro Precision: 0.6135195901622407\n",
      "Macro Recall: 0.5376375832758142\n",
      "Micro F1: 0.7274774774774775\n",
      "Micro Precision: 0.7274774774774775\n",
      "Micro Recall: 0.7274774774774775\n",
      "\n",
      "VALIDATION RESULTS\n",
      "Loss: 0.8338444232940674\n",
      "Accuracy: 0.7554112554112554\n",
      "MCC: 0.6827528379064539\n",
      "Macro F1: 0.5691405578766443\n",
      "Macro Precision: 0.6284410864105161\n",
      "Macro Recall: 0.5432933595686673\n",
      "Micro F1: 0.7554112554112555\n",
      "Micro Precision: 0.7554112554112554\n",
      "Micro Recall: 0.7554112554112554\n",
      "--------------------------------------------------\n",
      "EPOCH N. 4\n"
     ]
    },
    {
     "name": "stderr",
     "output_type": "stream",
     "text": [
      "221it [01:36,  2.30it/s]\n"
     ]
    },
    {
     "name": "stdout",
     "output_type": "stream",
     "text": [
      "\n",
      "TRAIN RESULTS\n",
      "Loss: 0.6513070158019865\n",
      "Accuracy: 0.7677850264057161\n",
      "MCC: 0.7024423343204872\n",
      "Macro F1: 0.6210734376095399\n",
      "Macro Precision: 0.6648925054210761\n",
      "Macro Recall: 0.5951313565146946\n",
      "Micro F1: 0.7677850264057162\n",
      "Micro Precision: 0.7677850264057161\n",
      "Micro Recall: 0.7677850264057161\n",
      "\n",
      "VALIDATION RESULTS\n",
      "Loss: 0.9030989408493042\n",
      "Accuracy: 0.7343846629560915\n",
      "MCC: 0.6594446718549993\n",
      "Macro F1: 0.5488193834578857\n",
      "Macro Precision: 0.5938083339674107\n",
      "Macro Recall: 0.5522591470193271\n",
      "Micro F1: 0.7343846629560915\n",
      "Micro Precision: 0.7343846629560915\n",
      "Micro Recall: 0.7343846629560915\n",
      "--------------------------------------------------\n",
      "EPOCH N. 5\n"
     ]
    },
    {
     "name": "stderr",
     "output_type": "stream",
     "text": [
      "221it [01:36,  2.30it/s]\n"
     ]
    },
    {
     "name": "stdout",
     "output_type": "stream",
     "text": [
      "\n",
      "TRAIN RESULTS\n",
      "Loss: 0.5260309793425901\n",
      "Accuracy: 0.8058791550170861\n",
      "MCC: 0.7521960987519171\n",
      "Macro F1: 0.6708569570026686\n",
      "Macro Precision: 0.7428902177733275\n",
      "Macro Recall: 0.6424526170494663\n",
      "Micro F1: 0.8058791550170862\n",
      "Micro Precision: 0.8058791550170861\n",
      "Micro Recall: 0.8058791550170861\n",
      "\n",
      "VALIDATION RESULTS\n",
      "Loss: 0.8557164669036865\n",
      "Accuracy: 0.7282003710575139\n",
      "MCC: 0.6553460633295375\n",
      "Macro F1: 0.5620414433226428\n",
      "Macro Precision: 0.5887494736179397\n",
      "Macro Recall: 0.575192699461353\n",
      "Micro F1: 0.7282003710575139\n",
      "Micro Precision: 0.7282003710575139\n",
      "Micro Recall: 0.7282003710575139\n",
      "Early stopped training\n",
      "--------------------------------------------------\n"
     ]
    },
    {
     "data": {
      "text/html": [
       "Waiting for W&B process to finish... <strong style=\"color:green\">(success).</strong>"
      ],
      "text/plain": [
       "<IPython.core.display.HTML object>"
      ]
     },
     "metadata": {},
     "output_type": "display_data"
    },
    {
     "data": {
      "application/vnd.jupyter.widget-view+json": {
       "model_id": "62b40e64f5b84d52b2577275e9e39f35",
       "version_major": 2,
       "version_minor": 0
      },
      "text/plain": [
       "VBox(children=(Label(value='0.005 MB of 0.005 MB uploaded (0.000 MB deduped)\\r'), FloatProgress(value=1.0, max…"
      ]
     },
     "metadata": {},
     "output_type": "display_data"
    },
    {
     "data": {
      "text/html": [
       "<style>\n",
       "    table.wandb td:nth-child(1) { padding: 0 10px; text-align: left ; width: auto;} td:nth-child(2) {text-align: left ; width: 100%}\n",
       "    .wandb-row { display: flex; flex-direction: row; flex-wrap: wrap; justify-content: flex-start; width: 100% }\n",
       "    .wandb-col { display: flex; flex-direction: column; flex-basis: 100%; flex: 1; padding: 10px; }\n",
       "    </style>\n",
       "<div class=\"wandb-row\"><div class=\"wandb-col\"><h3>Run history:</h3><br/><table class=\"wandb\"><tr><td>Epoch</td><td>▁▃▅▆█</td></tr><tr><td>Train Loss</td><td>█▄▃▂▁</td></tr><tr><td>Validation Loss</td><td>█▂▁▂▁</td></tr></table><br/></div><div class=\"wandb-col\"><h3>Run summary:</h3><br/><table class=\"wandb\"><tr><td>Epoch</td><td>5</td></tr><tr><td>Train Loss</td><td>0.52603</td></tr><tr><td>Validation Loss</td><td>0.85572</td></tr></table><br/></div></div>"
      ],
      "text/plain": [
       "<IPython.core.display.HTML object>"
      ]
     },
     "metadata": {},
     "output_type": "display_data"
    },
    {
     "data": {
      "text/html": [
       " View run <strong style=\"color:#cdcd00\">ToBERT-Trial17</strong> at: <a href='https://wandb.ai/gmarinowandb-8601/RhetoricalRolesClassification-BUILD/runs/2fih0sdh' target=\"_blank\">https://wandb.ai/gmarinowandb-8601/RhetoricalRolesClassification-BUILD/runs/2fih0sdh</a><br/>Synced 5 W&B file(s), 0 media file(s), 0 artifact file(s) and 0 other file(s)"
      ],
      "text/plain": [
       "<IPython.core.display.HTML object>"
      ]
     },
     "metadata": {},
     "output_type": "display_data"
    },
    {
     "data": {
      "text/html": [
       "Find logs at: <code>./wandb/run-20230425_183240-2fih0sdh/logs</code>"
      ],
      "text/plain": [
       "<IPython.core.display.HTML object>"
      ]
     },
     "metadata": {},
     "output_type": "display_data"
    },
    {
     "name": "stderr",
     "output_type": "stream",
     "text": [
      "\u001b[32m[I 2023-04-25 18:41:56,915]\u001b[0m Trial 17 finished with value: 0.8338444232940674 and parameters: {'lr': 7.923255650450501e-05, 'weight_decay': 0.08695353200198558, 'embedding': 'rel', 'transformer_dropout': 0.10913937404844122, 'transformer_dim_feedforward': 822}. Best is trial 14 with value: 0.7874695062637329.\u001b[0m\n"
     ]
    },
    {
     "name": "stdout",
     "output_type": "stream",
     "text": [
      "\n",
      "************************ Starting New Optuna Trial ************************\n",
      "\n"
     ]
    },
    {
     "name": "stderr",
     "output_type": "stream",
     "text": [
      "Some weights of the model checkpoint at nlpaueb/legal-bert-base-uncased were not used when initializing BertForTokenClassification: ['cls.seq_relationship.weight', 'cls.predictions.bias', 'cls.predictions.transform.LayerNorm.bias', 'cls.predictions.decoder.bias', 'cls.predictions.decoder.weight', 'cls.seq_relationship.bias', 'cls.predictions.transform.dense.bias', 'cls.predictions.transform.LayerNorm.weight', 'cls.predictions.transform.dense.weight']\n",
      "- This IS expected if you are initializing BertForTokenClassification from the checkpoint of a model trained on another task or with another architecture (e.g. initializing a BertForSequenceClassification model from a BertForPreTraining model).\n",
      "- This IS NOT expected if you are initializing BertForTokenClassification from the checkpoint of a model that you expect to be exactly identical (initializing a BertForSequenceClassification model from a BertForSequenceClassification model).\n",
      "Some weights of BertForTokenClassification were not initialized from the model checkpoint at nlpaueb/legal-bert-base-uncased and are newly initialized: ['classifier.weight', 'classifier.bias']\n",
      "You should probably TRAIN this model on a down-stream task to be able to use it for predictions and inference.\n"
     ]
    },
    {
     "data": {
      "text/html": [
       "wandb version 0.15.0 is available!  To upgrade, please run:\n",
       " $ pip install wandb --upgrade"
      ],
      "text/plain": [
       "<IPython.core.display.HTML object>"
      ]
     },
     "metadata": {},
     "output_type": "display_data"
    },
    {
     "data": {
      "text/html": [
       "Tracking run with wandb version 0.13.10"
      ],
      "text/plain": [
       "<IPython.core.display.HTML object>"
      ]
     },
     "metadata": {},
     "output_type": "display_data"
    },
    {
     "data": {
      "text/html": [
       "Run data is saved locally in <code>/home/g.marino/Desktop/GA/RhetoricalRolesClassification/BUILD/wandb/run-20230425_184158-op82q7c9</code>"
      ],
      "text/plain": [
       "<IPython.core.display.HTML object>"
      ]
     },
     "metadata": {},
     "output_type": "display_data"
    },
    {
     "data": {
      "text/html": [
       "Syncing run <strong><a href='https://wandb.ai/gmarinowandb-8601/RhetoricalRolesClassification-BUILD/runs/op82q7c9' target=\"_blank\">ToBERT-Trial18</a></strong> to <a href='https://wandb.ai/gmarinowandb-8601/RhetoricalRolesClassification-BUILD' target=\"_blank\">Weights & Biases</a> (<a href='https://wandb.me/run' target=\"_blank\">docs</a>)<br/>"
      ],
      "text/plain": [
       "<IPython.core.display.HTML object>"
      ]
     },
     "metadata": {},
     "output_type": "display_data"
    },
    {
     "data": {
      "text/html": [
       " View project at <a href='https://wandb.ai/gmarinowandb-8601/RhetoricalRolesClassification-BUILD' target=\"_blank\">https://wandb.ai/gmarinowandb-8601/RhetoricalRolesClassification-BUILD</a>"
      ],
      "text/plain": [
       "<IPython.core.display.HTML object>"
      ]
     },
     "metadata": {},
     "output_type": "display_data"
    },
    {
     "data": {
      "text/html": [
       " View run at <a href='https://wandb.ai/gmarinowandb-8601/RhetoricalRolesClassification-BUILD/runs/op82q7c9' target=\"_blank\">https://wandb.ai/gmarinowandb-8601/RhetoricalRolesClassification-BUILD/runs/op82q7c9</a>"
      ],
      "text/plain": [
       "<IPython.core.display.HTML object>"
      ]
     },
     "metadata": {},
     "output_type": "display_data"
    },
    {
     "name": "stdout",
     "output_type": "stream",
     "text": [
      "\n",
      "************** Training Started **************\n",
      "\n",
      "EPOCH N. 1\n"
     ]
    },
    {
     "name": "stderr",
     "output_type": "stream",
     "text": [
      "221it [01:34,  2.34it/s]\n"
     ]
    },
    {
     "name": "stdout",
     "output_type": "stream",
     "text": [
      "\n",
      "TRAIN RESULTS\n",
      "Loss: 1.7232230046755588\n",
      "Accuracy: 0.4844672258465362\n",
      "MCC: 0.3024700843639539\n",
      "Macro F1: 0.1631971418696283\n",
      "Macro Precision: 0.1918333938090201\n",
      "Macro Recall: 0.17172171111393622\n",
      "Micro F1: 0.4844672258465362\n",
      "Micro Precision: 0.4844672258465362\n",
      "Micro Recall: 0.4844672258465362\n",
      "\n",
      "VALIDATION RESULTS\n",
      "Loss: 1.59171462059021\n",
      "Accuracy: 0.5364873222016079\n",
      "MCC: 0.35893385942392664\n",
      "Macro F1: 0.16846579613606816\n",
      "Macro Precision: 0.18186132290101467\n",
      "Macro Recall: 0.1753617877061768\n",
      "Micro F1: 0.5364873222016079\n",
      "Micro Precision: 0.5364873222016079\n",
      "Micro Recall: 0.5364873222016079\n",
      "--------------------------------------------------\n"
     ]
    },
    {
     "data": {
      "text/html": [
       "Waiting for W&B process to finish... <strong style=\"color:red\">(failed 1).</strong> Press Control-C to abort syncing."
      ],
      "text/plain": [
       "<IPython.core.display.HTML object>"
      ]
     },
     "metadata": {},
     "output_type": "display_data"
    },
    {
     "data": {
      "application/vnd.jupyter.widget-view+json": {
       "model_id": "2bce1d86a1fe405f81c6cd397023dbe6",
       "version_major": 2,
       "version_minor": 0
      },
      "text/plain": [
       "VBox(children=(Label(value='0.005 MB of 0.005 MB uploaded (0.000 MB deduped)\\r'), FloatProgress(value=1.0, max…"
      ]
     },
     "metadata": {},
     "output_type": "display_data"
    },
    {
     "data": {
      "text/html": [
       "<style>\n",
       "    table.wandb td:nth-child(1) { padding: 0 10px; text-align: left ; width: auto;} td:nth-child(2) {text-align: left ; width: 100%}\n",
       "    .wandb-row { display: flex; flex-direction: row; flex-wrap: wrap; justify-content: flex-start; width: 100% }\n",
       "    .wandb-col { display: flex; flex-direction: column; flex-basis: 100%; flex: 1; padding: 10px; }\n",
       "    </style>\n",
       "<div class=\"wandb-row\"><div class=\"wandb-col\"><h3>Run history:</h3><br/><table class=\"wandb\"><tr><td>Epoch</td><td>▁</td></tr><tr><td>Train Loss</td><td>▁</td></tr><tr><td>Validation Loss</td><td>▁</td></tr></table><br/></div><div class=\"wandb-col\"><h3>Run summary:</h3><br/><table class=\"wandb\"><tr><td>Epoch</td><td>1</td></tr><tr><td>Train Loss</td><td>1.72322</td></tr><tr><td>Validation Loss</td><td>1.59171</td></tr></table><br/></div></div>"
      ],
      "text/plain": [
       "<IPython.core.display.HTML object>"
      ]
     },
     "metadata": {},
     "output_type": "display_data"
    },
    {
     "data": {
      "text/html": [
       " View run <strong style=\"color:#cdcd00\">ToBERT-Trial18</strong> at: <a href='https://wandb.ai/gmarinowandb-8601/RhetoricalRolesClassification-BUILD/runs/op82q7c9' target=\"_blank\">https://wandb.ai/gmarinowandb-8601/RhetoricalRolesClassification-BUILD/runs/op82q7c9</a><br/>Synced 5 W&B file(s), 0 media file(s), 0 artifact file(s) and 0 other file(s)"
      ],
      "text/plain": [
       "<IPython.core.display.HTML object>"
      ]
     },
     "metadata": {},
     "output_type": "display_data"
    },
    {
     "data": {
      "text/html": [
       "Find logs at: <code>./wandb/run-20230425_184158-op82q7c9/logs</code>"
      ],
      "text/plain": [
       "<IPython.core.display.HTML object>"
      ]
     },
     "metadata": {},
     "output_type": "display_data"
    },
    {
     "name": "stderr",
     "output_type": "stream",
     "text": [
      "\u001b[32m[I 2023-04-25 18:44:06,958]\u001b[0m Trial 18 pruned. \u001b[0m\n"
     ]
    },
    {
     "name": "stdout",
     "output_type": "stream",
     "text": [
      "\n",
      "************************ Starting New Optuna Trial ************************\n",
      "\n"
     ]
    },
    {
     "name": "stderr",
     "output_type": "stream",
     "text": [
      "Some weights of the model checkpoint at nlpaueb/legal-bert-base-uncased were not used when initializing BertForTokenClassification: ['cls.seq_relationship.weight', 'cls.predictions.bias', 'cls.predictions.transform.LayerNorm.bias', 'cls.predictions.decoder.bias', 'cls.predictions.decoder.weight', 'cls.seq_relationship.bias', 'cls.predictions.transform.dense.bias', 'cls.predictions.transform.LayerNorm.weight', 'cls.predictions.transform.dense.weight']\n",
      "- This IS expected if you are initializing BertForTokenClassification from the checkpoint of a model trained on another task or with another architecture (e.g. initializing a BertForSequenceClassification model from a BertForPreTraining model).\n",
      "- This IS NOT expected if you are initializing BertForTokenClassification from the checkpoint of a model that you expect to be exactly identical (initializing a BertForSequenceClassification model from a BertForSequenceClassification model).\n",
      "Some weights of BertForTokenClassification were not initialized from the model checkpoint at nlpaueb/legal-bert-base-uncased and are newly initialized: ['classifier.weight', 'classifier.bias']\n",
      "You should probably TRAIN this model on a down-stream task to be able to use it for predictions and inference.\n"
     ]
    },
    {
     "data": {
      "text/html": [
       "wandb version 0.15.0 is available!  To upgrade, please run:\n",
       " $ pip install wandb --upgrade"
      ],
      "text/plain": [
       "<IPython.core.display.HTML object>"
      ]
     },
     "metadata": {},
     "output_type": "display_data"
    },
    {
     "data": {
      "text/html": [
       "Tracking run with wandb version 0.13.10"
      ],
      "text/plain": [
       "<IPython.core.display.HTML object>"
      ]
     },
     "metadata": {},
     "output_type": "display_data"
    },
    {
     "data": {
      "text/html": [
       "Run data is saved locally in <code>/home/g.marino/Desktop/GA/RhetoricalRolesClassification/BUILD/wandb/run-20230425_184408-a11tjh4x</code>"
      ],
      "text/plain": [
       "<IPython.core.display.HTML object>"
      ]
     },
     "metadata": {},
     "output_type": "display_data"
    },
    {
     "data": {
      "text/html": [
       "Syncing run <strong><a href='https://wandb.ai/gmarinowandb-8601/RhetoricalRolesClassification-BUILD/runs/a11tjh4x' target=\"_blank\">ToBERT-Trial19</a></strong> to <a href='https://wandb.ai/gmarinowandb-8601/RhetoricalRolesClassification-BUILD' target=\"_blank\">Weights & Biases</a> (<a href='https://wandb.me/run' target=\"_blank\">docs</a>)<br/>"
      ],
      "text/plain": [
       "<IPython.core.display.HTML object>"
      ]
     },
     "metadata": {},
     "output_type": "display_data"
    },
    {
     "data": {
      "text/html": [
       " View project at <a href='https://wandb.ai/gmarinowandb-8601/RhetoricalRolesClassification-BUILD' target=\"_blank\">https://wandb.ai/gmarinowandb-8601/RhetoricalRolesClassification-BUILD</a>"
      ],
      "text/plain": [
       "<IPython.core.display.HTML object>"
      ]
     },
     "metadata": {},
     "output_type": "display_data"
    },
    {
     "data": {
      "text/html": [
       " View run at <a href='https://wandb.ai/gmarinowandb-8601/RhetoricalRolesClassification-BUILD/runs/a11tjh4x' target=\"_blank\">https://wandb.ai/gmarinowandb-8601/RhetoricalRolesClassification-BUILD/runs/a11tjh4x</a>"
      ],
      "text/plain": [
       "<IPython.core.display.HTML object>"
      ]
     },
     "metadata": {},
     "output_type": "display_data"
    },
    {
     "name": "stdout",
     "output_type": "stream",
     "text": [
      "\n",
      "************** Training Started **************\n",
      "\n",
      "EPOCH N. 1\n"
     ]
    },
    {
     "name": "stderr",
     "output_type": "stream",
     "text": [
      "221it [01:34,  2.33it/s]\n"
     ]
    },
    {
     "name": "stdout",
     "output_type": "stream",
     "text": [
      "\n",
      "TRAIN RESULTS\n",
      "Loss: 1.5069689293522641\n",
      "Accuracy: 0.5490835663249456\n",
      "MCC: 0.40136357027186653\n",
      "Macro F1: 0.26637965788819157\n",
      "Macro Precision: 0.34659412848563725\n",
      "Macro Recall: 0.2558142939755532\n",
      "Micro F1: 0.5490835663249456\n",
      "Micro Precision: 0.5490835663249456\n",
      "Micro Recall: 0.5490835663249456\n",
      "\n",
      "VALIDATION RESULTS\n",
      "Loss: 1.0034992694854736\n",
      "Accuracy: 0.6966604823747681\n",
      "MCC: 0.6005957080001544\n",
      "Macro F1: 0.4693695866134911\n",
      "Macro Precision: 0.5438679608365946\n",
      "Macro Recall: 0.45276492986765066\n",
      "Micro F1: 0.6966604823747681\n",
      "Micro Precision: 0.6966604823747681\n",
      "Micro Recall: 0.6966604823747681\n",
      "--------------------------------------------------\n",
      "EPOCH N. 2\n"
     ]
    },
    {
     "name": "stderr",
     "output_type": "stream",
     "text": [
      "221it [01:34,  2.34it/s]\n"
     ]
    },
    {
     "name": "stdout",
     "output_type": "stream",
     "text": [
      "\n",
      "TRAIN RESULTS\n",
      "Loss: 0.9461740096230312\n",
      "Accuracy: 0.6886843740292016\n",
      "MCC: 0.5970595801138224\n",
      "Macro F1: 0.4963358516542653\n",
      "Macro Precision: 0.5578892630237741\n",
      "Macro Recall: 0.4722441157141285\n",
      "Micro F1: 0.6886843740292016\n",
      "Micro Precision: 0.6886843740292016\n",
      "Micro Recall: 0.6886843740292016\n",
      "\n",
      "VALIDATION RESULTS\n",
      "Loss: 0.9150475859642029\n",
      "Accuracy: 0.7288188002473717\n",
      "MCC: 0.6459722345895433\n",
      "Macro F1: 0.516411722836028\n",
      "Macro Precision: 0.5640751768191234\n",
      "Macro Recall: 0.5115974467142854\n",
      "Micro F1: 0.7288188002473718\n",
      "Micro Precision: 0.7288188002473717\n",
      "Micro Recall: 0.7288188002473717\n",
      "--------------------------------------------------\n",
      "EPOCH N. 3\n"
     ]
    },
    {
     "name": "stderr",
     "output_type": "stream",
     "text": [
      "221it [01:33,  2.35it/s]\n"
     ]
    },
    {
     "name": "stdout",
     "output_type": "stream",
     "text": [
      "\n",
      "TRAIN RESULTS\n",
      "Loss: 0.7819795270041643\n",
      "Accuracy: 0.7312830071450761\n",
      "MCC: 0.6544682400063316\n",
      "Macro F1: 0.5572491147518416\n",
      "Macro Precision: 0.6160103890973727\n",
      "Macro Recall: 0.530287668329396\n",
      "Micro F1: 0.7312830071450762\n",
      "Micro Precision: 0.7312830071450761\n",
      "Micro Recall: 0.7312830071450761\n",
      "\n",
      "VALIDATION RESULTS\n",
      "Loss: 0.8055765628814697\n",
      "Accuracy: 0.7622139764996908\n",
      "MCC: 0.6894425218290007\n",
      "Macro F1: 0.5330166900187715\n",
      "Macro Precision: 0.5854222939206708\n",
      "Macro Recall: 0.5237989521091433\n",
      "Micro F1: 0.7622139764996908\n",
      "Micro Precision: 0.7622139764996908\n",
      "Micro Recall: 0.7622139764996908\n",
      "--------------------------------------------------\n",
      "EPOCH N. 4\n"
     ]
    },
    {
     "name": "stderr",
     "output_type": "stream",
     "text": [
      "221it [01:37,  2.27it/s]\n"
     ]
    },
    {
     "name": "stdout",
     "output_type": "stream",
     "text": [
      "\n",
      "TRAIN RESULTS\n",
      "Loss: 0.628171684279431\n",
      "Accuracy: 0.7762892202547375\n",
      "MCC: 0.7134917170844387\n",
      "Macro F1: 0.6139702303246761\n",
      "Macro Precision: 0.655546057354778\n",
      "Macro Recall: 0.5901990759053294\n",
      "Micro F1: 0.7762892202547375\n",
      "Micro Precision: 0.7762892202547375\n",
      "Micro Recall: 0.7762892202547375\n",
      "\n",
      "VALIDATION RESULTS\n",
      "Loss: 0.9005231261253357\n",
      "Accuracy: 0.7387136672850959\n",
      "MCC: 0.6624640559186872\n",
      "Macro F1: 0.5470698920460031\n",
      "Macro Precision: 0.6054074449423472\n",
      "Macro Recall: 0.5160156937580648\n",
      "Micro F1: 0.7387136672850959\n",
      "Micro Precision: 0.7387136672850959\n",
      "Micro Recall: 0.7387136672850959\n",
      "--------------------------------------------------\n",
      "EPOCH N. 5\n"
     ]
    },
    {
     "name": "stderr",
     "output_type": "stream",
     "text": [
      "221it [01:37,  2.26it/s]\n"
     ]
    },
    {
     "name": "stdout",
     "output_type": "stream",
     "text": [
      "\n",
      "TRAIN RESULTS\n",
      "Loss: 0.5130201429128647\n",
      "Accuracy: 0.813296054675365\n",
      "MCC: 0.7618672368963512\n",
      "Macro F1: 0.6668700248759074\n",
      "Macro Precision: 0.7539760139824543\n",
      "Macro Recall: 0.643186557288364\n",
      "Micro F1: 0.813296054675365\n",
      "Micro Precision: 0.813296054675365\n",
      "Micro Recall: 0.813296054675365\n",
      "\n",
      "VALIDATION RESULTS\n",
      "Loss: 0.8472084999084473\n",
      "Accuracy: 0.7665429808286951\n",
      "MCC: 0.6960880622279244\n",
      "Macro F1: 0.5526072859498133\n",
      "Macro Precision: 0.6387204603552205\n",
      "Macro Recall: 0.5336014939096673\n",
      "Micro F1: 0.7665429808286951\n",
      "Micro Precision: 0.7665429808286951\n",
      "Micro Recall: 0.7665429808286951\n",
      "Early stopped training\n",
      "--------------------------------------------------\n"
     ]
    },
    {
     "data": {
      "text/html": [
       "Waiting for W&B process to finish... <strong style=\"color:green\">(success).</strong>"
      ],
      "text/plain": [
       "<IPython.core.display.HTML object>"
      ]
     },
     "metadata": {},
     "output_type": "display_data"
    },
    {
     "data": {
      "application/vnd.jupyter.widget-view+json": {
       "model_id": "e229ff3dc00945a18397c9be16795243",
       "version_major": 2,
       "version_minor": 0
      },
      "text/plain": [
       "VBox(children=(Label(value='0.005 MB of 0.005 MB uploaded (0.000 MB deduped)\\r'), FloatProgress(value=1.0, max…"
      ]
     },
     "metadata": {},
     "output_type": "display_data"
    },
    {
     "data": {
      "text/html": [
       "<style>\n",
       "    table.wandb td:nth-child(1) { padding: 0 10px; text-align: left ; width: auto;} td:nth-child(2) {text-align: left ; width: 100%}\n",
       "    .wandb-row { display: flex; flex-direction: row; flex-wrap: wrap; justify-content: flex-start; width: 100% }\n",
       "    .wandb-col { display: flex; flex-direction: column; flex-basis: 100%; flex: 1; padding: 10px; }\n",
       "    </style>\n",
       "<div class=\"wandb-row\"><div class=\"wandb-col\"><h3>Run history:</h3><br/><table class=\"wandb\"><tr><td>Epoch</td><td>▁▃▅▆█</td></tr><tr><td>Train Loss</td><td>█▄▃▂▁</td></tr><tr><td>Validation Loss</td><td>█▅▁▄▂</td></tr></table><br/></div><div class=\"wandb-col\"><h3>Run summary:</h3><br/><table class=\"wandb\"><tr><td>Epoch</td><td>5</td></tr><tr><td>Train Loss</td><td>0.51302</td></tr><tr><td>Validation Loss</td><td>0.84721</td></tr></table><br/></div></div>"
      ],
      "text/plain": [
       "<IPython.core.display.HTML object>"
      ]
     },
     "metadata": {},
     "output_type": "display_data"
    },
    {
     "data": {
      "text/html": [
       " View run <strong style=\"color:#cdcd00\">ToBERT-Trial19</strong> at: <a href='https://wandb.ai/gmarinowandb-8601/RhetoricalRolesClassification-BUILD/runs/a11tjh4x' target=\"_blank\">https://wandb.ai/gmarinowandb-8601/RhetoricalRolesClassification-BUILD/runs/a11tjh4x</a><br/>Synced 5 W&B file(s), 0 media file(s), 0 artifact file(s) and 0 other file(s)"
      ],
      "text/plain": [
       "<IPython.core.display.HTML object>"
      ]
     },
     "metadata": {},
     "output_type": "display_data"
    },
    {
     "data": {
      "text/html": [
       "Find logs at: <code>./wandb/run-20230425_184408-a11tjh4x/logs</code>"
      ],
      "text/plain": [
       "<IPython.core.display.HTML object>"
      ]
     },
     "metadata": {},
     "output_type": "display_data"
    },
    {
     "name": "stderr",
     "output_type": "stream",
     "text": [
      "\u001b[32m[I 2023-04-25 18:53:16,744]\u001b[0m Trial 19 finished with value: 0.8055765628814697 and parameters: {'lr': 0.00012035748896930562, 'weight_decay': 0.08889233580065671, 'embedding': 'rel', 'transformer_dropout': 0.24396462887348022, 'transformer_dim_feedforward': 750}. Best is trial 14 with value: 0.7874695062637329.\u001b[0m\n"
     ]
    },
    {
     "name": "stdout",
     "output_type": "stream",
     "text": [
      "\n",
      "************************ Starting New Optuna Trial ************************\n",
      "\n"
     ]
    },
    {
     "name": "stderr",
     "output_type": "stream",
     "text": [
      "Some weights of the model checkpoint at nlpaueb/legal-bert-base-uncased were not used when initializing BertForTokenClassification: ['cls.seq_relationship.weight', 'cls.predictions.bias', 'cls.predictions.transform.LayerNorm.bias', 'cls.predictions.decoder.bias', 'cls.predictions.decoder.weight', 'cls.seq_relationship.bias', 'cls.predictions.transform.dense.bias', 'cls.predictions.transform.LayerNorm.weight', 'cls.predictions.transform.dense.weight']\n",
      "- This IS expected if you are initializing BertForTokenClassification from the checkpoint of a model trained on another task or with another architecture (e.g. initializing a BertForSequenceClassification model from a BertForPreTraining model).\n",
      "- This IS NOT expected if you are initializing BertForTokenClassification from the checkpoint of a model that you expect to be exactly identical (initializing a BertForSequenceClassification model from a BertForSequenceClassification model).\n",
      "Some weights of BertForTokenClassification were not initialized from the model checkpoint at nlpaueb/legal-bert-base-uncased and are newly initialized: ['classifier.weight', 'classifier.bias']\n",
      "You should probably TRAIN this model on a down-stream task to be able to use it for predictions and inference.\n"
     ]
    },
    {
     "data": {
      "text/html": [
       "wandb version 0.15.0 is available!  To upgrade, please run:\n",
       " $ pip install wandb --upgrade"
      ],
      "text/plain": [
       "<IPython.core.display.HTML object>"
      ]
     },
     "metadata": {},
     "output_type": "display_data"
    },
    {
     "data": {
      "text/html": [
       "Tracking run with wandb version 0.13.10"
      ],
      "text/plain": [
       "<IPython.core.display.HTML object>"
      ]
     },
     "metadata": {},
     "output_type": "display_data"
    },
    {
     "data": {
      "text/html": [
       "Run data is saved locally in <code>/home/g.marino/Desktop/GA/RhetoricalRolesClassification/BUILD/wandb/run-20230425_185318-ymbp1kz8</code>"
      ],
      "text/plain": [
       "<IPython.core.display.HTML object>"
      ]
     },
     "metadata": {},
     "output_type": "display_data"
    },
    {
     "data": {
      "text/html": [
       "Syncing run <strong><a href='https://wandb.ai/gmarinowandb-8601/RhetoricalRolesClassification-BUILD/runs/ymbp1kz8' target=\"_blank\">ToBERT-Trial20</a></strong> to <a href='https://wandb.ai/gmarinowandb-8601/RhetoricalRolesClassification-BUILD' target=\"_blank\">Weights & Biases</a> (<a href='https://wandb.me/run' target=\"_blank\">docs</a>)<br/>"
      ],
      "text/plain": [
       "<IPython.core.display.HTML object>"
      ]
     },
     "metadata": {},
     "output_type": "display_data"
    },
    {
     "data": {
      "text/html": [
       " View project at <a href='https://wandb.ai/gmarinowandb-8601/RhetoricalRolesClassification-BUILD' target=\"_blank\">https://wandb.ai/gmarinowandb-8601/RhetoricalRolesClassification-BUILD</a>"
      ],
      "text/plain": [
       "<IPython.core.display.HTML object>"
      ]
     },
     "metadata": {},
     "output_type": "display_data"
    },
    {
     "data": {
      "text/html": [
       " View run at <a href='https://wandb.ai/gmarinowandb-8601/RhetoricalRolesClassification-BUILD/runs/ymbp1kz8' target=\"_blank\">https://wandb.ai/gmarinowandb-8601/RhetoricalRolesClassification-BUILD/runs/ymbp1kz8</a>"
      ],
      "text/plain": [
       "<IPython.core.display.HTML object>"
      ]
     },
     "metadata": {},
     "output_type": "display_data"
    },
    {
     "name": "stdout",
     "output_type": "stream",
     "text": [
      "\n",
      "************** Training Started **************\n",
      "\n",
      "EPOCH N. 1\n"
     ]
    },
    {
     "name": "stderr",
     "output_type": "stream",
     "text": [
      "221it [01:37,  2.27it/s]\n"
     ]
    },
    {
     "name": "stdout",
     "output_type": "stream",
     "text": [
      "\n",
      "TRAIN RESULTS\n",
      "Loss: 1.680366448147804\n",
      "Accuracy: 0.5046598322460392\n",
      "MCC: 0.3311765825615036\n",
      "Macro F1: 0.17141615879072256\n",
      "Macro Precision: 0.21219641695124616\n",
      "Macro Recall: 0.1798557236053451\n",
      "Micro F1: 0.5046598322460392\n",
      "Micro Precision: 0.5046598322460392\n",
      "Micro Recall: 0.5046598322460392\n",
      "\n",
      "VALIDATION RESULTS\n",
      "Loss: 1.4280980825424194\n",
      "Accuracy: 0.5909090909090909\n",
      "MCC: 0.4511806381059135\n",
      "Macro F1: 0.21183797437687163\n",
      "Macro Precision: 0.26958007044495835\n",
      "Macro Recall: 0.2242545312360647\n",
      "Micro F1: 0.5909090909090909\n",
      "Micro Precision: 0.5909090909090909\n",
      "Micro Recall: 0.5909090909090909\n",
      "--------------------------------------------------\n",
      "EPOCH N. 2\n"
     ]
    },
    {
     "name": "stderr",
     "output_type": "stream",
     "text": [
      "221it [01:32,  2.38it/s]\n"
     ]
    },
    {
     "name": "stdout",
     "output_type": "stream",
     "text": [
      "\n",
      "TRAIN RESULTS\n",
      "Loss: 1.4923796044215898\n",
      "Accuracy: 0.5498990369680025\n",
      "MCC: 0.39669062371029823\n",
      "Macro F1: 0.20393717074685208\n",
      "Macro Precision: 0.22705148554396845\n",
      "Macro Recall: 0.2138711839350931\n",
      "Micro F1: 0.5498990369680025\n",
      "Micro Precision: 0.5498990369680025\n",
      "Micro Recall: 0.5498990369680025\n",
      "\n",
      "VALIDATION RESULTS\n",
      "Loss: 1.3945822715759277\n",
      "Accuracy: 0.6029684601113172\n",
      "MCC: 0.4648312552153632\n",
      "Macro F1: 0.20789123454246694\n",
      "Macro Precision: 0.2339222832472679\n",
      "Macro Recall: 0.2219478188855657\n",
      "Micro F1: 0.6029684601113172\n",
      "Micro Precision: 0.6029684601113172\n",
      "Micro Recall: 0.6029684601113172\n",
      "--------------------------------------------------\n"
     ]
    },
    {
     "data": {
      "text/html": [
       "Waiting for W&B process to finish... <strong style=\"color:red\">(failed 1).</strong> Press Control-C to abort syncing."
      ],
      "text/plain": [
       "<IPython.core.display.HTML object>"
      ]
     },
     "metadata": {},
     "output_type": "display_data"
    },
    {
     "data": {
      "text/html": [
       "<style>\n",
       "    table.wandb td:nth-child(1) { padding: 0 10px; text-align: left ; width: auto;} td:nth-child(2) {text-align: left ; width: 100%}\n",
       "    .wandb-row { display: flex; flex-direction: row; flex-wrap: wrap; justify-content: flex-start; width: 100% }\n",
       "    .wandb-col { display: flex; flex-direction: column; flex-basis: 100%; flex: 1; padding: 10px; }\n",
       "    </style>\n",
       "<div class=\"wandb-row\"><div class=\"wandb-col\"><h3>Run history:</h3><br/><table class=\"wandb\"><tr><td>Epoch</td><td>▁█</td></tr><tr><td>Train Loss</td><td>█▁</td></tr><tr><td>Validation Loss</td><td>█▁</td></tr></table><br/></div><div class=\"wandb-col\"><h3>Run summary:</h3><br/><table class=\"wandb\"><tr><td>Epoch</td><td>2</td></tr><tr><td>Train Loss</td><td>1.49238</td></tr><tr><td>Validation Loss</td><td>1.39458</td></tr></table><br/></div></div>"
      ],
      "text/plain": [
       "<IPython.core.display.HTML object>"
      ]
     },
     "metadata": {},
     "output_type": "display_data"
    },
    {
     "data": {
      "text/html": [
       " View run <strong style=\"color:#cdcd00\">ToBERT-Trial20</strong> at: <a href='https://wandb.ai/gmarinowandb-8601/RhetoricalRolesClassification-BUILD/runs/ymbp1kz8' target=\"_blank\">https://wandb.ai/gmarinowandb-8601/RhetoricalRolesClassification-BUILD/runs/ymbp1kz8</a><br/>Synced 5 W&B file(s), 0 media file(s), 0 artifact file(s) and 0 other file(s)"
      ],
      "text/plain": [
       "<IPython.core.display.HTML object>"
      ]
     },
     "metadata": {},
     "output_type": "display_data"
    },
    {
     "data": {
      "text/html": [
       "Find logs at: <code>./wandb/run-20230425_185318-ymbp1kz8/logs</code>"
      ],
      "text/plain": [
       "<IPython.core.display.HTML object>"
      ]
     },
     "metadata": {},
     "output_type": "display_data"
    },
    {
     "name": "stderr",
     "output_type": "stream",
     "text": [
      "\u001b[32m[I 2023-04-25 18:57:06,662]\u001b[0m Trial 20 pruned. \u001b[0m\n"
     ]
    },
    {
     "name": "stdout",
     "output_type": "stream",
     "text": [
      "\n",
      "************************ Starting New Optuna Trial ************************\n",
      "\n"
     ]
    },
    {
     "name": "stderr",
     "output_type": "stream",
     "text": [
      "Some weights of the model checkpoint at nlpaueb/legal-bert-base-uncased were not used when initializing BertForTokenClassification: ['cls.seq_relationship.weight', 'cls.predictions.bias', 'cls.predictions.transform.LayerNorm.bias', 'cls.predictions.decoder.bias', 'cls.predictions.decoder.weight', 'cls.seq_relationship.bias', 'cls.predictions.transform.dense.bias', 'cls.predictions.transform.LayerNorm.weight', 'cls.predictions.transform.dense.weight']\n",
      "- This IS expected if you are initializing BertForTokenClassification from the checkpoint of a model trained on another task or with another architecture (e.g. initializing a BertForSequenceClassification model from a BertForPreTraining model).\n",
      "- This IS NOT expected if you are initializing BertForTokenClassification from the checkpoint of a model that you expect to be exactly identical (initializing a BertForSequenceClassification model from a BertForSequenceClassification model).\n",
      "Some weights of BertForTokenClassification were not initialized from the model checkpoint at nlpaueb/legal-bert-base-uncased and are newly initialized: ['classifier.weight', 'classifier.bias']\n",
      "You should probably TRAIN this model on a down-stream task to be able to use it for predictions and inference.\n"
     ]
    },
    {
     "data": {
      "text/html": [
       "wandb version 0.15.0 is available!  To upgrade, please run:\n",
       " $ pip install wandb --upgrade"
      ],
      "text/plain": [
       "<IPython.core.display.HTML object>"
      ]
     },
     "metadata": {},
     "output_type": "display_data"
    },
    {
     "data": {
      "text/html": [
       "Tracking run with wandb version 0.13.10"
      ],
      "text/plain": [
       "<IPython.core.display.HTML object>"
      ]
     },
     "metadata": {},
     "output_type": "display_data"
    },
    {
     "data": {
      "text/html": [
       "Run data is saved locally in <code>/home/g.marino/Desktop/GA/RhetoricalRolesClassification/BUILD/wandb/run-20230425_185708-efnylbcc</code>"
      ],
      "text/plain": [
       "<IPython.core.display.HTML object>"
      ]
     },
     "metadata": {},
     "output_type": "display_data"
    },
    {
     "data": {
      "text/html": [
       "Syncing run <strong><a href='https://wandb.ai/gmarinowandb-8601/RhetoricalRolesClassification-BUILD/runs/efnylbcc' target=\"_blank\">ToBERT-Trial21</a></strong> to <a href='https://wandb.ai/gmarinowandb-8601/RhetoricalRolesClassification-BUILD' target=\"_blank\">Weights & Biases</a> (<a href='https://wandb.me/run' target=\"_blank\">docs</a>)<br/>"
      ],
      "text/plain": [
       "<IPython.core.display.HTML object>"
      ]
     },
     "metadata": {},
     "output_type": "display_data"
    },
    {
     "data": {
      "text/html": [
       " View project at <a href='https://wandb.ai/gmarinowandb-8601/RhetoricalRolesClassification-BUILD' target=\"_blank\">https://wandb.ai/gmarinowandb-8601/RhetoricalRolesClassification-BUILD</a>"
      ],
      "text/plain": [
       "<IPython.core.display.HTML object>"
      ]
     },
     "metadata": {},
     "output_type": "display_data"
    },
    {
     "data": {
      "text/html": [
       " View run at <a href='https://wandb.ai/gmarinowandb-8601/RhetoricalRolesClassification-BUILD/runs/efnylbcc' target=\"_blank\">https://wandb.ai/gmarinowandb-8601/RhetoricalRolesClassification-BUILD/runs/efnylbcc</a>"
      ],
      "text/plain": [
       "<IPython.core.display.HTML object>"
      ]
     },
     "metadata": {},
     "output_type": "display_data"
    },
    {
     "name": "stdout",
     "output_type": "stream",
     "text": [
      "\n",
      "************** Training Started **************\n",
      "\n",
      "EPOCH N. 1\n"
     ]
    },
    {
     "name": "stderr",
     "output_type": "stream",
     "text": [
      "221it [01:34,  2.34it/s]\n"
     ]
    },
    {
     "name": "stdout",
     "output_type": "stream",
     "text": [
      "\n",
      "TRAIN RESULTS\n",
      "Loss: 1.5078093110166524\n",
      "Accuracy: 0.5365408511960236\n",
      "MCC: 0.37899010632555513\n",
      "Macro F1: 0.2381624240092475\n",
      "Macro Precision: 0.3791763890190553\n",
      "Macro Recall: 0.2283175743078334\n",
      "Micro F1: 0.5365408511960236\n",
      "Micro Precision: 0.5365408511960236\n",
      "Micro Recall: 0.5365408511960236\n",
      "\n",
      "VALIDATION RESULTS\n",
      "Loss: 0.9680360555648804\n",
      "Accuracy: 0.7105751391465677\n",
      "MCC: 0.6205586112330326\n",
      "Macro F1: 0.4645724602805331\n",
      "Macro Precision: 0.5813466865546945\n",
      "Macro Recall: 0.44722255598310034\n",
      "Micro F1: 0.7105751391465677\n",
      "Micro Precision: 0.7105751391465677\n",
      "Micro Recall: 0.7105751391465677\n",
      "--------------------------------------------------\n",
      "EPOCH N. 2\n"
     ]
    },
    {
     "name": "stderr",
     "output_type": "stream",
     "text": [
      "221it [01:35,  2.32it/s]\n"
     ]
    },
    {
     "name": "stdout",
     "output_type": "stream",
     "text": [
      "\n",
      "TRAIN RESULTS\n",
      "Loss: 0.9197694328845356\n",
      "Accuracy: 0.6929170549860205\n",
      "MCC: 0.603187934713118\n",
      "Macro F1: 0.5074486304565078\n",
      "Macro Precision: 0.5685715753311782\n",
      "Macro Recall: 0.4794600506643588\n",
      "Micro F1: 0.6929170549860205\n",
      "Micro Precision: 0.6929170549860205\n",
      "Micro Recall: 0.6929170549860205\n",
      "\n",
      "VALIDATION RESULTS\n",
      "Loss: 0.9289490580558777\n",
      "Accuracy: 0.7207792207792207\n",
      "MCC: 0.6421442561924832\n",
      "Macro F1: 0.5246253995328881\n",
      "Macro Precision: 0.6214715018444301\n",
      "Macro Recall: 0.5205487081728665\n",
      "Micro F1: 0.7207792207792207\n",
      "Micro Precision: 0.7207792207792207\n",
      "Micro Recall: 0.7207792207792207\n",
      "--------------------------------------------------\n",
      "EPOCH N. 3\n"
     ]
    },
    {
     "name": "stderr",
     "output_type": "stream",
     "text": [
      "221it [01:34,  2.34it/s]\n"
     ]
    },
    {
     "name": "stdout",
     "output_type": "stream",
     "text": [
      "\n",
      "TRAIN RESULTS\n",
      "Loss: 0.7757308688099028\n",
      "Accuracy: 0.730389872631252\n",
      "MCC: 0.6533023500416356\n",
      "Macro F1: 0.5674448329434945\n",
      "Macro Precision: 0.6226906975080608\n",
      "Macro Recall: 0.541272782414651\n",
      "Micro F1: 0.7303898726312521\n",
      "Micro Precision: 0.730389872631252\n",
      "Micro Recall: 0.730389872631252\n",
      "\n",
      "VALIDATION RESULTS\n",
      "Loss: 0.8651599884033203\n",
      "Accuracy: 0.7316017316017316\n",
      "MCC: 0.6581055425317793\n",
      "Macro F1: 0.5529571072105527\n",
      "Macro Precision: 0.5728175627218678\n",
      "Macro Recall: 0.5783760928809867\n",
      "Micro F1: 0.7316017316017315\n",
      "Micro Precision: 0.7316017316017316\n",
      "Micro Recall: 0.7316017316017316\n",
      "--------------------------------------------------\n",
      "EPOCH N. 4\n"
     ]
    },
    {
     "name": "stderr",
     "output_type": "stream",
     "text": [
      "221it [01:35,  2.32it/s]\n"
     ]
    },
    {
     "name": "stdout",
     "output_type": "stream",
     "text": [
      "\n",
      "TRAIN RESULTS\n",
      "Loss: 0.6439685723091143\n",
      "Accuracy: 0.7694159676918297\n",
      "MCC: 0.704467054057009\n",
      "Macro F1: 0.6162879642031576\n",
      "Macro Precision: 0.6881792632511456\n",
      "Macro Recall: 0.5877721572284315\n",
      "Micro F1: 0.7694159676918297\n",
      "Micro Precision: 0.7694159676918297\n",
      "Micro Recall: 0.7694159676918297\n",
      "\n",
      "VALIDATION RESULTS\n",
      "Loss: 0.9169557094573975\n",
      "Accuracy: 0.7343846629560915\n",
      "MCC: 0.6548935908074329\n",
      "Macro F1: 0.5381084877339576\n",
      "Macro Precision: 0.6356051703783765\n",
      "Macro Recall: 0.5401978969066457\n",
      "Micro F1: 0.7343846629560915\n",
      "Micro Precision: 0.7343846629560915\n",
      "Micro Recall: 0.7343846629560915\n",
      "--------------------------------------------------\n",
      "EPOCH N. 5\n"
     ]
    },
    {
     "name": "stderr",
     "output_type": "stream",
     "text": [
      "221it [01:35,  2.31it/s]\n"
     ]
    },
    {
     "name": "stdout",
     "output_type": "stream",
     "text": [
      "\n",
      "TRAIN RESULTS\n",
      "Loss: 0.5390594504874756\n",
      "Accuracy: 0.7955498602050326\n",
      "MCC: 0.7392128196686151\n",
      "Macro F1: 0.668398752737623\n",
      "Macro Precision: 0.730191521953272\n",
      "Macro Recall: 0.6430206939155221\n",
      "Micro F1: 0.7955498602050326\n",
      "Micro Precision: 0.7955498602050326\n",
      "Micro Recall: 0.7955498602050326\n",
      "\n",
      "VALIDATION RESULTS\n",
      "Loss: 0.9099955558776855\n",
      "Accuracy: 0.7340754483611627\n",
      "MCC: 0.6610729431741449\n",
      "Macro F1: 0.5657276626701413\n",
      "Macro Precision: 0.6111545961138501\n",
      "Macro Recall: 0.5638985000996602\n",
      "Micro F1: 0.7340754483611627\n",
      "Micro Precision: 0.7340754483611627\n",
      "Micro Recall: 0.7340754483611627\n",
      "Early stopped training\n",
      "--------------------------------------------------\n"
     ]
    },
    {
     "data": {
      "text/html": [
       "Waiting for W&B process to finish... <strong style=\"color:green\">(success).</strong>"
      ],
      "text/plain": [
       "<IPython.core.display.HTML object>"
      ]
     },
     "metadata": {},
     "output_type": "display_data"
    },
    {
     "data": {
      "text/html": [
       "<style>\n",
       "    table.wandb td:nth-child(1) { padding: 0 10px; text-align: left ; width: auto;} td:nth-child(2) {text-align: left ; width: 100%}\n",
       "    .wandb-row { display: flex; flex-direction: row; flex-wrap: wrap; justify-content: flex-start; width: 100% }\n",
       "    .wandb-col { display: flex; flex-direction: column; flex-basis: 100%; flex: 1; padding: 10px; }\n",
       "    </style>\n",
       "<div class=\"wandb-row\"><div class=\"wandb-col\"><h3>Run history:</h3><br/><table class=\"wandb\"><tr><td>Epoch</td><td>▁▃▅▆█</td></tr><tr><td>Train Loss</td><td>█▄▃▂▁</td></tr><tr><td>Validation Loss</td><td>█▅▁▅▄</td></tr></table><br/></div><div class=\"wandb-col\"><h3>Run summary:</h3><br/><table class=\"wandb\"><tr><td>Epoch</td><td>5</td></tr><tr><td>Train Loss</td><td>0.53906</td></tr><tr><td>Validation Loss</td><td>0.91</td></tr></table><br/></div></div>"
      ],
      "text/plain": [
       "<IPython.core.display.HTML object>"
      ]
     },
     "metadata": {},
     "output_type": "display_data"
    },
    {
     "data": {
      "text/html": [
       " View run <strong style=\"color:#cdcd00\">ToBERT-Trial21</strong> at: <a href='https://wandb.ai/gmarinowandb-8601/RhetoricalRolesClassification-BUILD/runs/efnylbcc' target=\"_blank\">https://wandb.ai/gmarinowandb-8601/RhetoricalRolesClassification-BUILD/runs/efnylbcc</a><br/>Synced 5 W&B file(s), 0 media file(s), 0 artifact file(s) and 0 other file(s)"
      ],
      "text/plain": [
       "<IPython.core.display.HTML object>"
      ]
     },
     "metadata": {},
     "output_type": "display_data"
    },
    {
     "data": {
      "text/html": [
       "Find logs at: <code>./wandb/run-20230425_185708-efnylbcc/logs</code>"
      ],
      "text/plain": [
       "<IPython.core.display.HTML object>"
      ]
     },
     "metadata": {},
     "output_type": "display_data"
    },
    {
     "name": "stderr",
     "output_type": "stream",
     "text": [
      "\u001b[32m[I 2023-04-25 19:06:16,161]\u001b[0m Trial 21 finished with value: 0.8651599884033203 and parameters: {'lr': 6.405407495948378e-05, 'weight_decay': 0.09051845171885416, 'embedding': 'rel', 'transformer_dropout': 0.24145039567693521, 'transformer_dim_feedforward': 914}. Best is trial 14 with value: 0.7874695062637329.\u001b[0m\n"
     ]
    },
    {
     "name": "stdout",
     "output_type": "stream",
     "text": [
      "\n",
      "************************ Starting New Optuna Trial ************************\n",
      "\n"
     ]
    },
    {
     "name": "stderr",
     "output_type": "stream",
     "text": [
      "Some weights of the model checkpoint at nlpaueb/legal-bert-base-uncased were not used when initializing BertForTokenClassification: ['cls.seq_relationship.weight', 'cls.predictions.bias', 'cls.predictions.transform.LayerNorm.bias', 'cls.predictions.decoder.bias', 'cls.predictions.decoder.weight', 'cls.seq_relationship.bias', 'cls.predictions.transform.dense.bias', 'cls.predictions.transform.LayerNorm.weight', 'cls.predictions.transform.dense.weight']\n",
      "- This IS expected if you are initializing BertForTokenClassification from the checkpoint of a model trained on another task or with another architecture (e.g. initializing a BertForSequenceClassification model from a BertForPreTraining model).\n",
      "- This IS NOT expected if you are initializing BertForTokenClassification from the checkpoint of a model that you expect to be exactly identical (initializing a BertForSequenceClassification model from a BertForSequenceClassification model).\n",
      "Some weights of BertForTokenClassification were not initialized from the model checkpoint at nlpaueb/legal-bert-base-uncased and are newly initialized: ['classifier.weight', 'classifier.bias']\n",
      "You should probably TRAIN this model on a down-stream task to be able to use it for predictions and inference.\n"
     ]
    },
    {
     "data": {
      "text/html": [
       "wandb version 0.15.0 is available!  To upgrade, please run:\n",
       " $ pip install wandb --upgrade"
      ],
      "text/plain": [
       "<IPython.core.display.HTML object>"
      ]
     },
     "metadata": {},
     "output_type": "display_data"
    },
    {
     "data": {
      "text/html": [
       "Tracking run with wandb version 0.13.10"
      ],
      "text/plain": [
       "<IPython.core.display.HTML object>"
      ]
     },
     "metadata": {},
     "output_type": "display_data"
    },
    {
     "data": {
      "text/html": [
       "Run data is saved locally in <code>/home/g.marino/Desktop/GA/RhetoricalRolesClassification/BUILD/wandb/run-20230425_190617-rbcz0e5n</code>"
      ],
      "text/plain": [
       "<IPython.core.display.HTML object>"
      ]
     },
     "metadata": {},
     "output_type": "display_data"
    },
    {
     "data": {
      "text/html": [
       "Syncing run <strong><a href='https://wandb.ai/gmarinowandb-8601/RhetoricalRolesClassification-BUILD/runs/rbcz0e5n' target=\"_blank\">ToBERT-Trial22</a></strong> to <a href='https://wandb.ai/gmarinowandb-8601/RhetoricalRolesClassification-BUILD' target=\"_blank\">Weights & Biases</a> (<a href='https://wandb.me/run' target=\"_blank\">docs</a>)<br/>"
      ],
      "text/plain": [
       "<IPython.core.display.HTML object>"
      ]
     },
     "metadata": {},
     "output_type": "display_data"
    },
    {
     "data": {
      "text/html": [
       " View project at <a href='https://wandb.ai/gmarinowandb-8601/RhetoricalRolesClassification-BUILD' target=\"_blank\">https://wandb.ai/gmarinowandb-8601/RhetoricalRolesClassification-BUILD</a>"
      ],
      "text/plain": [
       "<IPython.core.display.HTML object>"
      ]
     },
     "metadata": {},
     "output_type": "display_data"
    },
    {
     "data": {
      "text/html": [
       " View run at <a href='https://wandb.ai/gmarinowandb-8601/RhetoricalRolesClassification-BUILD/runs/rbcz0e5n' target=\"_blank\">https://wandb.ai/gmarinowandb-8601/RhetoricalRolesClassification-BUILD/runs/rbcz0e5n</a>"
      ],
      "text/plain": [
       "<IPython.core.display.HTML object>"
      ]
     },
     "metadata": {},
     "output_type": "display_data"
    },
    {
     "name": "stdout",
     "output_type": "stream",
     "text": [
      "\n",
      "************** Training Started **************\n",
      "\n",
      "EPOCH N. 1\n"
     ]
    },
    {
     "name": "stderr",
     "output_type": "stream",
     "text": [
      "221it [01:33,  2.36it/s]\n"
     ]
    },
    {
     "name": "stdout",
     "output_type": "stream",
     "text": [
      "\n",
      "TRAIN RESULTS\n",
      "Loss: 1.7798386507444253\n",
      "Accuracy: 0.4626825100963032\n",
      "MCC: 0.2774747539997052\n",
      "Macro F1: 0.1567935525753016\n",
      "Macro Precision: 0.18024646759954954\n",
      "Macro Recall: 0.16357375536959556\n",
      "Micro F1: 0.4626825100963032\n",
      "Micro Precision: 0.4626825100963032\n",
      "Micro Recall: 0.4626825100963032\n",
      "\n",
      "VALIDATION RESULTS\n",
      "Loss: 1.4690914154052734\n",
      "Accuracy: 0.5980210265924552\n",
      "MCC: 0.46429452452040804\n",
      "Macro F1: 0.20764812788158687\n",
      "Macro Precision: 0.22314637333413917\n",
      "Macro Recall: 0.23412754858762572\n",
      "Micro F1: 0.5980210265924552\n",
      "Micro Precision: 0.5980210265924552\n",
      "Micro Recall: 0.5980210265924552\n",
      "--------------------------------------------------\n"
     ]
    },
    {
     "data": {
      "text/html": [
       "Waiting for W&B process to finish... <strong style=\"color:red\">(failed 1).</strong> Press Control-C to abort syncing."
      ],
      "text/plain": [
       "<IPython.core.display.HTML object>"
      ]
     },
     "metadata": {},
     "output_type": "display_data"
    },
    {
     "data": {
      "application/vnd.jupyter.widget-view+json": {
       "model_id": "ac4bdfd231384218b98ab18d29bbfdef",
       "version_major": 2,
       "version_minor": 0
      },
      "text/plain": [
       "VBox(children=(Label(value='0.005 MB of 0.005 MB uploaded (0.000 MB deduped)\\r'), FloatProgress(value=1.0, max…"
      ]
     },
     "metadata": {},
     "output_type": "display_data"
    },
    {
     "data": {
      "text/html": [
       "<style>\n",
       "    table.wandb td:nth-child(1) { padding: 0 10px; text-align: left ; width: auto;} td:nth-child(2) {text-align: left ; width: 100%}\n",
       "    .wandb-row { display: flex; flex-direction: row; flex-wrap: wrap; justify-content: flex-start; width: 100% }\n",
       "    .wandb-col { display: flex; flex-direction: column; flex-basis: 100%; flex: 1; padding: 10px; }\n",
       "    </style>\n",
       "<div class=\"wandb-row\"><div class=\"wandb-col\"><h3>Run history:</h3><br/><table class=\"wandb\"><tr><td>Epoch</td><td>▁</td></tr><tr><td>Train Loss</td><td>▁</td></tr><tr><td>Validation Loss</td><td>▁</td></tr></table><br/></div><div class=\"wandb-col\"><h3>Run summary:</h3><br/><table class=\"wandb\"><tr><td>Epoch</td><td>1</td></tr><tr><td>Train Loss</td><td>1.77984</td></tr><tr><td>Validation Loss</td><td>1.46909</td></tr></table><br/></div></div>"
      ],
      "text/plain": [
       "<IPython.core.display.HTML object>"
      ]
     },
     "metadata": {},
     "output_type": "display_data"
    },
    {
     "data": {
      "text/html": [
       " View run <strong style=\"color:#cdcd00\">ToBERT-Trial22</strong> at: <a href='https://wandb.ai/gmarinowandb-8601/RhetoricalRolesClassification-BUILD/runs/rbcz0e5n' target=\"_blank\">https://wandb.ai/gmarinowandb-8601/RhetoricalRolesClassification-BUILD/runs/rbcz0e5n</a><br/>Synced 5 W&B file(s), 0 media file(s), 0 artifact file(s) and 0 other file(s)"
      ],
      "text/plain": [
       "<IPython.core.display.HTML object>"
      ]
     },
     "metadata": {},
     "output_type": "display_data"
    },
    {
     "data": {
      "text/html": [
       "Find logs at: <code>./wandb/run-20230425_190617-rbcz0e5n/logs</code>"
      ],
      "text/plain": [
       "<IPython.core.display.HTML object>"
      ]
     },
     "metadata": {},
     "output_type": "display_data"
    },
    {
     "name": "stderr",
     "output_type": "stream",
     "text": [
      "\u001b[32m[I 2023-04-25 19:08:27,388]\u001b[0m Trial 22 pruned. \u001b[0m\n"
     ]
    },
    {
     "name": "stdout",
     "output_type": "stream",
     "text": [
      "\n",
      "************************ Starting New Optuna Trial ************************\n",
      "\n"
     ]
    },
    {
     "name": "stderr",
     "output_type": "stream",
     "text": [
      "Some weights of the model checkpoint at nlpaueb/legal-bert-base-uncased were not used when initializing BertForTokenClassification: ['cls.seq_relationship.weight', 'cls.predictions.bias', 'cls.predictions.transform.LayerNorm.bias', 'cls.predictions.decoder.bias', 'cls.predictions.decoder.weight', 'cls.seq_relationship.bias', 'cls.predictions.transform.dense.bias', 'cls.predictions.transform.LayerNorm.weight', 'cls.predictions.transform.dense.weight']\n",
      "- This IS expected if you are initializing BertForTokenClassification from the checkpoint of a model trained on another task or with another architecture (e.g. initializing a BertForSequenceClassification model from a BertForPreTraining model).\n",
      "- This IS NOT expected if you are initializing BertForTokenClassification from the checkpoint of a model that you expect to be exactly identical (initializing a BertForSequenceClassification model from a BertForSequenceClassification model).\n",
      "Some weights of BertForTokenClassification were not initialized from the model checkpoint at nlpaueb/legal-bert-base-uncased and are newly initialized: ['classifier.weight', 'classifier.bias']\n",
      "You should probably TRAIN this model on a down-stream task to be able to use it for predictions and inference.\n"
     ]
    },
    {
     "data": {
      "text/html": [
       "wandb version 0.15.0 is available!  To upgrade, please run:\n",
       " $ pip install wandb --upgrade"
      ],
      "text/plain": [
       "<IPython.core.display.HTML object>"
      ]
     },
     "metadata": {},
     "output_type": "display_data"
    },
    {
     "data": {
      "text/html": [
       "Tracking run with wandb version 0.13.10"
      ],
      "text/plain": [
       "<IPython.core.display.HTML object>"
      ]
     },
     "metadata": {},
     "output_type": "display_data"
    },
    {
     "data": {
      "text/html": [
       "Run data is saved locally in <code>/home/g.marino/Desktop/GA/RhetoricalRolesClassification/BUILD/wandb/run-20230425_190829-9w2gpbno</code>"
      ],
      "text/plain": [
       "<IPython.core.display.HTML object>"
      ]
     },
     "metadata": {},
     "output_type": "display_data"
    },
    {
     "data": {
      "text/html": [
       "Syncing run <strong><a href='https://wandb.ai/gmarinowandb-8601/RhetoricalRolesClassification-BUILD/runs/9w2gpbno' target=\"_blank\">ToBERT-Trial23</a></strong> to <a href='https://wandb.ai/gmarinowandb-8601/RhetoricalRolesClassification-BUILD' target=\"_blank\">Weights & Biases</a> (<a href='https://wandb.me/run' target=\"_blank\">docs</a>)<br/>"
      ],
      "text/plain": [
       "<IPython.core.display.HTML object>"
      ]
     },
     "metadata": {},
     "output_type": "display_data"
    },
    {
     "data": {
      "text/html": [
       " View project at <a href='https://wandb.ai/gmarinowandb-8601/RhetoricalRolesClassification-BUILD' target=\"_blank\">https://wandb.ai/gmarinowandb-8601/RhetoricalRolesClassification-BUILD</a>"
      ],
      "text/plain": [
       "<IPython.core.display.HTML object>"
      ]
     },
     "metadata": {},
     "output_type": "display_data"
    },
    {
     "data": {
      "text/html": [
       " View run at <a href='https://wandb.ai/gmarinowandb-8601/RhetoricalRolesClassification-BUILD/runs/9w2gpbno' target=\"_blank\">https://wandb.ai/gmarinowandb-8601/RhetoricalRolesClassification-BUILD/runs/9w2gpbno</a>"
      ],
      "text/plain": [
       "<IPython.core.display.HTML object>"
      ]
     },
     "metadata": {},
     "output_type": "display_data"
    },
    {
     "name": "stdout",
     "output_type": "stream",
     "text": [
      "\n",
      "************** Training Started **************\n",
      "\n",
      "EPOCH N. 1\n"
     ]
    },
    {
     "name": "stderr",
     "output_type": "stream",
     "text": [
      "221it [01:36,  2.29it/s]\n"
     ]
    },
    {
     "name": "stdout",
     "output_type": "stream",
     "text": [
      "\n",
      "TRAIN RESULTS\n",
      "Loss: 1.6576855929728547\n",
      "Accuracy: 0.5186393289841565\n",
      "MCC: 0.34798799630377825\n",
      "Macro F1: 0.18973422886992694\n",
      "Macro Precision: 0.2288512915653514\n",
      "Macro Recall: 0.18994651105475716\n",
      "Micro F1: 0.5186393289841565\n",
      "Micro Precision: 0.5186393289841565\n",
      "Micro Recall: 0.5186393289841565\n",
      "\n",
      "VALIDATION RESULTS\n",
      "Loss: 1.1360950469970703\n",
      "Accuracy: 0.6728509585652442\n",
      "MCC: 0.5692480774466769\n",
      "Macro F1: 0.3107001283387215\n",
      "Macro Precision: 0.38377573822252653\n",
      "Macro Recall: 0.3214933667685108\n",
      "Micro F1: 0.6728509585652442\n",
      "Micro Precision: 0.6728509585652442\n",
      "Micro Recall: 0.6728509585652442\n",
      "--------------------------------------------------\n",
      "EPOCH N. 2\n"
     ]
    },
    {
     "name": "stderr",
     "output_type": "stream",
     "text": [
      "221it [01:34,  2.33it/s]\n"
     ]
    },
    {
     "name": "stdout",
     "output_type": "stream",
     "text": [
      "\n",
      "TRAIN RESULTS\n",
      "Loss: 1.022513678575533\n",
      "Accuracy: 0.6712876669773221\n",
      "MCC: 0.5718564298776785\n",
      "Macro F1: 0.43420971090666793\n",
      "Macro Precision: 0.5354763116026923\n",
      "Macro Recall: 0.4061434398504437\n",
      "Micro F1: 0.6712876669773221\n",
      "Micro Precision: 0.6712876669773221\n",
      "Micro Recall: 0.6712876669773221\n",
      "\n",
      "VALIDATION RESULTS\n",
      "Loss: 0.964259147644043\n",
      "Accuracy: 0.70717377860235\n",
      "MCC: 0.6262625851912854\n",
      "Macro F1: 0.5013139046347285\n",
      "Macro Precision: 0.5302727873728583\n",
      "Macro Recall: 0.5078583339489182\n",
      "Micro F1: 0.7071737786023501\n",
      "Micro Precision: 0.70717377860235\n",
      "Micro Recall: 0.70717377860235\n",
      "--------------------------------------------------\n",
      "EPOCH N. 3\n"
     ]
    },
    {
     "name": "stderr",
     "output_type": "stream",
     "text": [
      "221it [01:34,  2.33it/s]\n"
     ]
    },
    {
     "name": "stdout",
     "output_type": "stream",
     "text": [
      "\n",
      "TRAIN RESULTS\n",
      "Loss: 0.8355336285015037\n",
      "Accuracy: 0.7136533084808947\n",
      "MCC: 0.6308444476148347\n",
      "Macro F1: 0.5372232406061832\n",
      "Macro Precision: 0.5915791789774589\n",
      "Macro Recall: 0.5108791253916491\n",
      "Micro F1: 0.7136533084808947\n",
      "Micro Precision: 0.7136533084808947\n",
      "Micro Recall: 0.7136533084808947\n",
      "\n",
      "VALIDATION RESULTS\n",
      "Loss: 0.9125627279281616\n",
      "Accuracy: 0.7084106369820655\n",
      "MCC: 0.6314352636421153\n",
      "Macro F1: 0.5263997919673933\n",
      "Macro Precision: 0.5320111212540353\n",
      "Macro Recall: 0.5643059305000029\n",
      "Micro F1: 0.7084106369820655\n",
      "Micro Precision: 0.7084106369820655\n",
      "Micro Recall: 0.7084106369820655\n",
      "--------------------------------------------------\n",
      "EPOCH N. 4\n"
     ]
    },
    {
     "name": "stderr",
     "output_type": "stream",
     "text": [
      "221it [01:34,  2.35it/s]\n"
     ]
    },
    {
     "name": "stdout",
     "output_type": "stream",
     "text": [
      "\n",
      "TRAIN RESULTS\n",
      "Loss: 0.7145023041181435\n",
      "Accuracy: 0.7491068654861758\n",
      "MCC: 0.6784005626556925\n",
      "Macro F1: 0.5845459158017674\n",
      "Macro Precision: 0.6314247184438873\n",
      "Macro Recall: 0.5625729020689609\n",
      "Micro F1: 0.7491068654861758\n",
      "Micro Precision: 0.7491068654861758\n",
      "Micro Recall: 0.7491068654861758\n",
      "\n",
      "VALIDATION RESULTS\n",
      "Loss: 0.8571597337722778\n",
      "Accuracy: 0.7439703153988868\n",
      "MCC: 0.6687014372784664\n",
      "Macro F1: 0.5660778271545601\n",
      "Macro Precision: 0.5855006200703863\n",
      "Macro Recall: 0.557926534319988\n",
      "Micro F1: 0.7439703153988868\n",
      "Micro Precision: 0.7439703153988868\n",
      "Micro Recall: 0.7439703153988868\n",
      "--------------------------------------------------\n",
      "EPOCH N. 5\n"
     ]
    },
    {
     "name": "stderr",
     "output_type": "stream",
     "text": [
      "221it [01:34,  2.33it/s]\n"
     ]
    },
    {
     "name": "stdout",
     "output_type": "stream",
     "text": [
      "\n",
      "TRAIN RESULTS\n",
      "Loss: 0.5886230208485375\n",
      "Accuracy: 0.7843662628145387\n",
      "MCC: 0.7242585571484922\n",
      "Macro F1: 0.6388583143569584\n",
      "Macro Precision: 0.6795731421761648\n",
      "Macro Recall: 0.6145304525028288\n",
      "Micro F1: 0.7843662628145387\n",
      "Micro Precision: 0.7843662628145387\n",
      "Micro Recall: 0.7843662628145387\n",
      "\n",
      "VALIDATION RESULTS\n",
      "Loss: 0.8857402205467224\n",
      "Accuracy: 0.7105751391465677\n",
      "MCC: 0.635488764647253\n",
      "Macro F1: 0.5662378860582015\n",
      "Macro Precision: 0.5641774325751838\n",
      "Macro Recall: 0.5840323612825148\n",
      "Micro F1: 0.7105751391465677\n",
      "Micro Precision: 0.7105751391465677\n",
      "Micro Recall: 0.7105751391465677\n",
      "--------------------------------------------------\n",
      "EPOCH N. 6\n"
     ]
    },
    {
     "name": "stderr",
     "output_type": "stream",
     "text": [
      "221it [01:34,  2.35it/s]\n"
     ]
    },
    {
     "name": "stdout",
     "output_type": "stream",
     "text": [
      "\n",
      "TRAIN RESULTS\n",
      "Loss: 0.47035504156108354\n",
      "Accuracy: 0.8262659210935073\n",
      "MCC: 0.7785772074450448\n",
      "Macro F1: 0.6992536893452483\n",
      "Macro Precision: 0.7580186041567841\n",
      "Macro Recall: 0.6717458790507629\n",
      "Micro F1: 0.8262659210935073\n",
      "Micro Precision: 0.8262659210935073\n",
      "Micro Recall: 0.8262659210935073\n",
      "\n",
      "VALIDATION RESULTS\n",
      "Loss: 1.0102449655532837\n",
      "Accuracy: 0.7350030921459493\n",
      "MCC: 0.6560770604661509\n",
      "Macro F1: 0.5603132454590833\n",
      "Macro Precision: 0.5935329642252565\n",
      "Macro Recall: 0.5484406660632254\n",
      "Micro F1: 0.7350030921459493\n",
      "Micro Precision: 0.7350030921459493\n",
      "Micro Recall: 0.7350030921459493\n",
      "Early stopped training\n",
      "--------------------------------------------------\n"
     ]
    },
    {
     "data": {
      "text/html": [
       "Waiting for W&B process to finish... <strong style=\"color:green\">(success).</strong>"
      ],
      "text/plain": [
       "<IPython.core.display.HTML object>"
      ]
     },
     "metadata": {},
     "output_type": "display_data"
    },
    {
     "data": {
      "text/html": [
       "<style>\n",
       "    table.wandb td:nth-child(1) { padding: 0 10px; text-align: left ; width: auto;} td:nth-child(2) {text-align: left ; width: 100%}\n",
       "    .wandb-row { display: flex; flex-direction: row; flex-wrap: wrap; justify-content: flex-start; width: 100% }\n",
       "    .wandb-col { display: flex; flex-direction: column; flex-basis: 100%; flex: 1; padding: 10px; }\n",
       "    </style>\n",
       "<div class=\"wandb-row\"><div class=\"wandb-col\"><h3>Run history:</h3><br/><table class=\"wandb\"><tr><td>Epoch</td><td>▁▂▄▅▇█</td></tr><tr><td>Train Loss</td><td>█▄▃▂▂▁</td></tr><tr><td>Validation Loss</td><td>█▄▂▁▂▅</td></tr></table><br/></div><div class=\"wandb-col\"><h3>Run summary:</h3><br/><table class=\"wandb\"><tr><td>Epoch</td><td>6</td></tr><tr><td>Train Loss</td><td>0.47036</td></tr><tr><td>Validation Loss</td><td>1.01024</td></tr></table><br/></div></div>"
      ],
      "text/plain": [
       "<IPython.core.display.HTML object>"
      ]
     },
     "metadata": {},
     "output_type": "display_data"
    },
    {
     "data": {
      "text/html": [
       " View run <strong style=\"color:#cdcd00\">ToBERT-Trial23</strong> at: <a href='https://wandb.ai/gmarinowandb-8601/RhetoricalRolesClassification-BUILD/runs/9w2gpbno' target=\"_blank\">https://wandb.ai/gmarinowandb-8601/RhetoricalRolesClassification-BUILD/runs/9w2gpbno</a><br/>Synced 5 W&B file(s), 0 media file(s), 0 artifact file(s) and 0 other file(s)"
      ],
      "text/plain": [
       "<IPython.core.display.HTML object>"
      ]
     },
     "metadata": {},
     "output_type": "display_data"
    },
    {
     "data": {
      "text/html": [
       "Find logs at: <code>./wandb/run-20230425_190829-9w2gpbno/logs</code>"
      ],
      "text/plain": [
       "<IPython.core.display.HTML object>"
      ]
     },
     "metadata": {},
     "output_type": "display_data"
    },
    {
     "name": "stderr",
     "output_type": "stream",
     "text": [
      "\u001b[32m[I 2023-04-25 19:19:23,745]\u001b[0m Trial 23 finished with value: 0.8571597337722778 and parameters: {'lr': 6.757812624979057e-05, 'weight_decay': 0.08130792228898537, 'embedding': 'rel', 'transformer_dropout': 0.26333531816270517, 'transformer_dim_feedforward': 478}. Best is trial 14 with value: 0.7874695062637329.\u001b[0m\n"
     ]
    },
    {
     "name": "stdout",
     "output_type": "stream",
     "text": [
      "\n",
      "************************ Starting New Optuna Trial ************************\n",
      "\n"
     ]
    },
    {
     "name": "stderr",
     "output_type": "stream",
     "text": [
      "Some weights of the model checkpoint at nlpaueb/legal-bert-base-uncased were not used when initializing BertForTokenClassification: ['cls.seq_relationship.weight', 'cls.predictions.bias', 'cls.predictions.transform.LayerNorm.bias', 'cls.predictions.decoder.bias', 'cls.predictions.decoder.weight', 'cls.seq_relationship.bias', 'cls.predictions.transform.dense.bias', 'cls.predictions.transform.LayerNorm.weight', 'cls.predictions.transform.dense.weight']\n",
      "- This IS expected if you are initializing BertForTokenClassification from the checkpoint of a model trained on another task or with another architecture (e.g. initializing a BertForSequenceClassification model from a BertForPreTraining model).\n",
      "- This IS NOT expected if you are initializing BertForTokenClassification from the checkpoint of a model that you expect to be exactly identical (initializing a BertForSequenceClassification model from a BertForSequenceClassification model).\n",
      "Some weights of BertForTokenClassification were not initialized from the model checkpoint at nlpaueb/legal-bert-base-uncased and are newly initialized: ['classifier.weight', 'classifier.bias']\n",
      "You should probably TRAIN this model on a down-stream task to be able to use it for predictions and inference.\n"
     ]
    },
    {
     "data": {
      "text/html": [
       "wandb version 0.15.0 is available!  To upgrade, please run:\n",
       " $ pip install wandb --upgrade"
      ],
      "text/plain": [
       "<IPython.core.display.HTML object>"
      ]
     },
     "metadata": {},
     "output_type": "display_data"
    },
    {
     "data": {
      "text/html": [
       "Tracking run with wandb version 0.13.10"
      ],
      "text/plain": [
       "<IPython.core.display.HTML object>"
      ]
     },
     "metadata": {},
     "output_type": "display_data"
    },
    {
     "data": {
      "text/html": [
       "Run data is saved locally in <code>/home/g.marino/Desktop/GA/RhetoricalRolesClassification/BUILD/wandb/run-20230425_191925-glkcqq5g</code>"
      ],
      "text/plain": [
       "<IPython.core.display.HTML object>"
      ]
     },
     "metadata": {},
     "output_type": "display_data"
    },
    {
     "data": {
      "text/html": [
       "Syncing run <strong><a href='https://wandb.ai/gmarinowandb-8601/RhetoricalRolesClassification-BUILD/runs/glkcqq5g' target=\"_blank\">ToBERT-Trial24</a></strong> to <a href='https://wandb.ai/gmarinowandb-8601/RhetoricalRolesClassification-BUILD' target=\"_blank\">Weights & Biases</a> (<a href='https://wandb.me/run' target=\"_blank\">docs</a>)<br/>"
      ],
      "text/plain": [
       "<IPython.core.display.HTML object>"
      ]
     },
     "metadata": {},
     "output_type": "display_data"
    },
    {
     "data": {
      "text/html": [
       " View project at <a href='https://wandb.ai/gmarinowandb-8601/RhetoricalRolesClassification-BUILD' target=\"_blank\">https://wandb.ai/gmarinowandb-8601/RhetoricalRolesClassification-BUILD</a>"
      ],
      "text/plain": [
       "<IPython.core.display.HTML object>"
      ]
     },
     "metadata": {},
     "output_type": "display_data"
    },
    {
     "data": {
      "text/html": [
       " View run at <a href='https://wandb.ai/gmarinowandb-8601/RhetoricalRolesClassification-BUILD/runs/glkcqq5g' target=\"_blank\">https://wandb.ai/gmarinowandb-8601/RhetoricalRolesClassification-BUILD/runs/glkcqq5g</a>"
      ],
      "text/plain": [
       "<IPython.core.display.HTML object>"
      ]
     },
     "metadata": {},
     "output_type": "display_data"
    },
    {
     "name": "stdout",
     "output_type": "stream",
     "text": [
      "\n",
      "************** Training Started **************\n",
      "\n",
      "EPOCH N. 1\n"
     ]
    },
    {
     "name": "stderr",
     "output_type": "stream",
     "text": [
      "221it [01:35,  2.32it/s]\n"
     ]
    },
    {
     "name": "stdout",
     "output_type": "stream",
     "text": [
      "\n",
      "TRAIN RESULTS\n",
      "Loss: 1.5205634697530064\n",
      "Accuracy: 0.5596070208139173\n",
      "MCC: 0.4091152303542954\n",
      "Macro F1: 0.2213448799095769\n",
      "Macro Precision: 0.30334079549982834\n",
      "Macro Recall: 0.22194957639814833\n",
      "Micro F1: 0.5596070208139173\n",
      "Micro Precision: 0.5596070208139173\n",
      "Micro Recall: 0.5596070208139173\n",
      "\n",
      "VALIDATION RESULTS\n",
      "Loss: 1.082459807395935\n",
      "Accuracy: 0.6731601731601732\n",
      "MCC: 0.5659722438635678\n",
      "Macro F1: 0.3250401721293666\n",
      "Macro Precision: 0.46893029069855197\n",
      "Macro Recall: 0.3278852586473704\n",
      "Micro F1: 0.6731601731601732\n",
      "Micro Precision: 0.6731601731601732\n",
      "Micro Recall: 0.6731601731601732\n",
      "--------------------------------------------------\n",
      "EPOCH N. 2\n"
     ]
    },
    {
     "name": "stderr",
     "output_type": "stream",
     "text": [
      "221it [01:37,  2.27it/s]\n"
     ]
    },
    {
     "name": "stdout",
     "output_type": "stream",
     "text": [
      "\n",
      "TRAIN RESULTS\n",
      "Loss: 0.9870651271278502\n",
      "Accuracy: 0.6798306927617273\n",
      "MCC: 0.5838278297682971\n",
      "Macro F1: 0.4494188485016565\n",
      "Macro Precision: 0.5614926338867856\n",
      "Macro Recall: 0.41701801946127215\n",
      "Micro F1: 0.6798306927617273\n",
      "Micro Precision: 0.6798306927617273\n",
      "Micro Recall: 0.6798306927617273\n",
      "\n",
      "VALIDATION RESULTS\n",
      "Loss: 0.869399905204773\n",
      "Accuracy: 0.733147804576376\n",
      "MCC: 0.6506701540203814\n",
      "Macro F1: 0.5147611755607897\n",
      "Macro Precision: 0.5980943791168841\n",
      "Macro Recall: 0.5064343480343895\n",
      "Micro F1: 0.7331478045763758\n",
      "Micro Precision: 0.733147804576376\n",
      "Micro Recall: 0.733147804576376\n",
      "--------------------------------------------------\n",
      "EPOCH N. 3\n"
     ]
    },
    {
     "name": "stderr",
     "output_type": "stream",
     "text": [
      "221it [01:39,  2.22it/s]\n"
     ]
    },
    {
     "name": "stdout",
     "output_type": "stream",
     "text": [
      "\n",
      "TRAIN RESULTS\n",
      "Loss: 0.7997549737201017\n",
      "Accuracy: 0.7295355700528114\n",
      "MCC: 0.6510577098891502\n",
      "Macro F1: 0.5519443164491923\n",
      "Macro Precision: 0.6218108234348384\n",
      "Macro Recall: 0.5214686428093156\n",
      "Micro F1: 0.7295355700528113\n",
      "Micro Precision: 0.7295355700528114\n",
      "Micro Recall: 0.7295355700528114\n",
      "\n",
      "VALIDATION RESULTS\n",
      "Loss: 0.9616739749908447\n",
      "Accuracy: 0.696969696969697\n",
      "MCC: 0.6209041599829404\n",
      "Macro F1: 0.5392405534440701\n",
      "Macro Precision: 0.5519721493247081\n",
      "Macro Recall: 0.5533250914337633\n",
      "Micro F1: 0.696969696969697\n",
      "Micro Precision: 0.696969696969697\n",
      "Micro Recall: 0.696969696969697\n",
      "--------------------------------------------------\n",
      "EPOCH N. 4\n"
     ]
    },
    {
     "name": "stderr",
     "output_type": "stream",
     "text": [
      "221it [01:34,  2.33it/s]\n"
     ]
    },
    {
     "name": "stdout",
     "output_type": "stream",
     "text": [
      "\n",
      "TRAIN RESULTS\n",
      "Loss: 0.6976691272059178\n",
      "Accuracy: 0.7503106554830693\n",
      "MCC: 0.6796552086465604\n",
      "Macro F1: 0.5909728525667963\n",
      "Macro Precision: 0.6408240989535492\n",
      "Macro Recall: 0.5663898085885752\n",
      "Micro F1: 0.7503106554830693\n",
      "Micro Precision: 0.7503106554830693\n",
      "Micro Recall: 0.7503106554830693\n",
      "\n",
      "VALIDATION RESULTS\n",
      "Loss: 0.847402036190033\n",
      "Accuracy: 0.733147804576376\n",
      "MCC: 0.6566678687142775\n",
      "Macro F1: 0.5550713728863647\n",
      "Macro Precision: 0.5948746782027838\n",
      "Macro Recall: 0.5433639778999952\n",
      "Micro F1: 0.7331478045763758\n",
      "Micro Precision: 0.733147804576376\n",
      "Micro Recall: 0.733147804576376\n",
      "--------------------------------------------------\n",
      "EPOCH N. 5\n"
     ]
    },
    {
     "name": "stderr",
     "output_type": "stream",
     "text": [
      "221it [01:33,  2.37it/s]\n"
     ]
    },
    {
     "name": "stdout",
     "output_type": "stream",
     "text": [
      "\n",
      "TRAIN RESULTS\n",
      "Loss: 0.595473262923875\n",
      "Accuracy: 0.7873174899036968\n",
      "MCC: 0.7275688396736882\n",
      "Macro F1: 0.6328115052903072\n",
      "Macro Precision: 0.6857554744601739\n",
      "Macro Recall: 0.6040139483469352\n",
      "Micro F1: 0.7873174899036968\n",
      "Micro Precision: 0.7873174899036968\n",
      "Micro Recall: 0.7873174899036968\n",
      "\n",
      "VALIDATION RESULTS\n",
      "Loss: 0.9078492522239685\n",
      "Accuracy: 0.7220160791589363\n",
      "MCC: 0.6495881027616875\n",
      "Macro F1: 0.5659134571132567\n",
      "Macro Precision: 0.5625942647191438\n",
      "Macro Recall: 0.5906024818670587\n",
      "Micro F1: 0.7220160791589363\n",
      "Micro Precision: 0.7220160791589363\n",
      "Micro Recall: 0.7220160791589363\n",
      "--------------------------------------------------\n",
      "EPOCH N. 6\n"
     ]
    },
    {
     "name": "stderr",
     "output_type": "stream",
     "text": [
      "221it [01:35,  2.32it/s]\n"
     ]
    },
    {
     "name": "stdout",
     "output_type": "stream",
     "text": [
      "\n",
      "TRAIN RESULTS\n",
      "Loss: 0.49259273057205105\n",
      "Accuracy: 0.8202469711090401\n",
      "MCC: 0.7711314283754087\n",
      "Macro F1: 0.6798031161572126\n",
      "Macro Precision: 0.7109227295796945\n",
      "Macro Recall: 0.6588299344185082\n",
      "Micro F1: 0.8202469711090401\n",
      "Micro Precision: 0.8202469711090401\n",
      "Micro Recall: 0.8202469711090401\n",
      "\n",
      "VALIDATION RESULTS\n",
      "Loss: 0.9317430257797241\n",
      "Accuracy: 0.7430426716141002\n",
      "MCC: 0.6656891324249755\n",
      "Macro F1: 0.5534499652821555\n",
      "Macro Precision: 0.644001796345453\n",
      "Macro Recall: 0.5057552633710813\n",
      "Micro F1: 0.7430426716141001\n",
      "Micro Precision: 0.7430426716141002\n",
      "Micro Recall: 0.7430426716141002\n",
      "Early stopped training\n",
      "--------------------------------------------------\n"
     ]
    },
    {
     "data": {
      "text/html": [
       "Waiting for W&B process to finish... <strong style=\"color:green\">(success).</strong>"
      ],
      "text/plain": [
       "<IPython.core.display.HTML object>"
      ]
     },
     "metadata": {},
     "output_type": "display_data"
    },
    {
     "data": {
      "text/html": [
       "<style>\n",
       "    table.wandb td:nth-child(1) { padding: 0 10px; text-align: left ; width: auto;} td:nth-child(2) {text-align: left ; width: 100%}\n",
       "    .wandb-row { display: flex; flex-direction: row; flex-wrap: wrap; justify-content: flex-start; width: 100% }\n",
       "    .wandb-col { display: flex; flex-direction: column; flex-basis: 100%; flex: 1; padding: 10px; }\n",
       "    </style>\n",
       "<div class=\"wandb-row\"><div class=\"wandb-col\"><h3>Run history:</h3><br/><table class=\"wandb\"><tr><td>Epoch</td><td>▁▂▄▅▇█</td></tr><tr><td>Train Loss</td><td>█▄▃▂▂▁</td></tr><tr><td>Validation Loss</td><td>█▂▄▁▃▄</td></tr></table><br/></div><div class=\"wandb-col\"><h3>Run summary:</h3><br/><table class=\"wandb\"><tr><td>Epoch</td><td>6</td></tr><tr><td>Train Loss</td><td>0.49259</td></tr><tr><td>Validation Loss</td><td>0.93174</td></tr></table><br/></div></div>"
      ],
      "text/plain": [
       "<IPython.core.display.HTML object>"
      ]
     },
     "metadata": {},
     "output_type": "display_data"
    },
    {
     "data": {
      "text/html": [
       " View run <strong style=\"color:#cdcd00\">ToBERT-Trial24</strong> at: <a href='https://wandb.ai/gmarinowandb-8601/RhetoricalRolesClassification-BUILD/runs/glkcqq5g' target=\"_blank\">https://wandb.ai/gmarinowandb-8601/RhetoricalRolesClassification-BUILD/runs/glkcqq5g</a><br/>Synced 5 W&B file(s), 0 media file(s), 0 artifact file(s) and 0 other file(s)"
      ],
      "text/plain": [
       "<IPython.core.display.HTML object>"
      ]
     },
     "metadata": {},
     "output_type": "display_data"
    },
    {
     "data": {
      "text/html": [
       "Find logs at: <code>./wandb/run-20230425_191925-glkcqq5g/logs</code>"
      ],
      "text/plain": [
       "<IPython.core.display.HTML object>"
      ]
     },
     "metadata": {},
     "output_type": "display_data"
    },
    {
     "name": "stderr",
     "output_type": "stream",
     "text": [
      "\u001b[32m[I 2023-04-25 19:30:27,646]\u001b[0m Trial 24 finished with value: 0.847402036190033 and parameters: {'lr': 4.082796016564683e-05, 'weight_decay': 0.07195141259379267, 'embedding': 'rel', 'transformer_dropout': 0.16909541741369144, 'transformer_dim_feedforward': 935}. Best is trial 14 with value: 0.7874695062637329.\u001b[0m\n"
     ]
    },
    {
     "name": "stdout",
     "output_type": "stream",
     "text": [
      "\n",
      "************************ Starting New Optuna Trial ************************\n",
      "\n"
     ]
    },
    {
     "name": "stderr",
     "output_type": "stream",
     "text": [
      "Some weights of the model checkpoint at nlpaueb/legal-bert-base-uncased were not used when initializing BertForTokenClassification: ['cls.seq_relationship.weight', 'cls.predictions.bias', 'cls.predictions.transform.LayerNorm.bias', 'cls.predictions.decoder.bias', 'cls.predictions.decoder.weight', 'cls.seq_relationship.bias', 'cls.predictions.transform.dense.bias', 'cls.predictions.transform.LayerNorm.weight', 'cls.predictions.transform.dense.weight']\n",
      "- This IS expected if you are initializing BertForTokenClassification from the checkpoint of a model trained on another task or with another architecture (e.g. initializing a BertForSequenceClassification model from a BertForPreTraining model).\n",
      "- This IS NOT expected if you are initializing BertForTokenClassification from the checkpoint of a model that you expect to be exactly identical (initializing a BertForSequenceClassification model from a BertForSequenceClassification model).\n",
      "Some weights of BertForTokenClassification were not initialized from the model checkpoint at nlpaueb/legal-bert-base-uncased and are newly initialized: ['classifier.weight', 'classifier.bias']\n",
      "You should probably TRAIN this model on a down-stream task to be able to use it for predictions and inference.\n"
     ]
    },
    {
     "data": {
      "text/html": [
       "wandb version 0.15.0 is available!  To upgrade, please run:\n",
       " $ pip install wandb --upgrade"
      ],
      "text/plain": [
       "<IPython.core.display.HTML object>"
      ]
     },
     "metadata": {},
     "output_type": "display_data"
    },
    {
     "data": {
      "text/html": [
       "Tracking run with wandb version 0.13.10"
      ],
      "text/plain": [
       "<IPython.core.display.HTML object>"
      ]
     },
     "metadata": {},
     "output_type": "display_data"
    },
    {
     "data": {
      "text/html": [
       "Run data is saved locally in <code>/home/g.marino/Desktop/GA/RhetoricalRolesClassification/BUILD/wandb/run-20230425_193029-8uq1mtsk</code>"
      ],
      "text/plain": [
       "<IPython.core.display.HTML object>"
      ]
     },
     "metadata": {},
     "output_type": "display_data"
    },
    {
     "data": {
      "text/html": [
       "Syncing run <strong><a href='https://wandb.ai/gmarinowandb-8601/RhetoricalRolesClassification-BUILD/runs/8uq1mtsk' target=\"_blank\">ToBERT-Trial25</a></strong> to <a href='https://wandb.ai/gmarinowandb-8601/RhetoricalRolesClassification-BUILD' target=\"_blank\">Weights & Biases</a> (<a href='https://wandb.me/run' target=\"_blank\">docs</a>)<br/>"
      ],
      "text/plain": [
       "<IPython.core.display.HTML object>"
      ]
     },
     "metadata": {},
     "output_type": "display_data"
    },
    {
     "data": {
      "text/html": [
       " View project at <a href='https://wandb.ai/gmarinowandb-8601/RhetoricalRolesClassification-BUILD' target=\"_blank\">https://wandb.ai/gmarinowandb-8601/RhetoricalRolesClassification-BUILD</a>"
      ],
      "text/plain": [
       "<IPython.core.display.HTML object>"
      ]
     },
     "metadata": {},
     "output_type": "display_data"
    },
    {
     "data": {
      "text/html": [
       " View run at <a href='https://wandb.ai/gmarinowandb-8601/RhetoricalRolesClassification-BUILD/runs/8uq1mtsk' target=\"_blank\">https://wandb.ai/gmarinowandb-8601/RhetoricalRolesClassification-BUILD/runs/8uq1mtsk</a>"
      ],
      "text/plain": [
       "<IPython.core.display.HTML object>"
      ]
     },
     "metadata": {},
     "output_type": "display_data"
    },
    {
     "name": "stdout",
     "output_type": "stream",
     "text": [
      "\n",
      "************** Training Started **************\n",
      "\n",
      "EPOCH N. 1\n"
     ]
    },
    {
     "name": "stderr",
     "output_type": "stream",
     "text": [
      "221it [01:35,  2.31it/s]\n"
     ]
    },
    {
     "name": "stdout",
     "output_type": "stream",
     "text": [
      "\n",
      "TRAIN RESULTS\n",
      "Loss: 1.665908619828893\n",
      "Accuracy: 0.49029201615408513\n",
      "MCC: 0.3116407346188256\n",
      "Macro F1: 0.17604075485402962\n",
      "Macro Precision: 0.19903641704122726\n",
      "Macro Recall: 0.18294287264483217\n",
      "Micro F1: 0.49029201615408513\n",
      "Micro Precision: 0.49029201615408513\n",
      "Micro Recall: 0.49029201615408513\n",
      "\n",
      "VALIDATION RESULTS\n",
      "Loss: 1.4522918462753296\n",
      "Accuracy: 0.5834879406307978\n",
      "MCC: 0.4426880800791053\n",
      "Macro F1: 0.1980631998892114\n",
      "Macro Precision: 0.21614001358551932\n",
      "Macro Recall: 0.2258837602026592\n",
      "Micro F1: 0.5834879406307978\n",
      "Micro Precision: 0.5834879406307978\n",
      "Micro Recall: 0.5834879406307978\n",
      "--------------------------------------------------\n"
     ]
    },
    {
     "data": {
      "text/html": [
       "Waiting for W&B process to finish... <strong style=\"color:red\">(failed 1).</strong> Press Control-C to abort syncing."
      ],
      "text/plain": [
       "<IPython.core.display.HTML object>"
      ]
     },
     "metadata": {},
     "output_type": "display_data"
    },
    {
     "data": {
      "application/vnd.jupyter.widget-view+json": {
       "model_id": "d14df9faf4b647fe979e79b0ce63ca6a",
       "version_major": 2,
       "version_minor": 0
      },
      "text/plain": [
       "VBox(children=(Label(value='0.005 MB of 0.005 MB uploaded (0.000 MB deduped)\\r'), FloatProgress(value=1.0, max…"
      ]
     },
     "metadata": {},
     "output_type": "display_data"
    },
    {
     "data": {
      "text/html": [
       "<style>\n",
       "    table.wandb td:nth-child(1) { padding: 0 10px; text-align: left ; width: auto;} td:nth-child(2) {text-align: left ; width: 100%}\n",
       "    .wandb-row { display: flex; flex-direction: row; flex-wrap: wrap; justify-content: flex-start; width: 100% }\n",
       "    .wandb-col { display: flex; flex-direction: column; flex-basis: 100%; flex: 1; padding: 10px; }\n",
       "    </style>\n",
       "<div class=\"wandb-row\"><div class=\"wandb-col\"><h3>Run history:</h3><br/><table class=\"wandb\"><tr><td>Epoch</td><td>▁</td></tr><tr><td>Train Loss</td><td>▁</td></tr><tr><td>Validation Loss</td><td>▁</td></tr></table><br/></div><div class=\"wandb-col\"><h3>Run summary:</h3><br/><table class=\"wandb\"><tr><td>Epoch</td><td>1</td></tr><tr><td>Train Loss</td><td>1.66591</td></tr><tr><td>Validation Loss</td><td>1.45229</td></tr></table><br/></div></div>"
      ],
      "text/plain": [
       "<IPython.core.display.HTML object>"
      ]
     },
     "metadata": {},
     "output_type": "display_data"
    },
    {
     "data": {
      "text/html": [
       " View run <strong style=\"color:#cdcd00\">ToBERT-Trial25</strong> at: <a href='https://wandb.ai/gmarinowandb-8601/RhetoricalRolesClassification-BUILD/runs/8uq1mtsk' target=\"_blank\">https://wandb.ai/gmarinowandb-8601/RhetoricalRolesClassification-BUILD/runs/8uq1mtsk</a><br/>Synced 5 W&B file(s), 0 media file(s), 0 artifact file(s) and 0 other file(s)"
      ],
      "text/plain": [
       "<IPython.core.display.HTML object>"
      ]
     },
     "metadata": {},
     "output_type": "display_data"
    },
    {
     "data": {
      "text/html": [
       "Find logs at: <code>./wandb/run-20230425_193029-8uq1mtsk/logs</code>"
      ],
      "text/plain": [
       "<IPython.core.display.HTML object>"
      ]
     },
     "metadata": {},
     "output_type": "display_data"
    },
    {
     "name": "stderr",
     "output_type": "stream",
     "text": [
      "\u001b[32m[I 2023-04-25 19:32:39,605]\u001b[0m Trial 25 pruned. \u001b[0m\n"
     ]
    },
    {
     "name": "stdout",
     "output_type": "stream",
     "text": [
      "\n",
      "************************ Starting New Optuna Trial ************************\n",
      "\n"
     ]
    },
    {
     "name": "stderr",
     "output_type": "stream",
     "text": [
      "Some weights of the model checkpoint at nlpaueb/legal-bert-base-uncased were not used when initializing BertForTokenClassification: ['cls.seq_relationship.weight', 'cls.predictions.bias', 'cls.predictions.transform.LayerNorm.bias', 'cls.predictions.decoder.bias', 'cls.predictions.decoder.weight', 'cls.seq_relationship.bias', 'cls.predictions.transform.dense.bias', 'cls.predictions.transform.LayerNorm.weight', 'cls.predictions.transform.dense.weight']\n",
      "- This IS expected if you are initializing BertForTokenClassification from the checkpoint of a model trained on another task or with another architecture (e.g. initializing a BertForSequenceClassification model from a BertForPreTraining model).\n",
      "- This IS NOT expected if you are initializing BertForTokenClassification from the checkpoint of a model that you expect to be exactly identical (initializing a BertForSequenceClassification model from a BertForSequenceClassification model).\n",
      "Some weights of BertForTokenClassification were not initialized from the model checkpoint at nlpaueb/legal-bert-base-uncased and are newly initialized: ['classifier.weight', 'classifier.bias']\n",
      "You should probably TRAIN this model on a down-stream task to be able to use it for predictions and inference.\n"
     ]
    },
    {
     "data": {
      "text/html": [
       "wandb version 0.15.0 is available!  To upgrade, please run:\n",
       " $ pip install wandb --upgrade"
      ],
      "text/plain": [
       "<IPython.core.display.HTML object>"
      ]
     },
     "metadata": {},
     "output_type": "display_data"
    },
    {
     "data": {
      "text/html": [
       "Tracking run with wandb version 0.13.10"
      ],
      "text/plain": [
       "<IPython.core.display.HTML object>"
      ]
     },
     "metadata": {},
     "output_type": "display_data"
    },
    {
     "data": {
      "text/html": [
       "Run data is saved locally in <code>/home/g.marino/Desktop/GA/RhetoricalRolesClassification/BUILD/wandb/run-20230425_193241-0dwzl14w</code>"
      ],
      "text/plain": [
       "<IPython.core.display.HTML object>"
      ]
     },
     "metadata": {},
     "output_type": "display_data"
    },
    {
     "data": {
      "text/html": [
       "Syncing run <strong><a href='https://wandb.ai/gmarinowandb-8601/RhetoricalRolesClassification-BUILD/runs/0dwzl14w' target=\"_blank\">ToBERT-Trial26</a></strong> to <a href='https://wandb.ai/gmarinowandb-8601/RhetoricalRolesClassification-BUILD' target=\"_blank\">Weights & Biases</a> (<a href='https://wandb.me/run' target=\"_blank\">docs</a>)<br/>"
      ],
      "text/plain": [
       "<IPython.core.display.HTML object>"
      ]
     },
     "metadata": {},
     "output_type": "display_data"
    },
    {
     "data": {
      "text/html": [
       " View project at <a href='https://wandb.ai/gmarinowandb-8601/RhetoricalRolesClassification-BUILD' target=\"_blank\">https://wandb.ai/gmarinowandb-8601/RhetoricalRolesClassification-BUILD</a>"
      ],
      "text/plain": [
       "<IPython.core.display.HTML object>"
      ]
     },
     "metadata": {},
     "output_type": "display_data"
    },
    {
     "data": {
      "text/html": [
       " View run at <a href='https://wandb.ai/gmarinowandb-8601/RhetoricalRolesClassification-BUILD/runs/0dwzl14w' target=\"_blank\">https://wandb.ai/gmarinowandb-8601/RhetoricalRolesClassification-BUILD/runs/0dwzl14w</a>"
      ],
      "text/plain": [
       "<IPython.core.display.HTML object>"
      ]
     },
     "metadata": {},
     "output_type": "display_data"
    },
    {
     "name": "stdout",
     "output_type": "stream",
     "text": [
      "\n",
      "************** Training Started **************\n",
      "\n",
      "EPOCH N. 1\n"
     ]
    },
    {
     "name": "stderr",
     "output_type": "stream",
     "text": [
      "221it [01:35,  2.32it/s]\n"
     ]
    },
    {
     "name": "stdout",
     "output_type": "stream",
     "text": [
      "\n",
      "TRAIN RESULTS\n",
      "Loss: 1.6813551190212301\n",
      "Accuracy: 0.47573004038521277\n",
      "MCC: 0.29260146425638567\n",
      "Macro F1: 0.16546297210783795\n",
      "Macro Precision: 0.19123876321137992\n",
      "Macro Recall: 0.17447403536567668\n",
      "Micro F1: 0.4757300403852128\n",
      "Micro Precision: 0.47573004038521277\n",
      "Micro Recall: 0.47573004038521277\n",
      "\n",
      "VALIDATION RESULTS\n",
      "Loss: 1.4688466787338257\n",
      "Accuracy: 0.5383426097711812\n",
      "MCC: 0.3616578965698923\n",
      "Macro F1: 0.17799275116946905\n",
      "Macro Precision: 0.26370540697927675\n",
      "Macro Recall: 0.17267470556837458\n",
      "Micro F1: 0.5383426097711812\n",
      "Micro Precision: 0.5383426097711812\n",
      "Micro Recall: 0.5383426097711812\n",
      "--------------------------------------------------\n"
     ]
    },
    {
     "data": {
      "text/html": [
       "Waiting for W&B process to finish... <strong style=\"color:red\">(failed 1).</strong> Press Control-C to abort syncing."
      ],
      "text/plain": [
       "<IPython.core.display.HTML object>"
      ]
     },
     "metadata": {},
     "output_type": "display_data"
    },
    {
     "data": {
      "application/vnd.jupyter.widget-view+json": {
       "model_id": "8a1ed9c6b6a04762bb35355c2e757100",
       "version_major": 2,
       "version_minor": 0
      },
      "text/plain": [
       "VBox(children=(Label(value='0.005 MB of 0.005 MB uploaded (0.000 MB deduped)\\r'), FloatProgress(value=1.0, max…"
      ]
     },
     "metadata": {},
     "output_type": "display_data"
    },
    {
     "data": {
      "text/html": [
       "<style>\n",
       "    table.wandb td:nth-child(1) { padding: 0 10px; text-align: left ; width: auto;} td:nth-child(2) {text-align: left ; width: 100%}\n",
       "    .wandb-row { display: flex; flex-direction: row; flex-wrap: wrap; justify-content: flex-start; width: 100% }\n",
       "    .wandb-col { display: flex; flex-direction: column; flex-basis: 100%; flex: 1; padding: 10px; }\n",
       "    </style>\n",
       "<div class=\"wandb-row\"><div class=\"wandb-col\"><h3>Run history:</h3><br/><table class=\"wandb\"><tr><td>Epoch</td><td>▁</td></tr><tr><td>Train Loss</td><td>▁</td></tr><tr><td>Validation Loss</td><td>▁</td></tr></table><br/></div><div class=\"wandb-col\"><h3>Run summary:</h3><br/><table class=\"wandb\"><tr><td>Epoch</td><td>1</td></tr><tr><td>Train Loss</td><td>1.68136</td></tr><tr><td>Validation Loss</td><td>1.46885</td></tr></table><br/></div></div>"
      ],
      "text/plain": [
       "<IPython.core.display.HTML object>"
      ]
     },
     "metadata": {},
     "output_type": "display_data"
    },
    {
     "data": {
      "text/html": [
       " View run <strong style=\"color:#cdcd00\">ToBERT-Trial26</strong> at: <a href='https://wandb.ai/gmarinowandb-8601/RhetoricalRolesClassification-BUILD/runs/0dwzl14w' target=\"_blank\">https://wandb.ai/gmarinowandb-8601/RhetoricalRolesClassification-BUILD/runs/0dwzl14w</a><br/>Synced 5 W&B file(s), 0 media file(s), 0 artifact file(s) and 0 other file(s)"
      ],
      "text/plain": [
       "<IPython.core.display.HTML object>"
      ]
     },
     "metadata": {},
     "output_type": "display_data"
    },
    {
     "data": {
      "text/html": [
       "Find logs at: <code>./wandb/run-20230425_193241-0dwzl14w/logs</code>"
      ],
      "text/plain": [
       "<IPython.core.display.HTML object>"
      ]
     },
     "metadata": {},
     "output_type": "display_data"
    },
    {
     "name": "stderr",
     "output_type": "stream",
     "text": [
      "\u001b[32m[I 2023-04-25 19:34:49,908]\u001b[0m Trial 26 pruned. \u001b[0m\n"
     ]
    },
    {
     "name": "stdout",
     "output_type": "stream",
     "text": [
      "\n",
      "************************ Starting New Optuna Trial ************************\n",
      "\n"
     ]
    },
    {
     "name": "stderr",
     "output_type": "stream",
     "text": [
      "Some weights of the model checkpoint at nlpaueb/legal-bert-base-uncased were not used when initializing BertForTokenClassification: ['cls.seq_relationship.weight', 'cls.predictions.bias', 'cls.predictions.transform.LayerNorm.bias', 'cls.predictions.decoder.bias', 'cls.predictions.decoder.weight', 'cls.seq_relationship.bias', 'cls.predictions.transform.dense.bias', 'cls.predictions.transform.LayerNorm.weight', 'cls.predictions.transform.dense.weight']\n",
      "- This IS expected if you are initializing BertForTokenClassification from the checkpoint of a model trained on another task or with another architecture (e.g. initializing a BertForSequenceClassification model from a BertForPreTraining model).\n",
      "- This IS NOT expected if you are initializing BertForTokenClassification from the checkpoint of a model that you expect to be exactly identical (initializing a BertForSequenceClassification model from a BertForSequenceClassification model).\n",
      "Some weights of BertForTokenClassification were not initialized from the model checkpoint at nlpaueb/legal-bert-base-uncased and are newly initialized: ['classifier.weight', 'classifier.bias']\n",
      "You should probably TRAIN this model on a down-stream task to be able to use it for predictions and inference.\n"
     ]
    },
    {
     "data": {
      "text/html": [
       "wandb version 0.15.0 is available!  To upgrade, please run:\n",
       " $ pip install wandb --upgrade"
      ],
      "text/plain": [
       "<IPython.core.display.HTML object>"
      ]
     },
     "metadata": {},
     "output_type": "display_data"
    },
    {
     "data": {
      "text/html": [
       "Tracking run with wandb version 0.13.10"
      ],
      "text/plain": [
       "<IPython.core.display.HTML object>"
      ]
     },
     "metadata": {},
     "output_type": "display_data"
    },
    {
     "data": {
      "text/html": [
       "Run data is saved locally in <code>/home/g.marino/Desktop/GA/RhetoricalRolesClassification/BUILD/wandb/run-20230425_193451-q44lxyt6</code>"
      ],
      "text/plain": [
       "<IPython.core.display.HTML object>"
      ]
     },
     "metadata": {},
     "output_type": "display_data"
    },
    {
     "data": {
      "text/html": [
       "Syncing run <strong><a href='https://wandb.ai/gmarinowandb-8601/RhetoricalRolesClassification-BUILD/runs/q44lxyt6' target=\"_blank\">ToBERT-Trial27</a></strong> to <a href='https://wandb.ai/gmarinowandb-8601/RhetoricalRolesClassification-BUILD' target=\"_blank\">Weights & Biases</a> (<a href='https://wandb.me/run' target=\"_blank\">docs</a>)<br/>"
      ],
      "text/plain": [
       "<IPython.core.display.HTML object>"
      ]
     },
     "metadata": {},
     "output_type": "display_data"
    },
    {
     "data": {
      "text/html": [
       " View project at <a href='https://wandb.ai/gmarinowandb-8601/RhetoricalRolesClassification-BUILD' target=\"_blank\">https://wandb.ai/gmarinowandb-8601/RhetoricalRolesClassification-BUILD</a>"
      ],
      "text/plain": [
       "<IPython.core.display.HTML object>"
      ]
     },
     "metadata": {},
     "output_type": "display_data"
    },
    {
     "data": {
      "text/html": [
       " View run at <a href='https://wandb.ai/gmarinowandb-8601/RhetoricalRolesClassification-BUILD/runs/q44lxyt6' target=\"_blank\">https://wandb.ai/gmarinowandb-8601/RhetoricalRolesClassification-BUILD/runs/q44lxyt6</a>"
      ],
      "text/plain": [
       "<IPython.core.display.HTML object>"
      ]
     },
     "metadata": {},
     "output_type": "display_data"
    },
    {
     "name": "stdout",
     "output_type": "stream",
     "text": [
      "\n",
      "************** Training Started **************\n",
      "\n",
      "EPOCH N. 1\n"
     ]
    },
    {
     "name": "stderr",
     "output_type": "stream",
     "text": [
      "221it [01:35,  2.32it/s]\n"
     ]
    },
    {
     "name": "stdout",
     "output_type": "stream",
     "text": [
      "\n",
      "TRAIN RESULTS\n",
      "Loss: 1.7557623540114493\n",
      "Accuracy: 0.48058403230817026\n",
      "MCC: 0.2961537987571068\n",
      "Macro F1: 0.16219962830627319\n",
      "Macro Precision: 0.1979697365857852\n",
      "Macro Recall: 0.1695820284412895\n",
      "Micro F1: 0.48058403230817026\n",
      "Micro Precision: 0.48058403230817026\n",
      "Micro Recall: 0.48058403230817026\n",
      "\n",
      "VALIDATION RESULTS\n",
      "Loss: 1.4941414594650269\n",
      "Accuracy: 0.5924551638837353\n",
      "MCC: 0.4564885914109369\n",
      "Macro F1: 0.20068903581760755\n",
      "Macro Precision: 0.1874716073462408\n",
      "Macro Recall: 0.22319481805577868\n",
      "Micro F1: 0.5924551638837353\n",
      "Micro Precision: 0.5924551638837353\n",
      "Micro Recall: 0.5924551638837353\n",
      "--------------------------------------------------\n"
     ]
    },
    {
     "data": {
      "text/html": [
       "Waiting for W&B process to finish... <strong style=\"color:red\">(failed 1).</strong> Press Control-C to abort syncing."
      ],
      "text/plain": [
       "<IPython.core.display.HTML object>"
      ]
     },
     "metadata": {},
     "output_type": "display_data"
    },
    {
     "data": {
      "application/vnd.jupyter.widget-view+json": {
       "model_id": "22b9024c36d544dbbb0bc14e8ce1e77f",
       "version_major": 2,
       "version_minor": 0
      },
      "text/plain": [
       "VBox(children=(Label(value='0.005 MB of 0.005 MB uploaded (0.000 MB deduped)\\r'), FloatProgress(value=1.0, max…"
      ]
     },
     "metadata": {},
     "output_type": "display_data"
    },
    {
     "data": {
      "text/html": [
       "<style>\n",
       "    table.wandb td:nth-child(1) { padding: 0 10px; text-align: left ; width: auto;} td:nth-child(2) {text-align: left ; width: 100%}\n",
       "    .wandb-row { display: flex; flex-direction: row; flex-wrap: wrap; justify-content: flex-start; width: 100% }\n",
       "    .wandb-col { display: flex; flex-direction: column; flex-basis: 100%; flex: 1; padding: 10px; }\n",
       "    </style>\n",
       "<div class=\"wandb-row\"><div class=\"wandb-col\"><h3>Run history:</h3><br/><table class=\"wandb\"><tr><td>Epoch</td><td>▁</td></tr><tr><td>Train Loss</td><td>▁</td></tr><tr><td>Validation Loss</td><td>▁</td></tr></table><br/></div><div class=\"wandb-col\"><h3>Run summary:</h3><br/><table class=\"wandb\"><tr><td>Epoch</td><td>1</td></tr><tr><td>Train Loss</td><td>1.75576</td></tr><tr><td>Validation Loss</td><td>1.49414</td></tr></table><br/></div></div>"
      ],
      "text/plain": [
       "<IPython.core.display.HTML object>"
      ]
     },
     "metadata": {},
     "output_type": "display_data"
    },
    {
     "data": {
      "text/html": [
       " View run <strong style=\"color:#cdcd00\">ToBERT-Trial27</strong> at: <a href='https://wandb.ai/gmarinowandb-8601/RhetoricalRolesClassification-BUILD/runs/q44lxyt6' target=\"_blank\">https://wandb.ai/gmarinowandb-8601/RhetoricalRolesClassification-BUILD/runs/q44lxyt6</a><br/>Synced 5 W&B file(s), 0 media file(s), 0 artifact file(s) and 0 other file(s)"
      ],
      "text/plain": [
       "<IPython.core.display.HTML object>"
      ]
     },
     "metadata": {},
     "output_type": "display_data"
    },
    {
     "data": {
      "text/html": [
       "Find logs at: <code>./wandb/run-20230425_193451-q44lxyt6/logs</code>"
      ],
      "text/plain": [
       "<IPython.core.display.HTML object>"
      ]
     },
     "metadata": {},
     "output_type": "display_data"
    },
    {
     "name": "stderr",
     "output_type": "stream",
     "text": [
      "\u001b[32m[I 2023-04-25 19:37:02,282]\u001b[0m Trial 27 pruned. \u001b[0m\n"
     ]
    },
    {
     "name": "stdout",
     "output_type": "stream",
     "text": [
      "\n",
      "************************ Starting New Optuna Trial ************************\n",
      "\n"
     ]
    },
    {
     "name": "stderr",
     "output_type": "stream",
     "text": [
      "Some weights of the model checkpoint at nlpaueb/legal-bert-base-uncased were not used when initializing BertForTokenClassification: ['cls.seq_relationship.weight', 'cls.predictions.bias', 'cls.predictions.transform.LayerNorm.bias', 'cls.predictions.decoder.bias', 'cls.predictions.decoder.weight', 'cls.seq_relationship.bias', 'cls.predictions.transform.dense.bias', 'cls.predictions.transform.LayerNorm.weight', 'cls.predictions.transform.dense.weight']\n",
      "- This IS expected if you are initializing BertForTokenClassification from the checkpoint of a model trained on another task or with another architecture (e.g. initializing a BertForSequenceClassification model from a BertForPreTraining model).\n",
      "- This IS NOT expected if you are initializing BertForTokenClassification from the checkpoint of a model that you expect to be exactly identical (initializing a BertForSequenceClassification model from a BertForSequenceClassification model).\n",
      "Some weights of BertForTokenClassification were not initialized from the model checkpoint at nlpaueb/legal-bert-base-uncased and are newly initialized: ['classifier.weight', 'classifier.bias']\n",
      "You should probably TRAIN this model on a down-stream task to be able to use it for predictions and inference.\n"
     ]
    },
    {
     "data": {
      "text/html": [
       "wandb version 0.15.0 is available!  To upgrade, please run:\n",
       " $ pip install wandb --upgrade"
      ],
      "text/plain": [
       "<IPython.core.display.HTML object>"
      ]
     },
     "metadata": {},
     "output_type": "display_data"
    },
    {
     "data": {
      "text/html": [
       "Tracking run with wandb version 0.13.10"
      ],
      "text/plain": [
       "<IPython.core.display.HTML object>"
      ]
     },
     "metadata": {},
     "output_type": "display_data"
    },
    {
     "data": {
      "text/html": [
       "Run data is saved locally in <code>/home/g.marino/Desktop/GA/RhetoricalRolesClassification/BUILD/wandb/run-20230425_193704-g0c297pt</code>"
      ],
      "text/plain": [
       "<IPython.core.display.HTML object>"
      ]
     },
     "metadata": {},
     "output_type": "display_data"
    },
    {
     "data": {
      "text/html": [
       "Syncing run <strong><a href='https://wandb.ai/gmarinowandb-8601/RhetoricalRolesClassification-BUILD/runs/g0c297pt' target=\"_blank\">ToBERT-Trial28</a></strong> to <a href='https://wandb.ai/gmarinowandb-8601/RhetoricalRolesClassification-BUILD' target=\"_blank\">Weights & Biases</a> (<a href='https://wandb.me/run' target=\"_blank\">docs</a>)<br/>"
      ],
      "text/plain": [
       "<IPython.core.display.HTML object>"
      ]
     },
     "metadata": {},
     "output_type": "display_data"
    },
    {
     "data": {
      "text/html": [
       " View project at <a href='https://wandb.ai/gmarinowandb-8601/RhetoricalRolesClassification-BUILD' target=\"_blank\">https://wandb.ai/gmarinowandb-8601/RhetoricalRolesClassification-BUILD</a>"
      ],
      "text/plain": [
       "<IPython.core.display.HTML object>"
      ]
     },
     "metadata": {},
     "output_type": "display_data"
    },
    {
     "data": {
      "text/html": [
       " View run at <a href='https://wandb.ai/gmarinowandb-8601/RhetoricalRolesClassification-BUILD/runs/g0c297pt' target=\"_blank\">https://wandb.ai/gmarinowandb-8601/RhetoricalRolesClassification-BUILD/runs/g0c297pt</a>"
      ],
      "text/plain": [
       "<IPython.core.display.HTML object>"
      ]
     },
     "metadata": {},
     "output_type": "display_data"
    },
    {
     "name": "stdout",
     "output_type": "stream",
     "text": [
      "\n",
      "************** Training Started **************\n",
      "\n",
      "EPOCH N. 1\n"
     ]
    },
    {
     "name": "stderr",
     "output_type": "stream",
     "text": [
      "221it [01:33,  2.36it/s]\n"
     ]
    },
    {
     "name": "stdout",
     "output_type": "stream",
     "text": [
      "\n",
      "TRAIN RESULTS\n",
      "Loss: 1.6865920653709998\n",
      "Accuracy: 0.49774774774774777\n",
      "MCC: 0.31888939723764975\n",
      "Macro F1: 0.174040846167558\n",
      "Macro Precision: 0.21648009569916876\n",
      "Macro Recall: 0.1773521328868359\n",
      "Micro F1: 0.49774774774774777\n",
      "Micro Precision: 0.49774774774774777\n",
      "Micro Recall: 0.49774774774774777\n",
      "\n",
      "VALIDATION RESULTS\n",
      "Loss: 1.3514597415924072\n",
      "Accuracy: 0.6178107606679035\n",
      "MCC: 0.48748412622869164\n",
      "Macro F1: 0.2506903674314823\n",
      "Macro Precision: 0.36239348572010666\n",
      "Macro Recall: 0.25444459821338017\n",
      "Micro F1: 0.6178107606679035\n",
      "Micro Precision: 0.6178107606679035\n",
      "Micro Recall: 0.6178107606679035\n",
      "--------------------------------------------------\n"
     ]
    },
    {
     "data": {
      "text/html": [
       "Waiting for W&B process to finish... <strong style=\"color:red\">(failed 1).</strong> Press Control-C to abort syncing."
      ],
      "text/plain": [
       "<IPython.core.display.HTML object>"
      ]
     },
     "metadata": {},
     "output_type": "display_data"
    },
    {
     "data": {
      "application/vnd.jupyter.widget-view+json": {
       "model_id": "54b3acd293644adcbfc2119a9b907940",
       "version_major": 2,
       "version_minor": 0
      },
      "text/plain": [
       "VBox(children=(Label(value='0.005 MB of 0.005 MB uploaded (0.000 MB deduped)\\r'), FloatProgress(value=1.0, max…"
      ]
     },
     "metadata": {},
     "output_type": "display_data"
    },
    {
     "data": {
      "text/html": [
       "<style>\n",
       "    table.wandb td:nth-child(1) { padding: 0 10px; text-align: left ; width: auto;} td:nth-child(2) {text-align: left ; width: 100%}\n",
       "    .wandb-row { display: flex; flex-direction: row; flex-wrap: wrap; justify-content: flex-start; width: 100% }\n",
       "    .wandb-col { display: flex; flex-direction: column; flex-basis: 100%; flex: 1; padding: 10px; }\n",
       "    </style>\n",
       "<div class=\"wandb-row\"><div class=\"wandb-col\"><h3>Run history:</h3><br/><table class=\"wandb\"><tr><td>Epoch</td><td>▁</td></tr><tr><td>Train Loss</td><td>▁</td></tr><tr><td>Validation Loss</td><td>▁</td></tr></table><br/></div><div class=\"wandb-col\"><h3>Run summary:</h3><br/><table class=\"wandb\"><tr><td>Epoch</td><td>1</td></tr><tr><td>Train Loss</td><td>1.68659</td></tr><tr><td>Validation Loss</td><td>1.35146</td></tr></table><br/></div></div>"
      ],
      "text/plain": [
       "<IPython.core.display.HTML object>"
      ]
     },
     "metadata": {},
     "output_type": "display_data"
    },
    {
     "data": {
      "text/html": [
       " View run <strong style=\"color:#cdcd00\">ToBERT-Trial28</strong> at: <a href='https://wandb.ai/gmarinowandb-8601/RhetoricalRolesClassification-BUILD/runs/g0c297pt' target=\"_blank\">https://wandb.ai/gmarinowandb-8601/RhetoricalRolesClassification-BUILD/runs/g0c297pt</a><br/>Synced 5 W&B file(s), 0 media file(s), 0 artifact file(s) and 0 other file(s)"
      ],
      "text/plain": [
       "<IPython.core.display.HTML object>"
      ]
     },
     "metadata": {},
     "output_type": "display_data"
    },
    {
     "data": {
      "text/html": [
       "Find logs at: <code>./wandb/run-20230425_193704-g0c297pt/logs</code>"
      ],
      "text/plain": [
       "<IPython.core.display.HTML object>"
      ]
     },
     "metadata": {},
     "output_type": "display_data"
    },
    {
     "name": "stderr",
     "output_type": "stream",
     "text": [
      "\u001b[32m[I 2023-04-25 19:39:11,118]\u001b[0m Trial 28 pruned. \u001b[0m\n"
     ]
    },
    {
     "name": "stdout",
     "output_type": "stream",
     "text": [
      "\n",
      "************************ Starting New Optuna Trial ************************\n",
      "\n"
     ]
    },
    {
     "name": "stderr",
     "output_type": "stream",
     "text": [
      "Some weights of the model checkpoint at nlpaueb/legal-bert-base-uncased were not used when initializing BertForTokenClassification: ['cls.seq_relationship.weight', 'cls.predictions.bias', 'cls.predictions.transform.LayerNorm.bias', 'cls.predictions.decoder.bias', 'cls.predictions.decoder.weight', 'cls.seq_relationship.bias', 'cls.predictions.transform.dense.bias', 'cls.predictions.transform.LayerNorm.weight', 'cls.predictions.transform.dense.weight']\n",
      "- This IS expected if you are initializing BertForTokenClassification from the checkpoint of a model trained on another task or with another architecture (e.g. initializing a BertForSequenceClassification model from a BertForPreTraining model).\n",
      "- This IS NOT expected if you are initializing BertForTokenClassification from the checkpoint of a model that you expect to be exactly identical (initializing a BertForSequenceClassification model from a BertForSequenceClassification model).\n",
      "Some weights of BertForTokenClassification were not initialized from the model checkpoint at nlpaueb/legal-bert-base-uncased and are newly initialized: ['classifier.weight', 'classifier.bias']\n",
      "You should probably TRAIN this model on a down-stream task to be able to use it for predictions and inference.\n"
     ]
    },
    {
     "data": {
      "text/html": [
       "wandb version 0.15.0 is available!  To upgrade, please run:\n",
       " $ pip install wandb --upgrade"
      ],
      "text/plain": [
       "<IPython.core.display.HTML object>"
      ]
     },
     "metadata": {},
     "output_type": "display_data"
    },
    {
     "data": {
      "text/html": [
       "Tracking run with wandb version 0.13.10"
      ],
      "text/plain": [
       "<IPython.core.display.HTML object>"
      ]
     },
     "metadata": {},
     "output_type": "display_data"
    },
    {
     "data": {
      "text/html": [
       "Run data is saved locally in <code>/home/g.marino/Desktop/GA/RhetoricalRolesClassification/BUILD/wandb/run-20230425_193912-1h7ega3n</code>"
      ],
      "text/plain": [
       "<IPython.core.display.HTML object>"
      ]
     },
     "metadata": {},
     "output_type": "display_data"
    },
    {
     "data": {
      "text/html": [
       "Syncing run <strong><a href='https://wandb.ai/gmarinowandb-8601/RhetoricalRolesClassification-BUILD/runs/1h7ega3n' target=\"_blank\">ToBERT-Trial29</a></strong> to <a href='https://wandb.ai/gmarinowandb-8601/RhetoricalRolesClassification-BUILD' target=\"_blank\">Weights & Biases</a> (<a href='https://wandb.me/run' target=\"_blank\">docs</a>)<br/>"
      ],
      "text/plain": [
       "<IPython.core.display.HTML object>"
      ]
     },
     "metadata": {},
     "output_type": "display_data"
    },
    {
     "data": {
      "text/html": [
       " View project at <a href='https://wandb.ai/gmarinowandb-8601/RhetoricalRolesClassification-BUILD' target=\"_blank\">https://wandb.ai/gmarinowandb-8601/RhetoricalRolesClassification-BUILD</a>"
      ],
      "text/plain": [
       "<IPython.core.display.HTML object>"
      ]
     },
     "metadata": {},
     "output_type": "display_data"
    },
    {
     "data": {
      "text/html": [
       " View run at <a href='https://wandb.ai/gmarinowandb-8601/RhetoricalRolesClassification-BUILD/runs/1h7ega3n' target=\"_blank\">https://wandb.ai/gmarinowandb-8601/RhetoricalRolesClassification-BUILD/runs/1h7ega3n</a>"
      ],
      "text/plain": [
       "<IPython.core.display.HTML object>"
      ]
     },
     "metadata": {},
     "output_type": "display_data"
    },
    {
     "name": "stdout",
     "output_type": "stream",
     "text": [
      "\n",
      "************** Training Started **************\n",
      "\n",
      "EPOCH N. 1\n"
     ]
    },
    {
     "name": "stderr",
     "output_type": "stream",
     "text": [
      "221it [01:30,  2.45it/s]\n"
     ]
    },
    {
     "name": "stdout",
     "output_type": "stream",
     "text": [
      "\n",
      "TRAIN RESULTS\n",
      "Loss: 1.6046012842277595\n",
      "Accuracy: 0.5177073625349488\n",
      "MCC: 0.35164600036260574\n",
      "Macro F1: 0.20164057006746522\n",
      "Macro Precision: 0.2554516164405404\n",
      "Macro Recall: 0.2026870941238981\n",
      "Micro F1: 0.5177073625349488\n",
      "Micro Precision: 0.5177073625349488\n",
      "Micro Recall: 0.5177073625349488\n",
      "\n",
      "VALIDATION RESULTS\n",
      "Loss: 1.186816930770874\n",
      "Accuracy: 0.6666666666666666\n",
      "MCC: 0.5545140691832626\n",
      "Macro F1: 0.2814161250954248\n",
      "Macro Precision: 0.36709287322288414\n",
      "Macro Recall: 0.2839430629506642\n",
      "Micro F1: 0.6666666666666666\n",
      "Micro Precision: 0.6666666666666666\n",
      "Micro Recall: 0.6666666666666666\n",
      "--------------------------------------------------\n",
      "EPOCH N. 2\n"
     ]
    },
    {
     "name": "stderr",
     "output_type": "stream",
     "text": [
      "221it [01:30,  2.45it/s]\n"
     ]
    },
    {
     "name": "stdout",
     "output_type": "stream",
     "text": [
      "\n",
      "TRAIN RESULTS\n",
      "Loss: 1.0029158798547892\n",
      "Accuracy: 0.6773066169617894\n",
      "MCC: 0.5812054411987599\n",
      "Macro F1: 0.4579426385091694\n",
      "Macro Precision: 0.5375414053383665\n",
      "Macro Recall: 0.4342267554597031\n",
      "Micro F1: 0.6773066169617894\n",
      "Micro Precision: 0.6773066169617894\n",
      "Micro Recall: 0.6773066169617894\n",
      "\n",
      "VALIDATION RESULTS\n",
      "Loss: 0.9637546539306641\n",
      "Accuracy: 0.7164502164502164\n",
      "MCC: 0.6269463578263889\n",
      "Macro F1: 0.5031789579200232\n",
      "Macro Precision: 0.613806186126573\n",
      "Macro Recall: 0.4715363356321385\n",
      "Micro F1: 0.7164502164502164\n",
      "Micro Precision: 0.7164502164502164\n",
      "Micro Recall: 0.7164502164502164\n",
      "--------------------------------------------------\n",
      "EPOCH N. 3\n"
     ]
    },
    {
     "name": "stderr",
     "output_type": "stream",
     "text": [
      "221it [01:30,  2.45it/s]\n"
     ]
    },
    {
     "name": "stdout",
     "output_type": "stream",
     "text": [
      "\n",
      "TRAIN RESULTS\n",
      "Loss: 0.8403191422849758\n",
      "Accuracy: 0.7192451071761417\n",
      "MCC: 0.6382369230582546\n",
      "Macro F1: 0.5444707447546352\n",
      "Macro Precision: 0.5969866613515741\n",
      "Macro Recall: 0.5207708262296881\n",
      "Micro F1: 0.7192451071761417\n",
      "Micro Precision: 0.7192451071761417\n",
      "Micro Recall: 0.7192451071761417\n",
      "\n",
      "VALIDATION RESULTS\n",
      "Loss: 0.8801373243331909\n",
      "Accuracy: 0.7350030921459493\n",
      "MCC: 0.6559607729793343\n",
      "Macro F1: 0.5246853714607547\n",
      "Macro Precision: 0.5431503471182104\n",
      "Macro Recall: 0.5287628469729794\n",
      "Micro F1: 0.7350030921459493\n",
      "Micro Precision: 0.7350030921459493\n",
      "Micro Recall: 0.7350030921459493\n",
      "--------------------------------------------------\n",
      "EPOCH N. 4\n"
     ]
    },
    {
     "name": "stderr",
     "output_type": "stream",
     "text": [
      "221it [01:32,  2.39it/s]\n"
     ]
    },
    {
     "name": "stdout",
     "output_type": "stream",
     "text": [
      "\n",
      "TRAIN RESULTS\n",
      "Loss: 0.7045888945932302\n",
      "Accuracy: 0.7504659832246039\n",
      "MCC: 0.6803942848884519\n",
      "Macro F1: 0.5921700335659679\n",
      "Macro Precision: 0.6364861076323233\n",
      "Macro Recall: 0.5692624349805483\n",
      "Micro F1: 0.7504659832246039\n",
      "Micro Precision: 0.7504659832246039\n",
      "Micro Recall: 0.7504659832246039\n",
      "\n",
      "VALIDATION RESULTS\n",
      "Loss: 0.8738034963607788\n",
      "Accuracy: 0.7523191094619666\n",
      "MCC: 0.6769335913480095\n",
      "Macro F1: 0.5640132693010249\n",
      "Macro Precision: 0.6056039851938625\n",
      "Macro Recall: 0.5419986207284793\n",
      "Micro F1: 0.7523191094619666\n",
      "Micro Precision: 0.7523191094619666\n",
      "Micro Recall: 0.7523191094619666\n",
      "--------------------------------------------------\n",
      "EPOCH N. 5\n"
     ]
    },
    {
     "name": "stderr",
     "output_type": "stream",
     "text": [
      "221it [01:33,  2.36it/s]\n"
     ]
    },
    {
     "name": "stdout",
     "output_type": "stream",
     "text": [
      "\n",
      "TRAIN RESULTS\n",
      "Loss: 0.570961656343883\n",
      "Accuracy: 0.7945013979496738\n",
      "MCC: 0.7372137134772752\n",
      "Macro F1: 0.6474276292311812\n",
      "Macro Precision: 0.7298058540692968\n",
      "Macro Recall: 0.6192778198106752\n",
      "Micro F1: 0.7945013979496737\n",
      "Micro Precision: 0.7945013979496738\n",
      "Micro Recall: 0.7945013979496738\n",
      "\n",
      "VALIDATION RESULTS\n",
      "Loss: 0.8607970476150513\n",
      "Accuracy: 0.7535559678416821\n",
      "MCC: 0.6881285582565648\n",
      "Macro F1: 0.5791690544271859\n",
      "Macro Precision: 0.5802832981745677\n",
      "Macro Recall: 0.5948603459448877\n",
      "Micro F1: 0.753555967841682\n",
      "Micro Precision: 0.7535559678416821\n",
      "Micro Recall: 0.7535559678416821\n",
      "--------------------------------------------------\n",
      "EPOCH N. 6\n"
     ]
    },
    {
     "name": "stderr",
     "output_type": "stream",
     "text": [
      "221it [01:28,  2.50it/s]\n"
     ]
    },
    {
     "name": "stdout",
     "output_type": "stream",
     "text": [
      "\n",
      "TRAIN RESULTS\n",
      "Loss: 0.4594092644515081\n",
      "Accuracy: 0.8294113078595837\n",
      "MCC: 0.7828533988652637\n",
      "Macro F1: 0.6952519138365171\n",
      "Macro Precision: 0.748542774628192\n",
      "Macro Recall: 0.6712718715664227\n",
      "Micro F1: 0.8294113078595837\n",
      "Micro Precision: 0.8294113078595837\n",
      "Micro Recall: 0.8294113078595837\n",
      "\n",
      "VALIDATION RESULTS\n",
      "Loss: 1.0317237377166748\n",
      "Accuracy: 0.7374768089053804\n",
      "MCC: 0.6631549311783997\n",
      "Macro F1: 0.5457431038140261\n",
      "Macro Precision: 0.58785134195019\n",
      "Macro Recall: 0.5667350633524616\n",
      "Micro F1: 0.7374768089053804\n",
      "Micro Precision: 0.7374768089053804\n",
      "Micro Recall: 0.7374768089053804\n",
      "--------------------------------------------------\n",
      "EPOCH N. 7\n"
     ]
    },
    {
     "name": "stderr",
     "output_type": "stream",
     "text": [
      "221it [01:27,  2.51it/s]\n"
     ]
    },
    {
     "name": "stdout",
     "output_type": "stream",
     "text": [
      "\n",
      "TRAIN RESULTS\n",
      "Loss: 0.3813387542727037\n",
      "Accuracy: 0.8589624106865487\n",
      "MCC: 0.8209871373011642\n",
      "Macro F1: 0.7354694691352675\n",
      "Macro Precision: 0.7806118986281544\n",
      "Macro Recall: 0.714299875252669\n",
      "Micro F1: 0.8589624106865487\n",
      "Micro Precision: 0.8589624106865487\n",
      "Micro Recall: 0.8589624106865487\n",
      "\n",
      "VALIDATION RESULTS\n",
      "Loss: 1.076341152191162\n",
      "Accuracy: 0.74860853432282\n",
      "MCC: 0.6738470406625937\n",
      "Macro F1: 0.5639926907464892\n",
      "Macro Precision: 0.6147776696245842\n",
      "Macro Recall: 0.5454452606062834\n",
      "Micro F1: 0.74860853432282\n",
      "Micro Precision: 0.74860853432282\n",
      "Micro Recall: 0.74860853432282\n",
      "Early stopped training\n",
      "--------------------------------------------------\n"
     ]
    },
    {
     "data": {
      "text/html": [
       "Waiting for W&B process to finish... <strong style=\"color:green\">(success).</strong>"
      ],
      "text/plain": [
       "<IPython.core.display.HTML object>"
      ]
     },
     "metadata": {},
     "output_type": "display_data"
    },
    {
     "data": {
      "text/html": [
       "<style>\n",
       "    table.wandb td:nth-child(1) { padding: 0 10px; text-align: left ; width: auto;} td:nth-child(2) {text-align: left ; width: 100%}\n",
       "    .wandb-row { display: flex; flex-direction: row; flex-wrap: wrap; justify-content: flex-start; width: 100% }\n",
       "    .wandb-col { display: flex; flex-direction: column; flex-basis: 100%; flex: 1; padding: 10px; }\n",
       "    </style>\n",
       "<div class=\"wandb-row\"><div class=\"wandb-col\"><h3>Run history:</h3><br/><table class=\"wandb\"><tr><td>Epoch</td><td>▁▂▃▅▆▇█</td></tr><tr><td>Train Loss</td><td>█▅▄▃▂▁▁</td></tr><tr><td>Validation Loss</td><td>█▃▁▁▁▅▆</td></tr></table><br/></div><div class=\"wandb-col\"><h3>Run summary:</h3><br/><table class=\"wandb\"><tr><td>Epoch</td><td>7</td></tr><tr><td>Train Loss</td><td>0.38134</td></tr><tr><td>Validation Loss</td><td>1.07634</td></tr></table><br/></div></div>"
      ],
      "text/plain": [
       "<IPython.core.display.HTML object>"
      ]
     },
     "metadata": {},
     "output_type": "display_data"
    },
    {
     "data": {
      "text/html": [
       " View run <strong style=\"color:#cdcd00\">ToBERT-Trial29</strong> at: <a href='https://wandb.ai/gmarinowandb-8601/RhetoricalRolesClassification-BUILD/runs/1h7ega3n' target=\"_blank\">https://wandb.ai/gmarinowandb-8601/RhetoricalRolesClassification-BUILD/runs/1h7ega3n</a><br/>Synced 5 W&B file(s), 0 media file(s), 0 artifact file(s) and 0 other file(s)"
      ],
      "text/plain": [
       "<IPython.core.display.HTML object>"
      ]
     },
     "metadata": {},
     "output_type": "display_data"
    },
    {
     "data": {
      "text/html": [
       "Find logs at: <code>./wandb/run-20230425_193912-1h7ega3n/logs</code>"
      ],
      "text/plain": [
       "<IPython.core.display.HTML object>"
      ]
     },
     "metadata": {},
     "output_type": "display_data"
    },
    {
     "name": "stderr",
     "output_type": "stream",
     "text": [
      "\u001b[32m[I 2023-04-25 19:51:23,379]\u001b[0m Trial 29 finished with value: 0.8607970476150513 and parameters: {'lr': 0.0001004955591217803, 'weight_decay': 0.007215692411091455, 'embedding': 'rel', 'transformer_dropout': 0.3588322973560767, 'transformer_dim_feedforward': 680}. Best is trial 14 with value: 0.7874695062637329.\u001b[0m\n"
     ]
    },
    {
     "name": "stdout",
     "output_type": "stream",
     "text": [
      "\n",
      "************************ Starting New Optuna Trial ************************\n",
      "\n"
     ]
    },
    {
     "name": "stderr",
     "output_type": "stream",
     "text": [
      "Some weights of the model checkpoint at nlpaueb/legal-bert-base-uncased were not used when initializing BertForTokenClassification: ['cls.seq_relationship.weight', 'cls.predictions.bias', 'cls.predictions.transform.LayerNorm.bias', 'cls.predictions.decoder.bias', 'cls.predictions.decoder.weight', 'cls.seq_relationship.bias', 'cls.predictions.transform.dense.bias', 'cls.predictions.transform.LayerNorm.weight', 'cls.predictions.transform.dense.weight']\n",
      "- This IS expected if you are initializing BertForTokenClassification from the checkpoint of a model trained on another task or with another architecture (e.g. initializing a BertForSequenceClassification model from a BertForPreTraining model).\n",
      "- This IS NOT expected if you are initializing BertForTokenClassification from the checkpoint of a model that you expect to be exactly identical (initializing a BertForSequenceClassification model from a BertForSequenceClassification model).\n",
      "Some weights of BertForTokenClassification were not initialized from the model checkpoint at nlpaueb/legal-bert-base-uncased and are newly initialized: ['classifier.weight', 'classifier.bias']\n",
      "You should probably TRAIN this model on a down-stream task to be able to use it for predictions and inference.\n"
     ]
    },
    {
     "data": {
      "text/html": [
       "wandb version 0.15.0 is available!  To upgrade, please run:\n",
       " $ pip install wandb --upgrade"
      ],
      "text/plain": [
       "<IPython.core.display.HTML object>"
      ]
     },
     "metadata": {},
     "output_type": "display_data"
    },
    {
     "data": {
      "text/html": [
       "Tracking run with wandb version 0.13.10"
      ],
      "text/plain": [
       "<IPython.core.display.HTML object>"
      ]
     },
     "metadata": {},
     "output_type": "display_data"
    },
    {
     "data": {
      "text/html": [
       "Run data is saved locally in <code>/home/g.marino/Desktop/GA/RhetoricalRolesClassification/BUILD/wandb/run-20230425_195124-a490bz0w</code>"
      ],
      "text/plain": [
       "<IPython.core.display.HTML object>"
      ]
     },
     "metadata": {},
     "output_type": "display_data"
    },
    {
     "data": {
      "text/html": [
       "Syncing run <strong><a href='https://wandb.ai/gmarinowandb-8601/RhetoricalRolesClassification-BUILD/runs/a490bz0w' target=\"_blank\">ToBERT-Trial30</a></strong> to <a href='https://wandb.ai/gmarinowandb-8601/RhetoricalRolesClassification-BUILD' target=\"_blank\">Weights & Biases</a> (<a href='https://wandb.me/run' target=\"_blank\">docs</a>)<br/>"
      ],
      "text/plain": [
       "<IPython.core.display.HTML object>"
      ]
     },
     "metadata": {},
     "output_type": "display_data"
    },
    {
     "data": {
      "text/html": [
       " View project at <a href='https://wandb.ai/gmarinowandb-8601/RhetoricalRolesClassification-BUILD' target=\"_blank\">https://wandb.ai/gmarinowandb-8601/RhetoricalRolesClassification-BUILD</a>"
      ],
      "text/plain": [
       "<IPython.core.display.HTML object>"
      ]
     },
     "metadata": {},
     "output_type": "display_data"
    },
    {
     "data": {
      "text/html": [
       " View run at <a href='https://wandb.ai/gmarinowandb-8601/RhetoricalRolesClassification-BUILD/runs/a490bz0w' target=\"_blank\">https://wandb.ai/gmarinowandb-8601/RhetoricalRolesClassification-BUILD/runs/a490bz0w</a>"
      ],
      "text/plain": [
       "<IPython.core.display.HTML object>"
      ]
     },
     "metadata": {},
     "output_type": "display_data"
    },
    {
     "name": "stdout",
     "output_type": "stream",
     "text": [
      "\n",
      "************** Training Started **************\n",
      "\n",
      "EPOCH N. 1\n"
     ]
    },
    {
     "name": "stderr",
     "output_type": "stream",
     "text": [
      "221it [01:28,  2.50it/s]\n"
     ]
    },
    {
     "name": "stdout",
     "output_type": "stream",
     "text": [
      "\n",
      "TRAIN RESULTS\n",
      "Loss: 1.6995420892853543\n",
      "Accuracy: 0.49137931034482757\n",
      "MCC: 0.3130837861082039\n",
      "Macro F1: 0.17018865185746815\n",
      "Macro Precision: 0.19163111713441602\n",
      "Macro Recall: 0.17744571902327363\n",
      "Micro F1: 0.49137931034482757\n",
      "Micro Precision: 0.49137931034482757\n",
      "Micro Recall: 0.49137931034482757\n",
      "\n",
      "VALIDATION RESULTS\n",
      "Loss: 1.4690232276916504\n",
      "Accuracy: 0.5720470006184292\n",
      "MCC: 0.42163610318748246\n",
      "Macro F1: 0.1923768876441298\n",
      "Macro Precision: 0.22610326904520076\n",
      "Macro Recall: 0.21412983841905797\n",
      "Micro F1: 0.5720470006184292\n",
      "Micro Precision: 0.5720470006184292\n",
      "Micro Recall: 0.5720470006184292\n",
      "--------------------------------------------------\n"
     ]
    },
    {
     "data": {
      "text/html": [
       "Waiting for W&B process to finish... <strong style=\"color:red\">(failed 1).</strong> Press Control-C to abort syncing."
      ],
      "text/plain": [
       "<IPython.core.display.HTML object>"
      ]
     },
     "metadata": {},
     "output_type": "display_data"
    },
    {
     "data": {
      "application/vnd.jupyter.widget-view+json": {
       "model_id": "89f4ec846a574e3a9604be847a7937af",
       "version_major": 2,
       "version_minor": 0
      },
      "text/plain": [
       "VBox(children=(Label(value='0.005 MB of 0.005 MB uploaded (0.000 MB deduped)\\r'), FloatProgress(value=1.0, max…"
      ]
     },
     "metadata": {},
     "output_type": "display_data"
    },
    {
     "data": {
      "text/html": [
       "<style>\n",
       "    table.wandb td:nth-child(1) { padding: 0 10px; text-align: left ; width: auto;} td:nth-child(2) {text-align: left ; width: 100%}\n",
       "    .wandb-row { display: flex; flex-direction: row; flex-wrap: wrap; justify-content: flex-start; width: 100% }\n",
       "    .wandb-col { display: flex; flex-direction: column; flex-basis: 100%; flex: 1; padding: 10px; }\n",
       "    </style>\n",
       "<div class=\"wandb-row\"><div class=\"wandb-col\"><h3>Run history:</h3><br/><table class=\"wandb\"><tr><td>Epoch</td><td>▁</td></tr><tr><td>Train Loss</td><td>▁</td></tr><tr><td>Validation Loss</td><td>▁</td></tr></table><br/></div><div class=\"wandb-col\"><h3>Run summary:</h3><br/><table class=\"wandb\"><tr><td>Epoch</td><td>1</td></tr><tr><td>Train Loss</td><td>1.69954</td></tr><tr><td>Validation Loss</td><td>1.46902</td></tr></table><br/></div></div>"
      ],
      "text/plain": [
       "<IPython.core.display.HTML object>"
      ]
     },
     "metadata": {},
     "output_type": "display_data"
    },
    {
     "data": {
      "text/html": [
       " View run <strong style=\"color:#cdcd00\">ToBERT-Trial30</strong> at: <a href='https://wandb.ai/gmarinowandb-8601/RhetoricalRolesClassification-BUILD/runs/a490bz0w' target=\"_blank\">https://wandb.ai/gmarinowandb-8601/RhetoricalRolesClassification-BUILD/runs/a490bz0w</a><br/>Synced 5 W&B file(s), 0 media file(s), 0 artifact file(s) and 0 other file(s)"
      ],
      "text/plain": [
       "<IPython.core.display.HTML object>"
      ]
     },
     "metadata": {},
     "output_type": "display_data"
    },
    {
     "data": {
      "text/html": [
       "Find logs at: <code>./wandb/run-20230425_195124-a490bz0w/logs</code>"
      ],
      "text/plain": [
       "<IPython.core.display.HTML object>"
      ]
     },
     "metadata": {},
     "output_type": "display_data"
    },
    {
     "name": "stderr",
     "output_type": "stream",
     "text": [
      "\u001b[32m[I 2023-04-25 19:53:30,841]\u001b[0m Trial 30 pruned. \u001b[0m\n"
     ]
    },
    {
     "name": "stdout",
     "output_type": "stream",
     "text": [
      "\n",
      "************************ Starting New Optuna Trial ************************\n",
      "\n"
     ]
    },
    {
     "name": "stderr",
     "output_type": "stream",
     "text": [
      "Some weights of the model checkpoint at nlpaueb/legal-bert-base-uncased were not used when initializing BertForTokenClassification: ['cls.seq_relationship.weight', 'cls.predictions.bias', 'cls.predictions.transform.LayerNorm.bias', 'cls.predictions.decoder.bias', 'cls.predictions.decoder.weight', 'cls.seq_relationship.bias', 'cls.predictions.transform.dense.bias', 'cls.predictions.transform.LayerNorm.weight', 'cls.predictions.transform.dense.weight']\n",
      "- This IS expected if you are initializing BertForTokenClassification from the checkpoint of a model trained on another task or with another architecture (e.g. initializing a BertForSequenceClassification model from a BertForPreTraining model).\n",
      "- This IS NOT expected if you are initializing BertForTokenClassification from the checkpoint of a model that you expect to be exactly identical (initializing a BertForSequenceClassification model from a BertForSequenceClassification model).\n",
      "Some weights of BertForTokenClassification were not initialized from the model checkpoint at nlpaueb/legal-bert-base-uncased and are newly initialized: ['classifier.weight', 'classifier.bias']\n",
      "You should probably TRAIN this model on a down-stream task to be able to use it for predictions and inference.\n"
     ]
    },
    {
     "data": {
      "text/html": [
       "wandb version 0.15.0 is available!  To upgrade, please run:\n",
       " $ pip install wandb --upgrade"
      ],
      "text/plain": [
       "<IPython.core.display.HTML object>"
      ]
     },
     "metadata": {},
     "output_type": "display_data"
    },
    {
     "data": {
      "text/html": [
       "Tracking run with wandb version 0.13.10"
      ],
      "text/plain": [
       "<IPython.core.display.HTML object>"
      ]
     },
     "metadata": {},
     "output_type": "display_data"
    },
    {
     "data": {
      "text/html": [
       "Run data is saved locally in <code>/home/g.marino/Desktop/GA/RhetoricalRolesClassification/BUILD/wandb/run-20230425_195332-q7efuu41</code>"
      ],
      "text/plain": [
       "<IPython.core.display.HTML object>"
      ]
     },
     "metadata": {},
     "output_type": "display_data"
    },
    {
     "data": {
      "text/html": [
       "Syncing run <strong><a href='https://wandb.ai/gmarinowandb-8601/RhetoricalRolesClassification-BUILD/runs/q7efuu41' target=\"_blank\">ToBERT-Trial31</a></strong> to <a href='https://wandb.ai/gmarinowandb-8601/RhetoricalRolesClassification-BUILD' target=\"_blank\">Weights & Biases</a> (<a href='https://wandb.me/run' target=\"_blank\">docs</a>)<br/>"
      ],
      "text/plain": [
       "<IPython.core.display.HTML object>"
      ]
     },
     "metadata": {},
     "output_type": "display_data"
    },
    {
     "data": {
      "text/html": [
       " View project at <a href='https://wandb.ai/gmarinowandb-8601/RhetoricalRolesClassification-BUILD' target=\"_blank\">https://wandb.ai/gmarinowandb-8601/RhetoricalRolesClassification-BUILD</a>"
      ],
      "text/plain": [
       "<IPython.core.display.HTML object>"
      ]
     },
     "metadata": {},
     "output_type": "display_data"
    },
    {
     "data": {
      "text/html": [
       " View run at <a href='https://wandb.ai/gmarinowandb-8601/RhetoricalRolesClassification-BUILD/runs/q7efuu41' target=\"_blank\">https://wandb.ai/gmarinowandb-8601/RhetoricalRolesClassification-BUILD/runs/q7efuu41</a>"
      ],
      "text/plain": [
       "<IPython.core.display.HTML object>"
      ]
     },
     "metadata": {},
     "output_type": "display_data"
    },
    {
     "name": "stdout",
     "output_type": "stream",
     "text": [
      "\n",
      "************** Training Started **************\n",
      "\n",
      "EPOCH N. 1\n"
     ]
    },
    {
     "name": "stderr",
     "output_type": "stream",
     "text": [
      "221it [01:27,  2.52it/s]\n"
     ]
    },
    {
     "name": "stdout",
     "output_type": "stream",
     "text": [
      "\n",
      "TRAIN RESULTS\n",
      "Loss: 1.5084081969110135\n",
      "Accuracy: 0.5462488350419384\n",
      "MCC: 0.39298138151751905\n",
      "Macro F1: 0.2543705904269803\n",
      "Macro Precision: 0.3821732885514594\n",
      "Macro Recall: 0.23741132109635674\n",
      "Micro F1: 0.5462488350419384\n",
      "Micro Precision: 0.5462488350419384\n",
      "Micro Recall: 0.5462488350419384\n",
      "\n",
      "VALIDATION RESULTS\n",
      "Loss: 1.1078637838363647\n",
      "Accuracy: 0.6666666666666666\n",
      "MCC: 0.5634637420905028\n",
      "Macro F1: 0.4149329274640898\n",
      "Macro Precision: 0.5130127323818303\n",
      "Macro Recall: 0.41098284938524926\n",
      "Micro F1: 0.6666666666666666\n",
      "Micro Precision: 0.6666666666666666\n",
      "Micro Recall: 0.6666666666666666\n",
      "--------------------------------------------------\n",
      "EPOCH N. 2\n"
     ]
    },
    {
     "name": "stderr",
     "output_type": "stream",
     "text": [
      "221it [01:28,  2.49it/s]\n"
     ]
    },
    {
     "name": "stdout",
     "output_type": "stream",
     "text": [
      "\n",
      "TRAIN RESULTS\n",
      "Loss: 0.9206501923804908\n",
      "Accuracy: 0.6872864243553899\n",
      "MCC: 0.5957813437831628\n",
      "Macro F1: 0.5023323353703077\n",
      "Macro Precision: 0.5573981761051144\n",
      "Macro Recall: 0.47776223376911\n",
      "Micro F1: 0.6872864243553899\n",
      "Micro Precision: 0.6872864243553899\n",
      "Micro Recall: 0.6872864243553899\n",
      "\n",
      "VALIDATION RESULTS\n",
      "Loss: 0.8897355794906616\n",
      "Accuracy: 0.7387136672850959\n",
      "MCC: 0.6574505105556254\n",
      "Macro F1: 0.4990558724953498\n",
      "Macro Precision: 0.6012643942386992\n",
      "Macro Recall: 0.4852879894066807\n",
      "Micro F1: 0.7387136672850959\n",
      "Micro Precision: 0.7387136672850959\n",
      "Micro Recall: 0.7387136672850959\n",
      "--------------------------------------------------\n",
      "EPOCH N. 3\n"
     ]
    },
    {
     "name": "stderr",
     "output_type": "stream",
     "text": [
      "221it [01:28,  2.49it/s]\n"
     ]
    },
    {
     "name": "stdout",
     "output_type": "stream",
     "text": [
      "\n",
      "TRAIN RESULTS\n",
      "Loss: 0.7575245791565779\n",
      "Accuracy: 0.7360205032618826\n",
      "MCC: 0.660045032292275\n",
      "Macro F1: 0.564699297435518\n",
      "Macro Precision: 0.6187614324210897\n",
      "Macro Recall: 0.5366528644752335\n",
      "Micro F1: 0.7360205032618826\n",
      "Micro Precision: 0.7360205032618826\n",
      "Micro Recall: 0.7360205032618826\n",
      "\n",
      "VALIDATION RESULTS\n",
      "Loss: 0.8404175639152527\n",
      "Accuracy: 0.7517006802721088\n",
      "MCC: 0.6766700558035228\n",
      "Macro F1: 0.5487441851531351\n",
      "Macro Precision: 0.6217747415135148\n",
      "Macro Recall: 0.5392946495666721\n",
      "Micro F1: 0.7517006802721088\n",
      "Micro Precision: 0.7517006802721088\n",
      "Micro Recall: 0.7517006802721088\n",
      "--------------------------------------------------\n",
      "EPOCH N. 4\n"
     ]
    },
    {
     "name": "stderr",
     "output_type": "stream",
     "text": [
      "221it [01:28,  2.50it/s]\n"
     ]
    },
    {
     "name": "stdout",
     "output_type": "stream",
     "text": [
      "\n",
      "TRAIN RESULTS\n",
      "Loss: 0.6126642106480189\n",
      "Accuracy: 0.7790462876669774\n",
      "MCC: 0.7169971412410574\n",
      "Macro F1: 0.6184496806299934\n",
      "Macro Precision: 0.6649289371660905\n",
      "Macro Recall: 0.5925062879335653\n",
      "Micro F1: 0.7790462876669775\n",
      "Micro Precision: 0.7790462876669774\n",
      "Micro Recall: 0.7790462876669774\n",
      "\n",
      "VALIDATION RESULTS\n",
      "Loss: 0.8561606407165527\n",
      "Accuracy: 0.7371675943104514\n",
      "MCC: 0.6651263207803617\n",
      "Macro F1: 0.550596406136972\n",
      "Macro Precision: 0.5858824644819377\n",
      "Macro Recall: 0.5636379776017759\n",
      "Micro F1: 0.7371675943104514\n",
      "Micro Precision: 0.7371675943104514\n",
      "Micro Recall: 0.7371675943104514\n",
      "--------------------------------------------------\n",
      "EPOCH N. 5\n"
     ]
    },
    {
     "name": "stderr",
     "output_type": "stream",
     "text": [
      "221it [01:29,  2.48it/s]\n"
     ]
    },
    {
     "name": "stdout",
     "output_type": "stream",
     "text": [
      "\n",
      "TRAIN RESULTS\n",
      "Loss: 0.4883283855081683\n",
      "Accuracy: 0.8164414414414415\n",
      "MCC: 0.7662614593571567\n",
      "Macro F1: 0.6805117594374035\n",
      "Macro Precision: 0.7293822179580693\n",
      "Macro Recall: 0.658848412971171\n",
      "Micro F1: 0.8164414414414415\n",
      "Micro Precision: 0.8164414414414415\n",
      "Micro Recall: 0.8164414414414415\n",
      "\n",
      "VALIDATION RESULTS\n",
      "Loss: 0.7980014085769653\n",
      "Accuracy: 0.756338899196042\n",
      "MCC: 0.690894191980588\n",
      "Macro F1: 0.5832402656295341\n",
      "Macro Precision: 0.5815930784762791\n",
      "Macro Recall: 0.5932041701348126\n",
      "Micro F1: 0.756338899196042\n",
      "Micro Precision: 0.756338899196042\n",
      "Micro Recall: 0.756338899196042\n",
      "--------------------------------------------------\n",
      "EPOCH N. 6\n"
     ]
    },
    {
     "name": "stderr",
     "output_type": "stream",
     "text": [
      "221it [01:27,  2.52it/s]\n"
     ]
    },
    {
     "name": "stdout",
     "output_type": "stream",
     "text": [
      "\n",
      "TRAIN RESULTS\n",
      "Loss: 0.3933877304398636\n",
      "Accuracy: 0.8470798384591488\n",
      "MCC: 0.8054293188478819\n",
      "Macro F1: 0.722419668179758\n",
      "Macro Precision: 0.7632343578069618\n",
      "Macro Recall: 0.6970061428538368\n",
      "Micro F1: 0.8470798384591488\n",
      "Micro Precision: 0.8470798384591488\n",
      "Micro Recall: 0.8470798384591488\n",
      "\n",
      "VALIDATION RESULTS\n",
      "Loss: 0.8338495492935181\n",
      "Accuracy: 0.7702535559678417\n",
      "MCC: 0.7028481821197874\n",
      "Macro F1: 0.5792665735341221\n",
      "Macro Precision: 0.5951262028078088\n",
      "Macro Recall: 0.5750123431376014\n",
      "Micro F1: 0.7702535559678417\n",
      "Micro Precision: 0.7702535559678417\n",
      "Micro Recall: 0.7702535559678417\n",
      "--------------------------------------------------\n",
      "EPOCH N. 7\n"
     ]
    },
    {
     "name": "stderr",
     "output_type": "stream",
     "text": [
      "221it [01:26,  2.54it/s]\n"
     ]
    },
    {
     "name": "stdout",
     "output_type": "stream",
     "text": [
      "\n",
      "TRAIN RESULTS\n",
      "Loss: 0.2986084440158368\n",
      "Accuracy: 0.8814461012736875\n",
      "MCC: 0.8497335763168035\n",
      "Macro F1: 0.7796792512975593\n",
      "Macro Precision: 0.8381272218864321\n",
      "Macro Recall: 0.7583833385927955\n",
      "Micro F1: 0.8814461012736876\n",
      "Micro Precision: 0.8814461012736875\n",
      "Micro Recall: 0.8814461012736875\n",
      "\n",
      "VALIDATION RESULTS\n",
      "Loss: 0.9299208521842957\n",
      "Accuracy: 0.7687074829931972\n",
      "MCC: 0.6988958496760639\n",
      "Macro F1: 0.5589906250025243\n",
      "Macro Precision: 0.5897640669594367\n",
      "Macro Recall: 0.5387373049561919\n",
      "Micro F1: 0.7687074829931972\n",
      "Micro Precision: 0.7687074829931972\n",
      "Micro Recall: 0.7687074829931972\n",
      "Early stopped training\n",
      "--------------------------------------------------\n"
     ]
    },
    {
     "data": {
      "text/html": [
       "Waiting for W&B process to finish... <strong style=\"color:green\">(success).</strong>"
      ],
      "text/plain": [
       "<IPython.core.display.HTML object>"
      ]
     },
     "metadata": {},
     "output_type": "display_data"
    },
    {
     "data": {
      "text/html": [
       "<style>\n",
       "    table.wandb td:nth-child(1) { padding: 0 10px; text-align: left ; width: auto;} td:nth-child(2) {text-align: left ; width: 100%}\n",
       "    .wandb-row { display: flex; flex-direction: row; flex-wrap: wrap; justify-content: flex-start; width: 100% }\n",
       "    .wandb-col { display: flex; flex-direction: column; flex-basis: 100%; flex: 1; padding: 10px; }\n",
       "    </style>\n",
       "<div class=\"wandb-row\"><div class=\"wandb-col\"><h3>Run history:</h3><br/><table class=\"wandb\"><tr><td>Epoch</td><td>▁▂▃▅▆▇█</td></tr><tr><td>Train Loss</td><td>█▅▄▃▂▂▁</td></tr><tr><td>Validation Loss</td><td>█▃▂▂▁▂▄</td></tr></table><br/></div><div class=\"wandb-col\"><h3>Run summary:</h3><br/><table class=\"wandb\"><tr><td>Epoch</td><td>7</td></tr><tr><td>Train Loss</td><td>0.29861</td></tr><tr><td>Validation Loss</td><td>0.92992</td></tr></table><br/></div></div>"
      ],
      "text/plain": [
       "<IPython.core.display.HTML object>"
      ]
     },
     "metadata": {},
     "output_type": "display_data"
    },
    {
     "data": {
      "text/html": [
       " View run <strong style=\"color:#cdcd00\">ToBERT-Trial31</strong> at: <a href='https://wandb.ai/gmarinowandb-8601/RhetoricalRolesClassification-BUILD/runs/q7efuu41' target=\"_blank\">https://wandb.ai/gmarinowandb-8601/RhetoricalRolesClassification-BUILD/runs/q7efuu41</a><br/>Synced 5 W&B file(s), 0 media file(s), 0 artifact file(s) and 0 other file(s)"
      ],
      "text/plain": [
       "<IPython.core.display.HTML object>"
      ]
     },
     "metadata": {},
     "output_type": "display_data"
    },
    {
     "data": {
      "text/html": [
       "Find logs at: <code>./wandb/run-20230425_195332-q7efuu41/logs</code>"
      ],
      "text/plain": [
       "<IPython.core.display.HTML object>"
      ]
     },
     "metadata": {},
     "output_type": "display_data"
    },
    {
     "name": "stderr",
     "output_type": "stream",
     "text": [
      "\u001b[32m[I 2023-04-25 20:05:30,269]\u001b[0m Trial 31 finished with value: 0.7980014085769653 and parameters: {'lr': 8.89671135302201e-05, 'weight_decay': 0.08271398460897429, 'embedding': 'rel', 'transformer_dropout': 0.1482254169989244, 'transformer_dim_feedforward': 952}. Best is trial 14 with value: 0.7874695062637329.\u001b[0m\n"
     ]
    }
   ],
   "source": [
    "study.optimize(objective, n_trials=32)"
   ]
  },
  {
   "cell_type": "code",
   "execution_count": 6,
   "metadata": {},
   "outputs": [
    {
     "name": "stdout",
     "output_type": "stream",
     "text": [
      "\n",
      "************************ Optuna Study Completed ************************\n",
      "\n",
      "Best trial: 14\n",
      "Value: 0.7874695062637329\n",
      "Params:\n",
      "\tembedding: rel\n",
      "\tlr: 7.544257211555746e-05\n",
      "\ttransformer_dim_feedforward: 968\n",
      "\ttransformer_dropout: 0.13346778353454997\n",
      "\tweight_decay: 0.08363287013131492\n"
     ]
    }
   ],
   "source": [
    "print(\"\\n************************ Optuna Study Completed ************************\\n\")\n",
    "best_trial = study.best_trial\n",
    "print(\"Best trial:\", best_trial.number)\n",
    "print(\"Value:\", best_trial.value)\n",
    "print(\"Params:\")\n",
    "for key, value in best_trial.params.items():\n",
    "    print(f\"\\t{key}: {value}\")"
   ]
  },
  {
   "cell_type": "markdown",
   "metadata": {},
   "source": [
    "## Test"
   ]
  },
  {
   "cell_type": "code",
   "execution_count": 7,
   "metadata": {},
   "outputs": [
    {
     "name": "stderr",
     "output_type": "stream",
     "text": [
      "Some weights of the model checkpoint at nlpaueb/legal-bert-base-uncased were not used when initializing BertForTokenClassification: ['cls.predictions.transform.dense.bias', 'cls.predictions.transform.dense.weight', 'cls.predictions.transform.LayerNorm.bias', 'cls.predictions.decoder.weight', 'cls.predictions.decoder.bias', 'cls.seq_relationship.bias', 'cls.predictions.transform.LayerNorm.weight', 'cls.predictions.bias', 'cls.seq_relationship.weight']\n",
      "- This IS expected if you are initializing BertForTokenClassification from the checkpoint of a model trained on another task or with another architecture (e.g. initializing a BertForSequenceClassification model from a BertForPreTraining model).\n",
      "- This IS NOT expected if you are initializing BertForTokenClassification from the checkpoint of a model that you expect to be exactly identical (initializing a BertForSequenceClassification model from a BertForSequenceClassification model).\n",
      "Some weights of BertForTokenClassification were not initialized from the model checkpoint at nlpaueb/legal-bert-base-uncased and are newly initialized: ['classifier.bias', 'classifier.weight']\n",
      "You should probably TRAIN this model on a down-stream task to be able to use it for predictions and inference.\n"
     ]
    },
    {
     "data": {
      "text/plain": [
       "<All keys matched successfully>"
      ]
     },
     "execution_count": 7,
     "metadata": {},
     "output_type": "execute_result"
    }
   ],
   "source": [
    "best_trial = study.best_trial\n",
    "best_params = best_trial.params\n",
    "\n",
    "embedder = absolute_embedder if best_params[\"embedding\"] == \"abs\" else relative_embedder\n",
    "\n",
    "transformer = torch.nn.Transformer(\n",
    "    d_model=768,\n",
    "    nhead=12,\n",
    "    batch_first=True,\n",
    "    dim_feedforward=best_params[\"transformer_dim_feedforward\"],\n",
    "    activation=\"gelu\",\n",
    "    dropout=best_params[\"transformer_dropout\"],\n",
    "    layer_norm_eps=1e-12,\n",
    "    num_encoder_layers=2,\n",
    "    num_decoder_layers=0\n",
    ").encoder\n",
    "\n",
    "model = AutoTransformerOverBERTForTokenClassification(\n",
    "    model_name=HUGGING_FACE_BERT_MODEL,\n",
    "    embedder=embedder,\n",
    "    transformer=transformer,\n",
    "    num_labels=NUM_LABELS,\n",
    "    max_document_length=MAX_DOCUMENT_LENGTH,\n",
    "    max_segment_length=MAX_SEGMENT_LENGTH,\n",
    "    device=DEVICE\n",
    ")\n",
    "\n",
    "model_id = f\"{MODEL_NAME}-Trial{best_trial.number}\"\n",
    "model.load_state_dict(torch.load(os.path.join(MODELS_FOLDER, model_id)))"
   ]
  },
  {
   "cell_type": "code",
   "execution_count": 8,
   "metadata": {},
   "outputs": [
    {
     "name": "stderr",
     "output_type": "stream",
     "text": [
      "100%|██████████| 30/30 [00:11<00:00,  2.58it/s]"
     ]
    },
    {
     "name": "stdout",
     "output_type": "stream",
     "text": [
      "Overall\n",
      "\tAccuracy: 0.7846474470302188\n",
      "\tMCC: 0.7267670113883938\n",
      "\tMacro F1: 0.5738055350853982\n",
      "\tMacro Precision: 0.6233189100752514\n",
      "\tMacro Recall: 0.564134905480945\n",
      "\tMicro F1: 0.7846474470302188\n",
      "\tMicro Precision: 0.7846474470302188\n",
      "\tMicro Recall: 0.7846474470302188\n",
      "Rhetorical role: PREAMBLE\n",
      "\tMacro F1: 0.972360717424781\n",
      "\tMacro Precision: 0.9650979366930781\n",
      "\tMacro Recall: 0.9800347539328567\n",
      "Rhetorical role: FAC\n",
      "\tMacro F1: 0.8728314702807327\n",
      "\tMacro Precision: 0.8770990744745795\n",
      "\tMacro Recall: 0.868752906061106\n",
      "Rhetorical role: RLC\n",
      "\tMacro F1: 0.7119394276215356\n",
      "\tMacro Precision: 0.7941883986660105\n",
      "\tMacro Recall: 0.6678897250614649\n",
      "Rhetorical role: ISSUE\n",
      "\tMacro F1: 0.886315915977784\n",
      "\tMacro Precision: 0.875589205357262\n",
      "\tMacro Recall: 0.8977023683280312\n",
      "Rhetorical role: ARG_PETITIONER\n",
      "\tMacro F1: 0.5753200137675577\n",
      "\tMacro Precision: 0.6372785829307568\n",
      "\tMacro Recall: 0.553760870670803\n",
      "Rhetorical role: ARG_RESPONDENT\n",
      "\tMacro F1: 0.6979748896386189\n",
      "\tMacro Precision: 0.6810762903052533\n",
      "\tMacro Recall: 0.7185803738490895\n",
      "Rhetorical role: ANALYSIS\n",
      "\tMacro F1: 0.8439578420644339\n",
      "\tMacro Precision: 0.8359787200345834\n",
      "\tMacro Recall: 0.8617837913207629\n",
      "Rhetorical role: STA\n",
      "\tMacro F1: 0.8054966287883907\n",
      "\tMacro Precision: 0.768862810734732\n",
      "\tMacro Recall: 0.8541614471112893\n",
      "Rhetorical role: PRE_RELIED\n",
      "\tMacro F1: 0.7315345012020097\n",
      "\tMacro Precision: 0.7838720196847184\n",
      "\tMacro Recall: 0.6971007631466548\n",
      "Rhetorical role: PRE_NOT_RELIED\n",
      "\tMacro F1: 0.49886858137510875\n",
      "\tMacro Precision: 0.4979152189020153\n",
      "\tMacro Recall: 0.4998256016742239\n",
      "Rhetorical role: RATIO\n",
      "\tMacro F1: 0.6090352813365844\n",
      "\tMacro Precision: 0.7836354667653225\n",
      "\tMacro Recall: 0.5701825764125514\n",
      "Rhetorical role: RPC\n",
      "\tMacro F1: 0.9355293801504836\n",
      "\tMacro Precision: 0.9504358078234874\n",
      "\tMacro Recall: 0.9216422028473679\n",
      "Rhetorical role: NONE\n",
      "\tMacro F1: 0.9514870671497178\n",
      "\tMacro Precision: 0.9722592483413011\n",
      "\tMacro Recall: 0.9327229844786753\n"
     ]
    },
    {
     "name": "stderr",
     "output_type": "stream",
     "text": [
      "\n"
     ]
    }
   ],
   "source": [
    "test_ToBERT(\n",
    "    model=model,\n",
    "    test_dataset=test_dataset,\n",
    "    label2rhetRole=label2rhetRole,\n",
    "    device=DEVICE,\n",
    ")"
   ]
  },
  {
   "cell_type": "code",
   "execution_count": null,
   "metadata": {},
   "outputs": [],
   "source": []
  }
 ],
 "metadata": {
  "kernelspec": {
   "display_name": "Python 3 (ipykernel)",
   "language": "python",
   "name": "python3"
  },
  "language_info": {
   "codemirror_mode": {
    "name": "ipython",
    "version": 3
   },
   "file_extension": ".py",
   "mimetype": "text/x-python",
   "name": "python",
   "nbconvert_exporter": "python",
   "pygments_lexer": "ipython3",
   "version": "3.10.7"
  }
 },
 "nbformat": 4,
 "nbformat_minor": 4
}
