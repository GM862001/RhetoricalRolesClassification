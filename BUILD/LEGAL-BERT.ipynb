{
 "cells": [
  {
   "cell_type": "markdown",
   "metadata": {},
   "source": [
    "# LEGAL-BERT"
   ]
  },
  {
   "cell_type": "code",
   "execution_count": 1,
   "metadata": {},
   "outputs": [],
   "source": [
    "import os\n",
    "import optuna\n",
    "import pandas as pd\n",
    "import sys\n",
    "import torch\n",
    "import transformers\n",
    "import wandb\n",
    "\n",
    "sys.path.insert(0, os.path.abspath('../'))\n",
    "\n",
    "from rhetorical_roles_classification import (\n",
    "    RhetoricalRolesDataset,\n",
    ")\n",
    "from rhetorical_roles_classification.train import train\n",
    "from rhetorical_roles_classification.test import test_BERT\n",
    "\n",
    "from config import (\n",
    "    DATA_FOLDER,\n",
    "    MODELS_FOLDER,\n",
    "    HUGGING_FACE_BERT_MODEL,\n",
    "    NUM_LABELS,\n",
    "    WANDB_PROJECT,\n",
    "    MAX_SEGMENT_LENGTH,\n",
    "    label2rhetRole\n",
    ")"
   ]
  },
  {
   "cell_type": "code",
   "execution_count": 2,
   "metadata": {},
   "outputs": [
    {
     "name": "stderr",
     "output_type": "stream",
     "text": [
      "Failed to detect the name of this notebook, you can set it manually with the WANDB_NOTEBOOK_NAME environment variable to enable code saving.\n",
      "\u001b[34m\u001b[1mwandb\u001b[0m: Currently logged in as: \u001b[33mgmarinowandb-8601\u001b[0m. Use \u001b[1m`wandb login --relogin`\u001b[0m to force relogin\n"
     ]
    }
   ],
   "source": [
    "MODEL_NAME = \"LEGAL-BERT\"\n",
    "\n",
    "DEVICE = \"cuda:1\"\n",
    "\n",
    "wandb_login_success = wandb.login()"
   ]
  },
  {
   "cell_type": "markdown",
   "metadata": {},
   "source": [
    "## Dataset Loading"
   ]
  },
  {
   "cell_type": "code",
   "execution_count": 3,
   "metadata": {},
   "outputs": [],
   "source": [
    "train_dataset = RhetoricalRolesDataset(\n",
    "    data_filepath=os.path.join(DATA_FOLDER, \"train.csv\"),\n",
    "    tokenizer_model_name=HUGGING_FACE_BERT_MODEL,\n",
    "    max_segment_length=MAX_SEGMENT_LENGTH\n",
    ")\n",
    "valid_dataset = RhetoricalRolesDataset(\n",
    "    data_filepath=os.path.join(DATA_FOLDER, \"valid.csv\"),\n",
    "    tokenizer_model_name=HUGGING_FACE_BERT_MODEL,\n",
    "    max_segment_length=MAX_SEGMENT_LENGTH\n",
    ")\n",
    "test_dataset = RhetoricalRolesDataset(\n",
    "    data_filepath=os.path.join(DATA_FOLDER, \"test.csv\"),\n",
    "    tokenizer_model_name=HUGGING_FACE_BERT_MODEL,\n",
    "    max_segment_length=MAX_SEGMENT_LENGTH\n",
    ")"
   ]
  },
  {
   "cell_type": "markdown",
   "metadata": {},
   "source": [
    "## Hyperparameter Tuning"
   ]
  },
  {
   "cell_type": "code",
   "execution_count": 4,
   "metadata": {},
   "outputs": [],
   "source": [
    "hyperparameters = {\n",
    "    \"batch_size\": 128,\n",
    "    \"epochs\": 20,\n",
    "    \"num_warmup_steps\": 0,\n",
    "    \"accum_iter\": 3,\n",
    "    \"early_stopping\": True,\n",
    "    \"early_stopping_patience\": 2\n",
    "}\n",
    "\n",
    "def objective(trial):\n",
    "    \n",
    "    print(\"\\n************************ Starting New Optuna Trial ************************\\n\")\n",
    "    \n",
    "    hyperparameters[\"lr\"] = trial.suggest_float(\"lr\", 5e-6, 5e-4)\n",
    "    hyperparameters[\"weight_decay\"] = trial.suggest_float(\"weight_decay\", 1e-3, 1e-1)\n",
    "\n",
    "    model = transformers.AutoModelForSequenceClassification.from_pretrained(\n",
    "        HUGGING_FACE_BERT_MODEL,\n",
    "        num_labels=NUM_LABELS,\n",
    "    )\n",
    "    model_id = f\"{MODEL_NAME}-Trial{trial.number}\"\n",
    "\n",
    "    with wandb.init(project=WANDB_PROJECT, config=hyperparameters, name=model_id):\n",
    "\n",
    "        valid_loss = train(\n",
    "            model=model,\n",
    "            destination_path=os.path.join(MODELS_FOLDER, model_id),\n",
    "            train_dataset=train_dataset,\n",
    "            valid_dataset=valid_dataset,\n",
    "            device=DEVICE,\n",
    "            optuna_trial=trial,\n",
    "            use_wandb=True,\n",
    "            **hyperparameters\n",
    "        )\n",
    "        \n",
    "    return valid_loss"
   ]
  },
  {
   "cell_type": "code",
   "execution_count": 4,
   "metadata": {},
   "outputs": [
    {
     "name": "stderr",
     "output_type": "stream",
     "text": [
      "\u001b[32m[I 2023-04-29 12:30:42,093]\u001b[0m Using an existing study with name 'LEGAL-BERT.optuna' instead of creating a new one.\u001b[0m\n"
     ]
    }
   ],
   "source": [
    "study_name = f\"{MODEL_NAME}.optuna\"\n",
    "storage_name = \"sqlite:///{}.db\".format(study_name)\n",
    "study = optuna.create_study(study_name=study_name, storage=storage_name, load_if_exists=True, direction=\"minimize\")"
   ]
  },
  {
   "cell_type": "code",
   "execution_count": 6,
   "metadata": {
    "collapsed": true,
    "jupyter": {
     "outputs_hidden": true
    }
   },
   "outputs": [
    {
     "name": "stdout",
     "output_type": "stream",
     "text": [
      "\n",
      "************************ Starting New Optuna Trial ************************\n",
      "\n"
     ]
    },
    {
     "name": "stderr",
     "output_type": "stream",
     "text": [
      "Some weights of the model checkpoint at nlpaueb/legal-bert-base-uncased were not used when initializing BertForSequenceClassification: ['cls.predictions.bias', 'cls.predictions.transform.dense.bias', 'cls.predictions.transform.dense.weight', 'cls.seq_relationship.weight', 'cls.seq_relationship.bias', 'cls.predictions.transform.LayerNorm.weight', 'cls.predictions.decoder.bias', 'cls.predictions.transform.LayerNorm.bias', 'cls.predictions.decoder.weight']\n",
      "- This IS expected if you are initializing BertForSequenceClassification from the checkpoint of a model trained on another task or with another architecture (e.g. initializing a BertForSequenceClassification model from a BertForPreTraining model).\n",
      "- This IS NOT expected if you are initializing BertForSequenceClassification from the checkpoint of a model that you expect to be exactly identical (initializing a BertForSequenceClassification model from a BertForSequenceClassification model).\n",
      "Some weights of BertForSequenceClassification were not initialized from the model checkpoint at nlpaueb/legal-bert-base-uncased and are newly initialized: ['classifier.bias', 'classifier.weight']\n",
      "You should probably TRAIN this model on a down-stream task to be able to use it for predictions and inference.\n"
     ]
    },
    {
     "data": {
      "text/html": [
       "wandb version 0.15.0 is available!  To upgrade, please run:\n",
       " $ pip install wandb --upgrade"
      ],
      "text/plain": [
       "<IPython.core.display.HTML object>"
      ]
     },
     "metadata": {},
     "output_type": "display_data"
    },
    {
     "data": {
      "text/html": [
       "Tracking run with wandb version 0.13.10"
      ],
      "text/plain": [
       "<IPython.core.display.HTML object>"
      ]
     },
     "metadata": {},
     "output_type": "display_data"
    },
    {
     "data": {
      "text/html": [
       "Run data is saved locally in <code>/home/g.marino/Desktop/GA/RhetoricalRolesClassification/BUILD/wandb/run-20230424_192716-q6i8rs1g</code>"
      ],
      "text/plain": [
       "<IPython.core.display.HTML object>"
      ]
     },
     "metadata": {},
     "output_type": "display_data"
    },
    {
     "data": {
      "text/html": [
       "Syncing run <strong><a href='https://wandb.ai/gmarinowandb-8601/RhetoricalRolesClassification-BUILD/runs/q6i8rs1g' target=\"_blank\">LEGAL-BERT-Trial0</a></strong> to <a href='https://wandb.ai/gmarinowandb-8601/RhetoricalRolesClassification-BUILD' target=\"_blank\">Weights & Biases</a> (<a href='https://wandb.me/run' target=\"_blank\">docs</a>)<br/>"
      ],
      "text/plain": [
       "<IPython.core.display.HTML object>"
      ]
     },
     "metadata": {},
     "output_type": "display_data"
    },
    {
     "data": {
      "text/html": [
       " View project at <a href='https://wandb.ai/gmarinowandb-8601/RhetoricalRolesClassification-BUILD' target=\"_blank\">https://wandb.ai/gmarinowandb-8601/RhetoricalRolesClassification-BUILD</a>"
      ],
      "text/plain": [
       "<IPython.core.display.HTML object>"
      ]
     },
     "metadata": {},
     "output_type": "display_data"
    },
    {
     "data": {
      "text/html": [
       " View run at <a href='https://wandb.ai/gmarinowandb-8601/RhetoricalRolesClassification-BUILD/runs/q6i8rs1g' target=\"_blank\">https://wandb.ai/gmarinowandb-8601/RhetoricalRolesClassification-BUILD/runs/q6i8rs1g</a>"
      ],
      "text/plain": [
       "<IPython.core.display.HTML object>"
      ]
     },
     "metadata": {},
     "output_type": "display_data"
    },
    {
     "name": "stdout",
     "output_type": "stream",
     "text": [
      "\n",
      "************** Training Started **************\n",
      "\n",
      "EPOCH N. 1\n"
     ]
    },
    {
     "name": "stderr",
     "output_type": "stream",
     "text": [
      "202it [00:42,  4.73it/s]\n"
     ]
    },
    {
     "name": "stdout",
     "output_type": "stream",
     "text": [
      "\n",
      "TRAIN RESULTS\n",
      "Loss: 0.012451452596860112\n",
      "Accuracy: 0.5052811432121777\n",
      "MCC: 0.33069808395025896\n",
      "Macro F1: 0.22827933217844873\n",
      "Macro Precision: 0.37020138885059006\n",
      "Macro Recall: 0.21058942511498954\n",
      "Micro F1: 0.5052811432121777\n",
      "Micro Precision: 0.5052811432121777\n",
      "Micro Recall: 0.5052811432121777\n",
      "\n",
      "VALIDATION RESULTS\n",
      "Loss: 0.010323286056518555\n",
      "Accuracy: 0.6020408163265306\n",
      "MCC: 0.4857884484761196\n",
      "Macro F1: 0.4089075013415106\n",
      "Macro Precision: 0.4247768278176399\n",
      "Macro Recall: 0.4430565829314329\n",
      "Micro F1: 0.6020408163265306\n",
      "Micro Precision: 0.6020408163265306\n",
      "Micro Recall: 0.6020408163265306\n",
      "--------------------------------------------------\n",
      "EPOCH N. 2\n"
     ]
    },
    {
     "name": "stderr",
     "output_type": "stream",
     "text": [
      "202it [00:40,  4.96it/s]\n"
     ]
    },
    {
     "name": "stdout",
     "output_type": "stream",
     "text": [
      "\n",
      "TRAIN RESULTS\n",
      "Loss: 0.008336567284343182\n",
      "Accuracy: 0.6620456663560111\n",
      "MCC: 0.5608114463954834\n",
      "Macro F1: 0.478309248239069\n",
      "Macro Precision: 0.5728222476849715\n",
      "Macro Recall: 0.4559875267741242\n",
      "Micro F1: 0.6620456663560111\n",
      "Micro Precision: 0.6620456663560111\n",
      "Micro Recall: 0.6620456663560111\n",
      "\n",
      "VALIDATION RESULTS\n",
      "Loss: 0.009615041315555573\n",
      "Accuracy: 0.6162646876932591\n",
      "MCC: 0.4937035231666228\n",
      "Macro F1: 0.4404535173230659\n",
      "Macro Precision: 0.4933477720173034\n",
      "Macro Recall: 0.44468587102248475\n",
      "Micro F1: 0.6162646876932591\n",
      "Micro Precision: 0.6162646876932591\n",
      "Micro Recall: 0.6162646876932591\n",
      "--------------------------------------------------\n",
      "EPOCH N. 3\n"
     ]
    },
    {
     "name": "stderr",
     "output_type": "stream",
     "text": [
      "202it [00:41,  4.83it/s]\n"
     ]
    },
    {
     "name": "stdout",
     "output_type": "stream",
     "text": [
      "\n",
      "TRAIN RESULTS\n",
      "Loss: 0.006796078736199174\n",
      "Accuracy: 0.7204488971730351\n",
      "MCC: 0.6396611612536898\n",
      "Macro F1: 0.5539143748860287\n",
      "Macro Precision: 0.6201399363333373\n",
      "Macro Recall: 0.5341940307638722\n",
      "Micro F1: 0.7204488971730351\n",
      "Micro Precision: 0.7204488971730351\n",
      "Micro Recall: 0.7204488971730351\n",
      "\n",
      "VALIDATION RESULTS\n",
      "Loss: 0.009782899171113968\n",
      "Accuracy: 0.6144094001236858\n",
      "MCC: 0.4923712367171688\n",
      "Macro F1: 0.46217805695780434\n",
      "Macro Precision: 0.5278860657391083\n",
      "Macro Recall: 0.4612435356103689\n",
      "Micro F1: 0.6144094001236858\n",
      "Micro Precision: 0.6144094001236858\n",
      "Micro Recall: 0.6144094001236858\n",
      "--------------------------------------------------\n",
      "EPOCH N. 4\n"
     ]
    },
    {
     "name": "stderr",
     "output_type": "stream",
     "text": [
      "202it [00:39,  5.07it/s]\n"
     ]
    },
    {
     "name": "stdout",
     "output_type": "stream",
     "text": [
      "\n",
      "TRAIN RESULTS\n",
      "Loss: 0.005397647585686263\n",
      "Accuracy: 0.7762892202547375\n",
      "MCC: 0.7136527545301047\n",
      "Macro F1: 0.6270795543902475\n",
      "Macro Precision: 0.6872549067178038\n",
      "Macro Recall: 0.6070927029529831\n",
      "Micro F1: 0.7762892202547375\n",
      "Micro Precision: 0.7762892202547375\n",
      "Micro Recall: 0.7762892202547375\n",
      "\n",
      "VALIDATION RESULTS\n",
      "Loss: 0.010668079368770123\n",
      "Accuracy: 0.5949288806431664\n",
      "MCC: 0.48370144300729007\n",
      "Macro F1: 0.46940990050863624\n",
      "Macro Precision: 0.5031178983480868\n",
      "Macro Recall: 0.4767712994404017\n",
      "Micro F1: 0.5949288806431664\n",
      "Micro Precision: 0.5949288806431664\n",
      "Micro Recall: 0.5949288806431664\n",
      "Early stopped training\n",
      "--------------------------------------------------\n"
     ]
    },
    {
     "data": {
      "text/html": [
       "Waiting for W&B process to finish... <strong style=\"color:green\">(success).</strong>"
      ],
      "text/plain": [
       "<IPython.core.display.HTML object>"
      ]
     },
     "metadata": {},
     "output_type": "display_data"
    },
    {
     "data": {
      "application/vnd.jupyter.widget-view+json": {
       "model_id": "22711e4b3fdb4330ba11fce746a7911c",
       "version_major": 2,
       "version_minor": 0
      },
      "text/plain": [
       "VBox(children=(Label(value='0.005 MB of 0.005 MB uploaded (0.000 MB deduped)\\r'), FloatProgress(value=1.0, max…"
      ]
     },
     "metadata": {},
     "output_type": "display_data"
    },
    {
     "data": {
      "text/html": [
       "<style>\n",
       "    table.wandb td:nth-child(1) { padding: 0 10px; text-align: left ; width: auto;} td:nth-child(2) {text-align: left ; width: 100%}\n",
       "    .wandb-row { display: flex; flex-direction: row; flex-wrap: wrap; justify-content: flex-start; width: 100% }\n",
       "    .wandb-col { display: flex; flex-direction: column; flex-basis: 100%; flex: 1; padding: 10px; }\n",
       "    </style>\n",
       "<div class=\"wandb-row\"><div class=\"wandb-col\"><h3>Run history:</h3><br/><table class=\"wandb\"><tr><td>Epoch</td><td>▁▃▆█</td></tr><tr><td>Train Loss</td><td>█▄▂▁</td></tr><tr><td>Validation Loss</td><td>▆▁▂█</td></tr></table><br/></div><div class=\"wandb-col\"><h3>Run summary:</h3><br/><table class=\"wandb\"><tr><td>Epoch</td><td>4</td></tr><tr><td>Train Loss</td><td>0.0054</td></tr><tr><td>Validation Loss</td><td>0.01067</td></tr></table><br/></div></div>"
      ],
      "text/plain": [
       "<IPython.core.display.HTML object>"
      ]
     },
     "metadata": {},
     "output_type": "display_data"
    },
    {
     "data": {
      "text/html": [
       " View run <strong style=\"color:#cdcd00\">LEGAL-BERT-Trial0</strong> at: <a href='https://wandb.ai/gmarinowandb-8601/RhetoricalRolesClassification-BUILD/runs/q6i8rs1g' target=\"_blank\">https://wandb.ai/gmarinowandb-8601/RhetoricalRolesClassification-BUILD/runs/q6i8rs1g</a><br/>Synced 5 W&B file(s), 0 media file(s), 0 artifact file(s) and 0 other file(s)"
      ],
      "text/plain": [
       "<IPython.core.display.HTML object>"
      ]
     },
     "metadata": {},
     "output_type": "display_data"
    },
    {
     "data": {
      "text/html": [
       "Find logs at: <code>./wandb/run-20230424_192716-q6i8rs1g/logs</code>"
      ],
      "text/plain": [
       "<IPython.core.display.HTML object>"
      ]
     },
     "metadata": {},
     "output_type": "display_data"
    },
    {
     "name": "stderr",
     "output_type": "stream",
     "text": [
      "\u001b[32m[I 2023-04-24 19:30:39,164]\u001b[0m Trial 0 finished with value: 0.009615041315555573 and parameters: {'lr': 6.731287220383205e-05, 'weight_decay': 0.054922423553121824}. Best is trial 0 with value: 0.009615041315555573.\u001b[0m\n"
     ]
    },
    {
     "name": "stdout",
     "output_type": "stream",
     "text": [
      "\n",
      "************************ Starting New Optuna Trial ************************\n",
      "\n"
     ]
    },
    {
     "name": "stderr",
     "output_type": "stream",
     "text": [
      "Some weights of the model checkpoint at nlpaueb/legal-bert-base-uncased were not used when initializing BertForSequenceClassification: ['cls.predictions.bias', 'cls.predictions.transform.dense.bias', 'cls.predictions.transform.dense.weight', 'cls.seq_relationship.weight', 'cls.seq_relationship.bias', 'cls.predictions.transform.LayerNorm.weight', 'cls.predictions.decoder.bias', 'cls.predictions.transform.LayerNorm.bias', 'cls.predictions.decoder.weight']\n",
      "- This IS expected if you are initializing BertForSequenceClassification from the checkpoint of a model trained on another task or with another architecture (e.g. initializing a BertForSequenceClassification model from a BertForPreTraining model).\n",
      "- This IS NOT expected if you are initializing BertForSequenceClassification from the checkpoint of a model that you expect to be exactly identical (initializing a BertForSequenceClassification model from a BertForSequenceClassification model).\n",
      "Some weights of BertForSequenceClassification were not initialized from the model checkpoint at nlpaueb/legal-bert-base-uncased and are newly initialized: ['classifier.bias', 'classifier.weight']\n",
      "You should probably TRAIN this model on a down-stream task to be able to use it for predictions and inference.\n"
     ]
    },
    {
     "data": {
      "text/html": [
       "wandb version 0.15.0 is available!  To upgrade, please run:\n",
       " $ pip install wandb --upgrade"
      ],
      "text/plain": [
       "<IPython.core.display.HTML object>"
      ]
     },
     "metadata": {},
     "output_type": "display_data"
    },
    {
     "data": {
      "text/html": [
       "Tracking run with wandb version 0.13.10"
      ],
      "text/plain": [
       "<IPython.core.display.HTML object>"
      ]
     },
     "metadata": {},
     "output_type": "display_data"
    },
    {
     "data": {
      "text/html": [
       "Run data is saved locally in <code>/home/g.marino/Desktop/GA/RhetoricalRolesClassification/BUILD/wandb/run-20230424_193040-mdbg1myh</code>"
      ],
      "text/plain": [
       "<IPython.core.display.HTML object>"
      ]
     },
     "metadata": {},
     "output_type": "display_data"
    },
    {
     "data": {
      "text/html": [
       "Syncing run <strong><a href='https://wandb.ai/gmarinowandb-8601/RhetoricalRolesClassification-BUILD/runs/mdbg1myh' target=\"_blank\">LEGAL-BERT-Trial1</a></strong> to <a href='https://wandb.ai/gmarinowandb-8601/RhetoricalRolesClassification-BUILD' target=\"_blank\">Weights & Biases</a> (<a href='https://wandb.me/run' target=\"_blank\">docs</a>)<br/>"
      ],
      "text/plain": [
       "<IPython.core.display.HTML object>"
      ]
     },
     "metadata": {},
     "output_type": "display_data"
    },
    {
     "data": {
      "text/html": [
       " View project at <a href='https://wandb.ai/gmarinowandb-8601/RhetoricalRolesClassification-BUILD' target=\"_blank\">https://wandb.ai/gmarinowandb-8601/RhetoricalRolesClassification-BUILD</a>"
      ],
      "text/plain": [
       "<IPython.core.display.HTML object>"
      ]
     },
     "metadata": {},
     "output_type": "display_data"
    },
    {
     "data": {
      "text/html": [
       " View run at <a href='https://wandb.ai/gmarinowandb-8601/RhetoricalRolesClassification-BUILD/runs/mdbg1myh' target=\"_blank\">https://wandb.ai/gmarinowandb-8601/RhetoricalRolesClassification-BUILD/runs/mdbg1myh</a>"
      ],
      "text/plain": [
       "<IPython.core.display.HTML object>"
      ]
     },
     "metadata": {},
     "output_type": "display_data"
    },
    {
     "name": "stdout",
     "output_type": "stream",
     "text": [
      "\n",
      "************** Training Started **************\n",
      "\n",
      "EPOCH N. 1\n"
     ]
    },
    {
     "name": "stderr",
     "output_type": "stream",
     "text": [
      "202it [00:39,  5.14it/s]\n"
     ]
    },
    {
     "name": "stdout",
     "output_type": "stream",
     "text": [
      "\n",
      "TRAIN RESULTS\n",
      "Loss: 0.015291478354096154\n",
      "Accuracy: 0.373058403230817\n",
      "MCC: 0.09391242781203675\n",
      "Macro F1: 0.07687567619936843\n",
      "Macro Precision: 0.0820288047072236\n",
      "Macro Recall: 0.09651623405579761\n",
      "Micro F1: 0.373058403230817\n",
      "Micro Precision: 0.373058403230817\n",
      "Micro Recall: 0.373058403230817\n",
      "\n",
      "VALIDATION RESULTS\n",
      "Loss: 0.01499392930418253\n",
      "Accuracy: 0.43722943722943725\n",
      "MCC: 0.1995309712608299\n",
      "Macro F1: 0.08479296936605535\n",
      "Macro Precision: 0.08379055333557865\n",
      "Macro Recall: 0.11463566391833477\n",
      "Micro F1: 0.43722943722943725\n",
      "Micro Precision: 0.43722943722943725\n",
      "Micro Recall: 0.43722943722943725\n",
      "--------------------------------------------------\n",
      "EPOCH N. 2\n"
     ]
    },
    {
     "name": "stderr",
     "output_type": "stream",
     "text": [
      "202it [00:39,  5.08it/s]\n"
     ]
    },
    {
     "name": "stdout",
     "output_type": "stream",
     "text": [
      "\n",
      "TRAIN RESULTS\n",
      "Loss: 0.015257252294034386\n",
      "Accuracy: 0.37857253805529667\n",
      "MCC: 0.08021413707553211\n",
      "Macro F1: 0.05918089469442052\n",
      "Macro Precision: 0.07752764861709559\n",
      "Macro Recall: 0.08592475086061992\n",
      "Micro F1: 0.3785725380552966\n",
      "Micro Precision: 0.37857253805529667\n",
      "Micro Recall: 0.37857253805529667\n",
      "\n",
      "VALIDATION RESULTS\n",
      "Loss: 0.015683898702263832\n",
      "Accuracy: 0.3837353123067409\n",
      "MCC: 0.0\n",
      "Macro F1: 0.04266437473141384\n",
      "Macro Precision: 0.029518100946672378\n",
      "Macro Recall: 0.07692307692307693\n",
      "Micro F1: 0.3837353123067409\n",
      "Micro Precision: 0.3837353123067409\n",
      "Micro Recall: 0.3837353123067409\n",
      "--------------------------------------------------\n",
      "EPOCH N. 3\n"
     ]
    },
    {
     "name": "stderr",
     "output_type": "stream",
     "text": [
      "202it [00:39,  5.16it/s]\n"
     ]
    },
    {
     "name": "stdout",
     "output_type": "stream",
     "text": [
      "\n",
      "TRAIN RESULTS\n",
      "Loss: 0.015482140535447641\n",
      "Accuracy: 0.3651366884125505\n",
      "MCC: -0.0009604678611346273\n",
      "Macro F1: 0.042677602859855446\n",
      "Macro Precision: 0.04237675440857803\n",
      "Macro Recall: 0.07686794290227225\n",
      "Micro F1: 0.3651366884125504\n",
      "Micro Precision: 0.3651366884125505\n",
      "Micro Recall: 0.3651366884125505\n",
      "\n",
      "VALIDATION RESULTS\n",
      "Loss: 0.015502450056374073\n",
      "Accuracy: 0.3837353123067409\n",
      "MCC: 0.0\n",
      "Macro F1: 0.04266437473141384\n",
      "Macro Precision: 0.029518100946672378\n",
      "Macro Recall: 0.07692307692307693\n",
      "Micro F1: 0.3837353123067409\n",
      "Micro Precision: 0.3837353123067409\n",
      "Micro Recall: 0.3837353123067409\n",
      "Early stopped training\n",
      "--------------------------------------------------\n"
     ]
    },
    {
     "data": {
      "text/html": [
       "Waiting for W&B process to finish... <strong style=\"color:green\">(success).</strong>"
      ],
      "text/plain": [
       "<IPython.core.display.HTML object>"
      ]
     },
     "metadata": {},
     "output_type": "display_data"
    },
    {
     "data": {
      "application/vnd.jupyter.widget-view+json": {
       "model_id": "728dea52efcc4d79b5d4d4d40c7fee36",
       "version_major": 2,
       "version_minor": 0
      },
      "text/plain": [
       "VBox(children=(Label(value='0.005 MB of 0.005 MB uploaded (0.000 MB deduped)\\r'), FloatProgress(value=1.0, max…"
      ]
     },
     "metadata": {},
     "output_type": "display_data"
    },
    {
     "data": {
      "text/html": [
       "<style>\n",
       "    table.wandb td:nth-child(1) { padding: 0 10px; text-align: left ; width: auto;} td:nth-child(2) {text-align: left ; width: 100%}\n",
       "    .wandb-row { display: flex; flex-direction: row; flex-wrap: wrap; justify-content: flex-start; width: 100% }\n",
       "    .wandb-col { display: flex; flex-direction: column; flex-basis: 100%; flex: 1; padding: 10px; }\n",
       "    </style>\n",
       "<div class=\"wandb-row\"><div class=\"wandb-col\"><h3>Run history:</h3><br/><table class=\"wandb\"><tr><td>Epoch</td><td>▁▅█</td></tr><tr><td>Train Loss</td><td>▂▁█</td></tr><tr><td>Validation Loss</td><td>▁█▆</td></tr></table><br/></div><div class=\"wandb-col\"><h3>Run summary:</h3><br/><table class=\"wandb\"><tr><td>Epoch</td><td>3</td></tr><tr><td>Train Loss</td><td>0.01548</td></tr><tr><td>Validation Loss</td><td>0.0155</td></tr></table><br/></div></div>"
      ],
      "text/plain": [
       "<IPython.core.display.HTML object>"
      ]
     },
     "metadata": {},
     "output_type": "display_data"
    },
    {
     "data": {
      "text/html": [
       " View run <strong style=\"color:#cdcd00\">LEGAL-BERT-Trial1</strong> at: <a href='https://wandb.ai/gmarinowandb-8601/RhetoricalRolesClassification-BUILD/runs/mdbg1myh' target=\"_blank\">https://wandb.ai/gmarinowandb-8601/RhetoricalRolesClassification-BUILD/runs/mdbg1myh</a><br/>Synced 5 W&B file(s), 0 media file(s), 0 artifact file(s) and 0 other file(s)"
      ],
      "text/plain": [
       "<IPython.core.display.HTML object>"
      ]
     },
     "metadata": {},
     "output_type": "display_data"
    },
    {
     "data": {
      "text/html": [
       "Find logs at: <code>./wandb/run-20230424_193040-mdbg1myh/logs</code>"
      ],
      "text/plain": [
       "<IPython.core.display.HTML object>"
      ]
     },
     "metadata": {},
     "output_type": "display_data"
    },
    {
     "name": "stderr",
     "output_type": "stream",
     "text": [
      "\u001b[32m[I 2023-04-24 19:33:02,654]\u001b[0m Trial 1 finished with value: 0.01499392930418253 and parameters: {'lr': 0.0003098872506775076, 'weight_decay': 0.038059346546609835}. Best is trial 0 with value: 0.009615041315555573.\u001b[0m\n"
     ]
    },
    {
     "name": "stdout",
     "output_type": "stream",
     "text": [
      "\n",
      "************************ Starting New Optuna Trial ************************\n",
      "\n"
     ]
    },
    {
     "name": "stderr",
     "output_type": "stream",
     "text": [
      "Some weights of the model checkpoint at nlpaueb/legal-bert-base-uncased were not used when initializing BertForSequenceClassification: ['cls.predictions.bias', 'cls.predictions.transform.dense.bias', 'cls.predictions.transform.dense.weight', 'cls.seq_relationship.weight', 'cls.seq_relationship.bias', 'cls.predictions.transform.LayerNorm.weight', 'cls.predictions.decoder.bias', 'cls.predictions.transform.LayerNorm.bias', 'cls.predictions.decoder.weight']\n",
      "- This IS expected if you are initializing BertForSequenceClassification from the checkpoint of a model trained on another task or with another architecture (e.g. initializing a BertForSequenceClassification model from a BertForPreTraining model).\n",
      "- This IS NOT expected if you are initializing BertForSequenceClassification from the checkpoint of a model that you expect to be exactly identical (initializing a BertForSequenceClassification model from a BertForSequenceClassification model).\n",
      "Some weights of BertForSequenceClassification were not initialized from the model checkpoint at nlpaueb/legal-bert-base-uncased and are newly initialized: ['classifier.bias', 'classifier.weight']\n",
      "You should probably TRAIN this model on a down-stream task to be able to use it for predictions and inference.\n"
     ]
    },
    {
     "data": {
      "text/html": [
       "wandb version 0.15.0 is available!  To upgrade, please run:\n",
       " $ pip install wandb --upgrade"
      ],
      "text/plain": [
       "<IPython.core.display.HTML object>"
      ]
     },
     "metadata": {},
     "output_type": "display_data"
    },
    {
     "data": {
      "text/html": [
       "Tracking run with wandb version 0.13.10"
      ],
      "text/plain": [
       "<IPython.core.display.HTML object>"
      ]
     },
     "metadata": {},
     "output_type": "display_data"
    },
    {
     "data": {
      "text/html": [
       "Run data is saved locally in <code>/home/g.marino/Desktop/GA/RhetoricalRolesClassification/BUILD/wandb/run-20230424_193304-vjxq7ht2</code>"
      ],
      "text/plain": [
       "<IPython.core.display.HTML object>"
      ]
     },
     "metadata": {},
     "output_type": "display_data"
    },
    {
     "data": {
      "text/html": [
       "Syncing run <strong><a href='https://wandb.ai/gmarinowandb-8601/RhetoricalRolesClassification-BUILD/runs/vjxq7ht2' target=\"_blank\">LEGAL-BERT-Trial2</a></strong> to <a href='https://wandb.ai/gmarinowandb-8601/RhetoricalRolesClassification-BUILD' target=\"_blank\">Weights & Biases</a> (<a href='https://wandb.me/run' target=\"_blank\">docs</a>)<br/>"
      ],
      "text/plain": [
       "<IPython.core.display.HTML object>"
      ]
     },
     "metadata": {},
     "output_type": "display_data"
    },
    {
     "data": {
      "text/html": [
       " View project at <a href='https://wandb.ai/gmarinowandb-8601/RhetoricalRolesClassification-BUILD' target=\"_blank\">https://wandb.ai/gmarinowandb-8601/RhetoricalRolesClassification-BUILD</a>"
      ],
      "text/plain": [
       "<IPython.core.display.HTML object>"
      ]
     },
     "metadata": {},
     "output_type": "display_data"
    },
    {
     "data": {
      "text/html": [
       " View run at <a href='https://wandb.ai/gmarinowandb-8601/RhetoricalRolesClassification-BUILD/runs/vjxq7ht2' target=\"_blank\">https://wandb.ai/gmarinowandb-8601/RhetoricalRolesClassification-BUILD/runs/vjxq7ht2</a>"
      ],
      "text/plain": [
       "<IPython.core.display.HTML object>"
      ]
     },
     "metadata": {},
     "output_type": "display_data"
    },
    {
     "name": "stdout",
     "output_type": "stream",
     "text": [
      "\n",
      "************** Training Started **************\n",
      "\n",
      "EPOCH N. 1\n"
     ]
    },
    {
     "name": "stderr",
     "output_type": "stream",
     "text": [
      "202it [00:41,  4.91it/s]\n"
     ]
    },
    {
     "name": "stdout",
     "output_type": "stream",
     "text": [
      "\n",
      "TRAIN RESULTS\n",
      "Loss: 0.014542276521727475\n",
      "Accuracy: 0.4159676918297608\n",
      "MCC: 0.18257401581083418\n",
      "Macro F1: 0.10226596509817963\n",
      "Macro Precision: 0.1107323088881073\n",
      "Macro Recall: 0.11792484926999404\n",
      "Micro F1: 0.4159676918297608\n",
      "Micro Precision: 0.4159676918297608\n",
      "Micro Recall: 0.4159676918297608\n",
      "\n",
      "VALIDATION RESULTS\n",
      "Loss: 0.013565792702138424\n",
      "Accuracy: 0.5009276437847866\n",
      "MCC: 0.30338775594870254\n",
      "Macro F1: 0.12624632761469742\n",
      "Macro Precision: 0.11199160177840027\n",
      "Macro Recall: 0.14611410286111035\n",
      "Micro F1: 0.5009276437847866\n",
      "Micro Precision: 0.5009276437847866\n",
      "Micro Recall: 0.5009276437847866\n",
      "--------------------------------------------------\n",
      "EPOCH N. 2\n"
     ]
    },
    {
     "name": "stderr",
     "output_type": "stream",
     "text": [
      "202it [00:41,  4.86it/s]\n"
     ]
    },
    {
     "name": "stdout",
     "output_type": "stream",
     "text": [
      "\n",
      "TRAIN RESULTS\n",
      "Loss: 0.012448634164197803\n",
      "Accuracy: 0.5228720099409755\n",
      "MCC: 0.35008209391263206\n",
      "Macro F1: 0.14281006186865053\n",
      "Macro Precision: 0.18222134068104032\n",
      "Macro Recall: 0.1644608692074179\n",
      "Micro F1: 0.5228720099409755\n",
      "Micro Precision: 0.5228720099409755\n",
      "Micro Recall: 0.5228720099409755\n",
      "\n",
      "VALIDATION RESULTS\n",
      "Loss: 0.013070833869278431\n",
      "Accuracy: 0.5080395794681509\n",
      "MCC: 0.33771385805221893\n",
      "Macro F1: 0.1822584625629656\n",
      "Macro Precision: 0.16799394404073778\n",
      "Macro Recall: 0.20479150363199758\n",
      "Micro F1: 0.5080395794681509\n",
      "Micro Precision: 0.5080395794681509\n",
      "Micro Recall: 0.5080395794681509\n",
      "--------------------------------------------------\n",
      "EPOCH N. 3\n"
     ]
    },
    {
     "name": "stderr",
     "output_type": "stream",
     "text": [
      "202it [00:39,  5.08it/s]\n"
     ]
    },
    {
     "name": "stdout",
     "output_type": "stream",
     "text": [
      "\n",
      "TRAIN RESULTS\n",
      "Loss: 0.011480318732460155\n",
      "Accuracy: 0.5618592730661697\n",
      "MCC: 0.41281638530269854\n",
      "Macro F1: 0.20200924256308156\n",
      "Macro Precision: 0.22341867962712345\n",
      "Macro Recall: 0.2179154502663094\n",
      "Micro F1: 0.5618592730661697\n",
      "Micro Precision: 0.5618592730661697\n",
      "Micro Recall: 0.5618592730661697\n",
      "\n",
      "VALIDATION RESULTS\n",
      "Loss: 0.013121790252625942\n",
      "Accuracy: 0.5061842918985776\n",
      "MCC: 0.32475469979668037\n",
      "Macro F1: 0.18113624544675566\n",
      "Macro Precision: 0.18283693961478992\n",
      "Macro Recall: 0.1944148593336138\n",
      "Micro F1: 0.5061842918985776\n",
      "Micro Precision: 0.5061842918985776\n",
      "Micro Recall: 0.5061842918985776\n",
      "--------------------------------------------------\n",
      "EPOCH N. 4\n"
     ]
    },
    {
     "name": "stderr",
     "output_type": "stream",
     "text": [
      "202it [00:42,  4.80it/s]\n"
     ]
    },
    {
     "name": "stdout",
     "output_type": "stream",
     "text": [
      "\n",
      "TRAIN RESULTS\n",
      "Loss: 0.010934961118954388\n",
      "Accuracy: 0.5840323081702392\n",
      "MCC: 0.4457809496202189\n",
      "Macro F1: 0.21858754911203718\n",
      "Macro Precision: 0.2323439736175034\n",
      "Macro Recall: 0.23822878669662584\n",
      "Micro F1: 0.5840323081702392\n",
      "Micro Precision: 0.5840323081702392\n",
      "Micro Recall: 0.5840323081702392\n",
      "\n",
      "VALIDATION RESULTS\n",
      "Loss: 0.012963877990841866\n",
      "Accuracy: 0.5188620902906618\n",
      "MCC: 0.34414493374448785\n",
      "Macro F1: 0.18784564610060855\n",
      "Macro Precision: 0.25501116181107886\n",
      "Macro Recall: 0.2075364105144562\n",
      "Micro F1: 0.5188620902906618\n",
      "Micro Precision: 0.5188620902906618\n",
      "Micro Recall: 0.5188620902906618\n",
      "--------------------------------------------------\n",
      "EPOCH N. 5\n"
     ]
    },
    {
     "name": "stderr",
     "output_type": "stream",
     "text": [
      "202it [00:39,  5.11it/s]\n"
     ]
    },
    {
     "name": "stdout",
     "output_type": "stream",
     "text": [
      "\n",
      "TRAIN RESULTS\n",
      "Loss: 0.010503464875179775\n",
      "Accuracy: 0.6015843429636533\n",
      "MCC: 0.4703388928206534\n",
      "Macro F1: 0.22497628286754373\n",
      "Macro Precision: 0.2860766099226681\n",
      "Macro Recall: 0.24316484903605645\n",
      "Micro F1: 0.6015843429636533\n",
      "Micro Precision: 0.6015843429636533\n",
      "Micro Recall: 0.6015843429636533\n",
      "\n",
      "VALIDATION RESULTS\n",
      "Loss: 0.013207629323005676\n",
      "Accuracy: 0.5148423005565863\n",
      "MCC: 0.3312573037309295\n",
      "Macro F1: 0.18418390977817717\n",
      "Macro Precision: 0.19536581278737353\n",
      "Macro Recall: 0.18958546353368239\n",
      "Micro F1: 0.5148423005565863\n",
      "Micro Precision: 0.5148423005565863\n",
      "Micro Recall: 0.5148423005565863\n",
      "--------------------------------------------------\n",
      "EPOCH N. 6\n"
     ]
    },
    {
     "name": "stderr",
     "output_type": "stream",
     "text": [
      "202it [00:39,  5.13it/s]\n"
     ]
    },
    {
     "name": "stdout",
     "output_type": "stream",
     "text": [
      "\n",
      "TRAIN RESULTS\n",
      "Loss: 0.009909980684176258\n",
      "Accuracy: 0.623524386455421\n",
      "MCC: 0.503299603487075\n",
      "Macro F1: 0.24497572957245456\n",
      "Macro Precision: 0.25101989878440334\n",
      "Macro Recall: 0.2696914053372224\n",
      "Micro F1: 0.623524386455421\n",
      "Micro Precision: 0.623524386455421\n",
      "Micro Recall: 0.623524386455421\n",
      "\n",
      "VALIDATION RESULTS\n",
      "Loss: 0.01385761983692646\n",
      "Accuracy: 0.48608534322820035\n",
      "MCC: 0.33222896984358197\n",
      "Macro F1: 0.20002470412368892\n",
      "Macro Precision: 0.26000222270238926\n",
      "Macro Recall: 0.22424454454910106\n",
      "Micro F1: 0.48608534322820035\n",
      "Micro Precision: 0.48608534322820035\n",
      "Micro Recall: 0.48608534322820035\n",
      "Early stopped training\n",
      "--------------------------------------------------\n"
     ]
    },
    {
     "data": {
      "text/html": [
       "Waiting for W&B process to finish... <strong style=\"color:green\">(success).</strong>"
      ],
      "text/plain": [
       "<IPython.core.display.HTML object>"
      ]
     },
     "metadata": {},
     "output_type": "display_data"
    },
    {
     "data": {
      "application/vnd.jupyter.widget-view+json": {
       "model_id": "001835254ad0462f8ecce12f262e84ba",
       "version_major": 2,
       "version_minor": 0
      },
      "text/plain": [
       "VBox(children=(Label(value='0.005 MB of 0.005 MB uploaded (0.000 MB deduped)\\r'), FloatProgress(value=1.0, max…"
      ]
     },
     "metadata": {},
     "output_type": "display_data"
    },
    {
     "data": {
      "text/html": [
       "<style>\n",
       "    table.wandb td:nth-child(1) { padding: 0 10px; text-align: left ; width: auto;} td:nth-child(2) {text-align: left ; width: 100%}\n",
       "    .wandb-row { display: flex; flex-direction: row; flex-wrap: wrap; justify-content: flex-start; width: 100% }\n",
       "    .wandb-col { display: flex; flex-direction: column; flex-basis: 100%; flex: 1; padding: 10px; }\n",
       "    </style>\n",
       "<div class=\"wandb-row\"><div class=\"wandb-col\"><h3>Run history:</h3><br/><table class=\"wandb\"><tr><td>Epoch</td><td>▁▂▄▅▇█</td></tr><tr><td>Train Loss</td><td>█▅▃▃▂▁</td></tr><tr><td>Validation Loss</td><td>▆▂▂▁▃█</td></tr></table><br/></div><div class=\"wandb-col\"><h3>Run summary:</h3><br/><table class=\"wandb\"><tr><td>Epoch</td><td>6</td></tr><tr><td>Train Loss</td><td>0.00991</td></tr><tr><td>Validation Loss</td><td>0.01386</td></tr></table><br/></div></div>"
      ],
      "text/plain": [
       "<IPython.core.display.HTML object>"
      ]
     },
     "metadata": {},
     "output_type": "display_data"
    },
    {
     "data": {
      "text/html": [
       " View run <strong style=\"color:#cdcd00\">LEGAL-BERT-Trial2</strong> at: <a href='https://wandb.ai/gmarinowandb-8601/RhetoricalRolesClassification-BUILD/runs/vjxq7ht2' target=\"_blank\">https://wandb.ai/gmarinowandb-8601/RhetoricalRolesClassification-BUILD/runs/vjxq7ht2</a><br/>Synced 5 W&B file(s), 0 media file(s), 0 artifact file(s) and 0 other file(s)"
      ],
      "text/plain": [
       "<IPython.core.display.HTML object>"
      ]
     },
     "metadata": {},
     "output_type": "display_data"
    },
    {
     "data": {
      "text/html": [
       "Find logs at: <code>./wandb/run-20230424_193304-vjxq7ht2/logs</code>"
      ],
      "text/plain": [
       "<IPython.core.display.HTML object>"
      ]
     },
     "metadata": {},
     "output_type": "display_data"
    },
    {
     "name": "stderr",
     "output_type": "stream",
     "text": [
      "\u001b[32m[I 2023-04-24 19:37:56,990]\u001b[0m Trial 2 finished with value: 0.012963877990841866 and parameters: {'lr': 0.000209283846828209, 'weight_decay': 0.052388857187272514}. Best is trial 0 with value: 0.009615041315555573.\u001b[0m\n"
     ]
    },
    {
     "name": "stdout",
     "output_type": "stream",
     "text": [
      "\n",
      "************************ Starting New Optuna Trial ************************\n",
      "\n"
     ]
    },
    {
     "name": "stderr",
     "output_type": "stream",
     "text": [
      "Some weights of the model checkpoint at nlpaueb/legal-bert-base-uncased were not used when initializing BertForSequenceClassification: ['cls.predictions.bias', 'cls.predictions.transform.dense.bias', 'cls.predictions.transform.dense.weight', 'cls.seq_relationship.weight', 'cls.seq_relationship.bias', 'cls.predictions.transform.LayerNorm.weight', 'cls.predictions.decoder.bias', 'cls.predictions.transform.LayerNorm.bias', 'cls.predictions.decoder.weight']\n",
      "- This IS expected if you are initializing BertForSequenceClassification from the checkpoint of a model trained on another task or with another architecture (e.g. initializing a BertForSequenceClassification model from a BertForPreTraining model).\n",
      "- This IS NOT expected if you are initializing BertForSequenceClassification from the checkpoint of a model that you expect to be exactly identical (initializing a BertForSequenceClassification model from a BertForSequenceClassification model).\n",
      "Some weights of BertForSequenceClassification were not initialized from the model checkpoint at nlpaueb/legal-bert-base-uncased and are newly initialized: ['classifier.bias', 'classifier.weight']\n",
      "You should probably TRAIN this model on a down-stream task to be able to use it for predictions and inference.\n"
     ]
    },
    {
     "data": {
      "text/html": [
       "wandb version 0.15.0 is available!  To upgrade, please run:\n",
       " $ pip install wandb --upgrade"
      ],
      "text/plain": [
       "<IPython.core.display.HTML object>"
      ]
     },
     "metadata": {},
     "output_type": "display_data"
    },
    {
     "data": {
      "text/html": [
       "Tracking run with wandb version 0.13.10"
      ],
      "text/plain": [
       "<IPython.core.display.HTML object>"
      ]
     },
     "metadata": {},
     "output_type": "display_data"
    },
    {
     "data": {
      "text/html": [
       "Run data is saved locally in <code>/home/g.marino/Desktop/GA/RhetoricalRolesClassification/BUILD/wandb/run-20230424_193758-c7jln0zr</code>"
      ],
      "text/plain": [
       "<IPython.core.display.HTML object>"
      ]
     },
     "metadata": {},
     "output_type": "display_data"
    },
    {
     "data": {
      "text/html": [
       "Syncing run <strong><a href='https://wandb.ai/gmarinowandb-8601/RhetoricalRolesClassification-BUILD/runs/c7jln0zr' target=\"_blank\">LEGAL-BERT-Trial3</a></strong> to <a href='https://wandb.ai/gmarinowandb-8601/RhetoricalRolesClassification-BUILD' target=\"_blank\">Weights & Biases</a> (<a href='https://wandb.me/run' target=\"_blank\">docs</a>)<br/>"
      ],
      "text/plain": [
       "<IPython.core.display.HTML object>"
      ]
     },
     "metadata": {},
     "output_type": "display_data"
    },
    {
     "data": {
      "text/html": [
       " View project at <a href='https://wandb.ai/gmarinowandb-8601/RhetoricalRolesClassification-BUILD' target=\"_blank\">https://wandb.ai/gmarinowandb-8601/RhetoricalRolesClassification-BUILD</a>"
      ],
      "text/plain": [
       "<IPython.core.display.HTML object>"
      ]
     },
     "metadata": {},
     "output_type": "display_data"
    },
    {
     "data": {
      "text/html": [
       " View run at <a href='https://wandb.ai/gmarinowandb-8601/RhetoricalRolesClassification-BUILD/runs/c7jln0zr' target=\"_blank\">https://wandb.ai/gmarinowandb-8601/RhetoricalRolesClassification-BUILD/runs/c7jln0zr</a>"
      ],
      "text/plain": [
       "<IPython.core.display.HTML object>"
      ]
     },
     "metadata": {},
     "output_type": "display_data"
    },
    {
     "name": "stdout",
     "output_type": "stream",
     "text": [
      "\n",
      "************** Training Started **************\n",
      "\n",
      "EPOCH N. 1\n"
     ]
    },
    {
     "name": "stderr",
     "output_type": "stream",
     "text": [
      "202it [00:43,  4.60it/s]\n"
     ]
    },
    {
     "name": "stdout",
     "output_type": "stream",
     "text": [
      "\n",
      "TRAIN RESULTS\n",
      "Loss: 0.014842200701412261\n",
      "Accuracy: 0.3991922957440199\n",
      "MCC: 0.1497511941313164\n",
      "Macro F1: 0.08588600504938053\n",
      "Macro Precision: 0.10937632176685774\n",
      "Macro Recall: 0.10785425264357941\n",
      "Micro F1: 0.3991922957440199\n",
      "Micro Precision: 0.3991922957440199\n",
      "Micro Recall: 0.3991922957440199\n",
      "\n",
      "VALIDATION RESULTS\n",
      "Loss: 0.014421903528273106\n",
      "Accuracy: 0.4393939393939394\n",
      "MCC: 0.25820866613229326\n",
      "Macro F1: 0.11633254702135062\n",
      "Macro Precision: 0.1035134750797915\n",
      "Macro Recall: 0.14148601202634337\n",
      "Micro F1: 0.4393939393939394\n",
      "Micro Precision: 0.4393939393939394\n",
      "Micro Recall: 0.4393939393939394\n",
      "--------------------------------------------------\n",
      "EPOCH N. 2\n"
     ]
    },
    {
     "name": "stderr",
     "output_type": "stream",
     "text": [
      "202it [00:39,  5.07it/s]\n"
     ]
    },
    {
     "name": "stdout",
     "output_type": "stream",
     "text": [
      "\n",
      "TRAIN RESULTS\n",
      "Loss: 0.012820465612315214\n",
      "Accuracy: 0.503300714507611\n",
      "MCC: 0.3212413617405183\n",
      "Macro F1: 0.13503021557949227\n",
      "Macro Precision: 0.14609525077870614\n",
      "Macro Recall: 0.15748300456445768\n",
      "Micro F1: 0.503300714507611\n",
      "Micro Precision: 0.503300714507611\n",
      "Micro Recall: 0.503300714507611\n",
      "\n",
      "VALIDATION RESULTS\n",
      "Loss: 0.013405193574726582\n",
      "Accuracy: 0.4965986394557823\n",
      "MCC: 0.2995469321146474\n",
      "Macro F1: 0.14410866211505538\n",
      "Macro Precision: 0.13453822825606443\n",
      "Macro Recall: 0.15929291608112833\n",
      "Micro F1: 0.4965986394557823\n",
      "Micro Precision: 0.4965986394557823\n",
      "Micro Recall: 0.4965986394557823\n",
      "--------------------------------------------------\n",
      "EPOCH N. 3\n"
     ]
    },
    {
     "name": "stderr",
     "output_type": "stream",
     "text": [
      "202it [00:41,  4.92it/s]\n"
     ]
    },
    {
     "name": "stdout",
     "output_type": "stream",
     "text": [
      "\n",
      "TRAIN RESULTS\n",
      "Loss: 0.01196068806302366\n",
      "Accuracy: 0.5372009940975458\n",
      "MCC: 0.3739202483329781\n",
      "Macro F1: 0.16834148916648653\n",
      "Macro Precision: 0.1685981670122353\n",
      "Macro Recall: 0.18589576093829724\n",
      "Micro F1: 0.5372009940975458\n",
      "Micro Precision: 0.5372009940975458\n",
      "Micro Recall: 0.5372009940975458\n",
      "\n",
      "VALIDATION RESULTS\n",
      "Loss: 0.012705758213996887\n",
      "Accuracy: 0.520717377860235\n",
      "MCC: 0.33470660401103575\n",
      "Macro F1: 0.17012886759725904\n",
      "Macro Precision: 0.16236606597574993\n",
      "Macro Recall: 0.18427187645264917\n",
      "Micro F1: 0.520717377860235\n",
      "Micro Precision: 0.520717377860235\n",
      "Micro Recall: 0.520717377860235\n",
      "--------------------------------------------------\n",
      "EPOCH N. 4\n"
     ]
    },
    {
     "name": "stderr",
     "output_type": "stream",
     "text": [
      "202it [00:39,  5.09it/s]\n"
     ]
    },
    {
     "name": "stdout",
     "output_type": "stream",
     "text": [
      "\n",
      "TRAIN RESULTS\n",
      "Loss: 0.011040103068889464\n",
      "Accuracy: 0.5735476856166511\n",
      "MCC: 0.42916786260854384\n",
      "Macro F1: 0.20068090630996535\n",
      "Macro Precision: 0.23938279026710463\n",
      "Macro Recall: 0.22454953438891115\n",
      "Micro F1: 0.5735476856166511\n",
      "Micro Precision: 0.5735476856166511\n",
      "Micro Recall: 0.5735476856166511\n",
      "\n",
      "VALIDATION RESULTS\n",
      "Loss: 0.013084799982607365\n",
      "Accuracy: 0.512987012987013\n",
      "MCC: 0.32595437861397303\n",
      "Macro F1: 0.16768074989124365\n",
      "Macro Precision: 0.16198344791459063\n",
      "Macro Recall: 0.18266071269125217\n",
      "Micro F1: 0.512987012987013\n",
      "Micro Precision: 0.512987012987013\n",
      "Micro Recall: 0.512987012987013\n",
      "--------------------------------------------------\n",
      "EPOCH N. 5\n"
     ]
    },
    {
     "name": "stderr",
     "output_type": "stream",
     "text": [
      "202it [00:39,  5.12it/s]\n"
     ]
    },
    {
     "name": "stdout",
     "output_type": "stream",
     "text": [
      "\n",
      "TRAIN RESULTS\n",
      "Loss: 0.010385508398788988\n",
      "Accuracy: 0.6001475613544579\n",
      "MCC: 0.468716646068271\n",
      "Macro F1: 0.24939715124841016\n",
      "Macro Precision: 0.2820241188840493\n",
      "Macro Recall: 0.26637900073516607\n",
      "Micro F1: 0.6001475613544579\n",
      "Micro Precision: 0.6001475613544579\n",
      "Micro Recall: 0.6001475613544579\n",
      "\n",
      "VALIDATION RESULTS\n",
      "Loss: 0.013146815821528435\n",
      "Accuracy: 0.5290661719233147\n",
      "MCC: 0.34975541802873866\n",
      "Macro F1: 0.2054119765664088\n",
      "Macro Precision: 0.20376242054088414\n",
      "Macro Recall: 0.21442035108587845\n",
      "Micro F1: 0.5290661719233147\n",
      "Micro Precision: 0.5290661719233147\n",
      "Micro Recall: 0.5290661719233147\n",
      "Early stopped training\n",
      "--------------------------------------------------\n"
     ]
    },
    {
     "data": {
      "text/html": [
       "Waiting for W&B process to finish... <strong style=\"color:green\">(success).</strong>"
      ],
      "text/plain": [
       "<IPython.core.display.HTML object>"
      ]
     },
     "metadata": {},
     "output_type": "display_data"
    },
    {
     "data": {
      "application/vnd.jupyter.widget-view+json": {
       "model_id": "43308416a2ff491ca04f1302749b968f",
       "version_major": 2,
       "version_minor": 0
      },
      "text/plain": [
       "VBox(children=(Label(value='0.005 MB of 0.005 MB uploaded (0.000 MB deduped)\\r'), FloatProgress(value=1.0, max…"
      ]
     },
     "metadata": {},
     "output_type": "display_data"
    },
    {
     "data": {
      "text/html": [
       "<style>\n",
       "    table.wandb td:nth-child(1) { padding: 0 10px; text-align: left ; width: auto;} td:nth-child(2) {text-align: left ; width: 100%}\n",
       "    .wandb-row { display: flex; flex-direction: row; flex-wrap: wrap; justify-content: flex-start; width: 100% }\n",
       "    .wandb-col { display: flex; flex-direction: column; flex-basis: 100%; flex: 1; padding: 10px; }\n",
       "    </style>\n",
       "<div class=\"wandb-row\"><div class=\"wandb-col\"><h3>Run history:</h3><br/><table class=\"wandb\"><tr><td>Epoch</td><td>▁▃▅▆█</td></tr><tr><td>Train Loss</td><td>█▅▃▂▁</td></tr><tr><td>Validation Loss</td><td>█▄▁▃▃</td></tr></table><br/></div><div class=\"wandb-col\"><h3>Run summary:</h3><br/><table class=\"wandb\"><tr><td>Epoch</td><td>5</td></tr><tr><td>Train Loss</td><td>0.01039</td></tr><tr><td>Validation Loss</td><td>0.01315</td></tr></table><br/></div></div>"
      ],
      "text/plain": [
       "<IPython.core.display.HTML object>"
      ]
     },
     "metadata": {},
     "output_type": "display_data"
    },
    {
     "data": {
      "text/html": [
       " View run <strong style=\"color:#cdcd00\">LEGAL-BERT-Trial3</strong> at: <a href='https://wandb.ai/gmarinowandb-8601/RhetoricalRolesClassification-BUILD/runs/c7jln0zr' target=\"_blank\">https://wandb.ai/gmarinowandb-8601/RhetoricalRolesClassification-BUILD/runs/c7jln0zr</a><br/>Synced 5 W&B file(s), 0 media file(s), 0 artifact file(s) and 0 other file(s)"
      ],
      "text/plain": [
       "<IPython.core.display.HTML object>"
      ]
     },
     "metadata": {},
     "output_type": "display_data"
    },
    {
     "data": {
      "text/html": [
       "Find logs at: <code>./wandb/run-20230424_193758-c7jln0zr/logs</code>"
      ],
      "text/plain": [
       "<IPython.core.display.HTML object>"
      ]
     },
     "metadata": {},
     "output_type": "display_data"
    },
    {
     "name": "stderr",
     "output_type": "stream",
     "text": [
      "\u001b[32m[I 2023-04-24 19:41:59,380]\u001b[0m Trial 3 finished with value: 0.012705758213996887 and parameters: {'lr': 0.00018373014972164419, 'weight_decay': 0.052903422687647944}. Best is trial 0 with value: 0.009615041315555573.\u001b[0m\n"
     ]
    },
    {
     "name": "stdout",
     "output_type": "stream",
     "text": [
      "\n",
      "************************ Starting New Optuna Trial ************************\n",
      "\n"
     ]
    },
    {
     "name": "stderr",
     "output_type": "stream",
     "text": [
      "Some weights of the model checkpoint at nlpaueb/legal-bert-base-uncased were not used when initializing BertForSequenceClassification: ['cls.predictions.bias', 'cls.predictions.transform.dense.bias', 'cls.predictions.transform.dense.weight', 'cls.seq_relationship.weight', 'cls.seq_relationship.bias', 'cls.predictions.transform.LayerNorm.weight', 'cls.predictions.decoder.bias', 'cls.predictions.transform.LayerNorm.bias', 'cls.predictions.decoder.weight']\n",
      "- This IS expected if you are initializing BertForSequenceClassification from the checkpoint of a model trained on another task or with another architecture (e.g. initializing a BertForSequenceClassification model from a BertForPreTraining model).\n",
      "- This IS NOT expected if you are initializing BertForSequenceClassification from the checkpoint of a model that you expect to be exactly identical (initializing a BertForSequenceClassification model from a BertForSequenceClassification model).\n",
      "Some weights of BertForSequenceClassification were not initialized from the model checkpoint at nlpaueb/legal-bert-base-uncased and are newly initialized: ['classifier.bias', 'classifier.weight']\n",
      "You should probably TRAIN this model on a down-stream task to be able to use it for predictions and inference.\n"
     ]
    },
    {
     "data": {
      "text/html": [
       "wandb version 0.15.0 is available!  To upgrade, please run:\n",
       " $ pip install wandb --upgrade"
      ],
      "text/plain": [
       "<IPython.core.display.HTML object>"
      ]
     },
     "metadata": {},
     "output_type": "display_data"
    },
    {
     "data": {
      "text/html": [
       "Tracking run with wandb version 0.13.10"
      ],
      "text/plain": [
       "<IPython.core.display.HTML object>"
      ]
     },
     "metadata": {},
     "output_type": "display_data"
    },
    {
     "data": {
      "text/html": [
       "Run data is saved locally in <code>/home/g.marino/Desktop/GA/RhetoricalRolesClassification/BUILD/wandb/run-20230424_194201-uifnd73p</code>"
      ],
      "text/plain": [
       "<IPython.core.display.HTML object>"
      ]
     },
     "metadata": {},
     "output_type": "display_data"
    },
    {
     "data": {
      "text/html": [
       "Syncing run <strong><a href='https://wandb.ai/gmarinowandb-8601/RhetoricalRolesClassification-BUILD/runs/uifnd73p' target=\"_blank\">LEGAL-BERT-Trial4</a></strong> to <a href='https://wandb.ai/gmarinowandb-8601/RhetoricalRolesClassification-BUILD' target=\"_blank\">Weights & Biases</a> (<a href='https://wandb.me/run' target=\"_blank\">docs</a>)<br/>"
      ],
      "text/plain": [
       "<IPython.core.display.HTML object>"
      ]
     },
     "metadata": {},
     "output_type": "display_data"
    },
    {
     "data": {
      "text/html": [
       " View project at <a href='https://wandb.ai/gmarinowandb-8601/RhetoricalRolesClassification-BUILD' target=\"_blank\">https://wandb.ai/gmarinowandb-8601/RhetoricalRolesClassification-BUILD</a>"
      ],
      "text/plain": [
       "<IPython.core.display.HTML object>"
      ]
     },
     "metadata": {},
     "output_type": "display_data"
    },
    {
     "data": {
      "text/html": [
       " View run at <a href='https://wandb.ai/gmarinowandb-8601/RhetoricalRolesClassification-BUILD/runs/uifnd73p' target=\"_blank\">https://wandb.ai/gmarinowandb-8601/RhetoricalRolesClassification-BUILD/runs/uifnd73p</a>"
      ],
      "text/plain": [
       "<IPython.core.display.HTML object>"
      ]
     },
     "metadata": {},
     "output_type": "display_data"
    },
    {
     "name": "stdout",
     "output_type": "stream",
     "text": [
      "\n",
      "************** Training Started **************\n",
      "\n",
      "EPOCH N. 1\n"
     ]
    },
    {
     "name": "stderr",
     "output_type": "stream",
     "text": [
      "202it [00:43,  4.64it/s]\n"
     ]
    },
    {
     "name": "stdout",
     "output_type": "stream",
     "text": [
      "\n",
      "TRAIN RESULTS\n",
      "Loss: 0.01582922661256331\n",
      "Accuracy: 0.35220565392979186\n",
      "MCC: -0.0007605630917715971\n",
      "Macro F1: 0.047533833126957\n",
      "Macro Precision: 0.06543348310874143\n",
      "Macro Recall: 0.07596818225547103\n",
      "Micro F1: 0.35220565392979186\n",
      "Micro Precision: 0.35220565392979186\n",
      "Micro Recall: 0.35220565392979186\n",
      "\n",
      "VALIDATION RESULTS\n",
      "Loss: 0.01568436250090599\n",
      "Accuracy: 0.3837353123067409\n",
      "MCC: 0.0\n",
      "Macro F1: 0.04266437473141384\n",
      "Macro Precision: 0.029518100946672378\n",
      "Macro Recall: 0.07692307692307693\n",
      "Micro F1: 0.3837353123067409\n",
      "Micro Precision: 0.3837353123067409\n",
      "Micro Recall: 0.3837353123067409\n",
      "--------------------------------------------------\n",
      "EPOCH N. 2\n"
     ]
    },
    {
     "name": "stderr",
     "output_type": "stream",
     "text": [
      "202it [00:40,  5.00it/s]\n"
     ]
    },
    {
     "name": "stdout",
     "output_type": "stream",
     "text": [
      "\n",
      "TRAIN RESULTS\n",
      "Loss: 0.015531792037788478\n",
      "Accuracy: 0.36564150357253805\n",
      "MCC: 0.001891561835197298\n",
      "Macro F1: 0.042668802730772414\n",
      "Macro Precision: 0.05879867447387748\n",
      "Macro Recall: 0.07696953920051339\n",
      "Micro F1: 0.3656415035725381\n",
      "Micro Precision: 0.36564150357253805\n",
      "Micro Recall: 0.36564150357253805\n",
      "\n",
      "VALIDATION RESULTS\n",
      "Loss: 0.015514145605266094\n",
      "Accuracy: 0.3837353123067409\n",
      "MCC: 0.0\n",
      "Macro F1: 0.04266437473141384\n",
      "Macro Precision: 0.029518100946672378\n",
      "Macro Recall: 0.07692307692307693\n",
      "Micro F1: 0.3837353123067409\n",
      "Micro Precision: 0.3837353123067409\n",
      "Micro Recall: 0.3837353123067409\n",
      "--------------------------------------------------\n",
      "EPOCH N. 3\n"
     ]
    },
    {
     "name": "stderr",
     "output_type": "stream",
     "text": [
      "202it [00:41,  4.85it/s]\n"
     ]
    },
    {
     "name": "stdout",
     "output_type": "stream",
     "text": [
      "\n",
      "TRAIN RESULTS\n",
      "Loss: 0.015519085610716488\n",
      "Accuracy: 0.3650590245417832\n",
      "MCC: 0.0008563404754778595\n",
      "Macro F1: 0.0430620537831317\n",
      "Macro Precision: 0.05096144610245272\n",
      "Macro Recall: 0.07695442234646818\n",
      "Micro F1: 0.36505902454178324\n",
      "Micro Precision: 0.3650590245417832\n",
      "Micro Recall: 0.3650590245417832\n",
      "\n",
      "VALIDATION RESULTS\n",
      "Loss: 0.01569605991244316\n",
      "Accuracy: 0.3837353123067409\n",
      "MCC: 0.0\n",
      "Macro F1: 0.04266437473141384\n",
      "Macro Precision: 0.029518100946672378\n",
      "Macro Recall: 0.07692307692307693\n",
      "Micro F1: 0.3837353123067409\n",
      "Micro Precision: 0.3837353123067409\n",
      "Micro Recall: 0.3837353123067409\n",
      "--------------------------------------------------\n",
      "EPOCH N. 4\n"
     ]
    },
    {
     "name": "stderr",
     "output_type": "stream",
     "text": [
      "202it [00:39,  5.09it/s]\n"
     ]
    },
    {
     "name": "stdout",
     "output_type": "stream",
     "text": [
      "\n",
      "TRAIN RESULTS\n",
      "Loss: 0.01550983229513752\n",
      "Accuracy: 0.36369990680335507\n",
      "MCC: -0.001468040558705286\n",
      "Macro F1: 0.043322200457998\n",
      "Macro Precision: 0.04108946202650448\n",
      "Macro Recall: 0.07675372522688967\n",
      "Micro F1: 0.36369990680335507\n",
      "Micro Precision: 0.36369990680335507\n",
      "Micro Recall: 0.36369990680335507\n",
      "\n",
      "VALIDATION RESULTS\n",
      "Loss: 0.015621907077729702\n",
      "Accuracy: 0.3837353123067409\n",
      "MCC: 0.0\n",
      "Macro F1: 0.04266437473141384\n",
      "Macro Precision: 0.029518100946672378\n",
      "Macro Recall: 0.07692307692307693\n",
      "Micro F1: 0.3837353123067409\n",
      "Micro Precision: 0.3837353123067409\n",
      "Micro Recall: 0.3837353123067409\n",
      "Early stopped training\n",
      "--------------------------------------------------\n"
     ]
    },
    {
     "data": {
      "text/html": [
       "Waiting for W&B process to finish... <strong style=\"color:green\">(success).</strong>"
      ],
      "text/plain": [
       "<IPython.core.display.HTML object>"
      ]
     },
     "metadata": {},
     "output_type": "display_data"
    },
    {
     "data": {
      "application/vnd.jupyter.widget-view+json": {
       "model_id": "34e8f250913742069ff2d49e880dc193",
       "version_major": 2,
       "version_minor": 0
      },
      "text/plain": [
       "VBox(children=(Label(value='0.005 MB of 0.005 MB uploaded (0.000 MB deduped)\\r'), FloatProgress(value=1.0, max…"
      ]
     },
     "metadata": {},
     "output_type": "display_data"
    },
    {
     "data": {
      "text/html": [
       "<style>\n",
       "    table.wandb td:nth-child(1) { padding: 0 10px; text-align: left ; width: auto;} td:nth-child(2) {text-align: left ; width: 100%}\n",
       "    .wandb-row { display: flex; flex-direction: row; flex-wrap: wrap; justify-content: flex-start; width: 100% }\n",
       "    .wandb-col { display: flex; flex-direction: column; flex-basis: 100%; flex: 1; padding: 10px; }\n",
       "    </style>\n",
       "<div class=\"wandb-row\"><div class=\"wandb-col\"><h3>Run history:</h3><br/><table class=\"wandb\"><tr><td>Epoch</td><td>▁▃▆█</td></tr><tr><td>Train Loss</td><td>█▁▁▁</td></tr><tr><td>Validation Loss</td><td>█▁█▅</td></tr></table><br/></div><div class=\"wandb-col\"><h3>Run summary:</h3><br/><table class=\"wandb\"><tr><td>Epoch</td><td>4</td></tr><tr><td>Train Loss</td><td>0.01551</td></tr><tr><td>Validation Loss</td><td>0.01562</td></tr></table><br/></div></div>"
      ],
      "text/plain": [
       "<IPython.core.display.HTML object>"
      ]
     },
     "metadata": {},
     "output_type": "display_data"
    },
    {
     "data": {
      "text/html": [
       " View run <strong style=\"color:#cdcd00\">LEGAL-BERT-Trial4</strong> at: <a href='https://wandb.ai/gmarinowandb-8601/RhetoricalRolesClassification-BUILD/runs/uifnd73p' target=\"_blank\">https://wandb.ai/gmarinowandb-8601/RhetoricalRolesClassification-BUILD/runs/uifnd73p</a><br/>Synced 5 W&B file(s), 0 media file(s), 0 artifact file(s) and 0 other file(s)"
      ],
      "text/plain": [
       "<IPython.core.display.HTML object>"
      ]
     },
     "metadata": {},
     "output_type": "display_data"
    },
    {
     "data": {
      "text/html": [
       "Find logs at: <code>./wandb/run-20230424_194201-uifnd73p/logs</code>"
      ],
      "text/plain": [
       "<IPython.core.display.HTML object>"
      ]
     },
     "metadata": {},
     "output_type": "display_data"
    },
    {
     "name": "stderr",
     "output_type": "stream",
     "text": [
      "\u001b[32m[I 2023-04-24 19:45:16,065]\u001b[0m Trial 4 finished with value: 0.015514145605266094 and parameters: {'lr': 0.0004634775363381514, 'weight_decay': 0.055225843537512684}. Best is trial 0 with value: 0.009615041315555573.\u001b[0m\n"
     ]
    },
    {
     "name": "stdout",
     "output_type": "stream",
     "text": [
      "\n",
      "************************ Starting New Optuna Trial ************************\n",
      "\n"
     ]
    },
    {
     "name": "stderr",
     "output_type": "stream",
     "text": [
      "Some weights of the model checkpoint at nlpaueb/legal-bert-base-uncased were not used when initializing BertForSequenceClassification: ['cls.predictions.bias', 'cls.predictions.transform.dense.bias', 'cls.predictions.transform.dense.weight', 'cls.seq_relationship.weight', 'cls.seq_relationship.bias', 'cls.predictions.transform.LayerNorm.weight', 'cls.predictions.decoder.bias', 'cls.predictions.transform.LayerNorm.bias', 'cls.predictions.decoder.weight']\n",
      "- This IS expected if you are initializing BertForSequenceClassification from the checkpoint of a model trained on another task or with another architecture (e.g. initializing a BertForSequenceClassification model from a BertForPreTraining model).\n",
      "- This IS NOT expected if you are initializing BertForSequenceClassification from the checkpoint of a model that you expect to be exactly identical (initializing a BertForSequenceClassification model from a BertForSequenceClassification model).\n",
      "Some weights of BertForSequenceClassification were not initialized from the model checkpoint at nlpaueb/legal-bert-base-uncased and are newly initialized: ['classifier.bias', 'classifier.weight']\n",
      "You should probably TRAIN this model on a down-stream task to be able to use it for predictions and inference.\n"
     ]
    },
    {
     "data": {
      "text/html": [
       "wandb version 0.15.0 is available!  To upgrade, please run:\n",
       " $ pip install wandb --upgrade"
      ],
      "text/plain": [
       "<IPython.core.display.HTML object>"
      ]
     },
     "metadata": {},
     "output_type": "display_data"
    },
    {
     "data": {
      "text/html": [
       "Tracking run with wandb version 0.13.10"
      ],
      "text/plain": [
       "<IPython.core.display.HTML object>"
      ]
     },
     "metadata": {},
     "output_type": "display_data"
    },
    {
     "data": {
      "text/html": [
       "Run data is saved locally in <code>/home/g.marino/Desktop/GA/RhetoricalRolesClassification/BUILD/wandb/run-20230424_194517-yk7h5czb</code>"
      ],
      "text/plain": [
       "<IPython.core.display.HTML object>"
      ]
     },
     "metadata": {},
     "output_type": "display_data"
    },
    {
     "data": {
      "text/html": [
       "Syncing run <strong><a href='https://wandb.ai/gmarinowandb-8601/RhetoricalRolesClassification-BUILD/runs/yk7h5czb' target=\"_blank\">LEGAL-BERT-Trial5</a></strong> to <a href='https://wandb.ai/gmarinowandb-8601/RhetoricalRolesClassification-BUILD' target=\"_blank\">Weights & Biases</a> (<a href='https://wandb.me/run' target=\"_blank\">docs</a>)<br/>"
      ],
      "text/plain": [
       "<IPython.core.display.HTML object>"
      ]
     },
     "metadata": {},
     "output_type": "display_data"
    },
    {
     "data": {
      "text/html": [
       " View project at <a href='https://wandb.ai/gmarinowandb-8601/RhetoricalRolesClassification-BUILD' target=\"_blank\">https://wandb.ai/gmarinowandb-8601/RhetoricalRolesClassification-BUILD</a>"
      ],
      "text/plain": [
       "<IPython.core.display.HTML object>"
      ]
     },
     "metadata": {},
     "output_type": "display_data"
    },
    {
     "data": {
      "text/html": [
       " View run at <a href='https://wandb.ai/gmarinowandb-8601/RhetoricalRolesClassification-BUILD/runs/yk7h5czb' target=\"_blank\">https://wandb.ai/gmarinowandb-8601/RhetoricalRolesClassification-BUILD/runs/yk7h5czb</a>"
      ],
      "text/plain": [
       "<IPython.core.display.HTML object>"
      ]
     },
     "metadata": {},
     "output_type": "display_data"
    },
    {
     "name": "stdout",
     "output_type": "stream",
     "text": [
      "\n",
      "************** Training Started **************\n",
      "\n",
      "EPOCH N. 1\n"
     ]
    },
    {
     "name": "stderr",
     "output_type": "stream",
     "text": [
      "202it [00:39,  5.16it/s]\n"
     ]
    },
    {
     "name": "stdout",
     "output_type": "stream",
     "text": [
      "\n",
      "TRAIN RESULTS\n",
      "Loss: 0.012891538003728642\n",
      "Accuracy: 0.49025318421870145\n",
      "MCC: 0.3041112480974592\n",
      "Macro F1: 0.2043962571047735\n",
      "Macro Precision: 0.31454273511699227\n",
      "Macro Recall: 0.19030643686549542\n",
      "Micro F1: 0.49025318421870145\n",
      "Micro Precision: 0.49025318421870145\n",
      "Micro Recall: 0.49025318421870145\n",
      "\n",
      "VALIDATION RESULTS\n",
      "Loss: 0.010401643812656403\n",
      "Accuracy: 0.6014223871366728\n",
      "MCC: 0.4742148926283075\n",
      "Macro F1: 0.40872122609225403\n",
      "Macro Precision: 0.47939815315546824\n",
      "Macro Recall: 0.3988136410000405\n",
      "Micro F1: 0.6014223871366728\n",
      "Micro Precision: 0.6014223871366728\n",
      "Micro Recall: 0.6014223871366728\n",
      "--------------------------------------------------\n",
      "EPOCH N. 2\n"
     ]
    },
    {
     "name": "stderr",
     "output_type": "stream",
     "text": [
      "202it [00:44,  4.57it/s]\n"
     ]
    },
    {
     "name": "stdout",
     "output_type": "stream",
     "text": [
      "\n",
      "TRAIN RESULTS\n",
      "Loss: 0.008728994285145618\n",
      "Accuracy: 0.6490369680024852\n",
      "MCC: 0.543065832175272\n",
      "Macro F1: 0.46687727356256314\n",
      "Macro Precision: 0.5722109276724676\n",
      "Macro Recall: 0.44449462021125885\n",
      "Micro F1: 0.6490369680024852\n",
      "Micro Precision: 0.6490369680024852\n",
      "Micro Recall: 0.6490369680024852\n",
      "\n",
      "VALIDATION RESULTS\n",
      "Loss: 0.009594843722879887\n",
      "Accuracy: 0.62152133580705\n",
      "MCC: 0.5019190249305568\n",
      "Macro F1: 0.4600521755962595\n",
      "Macro Precision: 0.5923922172248928\n",
      "Macro Recall: 0.44286458090878317\n",
      "Micro F1: 0.62152133580705\n",
      "Micro Precision: 0.62152133580705\n",
      "Micro Recall: 0.62152133580705\n",
      "--------------------------------------------------\n",
      "EPOCH N. 3\n"
     ]
    },
    {
     "name": "stderr",
     "output_type": "stream",
     "text": [
      "202it [00:40,  5.00it/s]\n"
     ]
    },
    {
     "name": "stdout",
     "output_type": "stream",
     "text": [
      "\n",
      "TRAIN RESULTS\n",
      "Loss: 0.007193349375881072\n",
      "Accuracy: 0.7034793414103759\n",
      "MCC: 0.6169914367137594\n",
      "Macro F1: 0.5366115710336797\n",
      "Macro Precision: 0.6174623800992876\n",
      "Macro Recall: 0.5138944760395961\n",
      "Micro F1: 0.7034793414103759\n",
      "Micro Precision: 0.7034793414103759\n",
      "Micro Recall: 0.7034793414103759\n",
      "\n",
      "VALIDATION RESULTS\n",
      "Loss: 0.009451346471905708\n",
      "Accuracy: 0.6363636363636364\n",
      "MCC: 0.5188806602711041\n",
      "Macro F1: 0.47723251844773223\n",
      "Macro Precision: 0.561893680212388\n",
      "Macro Recall: 0.4530996316164749\n",
      "Micro F1: 0.6363636363636364\n",
      "Micro Precision: 0.6363636363636364\n",
      "Micro Recall: 0.6363636363636364\n",
      "--------------------------------------------------\n",
      "EPOCH N. 4\n"
     ]
    },
    {
     "name": "stderr",
     "output_type": "stream",
     "text": [
      "202it [00:42,  4.81it/s]\n"
     ]
    },
    {
     "name": "stdout",
     "output_type": "stream",
     "text": [
      "\n",
      "TRAIN RESULTS\n",
      "Loss: 0.005985535558575834\n",
      "Accuracy: 0.7534948741845293\n",
      "MCC: 0.6836182073432376\n",
      "Macro F1: 0.5988940857937382\n",
      "Macro Precision: 0.6606092584453293\n",
      "Macro Recall: 0.5768099415067803\n",
      "Micro F1: 0.7534948741845294\n",
      "Micro Precision: 0.7534948741845293\n",
      "Micro Recall: 0.7534948741845293\n",
      "\n",
      "VALIDATION RESULTS\n",
      "Loss: 0.010197466239333153\n",
      "Accuracy: 0.62152133580705\n",
      "MCC: 0.5089652260087427\n",
      "Macro F1: 0.4986814987137174\n",
      "Macro Precision: 0.5213232149638292\n",
      "Macro Recall: 0.5089536940255129\n",
      "Micro F1: 0.62152133580705\n",
      "Micro Precision: 0.62152133580705\n",
      "Micro Recall: 0.62152133580705\n",
      "--------------------------------------------------\n",
      "EPOCH N. 5\n"
     ]
    },
    {
     "name": "stderr",
     "output_type": "stream",
     "text": [
      "202it [00:39,  5.07it/s]\n"
     ]
    },
    {
     "name": "stdout",
     "output_type": "stream",
     "text": [
      "\n",
      "TRAIN RESULTS\n",
      "Loss: 0.004912362571975836\n",
      "Accuracy: 0.7982680956818888\n",
      "MCC: 0.7423326534512443\n",
      "Macro F1: 0.6595032018522775\n",
      "Macro Precision: 0.7102487264912674\n",
      "Macro Recall: 0.6361081650743936\n",
      "Micro F1: 0.7982680956818888\n",
      "Micro Precision: 0.7982680956818888\n",
      "Micro Recall: 0.7982680956818888\n",
      "\n",
      "VALIDATION RESULTS\n",
      "Loss: 0.010804164223372936\n",
      "Accuracy: 0.6082251082251082\n",
      "MCC: 0.49940929416963487\n",
      "Macro F1: 0.4797266287871557\n",
      "Macro Precision: 0.49305668893951515\n",
      "Macro Recall: 0.49250259631765647\n",
      "Micro F1: 0.6082251082251082\n",
      "Micro Precision: 0.6082251082251082\n",
      "Micro Recall: 0.6082251082251082\n",
      "Early stopped training\n",
      "--------------------------------------------------\n"
     ]
    },
    {
     "data": {
      "text/html": [
       "Waiting for W&B process to finish... <strong style=\"color:green\">(success).</strong>"
      ],
      "text/plain": [
       "<IPython.core.display.HTML object>"
      ]
     },
     "metadata": {},
     "output_type": "display_data"
    },
    {
     "data": {
      "application/vnd.jupyter.widget-view+json": {
       "model_id": "3296e60edd9e4554be49429d000111aa",
       "version_major": 2,
       "version_minor": 0
      },
      "text/plain": [
       "VBox(children=(Label(value='0.005 MB of 0.005 MB uploaded (0.000 MB deduped)\\r'), FloatProgress(value=1.0, max…"
      ]
     },
     "metadata": {},
     "output_type": "display_data"
    },
    {
     "data": {
      "text/html": [
       "<style>\n",
       "    table.wandb td:nth-child(1) { padding: 0 10px; text-align: left ; width: auto;} td:nth-child(2) {text-align: left ; width: 100%}\n",
       "    .wandb-row { display: flex; flex-direction: row; flex-wrap: wrap; justify-content: flex-start; width: 100% }\n",
       "    .wandb-col { display: flex; flex-direction: column; flex-basis: 100%; flex: 1; padding: 10px; }\n",
       "    </style>\n",
       "<div class=\"wandb-row\"><div class=\"wandb-col\"><h3>Run history:</h3><br/><table class=\"wandb\"><tr><td>Epoch</td><td>▁▃▅▆█</td></tr><tr><td>Train Loss</td><td>█▄▃▂▁</td></tr><tr><td>Validation Loss</td><td>▆▂▁▅█</td></tr></table><br/></div><div class=\"wandb-col\"><h3>Run summary:</h3><br/><table class=\"wandb\"><tr><td>Epoch</td><td>5</td></tr><tr><td>Train Loss</td><td>0.00491</td></tr><tr><td>Validation Loss</td><td>0.0108</td></tr></table><br/></div></div>"
      ],
      "text/plain": [
       "<IPython.core.display.HTML object>"
      ]
     },
     "metadata": {},
     "output_type": "display_data"
    },
    {
     "data": {
      "text/html": [
       " View run <strong style=\"color:#cdcd00\">LEGAL-BERT-Trial5</strong> at: <a href='https://wandb.ai/gmarinowandb-8601/RhetoricalRolesClassification-BUILD/runs/yk7h5czb' target=\"_blank\">https://wandb.ai/gmarinowandb-8601/RhetoricalRolesClassification-BUILD/runs/yk7h5czb</a><br/>Synced 5 W&B file(s), 0 media file(s), 0 artifact file(s) and 0 other file(s)"
      ],
      "text/plain": [
       "<IPython.core.display.HTML object>"
      ]
     },
     "metadata": {},
     "output_type": "display_data"
    },
    {
     "data": {
      "text/html": [
       "Find logs at: <code>./wandb/run-20230424_194517-yk7h5czb/logs</code>"
      ],
      "text/plain": [
       "<IPython.core.display.HTML object>"
      ]
     },
     "metadata": {},
     "output_type": "display_data"
    },
    {
     "name": "stderr",
     "output_type": "stream",
     "text": [
      "\u001b[32m[I 2023-04-24 19:49:22,287]\u001b[0m Trial 5 finished with value: 0.009451346471905708 and parameters: {'lr': 4.8435675700305813e-05, 'weight_decay': 0.08617309793526896}. Best is trial 5 with value: 0.009451346471905708.\u001b[0m\n"
     ]
    },
    {
     "name": "stdout",
     "output_type": "stream",
     "text": [
      "\n",
      "************************ Starting New Optuna Trial ************************\n",
      "\n"
     ]
    },
    {
     "name": "stderr",
     "output_type": "stream",
     "text": [
      "Some weights of the model checkpoint at nlpaueb/legal-bert-base-uncased were not used when initializing BertForSequenceClassification: ['cls.predictions.bias', 'cls.predictions.transform.dense.bias', 'cls.predictions.transform.dense.weight', 'cls.seq_relationship.weight', 'cls.seq_relationship.bias', 'cls.predictions.transform.LayerNorm.weight', 'cls.predictions.decoder.bias', 'cls.predictions.transform.LayerNorm.bias', 'cls.predictions.decoder.weight']\n",
      "- This IS expected if you are initializing BertForSequenceClassification from the checkpoint of a model trained on another task or with another architecture (e.g. initializing a BertForSequenceClassification model from a BertForPreTraining model).\n",
      "- This IS NOT expected if you are initializing BertForSequenceClassification from the checkpoint of a model that you expect to be exactly identical (initializing a BertForSequenceClassification model from a BertForSequenceClassification model).\n",
      "Some weights of BertForSequenceClassification were not initialized from the model checkpoint at nlpaueb/legal-bert-base-uncased and are newly initialized: ['classifier.bias', 'classifier.weight']\n",
      "You should probably TRAIN this model on a down-stream task to be able to use it for predictions and inference.\n"
     ]
    },
    {
     "data": {
      "text/html": [
       "wandb version 0.15.0 is available!  To upgrade, please run:\n",
       " $ pip install wandb --upgrade"
      ],
      "text/plain": [
       "<IPython.core.display.HTML object>"
      ]
     },
     "metadata": {},
     "output_type": "display_data"
    },
    {
     "data": {
      "text/html": [
       "Tracking run with wandb version 0.13.10"
      ],
      "text/plain": [
       "<IPython.core.display.HTML object>"
      ]
     },
     "metadata": {},
     "output_type": "display_data"
    },
    {
     "data": {
      "text/html": [
       "Run data is saved locally in <code>/home/g.marino/Desktop/GA/RhetoricalRolesClassification/BUILD/wandb/run-20230424_194924-62fbmi99</code>"
      ],
      "text/plain": [
       "<IPython.core.display.HTML object>"
      ]
     },
     "metadata": {},
     "output_type": "display_data"
    },
    {
     "data": {
      "text/html": [
       "Syncing run <strong><a href='https://wandb.ai/gmarinowandb-8601/RhetoricalRolesClassification-BUILD/runs/62fbmi99' target=\"_blank\">LEGAL-BERT-Trial6</a></strong> to <a href='https://wandb.ai/gmarinowandb-8601/RhetoricalRolesClassification-BUILD' target=\"_blank\">Weights & Biases</a> (<a href='https://wandb.me/run' target=\"_blank\">docs</a>)<br/>"
      ],
      "text/plain": [
       "<IPython.core.display.HTML object>"
      ]
     },
     "metadata": {},
     "output_type": "display_data"
    },
    {
     "data": {
      "text/html": [
       " View project at <a href='https://wandb.ai/gmarinowandb-8601/RhetoricalRolesClassification-BUILD' target=\"_blank\">https://wandb.ai/gmarinowandb-8601/RhetoricalRolesClassification-BUILD</a>"
      ],
      "text/plain": [
       "<IPython.core.display.HTML object>"
      ]
     },
     "metadata": {},
     "output_type": "display_data"
    },
    {
     "data": {
      "text/html": [
       " View run at <a href='https://wandb.ai/gmarinowandb-8601/RhetoricalRolesClassification-BUILD/runs/62fbmi99' target=\"_blank\">https://wandb.ai/gmarinowandb-8601/RhetoricalRolesClassification-BUILD/runs/62fbmi99</a>"
      ],
      "text/plain": [
       "<IPython.core.display.HTML object>"
      ]
     },
     "metadata": {},
     "output_type": "display_data"
    },
    {
     "name": "stdout",
     "output_type": "stream",
     "text": [
      "\n",
      "************** Training Started **************\n",
      "\n",
      "EPOCH N. 1\n"
     ]
    },
    {
     "name": "stderr",
     "output_type": "stream",
     "text": [
      "202it [00:39,  5.08it/s]\n"
     ]
    },
    {
     "name": "stdout",
     "output_type": "stream",
     "text": [
      "\n",
      "TRAIN RESULTS\n",
      "Loss: 0.014747199132857984\n",
      "Accuracy: 0.4197343895619758\n",
      "MCC: 0.18171059303351536\n",
      "Macro F1: 0.09693461420095242\n",
      "Macro Precision: 0.22754255614715738\n",
      "Macro Recall: 0.11278738684406366\n",
      "Micro F1: 0.4197343895619758\n",
      "Micro Precision: 0.4197343895619758\n",
      "Micro Recall: 0.4197343895619758\n",
      "\n",
      "VALIDATION RESULTS\n",
      "Loss: 0.012767142616212368\n",
      "Accuracy: 0.5111317254174397\n",
      "MCC: 0.31542697684304666\n",
      "Macro F1: 0.14561182658619426\n",
      "Macro Precision: 0.22005861886196948\n",
      "Macro Recall: 0.1529086733798653\n",
      "Micro F1: 0.5111317254174397\n",
      "Micro Precision: 0.5111317254174397\n",
      "Micro Recall: 0.5111317254174397\n",
      "--------------------------------------------------\n",
      "EPOCH N. 2\n"
     ]
    },
    {
     "name": "stderr",
     "output_type": "stream",
     "text": [
      "202it [00:42,  4.73it/s]\n"
     ]
    },
    {
     "name": "stdout",
     "output_type": "stream",
     "text": [
      "\n",
      "TRAIN RESULTS\n",
      "Loss: 0.010996253307504882\n",
      "Accuracy: 0.5736641814228021\n",
      "MCC: 0.42953558550140675\n",
      "Macro F1: 0.2771789550366494\n",
      "Macro Precision: 0.4991440484279724\n",
      "Macro Recall: 0.25760468125243474\n",
      "Micro F1: 0.5736641814228021\n",
      "Micro Precision: 0.5736641814228021\n",
      "Micro Recall: 0.5736641814228021\n",
      "\n",
      "VALIDATION RESULTS\n",
      "Loss: 0.010437744669616222\n",
      "Accuracy: 0.603586889301175\n",
      "MCC: 0.4775899730884858\n",
      "Macro F1: 0.39169583051447837\n",
      "Macro Precision: 0.4872623581160119\n",
      "Macro Recall: 0.36841552480772294\n",
      "Micro F1: 0.603586889301175\n",
      "Micro Precision: 0.603586889301175\n",
      "Micro Recall: 0.603586889301175\n",
      "--------------------------------------------------\n",
      "EPOCH N. 3\n"
     ]
    },
    {
     "name": "stderr",
     "output_type": "stream",
     "text": [
      "202it [00:39,  5.10it/s]\n"
     ]
    },
    {
     "name": "stdout",
     "output_type": "stream",
     "text": [
      "\n",
      "TRAIN RESULTS\n",
      "Loss: 0.009261475948303817\n",
      "Accuracy: 0.6417365641503573\n",
      "MCC: 0.5313724160396874\n",
      "Macro F1: 0.44207735292804373\n",
      "Macro Precision: 0.5155499407032933\n",
      "Macro Recall: 0.4127512746593446\n",
      "Micro F1: 0.6417365641503573\n",
      "Micro Precision: 0.6417365641503573\n",
      "Micro Recall: 0.6417365641503573\n",
      "\n",
      "VALIDATION RESULTS\n",
      "Loss: 0.009781104512512684\n",
      "Accuracy: 0.6301793444650587\n",
      "MCC: 0.5124048844984943\n",
      "Macro F1: 0.44860840519581924\n",
      "Macro Precision: 0.4883204812952539\n",
      "Macro Recall: 0.4415177707437057\n",
      "Micro F1: 0.6301793444650587\n",
      "Micro Precision: 0.6301793444650587\n",
      "Micro Recall: 0.6301793444650587\n",
      "--------------------------------------------------\n",
      "EPOCH N. 4\n"
     ]
    },
    {
     "name": "stderr",
     "output_type": "stream",
     "text": [
      "202it [00:39,  5.13it/s]\n"
     ]
    },
    {
     "name": "stdout",
     "output_type": "stream",
     "text": [
      "\n",
      "TRAIN RESULTS\n",
      "Loss: 0.008367464918459229\n",
      "Accuracy: 0.6717924821373097\n",
      "MCC: 0.5737136426951468\n",
      "Macro F1: 0.49161044852190827\n",
      "Macro Precision: 0.5576640520901767\n",
      "Macro Recall: 0.4697502216872526\n",
      "Micro F1: 0.6717924821373097\n",
      "Micro Precision: 0.6717924821373097\n",
      "Micro Recall: 0.6717924821373097\n",
      "\n",
      "VALIDATION RESULTS\n",
      "Loss: 0.009456247091293335\n",
      "Accuracy: 0.6357452071737786\n",
      "MCC: 0.5242083459567974\n",
      "Macro F1: 0.4657443842250314\n",
      "Macro Precision: 0.5167686555433384\n",
      "Macro Recall: 0.4608270232920406\n",
      "Micro F1: 0.6357452071737786\n",
      "Micro Precision: 0.6357452071737786\n",
      "Micro Recall: 0.6357452071737786\n",
      "--------------------------------------------------\n",
      "EPOCH N. 5\n"
     ]
    },
    {
     "name": "stderr",
     "output_type": "stream",
     "text": [
      "202it [00:41,  4.83it/s]\n"
     ]
    },
    {
     "name": "stdout",
     "output_type": "stream",
     "text": [
      "\n",
      "TRAIN RESULTS\n",
      "Loss: 0.007719376033305678\n",
      "Accuracy: 0.692412239826033\n",
      "MCC: 0.6019273808967163\n",
      "Macro F1: 0.5195358398873903\n",
      "Macro Precision: 0.6619226185585254\n",
      "Macro Recall: 0.49878456808095284\n",
      "Micro F1: 0.692412239826033\n",
      "Micro Precision: 0.692412239826033\n",
      "Micro Recall: 0.692412239826033\n",
      "\n",
      "VALIDATION RESULTS\n",
      "Loss: 0.009566962718963623\n",
      "Accuracy: 0.6264687693259122\n",
      "MCC: 0.5141768003230214\n",
      "Macro F1: 0.4633701592458677\n",
      "Macro Precision: 0.48481502720330466\n",
      "Macro Recall: 0.47481024723818027\n",
      "Micro F1: 0.6264687693259122\n",
      "Micro Precision: 0.6264687693259122\n",
      "Micro Recall: 0.6264687693259122\n",
      "--------------------------------------------------\n",
      "EPOCH N. 6\n"
     ]
    },
    {
     "name": "stderr",
     "output_type": "stream",
     "text": [
      "202it [00:40,  5.00it/s]\n"
     ]
    },
    {
     "name": "stdout",
     "output_type": "stream",
     "text": [
      "\n",
      "TRAIN RESULTS\n",
      "Loss: 0.007187989721223411\n",
      "Accuracy: 0.7108574091332712\n",
      "MCC: 0.6266938585952587\n",
      "Macro F1: 0.5407419713520881\n",
      "Macro Precision: 0.666040803423579\n",
      "Macro Recall: 0.520325656270212\n",
      "Micro F1: 0.7108574091332712\n",
      "Micro Precision: 0.7108574091332712\n",
      "Micro Recall: 0.7108574091332712\n",
      "\n",
      "VALIDATION RESULTS\n",
      "Loss: 0.009555811993777752\n",
      "Accuracy: 0.6252319109461967\n",
      "MCC: 0.5108354274845831\n",
      "Macro F1: 0.4642856091875261\n",
      "Macro Precision: 0.5001913810895817\n",
      "Macro Recall: 0.47165049392300007\n",
      "Micro F1: 0.6252319109461967\n",
      "Micro Precision: 0.6252319109461967\n",
      "Micro Recall: 0.6252319109461967\n",
      "Early stopped training\n",
      "--------------------------------------------------\n"
     ]
    },
    {
     "data": {
      "text/html": [
       "Waiting for W&B process to finish... <strong style=\"color:green\">(success).</strong>"
      ],
      "text/plain": [
       "<IPython.core.display.HTML object>"
      ]
     },
     "metadata": {},
     "output_type": "display_data"
    },
    {
     "data": {
      "text/html": [
       "<style>\n",
       "    table.wandb td:nth-child(1) { padding: 0 10px; text-align: left ; width: auto;} td:nth-child(2) {text-align: left ; width: 100%}\n",
       "    .wandb-row { display: flex; flex-direction: row; flex-wrap: wrap; justify-content: flex-start; width: 100% }\n",
       "    .wandb-col { display: flex; flex-direction: column; flex-basis: 100%; flex: 1; padding: 10px; }\n",
       "    </style>\n",
       "<div class=\"wandb-row\"><div class=\"wandb-col\"><h3>Run history:</h3><br/><table class=\"wandb\"><tr><td>Epoch</td><td>▁▂▄▅▇█</td></tr><tr><td>Train Loss</td><td>█▅▃▂▁▁</td></tr><tr><td>Validation Loss</td><td>█▃▂▁▁▁</td></tr></table><br/></div><div class=\"wandb-col\"><h3>Run summary:</h3><br/><table class=\"wandb\"><tr><td>Epoch</td><td>6</td></tr><tr><td>Train Loss</td><td>0.00719</td></tr><tr><td>Validation Loss</td><td>0.00956</td></tr></table><br/></div></div>"
      ],
      "text/plain": [
       "<IPython.core.display.HTML object>"
      ]
     },
     "metadata": {},
     "output_type": "display_data"
    },
    {
     "data": {
      "text/html": [
       " View run <strong style=\"color:#cdcd00\">LEGAL-BERT-Trial6</strong> at: <a href='https://wandb.ai/gmarinowandb-8601/RhetoricalRolesClassification-BUILD/runs/62fbmi99' target=\"_blank\">https://wandb.ai/gmarinowandb-8601/RhetoricalRolesClassification-BUILD/runs/62fbmi99</a><br/>Synced 5 W&B file(s), 0 media file(s), 0 artifact file(s) and 0 other file(s)"
      ],
      "text/plain": [
       "<IPython.core.display.HTML object>"
      ]
     },
     "metadata": {},
     "output_type": "display_data"
    },
    {
     "data": {
      "text/html": [
       "Find logs at: <code>./wandb/run-20230424_194924-62fbmi99/logs</code>"
      ],
      "text/plain": [
       "<IPython.core.display.HTML object>"
      ]
     },
     "metadata": {},
     "output_type": "display_data"
    },
    {
     "name": "stderr",
     "output_type": "stream",
     "text": [
      "\u001b[32m[I 2023-04-24 19:54:23,208]\u001b[0m Trial 6 finished with value: 0.009456247091293335 and parameters: {'lr': 1.4554317251882049e-05, 'weight_decay': 0.03819672599414918}. Best is trial 5 with value: 0.009451346471905708.\u001b[0m\n"
     ]
    },
    {
     "name": "stdout",
     "output_type": "stream",
     "text": [
      "\n",
      "************************ Starting New Optuna Trial ************************\n",
      "\n"
     ]
    },
    {
     "name": "stderr",
     "output_type": "stream",
     "text": [
      "Some weights of the model checkpoint at nlpaueb/legal-bert-base-uncased were not used when initializing BertForSequenceClassification: ['cls.predictions.bias', 'cls.predictions.transform.dense.bias', 'cls.predictions.transform.dense.weight', 'cls.seq_relationship.weight', 'cls.seq_relationship.bias', 'cls.predictions.transform.LayerNorm.weight', 'cls.predictions.decoder.bias', 'cls.predictions.transform.LayerNorm.bias', 'cls.predictions.decoder.weight']\n",
      "- This IS expected if you are initializing BertForSequenceClassification from the checkpoint of a model trained on another task or with another architecture (e.g. initializing a BertForSequenceClassification model from a BertForPreTraining model).\n",
      "- This IS NOT expected if you are initializing BertForSequenceClassification from the checkpoint of a model that you expect to be exactly identical (initializing a BertForSequenceClassification model from a BertForSequenceClassification model).\n",
      "Some weights of BertForSequenceClassification were not initialized from the model checkpoint at nlpaueb/legal-bert-base-uncased and are newly initialized: ['classifier.bias', 'classifier.weight']\n",
      "You should probably TRAIN this model on a down-stream task to be able to use it for predictions and inference.\n"
     ]
    },
    {
     "data": {
      "text/html": [
       "wandb version 0.15.0 is available!  To upgrade, please run:\n",
       " $ pip install wandb --upgrade"
      ],
      "text/plain": [
       "<IPython.core.display.HTML object>"
      ]
     },
     "metadata": {},
     "output_type": "display_data"
    },
    {
     "data": {
      "text/html": [
       "Tracking run with wandb version 0.13.10"
      ],
      "text/plain": [
       "<IPython.core.display.HTML object>"
      ]
     },
     "metadata": {},
     "output_type": "display_data"
    },
    {
     "data": {
      "text/html": [
       "Run data is saved locally in <code>/home/g.marino/Desktop/GA/RhetoricalRolesClassification/BUILD/wandb/run-20230424_195424-q6y3r0zy</code>"
      ],
      "text/plain": [
       "<IPython.core.display.HTML object>"
      ]
     },
     "metadata": {},
     "output_type": "display_data"
    },
    {
     "data": {
      "text/html": [
       "Syncing run <strong><a href='https://wandb.ai/gmarinowandb-8601/RhetoricalRolesClassification-BUILD/runs/q6y3r0zy' target=\"_blank\">LEGAL-BERT-Trial7</a></strong> to <a href='https://wandb.ai/gmarinowandb-8601/RhetoricalRolesClassification-BUILD' target=\"_blank\">Weights & Biases</a> (<a href='https://wandb.me/run' target=\"_blank\">docs</a>)<br/>"
      ],
      "text/plain": [
       "<IPython.core.display.HTML object>"
      ]
     },
     "metadata": {},
     "output_type": "display_data"
    },
    {
     "data": {
      "text/html": [
       " View project at <a href='https://wandb.ai/gmarinowandb-8601/RhetoricalRolesClassification-BUILD' target=\"_blank\">https://wandb.ai/gmarinowandb-8601/RhetoricalRolesClassification-BUILD</a>"
      ],
      "text/plain": [
       "<IPython.core.display.HTML object>"
      ]
     },
     "metadata": {},
     "output_type": "display_data"
    },
    {
     "data": {
      "text/html": [
       " View run at <a href='https://wandb.ai/gmarinowandb-8601/RhetoricalRolesClassification-BUILD/runs/q6y3r0zy' target=\"_blank\">https://wandb.ai/gmarinowandb-8601/RhetoricalRolesClassification-BUILD/runs/q6y3r0zy</a>"
      ],
      "text/plain": [
       "<IPython.core.display.HTML object>"
      ]
     },
     "metadata": {},
     "output_type": "display_data"
    },
    {
     "name": "stdout",
     "output_type": "stream",
     "text": [
      "\n",
      "************** Training Started **************\n",
      "\n",
      "EPOCH N. 1\n"
     ]
    },
    {
     "name": "stderr",
     "output_type": "stream",
     "text": [
      "202it [00:40,  4.94it/s]\n"
     ]
    },
    {
     "name": "stdout",
     "output_type": "stream",
     "text": [
      "\n",
      "TRAIN RESULTS\n",
      "Loss: 0.015816740805075457\n",
      "Accuracy: 0.349681578129854\n",
      "MCC: 0.002250443709209881\n",
      "Macro F1: 0.0500366563958256\n",
      "Macro Precision: 0.062363726406461935\n",
      "Macro Recall: 0.07706254990186823\n",
      "Micro F1: 0.349681578129854\n",
      "Micro Precision: 0.349681578129854\n",
      "Micro Recall: 0.349681578129854\n",
      "\n",
      "VALIDATION RESULTS\n",
      "Loss: 0.015671400353312492\n",
      "Accuracy: 0.3837353123067409\n",
      "MCC: 0.0\n",
      "Macro F1: 0.04266437473141384\n",
      "Macro Precision: 0.029518100946672378\n",
      "Macro Recall: 0.07692307692307693\n",
      "Micro F1: 0.3837353123067409\n",
      "Micro Precision: 0.3837353123067409\n",
      "Micro Recall: 0.3837353123067409\n",
      "--------------------------------------------------\n"
     ]
    },
    {
     "data": {
      "text/html": [
       "Waiting for W&B process to finish... <strong style=\"color:red\">(failed 1).</strong> Press Control-C to abort syncing."
      ],
      "text/plain": [
       "<IPython.core.display.HTML object>"
      ]
     },
     "metadata": {},
     "output_type": "display_data"
    },
    {
     "data": {
      "application/vnd.jupyter.widget-view+json": {
       "model_id": "1fa77318857f44b09185f7c32d7a02d0",
       "version_major": 2,
       "version_minor": 0
      },
      "text/plain": [
       "VBox(children=(Label(value='0.005 MB of 0.005 MB uploaded (0.000 MB deduped)\\r'), FloatProgress(value=1.0, max…"
      ]
     },
     "metadata": {},
     "output_type": "display_data"
    },
    {
     "data": {
      "text/html": [
       "<style>\n",
       "    table.wandb td:nth-child(1) { padding: 0 10px; text-align: left ; width: auto;} td:nth-child(2) {text-align: left ; width: 100%}\n",
       "    .wandb-row { display: flex; flex-direction: row; flex-wrap: wrap; justify-content: flex-start; width: 100% }\n",
       "    .wandb-col { display: flex; flex-direction: column; flex-basis: 100%; flex: 1; padding: 10px; }\n",
       "    </style>\n",
       "<div class=\"wandb-row\"><div class=\"wandb-col\"><h3>Run history:</h3><br/><table class=\"wandb\"><tr><td>Epoch</td><td>▁</td></tr><tr><td>Train Loss</td><td>▁</td></tr><tr><td>Validation Loss</td><td>▁</td></tr></table><br/></div><div class=\"wandb-col\"><h3>Run summary:</h3><br/><table class=\"wandb\"><tr><td>Epoch</td><td>1</td></tr><tr><td>Train Loss</td><td>0.01582</td></tr><tr><td>Validation Loss</td><td>0.01567</td></tr></table><br/></div></div>"
      ],
      "text/plain": [
       "<IPython.core.display.HTML object>"
      ]
     },
     "metadata": {},
     "output_type": "display_data"
    },
    {
     "data": {
      "text/html": [
       " View run <strong style=\"color:#cdcd00\">LEGAL-BERT-Trial7</strong> at: <a href='https://wandb.ai/gmarinowandb-8601/RhetoricalRolesClassification-BUILD/runs/q6y3r0zy' target=\"_blank\">https://wandb.ai/gmarinowandb-8601/RhetoricalRolesClassification-BUILD/runs/q6y3r0zy</a><br/>Synced 5 W&B file(s), 0 media file(s), 0 artifact file(s) and 0 other file(s)"
      ],
      "text/plain": [
       "<IPython.core.display.HTML object>"
      ]
     },
     "metadata": {},
     "output_type": "display_data"
    },
    {
     "data": {
      "text/html": [
       "Find logs at: <code>./wandb/run-20230424_195424-q6y3r0zy/logs</code>"
      ],
      "text/plain": [
       "<IPython.core.display.HTML object>"
      ]
     },
     "metadata": {},
     "output_type": "display_data"
    },
    {
     "name": "stderr",
     "output_type": "stream",
     "text": [
      "\u001b[32m[I 2023-04-24 19:55:30,166]\u001b[0m Trial 7 pruned. \u001b[0m\n"
     ]
    },
    {
     "name": "stdout",
     "output_type": "stream",
     "text": [
      "\n",
      "************************ Starting New Optuna Trial ************************\n",
      "\n"
     ]
    },
    {
     "name": "stderr",
     "output_type": "stream",
     "text": [
      "Some weights of the model checkpoint at nlpaueb/legal-bert-base-uncased were not used when initializing BertForSequenceClassification: ['cls.predictions.bias', 'cls.predictions.transform.dense.bias', 'cls.predictions.transform.dense.weight', 'cls.seq_relationship.weight', 'cls.seq_relationship.bias', 'cls.predictions.transform.LayerNorm.weight', 'cls.predictions.decoder.bias', 'cls.predictions.transform.LayerNorm.bias', 'cls.predictions.decoder.weight']\n",
      "- This IS expected if you are initializing BertForSequenceClassification from the checkpoint of a model trained on another task or with another architecture (e.g. initializing a BertForSequenceClassification model from a BertForPreTraining model).\n",
      "- This IS NOT expected if you are initializing BertForSequenceClassification from the checkpoint of a model that you expect to be exactly identical (initializing a BertForSequenceClassification model from a BertForSequenceClassification model).\n",
      "Some weights of BertForSequenceClassification were not initialized from the model checkpoint at nlpaueb/legal-bert-base-uncased and are newly initialized: ['classifier.bias', 'classifier.weight']\n",
      "You should probably TRAIN this model on a down-stream task to be able to use it for predictions and inference.\n"
     ]
    },
    {
     "data": {
      "text/html": [
       "wandb version 0.15.0 is available!  To upgrade, please run:\n",
       " $ pip install wandb --upgrade"
      ],
      "text/plain": [
       "<IPython.core.display.HTML object>"
      ]
     },
     "metadata": {},
     "output_type": "display_data"
    },
    {
     "data": {
      "text/html": [
       "Tracking run with wandb version 0.13.10"
      ],
      "text/plain": [
       "<IPython.core.display.HTML object>"
      ]
     },
     "metadata": {},
     "output_type": "display_data"
    },
    {
     "data": {
      "text/html": [
       "Run data is saved locally in <code>/home/g.marino/Desktop/GA/RhetoricalRolesClassification/BUILD/wandb/run-20230424_195531-39k2gjgr</code>"
      ],
      "text/plain": [
       "<IPython.core.display.HTML object>"
      ]
     },
     "metadata": {},
     "output_type": "display_data"
    },
    {
     "data": {
      "text/html": [
       "Syncing run <strong><a href='https://wandb.ai/gmarinowandb-8601/RhetoricalRolesClassification-BUILD/runs/39k2gjgr' target=\"_blank\">LEGAL-BERT-Trial8</a></strong> to <a href='https://wandb.ai/gmarinowandb-8601/RhetoricalRolesClassification-BUILD' target=\"_blank\">Weights & Biases</a> (<a href='https://wandb.me/run' target=\"_blank\">docs</a>)<br/>"
      ],
      "text/plain": [
       "<IPython.core.display.HTML object>"
      ]
     },
     "metadata": {},
     "output_type": "display_data"
    },
    {
     "data": {
      "text/html": [
       " View project at <a href='https://wandb.ai/gmarinowandb-8601/RhetoricalRolesClassification-BUILD' target=\"_blank\">https://wandb.ai/gmarinowandb-8601/RhetoricalRolesClassification-BUILD</a>"
      ],
      "text/plain": [
       "<IPython.core.display.HTML object>"
      ]
     },
     "metadata": {},
     "output_type": "display_data"
    },
    {
     "data": {
      "text/html": [
       " View run at <a href='https://wandb.ai/gmarinowandb-8601/RhetoricalRolesClassification-BUILD/runs/39k2gjgr' target=\"_blank\">https://wandb.ai/gmarinowandb-8601/RhetoricalRolesClassification-BUILD/runs/39k2gjgr</a>"
      ],
      "text/plain": [
       "<IPython.core.display.HTML object>"
      ]
     },
     "metadata": {},
     "output_type": "display_data"
    },
    {
     "name": "stdout",
     "output_type": "stream",
     "text": [
      "\n",
      "************** Training Started **************\n",
      "\n",
      "EPOCH N. 1\n"
     ]
    },
    {
     "name": "stderr",
     "output_type": "stream",
     "text": [
      "202it [00:39,  5.16it/s]\n"
     ]
    },
    {
     "name": "stdout",
     "output_type": "stream",
     "text": [
      "\n",
      "TRAIN RESULTS\n",
      "Loss: 0.015834242901693926\n",
      "Accuracy: 0.35259397328362846\n",
      "MCC: 0.000938167081293024\n",
      "Macro F1: 0.04531177600969661\n",
      "Macro Precision: 0.058442145949158184\n",
      "Macro Recall: 0.07634815913206545\n",
      "Micro F1: 0.35259397328362846\n",
      "Micro Precision: 0.35259397328362846\n",
      "Micro Recall: 0.35259397328362846\n",
      "\n",
      "VALIDATION RESULTS\n",
      "Loss: 0.015974393114447594\n",
      "Accuracy: 0.19635126777983922\n",
      "MCC: 0.0\n",
      "Macro F1: 0.02525001491142613\n",
      "Macro Precision: 0.015103943675372248\n",
      "Macro Recall: 0.07692307692307693\n",
      "Micro F1: 0.19635126777983924\n",
      "Micro Precision: 0.19635126777983922\n",
      "Micro Recall: 0.19635126777983922\n",
      "--------------------------------------------------\n"
     ]
    },
    {
     "data": {
      "text/html": [
       "Waiting for W&B process to finish... <strong style=\"color:red\">(failed 1).</strong> Press Control-C to abort syncing."
      ],
      "text/plain": [
       "<IPython.core.display.HTML object>"
      ]
     },
     "metadata": {},
     "output_type": "display_data"
    },
    {
     "data": {
      "application/vnd.jupyter.widget-view+json": {
       "model_id": "51ad81d924f14dd2b7a0e192124a0a4a",
       "version_major": 2,
       "version_minor": 0
      },
      "text/plain": [
       "VBox(children=(Label(value='0.005 MB of 0.005 MB uploaded (0.000 MB deduped)\\r'), FloatProgress(value=1.0, max…"
      ]
     },
     "metadata": {},
     "output_type": "display_data"
    },
    {
     "data": {
      "text/html": [
       "<style>\n",
       "    table.wandb td:nth-child(1) { padding: 0 10px; text-align: left ; width: auto;} td:nth-child(2) {text-align: left ; width: 100%}\n",
       "    .wandb-row { display: flex; flex-direction: row; flex-wrap: wrap; justify-content: flex-start; width: 100% }\n",
       "    .wandb-col { display: flex; flex-direction: column; flex-basis: 100%; flex: 1; padding: 10px; }\n",
       "    </style>\n",
       "<div class=\"wandb-row\"><div class=\"wandb-col\"><h3>Run history:</h3><br/><table class=\"wandb\"><tr><td>Epoch</td><td>▁</td></tr><tr><td>Train Loss</td><td>▁</td></tr><tr><td>Validation Loss</td><td>▁</td></tr></table><br/></div><div class=\"wandb-col\"><h3>Run summary:</h3><br/><table class=\"wandb\"><tr><td>Epoch</td><td>1</td></tr><tr><td>Train Loss</td><td>0.01583</td></tr><tr><td>Validation Loss</td><td>0.01597</td></tr></table><br/></div></div>"
      ],
      "text/plain": [
       "<IPython.core.display.HTML object>"
      ]
     },
     "metadata": {},
     "output_type": "display_data"
    },
    {
     "data": {
      "text/html": [
       " View run <strong style=\"color:#cdcd00\">LEGAL-BERT-Trial8</strong> at: <a href='https://wandb.ai/gmarinowandb-8601/RhetoricalRolesClassification-BUILD/runs/39k2gjgr' target=\"_blank\">https://wandb.ai/gmarinowandb-8601/RhetoricalRolesClassification-BUILD/runs/39k2gjgr</a><br/>Synced 5 W&B file(s), 0 media file(s), 0 artifact file(s) and 0 other file(s)"
      ],
      "text/plain": [
       "<IPython.core.display.HTML object>"
      ]
     },
     "metadata": {},
     "output_type": "display_data"
    },
    {
     "data": {
      "text/html": [
       "Find logs at: <code>./wandb/run-20230424_195531-39k2gjgr/logs</code>"
      ],
      "text/plain": [
       "<IPython.core.display.HTML object>"
      ]
     },
     "metadata": {},
     "output_type": "display_data"
    },
    {
     "name": "stderr",
     "output_type": "stream",
     "text": [
      "\u001b[32m[I 2023-04-24 19:56:51,293]\u001b[0m Trial 8 pruned. \u001b[0m\n"
     ]
    },
    {
     "name": "stdout",
     "output_type": "stream",
     "text": [
      "\n",
      "************************ Starting New Optuna Trial ************************\n",
      "\n"
     ]
    },
    {
     "name": "stderr",
     "output_type": "stream",
     "text": [
      "Some weights of the model checkpoint at nlpaueb/legal-bert-base-uncased were not used when initializing BertForSequenceClassification: ['cls.predictions.bias', 'cls.predictions.transform.dense.bias', 'cls.predictions.transform.dense.weight', 'cls.seq_relationship.weight', 'cls.seq_relationship.bias', 'cls.predictions.transform.LayerNorm.weight', 'cls.predictions.decoder.bias', 'cls.predictions.transform.LayerNorm.bias', 'cls.predictions.decoder.weight']\n",
      "- This IS expected if you are initializing BertForSequenceClassification from the checkpoint of a model trained on another task or with another architecture (e.g. initializing a BertForSequenceClassification model from a BertForPreTraining model).\n",
      "- This IS NOT expected if you are initializing BertForSequenceClassification from the checkpoint of a model that you expect to be exactly identical (initializing a BertForSequenceClassification model from a BertForSequenceClassification model).\n",
      "Some weights of BertForSequenceClassification were not initialized from the model checkpoint at nlpaueb/legal-bert-base-uncased and are newly initialized: ['classifier.bias', 'classifier.weight']\n",
      "You should probably TRAIN this model on a down-stream task to be able to use it for predictions and inference.\n"
     ]
    },
    {
     "data": {
      "application/vnd.jupyter.widget-view+json": {
       "model_id": "a6653e758ec2430b82975c379d804eb7",
       "version_major": 2,
       "version_minor": 0
      },
      "text/plain": [
       "VBox(children=(Label(value='Waiting for wandb.init()...\\r'), FloatProgress(value=0.016668440805127225, max=1.0…"
      ]
     },
     "metadata": {},
     "output_type": "display_data"
    },
    {
     "data": {
      "text/html": [
       "wandb version 0.15.0 is available!  To upgrade, please run:\n",
       " $ pip install wandb --upgrade"
      ],
      "text/plain": [
       "<IPython.core.display.HTML object>"
      ]
     },
     "metadata": {},
     "output_type": "display_data"
    },
    {
     "data": {
      "text/html": [
       "Tracking run with wandb version 0.13.10"
      ],
      "text/plain": [
       "<IPython.core.display.HTML object>"
      ]
     },
     "metadata": {},
     "output_type": "display_data"
    },
    {
     "data": {
      "text/html": [
       "Run data is saved locally in <code>/home/g.marino/Desktop/GA/RhetoricalRolesClassification/BUILD/wandb/run-20230424_195652-fpwg9b57</code>"
      ],
      "text/plain": [
       "<IPython.core.display.HTML object>"
      ]
     },
     "metadata": {},
     "output_type": "display_data"
    },
    {
     "data": {
      "text/html": [
       "Syncing run <strong><a href='https://wandb.ai/gmarinowandb-8601/RhetoricalRolesClassification-BUILD/runs/fpwg9b57' target=\"_blank\">LEGAL-BERT-Trial9</a></strong> to <a href='https://wandb.ai/gmarinowandb-8601/RhetoricalRolesClassification-BUILD' target=\"_blank\">Weights & Biases</a> (<a href='https://wandb.me/run' target=\"_blank\">docs</a>)<br/>"
      ],
      "text/plain": [
       "<IPython.core.display.HTML object>"
      ]
     },
     "metadata": {},
     "output_type": "display_data"
    },
    {
     "data": {
      "text/html": [
       " View project at <a href='https://wandb.ai/gmarinowandb-8601/RhetoricalRolesClassification-BUILD' target=\"_blank\">https://wandb.ai/gmarinowandb-8601/RhetoricalRolesClassification-BUILD</a>"
      ],
      "text/plain": [
       "<IPython.core.display.HTML object>"
      ]
     },
     "metadata": {},
     "output_type": "display_data"
    },
    {
     "data": {
      "text/html": [
       " View run at <a href='https://wandb.ai/gmarinowandb-8601/RhetoricalRolesClassification-BUILD/runs/fpwg9b57' target=\"_blank\">https://wandb.ai/gmarinowandb-8601/RhetoricalRolesClassification-BUILD/runs/fpwg9b57</a>"
      ],
      "text/plain": [
       "<IPython.core.display.HTML object>"
      ]
     },
     "metadata": {},
     "output_type": "display_data"
    },
    {
     "name": "stdout",
     "output_type": "stream",
     "text": [
      "\n",
      "************** Training Started **************\n",
      "\n",
      "EPOCH N. 1\n"
     ]
    },
    {
     "name": "stderr",
     "output_type": "stream",
     "text": [
      "202it [00:38,  5.23it/s]\n"
     ]
    },
    {
     "name": "stdout",
     "output_type": "stream",
     "text": [
      "\n",
      "TRAIN RESULTS\n",
      "Loss: 0.015183835758782203\n",
      "Accuracy: 0.3930568499534017\n",
      "MCC: 0.13888699653015674\n",
      "Macro F1: 0.08622825754091507\n",
      "Macro Precision: 0.13415355334414278\n",
      "Macro Recall: 0.10544418306032145\n",
      "Micro F1: 0.3930568499534017\n",
      "Micro Precision: 0.3930568499534017\n",
      "Micro Recall: 0.3930568499534017\n",
      "\n",
      "VALIDATION RESULTS\n",
      "Loss: 0.013423430733382702\n",
      "Accuracy: 0.471552257266543\n",
      "MCC: 0.2522431982740597\n",
      "Macro F1: 0.11853358881596021\n",
      "Macro Precision: 0.1105069180440447\n",
      "Macro Recall: 0.1345002989580804\n",
      "Micro F1: 0.471552257266543\n",
      "Micro Precision: 0.471552257266543\n",
      "Micro Recall: 0.471552257266543\n",
      "--------------------------------------------------\n",
      "EPOCH N. 2\n"
     ]
    },
    {
     "name": "stderr",
     "output_type": "stream",
     "text": [
      "202it [00:39,  5.07it/s]\n"
     ]
    },
    {
     "name": "stdout",
     "output_type": "stream",
     "text": [
      "\n",
      "TRAIN RESULTS\n",
      "Loss: 0.011409711651677631\n",
      "Accuracy: 0.5459770114942529\n",
      "MCC: 0.38859500602260805\n",
      "Macro F1: 0.22566837186384678\n",
      "Macro Precision: 0.3991576966909932\n",
      "Macro Recall: 0.2199263041213385\n",
      "Micro F1: 0.5459770114942529\n",
      "Micro Precision: 0.5459770114942529\n",
      "Micro Recall: 0.5459770114942529\n",
      "\n",
      "VALIDATION RESULTS\n",
      "Loss: 0.010512803681194782\n",
      "Accuracy: 0.5912183055040198\n",
      "MCC: 0.4513907173624425\n",
      "Macro F1: 0.3167793468818271\n",
      "Macro Precision: 0.4976496049385941\n",
      "Macro Recall: 0.3024426654217638\n",
      "Micro F1: 0.5912183055040198\n",
      "Micro Precision: 0.5912183055040198\n",
      "Micro Recall: 0.5912183055040198\n",
      "--------------------------------------------------\n",
      "EPOCH N. 3\n"
     ]
    },
    {
     "name": "stderr",
     "output_type": "stream",
     "text": [
      "202it [00:39,  5.17it/s]\n"
     ]
    },
    {
     "name": "stdout",
     "output_type": "stream",
     "text": [
      "\n",
      "TRAIN RESULTS\n",
      "Loss: 0.009198259600444254\n",
      "Accuracy: 0.6369602360981671\n",
      "MCC: 0.5245676429386009\n",
      "Macro F1: 0.4312601889286233\n",
      "Macro Precision: 0.5948532810344231\n",
      "Macro Recall: 0.40108732337405617\n",
      "Micro F1: 0.6369602360981671\n",
      "Micro Precision: 0.6369602360981671\n",
      "Micro Recall: 0.6369602360981671\n",
      "\n",
      "VALIDATION RESULTS\n",
      "Loss: 0.00981446448713541\n",
      "Accuracy: 0.6122448979591837\n",
      "MCC: 0.4964693300310996\n",
      "Macro F1: 0.4443450611326462\n",
      "Macro Precision: 0.5209263420174224\n",
      "Macro Recall: 0.4366148270087622\n",
      "Micro F1: 0.6122448979591837\n",
      "Micro Precision: 0.6122448979591837\n",
      "Micro Recall: 0.6122448979591837\n",
      "--------------------------------------------------\n",
      "EPOCH N. 4\n"
     ]
    },
    {
     "name": "stderr",
     "output_type": "stream",
     "text": [
      "202it [00:39,  5.16it/s]\n"
     ]
    },
    {
     "name": "stdout",
     "output_type": "stream",
     "text": [
      "\n",
      "TRAIN RESULTS\n",
      "Loss: 0.008070580131261754\n",
      "Accuracy: 0.6731515998757378\n",
      "MCC: 0.5759038935923135\n",
      "Macro F1: 0.49886268489332836\n",
      "Macro Precision: 0.5970330217944215\n",
      "Macro Recall: 0.47685099716309903\n",
      "Micro F1: 0.6731515998757378\n",
      "Micro Precision: 0.6731515998757378\n",
      "Micro Recall: 0.6731515998757378\n",
      "\n",
      "VALIDATION RESULTS\n",
      "Loss: 0.00952029600739479\n",
      "Accuracy: 0.6311069882498453\n",
      "MCC: 0.5147276702636575\n",
      "Macro F1: 0.4648412883984601\n",
      "Macro Precision: 0.5798064562742893\n",
      "Macro Recall: 0.4516095420379834\n",
      "Micro F1: 0.6311069882498453\n",
      "Micro Precision: 0.6311069882498453\n",
      "Micro Recall: 0.6311069882498453\n",
      "--------------------------------------------------\n",
      "EPOCH N. 5\n"
     ]
    },
    {
     "name": "stderr",
     "output_type": "stream",
     "text": [
      "202it [00:39,  5.17it/s]\n"
     ]
    },
    {
     "name": "stdout",
     "output_type": "stream",
     "text": [
      "\n",
      "TRAIN RESULTS\n",
      "Loss: 0.007339542589875695\n",
      "Accuracy: 0.697421559490525\n",
      "MCC: 0.6086441296017809\n",
      "Macro F1: 0.5331152402275643\n",
      "Macro Precision: 0.6221999288785731\n",
      "Macro Recall: 0.5094903622113598\n",
      "Micro F1: 0.697421559490525\n",
      "Micro Precision: 0.697421559490525\n",
      "Micro Recall: 0.697421559490525\n",
      "\n",
      "VALIDATION RESULTS\n",
      "Loss: 0.0094526382163167\n",
      "Accuracy: 0.6264687693259122\n",
      "MCC: 0.513882381090347\n",
      "Macro F1: 0.47119208938430013\n",
      "Macro Precision: 0.5682082012152467\n",
      "Macro Recall: 0.46695141413956825\n",
      "Micro F1: 0.6264687693259122\n",
      "Micro Precision: 0.6264687693259122\n",
      "Micro Recall: 0.6264687693259122\n",
      "--------------------------------------------------\n",
      "EPOCH N. 6\n"
     ]
    },
    {
     "name": "stderr",
     "output_type": "stream",
     "text": [
      "202it [00:40,  4.97it/s]\n"
     ]
    },
    {
     "name": "stdout",
     "output_type": "stream",
     "text": [
      "\n",
      "TRAIN RESULTS\n",
      "Loss: 0.0066757099150352205\n",
      "Accuracy: 0.7257688723205965\n",
      "MCC: 0.6466765060229396\n",
      "Macro F1: 0.5678545377998847\n",
      "Macro Precision: 0.6461875233092269\n",
      "Macro Recall: 0.5438279748269118\n",
      "Micro F1: 0.7257688723205966\n",
      "Micro Precision: 0.7257688723205965\n",
      "Micro Recall: 0.7257688723205965\n",
      "\n",
      "VALIDATION RESULTS\n",
      "Loss: 0.009771809913218021\n",
      "Accuracy: 0.6205936920222634\n",
      "MCC: 0.5069268698845824\n",
      "Macro F1: 0.48355850868376127\n",
      "Macro Precision: 0.5361386798451376\n",
      "Macro Recall: 0.4695444683529418\n",
      "Micro F1: 0.6205936920222634\n",
      "Micro Precision: 0.6205936920222634\n",
      "Micro Recall: 0.6205936920222634\n",
      "--------------------------------------------------\n",
      "EPOCH N. 7\n"
     ]
    },
    {
     "name": "stderr",
     "output_type": "stream",
     "text": [
      "202it [00:39,  5.17it/s]\n"
     ]
    },
    {
     "name": "stdout",
     "output_type": "stream",
     "text": [
      "\n",
      "TRAIN RESULTS\n",
      "Loss: 0.00607849983426124\n",
      "Accuracy: 0.748524386455421\n",
      "MCC: 0.6771719964587167\n",
      "Macro F1: 0.6013578081096945\n",
      "Macro Precision: 0.665208131868526\n",
      "Macro Recall: 0.576812550330851\n",
      "Micro F1: 0.748524386455421\n",
      "Micro Precision: 0.748524386455421\n",
      "Micro Recall: 0.748524386455421\n",
      "\n",
      "VALIDATION RESULTS\n",
      "Loss: 0.009793482720851898\n",
      "Accuracy: 0.6255411255411255\n",
      "MCC: 0.5058075804029306\n",
      "Macro F1: 0.483180475843912\n",
      "Macro Precision: 0.5615487526385938\n",
      "Macro Recall: 0.46143683772696675\n",
      "Micro F1: 0.6255411255411255\n",
      "Micro Precision: 0.6255411255411255\n",
      "Micro Recall: 0.6255411255411255\n",
      "Early stopped training\n",
      "--------------------------------------------------\n"
     ]
    },
    {
     "data": {
      "text/html": [
       "Waiting for W&B process to finish... <strong style=\"color:green\">(success).</strong>"
      ],
      "text/plain": [
       "<IPython.core.display.HTML object>"
      ]
     },
     "metadata": {},
     "output_type": "display_data"
    },
    {
     "data": {
      "text/html": [
       "<style>\n",
       "    table.wandb td:nth-child(1) { padding: 0 10px; text-align: left ; width: auto;} td:nth-child(2) {text-align: left ; width: 100%}\n",
       "    .wandb-row { display: flex; flex-direction: row; flex-wrap: wrap; justify-content: flex-start; width: 100% }\n",
       "    .wandb-col { display: flex; flex-direction: column; flex-basis: 100%; flex: 1; padding: 10px; }\n",
       "    </style>\n",
       "<div class=\"wandb-row\"><div class=\"wandb-col\"><h3>Run history:</h3><br/><table class=\"wandb\"><tr><td>Epoch</td><td>▁▂▃▅▆▇█</td></tr><tr><td>Train Loss</td><td>█▅▃▃▂▁▁</td></tr><tr><td>Validation Loss</td><td>█▃▂▁▁▂▂</td></tr></table><br/></div><div class=\"wandb-col\"><h3>Run summary:</h3><br/><table class=\"wandb\"><tr><td>Epoch</td><td>7</td></tr><tr><td>Train Loss</td><td>0.00608</td></tr><tr><td>Validation Loss</td><td>0.00979</td></tr></table><br/></div></div>"
      ],
      "text/plain": [
       "<IPython.core.display.HTML object>"
      ]
     },
     "metadata": {},
     "output_type": "display_data"
    },
    {
     "data": {
      "text/html": [
       " View run <strong style=\"color:#cdcd00\">LEGAL-BERT-Trial9</strong> at: <a href='https://wandb.ai/gmarinowandb-8601/RhetoricalRolesClassification-BUILD/runs/fpwg9b57' target=\"_blank\">https://wandb.ai/gmarinowandb-8601/RhetoricalRolesClassification-BUILD/runs/fpwg9b57</a><br/>Synced 5 W&B file(s), 0 media file(s), 0 artifact file(s) and 0 other file(s)"
      ],
      "text/plain": [
       "<IPython.core.display.HTML object>"
      ]
     },
     "metadata": {},
     "output_type": "display_data"
    },
    {
     "data": {
      "text/html": [
       "Find logs at: <code>./wandb/run-20230424_195652-fpwg9b57/logs</code>"
      ],
      "text/plain": [
       "<IPython.core.display.HTML object>"
      ]
     },
     "metadata": {},
     "output_type": "display_data"
    },
    {
     "name": "stderr",
     "output_type": "stream",
     "text": [
      "\u001b[32m[I 2023-04-24 20:02:17,000]\u001b[0m Trial 9 finished with value: 0.0094526382163167 and parameters: {'lr': 1.8592769674842765e-05, 'weight_decay': 0.07847760757047116}. Best is trial 5 with value: 0.009451346471905708.\u001b[0m\n"
     ]
    },
    {
     "name": "stdout",
     "output_type": "stream",
     "text": [
      "\n",
      "************************ Starting New Optuna Trial ************************\n",
      "\n"
     ]
    },
    {
     "name": "stderr",
     "output_type": "stream",
     "text": [
      "Some weights of the model checkpoint at nlpaueb/legal-bert-base-uncased were not used when initializing BertForSequenceClassification: ['cls.predictions.bias', 'cls.predictions.transform.dense.bias', 'cls.predictions.transform.dense.weight', 'cls.seq_relationship.weight', 'cls.seq_relationship.bias', 'cls.predictions.transform.LayerNorm.weight', 'cls.predictions.decoder.bias', 'cls.predictions.transform.LayerNorm.bias', 'cls.predictions.decoder.weight']\n",
      "- This IS expected if you are initializing BertForSequenceClassification from the checkpoint of a model trained on another task or with another architecture (e.g. initializing a BertForSequenceClassification model from a BertForPreTraining model).\n",
      "- This IS NOT expected if you are initializing BertForSequenceClassification from the checkpoint of a model that you expect to be exactly identical (initializing a BertForSequenceClassification model from a BertForSequenceClassification model).\n",
      "Some weights of BertForSequenceClassification were not initialized from the model checkpoint at nlpaueb/legal-bert-base-uncased and are newly initialized: ['classifier.bias', 'classifier.weight']\n",
      "You should probably TRAIN this model on a down-stream task to be able to use it for predictions and inference.\n"
     ]
    },
    {
     "data": {
      "text/html": [
       "wandb version 0.15.0 is available!  To upgrade, please run:\n",
       " $ pip install wandb --upgrade"
      ],
      "text/plain": [
       "<IPython.core.display.HTML object>"
      ]
     },
     "metadata": {},
     "output_type": "display_data"
    },
    {
     "data": {
      "text/html": [
       "Tracking run with wandb version 0.13.10"
      ],
      "text/plain": [
       "<IPython.core.display.HTML object>"
      ]
     },
     "metadata": {},
     "output_type": "display_data"
    },
    {
     "data": {
      "text/html": [
       "Run data is saved locally in <code>/home/g.marino/Desktop/GA/RhetoricalRolesClassification/BUILD/wandb/run-20230424_200218-pkxv8ird</code>"
      ],
      "text/plain": [
       "<IPython.core.display.HTML object>"
      ]
     },
     "metadata": {},
     "output_type": "display_data"
    },
    {
     "data": {
      "text/html": [
       "Syncing run <strong><a href='https://wandb.ai/gmarinowandb-8601/RhetoricalRolesClassification-BUILD/runs/pkxv8ird' target=\"_blank\">LEGAL-BERT-Trial10</a></strong> to <a href='https://wandb.ai/gmarinowandb-8601/RhetoricalRolesClassification-BUILD' target=\"_blank\">Weights & Biases</a> (<a href='https://wandb.me/run' target=\"_blank\">docs</a>)<br/>"
      ],
      "text/plain": [
       "<IPython.core.display.HTML object>"
      ]
     },
     "metadata": {},
     "output_type": "display_data"
    },
    {
     "data": {
      "text/html": [
       " View project at <a href='https://wandb.ai/gmarinowandb-8601/RhetoricalRolesClassification-BUILD' target=\"_blank\">https://wandb.ai/gmarinowandb-8601/RhetoricalRolesClassification-BUILD</a>"
      ],
      "text/plain": [
       "<IPython.core.display.HTML object>"
      ]
     },
     "metadata": {},
     "output_type": "display_data"
    },
    {
     "data": {
      "text/html": [
       " View run at <a href='https://wandb.ai/gmarinowandb-8601/RhetoricalRolesClassification-BUILD/runs/pkxv8ird' target=\"_blank\">https://wandb.ai/gmarinowandb-8601/RhetoricalRolesClassification-BUILD/runs/pkxv8ird</a>"
      ],
      "text/plain": [
       "<IPython.core.display.HTML object>"
      ]
     },
     "metadata": {},
     "output_type": "display_data"
    },
    {
     "name": "stdout",
     "output_type": "stream",
     "text": [
      "\n",
      "************** Training Started **************\n",
      "\n",
      "EPOCH N. 1\n"
     ]
    },
    {
     "name": "stderr",
     "output_type": "stream",
     "text": [
      "202it [00:39,  5.11it/s]\n"
     ]
    },
    {
     "name": "stdout",
     "output_type": "stream",
     "text": [
      "\n",
      "TRAIN RESULTS\n",
      "Loss: 0.01302598841527709\n",
      "Accuracy: 0.4653619136377757\n",
      "MCC: 0.26953715191389904\n",
      "Macro F1: 0.19269513210108882\n",
      "Macro Precision: 0.3513231695099886\n",
      "Macro Recall: 0.18170601313359253\n",
      "Micro F1: 0.46536191363777574\n",
      "Micro Precision: 0.4653619136377757\n",
      "Micro Recall: 0.4653619136377757\n",
      "\n",
      "VALIDATION RESULTS\n",
      "Loss: 0.010903331451117992\n",
      "Accuracy: 0.5791589363017935\n",
      "MCC: 0.43501555638242334\n",
      "Macro F1: 0.35419173550897387\n",
      "Macro Precision: 0.4288932941781445\n",
      "Macro Recall: 0.3203739065981861\n",
      "Micro F1: 0.5791589363017935\n",
      "Micro Precision: 0.5791589363017935\n",
      "Micro Recall: 0.5791589363017935\n",
      "--------------------------------------------------\n",
      "EPOCH N. 2\n"
     ]
    },
    {
     "name": "stderr",
     "output_type": "stream",
     "text": [
      "202it [00:39,  5.16it/s]\n"
     ]
    },
    {
     "name": "stdout",
     "output_type": "stream",
     "text": [
      "\n",
      "TRAIN RESULTS\n",
      "Loss: 0.00885126983001018\n",
      "Accuracy: 0.637659210935073\n",
      "MCC: 0.5277407622192835\n",
      "Macro F1: 0.4628461374188934\n",
      "Macro Precision: 0.5481660601897604\n",
      "Macro Recall: 0.4382453973858225\n",
      "Micro F1: 0.637659210935073\n",
      "Micro Precision: 0.637659210935073\n",
      "Micro Recall: 0.637659210935073\n",
      "\n",
      "VALIDATION RESULTS\n",
      "Loss: 0.010102061554789543\n",
      "Accuracy: 0.6008039579468151\n",
      "MCC: 0.4809137268515425\n",
      "Macro F1: 0.44126605839596195\n",
      "Macro Precision: 0.47190540000844716\n",
      "Macro Recall: 0.45404160007540734\n",
      "Micro F1: 0.6008039579468151\n",
      "Micro Precision: 0.6008039579468151\n",
      "Micro Recall: 0.6008039579468151\n",
      "--------------------------------------------------\n",
      "EPOCH N. 3\n"
     ]
    },
    {
     "name": "stderr",
     "output_type": "stream",
     "text": [
      "202it [00:39,  5.09it/s]\n"
     ]
    },
    {
     "name": "stdout",
     "output_type": "stream",
     "text": [
      "\n",
      "TRAIN RESULTS\n",
      "Loss: 0.0071448935725260095\n",
      "Accuracy: 0.7046831314072693\n",
      "MCC: 0.619474801451425\n",
      "Macro F1: 0.5508446722674116\n",
      "Macro Precision: 0.6187230529812227\n",
      "Macro Recall: 0.5316298590282822\n",
      "Micro F1: 0.7046831314072693\n",
      "Micro Precision: 0.7046831314072693\n",
      "Micro Recall: 0.7046831314072693\n",
      "\n",
      "VALIDATION RESULTS\n",
      "Loss: 0.01022629626095295\n",
      "Accuracy: 0.5964749536178108\n",
      "MCC: 0.47109618665173963\n",
      "Macro F1: 0.4421380802959556\n",
      "Macro Precision: 0.499663321314487\n",
      "Macro Recall: 0.4506785324061836\n",
      "Micro F1: 0.5964749536178108\n",
      "Micro Precision: 0.5964749536178108\n",
      "Micro Recall: 0.5964749536178108\n",
      "--------------------------------------------------\n",
      "EPOCH N. 4\n"
     ]
    },
    {
     "name": "stderr",
     "output_type": "stream",
     "text": [
      "202it [00:39,  5.05it/s]\n"
     ]
    },
    {
     "name": "stdout",
     "output_type": "stream",
     "text": [
      "\n",
      "TRAIN RESULTS\n",
      "Loss: 0.0056441192089604015\n",
      "Accuracy: 0.7624650512581547\n",
      "MCC: 0.6962595902952468\n",
      "Macro F1: 0.6190066615937287\n",
      "Macro Precision: 0.6594815108936614\n",
      "Macro Recall: 0.6041259301844647\n",
      "Micro F1: 0.7624650512581546\n",
      "Micro Precision: 0.7624650512581547\n",
      "Micro Recall: 0.7624650512581547\n",
      "\n",
      "VALIDATION RESULTS\n",
      "Loss: 0.010996611788868904\n",
      "Accuracy: 0.5800865800865801\n",
      "MCC: 0.4512547473601141\n",
      "Macro F1: 0.43689743416508237\n",
      "Macro Precision: 0.49330580727571505\n",
      "Macro Recall: 0.4394053189980976\n",
      "Micro F1: 0.5800865800865801\n",
      "Micro Precision: 0.5800865800865801\n",
      "Micro Recall: 0.5800865800865801\n",
      "Early stopped training\n",
      "--------------------------------------------------\n"
     ]
    },
    {
     "data": {
      "text/html": [
       "Waiting for W&B process to finish... <strong style=\"color:green\">(success).</strong>"
      ],
      "text/plain": [
       "<IPython.core.display.HTML object>"
      ]
     },
     "metadata": {},
     "output_type": "display_data"
    },
    {
     "data": {
      "text/html": [
       "<style>\n",
       "    table.wandb td:nth-child(1) { padding: 0 10px; text-align: left ; width: auto;} td:nth-child(2) {text-align: left ; width: 100%}\n",
       "    .wandb-row { display: flex; flex-direction: row; flex-wrap: wrap; justify-content: flex-start; width: 100% }\n",
       "    .wandb-col { display: flex; flex-direction: column; flex-basis: 100%; flex: 1; padding: 10px; }\n",
       "    </style>\n",
       "<div class=\"wandb-row\"><div class=\"wandb-col\"><h3>Run history:</h3><br/><table class=\"wandb\"><tr><td>Epoch</td><td>▁▃▆█</td></tr><tr><td>Train Loss</td><td>█▄▂▁</td></tr><tr><td>Validation Loss</td><td>▇▁▂█</td></tr></table><br/></div><div class=\"wandb-col\"><h3>Run summary:</h3><br/><table class=\"wandb\"><tr><td>Epoch</td><td>4</td></tr><tr><td>Train Loss</td><td>0.00564</td></tr><tr><td>Validation Loss</td><td>0.011</td></tr></table><br/></div></div>"
      ],
      "text/plain": [
       "<IPython.core.display.HTML object>"
      ]
     },
     "metadata": {},
     "output_type": "display_data"
    },
    {
     "data": {
      "text/html": [
       " View run <strong style=\"color:#cdcd00\">LEGAL-BERT-Trial10</strong> at: <a href='https://wandb.ai/gmarinowandb-8601/RhetoricalRolesClassification-BUILD/runs/pkxv8ird' target=\"_blank\">https://wandb.ai/gmarinowandb-8601/RhetoricalRolesClassification-BUILD/runs/pkxv8ird</a><br/>Synced 5 W&B file(s), 0 media file(s), 0 artifact file(s) and 0 other file(s)"
      ],
      "text/plain": [
       "<IPython.core.display.HTML object>"
      ]
     },
     "metadata": {},
     "output_type": "display_data"
    },
    {
     "data": {
      "text/html": [
       "Find logs at: <code>./wandb/run-20230424_200218-pkxv8ird/logs</code>"
      ],
      "text/plain": [
       "<IPython.core.display.HTML object>"
      ]
     },
     "metadata": {},
     "output_type": "display_data"
    },
    {
     "name": "stderr",
     "output_type": "stream",
     "text": [
      "\u001b[32m[I 2023-04-24 20:05:32,344]\u001b[0m Trial 10 finished with value: 0.010102061554789543 and parameters: {'lr': 0.00012488894405965646, 'weight_decay': 0.09851618570868673}. Best is trial 5 with value: 0.009451346471905708.\u001b[0m\n"
     ]
    },
    {
     "name": "stdout",
     "output_type": "stream",
     "text": [
      "\n",
      "************************ Starting New Optuna Trial ************************\n",
      "\n"
     ]
    },
    {
     "name": "stderr",
     "output_type": "stream",
     "text": [
      "Some weights of the model checkpoint at nlpaueb/legal-bert-base-uncased were not used when initializing BertForSequenceClassification: ['cls.predictions.bias', 'cls.predictions.transform.dense.bias', 'cls.predictions.transform.dense.weight', 'cls.seq_relationship.weight', 'cls.seq_relationship.bias', 'cls.predictions.transform.LayerNorm.weight', 'cls.predictions.decoder.bias', 'cls.predictions.transform.LayerNorm.bias', 'cls.predictions.decoder.weight']\n",
      "- This IS expected if you are initializing BertForSequenceClassification from the checkpoint of a model trained on another task or with another architecture (e.g. initializing a BertForSequenceClassification model from a BertForPreTraining model).\n",
      "- This IS NOT expected if you are initializing BertForSequenceClassification from the checkpoint of a model that you expect to be exactly identical (initializing a BertForSequenceClassification model from a BertForSequenceClassification model).\n",
      "Some weights of BertForSequenceClassification were not initialized from the model checkpoint at nlpaueb/legal-bert-base-uncased and are newly initialized: ['classifier.bias', 'classifier.weight']\n",
      "You should probably TRAIN this model on a down-stream task to be able to use it for predictions and inference.\n"
     ]
    },
    {
     "data": {
      "text/html": [
       "wandb version 0.15.0 is available!  To upgrade, please run:\n",
       " $ pip install wandb --upgrade"
      ],
      "text/plain": [
       "<IPython.core.display.HTML object>"
      ]
     },
     "metadata": {},
     "output_type": "display_data"
    },
    {
     "data": {
      "text/html": [
       "Tracking run with wandb version 0.13.10"
      ],
      "text/plain": [
       "<IPython.core.display.HTML object>"
      ]
     },
     "metadata": {},
     "output_type": "display_data"
    },
    {
     "data": {
      "text/html": [
       "Run data is saved locally in <code>/home/g.marino/Desktop/GA/RhetoricalRolesClassification/BUILD/wandb/run-20230424_200534-ziqx1n0z</code>"
      ],
      "text/plain": [
       "<IPython.core.display.HTML object>"
      ]
     },
     "metadata": {},
     "output_type": "display_data"
    },
    {
     "data": {
      "text/html": [
       "Syncing run <strong><a href='https://wandb.ai/gmarinowandb-8601/RhetoricalRolesClassification-BUILD/runs/ziqx1n0z' target=\"_blank\">LEGAL-BERT-Trial11</a></strong> to <a href='https://wandb.ai/gmarinowandb-8601/RhetoricalRolesClassification-BUILD' target=\"_blank\">Weights & Biases</a> (<a href='https://wandb.me/run' target=\"_blank\">docs</a>)<br/>"
      ],
      "text/plain": [
       "<IPython.core.display.HTML object>"
      ]
     },
     "metadata": {},
     "output_type": "display_data"
    },
    {
     "data": {
      "text/html": [
       " View project at <a href='https://wandb.ai/gmarinowandb-8601/RhetoricalRolesClassification-BUILD' target=\"_blank\">https://wandb.ai/gmarinowandb-8601/RhetoricalRolesClassification-BUILD</a>"
      ],
      "text/plain": [
       "<IPython.core.display.HTML object>"
      ]
     },
     "metadata": {},
     "output_type": "display_data"
    },
    {
     "data": {
      "text/html": [
       " View run at <a href='https://wandb.ai/gmarinowandb-8601/RhetoricalRolesClassification-BUILD/runs/ziqx1n0z' target=\"_blank\">https://wandb.ai/gmarinowandb-8601/RhetoricalRolesClassification-BUILD/runs/ziqx1n0z</a>"
      ],
      "text/plain": [
       "<IPython.core.display.HTML object>"
      ]
     },
     "metadata": {},
     "output_type": "display_data"
    },
    {
     "name": "stdout",
     "output_type": "stream",
     "text": [
      "\n",
      "************** Training Started **************\n",
      "\n",
      "EPOCH N. 1\n"
     ]
    },
    {
     "name": "stderr",
     "output_type": "stream",
     "text": [
      "202it [00:38,  5.24it/s]\n"
     ]
    },
    {
     "name": "stdout",
     "output_type": "stream",
     "text": [
      "\n",
      "TRAIN RESULTS\n",
      "Loss: 0.01529383533450527\n",
      "Accuracy: 0.38886300093196646\n",
      "MCC: 0.13795362399744376\n",
      "Macro F1: 0.09802031765837943\n",
      "Macro Precision: 0.13723014811323767\n",
      "Macro Recall: 0.10791727525629423\n",
      "Micro F1: 0.38886300093196646\n",
      "Micro Precision: 0.38886300093196646\n",
      "Micro Recall: 0.38886300093196646\n",
      "\n",
      "VALIDATION RESULTS\n",
      "Loss: 0.01311466284096241\n",
      "Accuracy: 0.5148423005565863\n",
      "MCC: 0.32418261108942437\n",
      "Macro F1: 0.15531105001050693\n",
      "Macro Precision: 0.16599575497205657\n",
      "Macro Recall: 0.16407280034522356\n",
      "Micro F1: 0.5148423005565863\n",
      "Micro Precision: 0.5148423005565863\n",
      "Micro Recall: 0.5148423005565863\n",
      "--------------------------------------------------\n",
      "EPOCH N. 2\n"
     ]
    },
    {
     "name": "stderr",
     "output_type": "stream",
     "text": [
      "202it [00:39,  5.15it/s]\n"
     ]
    },
    {
     "name": "stdout",
     "output_type": "stream",
     "text": [
      "\n",
      "TRAIN RESULTS\n",
      "Loss: 0.011435793007371884\n",
      "Accuracy: 0.5610049704877291\n",
      "MCC: 0.41045747495548884\n",
      "Macro F1: 0.23615245997604678\n",
      "Macro Precision: 0.3075765711696308\n",
      "Macro Recall: 0.2301756821836258\n",
      "Micro F1: 0.5610049704877291\n",
      "Micro Precision: 0.5610049704877291\n",
      "Micro Recall: 0.5610049704877291\n",
      "\n",
      "VALIDATION RESULTS\n",
      "Loss: 0.0107770636677742\n",
      "Accuracy: 0.5921459492888065\n",
      "MCC: 0.45275988728601885\n",
      "Macro F1: 0.3009259836964329\n",
      "Macro Precision: 0.332114411241329\n",
      "Macro Recall: 0.3000025491605048\n",
      "Micro F1: 0.5921459492888065\n",
      "Micro Precision: 0.5921459492888065\n",
      "Micro Recall: 0.5921459492888065\n",
      "--------------------------------------------------\n"
     ]
    },
    {
     "data": {
      "text/html": [
       "Waiting for W&B process to finish... <strong style=\"color:red\">(failed 1).</strong> Press Control-C to abort syncing."
      ],
      "text/plain": [
       "<IPython.core.display.HTML object>"
      ]
     },
     "metadata": {},
     "output_type": "display_data"
    },
    {
     "data": {
      "text/html": [
       "<style>\n",
       "    table.wandb td:nth-child(1) { padding: 0 10px; text-align: left ; width: auto;} td:nth-child(2) {text-align: left ; width: 100%}\n",
       "    .wandb-row { display: flex; flex-direction: row; flex-wrap: wrap; justify-content: flex-start; width: 100% }\n",
       "    .wandb-col { display: flex; flex-direction: column; flex-basis: 100%; flex: 1; padding: 10px; }\n",
       "    </style>\n",
       "<div class=\"wandb-row\"><div class=\"wandb-col\"><h3>Run history:</h3><br/><table class=\"wandb\"><tr><td>Epoch</td><td>▁█</td></tr><tr><td>Train Loss</td><td>█▁</td></tr><tr><td>Validation Loss</td><td>█▁</td></tr></table><br/></div><div class=\"wandb-col\"><h3>Run summary:</h3><br/><table class=\"wandb\"><tr><td>Epoch</td><td>2</td></tr><tr><td>Train Loss</td><td>0.01144</td></tr><tr><td>Validation Loss</td><td>0.01078</td></tr></table><br/></div></div>"
      ],
      "text/plain": [
       "<IPython.core.display.HTML object>"
      ]
     },
     "metadata": {},
     "output_type": "display_data"
    },
    {
     "data": {
      "text/html": [
       " View run <strong style=\"color:#cdcd00\">LEGAL-BERT-Trial11</strong> at: <a href='https://wandb.ai/gmarinowandb-8601/RhetoricalRolesClassification-BUILD/runs/ziqx1n0z' target=\"_blank\">https://wandb.ai/gmarinowandb-8601/RhetoricalRolesClassification-BUILD/runs/ziqx1n0z</a><br/>Synced 5 W&B file(s), 0 media file(s), 0 artifact file(s) and 0 other file(s)"
      ],
      "text/plain": [
       "<IPython.core.display.HTML object>"
      ]
     },
     "metadata": {},
     "output_type": "display_data"
    },
    {
     "data": {
      "text/html": [
       "Find logs at: <code>./wandb/run-20230424_200534-ziqx1n0z/logs</code>"
      ],
      "text/plain": [
       "<IPython.core.display.HTML object>"
      ]
     },
     "metadata": {},
     "output_type": "display_data"
    },
    {
     "name": "stderr",
     "output_type": "stream",
     "text": [
      "\u001b[32m[I 2023-04-24 20:07:38,465]\u001b[0m Trial 11 pruned. \u001b[0m\n"
     ]
    },
    {
     "name": "stdout",
     "output_type": "stream",
     "text": [
      "\n",
      "************************ Starting New Optuna Trial ************************\n",
      "\n"
     ]
    },
    {
     "name": "stderr",
     "output_type": "stream",
     "text": [
      "Some weights of the model checkpoint at nlpaueb/legal-bert-base-uncased were not used when initializing BertForSequenceClassification: ['cls.predictions.bias', 'cls.predictions.transform.dense.bias', 'cls.predictions.transform.dense.weight', 'cls.seq_relationship.weight', 'cls.seq_relationship.bias', 'cls.predictions.transform.LayerNorm.weight', 'cls.predictions.decoder.bias', 'cls.predictions.transform.LayerNorm.bias', 'cls.predictions.decoder.weight']\n",
      "- This IS expected if you are initializing BertForSequenceClassification from the checkpoint of a model trained on another task or with another architecture (e.g. initializing a BertForSequenceClassification model from a BertForPreTraining model).\n",
      "- This IS NOT expected if you are initializing BertForSequenceClassification from the checkpoint of a model that you expect to be exactly identical (initializing a BertForSequenceClassification model from a BertForSequenceClassification model).\n",
      "Some weights of BertForSequenceClassification were not initialized from the model checkpoint at nlpaueb/legal-bert-base-uncased and are newly initialized: ['classifier.bias', 'classifier.weight']\n",
      "You should probably TRAIN this model on a down-stream task to be able to use it for predictions and inference.\n"
     ]
    },
    {
     "data": {
      "text/html": [
       "wandb version 0.15.0 is available!  To upgrade, please run:\n",
       " $ pip install wandb --upgrade"
      ],
      "text/plain": [
       "<IPython.core.display.HTML object>"
      ]
     },
     "metadata": {},
     "output_type": "display_data"
    },
    {
     "data": {
      "text/html": [
       "Tracking run with wandb version 0.13.10"
      ],
      "text/plain": [
       "<IPython.core.display.HTML object>"
      ]
     },
     "metadata": {},
     "output_type": "display_data"
    },
    {
     "data": {
      "text/html": [
       "Run data is saved locally in <code>/home/g.marino/Desktop/GA/RhetoricalRolesClassification/BUILD/wandb/run-20230424_200739-3i5g2llj</code>"
      ],
      "text/plain": [
       "<IPython.core.display.HTML object>"
      ]
     },
     "metadata": {},
     "output_type": "display_data"
    },
    {
     "data": {
      "text/html": [
       "Syncing run <strong><a href='https://wandb.ai/gmarinowandb-8601/RhetoricalRolesClassification-BUILD/runs/3i5g2llj' target=\"_blank\">LEGAL-BERT-Trial12</a></strong> to <a href='https://wandb.ai/gmarinowandb-8601/RhetoricalRolesClassification-BUILD' target=\"_blank\">Weights & Biases</a> (<a href='https://wandb.me/run' target=\"_blank\">docs</a>)<br/>"
      ],
      "text/plain": [
       "<IPython.core.display.HTML object>"
      ]
     },
     "metadata": {},
     "output_type": "display_data"
    },
    {
     "data": {
      "text/html": [
       " View project at <a href='https://wandb.ai/gmarinowandb-8601/RhetoricalRolesClassification-BUILD' target=\"_blank\">https://wandb.ai/gmarinowandb-8601/RhetoricalRolesClassification-BUILD</a>"
      ],
      "text/plain": [
       "<IPython.core.display.HTML object>"
      ]
     },
     "metadata": {},
     "output_type": "display_data"
    },
    {
     "data": {
      "text/html": [
       " View run at <a href='https://wandb.ai/gmarinowandb-8601/RhetoricalRolesClassification-BUILD/runs/3i5g2llj' target=\"_blank\">https://wandb.ai/gmarinowandb-8601/RhetoricalRolesClassification-BUILD/runs/3i5g2llj</a>"
      ],
      "text/plain": [
       "<IPython.core.display.HTML object>"
      ]
     },
     "metadata": {},
     "output_type": "display_data"
    },
    {
     "name": "stdout",
     "output_type": "stream",
     "text": [
      "\n",
      "************** Training Started **************\n",
      "\n",
      "EPOCH N. 1\n"
     ]
    },
    {
     "name": "stderr",
     "output_type": "stream",
     "text": [
      "202it [00:43,  4.70it/s]\n"
     ]
    },
    {
     "name": "stdout",
     "output_type": "stream",
     "text": [
      "\n",
      "TRAIN RESULTS\n",
      "Loss: 0.012295759753730586\n",
      "Accuracy: 0.5096303199751475\n",
      "MCC: 0.3377412353096711\n",
      "Macro F1: 0.25300318952298706\n",
      "Macro Precision: 0.4058095048036895\n",
      "Macro Recall: 0.22738664096734168\n",
      "Micro F1: 0.5096303199751475\n",
      "Micro Precision: 0.5096303199751475\n",
      "Micro Recall: 0.5096303199751475\n",
      "\n",
      "VALIDATION RESULTS\n",
      "Loss: 0.010065882466733456\n",
      "Accuracy: 0.6023500309214594\n",
      "MCC: 0.48877903060147243\n",
      "Macro F1: 0.44116542157996935\n",
      "Macro Precision: 0.4695727030934717\n",
      "Macro Recall: 0.47208658336953613\n",
      "Micro F1: 0.6023500309214594\n",
      "Micro Precision: 0.6023500309214594\n",
      "Micro Recall: 0.6023500309214594\n",
      "--------------------------------------------------\n",
      "EPOCH N. 2\n"
     ]
    },
    {
     "name": "stderr",
     "output_type": "stream",
     "text": [
      "202it [00:39,  5.16it/s]\n"
     ]
    },
    {
     "name": "stdout",
     "output_type": "stream",
     "text": [
      "\n",
      "TRAIN RESULTS\n",
      "Loss: 0.007984437962687878\n",
      "Accuracy: 0.6733069276172724\n",
      "MCC: 0.5765583912187497\n",
      "Macro F1: 0.5039929214237298\n",
      "Macro Precision: 0.5765762397763724\n",
      "Macro Recall: 0.48292765916614006\n",
      "Micro F1: 0.6733069276172724\n",
      "Micro Precision: 0.6733069276172724\n",
      "Micro Recall: 0.6733069276172724\n",
      "\n",
      "VALIDATION RESULTS\n",
      "Loss: 0.00935753807425499\n",
      "Accuracy: 0.6187384044526901\n",
      "MCC: 0.500015087818683\n",
      "Macro F1: 0.4558475464162374\n",
      "Macro Precision: 0.48696926642728233\n",
      "Macro Recall: 0.46114921351085225\n",
      "Micro F1: 0.6187384044526901\n",
      "Micro Precision: 0.6187384044526901\n",
      "Micro Recall: 0.6187384044526901\n",
      "--------------------------------------------------\n",
      "EPOCH N. 3\n"
     ]
    },
    {
     "name": "stderr",
     "output_type": "stream",
     "text": [
      "202it [00:39,  5.08it/s]\n"
     ]
    },
    {
     "name": "stdout",
     "output_type": "stream",
     "text": [
      "\n",
      "TRAIN RESULTS\n",
      "Loss: 0.006321889635623335\n",
      "Accuracy: 0.7340789064926996\n",
      "MCC: 0.6581707821262132\n",
      "Macro F1: 0.5896933395598701\n",
      "Macro Precision: 0.6500389830838323\n",
      "Macro Recall: 0.5655090400540455\n",
      "Micro F1: 0.7340789064926996\n",
      "Micro Precision: 0.7340789064926996\n",
      "Micro Recall: 0.7340789064926996\n",
      "\n",
      "VALIDATION RESULTS\n",
      "Loss: 0.010125808417797089\n",
      "Accuracy: 0.6113172541743971\n",
      "MCC: 0.4959268307995788\n",
      "Macro F1: 0.4879111977998652\n",
      "Macro Precision: 0.5319640512631717\n",
      "Macro Recall: 0.4872510173242415\n",
      "Micro F1: 0.6113172541743971\n",
      "Micro Precision: 0.6113172541743971\n",
      "Micro Recall: 0.6113172541743971\n",
      "--------------------------------------------------\n",
      "EPOCH N. 4\n"
     ]
    },
    {
     "name": "stderr",
     "output_type": "stream",
     "text": [
      "202it [00:41,  4.90it/s]\n"
     ]
    },
    {
     "name": "stdout",
     "output_type": "stream",
     "text": [
      "\n",
      "TRAIN RESULTS\n",
      "Loss: 0.004688897639114911\n",
      "Accuracy: 0.8026172724448587\n",
      "MCC: 0.7484402269521211\n",
      "Macro F1: 0.682069395175926\n",
      "Macro Precision: 0.7148731346881501\n",
      "Macro Recall: 0.661271922191282\n",
      "Micro F1: 0.8026172724448587\n",
      "Micro Precision: 0.8026172724448587\n",
      "Micro Recall: 0.8026172724448587\n",
      "\n",
      "VALIDATION RESULTS\n",
      "Loss: 0.01112176664173603\n",
      "Accuracy: 0.6023500309214594\n",
      "MCC: 0.4841926038745415\n",
      "Macro F1: 0.48327624095830374\n",
      "Macro Precision: 0.5070132580742952\n",
      "Macro Recall: 0.4837619310332232\n",
      "Micro F1: 0.6023500309214594\n",
      "Micro Precision: 0.6023500309214594\n",
      "Micro Recall: 0.6023500309214594\n",
      "Early stopped training\n",
      "--------------------------------------------------\n"
     ]
    },
    {
     "data": {
      "text/html": [
       "Waiting for W&B process to finish... <strong style=\"color:green\">(success).</strong>"
      ],
      "text/plain": [
       "<IPython.core.display.HTML object>"
      ]
     },
     "metadata": {},
     "output_type": "display_data"
    },
    {
     "data": {
      "application/vnd.jupyter.widget-view+json": {
       "model_id": "926e66f308194121b28e04a57cdbe42f",
       "version_major": 2,
       "version_minor": 0
      },
      "text/plain": [
       "VBox(children=(Label(value='0.005 MB of 0.005 MB uploaded (0.000 MB deduped)\\r'), FloatProgress(value=1.0, max…"
      ]
     },
     "metadata": {},
     "output_type": "display_data"
    },
    {
     "data": {
      "text/html": [
       "<style>\n",
       "    table.wandb td:nth-child(1) { padding: 0 10px; text-align: left ; width: auto;} td:nth-child(2) {text-align: left ; width: 100%}\n",
       "    .wandb-row { display: flex; flex-direction: row; flex-wrap: wrap; justify-content: flex-start; width: 100% }\n",
       "    .wandb-col { display: flex; flex-direction: column; flex-basis: 100%; flex: 1; padding: 10px; }\n",
       "    </style>\n",
       "<div class=\"wandb-row\"><div class=\"wandb-col\"><h3>Run history:</h3><br/><table class=\"wandb\"><tr><td>Epoch</td><td>▁▃▆█</td></tr><tr><td>Train Loss</td><td>█▄▃▁</td></tr><tr><td>Validation Loss</td><td>▄▁▄█</td></tr></table><br/></div><div class=\"wandb-col\"><h3>Run summary:</h3><br/><table class=\"wandb\"><tr><td>Epoch</td><td>4</td></tr><tr><td>Train Loss</td><td>0.00469</td></tr><tr><td>Validation Loss</td><td>0.01112</td></tr></table><br/></div></div>"
      ],
      "text/plain": [
       "<IPython.core.display.HTML object>"
      ]
     },
     "metadata": {},
     "output_type": "display_data"
    },
    {
     "data": {
      "text/html": [
       " View run <strong style=\"color:#cdcd00\">LEGAL-BERT-Trial12</strong> at: <a href='https://wandb.ai/gmarinowandb-8601/RhetoricalRolesClassification-BUILD/runs/3i5g2llj' target=\"_blank\">https://wandb.ai/gmarinowandb-8601/RhetoricalRolesClassification-BUILD/runs/3i5g2llj</a><br/>Synced 5 W&B file(s), 0 media file(s), 0 artifact file(s) and 0 other file(s)"
      ],
      "text/plain": [
       "<IPython.core.display.HTML object>"
      ]
     },
     "metadata": {},
     "output_type": "display_data"
    },
    {
     "data": {
      "text/html": [
       "Find logs at: <code>./wandb/run-20230424_200739-3i5g2llj/logs</code>"
      ],
      "text/plain": [
       "<IPython.core.display.HTML object>"
      ]
     },
     "metadata": {},
     "output_type": "display_data"
    },
    {
     "name": "stderr",
     "output_type": "stream",
     "text": [
      "\u001b[32m[I 2023-04-24 20:10:54,972]\u001b[0m Trial 12 finished with value: 0.00935753807425499 and parameters: {'lr': 0.00010858027545025387, 'weight_decay': 0.07913699117691123}. Best is trial 12 with value: 0.00935753807425499.\u001b[0m\n"
     ]
    },
    {
     "name": "stdout",
     "output_type": "stream",
     "text": [
      "\n",
      "************************ Starting New Optuna Trial ************************\n",
      "\n"
     ]
    },
    {
     "name": "stderr",
     "output_type": "stream",
     "text": [
      "Some weights of the model checkpoint at nlpaueb/legal-bert-base-uncased were not used when initializing BertForSequenceClassification: ['cls.predictions.bias', 'cls.predictions.transform.dense.bias', 'cls.predictions.transform.dense.weight', 'cls.seq_relationship.weight', 'cls.seq_relationship.bias', 'cls.predictions.transform.LayerNorm.weight', 'cls.predictions.decoder.bias', 'cls.predictions.transform.LayerNorm.bias', 'cls.predictions.decoder.weight']\n",
      "- This IS expected if you are initializing BertForSequenceClassification from the checkpoint of a model trained on another task or with another architecture (e.g. initializing a BertForSequenceClassification model from a BertForPreTraining model).\n",
      "- This IS NOT expected if you are initializing BertForSequenceClassification from the checkpoint of a model that you expect to be exactly identical (initializing a BertForSequenceClassification model from a BertForSequenceClassification model).\n",
      "Some weights of BertForSequenceClassification were not initialized from the model checkpoint at nlpaueb/legal-bert-base-uncased and are newly initialized: ['classifier.bias', 'classifier.weight']\n",
      "You should probably TRAIN this model on a down-stream task to be able to use it for predictions and inference.\n"
     ]
    },
    {
     "data": {
      "text/html": [
       "wandb version 0.15.0 is available!  To upgrade, please run:\n",
       " $ pip install wandb --upgrade"
      ],
      "text/plain": [
       "<IPython.core.display.HTML object>"
      ]
     },
     "metadata": {},
     "output_type": "display_data"
    },
    {
     "data": {
      "text/html": [
       "Tracking run with wandb version 0.13.10"
      ],
      "text/plain": [
       "<IPython.core.display.HTML object>"
      ]
     },
     "metadata": {},
     "output_type": "display_data"
    },
    {
     "data": {
      "text/html": [
       "Run data is saved locally in <code>/home/g.marino/Desktop/GA/RhetoricalRolesClassification/BUILD/wandb/run-20230424_201056-ymqvg434</code>"
      ],
      "text/plain": [
       "<IPython.core.display.HTML object>"
      ]
     },
     "metadata": {},
     "output_type": "display_data"
    },
    {
     "data": {
      "text/html": [
       "Syncing run <strong><a href='https://wandb.ai/gmarinowandb-8601/RhetoricalRolesClassification-BUILD/runs/ymqvg434' target=\"_blank\">LEGAL-BERT-Trial13</a></strong> to <a href='https://wandb.ai/gmarinowandb-8601/RhetoricalRolesClassification-BUILD' target=\"_blank\">Weights & Biases</a> (<a href='https://wandb.me/run' target=\"_blank\">docs</a>)<br/>"
      ],
      "text/plain": [
       "<IPython.core.display.HTML object>"
      ]
     },
     "metadata": {},
     "output_type": "display_data"
    },
    {
     "data": {
      "text/html": [
       " View project at <a href='https://wandb.ai/gmarinowandb-8601/RhetoricalRolesClassification-BUILD' target=\"_blank\">https://wandb.ai/gmarinowandb-8601/RhetoricalRolesClassification-BUILD</a>"
      ],
      "text/plain": [
       "<IPython.core.display.HTML object>"
      ]
     },
     "metadata": {},
     "output_type": "display_data"
    },
    {
     "data": {
      "text/html": [
       " View run at <a href='https://wandb.ai/gmarinowandb-8601/RhetoricalRolesClassification-BUILD/runs/ymqvg434' target=\"_blank\">https://wandb.ai/gmarinowandb-8601/RhetoricalRolesClassification-BUILD/runs/ymqvg434</a>"
      ],
      "text/plain": [
       "<IPython.core.display.HTML object>"
      ]
     },
     "metadata": {},
     "output_type": "display_data"
    },
    {
     "name": "stdout",
     "output_type": "stream",
     "text": [
      "\n",
      "************** Training Started **************\n",
      "\n",
      "EPOCH N. 1\n"
     ]
    },
    {
     "name": "stderr",
     "output_type": "stream",
     "text": [
      "202it [00:42,  4.81it/s]\n"
     ]
    },
    {
     "name": "stdout",
     "output_type": "stream",
     "text": [
      "\n",
      "TRAIN RESULTS\n",
      "Loss: 0.01567910158437911\n",
      "Accuracy: 0.3597002174588381\n",
      "MCC: 0.0023080934574095215\n",
      "Macro F1: 0.0448354155061859\n",
      "Macro Precision: 0.0828358028032749\n",
      "Macro Recall: 0.07695747156180288\n",
      "Micro F1: 0.3597002174588381\n",
      "Micro Precision: 0.3597002174588381\n",
      "Micro Recall: 0.3597002174588381\n",
      "\n",
      "VALIDATION RESULTS\n",
      "Loss: 0.01558894943445921\n",
      "Accuracy: 0.3837353123067409\n",
      "MCC: 0.0\n",
      "Macro F1: 0.04266437473141384\n",
      "Macro Precision: 0.029518100946672378\n",
      "Macro Recall: 0.07692307692307693\n",
      "Micro F1: 0.3837353123067409\n",
      "Micro Precision: 0.3837353123067409\n",
      "Micro Recall: 0.3837353123067409\n",
      "--------------------------------------------------\n"
     ]
    },
    {
     "data": {
      "text/html": [
       "Waiting for W&B process to finish... <strong style=\"color:red\">(failed 1).</strong> Press Control-C to abort syncing."
      ],
      "text/plain": [
       "<IPython.core.display.HTML object>"
      ]
     },
     "metadata": {},
     "output_type": "display_data"
    },
    {
     "data": {
      "text/html": [
       "<style>\n",
       "    table.wandb td:nth-child(1) { padding: 0 10px; text-align: left ; width: auto;} td:nth-child(2) {text-align: left ; width: 100%}\n",
       "    .wandb-row { display: flex; flex-direction: row; flex-wrap: wrap; justify-content: flex-start; width: 100% }\n",
       "    .wandb-col { display: flex; flex-direction: column; flex-basis: 100%; flex: 1; padding: 10px; }\n",
       "    </style>\n",
       "<div class=\"wandb-row\"><div class=\"wandb-col\"><h3>Run history:</h3><br/><table class=\"wandb\"><tr><td>Epoch</td><td>▁</td></tr><tr><td>Train Loss</td><td>▁</td></tr><tr><td>Validation Loss</td><td>▁</td></tr></table><br/></div><div class=\"wandb-col\"><h3>Run summary:</h3><br/><table class=\"wandb\"><tr><td>Epoch</td><td>1</td></tr><tr><td>Train Loss</td><td>0.01568</td></tr><tr><td>Validation Loss</td><td>0.01559</td></tr></table><br/></div></div>"
      ],
      "text/plain": [
       "<IPython.core.display.HTML object>"
      ]
     },
     "metadata": {},
     "output_type": "display_data"
    },
    {
     "data": {
      "text/html": [
       " View run <strong style=\"color:#cdcd00\">LEGAL-BERT-Trial13</strong> at: <a href='https://wandb.ai/gmarinowandb-8601/RhetoricalRolesClassification-BUILD/runs/ymqvg434' target=\"_blank\">https://wandb.ai/gmarinowandb-8601/RhetoricalRolesClassification-BUILD/runs/ymqvg434</a><br/>Synced 5 W&B file(s), 0 media file(s), 0 artifact file(s) and 0 other file(s)"
      ],
      "text/plain": [
       "<IPython.core.display.HTML object>"
      ]
     },
     "metadata": {},
     "output_type": "display_data"
    },
    {
     "data": {
      "text/html": [
       "Find logs at: <code>./wandb/run-20230424_201056-ymqvg434/logs</code>"
      ],
      "text/plain": [
       "<IPython.core.display.HTML object>"
      ]
     },
     "metadata": {},
     "output_type": "display_data"
    },
    {
     "name": "stderr",
     "output_type": "stream",
     "text": [
      "\u001b[32m[I 2023-04-24 20:12:05,365]\u001b[0m Trial 13 pruned. \u001b[0m\n"
     ]
    },
    {
     "name": "stdout",
     "output_type": "stream",
     "text": [
      "\n",
      "************************ Starting New Optuna Trial ************************\n",
      "\n"
     ]
    },
    {
     "name": "stderr",
     "output_type": "stream",
     "text": [
      "Some weights of the model checkpoint at nlpaueb/legal-bert-base-uncased were not used when initializing BertForSequenceClassification: ['cls.predictions.bias', 'cls.predictions.transform.dense.bias', 'cls.predictions.transform.dense.weight', 'cls.seq_relationship.weight', 'cls.seq_relationship.bias', 'cls.predictions.transform.LayerNorm.weight', 'cls.predictions.decoder.bias', 'cls.predictions.transform.LayerNorm.bias', 'cls.predictions.decoder.weight']\n",
      "- This IS expected if you are initializing BertForSequenceClassification from the checkpoint of a model trained on another task or with another architecture (e.g. initializing a BertForSequenceClassification model from a BertForPreTraining model).\n",
      "- This IS NOT expected if you are initializing BertForSequenceClassification from the checkpoint of a model that you expect to be exactly identical (initializing a BertForSequenceClassification model from a BertForSequenceClassification model).\n",
      "Some weights of BertForSequenceClassification were not initialized from the model checkpoint at nlpaueb/legal-bert-base-uncased and are newly initialized: ['classifier.bias', 'classifier.weight']\n",
      "You should probably TRAIN this model on a down-stream task to be able to use it for predictions and inference.\n"
     ]
    },
    {
     "data": {
      "text/html": [
       "wandb version 0.15.0 is available!  To upgrade, please run:\n",
       " $ pip install wandb --upgrade"
      ],
      "text/plain": [
       "<IPython.core.display.HTML object>"
      ]
     },
     "metadata": {},
     "output_type": "display_data"
    },
    {
     "data": {
      "text/html": [
       "Tracking run with wandb version 0.13.10"
      ],
      "text/plain": [
       "<IPython.core.display.HTML object>"
      ]
     },
     "metadata": {},
     "output_type": "display_data"
    },
    {
     "data": {
      "text/html": [
       "Run data is saved locally in <code>/home/g.marino/Desktop/GA/RhetoricalRolesClassification/BUILD/wandb/run-20230424_201206-sof5vlm8</code>"
      ],
      "text/plain": [
       "<IPython.core.display.HTML object>"
      ]
     },
     "metadata": {},
     "output_type": "display_data"
    },
    {
     "data": {
      "text/html": [
       "Syncing run <strong><a href='https://wandb.ai/gmarinowandb-8601/RhetoricalRolesClassification-BUILD/runs/sof5vlm8' target=\"_blank\">LEGAL-BERT-Trial14</a></strong> to <a href='https://wandb.ai/gmarinowandb-8601/RhetoricalRolesClassification-BUILD' target=\"_blank\">Weights & Biases</a> (<a href='https://wandb.me/run' target=\"_blank\">docs</a>)<br/>"
      ],
      "text/plain": [
       "<IPython.core.display.HTML object>"
      ]
     },
     "metadata": {},
     "output_type": "display_data"
    },
    {
     "data": {
      "text/html": [
       " View project at <a href='https://wandb.ai/gmarinowandb-8601/RhetoricalRolesClassification-BUILD' target=\"_blank\">https://wandb.ai/gmarinowandb-8601/RhetoricalRolesClassification-BUILD</a>"
      ],
      "text/plain": [
       "<IPython.core.display.HTML object>"
      ]
     },
     "metadata": {},
     "output_type": "display_data"
    },
    {
     "data": {
      "text/html": [
       " View run at <a href='https://wandb.ai/gmarinowandb-8601/RhetoricalRolesClassification-BUILD/runs/sof5vlm8' target=\"_blank\">https://wandb.ai/gmarinowandb-8601/RhetoricalRolesClassification-BUILD/runs/sof5vlm8</a>"
      ],
      "text/plain": [
       "<IPython.core.display.HTML object>"
      ]
     },
     "metadata": {},
     "output_type": "display_data"
    },
    {
     "name": "stdout",
     "output_type": "stream",
     "text": [
      "\n",
      "************** Training Started **************\n",
      "\n",
      "EPOCH N. 1\n"
     ]
    },
    {
     "name": "stderr",
     "output_type": "stream",
     "text": [
      "202it [00:39,  5.05it/s]\n"
     ]
    },
    {
     "name": "stdout",
     "output_type": "stream",
     "text": [
      "\n",
      "TRAIN RESULTS\n",
      "Loss: 0.013890260581127344\n",
      "Accuracy: 0.4400434917676297\n",
      "MCC: 0.22069645546365\n",
      "Macro F1: 0.12930505776087664\n",
      "Macro Precision: 0.3345518530493926\n",
      "Macro Recall: 0.1353423522132829\n",
      "Micro F1: 0.4400434917676297\n",
      "Micro Precision: 0.4400434917676297\n",
      "Micro Recall: 0.4400434917676297\n",
      "\n",
      "VALIDATION RESULTS\n",
      "Loss: 0.012024844996631145\n",
      "Accuracy: 0.5435992578849722\n",
      "MCC: 0.3730414849945953\n",
      "Macro F1: 0.22466025524266944\n",
      "Macro Precision: 0.355383739604728\n",
      "Macro Recall: 0.20908827926986864\n",
      "Micro F1: 0.5435992578849722\n",
      "Micro Precision: 0.5435992578849722\n",
      "Micro Recall: 0.5435992578849722\n",
      "--------------------------------------------------\n",
      "EPOCH N. 2\n"
     ]
    },
    {
     "name": "stderr",
     "output_type": "stream",
     "text": [
      "202it [00:42,  4.75it/s]\n"
     ]
    },
    {
     "name": "stdout",
     "output_type": "stream",
     "text": [
      "\n",
      "TRAIN RESULTS\n",
      "Loss: 0.009261038623062785\n",
      "Accuracy: 0.6243786890338614\n",
      "MCC: 0.5089382214445838\n",
      "Macro F1: 0.4352942276560251\n",
      "Macro Precision: 0.5164757333290093\n",
      "Macro Recall: 0.4131339642189937\n",
      "Micro F1: 0.6243786890338614\n",
      "Micro Precision: 0.6243786890338614\n",
      "Micro Recall: 0.6243786890338614\n",
      "\n",
      "VALIDATION RESULTS\n",
      "Loss: 0.009898394346237183\n",
      "Accuracy: 0.6060606060606061\n",
      "MCC: 0.48088825424039394\n",
      "Macro F1: 0.43520031753082333\n",
      "Macro Precision: 0.4988972980713059\n",
      "Macro Recall: 0.43324149672594187\n",
      "Micro F1: 0.6060606060606061\n",
      "Micro Precision: 0.6060606060606061\n",
      "Micro Recall: 0.6060606060606061\n",
      "--------------------------------------------------\n",
      "EPOCH N. 3\n"
     ]
    },
    {
     "name": "stderr",
     "output_type": "stream",
     "text": [
      "202it [00:39,  5.07it/s]\n"
     ]
    },
    {
     "name": "stdout",
     "output_type": "stream",
     "text": [
      "\n",
      "TRAIN RESULTS\n",
      "Loss: 0.007278586862508685\n",
      "Accuracy: 0.6987030133581857\n",
      "MCC: 0.6107058076964365\n",
      "Macro F1: 0.5347962042064116\n",
      "Macro Precision: 0.6010984907262826\n",
      "Macro Recall: 0.5143591042471849\n",
      "Micro F1: 0.6987030133581857\n",
      "Micro Precision: 0.6987030133581857\n",
      "Micro Recall: 0.6987030133581857\n",
      "\n",
      "VALIDATION RESULTS\n",
      "Loss: 0.01027638278901577\n",
      "Accuracy: 0.601113172541744\n",
      "MCC: 0.48031460675983895\n",
      "Macro F1: 0.43326491245881255\n",
      "Macro Precision: 0.5219288205000102\n",
      "Macro Recall: 0.4543337606513713\n",
      "Micro F1: 0.601113172541744\n",
      "Micro Precision: 0.601113172541744\n",
      "Micro Recall: 0.601113172541744\n",
      "--------------------------------------------------\n",
      "EPOCH N. 4\n"
     ]
    },
    {
     "name": "stderr",
     "output_type": "stream",
     "text": [
      "202it [00:39,  5.18it/s]\n"
     ]
    },
    {
     "name": "stdout",
     "output_type": "stream",
     "text": [
      "\n",
      "TRAIN RESULTS\n",
      "Loss: 0.005856876229417735\n",
      "Accuracy: 0.753883193538366\n",
      "MCC: 0.6850239178584602\n",
      "Macro F1: 0.607946665375424\n",
      "Macro Precision: 0.6574339796400271\n",
      "Macro Recall: 0.592164509195484\n",
      "Micro F1: 0.753883193538366\n",
      "Micro Precision: 0.753883193538366\n",
      "Micro Recall: 0.753883193538366\n",
      "\n",
      "VALIDATION RESULTS\n",
      "Loss: 0.010628057643771172\n",
      "Accuracy: 0.6063698206555349\n",
      "MCC: 0.4811239466878101\n",
      "Macro F1: 0.4521362630643005\n",
      "Macro Precision: 0.5052554643839141\n",
      "Macro Recall: 0.44523230376404677\n",
      "Micro F1: 0.6063698206555349\n",
      "Micro Precision: 0.6063698206555349\n",
      "Micro Recall: 0.6063698206555349\n",
      "Early stopped training\n",
      "--------------------------------------------------\n"
     ]
    },
    {
     "data": {
      "text/html": [
       "Waiting for W&B process to finish... <strong style=\"color:green\">(success).</strong>"
      ],
      "text/plain": [
       "<IPython.core.display.HTML object>"
      ]
     },
     "metadata": {},
     "output_type": "display_data"
    },
    {
     "data": {
      "text/html": [
       "<style>\n",
       "    table.wandb td:nth-child(1) { padding: 0 10px; text-align: left ; width: auto;} td:nth-child(2) {text-align: left ; width: 100%}\n",
       "    .wandb-row { display: flex; flex-direction: row; flex-wrap: wrap; justify-content: flex-start; width: 100% }\n",
       "    .wandb-col { display: flex; flex-direction: column; flex-basis: 100%; flex: 1; padding: 10px; }\n",
       "    </style>\n",
       "<div class=\"wandb-row\"><div class=\"wandb-col\"><h3>Run history:</h3><br/><table class=\"wandb\"><tr><td>Epoch</td><td>▁▃▆█</td></tr><tr><td>Train Loss</td><td>█▄▂▁</td></tr><tr><td>Validation Loss</td><td>█▁▂▃</td></tr></table><br/></div><div class=\"wandb-col\"><h3>Run summary:</h3><br/><table class=\"wandb\"><tr><td>Epoch</td><td>4</td></tr><tr><td>Train Loss</td><td>0.00586</td></tr><tr><td>Validation Loss</td><td>0.01063</td></tr></table><br/></div></div>"
      ],
      "text/plain": [
       "<IPython.core.display.HTML object>"
      ]
     },
     "metadata": {},
     "output_type": "display_data"
    },
    {
     "data": {
      "text/html": [
       " View run <strong style=\"color:#cdcd00\">LEGAL-BERT-Trial14</strong> at: <a href='https://wandb.ai/gmarinowandb-8601/RhetoricalRolesClassification-BUILD/runs/sof5vlm8' target=\"_blank\">https://wandb.ai/gmarinowandb-8601/RhetoricalRolesClassification-BUILD/runs/sof5vlm8</a><br/>Synced 5 W&B file(s), 0 media file(s), 0 artifact file(s) and 0 other file(s)"
      ],
      "text/plain": [
       "<IPython.core.display.HTML object>"
      ]
     },
     "metadata": {},
     "output_type": "display_data"
    },
    {
     "data": {
      "text/html": [
       "Find logs at: <code>./wandb/run-20230424_201206-sof5vlm8/logs</code>"
      ],
      "text/plain": [
       "<IPython.core.display.HTML object>"
      ]
     },
     "metadata": {},
     "output_type": "display_data"
    },
    {
     "name": "stderr",
     "output_type": "stream",
     "text": [
      "\u001b[32m[I 2023-04-24 20:15:18,128]\u001b[0m Trial 14 finished with value: 0.009898394346237183 and parameters: {'lr': 0.00011945802629543995, 'weight_decay': 0.07398117099028068}. Best is trial 12 with value: 0.00935753807425499.\u001b[0m\n"
     ]
    },
    {
     "name": "stdout",
     "output_type": "stream",
     "text": [
      "\n",
      "************************ Starting New Optuna Trial ************************\n",
      "\n"
     ]
    },
    {
     "name": "stderr",
     "output_type": "stream",
     "text": [
      "Some weights of the model checkpoint at nlpaueb/legal-bert-base-uncased were not used when initializing BertForSequenceClassification: ['cls.predictions.bias', 'cls.predictions.transform.dense.bias', 'cls.predictions.transform.dense.weight', 'cls.seq_relationship.weight', 'cls.seq_relationship.bias', 'cls.predictions.transform.LayerNorm.weight', 'cls.predictions.decoder.bias', 'cls.predictions.transform.LayerNorm.bias', 'cls.predictions.decoder.weight']\n",
      "- This IS expected if you are initializing BertForSequenceClassification from the checkpoint of a model trained on another task or with another architecture (e.g. initializing a BertForSequenceClassification model from a BertForPreTraining model).\n",
      "- This IS NOT expected if you are initializing BertForSequenceClassification from the checkpoint of a model that you expect to be exactly identical (initializing a BertForSequenceClassification model from a BertForSequenceClassification model).\n",
      "Some weights of BertForSequenceClassification were not initialized from the model checkpoint at nlpaueb/legal-bert-base-uncased and are newly initialized: ['classifier.bias', 'classifier.weight']\n",
      "You should probably TRAIN this model on a down-stream task to be able to use it for predictions and inference.\n"
     ]
    },
    {
     "data": {
      "text/html": [
       "wandb version 0.15.0 is available!  To upgrade, please run:\n",
       " $ pip install wandb --upgrade"
      ],
      "text/plain": [
       "<IPython.core.display.HTML object>"
      ]
     },
     "metadata": {},
     "output_type": "display_data"
    },
    {
     "data": {
      "text/html": [
       "Tracking run with wandb version 0.13.10"
      ],
      "text/plain": [
       "<IPython.core.display.HTML object>"
      ]
     },
     "metadata": {},
     "output_type": "display_data"
    },
    {
     "data": {
      "text/html": [
       "Run data is saved locally in <code>/home/g.marino/Desktop/GA/RhetoricalRolesClassification/BUILD/wandb/run-20230424_201519-apzd2i38</code>"
      ],
      "text/plain": [
       "<IPython.core.display.HTML object>"
      ]
     },
     "metadata": {},
     "output_type": "display_data"
    },
    {
     "data": {
      "text/html": [
       "Syncing run <strong><a href='https://wandb.ai/gmarinowandb-8601/RhetoricalRolesClassification-BUILD/runs/apzd2i38' target=\"_blank\">LEGAL-BERT-Trial15</a></strong> to <a href='https://wandb.ai/gmarinowandb-8601/RhetoricalRolesClassification-BUILD' target=\"_blank\">Weights & Biases</a> (<a href='https://wandb.me/run' target=\"_blank\">docs</a>)<br/>"
      ],
      "text/plain": [
       "<IPython.core.display.HTML object>"
      ]
     },
     "metadata": {},
     "output_type": "display_data"
    },
    {
     "data": {
      "text/html": [
       " View project at <a href='https://wandb.ai/gmarinowandb-8601/RhetoricalRolesClassification-BUILD' target=\"_blank\">https://wandb.ai/gmarinowandb-8601/RhetoricalRolesClassification-BUILD</a>"
      ],
      "text/plain": [
       "<IPython.core.display.HTML object>"
      ]
     },
     "metadata": {},
     "output_type": "display_data"
    },
    {
     "data": {
      "text/html": [
       " View run at <a href='https://wandb.ai/gmarinowandb-8601/RhetoricalRolesClassification-BUILD/runs/apzd2i38' target=\"_blank\">https://wandb.ai/gmarinowandb-8601/RhetoricalRolesClassification-BUILD/runs/apzd2i38</a>"
      ],
      "text/plain": [
       "<IPython.core.display.HTML object>"
      ]
     },
     "metadata": {},
     "output_type": "display_data"
    },
    {
     "name": "stdout",
     "output_type": "stream",
     "text": [
      "\n",
      "************** Training Started **************\n",
      "\n",
      "EPOCH N. 1\n"
     ]
    },
    {
     "name": "stderr",
     "output_type": "stream",
     "text": [
      "202it [00:39,  5.10it/s]\n"
     ]
    },
    {
     "name": "stdout",
     "output_type": "stream",
     "text": [
      "\n",
      "TRAIN RESULTS\n",
      "Loss: 0.012020123661323599\n",
      "Accuracy: 0.5208915812364088\n",
      "MCC: 0.35425044987479465\n",
      "Macro F1: 0.2787600455483703\n",
      "Macro Precision: 0.44275203470045776\n",
      "Macro Recall: 0.24540676480955942\n",
      "Micro F1: 0.5208915812364088\n",
      "Micro Precision: 0.5208915812364088\n",
      "Micro Recall: 0.5208915812364088\n",
      "\n",
      "VALIDATION RESULTS\n",
      "Loss: 0.009763151407241821\n",
      "Accuracy: 0.6097711811997526\n",
      "MCC: 0.4798470577564537\n",
      "Macro F1: 0.41930564865870174\n",
      "Macro Precision: 0.5130865317010994\n",
      "Macro Recall: 0.4084883007333803\n",
      "Micro F1: 0.6097711811997526\n",
      "Micro Precision: 0.6097711811997526\n",
      "Micro Recall: 0.6097711811997526\n",
      "--------------------------------------------------\n",
      "EPOCH N. 2\n"
     ]
    },
    {
     "name": "stderr",
     "output_type": "stream",
     "text": [
      "202it [00:42,  4.76it/s]\n"
     ]
    },
    {
     "name": "stdout",
     "output_type": "stream",
     "text": [
      "\n",
      "TRAIN RESULTS\n",
      "Loss: 0.007986311791808977\n",
      "Accuracy: 0.6709770114942529\n",
      "MCC: 0.5733008847671168\n",
      "Macro F1: 0.5016308521576535\n",
      "Macro Precision: 0.5759904364587866\n",
      "Macro Recall: 0.47801286999824516\n",
      "Micro F1: 0.6709770114942529\n",
      "Micro Precision: 0.6709770114942529\n",
      "Micro Recall: 0.6709770114942529\n",
      "\n",
      "VALIDATION RESULTS\n",
      "Loss: 0.00930187851190567\n",
      "Accuracy: 0.6332714904143476\n",
      "MCC: 0.5209548397636737\n",
      "Macro F1: 0.4758974922751077\n",
      "Macro Precision: 0.5324542974931262\n",
      "Macro Recall: 0.48362836203020143\n",
      "Micro F1: 0.6332714904143476\n",
      "Micro Precision: 0.6332714904143476\n",
      "Micro Recall: 0.6332714904143476\n",
      "--------------------------------------------------\n",
      "EPOCH N. 3\n"
     ]
    },
    {
     "name": "stderr",
     "output_type": "stream",
     "text": [
      "202it [00:38,  5.18it/s]\n"
     ]
    },
    {
     "name": "stdout",
     "output_type": "stream",
     "text": [
      "\n",
      "TRAIN RESULTS\n",
      "Loss: 0.006393030489516873\n",
      "Accuracy: 0.7320208139173656\n",
      "MCC: 0.6554394935143827\n",
      "Macro F1: 0.5877387081914085\n",
      "Macro Precision: 0.6458564226697203\n",
      "Macro Recall: 0.5606243652960419\n",
      "Micro F1: 0.7320208139173656\n",
      "Micro Precision: 0.7320208139173656\n",
      "Micro Recall: 0.7320208139173656\n",
      "\n",
      "VALIDATION RESULTS\n",
      "Loss: 0.009870722889900208\n",
      "Accuracy: 0.6298701298701299\n",
      "MCC: 0.5090853743424125\n",
      "Macro F1: 0.46853256090485745\n",
      "Macro Precision: 0.5714982695295482\n",
      "Macro Recall: 0.44205752616335325\n",
      "Micro F1: 0.6298701298701299\n",
      "Micro Precision: 0.6298701298701299\n",
      "Micro Recall: 0.6298701298701299\n",
      "--------------------------------------------------\n",
      "EPOCH N. 4\n"
     ]
    },
    {
     "name": "stderr",
     "output_type": "stream",
     "text": [
      "202it [00:38,  5.21it/s]\n"
     ]
    },
    {
     "name": "stdout",
     "output_type": "stream",
     "text": [
      "\n",
      "TRAIN RESULTS\n",
      "Loss: 0.00493438482289175\n",
      "Accuracy: 0.7969478098788444\n",
      "MCC: 0.7408309592699948\n",
      "Macro F1: 0.6694122266088374\n",
      "Macro Precision: 0.708025938720357\n",
      "Macro Recall: 0.6452730588429891\n",
      "Micro F1: 0.7969478098788444\n",
      "Micro Precision: 0.7969478098788444\n",
      "Micro Recall: 0.7969478098788444\n",
      "\n",
      "VALIDATION RESULTS\n",
      "Loss: 0.010594864375889301\n",
      "Accuracy: 0.616573902288188\n",
      "MCC: 0.5018624753664115\n",
      "Macro F1: 0.48484280765411875\n",
      "Macro Precision: 0.5199998165892133\n",
      "Macro Recall: 0.4765908597583947\n",
      "Micro F1: 0.616573902288188\n",
      "Micro Precision: 0.616573902288188\n",
      "Micro Recall: 0.616573902288188\n",
      "Early stopped training\n",
      "--------------------------------------------------\n"
     ]
    },
    {
     "data": {
      "text/html": [
       "Waiting for W&B process to finish... <strong style=\"color:green\">(success).</strong>"
      ],
      "text/plain": [
       "<IPython.core.display.HTML object>"
      ]
     },
     "metadata": {},
     "output_type": "display_data"
    },
    {
     "data": {
      "text/html": [
       "<style>\n",
       "    table.wandb td:nth-child(1) { padding: 0 10px; text-align: left ; width: auto;} td:nth-child(2) {text-align: left ; width: 100%}\n",
       "    .wandb-row { display: flex; flex-direction: row; flex-wrap: wrap; justify-content: flex-start; width: 100% }\n",
       "    .wandb-col { display: flex; flex-direction: column; flex-basis: 100%; flex: 1; padding: 10px; }\n",
       "    </style>\n",
       "<div class=\"wandb-row\"><div class=\"wandb-col\"><h3>Run history:</h3><br/><table class=\"wandb\"><tr><td>Epoch</td><td>▁▃▆█</td></tr><tr><td>Train Loss</td><td>█▄▂▁</td></tr><tr><td>Validation Loss</td><td>▃▁▄█</td></tr></table><br/></div><div class=\"wandb-col\"><h3>Run summary:</h3><br/><table class=\"wandb\"><tr><td>Epoch</td><td>4</td></tr><tr><td>Train Loss</td><td>0.00493</td></tr><tr><td>Validation Loss</td><td>0.01059</td></tr></table><br/></div></div>"
      ],
      "text/plain": [
       "<IPython.core.display.HTML object>"
      ]
     },
     "metadata": {},
     "output_type": "display_data"
    },
    {
     "data": {
      "text/html": [
       " View run <strong style=\"color:#cdcd00\">LEGAL-BERT-Trial15</strong> at: <a href='https://wandb.ai/gmarinowandb-8601/RhetoricalRolesClassification-BUILD/runs/apzd2i38' target=\"_blank\">https://wandb.ai/gmarinowandb-8601/RhetoricalRolesClassification-BUILD/runs/apzd2i38</a><br/>Synced 5 W&B file(s), 0 media file(s), 0 artifact file(s) and 0 other file(s)"
      ],
      "text/plain": [
       "<IPython.core.display.HTML object>"
      ]
     },
     "metadata": {},
     "output_type": "display_data"
    },
    {
     "data": {
      "text/html": [
       "Find logs at: <code>./wandb/run-20230424_201519-apzd2i38/logs</code>"
      ],
      "text/plain": [
       "<IPython.core.display.HTML object>"
      ]
     },
     "metadata": {},
     "output_type": "display_data"
    },
    {
     "name": "stderr",
     "output_type": "stream",
     "text": [
      "\u001b[32m[I 2023-04-24 20:18:37,807]\u001b[0m Trial 15 finished with value: 0.00930187851190567 and parameters: {'lr': 8.617313117421056e-05, 'weight_decay': 0.0993507182020963}. Best is trial 15 with value: 0.00930187851190567.\u001b[0m\n"
     ]
    },
    {
     "name": "stdout",
     "output_type": "stream",
     "text": [
      "\n",
      "************************ Starting New Optuna Trial ************************\n",
      "\n"
     ]
    },
    {
     "name": "stderr",
     "output_type": "stream",
     "text": [
      "Some weights of the model checkpoint at nlpaueb/legal-bert-base-uncased were not used when initializing BertForSequenceClassification: ['cls.predictions.bias', 'cls.predictions.transform.dense.bias', 'cls.predictions.transform.dense.weight', 'cls.seq_relationship.weight', 'cls.seq_relationship.bias', 'cls.predictions.transform.LayerNorm.weight', 'cls.predictions.decoder.bias', 'cls.predictions.transform.LayerNorm.bias', 'cls.predictions.decoder.weight']\n",
      "- This IS expected if you are initializing BertForSequenceClassification from the checkpoint of a model trained on another task or with another architecture (e.g. initializing a BertForSequenceClassification model from a BertForPreTraining model).\n",
      "- This IS NOT expected if you are initializing BertForSequenceClassification from the checkpoint of a model that you expect to be exactly identical (initializing a BertForSequenceClassification model from a BertForSequenceClassification model).\n",
      "Some weights of BertForSequenceClassification were not initialized from the model checkpoint at nlpaueb/legal-bert-base-uncased and are newly initialized: ['classifier.bias', 'classifier.weight']\n",
      "You should probably TRAIN this model on a down-stream task to be able to use it for predictions and inference.\n"
     ]
    },
    {
     "data": {
      "text/html": [
       "wandb version 0.15.0 is available!  To upgrade, please run:\n",
       " $ pip install wandb --upgrade"
      ],
      "text/plain": [
       "<IPython.core.display.HTML object>"
      ]
     },
     "metadata": {},
     "output_type": "display_data"
    },
    {
     "data": {
      "text/html": [
       "Tracking run with wandb version 0.13.10"
      ],
      "text/plain": [
       "<IPython.core.display.HTML object>"
      ]
     },
     "metadata": {},
     "output_type": "display_data"
    },
    {
     "data": {
      "text/html": [
       "Run data is saved locally in <code>/home/g.marino/Desktop/GA/RhetoricalRolesClassification/BUILD/wandb/run-20230424_201839-gwgby1ti</code>"
      ],
      "text/plain": [
       "<IPython.core.display.HTML object>"
      ]
     },
     "metadata": {},
     "output_type": "display_data"
    },
    {
     "data": {
      "text/html": [
       "Syncing run <strong><a href='https://wandb.ai/gmarinowandb-8601/RhetoricalRolesClassification-BUILD/runs/gwgby1ti' target=\"_blank\">LEGAL-BERT-Trial16</a></strong> to <a href='https://wandb.ai/gmarinowandb-8601/RhetoricalRolesClassification-BUILD' target=\"_blank\">Weights & Biases</a> (<a href='https://wandb.me/run' target=\"_blank\">docs</a>)<br/>"
      ],
      "text/plain": [
       "<IPython.core.display.HTML object>"
      ]
     },
     "metadata": {},
     "output_type": "display_data"
    },
    {
     "data": {
      "text/html": [
       " View project at <a href='https://wandb.ai/gmarinowandb-8601/RhetoricalRolesClassification-BUILD' target=\"_blank\">https://wandb.ai/gmarinowandb-8601/RhetoricalRolesClassification-BUILD</a>"
      ],
      "text/plain": [
       "<IPython.core.display.HTML object>"
      ]
     },
     "metadata": {},
     "output_type": "display_data"
    },
    {
     "data": {
      "text/html": [
       " View run at <a href='https://wandb.ai/gmarinowandb-8601/RhetoricalRolesClassification-BUILD/runs/gwgby1ti' target=\"_blank\">https://wandb.ai/gmarinowandb-8601/RhetoricalRolesClassification-BUILD/runs/gwgby1ti</a>"
      ],
      "text/plain": [
       "<IPython.core.display.HTML object>"
      ]
     },
     "metadata": {},
     "output_type": "display_data"
    },
    {
     "name": "stdout",
     "output_type": "stream",
     "text": [
      "\n",
      "************** Training Started **************\n",
      "\n",
      "EPOCH N. 1\n"
     ]
    },
    {
     "name": "stderr",
     "output_type": "stream",
     "text": [
      "202it [00:40,  5.04it/s]\n"
     ]
    },
    {
     "name": "stdout",
     "output_type": "stream",
     "text": [
      "\n",
      "TRAIN RESULTS\n",
      "Loss: 0.014236909011277622\n",
      "Accuracy: 0.4307626592109351\n",
      "MCC: 0.20241959429293405\n",
      "Macro F1: 0.10536433445699532\n",
      "Macro Precision: 0.14186931721656182\n",
      "Macro Recall: 0.12236511963526936\n",
      "Micro F1: 0.4307626592109351\n",
      "Micro Precision: 0.4307626592109351\n",
      "Micro Recall: 0.4307626592109351\n",
      "\n",
      "VALIDATION RESULTS\n",
      "Loss: 0.013582955114543438\n",
      "Accuracy: 0.4706246134817563\n",
      "MCC: 0.28267681607469436\n",
      "Macro F1: 0.12384402770577159\n",
      "Macro Precision: 0.11039067460769376\n",
      "Macro Recall: 0.148050742445468\n",
      "Micro F1: 0.4706246134817563\n",
      "Micro Precision: 0.4706246134817563\n",
      "Micro Recall: 0.4706246134817563\n",
      "--------------------------------------------------\n"
     ]
    },
    {
     "data": {
      "text/html": [
       "Waiting for W&B process to finish... <strong style=\"color:red\">(failed 1).</strong> Press Control-C to abort syncing."
      ],
      "text/plain": [
       "<IPython.core.display.HTML object>"
      ]
     },
     "metadata": {},
     "output_type": "display_data"
    },
    {
     "data": {
      "application/vnd.jupyter.widget-view+json": {
       "model_id": "45c864a7f58840ffa18ff2fcc90e2f9e",
       "version_major": 2,
       "version_minor": 0
      },
      "text/plain": [
       "VBox(children=(Label(value='0.005 MB of 0.005 MB uploaded (0.000 MB deduped)\\r'), FloatProgress(value=1.0, max…"
      ]
     },
     "metadata": {},
     "output_type": "display_data"
    },
    {
     "data": {
      "text/html": [
       "<style>\n",
       "    table.wandb td:nth-child(1) { padding: 0 10px; text-align: left ; width: auto;} td:nth-child(2) {text-align: left ; width: 100%}\n",
       "    .wandb-row { display: flex; flex-direction: row; flex-wrap: wrap; justify-content: flex-start; width: 100% }\n",
       "    .wandb-col { display: flex; flex-direction: column; flex-basis: 100%; flex: 1; padding: 10px; }\n",
       "    </style>\n",
       "<div class=\"wandb-row\"><div class=\"wandb-col\"><h3>Run history:</h3><br/><table class=\"wandb\"><tr><td>Epoch</td><td>▁</td></tr><tr><td>Train Loss</td><td>▁</td></tr><tr><td>Validation Loss</td><td>▁</td></tr></table><br/></div><div class=\"wandb-col\"><h3>Run summary:</h3><br/><table class=\"wandb\"><tr><td>Epoch</td><td>1</td></tr><tr><td>Train Loss</td><td>0.01424</td></tr><tr><td>Validation Loss</td><td>0.01358</td></tr></table><br/></div></div>"
      ],
      "text/plain": [
       "<IPython.core.display.HTML object>"
      ]
     },
     "metadata": {},
     "output_type": "display_data"
    },
    {
     "data": {
      "text/html": [
       " View run <strong style=\"color:#cdcd00\">LEGAL-BERT-Trial16</strong> at: <a href='https://wandb.ai/gmarinowandb-8601/RhetoricalRolesClassification-BUILD/runs/gwgby1ti' target=\"_blank\">https://wandb.ai/gmarinowandb-8601/RhetoricalRolesClassification-BUILD/runs/gwgby1ti</a><br/>Synced 5 W&B file(s), 0 media file(s), 0 artifact file(s) and 0 other file(s)"
      ],
      "text/plain": [
       "<IPython.core.display.HTML object>"
      ]
     },
     "metadata": {},
     "output_type": "display_data"
    },
    {
     "data": {
      "text/html": [
       "Find logs at: <code>./wandb/run-20230424_201839-gwgby1ti/logs</code>"
      ],
      "text/plain": [
       "<IPython.core.display.HTML object>"
      ]
     },
     "metadata": {},
     "output_type": "display_data"
    },
    {
     "name": "stderr",
     "output_type": "stream",
     "text": [
      "\u001b[32m[I 2023-04-24 20:19:39,674]\u001b[0m Trial 16 pruned. \u001b[0m\n"
     ]
    },
    {
     "name": "stdout",
     "output_type": "stream",
     "text": [
      "\n",
      "************************ Starting New Optuna Trial ************************\n",
      "\n"
     ]
    },
    {
     "name": "stderr",
     "output_type": "stream",
     "text": [
      "Some weights of the model checkpoint at nlpaueb/legal-bert-base-uncased were not used when initializing BertForSequenceClassification: ['cls.predictions.bias', 'cls.predictions.transform.dense.bias', 'cls.predictions.transform.dense.weight', 'cls.seq_relationship.weight', 'cls.seq_relationship.bias', 'cls.predictions.transform.LayerNorm.weight', 'cls.predictions.decoder.bias', 'cls.predictions.transform.LayerNorm.bias', 'cls.predictions.decoder.weight']\n",
      "- This IS expected if you are initializing BertForSequenceClassification from the checkpoint of a model trained on another task or with another architecture (e.g. initializing a BertForSequenceClassification model from a BertForPreTraining model).\n",
      "- This IS NOT expected if you are initializing BertForSequenceClassification from the checkpoint of a model that you expect to be exactly identical (initializing a BertForSequenceClassification model from a BertForSequenceClassification model).\n",
      "Some weights of BertForSequenceClassification were not initialized from the model checkpoint at nlpaueb/legal-bert-base-uncased and are newly initialized: ['classifier.bias', 'classifier.weight']\n",
      "You should probably TRAIN this model on a down-stream task to be able to use it for predictions and inference.\n"
     ]
    },
    {
     "data": {
      "text/html": [
       "wandb version 0.15.0 is available!  To upgrade, please run:\n",
       " $ pip install wandb --upgrade"
      ],
      "text/plain": [
       "<IPython.core.display.HTML object>"
      ]
     },
     "metadata": {},
     "output_type": "display_data"
    },
    {
     "data": {
      "text/html": [
       "Tracking run with wandb version 0.13.10"
      ],
      "text/plain": [
       "<IPython.core.display.HTML object>"
      ]
     },
     "metadata": {},
     "output_type": "display_data"
    },
    {
     "data": {
      "text/html": [
       "Run data is saved locally in <code>/home/g.marino/Desktop/GA/RhetoricalRolesClassification/BUILD/wandb/run-20230424_201941-yh38e113</code>"
      ],
      "text/plain": [
       "<IPython.core.display.HTML object>"
      ]
     },
     "metadata": {},
     "output_type": "display_data"
    },
    {
     "data": {
      "text/html": [
       "Syncing run <strong><a href='https://wandb.ai/gmarinowandb-8601/RhetoricalRolesClassification-BUILD/runs/yh38e113' target=\"_blank\">LEGAL-BERT-Trial17</a></strong> to <a href='https://wandb.ai/gmarinowandb-8601/RhetoricalRolesClassification-BUILD' target=\"_blank\">Weights & Biases</a> (<a href='https://wandb.me/run' target=\"_blank\">docs</a>)<br/>"
      ],
      "text/plain": [
       "<IPython.core.display.HTML object>"
      ]
     },
     "metadata": {},
     "output_type": "display_data"
    },
    {
     "data": {
      "text/html": [
       " View project at <a href='https://wandb.ai/gmarinowandb-8601/RhetoricalRolesClassification-BUILD' target=\"_blank\">https://wandb.ai/gmarinowandb-8601/RhetoricalRolesClassification-BUILD</a>"
      ],
      "text/plain": [
       "<IPython.core.display.HTML object>"
      ]
     },
     "metadata": {},
     "output_type": "display_data"
    },
    {
     "data": {
      "text/html": [
       " View run at <a href='https://wandb.ai/gmarinowandb-8601/RhetoricalRolesClassification-BUILD/runs/yh38e113' target=\"_blank\">https://wandb.ai/gmarinowandb-8601/RhetoricalRolesClassification-BUILD/runs/yh38e113</a>"
      ],
      "text/plain": [
       "<IPython.core.display.HTML object>"
      ]
     },
     "metadata": {},
     "output_type": "display_data"
    },
    {
     "name": "stdout",
     "output_type": "stream",
     "text": [
      "\n",
      "************** Training Started **************\n",
      "\n",
      "EPOCH N. 1\n"
     ]
    },
    {
     "name": "stderr",
     "output_type": "stream",
     "text": [
      "202it [00:45,  4.40it/s]\n"
     ]
    },
    {
     "name": "stdout",
     "output_type": "stream",
     "text": [
      "\n",
      "TRAIN RESULTS\n",
      "Loss: 0.012218573183034214\n",
      "Accuracy: 0.509591488039764\n",
      "MCC: 0.33962166080168615\n",
      "Macro F1: 0.2500712991567691\n",
      "Macro Precision: 0.3914503129837634\n",
      "Macro Recall: 0.23309369215672618\n",
      "Micro F1: 0.509591488039764\n",
      "Micro Precision: 0.509591488039764\n",
      "Micro Recall: 0.509591488039764\n",
      "\n",
      "VALIDATION RESULTS\n",
      "Loss: 0.010087360627949238\n",
      "Accuracy: 0.6060606060606061\n",
      "MCC: 0.47913151010225813\n",
      "Macro F1: 0.39126739884975387\n",
      "Macro Precision: 0.49445451598259377\n",
      "Macro Recall: 0.3983838267957625\n",
      "Micro F1: 0.6060606060606061\n",
      "Micro Precision: 0.6060606060606061\n",
      "Micro Recall: 0.6060606060606061\n",
      "--------------------------------------------------\n",
      "EPOCH N. 2\n"
     ]
    },
    {
     "name": "stderr",
     "output_type": "stream",
     "text": [
      "202it [00:41,  4.84it/s]\n"
     ]
    },
    {
     "name": "stdout",
     "output_type": "stream",
     "text": [
      "\n",
      "TRAIN RESULTS\n",
      "Loss: 0.008118424403737813\n",
      "Accuracy: 0.6663560111835974\n",
      "MCC: 0.5673108872802071\n",
      "Macro F1: 0.4969475813052183\n",
      "Macro Precision: 0.565461803926653\n",
      "Macro Recall: 0.47527693986965974\n",
      "Micro F1: 0.6663560111835974\n",
      "Micro Precision: 0.6663560111835974\n",
      "Micro Recall: 0.6663560111835974\n",
      "\n",
      "VALIDATION RESULTS\n",
      "Loss: 0.009286207146942616\n",
      "Accuracy: 0.6307977736549165\n",
      "MCC: 0.5154079128075373\n",
      "Macro F1: 0.47691455825189516\n",
      "Macro Precision: 0.4977371694365764\n",
      "Macro Recall: 0.47321503000463294\n",
      "Micro F1: 0.6307977736549165\n",
      "Micro Precision: 0.6307977736549165\n",
      "Micro Recall: 0.6307977736549165\n",
      "--------------------------------------------------\n",
      "EPOCH N. 3\n"
     ]
    },
    {
     "name": "stderr",
     "output_type": "stream",
     "text": [
      "202it [00:41,  4.84it/s]\n"
     ]
    },
    {
     "name": "stdout",
     "output_type": "stream",
     "text": [
      "\n",
      "TRAIN RESULTS\n",
      "Loss: 0.0064509355501567184\n",
      "Accuracy: 0.731865486175831\n",
      "MCC: 0.6554317262294267\n",
      "Macro F1: 0.5866386532791549\n",
      "Macro Precision: 0.6513383745070799\n",
      "Macro Recall: 0.5633498746097286\n",
      "Micro F1: 0.731865486175831\n",
      "Micro Precision: 0.731865486175831\n",
      "Micro Recall: 0.731865486175831\n",
      "\n",
      "VALIDATION RESULTS\n",
      "Loss: 0.009630149230360985\n",
      "Accuracy: 0.6187384044526901\n",
      "MCC: 0.5021717110374212\n",
      "Macro F1: 0.4749171570494102\n",
      "Macro Precision: 0.5167614947184522\n",
      "Macro Recall: 0.47861385857886174\n",
      "Micro F1: 0.6187384044526901\n",
      "Micro Precision: 0.6187384044526901\n",
      "Micro Recall: 0.6187384044526901\n",
      "--------------------------------------------------\n",
      "EPOCH N. 4\n"
     ]
    },
    {
     "name": "stderr",
     "output_type": "stream",
     "text": [
      "202it [00:41,  4.90it/s]\n"
     ]
    },
    {
     "name": "stdout",
     "output_type": "stream",
     "text": [
      "\n",
      "TRAIN RESULTS\n",
      "Loss: 0.0048869110090682955\n",
      "Accuracy: 0.7943072382727555\n",
      "MCC: 0.7375188198235414\n",
      "Macro F1: 0.6700384708889189\n",
      "Macro Precision: 0.7116624582120608\n",
      "Macro Recall: 0.6466226174381975\n",
      "Micro F1: 0.7943072382727555\n",
      "Micro Precision: 0.7943072382727555\n",
      "Micro Recall: 0.7943072382727555\n",
      "\n",
      "VALIDATION RESULTS\n",
      "Loss: 0.011167100630700588\n",
      "Accuracy: 0.5748299319727891\n",
      "MCC: 0.47546726375309556\n",
      "Macro F1: 0.4744292513484467\n",
      "Macro Precision: 0.45532099760277284\n",
      "Macro Recall: 0.5206783921414334\n",
      "Micro F1: 0.5748299319727891\n",
      "Micro Precision: 0.5748299319727891\n",
      "Micro Recall: 0.5748299319727891\n",
      "Early stopped training\n",
      "--------------------------------------------------\n"
     ]
    },
    {
     "data": {
      "text/html": [
       "Waiting for W&B process to finish... <strong style=\"color:green\">(success).</strong>"
      ],
      "text/plain": [
       "<IPython.core.display.HTML object>"
      ]
     },
     "metadata": {},
     "output_type": "display_data"
    },
    {
     "data": {
      "text/html": [
       "<style>\n",
       "    table.wandb td:nth-child(1) { padding: 0 10px; text-align: left ; width: auto;} td:nth-child(2) {text-align: left ; width: 100%}\n",
       "    .wandb-row { display: flex; flex-direction: row; flex-wrap: wrap; justify-content: flex-start; width: 100% }\n",
       "    .wandb-col { display: flex; flex-direction: column; flex-basis: 100%; flex: 1; padding: 10px; }\n",
       "    </style>\n",
       "<div class=\"wandb-row\"><div class=\"wandb-col\"><h3>Run history:</h3><br/><table class=\"wandb\"><tr><td>Epoch</td><td>▁▃▆█</td></tr><tr><td>Train Loss</td><td>█▄▂▁</td></tr><tr><td>Validation Loss</td><td>▄▁▂█</td></tr></table><br/></div><div class=\"wandb-col\"><h3>Run summary:</h3><br/><table class=\"wandb\"><tr><td>Epoch</td><td>4</td></tr><tr><td>Train Loss</td><td>0.00489</td></tr><tr><td>Validation Loss</td><td>0.01117</td></tr></table><br/></div></div>"
      ],
      "text/plain": [
       "<IPython.core.display.HTML object>"
      ]
     },
     "metadata": {},
     "output_type": "display_data"
    },
    {
     "data": {
      "text/html": [
       " View run <strong style=\"color:#cdcd00\">LEGAL-BERT-Trial17</strong> at: <a href='https://wandb.ai/gmarinowandb-8601/RhetoricalRolesClassification-BUILD/runs/yh38e113' target=\"_blank\">https://wandb.ai/gmarinowandb-8601/RhetoricalRolesClassification-BUILD/runs/yh38e113</a><br/>Synced 5 W&B file(s), 0 media file(s), 0 artifact file(s) and 0 other file(s)"
      ],
      "text/plain": [
       "<IPython.core.display.HTML object>"
      ]
     },
     "metadata": {},
     "output_type": "display_data"
    },
    {
     "data": {
      "text/html": [
       "Find logs at: <code>./wandb/run-20230424_201941-yh38e113/logs</code>"
      ],
      "text/plain": [
       "<IPython.core.display.HTML object>"
      ]
     },
     "metadata": {},
     "output_type": "display_data"
    },
    {
     "name": "stderr",
     "output_type": "stream",
     "text": [
      "\u001b[32m[I 2023-04-24 20:23:07,569]\u001b[0m Trial 17 finished with value: 0.009286207146942616 and parameters: {'lr': 9.214269999286719e-05, 'weight_decay': 0.07376564015272116}. Best is trial 17 with value: 0.009286207146942616.\u001b[0m\n"
     ]
    },
    {
     "name": "stdout",
     "output_type": "stream",
     "text": [
      "\n",
      "************************ Starting New Optuna Trial ************************\n",
      "\n"
     ]
    },
    {
     "name": "stderr",
     "output_type": "stream",
     "text": [
      "Some weights of the model checkpoint at nlpaueb/legal-bert-base-uncased were not used when initializing BertForSequenceClassification: ['cls.predictions.bias', 'cls.predictions.transform.dense.bias', 'cls.predictions.transform.dense.weight', 'cls.seq_relationship.weight', 'cls.seq_relationship.bias', 'cls.predictions.transform.LayerNorm.weight', 'cls.predictions.decoder.bias', 'cls.predictions.transform.LayerNorm.bias', 'cls.predictions.decoder.weight']\n",
      "- This IS expected if you are initializing BertForSequenceClassification from the checkpoint of a model trained on another task or with another architecture (e.g. initializing a BertForSequenceClassification model from a BertForPreTraining model).\n",
      "- This IS NOT expected if you are initializing BertForSequenceClassification from the checkpoint of a model that you expect to be exactly identical (initializing a BertForSequenceClassification model from a BertForSequenceClassification model).\n",
      "Some weights of BertForSequenceClassification were not initialized from the model checkpoint at nlpaueb/legal-bert-base-uncased and are newly initialized: ['classifier.bias', 'classifier.weight']\n",
      "You should probably TRAIN this model on a down-stream task to be able to use it for predictions and inference.\n"
     ]
    },
    {
     "data": {
      "application/vnd.jupyter.widget-view+json": {
       "model_id": "58adf98afc5d4739b40c58e33c43d390",
       "version_major": 2,
       "version_minor": 0
      },
      "text/plain": [
       "VBox(children=(Label(value='Waiting for wandb.init()...\\r'), FloatProgress(value=0.016668529847326377, max=1.0…"
      ]
     },
     "metadata": {},
     "output_type": "display_data"
    },
    {
     "data": {
      "text/html": [
       "wandb version 0.15.0 is available!  To upgrade, please run:\n",
       " $ pip install wandb --upgrade"
      ],
      "text/plain": [
       "<IPython.core.display.HTML object>"
      ]
     },
     "metadata": {},
     "output_type": "display_data"
    },
    {
     "data": {
      "text/html": [
       "Tracking run with wandb version 0.13.10"
      ],
      "text/plain": [
       "<IPython.core.display.HTML object>"
      ]
     },
     "metadata": {},
     "output_type": "display_data"
    },
    {
     "data": {
      "text/html": [
       "Run data is saved locally in <code>/home/g.marino/Desktop/GA/RhetoricalRolesClassification/BUILD/wandb/run-20230424_202309-udjuicja</code>"
      ],
      "text/plain": [
       "<IPython.core.display.HTML object>"
      ]
     },
     "metadata": {},
     "output_type": "display_data"
    },
    {
     "data": {
      "text/html": [
       "Syncing run <strong><a href='https://wandb.ai/gmarinowandb-8601/RhetoricalRolesClassification-BUILD/runs/udjuicja' target=\"_blank\">LEGAL-BERT-Trial18</a></strong> to <a href='https://wandb.ai/gmarinowandb-8601/RhetoricalRolesClassification-BUILD' target=\"_blank\">Weights & Biases</a> (<a href='https://wandb.me/run' target=\"_blank\">docs</a>)<br/>"
      ],
      "text/plain": [
       "<IPython.core.display.HTML object>"
      ]
     },
     "metadata": {},
     "output_type": "display_data"
    },
    {
     "data": {
      "text/html": [
       " View project at <a href='https://wandb.ai/gmarinowandb-8601/RhetoricalRolesClassification-BUILD' target=\"_blank\">https://wandb.ai/gmarinowandb-8601/RhetoricalRolesClassification-BUILD</a>"
      ],
      "text/plain": [
       "<IPython.core.display.HTML object>"
      ]
     },
     "metadata": {},
     "output_type": "display_data"
    },
    {
     "data": {
      "text/html": [
       " View run at <a href='https://wandb.ai/gmarinowandb-8601/RhetoricalRolesClassification-BUILD/runs/udjuicja' target=\"_blank\">https://wandb.ai/gmarinowandb-8601/RhetoricalRolesClassification-BUILD/runs/udjuicja</a>"
      ],
      "text/plain": [
       "<IPython.core.display.HTML object>"
      ]
     },
     "metadata": {},
     "output_type": "display_data"
    },
    {
     "name": "stdout",
     "output_type": "stream",
     "text": [
      "\n",
      "************** Training Started **************\n",
      "\n",
      "EPOCH N. 1\n"
     ]
    },
    {
     "name": "stderr",
     "output_type": "stream",
     "text": [
      "202it [00:43,  4.67it/s]\n"
     ]
    },
    {
     "name": "stdout",
     "output_type": "stream",
     "text": [
      "\n",
      "TRAIN RESULTS\n",
      "Loss: 0.015187772322456524\n",
      "Accuracy: 0.3887853370611991\n",
      "MCC: 0.12439322735919622\n",
      "Macro F1: 0.07722856896148525\n",
      "Macro Precision: 0.11649606089585605\n",
      "Macro Recall: 0.10101156972551283\n",
      "Micro F1: 0.3887853370611991\n",
      "Micro Precision: 0.3887853370611991\n",
      "Micro Recall: 0.3887853370611991\n",
      "\n",
      "VALIDATION RESULTS\n",
      "Loss: 0.01474437490105629\n",
      "Accuracy: 0.42578849721706863\n",
      "MCC: 0.18956139172274192\n",
      "Macro F1: 0.08008158575878208\n",
      "Macro Precision: 0.061633549896460686\n",
      "Macro Recall: 0.1143224335919055\n",
      "Micro F1: 0.4257884972170686\n",
      "Micro Precision: 0.42578849721706863\n",
      "Micro Recall: 0.42578849721706863\n",
      "--------------------------------------------------\n"
     ]
    },
    {
     "data": {
      "text/html": [
       "Waiting for W&B process to finish... <strong style=\"color:red\">(failed 1).</strong> Press Control-C to abort syncing."
      ],
      "text/plain": [
       "<IPython.core.display.HTML object>"
      ]
     },
     "metadata": {},
     "output_type": "display_data"
    },
    {
     "data": {
      "application/vnd.jupyter.widget-view+json": {
       "model_id": "9d4f2b54957e44dfb18b8fa83d1dfdd7",
       "version_major": 2,
       "version_minor": 0
      },
      "text/plain": [
       "VBox(children=(Label(value='0.005 MB of 0.005 MB uploaded (0.000 MB deduped)\\r'), FloatProgress(value=1.0, max…"
      ]
     },
     "metadata": {},
     "output_type": "display_data"
    },
    {
     "data": {
      "text/html": [
       "<style>\n",
       "    table.wandb td:nth-child(1) { padding: 0 10px; text-align: left ; width: auto;} td:nth-child(2) {text-align: left ; width: 100%}\n",
       "    .wandb-row { display: flex; flex-direction: row; flex-wrap: wrap; justify-content: flex-start; width: 100% }\n",
       "    .wandb-col { display: flex; flex-direction: column; flex-basis: 100%; flex: 1; padding: 10px; }\n",
       "    </style>\n",
       "<div class=\"wandb-row\"><div class=\"wandb-col\"><h3>Run history:</h3><br/><table class=\"wandb\"><tr><td>Epoch</td><td>▁</td></tr><tr><td>Train Loss</td><td>▁</td></tr><tr><td>Validation Loss</td><td>▁</td></tr></table><br/></div><div class=\"wandb-col\"><h3>Run summary:</h3><br/><table class=\"wandb\"><tr><td>Epoch</td><td>1</td></tr><tr><td>Train Loss</td><td>0.01519</td></tr><tr><td>Validation Loss</td><td>0.01474</td></tr></table><br/></div></div>"
      ],
      "text/plain": [
       "<IPython.core.display.HTML object>"
      ]
     },
     "metadata": {},
     "output_type": "display_data"
    },
    {
     "data": {
      "text/html": [
       " View run <strong style=\"color:#cdcd00\">LEGAL-BERT-Trial18</strong> at: <a href='https://wandb.ai/gmarinowandb-8601/RhetoricalRolesClassification-BUILD/runs/udjuicja' target=\"_blank\">https://wandb.ai/gmarinowandb-8601/RhetoricalRolesClassification-BUILD/runs/udjuicja</a><br/>Synced 5 W&B file(s), 0 media file(s), 0 artifact file(s) and 0 other file(s)"
      ],
      "text/plain": [
       "<IPython.core.display.HTML object>"
      ]
     },
     "metadata": {},
     "output_type": "display_data"
    },
    {
     "data": {
      "text/html": [
       "Find logs at: <code>./wandb/run-20230424_202309-udjuicja/logs</code>"
      ],
      "text/plain": [
       "<IPython.core.display.HTML object>"
      ]
     },
     "metadata": {},
     "output_type": "display_data"
    },
    {
     "name": "stderr",
     "output_type": "stream",
     "text": [
      "\u001b[32m[I 2023-04-24 20:24:22,564]\u001b[0m Trial 18 pruned. \u001b[0m\n"
     ]
    },
    {
     "name": "stdout",
     "output_type": "stream",
     "text": [
      "\n",
      "************************ Starting New Optuna Trial ************************\n",
      "\n"
     ]
    },
    {
     "name": "stderr",
     "output_type": "stream",
     "text": [
      "Some weights of the model checkpoint at nlpaueb/legal-bert-base-uncased were not used when initializing BertForSequenceClassification: ['cls.predictions.bias', 'cls.predictions.transform.dense.bias', 'cls.predictions.transform.dense.weight', 'cls.seq_relationship.weight', 'cls.seq_relationship.bias', 'cls.predictions.transform.LayerNorm.weight', 'cls.predictions.decoder.bias', 'cls.predictions.transform.LayerNorm.bias', 'cls.predictions.decoder.weight']\n",
      "- This IS expected if you are initializing BertForSequenceClassification from the checkpoint of a model trained on another task or with another architecture (e.g. initializing a BertForSequenceClassification model from a BertForPreTraining model).\n",
      "- This IS NOT expected if you are initializing BertForSequenceClassification from the checkpoint of a model that you expect to be exactly identical (initializing a BertForSequenceClassification model from a BertForSequenceClassification model).\n",
      "Some weights of BertForSequenceClassification were not initialized from the model checkpoint at nlpaueb/legal-bert-base-uncased and are newly initialized: ['classifier.bias', 'classifier.weight']\n",
      "You should probably TRAIN this model on a down-stream task to be able to use it for predictions and inference.\n"
     ]
    },
    {
     "data": {
      "text/html": [
       "wandb version 0.15.0 is available!  To upgrade, please run:\n",
       " $ pip install wandb --upgrade"
      ],
      "text/plain": [
       "<IPython.core.display.HTML object>"
      ]
     },
     "metadata": {},
     "output_type": "display_data"
    },
    {
     "data": {
      "text/html": [
       "Tracking run with wandb version 0.13.10"
      ],
      "text/plain": [
       "<IPython.core.display.HTML object>"
      ]
     },
     "metadata": {},
     "output_type": "display_data"
    },
    {
     "data": {
      "text/html": [
       "Run data is saved locally in <code>/home/g.marino/Desktop/GA/RhetoricalRolesClassification/BUILD/wandb/run-20230424_202423-9m5co5vo</code>"
      ],
      "text/plain": [
       "<IPython.core.display.HTML object>"
      ]
     },
     "metadata": {},
     "output_type": "display_data"
    },
    {
     "data": {
      "text/html": [
       "Syncing run <strong><a href='https://wandb.ai/gmarinowandb-8601/RhetoricalRolesClassification-BUILD/runs/9m5co5vo' target=\"_blank\">LEGAL-BERT-Trial19</a></strong> to <a href='https://wandb.ai/gmarinowandb-8601/RhetoricalRolesClassification-BUILD' target=\"_blank\">Weights & Biases</a> (<a href='https://wandb.me/run' target=\"_blank\">docs</a>)<br/>"
      ],
      "text/plain": [
       "<IPython.core.display.HTML object>"
      ]
     },
     "metadata": {},
     "output_type": "display_data"
    },
    {
     "data": {
      "text/html": [
       " View project at <a href='https://wandb.ai/gmarinowandb-8601/RhetoricalRolesClassification-BUILD' target=\"_blank\">https://wandb.ai/gmarinowandb-8601/RhetoricalRolesClassification-BUILD</a>"
      ],
      "text/plain": [
       "<IPython.core.display.HTML object>"
      ]
     },
     "metadata": {},
     "output_type": "display_data"
    },
    {
     "data": {
      "text/html": [
       " View run at <a href='https://wandb.ai/gmarinowandb-8601/RhetoricalRolesClassification-BUILD/runs/9m5co5vo' target=\"_blank\">https://wandb.ai/gmarinowandb-8601/RhetoricalRolesClassification-BUILD/runs/9m5co5vo</a>"
      ],
      "text/plain": [
       "<IPython.core.display.HTML object>"
      ]
     },
     "metadata": {},
     "output_type": "display_data"
    },
    {
     "name": "stdout",
     "output_type": "stream",
     "text": [
      "\n",
      "************** Training Started **************\n",
      "\n",
      "EPOCH N. 1\n"
     ]
    },
    {
     "name": "stderr",
     "output_type": "stream",
     "text": [
      "202it [00:43,  4.68it/s]\n"
     ]
    },
    {
     "name": "stdout",
     "output_type": "stream",
     "text": [
      "\n",
      "TRAIN RESULTS\n",
      "Loss: 0.013676341418228967\n",
      "Accuracy: 0.4479263746505126\n",
      "MCC: 0.23744836689543725\n",
      "Macro F1: 0.13735218254613096\n",
      "Macro Precision: 0.23500348099221988\n",
      "Macro Recall: 0.14371245595561877\n",
      "Micro F1: 0.4479263746505126\n",
      "Micro Precision: 0.4479263746505126\n",
      "Micro Recall: 0.4479263746505126\n",
      "\n",
      "VALIDATION RESULTS\n",
      "Loss: 0.01171767245978117\n",
      "Accuracy: 0.551638837353123\n",
      "MCC: 0.3853893077501666\n",
      "Macro F1: 0.22483272754005665\n",
      "Macro Precision: 0.3091752385614627\n",
      "Macro Recall: 0.2245676303564809\n",
      "Micro F1: 0.551638837353123\n",
      "Micro Precision: 0.551638837353123\n",
      "Micro Recall: 0.551638837353123\n",
      "--------------------------------------------------\n",
      "EPOCH N. 2\n"
     ]
    },
    {
     "name": "stderr",
     "output_type": "stream",
     "text": [
      "202it [00:40,  5.01it/s]\n"
     ]
    },
    {
     "name": "stdout",
     "output_type": "stream",
     "text": [
      "\n",
      "TRAIN RESULTS\n",
      "Loss: 0.009462788872335148\n",
      "Accuracy: 0.6169617893755824\n",
      "MCC: 0.49829658953098493\n",
      "Macro F1: 0.42169108976436154\n",
      "Macro Precision: 0.5441519610079607\n",
      "Macro Recall: 0.3945348244761\n",
      "Micro F1: 0.6169617893755824\n",
      "Micro Precision: 0.6169617893755824\n",
      "Micro Recall: 0.6169617893755824\n",
      "\n",
      "VALIDATION RESULTS\n",
      "Loss: 0.009593815542757511\n",
      "Accuracy: 0.6175015460729747\n",
      "MCC: 0.4972163920626707\n",
      "Macro F1: 0.43445895880272756\n",
      "Macro Precision: 0.44246697351679515\n",
      "Macro Recall: 0.4448504162114355\n",
      "Micro F1: 0.6175015460729747\n",
      "Micro Precision: 0.6175015460729747\n",
      "Micro Recall: 0.6175015460729747\n",
      "--------------------------------------------------\n",
      "EPOCH N. 3\n"
     ]
    },
    {
     "name": "stderr",
     "output_type": "stream",
     "text": [
      "202it [00:42,  4.81it/s]\n"
     ]
    },
    {
     "name": "stdout",
     "output_type": "stream",
     "text": [
      "\n",
      "TRAIN RESULTS\n",
      "Loss: 0.007585214067316455\n",
      "Accuracy: 0.6859273066169618\n",
      "MCC: 0.5939098038208267\n",
      "Macro F1: 0.5239947649701275\n",
      "Macro Precision: 0.5982547319603448\n",
      "Macro Recall: 0.5040247160781033\n",
      "Micro F1: 0.6859273066169618\n",
      "Micro Precision: 0.6859273066169618\n",
      "Micro Recall: 0.6859273066169618\n",
      "\n",
      "VALIDATION RESULTS\n",
      "Loss: 0.00951305590569973\n",
      "Accuracy: 0.6125541125541125\n",
      "MCC: 0.5065673331261046\n",
      "Macro F1: 0.47051053915272567\n",
      "Macro Precision: 0.5040585126943081\n",
      "Macro Recall: 0.4813776509825328\n",
      "Micro F1: 0.6125541125541125\n",
      "Micro Precision: 0.6125541125541125\n",
      "Micro Recall: 0.6125541125541125\n",
      "--------------------------------------------------\n",
      "EPOCH N. 4\n"
     ]
    },
    {
     "name": "stderr",
     "output_type": "stream",
     "text": [
      "202it [00:41,  4.90it/s]\n"
     ]
    },
    {
     "name": "stdout",
     "output_type": "stream",
     "text": [
      "\n",
      "TRAIN RESULTS\n",
      "Loss: 0.006190132505962589\n",
      "Accuracy: 0.7367583100341721\n",
      "MCC: 0.6619280870928297\n",
      "Macro F1: 0.5878835983082936\n",
      "Macro Precision: 0.6508525488791481\n",
      "Macro Recall: 0.5676785866458431\n",
      "Micro F1: 0.7367583100341721\n",
      "Micro Precision: 0.7367583100341721\n",
      "Micro Recall: 0.7367583100341721\n",
      "\n",
      "VALIDATION RESULTS\n",
      "Loss: 0.010240047238767147\n",
      "Accuracy: 0.6103896103896104\n",
      "MCC: 0.48817694508981835\n",
      "Macro F1: 0.447319198189461\n",
      "Macro Precision: 0.49726493091074925\n",
      "Macro Recall: 0.4463708049740457\n",
      "Micro F1: 0.6103896103896104\n",
      "Micro Precision: 0.6103896103896104\n",
      "Micro Recall: 0.6103896103896104\n",
      "--------------------------------------------------\n",
      "EPOCH N. 5\n"
     ]
    },
    {
     "name": "stderr",
     "output_type": "stream",
     "text": [
      "202it [00:39,  5.14it/s]\n"
     ]
    },
    {
     "name": "stdout",
     "output_type": "stream",
     "text": [
      "\n",
      "TRAIN RESULTS\n",
      "Loss: 0.004956370576609733\n",
      "Accuracy: 0.7889872631251942\n",
      "MCC: 0.7307909794918697\n",
      "Macro F1: 0.6630953272836625\n",
      "Macro Precision: 0.7006464619563401\n",
      "Macro Recall: 0.6420183554153376\n",
      "Micro F1: 0.7889872631251942\n",
      "Micro Precision: 0.7889872631251942\n",
      "Micro Recall: 0.7889872631251942\n",
      "\n",
      "VALIDATION RESULTS\n",
      "Loss: 0.010383548215031624\n",
      "Accuracy: 0.6063698206555349\n",
      "MCC: 0.4911026314040736\n",
      "Macro F1: 0.4876886782590359\n",
      "Macro Precision: 0.511702017609182\n",
      "Macro Recall: 0.4857210656293137\n",
      "Micro F1: 0.6063698206555349\n",
      "Micro Precision: 0.6063698206555349\n",
      "Micro Recall: 0.6063698206555349\n",
      "Early stopped training\n",
      "--------------------------------------------------\n"
     ]
    },
    {
     "data": {
      "text/html": [
       "Waiting for W&B process to finish... <strong style=\"color:green\">(success).</strong>"
      ],
      "text/plain": [
       "<IPython.core.display.HTML object>"
      ]
     },
     "metadata": {},
     "output_type": "display_data"
    },
    {
     "data": {
      "application/vnd.jupyter.widget-view+json": {
       "model_id": "519a37ff8f0d4caba83818884a1382fc",
       "version_major": 2,
       "version_minor": 0
      },
      "text/plain": [
       "VBox(children=(Label(value='0.005 MB of 0.005 MB uploaded (0.000 MB deduped)\\r'), FloatProgress(value=1.0, max…"
      ]
     },
     "metadata": {},
     "output_type": "display_data"
    },
    {
     "data": {
      "text/html": [
       "<style>\n",
       "    table.wandb td:nth-child(1) { padding: 0 10px; text-align: left ; width: auto;} td:nth-child(2) {text-align: left ; width: 100%}\n",
       "    .wandb-row { display: flex; flex-direction: row; flex-wrap: wrap; justify-content: flex-start; width: 100% }\n",
       "    .wandb-col { display: flex; flex-direction: column; flex-basis: 100%; flex: 1; padding: 10px; }\n",
       "    </style>\n",
       "<div class=\"wandb-row\"><div class=\"wandb-col\"><h3>Run history:</h3><br/><table class=\"wandb\"><tr><td>Epoch</td><td>▁▃▅▆█</td></tr><tr><td>Train Loss</td><td>█▅▃▂▁</td></tr><tr><td>Validation Loss</td><td>█▁▁▃▄</td></tr></table><br/></div><div class=\"wandb-col\"><h3>Run summary:</h3><br/><table class=\"wandb\"><tr><td>Epoch</td><td>5</td></tr><tr><td>Train Loss</td><td>0.00496</td></tr><tr><td>Validation Loss</td><td>0.01038</td></tr></table><br/></div></div>"
      ],
      "text/plain": [
       "<IPython.core.display.HTML object>"
      ]
     },
     "metadata": {},
     "output_type": "display_data"
    },
    {
     "data": {
      "text/html": [
       " View run <strong style=\"color:#cdcd00\">LEGAL-BERT-Trial19</strong> at: <a href='https://wandb.ai/gmarinowandb-8601/RhetoricalRolesClassification-BUILD/runs/9m5co5vo' target=\"_blank\">https://wandb.ai/gmarinowandb-8601/RhetoricalRolesClassification-BUILD/runs/9m5co5vo</a><br/>Synced 5 W&B file(s), 0 media file(s), 0 artifact file(s) and 0 other file(s)"
      ],
      "text/plain": [
       "<IPython.core.display.HTML object>"
      ]
     },
     "metadata": {},
     "output_type": "display_data"
    },
    {
     "data": {
      "text/html": [
       "Find logs at: <code>./wandb/run-20230424_202423-9m5co5vo/logs</code>"
      ],
      "text/plain": [
       "<IPython.core.display.HTML object>"
      ]
     },
     "metadata": {},
     "output_type": "display_data"
    },
    {
     "name": "stderr",
     "output_type": "stream",
     "text": [
      "\u001b[32m[I 2023-04-24 20:28:29,511]\u001b[0m Trial 19 finished with value: 0.00951305590569973 and parameters: {'lr': 8.128726866523551e-05, 'weight_decay': 0.08954925012415105}. Best is trial 17 with value: 0.009286207146942616.\u001b[0m\n"
     ]
    },
    {
     "name": "stdout",
     "output_type": "stream",
     "text": [
      "\n",
      "************************ Starting New Optuna Trial ************************\n",
      "\n"
     ]
    },
    {
     "name": "stderr",
     "output_type": "stream",
     "text": [
      "Some weights of the model checkpoint at nlpaueb/legal-bert-base-uncased were not used when initializing BertForSequenceClassification: ['cls.predictions.bias', 'cls.predictions.transform.dense.bias', 'cls.predictions.transform.dense.weight', 'cls.seq_relationship.weight', 'cls.seq_relationship.bias', 'cls.predictions.transform.LayerNorm.weight', 'cls.predictions.decoder.bias', 'cls.predictions.transform.LayerNorm.bias', 'cls.predictions.decoder.weight']\n",
      "- This IS expected if you are initializing BertForSequenceClassification from the checkpoint of a model trained on another task or with another architecture (e.g. initializing a BertForSequenceClassification model from a BertForPreTraining model).\n",
      "- This IS NOT expected if you are initializing BertForSequenceClassification from the checkpoint of a model that you expect to be exactly identical (initializing a BertForSequenceClassification model from a BertForSequenceClassification model).\n",
      "Some weights of BertForSequenceClassification were not initialized from the model checkpoint at nlpaueb/legal-bert-base-uncased and are newly initialized: ['classifier.bias', 'classifier.weight']\n",
      "You should probably TRAIN this model on a down-stream task to be able to use it for predictions and inference.\n"
     ]
    },
    {
     "data": {
      "text/html": [
       "wandb version 0.15.0 is available!  To upgrade, please run:\n",
       " $ pip install wandb --upgrade"
      ],
      "text/plain": [
       "<IPython.core.display.HTML object>"
      ]
     },
     "metadata": {},
     "output_type": "display_data"
    },
    {
     "data": {
      "text/html": [
       "Tracking run with wandb version 0.13.10"
      ],
      "text/plain": [
       "<IPython.core.display.HTML object>"
      ]
     },
     "metadata": {},
     "output_type": "display_data"
    },
    {
     "data": {
      "text/html": [
       "Run data is saved locally in <code>/home/g.marino/Desktop/GA/RhetoricalRolesClassification/BUILD/wandb/run-20230424_202831-yrmo8r0v</code>"
      ],
      "text/plain": [
       "<IPython.core.display.HTML object>"
      ]
     },
     "metadata": {},
     "output_type": "display_data"
    },
    {
     "data": {
      "text/html": [
       "Syncing run <strong><a href='https://wandb.ai/gmarinowandb-8601/RhetoricalRolesClassification-BUILD/runs/yrmo8r0v' target=\"_blank\">LEGAL-BERT-Trial20</a></strong> to <a href='https://wandb.ai/gmarinowandb-8601/RhetoricalRolesClassification-BUILD' target=\"_blank\">Weights & Biases</a> (<a href='https://wandb.me/run' target=\"_blank\">docs</a>)<br/>"
      ],
      "text/plain": [
       "<IPython.core.display.HTML object>"
      ]
     },
     "metadata": {},
     "output_type": "display_data"
    },
    {
     "data": {
      "text/html": [
       " View project at <a href='https://wandb.ai/gmarinowandb-8601/RhetoricalRolesClassification-BUILD' target=\"_blank\">https://wandb.ai/gmarinowandb-8601/RhetoricalRolesClassification-BUILD</a>"
      ],
      "text/plain": [
       "<IPython.core.display.HTML object>"
      ]
     },
     "metadata": {},
     "output_type": "display_data"
    },
    {
     "data": {
      "text/html": [
       " View run at <a href='https://wandb.ai/gmarinowandb-8601/RhetoricalRolesClassification-BUILD/runs/yrmo8r0v' target=\"_blank\">https://wandb.ai/gmarinowandb-8601/RhetoricalRolesClassification-BUILD/runs/yrmo8r0v</a>"
      ],
      "text/plain": [
       "<IPython.core.display.HTML object>"
      ]
     },
     "metadata": {},
     "output_type": "display_data"
    },
    {
     "name": "stdout",
     "output_type": "stream",
     "text": [
      "\n",
      "************** Training Started **************\n",
      "\n",
      "EPOCH N. 1\n"
     ]
    },
    {
     "name": "stderr",
     "output_type": "stream",
     "text": [
      "202it [00:39,  5.12it/s]\n"
     ]
    },
    {
     "name": "stdout",
     "output_type": "stream",
     "text": [
      "\n",
      "TRAIN RESULTS\n",
      "Loss: 0.012958719664458423\n",
      "Accuracy: 0.4846225535880708\n",
      "MCC: 0.2939327768932027\n",
      "Macro F1: 0.18454791428486905\n",
      "Macro Precision: 0.34393171030793995\n",
      "Macro Recall: 0.17542771014066136\n",
      "Micro F1: 0.4846225535880708\n",
      "Micro Precision: 0.4846225535880708\n",
      "Micro Recall: 0.4846225535880708\n",
      "\n",
      "VALIDATION RESULTS\n",
      "Loss: 0.010729825124144554\n",
      "Accuracy: 0.5766852195423624\n",
      "MCC: 0.42935644958985014\n",
      "Macro F1: 0.3541909817350797\n",
      "Macro Precision: 0.44946477627058895\n",
      "Macro Recall: 0.32781915550155694\n",
      "Micro F1: 0.5766852195423624\n",
      "Micro Precision: 0.5766852195423624\n",
      "Micro Recall: 0.5766852195423624\n",
      "--------------------------------------------------\n",
      "EPOCH N. 2\n"
     ]
    },
    {
     "name": "stderr",
     "output_type": "stream",
     "text": [
      "202it [00:39,  5.13it/s]\n"
     ]
    },
    {
     "name": "stdout",
     "output_type": "stream",
     "text": [
      "\n",
      "TRAIN RESULTS\n",
      "Loss: 0.008879145326711406\n",
      "Accuracy: 0.6346691519105312\n",
      "MCC: 0.5237015200409789\n",
      "Macro F1: 0.45754921945831334\n",
      "Macro Precision: 0.5448116883924039\n",
      "Macro Recall: 0.4326864495137788\n",
      "Micro F1: 0.6346691519105312\n",
      "Micro Precision: 0.6346691519105312\n",
      "Micro Recall: 0.6346691519105312\n",
      "\n",
      "VALIDATION RESULTS\n",
      "Loss: 0.010057585313916206\n",
      "Accuracy: 0.6137909709338281\n",
      "MCC: 0.4879813888639659\n",
      "Macro F1: 0.43230395781664827\n",
      "Macro Precision: 0.5227235720770409\n",
      "Macro Recall: 0.4293794748514059\n",
      "Micro F1: 0.6137909709338281\n",
      "Micro Precision: 0.6137909709338281\n",
      "Micro Recall: 0.6137909709338281\n",
      "--------------------------------------------------\n"
     ]
    },
    {
     "data": {
      "text/html": [
       "Waiting for W&B process to finish... <strong style=\"color:red\">(failed 1).</strong> Press Control-C to abort syncing."
      ],
      "text/plain": [
       "<IPython.core.display.HTML object>"
      ]
     },
     "metadata": {},
     "output_type": "display_data"
    },
    {
     "data": {
      "application/vnd.jupyter.widget-view+json": {
       "model_id": "c3ca515254bf4a958ee1b7f2047896fd",
       "version_major": 2,
       "version_minor": 0
      },
      "text/plain": [
       "VBox(children=(Label(value='0.005 MB of 0.005 MB uploaded (0.000 MB deduped)\\r'), FloatProgress(value=1.0, max…"
      ]
     },
     "metadata": {},
     "output_type": "display_data"
    },
    {
     "data": {
      "text/html": [
       "<style>\n",
       "    table.wandb td:nth-child(1) { padding: 0 10px; text-align: left ; width: auto;} td:nth-child(2) {text-align: left ; width: 100%}\n",
       "    .wandb-row { display: flex; flex-direction: row; flex-wrap: wrap; justify-content: flex-start; width: 100% }\n",
       "    .wandb-col { display: flex; flex-direction: column; flex-basis: 100%; flex: 1; padding: 10px; }\n",
       "    </style>\n",
       "<div class=\"wandb-row\"><div class=\"wandb-col\"><h3>Run history:</h3><br/><table class=\"wandb\"><tr><td>Epoch</td><td>▁█</td></tr><tr><td>Train Loss</td><td>█▁</td></tr><tr><td>Validation Loss</td><td>█▁</td></tr></table><br/></div><div class=\"wandb-col\"><h3>Run summary:</h3><br/><table class=\"wandb\"><tr><td>Epoch</td><td>2</td></tr><tr><td>Train Loss</td><td>0.00888</td></tr><tr><td>Validation Loss</td><td>0.01006</td></tr></table><br/></div></div>"
      ],
      "text/plain": [
       "<IPython.core.display.HTML object>"
      ]
     },
     "metadata": {},
     "output_type": "display_data"
    },
    {
     "data": {
      "text/html": [
       " View run <strong style=\"color:#cdcd00\">LEGAL-BERT-Trial20</strong> at: <a href='https://wandb.ai/gmarinowandb-8601/RhetoricalRolesClassification-BUILD/runs/yrmo8r0v' target=\"_blank\">https://wandb.ai/gmarinowandb-8601/RhetoricalRolesClassification-BUILD/runs/yrmo8r0v</a><br/>Synced 5 W&B file(s), 0 media file(s), 0 artifact file(s) and 0 other file(s)"
      ],
      "text/plain": [
       "<IPython.core.display.HTML object>"
      ]
     },
     "metadata": {},
     "output_type": "display_data"
    },
    {
     "data": {
      "text/html": [
       "Find logs at: <code>./wandb/run-20230424_202831-yrmo8r0v/logs</code>"
      ],
      "text/plain": [
       "<IPython.core.display.HTML object>"
      ]
     },
     "metadata": {},
     "output_type": "display_data"
    },
    {
     "name": "stderr",
     "output_type": "stream",
     "text": [
      "\u001b[32m[I 2023-04-24 20:30:18,624]\u001b[0m Trial 20 pruned. \u001b[0m\n"
     ]
    },
    {
     "name": "stdout",
     "output_type": "stream",
     "text": [
      "\n",
      "************************ Starting New Optuna Trial ************************\n",
      "\n"
     ]
    },
    {
     "name": "stderr",
     "output_type": "stream",
     "text": [
      "Some weights of the model checkpoint at nlpaueb/legal-bert-base-uncased were not used when initializing BertForSequenceClassification: ['cls.predictions.bias', 'cls.predictions.transform.dense.bias', 'cls.predictions.transform.dense.weight', 'cls.seq_relationship.weight', 'cls.seq_relationship.bias', 'cls.predictions.transform.LayerNorm.weight', 'cls.predictions.decoder.bias', 'cls.predictions.transform.LayerNorm.bias', 'cls.predictions.decoder.weight']\n",
      "- This IS expected if you are initializing BertForSequenceClassification from the checkpoint of a model trained on another task or with another architecture (e.g. initializing a BertForSequenceClassification model from a BertForPreTraining model).\n",
      "- This IS NOT expected if you are initializing BertForSequenceClassification from the checkpoint of a model that you expect to be exactly identical (initializing a BertForSequenceClassification model from a BertForSequenceClassification model).\n",
      "Some weights of BertForSequenceClassification were not initialized from the model checkpoint at nlpaueb/legal-bert-base-uncased and are newly initialized: ['classifier.bias', 'classifier.weight']\n",
      "You should probably TRAIN this model on a down-stream task to be able to use it for predictions and inference.\n"
     ]
    },
    {
     "data": {
      "text/html": [
       "wandb version 0.15.0 is available!  To upgrade, please run:\n",
       " $ pip install wandb --upgrade"
      ],
      "text/plain": [
       "<IPython.core.display.HTML object>"
      ]
     },
     "metadata": {},
     "output_type": "display_data"
    },
    {
     "data": {
      "text/html": [
       "Tracking run with wandb version 0.13.10"
      ],
      "text/plain": [
       "<IPython.core.display.HTML object>"
      ]
     },
     "metadata": {},
     "output_type": "display_data"
    },
    {
     "data": {
      "text/html": [
       "Run data is saved locally in <code>/home/g.marino/Desktop/GA/RhetoricalRolesClassification/BUILD/wandb/run-20230424_203020-pdqtftbj</code>"
      ],
      "text/plain": [
       "<IPython.core.display.HTML object>"
      ]
     },
     "metadata": {},
     "output_type": "display_data"
    },
    {
     "data": {
      "text/html": [
       "Syncing run <strong><a href='https://wandb.ai/gmarinowandb-8601/RhetoricalRolesClassification-BUILD/runs/pdqtftbj' target=\"_blank\">LEGAL-BERT-Trial21</a></strong> to <a href='https://wandb.ai/gmarinowandb-8601/RhetoricalRolesClassification-BUILD' target=\"_blank\">Weights & Biases</a> (<a href='https://wandb.me/run' target=\"_blank\">docs</a>)<br/>"
      ],
      "text/plain": [
       "<IPython.core.display.HTML object>"
      ]
     },
     "metadata": {},
     "output_type": "display_data"
    },
    {
     "data": {
      "text/html": [
       " View project at <a href='https://wandb.ai/gmarinowandb-8601/RhetoricalRolesClassification-BUILD' target=\"_blank\">https://wandb.ai/gmarinowandb-8601/RhetoricalRolesClassification-BUILD</a>"
      ],
      "text/plain": [
       "<IPython.core.display.HTML object>"
      ]
     },
     "metadata": {},
     "output_type": "display_data"
    },
    {
     "data": {
      "text/html": [
       " View run at <a href='https://wandb.ai/gmarinowandb-8601/RhetoricalRolesClassification-BUILD/runs/pdqtftbj' target=\"_blank\">https://wandb.ai/gmarinowandb-8601/RhetoricalRolesClassification-BUILD/runs/pdqtftbj</a>"
      ],
      "text/plain": [
       "<IPython.core.display.HTML object>"
      ]
     },
     "metadata": {},
     "output_type": "display_data"
    },
    {
     "name": "stdout",
     "output_type": "stream",
     "text": [
      "\n",
      "************** Training Started **************\n",
      "\n",
      "EPOCH N. 1\n"
     ]
    },
    {
     "name": "stderr",
     "output_type": "stream",
     "text": [
      "202it [00:42,  4.76it/s]\n"
     ]
    },
    {
     "name": "stdout",
     "output_type": "stream",
     "text": [
      "\n",
      "TRAIN RESULTS\n",
      "Loss: 0.01315430648284656\n",
      "Accuracy: 0.4727788132960547\n",
      "MCC: 0.28620830488214793\n",
      "Macro F1: 0.1868333472861076\n",
      "Macro Precision: 0.25845945080420835\n",
      "Macro Recall: 0.17947073954505705\n",
      "Micro F1: 0.4727788132960547\n",
      "Micro Precision: 0.4727788132960547\n",
      "Micro Recall: 0.4727788132960547\n",
      "\n",
      "VALIDATION RESULTS\n",
      "Loss: 0.010896356776356697\n",
      "Accuracy: 0.5850340136054422\n",
      "MCC: 0.45183015341166144\n",
      "Macro F1: 0.3857082941945537\n",
      "Macro Precision: 0.4406576844096249\n",
      "Macro Recall: 0.3803385628201209\n",
      "Micro F1: 0.5850340136054422\n",
      "Micro Precision: 0.5850340136054422\n",
      "Micro Recall: 0.5850340136054422\n",
      "--------------------------------------------------\n",
      "EPOCH N. 2\n"
     ]
    },
    {
     "name": "stderr",
     "output_type": "stream",
     "text": [
      "202it [00:40,  5.00it/s]\n"
     ]
    },
    {
     "name": "stdout",
     "output_type": "stream",
     "text": [
      "\n",
      "TRAIN RESULTS\n",
      "Loss: 0.008599527911596988\n",
      "Accuracy: 0.6529201615408512\n",
      "MCC: 0.5484922701331776\n",
      "Macro F1: 0.4746101200170474\n",
      "Macro Precision: 0.5505050781941645\n",
      "Macro Recall: 0.4519352777080753\n",
      "Micro F1: 0.6529201615408512\n",
      "Micro Precision: 0.6529201615408512\n",
      "Micro Recall: 0.6529201615408512\n",
      "\n",
      "VALIDATION RESULTS\n",
      "Loss: 0.009085902944207191\n",
      "Accuracy: 0.6317254174397031\n",
      "MCC: 0.5153598860473451\n",
      "Macro F1: 0.4606889114316409\n",
      "Macro Precision: 0.517944404058696\n",
      "Macro Recall: 0.44315733777246236\n",
      "Micro F1: 0.6317254174397031\n",
      "Micro Precision: 0.6317254174397031\n",
      "Micro Recall: 0.6317254174397031\n",
      "--------------------------------------------------\n",
      "EPOCH N. 3\n"
     ]
    },
    {
     "name": "stderr",
     "output_type": "stream",
     "text": [
      "202it [00:38,  5.19it/s]\n"
     ]
    },
    {
     "name": "stdout",
     "output_type": "stream",
     "text": [
      "\n",
      "TRAIN RESULTS\n",
      "Loss: 0.006899409808517058\n",
      "Accuracy: 0.7146241068654862\n",
      "MCC: 0.6318847604449053\n",
      "Macro F1: 0.5517933464226208\n",
      "Macro Precision: 0.6260653677503162\n",
      "Macro Recall: 0.5282681899212219\n",
      "Micro F1: 0.7146241068654862\n",
      "Micro Precision: 0.7146241068654862\n",
      "Micro Recall: 0.7146241068654862\n",
      "\n",
      "VALIDATION RESULTS\n",
      "Loss: 0.009452969767153263\n",
      "Accuracy: 0.6289424860853432\n",
      "MCC: 0.5163661958687368\n",
      "Macro F1: 0.47440389922833803\n",
      "Macro Precision: 0.5102092577309567\n",
      "Macro Recall: 0.4811453722399979\n",
      "Micro F1: 0.6289424860853432\n",
      "Micro Precision: 0.6289424860853432\n",
      "Micro Recall: 0.6289424860853432\n",
      "--------------------------------------------------\n",
      "EPOCH N. 4\n"
     ]
    },
    {
     "name": "stderr",
     "output_type": "stream",
     "text": [
      "202it [00:38,  5.19it/s]\n"
     ]
    },
    {
     "name": "stdout",
     "output_type": "stream",
     "text": [
      "\n",
      "TRAIN RESULTS\n",
      "Loss: 0.005423345522328392\n",
      "Accuracy: 0.7757844050947499\n",
      "MCC: 0.7129621098343181\n",
      "Macro F1: 0.6306733485417584\n",
      "Macro Precision: 0.6873379151003557\n",
      "Macro Recall: 0.6091534262880816\n",
      "Micro F1: 0.7757844050947499\n",
      "Micro Precision: 0.7757844050947499\n",
      "Micro Recall: 0.7757844050947499\n",
      "\n",
      "VALIDATION RESULTS\n",
      "Loss: 0.010143043473362923\n",
      "Accuracy: 0.614100185528757\n",
      "MCC: 0.5005490865029528\n",
      "Macro F1: 0.46237816074677923\n",
      "Macro Precision: 0.5313077158502365\n",
      "Macro Recall: 0.46108590544190964\n",
      "Micro F1: 0.614100185528757\n",
      "Micro Precision: 0.614100185528757\n",
      "Micro Recall: 0.614100185528757\n",
      "Early stopped training\n",
      "--------------------------------------------------\n"
     ]
    },
    {
     "data": {
      "text/html": [
       "Waiting for W&B process to finish... <strong style=\"color:green\">(success).</strong>"
      ],
      "text/plain": [
       "<IPython.core.display.HTML object>"
      ]
     },
     "metadata": {},
     "output_type": "display_data"
    },
    {
     "data": {
      "application/vnd.jupyter.widget-view+json": {
       "model_id": "44716196c77146b9a0df31d56350720e",
       "version_major": 2,
       "version_minor": 0
      },
      "text/plain": [
       "VBox(children=(Label(value='0.005 MB of 0.005 MB uploaded (0.000 MB deduped)\\r'), FloatProgress(value=1.0, max…"
      ]
     },
     "metadata": {},
     "output_type": "display_data"
    },
    {
     "data": {
      "text/html": [
       "<style>\n",
       "    table.wandb td:nth-child(1) { padding: 0 10px; text-align: left ; width: auto;} td:nth-child(2) {text-align: left ; width: 100%}\n",
       "    .wandb-row { display: flex; flex-direction: row; flex-wrap: wrap; justify-content: flex-start; width: 100% }\n",
       "    .wandb-col { display: flex; flex-direction: column; flex-basis: 100%; flex: 1; padding: 10px; }\n",
       "    </style>\n",
       "<div class=\"wandb-row\"><div class=\"wandb-col\"><h3>Run history:</h3><br/><table class=\"wandb\"><tr><td>Epoch</td><td>▁▃▆█</td></tr><tr><td>Train Loss</td><td>█▄▂▁</td></tr><tr><td>Validation Loss</td><td>█▁▂▅</td></tr></table><br/></div><div class=\"wandb-col\"><h3>Run summary:</h3><br/><table class=\"wandb\"><tr><td>Epoch</td><td>4</td></tr><tr><td>Train Loss</td><td>0.00542</td></tr><tr><td>Validation Loss</td><td>0.01014</td></tr></table><br/></div></div>"
      ],
      "text/plain": [
       "<IPython.core.display.HTML object>"
      ]
     },
     "metadata": {},
     "output_type": "display_data"
    },
    {
     "data": {
      "text/html": [
       " View run <strong style=\"color:#cdcd00\">LEGAL-BERT-Trial21</strong> at: <a href='https://wandb.ai/gmarinowandb-8601/RhetoricalRolesClassification-BUILD/runs/pdqtftbj' target=\"_blank\">https://wandb.ai/gmarinowandb-8601/RhetoricalRolesClassification-BUILD/runs/pdqtftbj</a><br/>Synced 5 W&B file(s), 0 media file(s), 0 artifact file(s) and 0 other file(s)"
      ],
      "text/plain": [
       "<IPython.core.display.HTML object>"
      ]
     },
     "metadata": {},
     "output_type": "display_data"
    },
    {
     "data": {
      "text/html": [
       "Find logs at: <code>./wandb/run-20230424_203020-pdqtftbj/logs</code>"
      ],
      "text/plain": [
       "<IPython.core.display.HTML object>"
      ]
     },
     "metadata": {},
     "output_type": "display_data"
    },
    {
     "name": "stderr",
     "output_type": "stream",
     "text": [
      "\u001b[32m[I 2023-04-24 20:33:35,543]\u001b[0m Trial 21 finished with value: 0.009085902944207191 and parameters: {'lr': 7.0278184323248e-05, 'weight_decay': 0.09155211601590829}. Best is trial 21 with value: 0.009085902944207191.\u001b[0m\n"
     ]
    },
    {
     "name": "stdout",
     "output_type": "stream",
     "text": [
      "\n",
      "************************ Starting New Optuna Trial ************************\n",
      "\n"
     ]
    },
    {
     "name": "stderr",
     "output_type": "stream",
     "text": [
      "Some weights of the model checkpoint at nlpaueb/legal-bert-base-uncased were not used when initializing BertForSequenceClassification: ['cls.predictions.bias', 'cls.predictions.transform.dense.bias', 'cls.predictions.transform.dense.weight', 'cls.seq_relationship.weight', 'cls.seq_relationship.bias', 'cls.predictions.transform.LayerNorm.weight', 'cls.predictions.decoder.bias', 'cls.predictions.transform.LayerNorm.bias', 'cls.predictions.decoder.weight']\n",
      "- This IS expected if you are initializing BertForSequenceClassification from the checkpoint of a model trained on another task or with another architecture (e.g. initializing a BertForSequenceClassification model from a BertForPreTraining model).\n",
      "- This IS NOT expected if you are initializing BertForSequenceClassification from the checkpoint of a model that you expect to be exactly identical (initializing a BertForSequenceClassification model from a BertForSequenceClassification model).\n",
      "Some weights of BertForSequenceClassification were not initialized from the model checkpoint at nlpaueb/legal-bert-base-uncased and are newly initialized: ['classifier.bias', 'classifier.weight']\n",
      "You should probably TRAIN this model on a down-stream task to be able to use it for predictions and inference.\n"
     ]
    },
    {
     "data": {
      "text/html": [
       "wandb version 0.15.0 is available!  To upgrade, please run:\n",
       " $ pip install wandb --upgrade"
      ],
      "text/plain": [
       "<IPython.core.display.HTML object>"
      ]
     },
     "metadata": {},
     "output_type": "display_data"
    },
    {
     "data": {
      "text/html": [
       "Tracking run with wandb version 0.13.10"
      ],
      "text/plain": [
       "<IPython.core.display.HTML object>"
      ]
     },
     "metadata": {},
     "output_type": "display_data"
    },
    {
     "data": {
      "text/html": [
       "Run data is saved locally in <code>/home/g.marino/Desktop/GA/RhetoricalRolesClassification/BUILD/wandb/run-20230424_203336-v8ew8tez</code>"
      ],
      "text/plain": [
       "<IPython.core.display.HTML object>"
      ]
     },
     "metadata": {},
     "output_type": "display_data"
    },
    {
     "data": {
      "text/html": [
       "Syncing run <strong><a href='https://wandb.ai/gmarinowandb-8601/RhetoricalRolesClassification-BUILD/runs/v8ew8tez' target=\"_blank\">LEGAL-BERT-Trial22</a></strong> to <a href='https://wandb.ai/gmarinowandb-8601/RhetoricalRolesClassification-BUILD' target=\"_blank\">Weights & Biases</a> (<a href='https://wandb.me/run' target=\"_blank\">docs</a>)<br/>"
      ],
      "text/plain": [
       "<IPython.core.display.HTML object>"
      ]
     },
     "metadata": {},
     "output_type": "display_data"
    },
    {
     "data": {
      "text/html": [
       " View project at <a href='https://wandb.ai/gmarinowandb-8601/RhetoricalRolesClassification-BUILD' target=\"_blank\">https://wandb.ai/gmarinowandb-8601/RhetoricalRolesClassification-BUILD</a>"
      ],
      "text/plain": [
       "<IPython.core.display.HTML object>"
      ]
     },
     "metadata": {},
     "output_type": "display_data"
    },
    {
     "data": {
      "text/html": [
       " View run at <a href='https://wandb.ai/gmarinowandb-8601/RhetoricalRolesClassification-BUILD/runs/v8ew8tez' target=\"_blank\">https://wandb.ai/gmarinowandb-8601/RhetoricalRolesClassification-BUILD/runs/v8ew8tez</a>"
      ],
      "text/plain": [
       "<IPython.core.display.HTML object>"
      ]
     },
     "metadata": {},
     "output_type": "display_data"
    },
    {
     "name": "stdout",
     "output_type": "stream",
     "text": [
      "\n",
      "************** Training Started **************\n",
      "\n",
      "EPOCH N. 1\n"
     ]
    },
    {
     "name": "stderr",
     "output_type": "stream",
     "text": [
      "202it [00:40,  5.02it/s]\n"
     ]
    },
    {
     "name": "stdout",
     "output_type": "stream",
     "text": [
      "\n",
      "TRAIN RESULTS\n",
      "Loss: 0.014380785425689213\n",
      "Accuracy: 0.41954022988505746\n",
      "MCC: 0.19255165087751763\n",
      "Macro F1: 0.11305377006047965\n",
      "Macro Precision: 0.17285460479894432\n",
      "Macro Recall: 0.12556313632584767\n",
      "Micro F1: 0.41954022988505746\n",
      "Micro Precision: 0.41954022988505746\n",
      "Micro Recall: 0.41954022988505746\n",
      "\n",
      "VALIDATION RESULTS\n",
      "Loss: 0.013289036229252815\n",
      "Accuracy: 0.4551638837353123\n",
      "MCC: 0.29568443960425433\n",
      "Macro F1: 0.16182701664088087\n",
      "Macro Precision: 0.24815582262021044\n",
      "Macro Recall: 0.16809308454851044\n",
      "Micro F1: 0.4551638837353123\n",
      "Micro Precision: 0.4551638837353123\n",
      "Micro Recall: 0.4551638837353123\n",
      "--------------------------------------------------\n"
     ]
    },
    {
     "data": {
      "text/html": [
       "Waiting for W&B process to finish... <strong style=\"color:red\">(failed 1).</strong> Press Control-C to abort syncing."
      ],
      "text/plain": [
       "<IPython.core.display.HTML object>"
      ]
     },
     "metadata": {},
     "output_type": "display_data"
    },
    {
     "data": {
      "application/vnd.jupyter.widget-view+json": {
       "model_id": "9d277ae413564c7aa164601e0647d7b4",
       "version_major": 2,
       "version_minor": 0
      },
      "text/plain": [
       "VBox(children=(Label(value='0.005 MB of 0.005 MB uploaded (0.000 MB deduped)\\r'), FloatProgress(value=1.0, max…"
      ]
     },
     "metadata": {},
     "output_type": "display_data"
    },
    {
     "data": {
      "text/html": [
       "<style>\n",
       "    table.wandb td:nth-child(1) { padding: 0 10px; text-align: left ; width: auto;} td:nth-child(2) {text-align: left ; width: 100%}\n",
       "    .wandb-row { display: flex; flex-direction: row; flex-wrap: wrap; justify-content: flex-start; width: 100% }\n",
       "    .wandb-col { display: flex; flex-direction: column; flex-basis: 100%; flex: 1; padding: 10px; }\n",
       "    </style>\n",
       "<div class=\"wandb-row\"><div class=\"wandb-col\"><h3>Run history:</h3><br/><table class=\"wandb\"><tr><td>Epoch</td><td>▁</td></tr><tr><td>Train Loss</td><td>▁</td></tr><tr><td>Validation Loss</td><td>▁</td></tr></table><br/></div><div class=\"wandb-col\"><h3>Run summary:</h3><br/><table class=\"wandb\"><tr><td>Epoch</td><td>1</td></tr><tr><td>Train Loss</td><td>0.01438</td></tr><tr><td>Validation Loss</td><td>0.01329</td></tr></table><br/></div></div>"
      ],
      "text/plain": [
       "<IPython.core.display.HTML object>"
      ]
     },
     "metadata": {},
     "output_type": "display_data"
    },
    {
     "data": {
      "text/html": [
       " View run <strong style=\"color:#cdcd00\">LEGAL-BERT-Trial22</strong> at: <a href='https://wandb.ai/gmarinowandb-8601/RhetoricalRolesClassification-BUILD/runs/v8ew8tez' target=\"_blank\">https://wandb.ai/gmarinowandb-8601/RhetoricalRolesClassification-BUILD/runs/v8ew8tez</a><br/>Synced 5 W&B file(s), 0 media file(s), 0 artifact file(s) and 0 other file(s)"
      ],
      "text/plain": [
       "<IPython.core.display.HTML object>"
      ]
     },
     "metadata": {},
     "output_type": "display_data"
    },
    {
     "data": {
      "text/html": [
       "Find logs at: <code>./wandb/run-20230424_203336-v8ew8tez/logs</code>"
      ],
      "text/plain": [
       "<IPython.core.display.HTML object>"
      ]
     },
     "metadata": {},
     "output_type": "display_data"
    },
    {
     "name": "stderr",
     "output_type": "stream",
     "text": [
      "\u001b[32m[I 2023-04-24 20:34:47,182]\u001b[0m Trial 22 pruned. \u001b[0m\n"
     ]
    },
    {
     "name": "stdout",
     "output_type": "stream",
     "text": [
      "\n",
      "************************ Starting New Optuna Trial ************************\n",
      "\n"
     ]
    },
    {
     "name": "stderr",
     "output_type": "stream",
     "text": [
      "Some weights of the model checkpoint at nlpaueb/legal-bert-base-uncased were not used when initializing BertForSequenceClassification: ['cls.predictions.bias', 'cls.predictions.transform.dense.bias', 'cls.predictions.transform.dense.weight', 'cls.seq_relationship.weight', 'cls.seq_relationship.bias', 'cls.predictions.transform.LayerNorm.weight', 'cls.predictions.decoder.bias', 'cls.predictions.transform.LayerNorm.bias', 'cls.predictions.decoder.weight']\n",
      "- This IS expected if you are initializing BertForSequenceClassification from the checkpoint of a model trained on another task or with another architecture (e.g. initializing a BertForSequenceClassification model from a BertForPreTraining model).\n",
      "- This IS NOT expected if you are initializing BertForSequenceClassification from the checkpoint of a model that you expect to be exactly identical (initializing a BertForSequenceClassification model from a BertForSequenceClassification model).\n",
      "Some weights of BertForSequenceClassification were not initialized from the model checkpoint at nlpaueb/legal-bert-base-uncased and are newly initialized: ['classifier.bias', 'classifier.weight']\n",
      "You should probably TRAIN this model on a down-stream task to be able to use it for predictions and inference.\n"
     ]
    },
    {
     "data": {
      "text/html": [
       "wandb version 0.15.0 is available!  To upgrade, please run:\n",
       " $ pip install wandb --upgrade"
      ],
      "text/plain": [
       "<IPython.core.display.HTML object>"
      ]
     },
     "metadata": {},
     "output_type": "display_data"
    },
    {
     "data": {
      "text/html": [
       "Tracking run with wandb version 0.13.10"
      ],
      "text/plain": [
       "<IPython.core.display.HTML object>"
      ]
     },
     "metadata": {},
     "output_type": "display_data"
    },
    {
     "data": {
      "text/html": [
       "Run data is saved locally in <code>/home/g.marino/Desktop/GA/RhetoricalRolesClassification/BUILD/wandb/run-20230424_203448-9a0qz65p</code>"
      ],
      "text/plain": [
       "<IPython.core.display.HTML object>"
      ]
     },
     "metadata": {},
     "output_type": "display_data"
    },
    {
     "data": {
      "text/html": [
       "Syncing run <strong><a href='https://wandb.ai/gmarinowandb-8601/RhetoricalRolesClassification-BUILD/runs/9a0qz65p' target=\"_blank\">LEGAL-BERT-Trial23</a></strong> to <a href='https://wandb.ai/gmarinowandb-8601/RhetoricalRolesClassification-BUILD' target=\"_blank\">Weights & Biases</a> (<a href='https://wandb.me/run' target=\"_blank\">docs</a>)<br/>"
      ],
      "text/plain": [
       "<IPython.core.display.HTML object>"
      ]
     },
     "metadata": {},
     "output_type": "display_data"
    },
    {
     "data": {
      "text/html": [
       " View project at <a href='https://wandb.ai/gmarinowandb-8601/RhetoricalRolesClassification-BUILD' target=\"_blank\">https://wandb.ai/gmarinowandb-8601/RhetoricalRolesClassification-BUILD</a>"
      ],
      "text/plain": [
       "<IPython.core.display.HTML object>"
      ]
     },
     "metadata": {},
     "output_type": "display_data"
    },
    {
     "data": {
      "text/html": [
       " View run at <a href='https://wandb.ai/gmarinowandb-8601/RhetoricalRolesClassification-BUILD/runs/9a0qz65p' target=\"_blank\">https://wandb.ai/gmarinowandb-8601/RhetoricalRolesClassification-BUILD/runs/9a0qz65p</a>"
      ],
      "text/plain": [
       "<IPython.core.display.HTML object>"
      ]
     },
     "metadata": {},
     "output_type": "display_data"
    },
    {
     "name": "stdout",
     "output_type": "stream",
     "text": [
      "\n",
      "************** Training Started **************\n",
      "\n",
      "EPOCH N. 1\n"
     ]
    },
    {
     "name": "stderr",
     "output_type": "stream",
     "text": [
      "202it [00:40,  4.94it/s]\n"
     ]
    },
    {
     "name": "stdout",
     "output_type": "stream",
     "text": [
      "\n",
      "TRAIN RESULTS\n",
      "Loss: 0.01243527979815958\n",
      "Accuracy: 0.5030677228953091\n",
      "MCC: 0.32650348817079666\n",
      "Macro F1: 0.22582574401706376\n",
      "Macro Precision: 0.37517061195777757\n",
      "Macro Recall: 0.20612952478970764\n",
      "Micro F1: 0.5030677228953091\n",
      "Micro Precision: 0.5030677228953091\n",
      "Micro Recall: 0.5030677228953091\n",
      "\n",
      "VALIDATION RESULTS\n",
      "Loss: 0.010560008697211742\n",
      "Accuracy: 0.5850340136054422\n",
      "MCC: 0.4681675862915663\n",
      "Macro F1: 0.39713619674830153\n",
      "Macro Precision: 0.46043584628706113\n",
      "Macro Recall: 0.41312134193541894\n",
      "Micro F1: 0.5850340136054422\n",
      "Micro Precision: 0.5850340136054422\n",
      "Micro Recall: 0.5850340136054422\n",
      "--------------------------------------------------\n",
      "EPOCH N. 2\n"
     ]
    },
    {
     "name": "stderr",
     "output_type": "stream",
     "text": [
      "202it [00:39,  5.14it/s]\n"
     ]
    },
    {
     "name": "stdout",
     "output_type": "stream",
     "text": [
      "\n",
      "TRAIN RESULTS\n",
      "Loss: 0.008625810032547835\n",
      "Accuracy: 0.6467458838148493\n",
      "MCC: 0.540231655936554\n",
      "Macro F1: 0.46872733905650704\n",
      "Macro Precision: 0.5552520100165478\n",
      "Macro Recall: 0.44566481908939803\n",
      "Micro F1: 0.6467458838148493\n",
      "Micro Precision: 0.6467458838148493\n",
      "Micro Recall: 0.6467458838148493\n",
      "\n",
      "VALIDATION RESULTS\n",
      "Loss: 0.009233508259057999\n",
      "Accuracy: 0.6366728509585653\n",
      "MCC: 0.522600127975646\n",
      "Macro F1: 0.4643473529237264\n",
      "Macro Precision: 0.5266729121424469\n",
      "Macro Recall: 0.46063873173224174\n",
      "Micro F1: 0.6366728509585653\n",
      "Micro Precision: 0.6366728509585653\n",
      "Micro Recall: 0.6366728509585653\n",
      "--------------------------------------------------\n",
      "EPOCH N. 3\n"
     ]
    },
    {
     "name": "stderr",
     "output_type": "stream",
     "text": [
      "202it [00:41,  4.86it/s]\n"
     ]
    },
    {
     "name": "stdout",
     "output_type": "stream",
     "text": [
      "\n",
      "TRAIN RESULTS\n",
      "Loss: 0.007085385227488523\n",
      "Accuracy: 0.7092652997825412\n",
      "MCC: 0.6247516790726344\n",
      "Macro F1: 0.5517713744739668\n",
      "Macro Precision: 0.638634326176489\n",
      "Macro Recall: 0.5258206038071499\n",
      "Micro F1: 0.7092652997825413\n",
      "Micro Precision: 0.7092652997825412\n",
      "Micro Recall: 0.7092652997825412\n",
      "\n",
      "VALIDATION RESULTS\n",
      "Loss: 0.009480265900492668\n",
      "Accuracy: 0.6212121212121212\n",
      "MCC: 0.5004377072662427\n",
      "Macro F1: 0.456136946898611\n",
      "Macro Precision: 0.5612480360208093\n",
      "Macro Recall: 0.4363114843139544\n",
      "Micro F1: 0.6212121212121212\n",
      "Micro Precision: 0.6212121212121212\n",
      "Micro Recall: 0.6212121212121212\n",
      "--------------------------------------------------\n",
      "EPOCH N. 4\n"
     ]
    },
    {
     "name": "stderr",
     "output_type": "stream",
     "text": [
      "202it [00:40,  4.94it/s]\n"
     ]
    },
    {
     "name": "stdout",
     "output_type": "stream",
     "text": [
      "\n",
      "TRAIN RESULTS\n",
      "Loss: 0.005809647612373219\n",
      "Accuracy: 0.7585818577197887\n",
      "MCC: 0.6902966052406156\n",
      "Macro F1: 0.6202863328785936\n",
      "Macro Precision: 0.6781779976272408\n",
      "Macro Recall: 0.5923851928902459\n",
      "Micro F1: 0.7585818577197887\n",
      "Micro Precision: 0.7585818577197887\n",
      "Micro Recall: 0.7585818577197887\n",
      "\n",
      "VALIDATION RESULTS\n",
      "Loss: 0.009923672303557396\n",
      "Accuracy: 0.6103896103896104\n",
      "MCC: 0.49191625151977625\n",
      "Macro F1: 0.47794576220139046\n",
      "Macro Precision: 0.5075298590317995\n",
      "Macro Recall: 0.47620871452779423\n",
      "Micro F1: 0.6103896103896104\n",
      "Micro Precision: 0.6103896103896104\n",
      "Micro Recall: 0.6103896103896104\n",
      "Early stopped training\n",
      "--------------------------------------------------\n"
     ]
    },
    {
     "data": {
      "text/html": [
       "Waiting for W&B process to finish... <strong style=\"color:green\">(success).</strong>"
      ],
      "text/plain": [
       "<IPython.core.display.HTML object>"
      ]
     },
     "metadata": {},
     "output_type": "display_data"
    },
    {
     "data": {
      "text/html": [
       "<style>\n",
       "    table.wandb td:nth-child(1) { padding: 0 10px; text-align: left ; width: auto;} td:nth-child(2) {text-align: left ; width: 100%}\n",
       "    .wandb-row { display: flex; flex-direction: row; flex-wrap: wrap; justify-content: flex-start; width: 100% }\n",
       "    .wandb-col { display: flex; flex-direction: column; flex-basis: 100%; flex: 1; padding: 10px; }\n",
       "    </style>\n",
       "<div class=\"wandb-row\"><div class=\"wandb-col\"><h3>Run history:</h3><br/><table class=\"wandb\"><tr><td>Epoch</td><td>▁▃▆█</td></tr><tr><td>Train Loss</td><td>█▄▂▁</td></tr><tr><td>Validation Loss</td><td>█▁▂▅</td></tr></table><br/></div><div class=\"wandb-col\"><h3>Run summary:</h3><br/><table class=\"wandb\"><tr><td>Epoch</td><td>4</td></tr><tr><td>Train Loss</td><td>0.00581</td></tr><tr><td>Validation Loss</td><td>0.00992</td></tr></table><br/></div></div>"
      ],
      "text/plain": [
       "<IPython.core.display.HTML object>"
      ]
     },
     "metadata": {},
     "output_type": "display_data"
    },
    {
     "data": {
      "text/html": [
       " View run <strong style=\"color:#cdcd00\">LEGAL-BERT-Trial23</strong> at: <a href='https://wandb.ai/gmarinowandb-8601/RhetoricalRolesClassification-BUILD/runs/9a0qz65p' target=\"_blank\">https://wandb.ai/gmarinowandb-8601/RhetoricalRolesClassification-BUILD/runs/9a0qz65p</a><br/>Synced 5 W&B file(s), 0 media file(s), 0 artifact file(s) and 0 other file(s)"
      ],
      "text/plain": [
       "<IPython.core.display.HTML object>"
      ]
     },
     "metadata": {},
     "output_type": "display_data"
    },
    {
     "data": {
      "text/html": [
       "Find logs at: <code>./wandb/run-20230424_203448-9a0qz65p/logs</code>"
      ],
      "text/plain": [
       "<IPython.core.display.HTML object>"
      ]
     },
     "metadata": {},
     "output_type": "display_data"
    },
    {
     "name": "stderr",
     "output_type": "stream",
     "text": [
      "\u001b[32m[I 2023-04-24 20:38:10,453]\u001b[0m Trial 23 finished with value: 0.009233508259057999 and parameters: {'lr': 5.714279296100102e-05, 'weight_decay': 0.09838511387713167}. Best is trial 21 with value: 0.009085902944207191.\u001b[0m\n"
     ]
    },
    {
     "name": "stdout",
     "output_type": "stream",
     "text": [
      "\n",
      "************************ Starting New Optuna Trial ************************\n",
      "\n"
     ]
    },
    {
     "name": "stderr",
     "output_type": "stream",
     "text": [
      "Some weights of the model checkpoint at nlpaueb/legal-bert-base-uncased were not used when initializing BertForSequenceClassification: ['cls.predictions.bias', 'cls.predictions.transform.dense.bias', 'cls.predictions.transform.dense.weight', 'cls.seq_relationship.weight', 'cls.seq_relationship.bias', 'cls.predictions.transform.LayerNorm.weight', 'cls.predictions.decoder.bias', 'cls.predictions.transform.LayerNorm.bias', 'cls.predictions.decoder.weight']\n",
      "- This IS expected if you are initializing BertForSequenceClassification from the checkpoint of a model trained on another task or with another architecture (e.g. initializing a BertForSequenceClassification model from a BertForPreTraining model).\n",
      "- This IS NOT expected if you are initializing BertForSequenceClassification from the checkpoint of a model that you expect to be exactly identical (initializing a BertForSequenceClassification model from a BertForSequenceClassification model).\n",
      "Some weights of BertForSequenceClassification were not initialized from the model checkpoint at nlpaueb/legal-bert-base-uncased and are newly initialized: ['classifier.bias', 'classifier.weight']\n",
      "You should probably TRAIN this model on a down-stream task to be able to use it for predictions and inference.\n"
     ]
    },
    {
     "data": {
      "text/html": [
       "wandb version 0.15.0 is available!  To upgrade, please run:\n",
       " $ pip install wandb --upgrade"
      ],
      "text/plain": [
       "<IPython.core.display.HTML object>"
      ]
     },
     "metadata": {},
     "output_type": "display_data"
    },
    {
     "data": {
      "text/html": [
       "Tracking run with wandb version 0.13.10"
      ],
      "text/plain": [
       "<IPython.core.display.HTML object>"
      ]
     },
     "metadata": {},
     "output_type": "display_data"
    },
    {
     "data": {
      "text/html": [
       "Run data is saved locally in <code>/home/g.marino/Desktop/GA/RhetoricalRolesClassification/BUILD/wandb/run-20230424_203812-tjkaiswg</code>"
      ],
      "text/plain": [
       "<IPython.core.display.HTML object>"
      ]
     },
     "metadata": {},
     "output_type": "display_data"
    },
    {
     "data": {
      "text/html": [
       "Syncing run <strong><a href='https://wandb.ai/gmarinowandb-8601/RhetoricalRolesClassification-BUILD/runs/tjkaiswg' target=\"_blank\">LEGAL-BERT-Trial24</a></strong> to <a href='https://wandb.ai/gmarinowandb-8601/RhetoricalRolesClassification-BUILD' target=\"_blank\">Weights & Biases</a> (<a href='https://wandb.me/run' target=\"_blank\">docs</a>)<br/>"
      ],
      "text/plain": [
       "<IPython.core.display.HTML object>"
      ]
     },
     "metadata": {},
     "output_type": "display_data"
    },
    {
     "data": {
      "text/html": [
       " View project at <a href='https://wandb.ai/gmarinowandb-8601/RhetoricalRolesClassification-BUILD' target=\"_blank\">https://wandb.ai/gmarinowandb-8601/RhetoricalRolesClassification-BUILD</a>"
      ],
      "text/plain": [
       "<IPython.core.display.HTML object>"
      ]
     },
     "metadata": {},
     "output_type": "display_data"
    },
    {
     "data": {
      "text/html": [
       " View run at <a href='https://wandb.ai/gmarinowandb-8601/RhetoricalRolesClassification-BUILD/runs/tjkaiswg' target=\"_blank\">https://wandb.ai/gmarinowandb-8601/RhetoricalRolesClassification-BUILD/runs/tjkaiswg</a>"
      ],
      "text/plain": [
       "<IPython.core.display.HTML object>"
      ]
     },
     "metadata": {},
     "output_type": "display_data"
    },
    {
     "name": "stdout",
     "output_type": "stream",
     "text": [
      "\n",
      "************** Training Started **************\n",
      "\n",
      "EPOCH N. 1\n"
     ]
    },
    {
     "name": "stderr",
     "output_type": "stream",
     "text": [
      "202it [00:40,  5.04it/s]\n"
     ]
    },
    {
     "name": "stdout",
     "output_type": "stream",
     "text": [
      "\n",
      "TRAIN RESULTS\n",
      "Loss: 0.013117694862142933\n",
      "Accuracy: 0.47607952780366575\n",
      "MCC: 0.28082009629631194\n",
      "Macro F1: 0.17178918687668757\n",
      "Macro Precision: 0.3802238476925278\n",
      "Macro Recall: 0.1677882840232804\n",
      "Micro F1: 0.47607952780366575\n",
      "Micro Precision: 0.47607952780366575\n",
      "Micro Recall: 0.47607952780366575\n",
      "\n",
      "VALIDATION RESULTS\n",
      "Loss: 0.01043870858848095\n",
      "Accuracy: 0.5936920222634509\n",
      "MCC: 0.4581422636503873\n",
      "Macro F1: 0.3727149691639421\n",
      "Macro Precision: 0.4941653977888042\n",
      "Macro Recall: 0.3529521517940798\n",
      "Micro F1: 0.5936920222634509\n",
      "Micro Precision: 0.5936920222634509\n",
      "Micro Recall: 0.5936920222634509\n",
      "--------------------------------------------------\n",
      "EPOCH N. 2\n"
     ]
    },
    {
     "name": "stderr",
     "output_type": "stream",
     "text": [
      "202it [00:42,  4.78it/s]\n"
     ]
    },
    {
     "name": "stdout",
     "output_type": "stream",
     "text": [
      "\n",
      "TRAIN RESULTS\n",
      "Loss: 0.008774085624797924\n",
      "Accuracy: 0.6478331780055918\n",
      "MCC: 0.5408374218493849\n",
      "Macro F1: 0.46008329441933465\n",
      "Macro Precision: 0.5578375816212862\n",
      "Macro Recall: 0.436238321903749\n",
      "Micro F1: 0.6478331780055918\n",
      "Micro Precision: 0.6478331780055918\n",
      "Micro Recall: 0.6478331780055918\n",
      "\n",
      "VALIDATION RESULTS\n",
      "Loss: 0.00942457839846611\n",
      "Accuracy: 0.62152133580705\n",
      "MCC: 0.5006227375239275\n",
      "Macro F1: 0.4531170264722312\n",
      "Macro Precision: 0.5050943913357773\n",
      "Macro Recall: 0.4483533234328796\n",
      "Micro F1: 0.62152133580705\n",
      "Micro Precision: 0.62152133580705\n",
      "Micro Recall: 0.62152133580705\n",
      "--------------------------------------------------\n",
      "EPOCH N. 3\n"
     ]
    },
    {
     "name": "stderr",
     "output_type": "stream",
     "text": [
      "202it [00:40,  4.96it/s]\n"
     ]
    },
    {
     "name": "stdout",
     "output_type": "stream",
     "text": [
      "\n",
      "TRAIN RESULTS\n",
      "Loss: 0.007187462141884896\n",
      "Accuracy: 0.706081081081081\n",
      "MCC: 0.6205896118900274\n",
      "Macro F1: 0.5447519281523615\n",
      "Macro Precision: 0.6264560730543633\n",
      "Macro Recall: 0.5205867265671954\n",
      "Micro F1: 0.706081081081081\n",
      "Micro Precision: 0.706081081081081\n",
      "Micro Recall: 0.706081081081081\n",
      "\n",
      "VALIDATION RESULTS\n",
      "Loss: 0.009485751390457153\n",
      "Accuracy: 0.6264687693259122\n",
      "MCC: 0.5070367404859015\n",
      "Macro F1: 0.4596497523072707\n",
      "Macro Precision: 0.5316639605995424\n",
      "Macro Recall: 0.4545388590572011\n",
      "Micro F1: 0.6264687693259122\n",
      "Micro Precision: 0.6264687693259122\n",
      "Micro Recall: 0.6264687693259122\n",
      "--------------------------------------------------\n",
      "EPOCH N. 4\n"
     ]
    },
    {
     "name": "stderr",
     "output_type": "stream",
     "text": [
      "202it [00:40,  4.99it/s]\n"
     ]
    },
    {
     "name": "stdout",
     "output_type": "stream",
     "text": [
      "\n",
      "TRAIN RESULTS\n",
      "Loss: 0.005948900336266008\n",
      "Accuracy: 0.753650201926064\n",
      "MCC: 0.6836814607079312\n",
      "Macro F1: 0.6008336648499054\n",
      "Macro Precision: 0.6703857149932819\n",
      "Macro Recall: 0.5783669075650534\n",
      "Micro F1: 0.753650201926064\n",
      "Micro Precision: 0.753650201926064\n",
      "Micro Recall: 0.753650201926064\n",
      "\n",
      "VALIDATION RESULTS\n",
      "Loss: 0.010069135576486588\n",
      "Accuracy: 0.6178107606679035\n",
      "MCC: 0.4962009356091469\n",
      "Macro F1: 0.4704143304770986\n",
      "Macro Precision: 0.5234354341877142\n",
      "Macro Recall: 0.4653721868169427\n",
      "Micro F1: 0.6178107606679035\n",
      "Micro Precision: 0.6178107606679035\n",
      "Micro Recall: 0.6178107606679035\n",
      "Early stopped training\n",
      "--------------------------------------------------\n"
     ]
    },
    {
     "data": {
      "text/html": [
       "Waiting for W&B process to finish... <strong style=\"color:green\">(success).</strong>"
      ],
      "text/plain": [
       "<IPython.core.display.HTML object>"
      ]
     },
     "metadata": {},
     "output_type": "display_data"
    },
    {
     "data": {
      "application/vnd.jupyter.widget-view+json": {
       "model_id": "be2520f59b90479d999c9b753dbb0a75",
       "version_major": 2,
       "version_minor": 0
      },
      "text/plain": [
       "VBox(children=(Label(value='0.005 MB of 0.005 MB uploaded (0.000 MB deduped)\\r'), FloatProgress(value=1.0, max…"
      ]
     },
     "metadata": {},
     "output_type": "display_data"
    },
    {
     "data": {
      "text/html": [
       "<style>\n",
       "    table.wandb td:nth-child(1) { padding: 0 10px; text-align: left ; width: auto;} td:nth-child(2) {text-align: left ; width: 100%}\n",
       "    .wandb-row { display: flex; flex-direction: row; flex-wrap: wrap; justify-content: flex-start; width: 100% }\n",
       "    .wandb-col { display: flex; flex-direction: column; flex-basis: 100%; flex: 1; padding: 10px; }\n",
       "    </style>\n",
       "<div class=\"wandb-row\"><div class=\"wandb-col\"><h3>Run history:</h3><br/><table class=\"wandb\"><tr><td>Epoch</td><td>▁▃▆█</td></tr><tr><td>Train Loss</td><td>█▄▂▁</td></tr><tr><td>Validation Loss</td><td>█▁▁▅</td></tr></table><br/></div><div class=\"wandb-col\"><h3>Run summary:</h3><br/><table class=\"wandb\"><tr><td>Epoch</td><td>4</td></tr><tr><td>Train Loss</td><td>0.00595</td></tr><tr><td>Validation Loss</td><td>0.01007</td></tr></table><br/></div></div>"
      ],
      "text/plain": [
       "<IPython.core.display.HTML object>"
      ]
     },
     "metadata": {},
     "output_type": "display_data"
    },
    {
     "data": {
      "text/html": [
       " View run <strong style=\"color:#cdcd00\">LEGAL-BERT-Trial24</strong> at: <a href='https://wandb.ai/gmarinowandb-8601/RhetoricalRolesClassification-BUILD/runs/tjkaiswg' target=\"_blank\">https://wandb.ai/gmarinowandb-8601/RhetoricalRolesClassification-BUILD/runs/tjkaiswg</a><br/>Synced 5 W&B file(s), 0 media file(s), 0 artifact file(s) and 0 other file(s)"
      ],
      "text/plain": [
       "<IPython.core.display.HTML object>"
      ]
     },
     "metadata": {},
     "output_type": "display_data"
    },
    {
     "data": {
      "text/html": [
       "Find logs at: <code>./wandb/run-20230424_203812-tjkaiswg/logs</code>"
      ],
      "text/plain": [
       "<IPython.core.display.HTML object>"
      ]
     },
     "metadata": {},
     "output_type": "display_data"
    },
    {
     "name": "stderr",
     "output_type": "stream",
     "text": [
      "\u001b[32m[I 2023-04-24 20:41:27,070]\u001b[0m Trial 24 finished with value: 0.00942457839846611 and parameters: {'lr': 5.186263594783106e-05, 'weight_decay': 0.09070696466859232}. Best is trial 21 with value: 0.009085902944207191.\u001b[0m\n"
     ]
    },
    {
     "name": "stdout",
     "output_type": "stream",
     "text": [
      "\n",
      "************************ Starting New Optuna Trial ************************\n",
      "\n"
     ]
    },
    {
     "name": "stderr",
     "output_type": "stream",
     "text": [
      "Some weights of the model checkpoint at nlpaueb/legal-bert-base-uncased were not used when initializing BertForSequenceClassification: ['cls.predictions.bias', 'cls.predictions.transform.dense.bias', 'cls.predictions.transform.dense.weight', 'cls.seq_relationship.weight', 'cls.seq_relationship.bias', 'cls.predictions.transform.LayerNorm.weight', 'cls.predictions.decoder.bias', 'cls.predictions.transform.LayerNorm.bias', 'cls.predictions.decoder.weight']\n",
      "- This IS expected if you are initializing BertForSequenceClassification from the checkpoint of a model trained on another task or with another architecture (e.g. initializing a BertForSequenceClassification model from a BertForPreTraining model).\n",
      "- This IS NOT expected if you are initializing BertForSequenceClassification from the checkpoint of a model that you expect to be exactly identical (initializing a BertForSequenceClassification model from a BertForSequenceClassification model).\n",
      "Some weights of BertForSequenceClassification were not initialized from the model checkpoint at nlpaueb/legal-bert-base-uncased and are newly initialized: ['classifier.bias', 'classifier.weight']\n",
      "You should probably TRAIN this model on a down-stream task to be able to use it for predictions and inference.\n"
     ]
    },
    {
     "data": {
      "text/html": [
       "wandb version 0.15.0 is available!  To upgrade, please run:\n",
       " $ pip install wandb --upgrade"
      ],
      "text/plain": [
       "<IPython.core.display.HTML object>"
      ]
     },
     "metadata": {},
     "output_type": "display_data"
    },
    {
     "data": {
      "text/html": [
       "Tracking run with wandb version 0.13.10"
      ],
      "text/plain": [
       "<IPython.core.display.HTML object>"
      ]
     },
     "metadata": {},
     "output_type": "display_data"
    },
    {
     "data": {
      "text/html": [
       "Run data is saved locally in <code>/home/g.marino/Desktop/GA/RhetoricalRolesClassification/BUILD/wandb/run-20230424_204128-vw3jiuae</code>"
      ],
      "text/plain": [
       "<IPython.core.display.HTML object>"
      ]
     },
     "metadata": {},
     "output_type": "display_data"
    },
    {
     "data": {
      "text/html": [
       "Syncing run <strong><a href='https://wandb.ai/gmarinowandb-8601/RhetoricalRolesClassification-BUILD/runs/vw3jiuae' target=\"_blank\">LEGAL-BERT-Trial25</a></strong> to <a href='https://wandb.ai/gmarinowandb-8601/RhetoricalRolesClassification-BUILD' target=\"_blank\">Weights & Biases</a> (<a href='https://wandb.me/run' target=\"_blank\">docs</a>)<br/>"
      ],
      "text/plain": [
       "<IPython.core.display.HTML object>"
      ]
     },
     "metadata": {},
     "output_type": "display_data"
    },
    {
     "data": {
      "text/html": [
       " View project at <a href='https://wandb.ai/gmarinowandb-8601/RhetoricalRolesClassification-BUILD' target=\"_blank\">https://wandb.ai/gmarinowandb-8601/RhetoricalRolesClassification-BUILD</a>"
      ],
      "text/plain": [
       "<IPython.core.display.HTML object>"
      ]
     },
     "metadata": {},
     "output_type": "display_data"
    },
    {
     "data": {
      "text/html": [
       " View run at <a href='https://wandb.ai/gmarinowandb-8601/RhetoricalRolesClassification-BUILD/runs/vw3jiuae' target=\"_blank\">https://wandb.ai/gmarinowandb-8601/RhetoricalRolesClassification-BUILD/runs/vw3jiuae</a>"
      ],
      "text/plain": [
       "<IPython.core.display.HTML object>"
      ]
     },
     "metadata": {},
     "output_type": "display_data"
    },
    {
     "name": "stdout",
     "output_type": "stream",
     "text": [
      "\n",
      "************** Training Started **************\n",
      "\n",
      "EPOCH N. 1\n"
     ]
    },
    {
     "name": "stderr",
     "output_type": "stream",
     "text": [
      "202it [00:39,  5.12it/s]\n"
     ]
    },
    {
     "name": "stdout",
     "output_type": "stream",
     "text": [
      "\n",
      "TRAIN RESULTS\n",
      "Loss: 0.014070869899381203\n",
      "Accuracy: 0.4309179869524697\n",
      "MCC: 0.20579074869636738\n",
      "Macro F1: 0.12398861256206907\n",
      "Macro Precision: 0.2226121535496355\n",
      "Macro Recall: 0.1294667560789223\n",
      "Micro F1: 0.4309179869524697\n",
      "Micro Precision: 0.4309179869524697\n",
      "Micro Recall: 0.4309179869524697\n",
      "\n",
      "VALIDATION RESULTS\n",
      "Loss: 0.011903306469321251\n",
      "Accuracy: 0.5448361162646876\n",
      "MCC: 0.38168543277356926\n",
      "Macro F1: 0.22469784448208113\n",
      "Macro Precision: 0.26880200783956787\n",
      "Macro Recall: 0.2206430040833973\n",
      "Micro F1: 0.5448361162646876\n",
      "Micro Precision: 0.5448361162646876\n",
      "Micro Recall: 0.5448361162646876\n",
      "--------------------------------------------------\n"
     ]
    },
    {
     "data": {
      "text/html": [
       "Waiting for W&B process to finish... <strong style=\"color:red\">(failed 1).</strong> Press Control-C to abort syncing."
      ],
      "text/plain": [
       "<IPython.core.display.HTML object>"
      ]
     },
     "metadata": {},
     "output_type": "display_data"
    },
    {
     "data": {
      "text/html": [
       "<style>\n",
       "    table.wandb td:nth-child(1) { padding: 0 10px; text-align: left ; width: auto;} td:nth-child(2) {text-align: left ; width: 100%}\n",
       "    .wandb-row { display: flex; flex-direction: row; flex-wrap: wrap; justify-content: flex-start; width: 100% }\n",
       "    .wandb-col { display: flex; flex-direction: column; flex-basis: 100%; flex: 1; padding: 10px; }\n",
       "    </style>\n",
       "<div class=\"wandb-row\"><div class=\"wandb-col\"><h3>Run history:</h3><br/><table class=\"wandb\"><tr><td>Epoch</td><td>▁</td></tr><tr><td>Train Loss</td><td>▁</td></tr><tr><td>Validation Loss</td><td>▁</td></tr></table><br/></div><div class=\"wandb-col\"><h3>Run summary:</h3><br/><table class=\"wandb\"><tr><td>Epoch</td><td>1</td></tr><tr><td>Train Loss</td><td>0.01407</td></tr><tr><td>Validation Loss</td><td>0.0119</td></tr></table><br/></div></div>"
      ],
      "text/plain": [
       "<IPython.core.display.HTML object>"
      ]
     },
     "metadata": {},
     "output_type": "display_data"
    },
    {
     "data": {
      "text/html": [
       " View run <strong style=\"color:#cdcd00\">LEGAL-BERT-Trial25</strong> at: <a href='https://wandb.ai/gmarinowandb-8601/RhetoricalRolesClassification-BUILD/runs/vw3jiuae' target=\"_blank\">https://wandb.ai/gmarinowandb-8601/RhetoricalRolesClassification-BUILD/runs/vw3jiuae</a><br/>Synced 5 W&B file(s), 0 media file(s), 0 artifact file(s) and 0 other file(s)"
      ],
      "text/plain": [
       "<IPython.core.display.HTML object>"
      ]
     },
     "metadata": {},
     "output_type": "display_data"
    },
    {
     "data": {
      "text/html": [
       "Find logs at: <code>./wandb/run-20230424_204128-vw3jiuae/logs</code>"
      ],
      "text/plain": [
       "<IPython.core.display.HTML object>"
      ]
     },
     "metadata": {},
     "output_type": "display_data"
    },
    {
     "name": "stderr",
     "output_type": "stream",
     "text": [
      "\u001b[32m[I 2023-04-24 20:42:39,494]\u001b[0m Trial 25 pruned. \u001b[0m\n"
     ]
    },
    {
     "name": "stdout",
     "output_type": "stream",
     "text": [
      "\n",
      "************************ Starting New Optuna Trial ************************\n",
      "\n"
     ]
    },
    {
     "name": "stderr",
     "output_type": "stream",
     "text": [
      "Some weights of the model checkpoint at nlpaueb/legal-bert-base-uncased were not used when initializing BertForSequenceClassification: ['cls.predictions.bias', 'cls.predictions.transform.dense.bias', 'cls.predictions.transform.dense.weight', 'cls.seq_relationship.weight', 'cls.seq_relationship.bias', 'cls.predictions.transform.LayerNorm.weight', 'cls.predictions.decoder.bias', 'cls.predictions.transform.LayerNorm.bias', 'cls.predictions.decoder.weight']\n",
      "- This IS expected if you are initializing BertForSequenceClassification from the checkpoint of a model trained on another task or with another architecture (e.g. initializing a BertForSequenceClassification model from a BertForPreTraining model).\n",
      "- This IS NOT expected if you are initializing BertForSequenceClassification from the checkpoint of a model that you expect to be exactly identical (initializing a BertForSequenceClassification model from a BertForSequenceClassification model).\n",
      "Some weights of BertForSequenceClassification were not initialized from the model checkpoint at nlpaueb/legal-bert-base-uncased and are newly initialized: ['classifier.bias', 'classifier.weight']\n",
      "You should probably TRAIN this model on a down-stream task to be able to use it for predictions and inference.\n"
     ]
    },
    {
     "data": {
      "text/html": [
       "wandb version 0.15.0 is available!  To upgrade, please run:\n",
       " $ pip install wandb --upgrade"
      ],
      "text/plain": [
       "<IPython.core.display.HTML object>"
      ]
     },
     "metadata": {},
     "output_type": "display_data"
    },
    {
     "data": {
      "text/html": [
       "Tracking run with wandb version 0.13.10"
      ],
      "text/plain": [
       "<IPython.core.display.HTML object>"
      ]
     },
     "metadata": {},
     "output_type": "display_data"
    },
    {
     "data": {
      "text/html": [
       "Run data is saved locally in <code>/home/g.marino/Desktop/GA/RhetoricalRolesClassification/BUILD/wandb/run-20230424_204241-w4atr87l</code>"
      ],
      "text/plain": [
       "<IPython.core.display.HTML object>"
      ]
     },
     "metadata": {},
     "output_type": "display_data"
    },
    {
     "data": {
      "text/html": [
       "Syncing run <strong><a href='https://wandb.ai/gmarinowandb-8601/RhetoricalRolesClassification-BUILD/runs/w4atr87l' target=\"_blank\">LEGAL-BERT-Trial26</a></strong> to <a href='https://wandb.ai/gmarinowandb-8601/RhetoricalRolesClassification-BUILD' target=\"_blank\">Weights & Biases</a> (<a href='https://wandb.me/run' target=\"_blank\">docs</a>)<br/>"
      ],
      "text/plain": [
       "<IPython.core.display.HTML object>"
      ]
     },
     "metadata": {},
     "output_type": "display_data"
    },
    {
     "data": {
      "text/html": [
       " View project at <a href='https://wandb.ai/gmarinowandb-8601/RhetoricalRolesClassification-BUILD' target=\"_blank\">https://wandb.ai/gmarinowandb-8601/RhetoricalRolesClassification-BUILD</a>"
      ],
      "text/plain": [
       "<IPython.core.display.HTML object>"
      ]
     },
     "metadata": {},
     "output_type": "display_data"
    },
    {
     "data": {
      "text/html": [
       " View run at <a href='https://wandb.ai/gmarinowandb-8601/RhetoricalRolesClassification-BUILD/runs/w4atr87l' target=\"_blank\">https://wandb.ai/gmarinowandb-8601/RhetoricalRolesClassification-BUILD/runs/w4atr87l</a>"
      ],
      "text/plain": [
       "<IPython.core.display.HTML object>"
      ]
     },
     "metadata": {},
     "output_type": "display_data"
    },
    {
     "name": "stdout",
     "output_type": "stream",
     "text": [
      "\n",
      "************** Training Started **************\n",
      "\n",
      "EPOCH N. 1\n"
     ]
    },
    {
     "name": "stderr",
     "output_type": "stream",
     "text": [
      "202it [00:40,  5.03it/s]\n"
     ]
    },
    {
     "name": "stdout",
     "output_type": "stream",
     "text": [
      "\n",
      "TRAIN RESULTS\n",
      "Loss: 0.012660878494904996\n",
      "Accuracy: 0.4999611680646163\n",
      "MCC: 0.3195814994933329\n",
      "Macro F1: 0.19760612586431964\n",
      "Macro Precision: 0.3838621409832589\n",
      "Macro Recall: 0.1870446536747701\n",
      "Micro F1: 0.4999611680646163\n",
      "Micro Precision: 0.4999611680646163\n",
      "Micro Recall: 0.4999611680646163\n",
      "\n",
      "VALIDATION RESULTS\n",
      "Loss: 0.01035559643059969\n",
      "Accuracy: 0.6079158936301794\n",
      "MCC: 0.4819117900592807\n",
      "Macro F1: 0.41273380888357053\n",
      "Macro Precision: 0.45317432539295527\n",
      "Macro Recall: 0.40191693129020656\n",
      "Micro F1: 0.6079158936301794\n",
      "Micro Precision: 0.6079158936301794\n",
      "Micro Recall: 0.6079158936301794\n",
      "--------------------------------------------------\n",
      "EPOCH N. 2\n"
     ]
    },
    {
     "name": "stderr",
     "output_type": "stream",
     "text": [
      "202it [00:40,  5.01it/s]\n"
     ]
    },
    {
     "name": "stdout",
     "output_type": "stream",
     "text": [
      "\n",
      "TRAIN RESULTS\n",
      "Loss: 0.0086567828390642\n",
      "Accuracy: 0.6507844050947499\n",
      "MCC: 0.5448387895086555\n",
      "Macro F1: 0.46438753414377965\n",
      "Macro Precision: 0.5571308317266852\n",
      "Macro Recall: 0.4396182517215755\n",
      "Micro F1: 0.6507844050947499\n",
      "Micro Precision: 0.6507844050947499\n",
      "Micro Recall: 0.6507844050947499\n",
      "\n",
      "VALIDATION RESULTS\n",
      "Loss: 0.009390240535140038\n",
      "Accuracy: 0.6264687693259122\n",
      "MCC: 0.5082376853162525\n",
      "Macro F1: 0.45389867220939184\n",
      "Macro Precision: 0.47740395254271406\n",
      "Macro Recall: 0.45701561073582564\n",
      "Micro F1: 0.6264687693259122\n",
      "Micro Precision: 0.6264687693259122\n",
      "Micro Recall: 0.6264687693259122\n",
      "--------------------------------------------------\n",
      "EPOCH N. 3\n"
     ]
    },
    {
     "name": "stderr",
     "output_type": "stream",
     "text": [
      "202it [00:39,  5.14it/s]\n"
     ]
    },
    {
     "name": "stdout",
     "output_type": "stream",
     "text": [
      "\n",
      "TRAIN RESULTS\n",
      "Loss: 0.007290594974135197\n",
      "Accuracy: 0.7040618204411307\n",
      "MCC: 0.617661395241374\n",
      "Macro F1: 0.5426704975107942\n",
      "Macro Precision: 0.6190202899131597\n",
      "Macro Recall: 0.5182988643555517\n",
      "Micro F1: 0.7040618204411307\n",
      "Micro Precision: 0.7040618204411307\n",
      "Micro Recall: 0.7040618204411307\n",
      "\n",
      "VALIDATION RESULTS\n",
      "Loss: 0.009340204298496246\n",
      "Accuracy: 0.6323438466295609\n",
      "MCC: 0.5130354073636246\n",
      "Macro F1: 0.4670419673446266\n",
      "Macro Precision: 0.5432048673206551\n",
      "Macro Recall: 0.44709986260429563\n",
      "Micro F1: 0.6323438466295609\n",
      "Micro Precision: 0.6323438466295609\n",
      "Micro Recall: 0.6323438466295609\n",
      "--------------------------------------------------\n",
      "EPOCH N. 4\n"
     ]
    },
    {
     "name": "stderr",
     "output_type": "stream",
     "text": [
      "202it [00:40,  5.02it/s]\n"
     ]
    },
    {
     "name": "stdout",
     "output_type": "stream",
     "text": [
      "\n",
      "TRAIN RESULTS\n",
      "Loss: 0.0061599276763158175\n",
      "Accuracy: 0.746349798073936\n",
      "MCC: 0.6737228522452197\n",
      "Macro F1: 0.597793731994306\n",
      "Macro Precision: 0.6652264500164379\n",
      "Macro Recall: 0.5690994488016821\n",
      "Micro F1: 0.746349798073936\n",
      "Micro Precision: 0.746349798073936\n",
      "Micro Recall: 0.746349798073936\n",
      "\n",
      "VALIDATION RESULTS\n",
      "Loss: 0.009951915591955185\n",
      "Accuracy: 0.6137909709338281\n",
      "MCC: 0.5001986572285743\n",
      "Macro F1: 0.47247908349711143\n",
      "Macro Precision: 0.49668388640416494\n",
      "Macro Recall: 0.48384638796590146\n",
      "Micro F1: 0.6137909709338281\n",
      "Micro Precision: 0.6137909709338281\n",
      "Micro Recall: 0.6137909709338281\n",
      "--------------------------------------------------\n",
      "EPOCH N. 5\n"
     ]
    },
    {
     "name": "stderr",
     "output_type": "stream",
     "text": [
      "202it [00:40,  4.96it/s]\n"
     ]
    },
    {
     "name": "stdout",
     "output_type": "stream",
     "text": [
      "\n",
      "TRAIN RESULTS\n",
      "Loss: 0.005143299826130655\n",
      "Accuracy: 0.7887154395775086\n",
      "MCC: 0.7296667174304938\n",
      "Macro F1: 0.655183335866586\n",
      "Macro Precision: 0.7060987641723819\n",
      "Macro Recall: 0.6270510405512304\n",
      "Micro F1: 0.7887154395775086\n",
      "Micro Precision: 0.7887154395775086\n",
      "Micro Recall: 0.7887154395775086\n",
      "\n",
      "VALIDATION RESULTS\n",
      "Loss: 0.01068988349288702\n",
      "Accuracy: 0.5853432282003711\n",
      "MCC: 0.46182629551665016\n",
      "Macro F1: 0.46310066902866937\n",
      "Macro Precision: 0.5044987922775\n",
      "Macro Recall: 0.47512284800594967\n",
      "Micro F1: 0.5853432282003711\n",
      "Micro Precision: 0.5853432282003711\n",
      "Micro Recall: 0.5853432282003711\n",
      "Early stopped training\n",
      "--------------------------------------------------\n"
     ]
    },
    {
     "data": {
      "text/html": [
       "Waiting for W&B process to finish... <strong style=\"color:green\">(success).</strong>"
      ],
      "text/plain": [
       "<IPython.core.display.HTML object>"
      ]
     },
     "metadata": {},
     "output_type": "display_data"
    },
    {
     "data": {
      "application/vnd.jupyter.widget-view+json": {
       "model_id": "70d07ddc5f6544119f50b18aaee99be4",
       "version_major": 2,
       "version_minor": 0
      },
      "text/plain": [
       "VBox(children=(Label(value='0.005 MB of 0.005 MB uploaded (0.000 MB deduped)\\r'), FloatProgress(value=1.0, max…"
      ]
     },
     "metadata": {},
     "output_type": "display_data"
    },
    {
     "data": {
      "text/html": [
       "<style>\n",
       "    table.wandb td:nth-child(1) { padding: 0 10px; text-align: left ; width: auto;} td:nth-child(2) {text-align: left ; width: 100%}\n",
       "    .wandb-row { display: flex; flex-direction: row; flex-wrap: wrap; justify-content: flex-start; width: 100% }\n",
       "    .wandb-col { display: flex; flex-direction: column; flex-basis: 100%; flex: 1; padding: 10px; }\n",
       "    </style>\n",
       "<div class=\"wandb-row\"><div class=\"wandb-col\"><h3>Run history:</h3><br/><table class=\"wandb\"><tr><td>Epoch</td><td>▁▃▅▆█</td></tr><tr><td>Train Loss</td><td>█▄▃▂▁</td></tr><tr><td>Validation Loss</td><td>▆▁▁▄█</td></tr></table><br/></div><div class=\"wandb-col\"><h3>Run summary:</h3><br/><table class=\"wandb\"><tr><td>Epoch</td><td>5</td></tr><tr><td>Train Loss</td><td>0.00514</td></tr><tr><td>Validation Loss</td><td>0.01069</td></tr></table><br/></div></div>"
      ],
      "text/plain": [
       "<IPython.core.display.HTML object>"
      ]
     },
     "metadata": {},
     "output_type": "display_data"
    },
    {
     "data": {
      "text/html": [
       " View run <strong style=\"color:#cdcd00\">LEGAL-BERT-Trial26</strong> at: <a href='https://wandb.ai/gmarinowandb-8601/RhetoricalRolesClassification-BUILD/runs/w4atr87l' target=\"_blank\">https://wandb.ai/gmarinowandb-8601/RhetoricalRolesClassification-BUILD/runs/w4atr87l</a><br/>Synced 5 W&B file(s), 0 media file(s), 0 artifact file(s) and 0 other file(s)"
      ],
      "text/plain": [
       "<IPython.core.display.HTML object>"
      ]
     },
     "metadata": {},
     "output_type": "display_data"
    },
    {
     "data": {
      "text/html": [
       "Find logs at: <code>./wandb/run-20230424_204241-w4atr87l/logs</code>"
      ],
      "text/plain": [
       "<IPython.core.display.HTML object>"
      ]
     },
     "metadata": {},
     "output_type": "display_data"
    },
    {
     "name": "stderr",
     "output_type": "stream",
     "text": [
      "\u001b[32m[I 2023-04-24 20:46:40,020]\u001b[0m Trial 26 finished with value: 0.009340204298496246 and parameters: {'lr': 4.488597573210124e-05, 'weight_decay': 0.09255692106763158}. Best is trial 21 with value: 0.009085902944207191.\u001b[0m\n"
     ]
    },
    {
     "name": "stdout",
     "output_type": "stream",
     "text": [
      "\n",
      "************************ Starting New Optuna Trial ************************\n",
      "\n"
     ]
    },
    {
     "name": "stderr",
     "output_type": "stream",
     "text": [
      "Some weights of the model checkpoint at nlpaueb/legal-bert-base-uncased were not used when initializing BertForSequenceClassification: ['cls.predictions.bias', 'cls.predictions.transform.dense.bias', 'cls.predictions.transform.dense.weight', 'cls.seq_relationship.weight', 'cls.seq_relationship.bias', 'cls.predictions.transform.LayerNorm.weight', 'cls.predictions.decoder.bias', 'cls.predictions.transform.LayerNorm.bias', 'cls.predictions.decoder.weight']\n",
      "- This IS expected if you are initializing BertForSequenceClassification from the checkpoint of a model trained on another task or with another architecture (e.g. initializing a BertForSequenceClassification model from a BertForPreTraining model).\n",
      "- This IS NOT expected if you are initializing BertForSequenceClassification from the checkpoint of a model that you expect to be exactly identical (initializing a BertForSequenceClassification model from a BertForSequenceClassification model).\n",
      "Some weights of BertForSequenceClassification were not initialized from the model checkpoint at nlpaueb/legal-bert-base-uncased and are newly initialized: ['classifier.bias', 'classifier.weight']\n",
      "You should probably TRAIN this model on a down-stream task to be able to use it for predictions and inference.\n"
     ]
    },
    {
     "data": {
      "text/html": [
       "wandb version 0.15.0 is available!  To upgrade, please run:\n",
       " $ pip install wandb --upgrade"
      ],
      "text/plain": [
       "<IPython.core.display.HTML object>"
      ]
     },
     "metadata": {},
     "output_type": "display_data"
    },
    {
     "data": {
      "text/html": [
       "Tracking run with wandb version 0.13.10"
      ],
      "text/plain": [
       "<IPython.core.display.HTML object>"
      ]
     },
     "metadata": {},
     "output_type": "display_data"
    },
    {
     "data": {
      "text/html": [
       "Run data is saved locally in <code>/home/g.marino/Desktop/GA/RhetoricalRolesClassification/BUILD/wandb/run-20230424_204641-zi59e8fz</code>"
      ],
      "text/plain": [
       "<IPython.core.display.HTML object>"
      ]
     },
     "metadata": {},
     "output_type": "display_data"
    },
    {
     "data": {
      "text/html": [
       "Syncing run <strong><a href='https://wandb.ai/gmarinowandb-8601/RhetoricalRolesClassification-BUILD/runs/zi59e8fz' target=\"_blank\">LEGAL-BERT-Trial27</a></strong> to <a href='https://wandb.ai/gmarinowandb-8601/RhetoricalRolesClassification-BUILD' target=\"_blank\">Weights & Biases</a> (<a href='https://wandb.me/run' target=\"_blank\">docs</a>)<br/>"
      ],
      "text/plain": [
       "<IPython.core.display.HTML object>"
      ]
     },
     "metadata": {},
     "output_type": "display_data"
    },
    {
     "data": {
      "text/html": [
       " View project at <a href='https://wandb.ai/gmarinowandb-8601/RhetoricalRolesClassification-BUILD' target=\"_blank\">https://wandb.ai/gmarinowandb-8601/RhetoricalRolesClassification-BUILD</a>"
      ],
      "text/plain": [
       "<IPython.core.display.HTML object>"
      ]
     },
     "metadata": {},
     "output_type": "display_data"
    },
    {
     "data": {
      "text/html": [
       " View run at <a href='https://wandb.ai/gmarinowandb-8601/RhetoricalRolesClassification-BUILD/runs/zi59e8fz' target=\"_blank\">https://wandb.ai/gmarinowandb-8601/RhetoricalRolesClassification-BUILD/runs/zi59e8fz</a>"
      ],
      "text/plain": [
       "<IPython.core.display.HTML object>"
      ]
     },
     "metadata": {},
     "output_type": "display_data"
    },
    {
     "name": "stdout",
     "output_type": "stream",
     "text": [
      "\n",
      "************** Training Started **************\n",
      "\n",
      "EPOCH N. 1\n"
     ]
    },
    {
     "name": "stderr",
     "output_type": "stream",
     "text": [
      "202it [00:46,  4.35it/s]\n"
     ]
    },
    {
     "name": "stdout",
     "output_type": "stream",
     "text": [
      "\n",
      "TRAIN RESULTS\n",
      "Loss: 0.012500042263007601\n",
      "Accuracy: 0.49219478098788444\n",
      "MCC: 0.3097949354625855\n",
      "Macro F1: 0.23334119647507762\n",
      "Macro Precision: 0.3951948334313593\n",
      "Macro Recall: 0.21186657675726644\n",
      "Micro F1: 0.49219478098788444\n",
      "Micro Precision: 0.49219478098788444\n",
      "Micro Recall: 0.49219478098788444\n",
      "\n",
      "VALIDATION RESULTS\n",
      "Loss: 0.010300052352249622\n",
      "Accuracy: 0.6082251082251082\n",
      "MCC: 0.4963216426207745\n",
      "Macro F1: 0.4408830292563917\n",
      "Macro Precision: 0.450866296620239\n",
      "Macro Recall: 0.46567696575007983\n",
      "Micro F1: 0.6082251082251082\n",
      "Micro Precision: 0.6082251082251082\n",
      "Micro Recall: 0.6082251082251082\n",
      "--------------------------------------------------\n",
      "EPOCH N. 2\n"
     ]
    },
    {
     "name": "stderr",
     "output_type": "stream",
     "text": [
      "202it [00:42,  4.75it/s]\n"
     ]
    },
    {
     "name": "stdout",
     "output_type": "stream",
     "text": [
      "\n",
      "TRAIN RESULTS\n",
      "Loss: 0.008172933478631675\n",
      "Accuracy: 0.6641425908667288\n",
      "MCC: 0.5641604713237556\n",
      "Macro F1: 0.4891386283476038\n",
      "Macro Precision: 0.5683907537203585\n",
      "Macro Recall: 0.4720583141236647\n",
      "Micro F1: 0.6641425908667288\n",
      "Micro Precision: 0.6641425908667288\n",
      "Micro Recall: 0.6641425908667288\n",
      "\n",
      "VALIDATION RESULTS\n",
      "Loss: 0.009526328183710575\n",
      "Accuracy: 0.621830550401979\n",
      "MCC: 0.5004340851647762\n",
      "Macro F1: 0.46126191121291765\n",
      "Macro Precision: 0.5217311858549931\n",
      "Macro Recall: 0.43485491645610896\n",
      "Micro F1: 0.621830550401979\n",
      "Micro Precision: 0.621830550401979\n",
      "Micro Recall: 0.621830550401979\n",
      "--------------------------------------------------\n",
      "EPOCH N. 3\n"
     ]
    },
    {
     "name": "stderr",
     "output_type": "stream",
     "text": [
      "202it [00:41,  4.85it/s]\n"
     ]
    },
    {
     "name": "stdout",
     "output_type": "stream",
     "text": [
      "\n",
      "TRAIN RESULTS\n",
      "Loss: 0.006391471128594842\n",
      "Accuracy: 0.7345060577819198\n",
      "MCC: 0.659175793507564\n",
      "Macro F1: 0.5876620468424433\n",
      "Macro Precision: 0.6372968479468517\n",
      "Macro Recall: 0.5678267307697631\n",
      "Micro F1: 0.7345060577819199\n",
      "Micro Precision: 0.7345060577819198\n",
      "Micro Recall: 0.7345060577819198\n",
      "\n",
      "VALIDATION RESULTS\n",
      "Loss: 0.009758690372109413\n",
      "Accuracy: 0.6004947433518862\n",
      "MCC: 0.4791958370014852\n",
      "Macro F1: 0.4590111884454652\n",
      "Macro Precision: 0.5005791478488406\n",
      "Macro Recall: 0.4548637501990052\n",
      "Micro F1: 0.6004947433518862\n",
      "Micro Precision: 0.6004947433518862\n",
      "Micro Recall: 0.6004947433518862\n",
      "--------------------------------------------------\n",
      "EPOCH N. 4\n"
     ]
    },
    {
     "name": "stderr",
     "output_type": "stream",
     "text": [
      "202it [00:40,  4.97it/s]\n"
     ]
    },
    {
     "name": "stdout",
     "output_type": "stream",
     "text": [
      "\n",
      "TRAIN RESULTS\n",
      "Loss: 0.004716099480889754\n",
      "Accuracy: 0.8014523143833489\n",
      "MCC: 0.747231154574628\n",
      "Macro F1: 0.6788217796586659\n",
      "Macro Precision: 0.7074002012608335\n",
      "Macro Recall: 0.6610648521143301\n",
      "Micro F1: 0.8014523143833489\n",
      "Micro Precision: 0.8014523143833489\n",
      "Micro Recall: 0.8014523143833489\n",
      "\n",
      "VALIDATION RESULTS\n",
      "Loss: 0.011432296596467495\n",
      "Accuracy: 0.575139146567718\n",
      "MCC: 0.4507041758569831\n",
      "Macro F1: 0.44658407453391585\n",
      "Macro Precision: 0.45716681860297903\n",
      "Macro Recall: 0.45761783938742207\n",
      "Micro F1: 0.575139146567718\n",
      "Micro Precision: 0.575139146567718\n",
      "Micro Recall: 0.575139146567718\n",
      "Early stopped training\n",
      "--------------------------------------------------\n"
     ]
    },
    {
     "data": {
      "text/html": [
       "Waiting for W&B process to finish... <strong style=\"color:green\">(success).</strong>"
      ],
      "text/plain": [
       "<IPython.core.display.HTML object>"
      ]
     },
     "metadata": {},
     "output_type": "display_data"
    },
    {
     "data": {
      "application/vnd.jupyter.widget-view+json": {
       "model_id": "b71f17b7b97249a6947ede965cff02bc",
       "version_major": 2,
       "version_minor": 0
      },
      "text/plain": [
       "VBox(children=(Label(value='0.005 MB of 0.005 MB uploaded (0.000 MB deduped)\\r'), FloatProgress(value=1.0, max…"
      ]
     },
     "metadata": {},
     "output_type": "display_data"
    },
    {
     "data": {
      "text/html": [
       "<style>\n",
       "    table.wandb td:nth-child(1) { padding: 0 10px; text-align: left ; width: auto;} td:nth-child(2) {text-align: left ; width: 100%}\n",
       "    .wandb-row { display: flex; flex-direction: row; flex-wrap: wrap; justify-content: flex-start; width: 100% }\n",
       "    .wandb-col { display: flex; flex-direction: column; flex-basis: 100%; flex: 1; padding: 10px; }\n",
       "    </style>\n",
       "<div class=\"wandb-row\"><div class=\"wandb-col\"><h3>Run history:</h3><br/><table class=\"wandb\"><tr><td>Epoch</td><td>▁▃▆█</td></tr><tr><td>Train Loss</td><td>█▄▃▁</td></tr><tr><td>Validation Loss</td><td>▄▁▂█</td></tr></table><br/></div><div class=\"wandb-col\"><h3>Run summary:</h3><br/><table class=\"wandb\"><tr><td>Epoch</td><td>4</td></tr><tr><td>Train Loss</td><td>0.00472</td></tr><tr><td>Validation Loss</td><td>0.01143</td></tr></table><br/></div></div>"
      ],
      "text/plain": [
       "<IPython.core.display.HTML object>"
      ]
     },
     "metadata": {},
     "output_type": "display_data"
    },
    {
     "data": {
      "text/html": [
       " View run <strong style=\"color:#cdcd00\">LEGAL-BERT-Trial27</strong> at: <a href='https://wandb.ai/gmarinowandb-8601/RhetoricalRolesClassification-BUILD/runs/zi59e8fz' target=\"_blank\">https://wandb.ai/gmarinowandb-8601/RhetoricalRolesClassification-BUILD/runs/zi59e8fz</a><br/>Synced 5 W&B file(s), 0 media file(s), 0 artifact file(s) and 0 other file(s)"
      ],
      "text/plain": [
       "<IPython.core.display.HTML object>"
      ]
     },
     "metadata": {},
     "output_type": "display_data"
    },
    {
     "data": {
      "text/html": [
       "Find logs at: <code>./wandb/run-20230424_204641-zi59e8fz/logs</code>"
      ],
      "text/plain": [
       "<IPython.core.display.HTML object>"
      ]
     },
     "metadata": {},
     "output_type": "display_data"
    },
    {
     "name": "stderr",
     "output_type": "stream",
     "text": [
      "\u001b[32m[I 2023-04-24 20:50:09,365]\u001b[0m Trial 27 finished with value: 0.009526328183710575 and parameters: {'lr': 0.00016169456406629672, 'weight_decay': 0.07206516905338067}. Best is trial 21 with value: 0.009085902944207191.\u001b[0m\n"
     ]
    },
    {
     "name": "stdout",
     "output_type": "stream",
     "text": [
      "\n",
      "************************ Starting New Optuna Trial ************************\n",
      "\n"
     ]
    },
    {
     "name": "stderr",
     "output_type": "stream",
     "text": [
      "Some weights of the model checkpoint at nlpaueb/legal-bert-base-uncased were not used when initializing BertForSequenceClassification: ['cls.predictions.bias', 'cls.predictions.transform.dense.bias', 'cls.predictions.transform.dense.weight', 'cls.seq_relationship.weight', 'cls.seq_relationship.bias', 'cls.predictions.transform.LayerNorm.weight', 'cls.predictions.decoder.bias', 'cls.predictions.transform.LayerNorm.bias', 'cls.predictions.decoder.weight']\n",
      "- This IS expected if you are initializing BertForSequenceClassification from the checkpoint of a model trained on another task or with another architecture (e.g. initializing a BertForSequenceClassification model from a BertForPreTraining model).\n",
      "- This IS NOT expected if you are initializing BertForSequenceClassification from the checkpoint of a model that you expect to be exactly identical (initializing a BertForSequenceClassification model from a BertForSequenceClassification model).\n",
      "Some weights of BertForSequenceClassification were not initialized from the model checkpoint at nlpaueb/legal-bert-base-uncased and are newly initialized: ['classifier.bias', 'classifier.weight']\n",
      "You should probably TRAIN this model on a down-stream task to be able to use it for predictions and inference.\n"
     ]
    },
    {
     "data": {
      "application/vnd.jupyter.widget-view+json": {
       "model_id": "1ce3163deea84e648c78d7625ed1eca9",
       "version_major": 2,
       "version_minor": 0
      },
      "text/plain": [
       "VBox(children=(Label(value='Waiting for wandb.init()...\\r'), FloatProgress(value=0.016668308588365714, max=1.0…"
      ]
     },
     "metadata": {},
     "output_type": "display_data"
    },
    {
     "data": {
      "text/html": [
       "wandb version 0.15.0 is available!  To upgrade, please run:\n",
       " $ pip install wandb --upgrade"
      ],
      "text/plain": [
       "<IPython.core.display.HTML object>"
      ]
     },
     "metadata": {},
     "output_type": "display_data"
    },
    {
     "data": {
      "text/html": [
       "Tracking run with wandb version 0.13.10"
      ],
      "text/plain": [
       "<IPython.core.display.HTML object>"
      ]
     },
     "metadata": {},
     "output_type": "display_data"
    },
    {
     "data": {
      "text/html": [
       "Run data is saved locally in <code>/home/g.marino/Desktop/GA/RhetoricalRolesClassification/BUILD/wandb/run-20230424_205010-yaupumaf</code>"
      ],
      "text/plain": [
       "<IPython.core.display.HTML object>"
      ]
     },
     "metadata": {},
     "output_type": "display_data"
    },
    {
     "data": {
      "text/html": [
       "Syncing run <strong><a href='https://wandb.ai/gmarinowandb-8601/RhetoricalRolesClassification-BUILD/runs/yaupumaf' target=\"_blank\">LEGAL-BERT-Trial28</a></strong> to <a href='https://wandb.ai/gmarinowandb-8601/RhetoricalRolesClassification-BUILD' target=\"_blank\">Weights & Biases</a> (<a href='https://wandb.me/run' target=\"_blank\">docs</a>)<br/>"
      ],
      "text/plain": [
       "<IPython.core.display.HTML object>"
      ]
     },
     "metadata": {},
     "output_type": "display_data"
    },
    {
     "data": {
      "text/html": [
       " View project at <a href='https://wandb.ai/gmarinowandb-8601/RhetoricalRolesClassification-BUILD' target=\"_blank\">https://wandb.ai/gmarinowandb-8601/RhetoricalRolesClassification-BUILD</a>"
      ],
      "text/plain": [
       "<IPython.core.display.HTML object>"
      ]
     },
     "metadata": {},
     "output_type": "display_data"
    },
    {
     "data": {
      "text/html": [
       " View run at <a href='https://wandb.ai/gmarinowandb-8601/RhetoricalRolesClassification-BUILD/runs/yaupumaf' target=\"_blank\">https://wandb.ai/gmarinowandb-8601/RhetoricalRolesClassification-BUILD/runs/yaupumaf</a>"
      ],
      "text/plain": [
       "<IPython.core.display.HTML object>"
      ]
     },
     "metadata": {},
     "output_type": "display_data"
    },
    {
     "name": "stdout",
     "output_type": "stream",
     "text": [
      "\n",
      "************** Training Started **************\n",
      "\n",
      "EPOCH N. 1\n"
     ]
    },
    {
     "name": "stderr",
     "output_type": "stream",
     "text": [
      "202it [00:40,  4.93it/s]\n"
     ]
    },
    {
     "name": "stdout",
     "output_type": "stream",
     "text": [
      "\n",
      "TRAIN RESULTS\n",
      "Loss: 0.013213482882414371\n",
      "Accuracy: 0.47693383038210624\n",
      "MCC: 0.28403397957761567\n",
      "Macro F1: 0.17527076988567247\n",
      "Macro Precision: 0.3016378107347901\n",
      "Macro Recall: 0.16889845857886407\n",
      "Micro F1: 0.47693383038210624\n",
      "Micro Precision: 0.47693383038210624\n",
      "Micro Recall: 0.47693383038210624\n",
      "\n",
      "VALIDATION RESULTS\n",
      "Loss: 0.010874216444790363\n",
      "Accuracy: 0.5695732838589982\n",
      "MCC: 0.4291803367052489\n",
      "Macro F1: 0.3697326397008338\n",
      "Macro Precision: 0.43535564078503497\n",
      "Macro Recall: 0.3623083172971002\n",
      "Micro F1: 0.5695732838589982\n",
      "Micro Precision: 0.5695732838589982\n",
      "Micro Recall: 0.5695732838589982\n",
      "--------------------------------------------------\n",
      "EPOCH N. 2\n"
     ]
    },
    {
     "name": "stderr",
     "output_type": "stream",
     "text": [
      "202it [00:44,  4.55it/s]\n"
     ]
    },
    {
     "name": "stdout",
     "output_type": "stream",
     "text": [
      "\n",
      "TRAIN RESULTS\n",
      "Loss: 0.008615124150161678\n",
      "Accuracy: 0.648842808325567\n",
      "MCC: 0.5429128796592456\n",
      "Macro F1: 0.46690755794674704\n",
      "Macro Precision: 0.5483820055890448\n",
      "Macro Recall: 0.44302829626618906\n",
      "Micro F1: 0.648842808325567\n",
      "Micro Precision: 0.648842808325567\n",
      "Micro Recall: 0.648842808325567\n",
      "\n",
      "VALIDATION RESULTS\n",
      "Loss: 0.0092073455452919\n",
      "Accuracy: 0.6280148423005566\n",
      "MCC: 0.5129150750575491\n",
      "Macro F1: 0.46330868727217095\n",
      "Macro Precision: 0.5028204573211078\n",
      "Macro Recall: 0.4613661126047155\n",
      "Micro F1: 0.6280148423005566\n",
      "Micro Precision: 0.6280148423005566\n",
      "Micro Recall: 0.6280148423005566\n",
      "--------------------------------------------------\n",
      "EPOCH N. 3\n"
     ]
    },
    {
     "name": "stderr",
     "output_type": "stream",
     "text": [
      "202it [00:42,  4.72it/s]\n"
     ]
    },
    {
     "name": "stdout",
     "output_type": "stream",
     "text": [
      "\n",
      "TRAIN RESULTS\n",
      "Loss: 0.006753245075228941\n",
      "Accuracy: 0.7148959304131718\n",
      "MCC: 0.6328535098266072\n",
      "Macro F1: 0.5618907081501487\n",
      "Macro Precision: 0.6334423642055043\n",
      "Macro Recall: 0.5413216232273453\n",
      "Micro F1: 0.7148959304131718\n",
      "Micro Precision: 0.7148959304131718\n",
      "Micro Recall: 0.7148959304131718\n",
      "\n",
      "VALIDATION RESULTS\n",
      "Loss: 0.00964775588363409\n",
      "Accuracy: 0.6134817563388992\n",
      "MCC: 0.497711370916019\n",
      "Macro F1: 0.47285581541409416\n",
      "Macro Precision: 0.5131858057748772\n",
      "Macro Recall: 0.4686460533882923\n",
      "Micro F1: 0.6134817563388992\n",
      "Micro Precision: 0.6134817563388992\n",
      "Micro Recall: 0.6134817563388992\n",
      "--------------------------------------------------\n",
      "EPOCH N. 4\n"
     ]
    },
    {
     "name": "stderr",
     "output_type": "stream",
     "text": [
      "202it [00:39,  5.08it/s]\n"
     ]
    },
    {
     "name": "stdout",
     "output_type": "stream",
     "text": [
      "\n",
      "TRAIN RESULTS\n",
      "Loss: 0.005208090984625045\n",
      "Accuracy: 0.7785414725069898\n",
      "MCC: 0.7168906421604965\n",
      "Macro F1: 0.6463771320304026\n",
      "Macro Precision: 0.7664065010483493\n",
      "Macro Recall: 0.6232228768388771\n",
      "Micro F1: 0.7785414725069898\n",
      "Micro Precision: 0.7785414725069898\n",
      "Micro Recall: 0.7785414725069898\n",
      "\n",
      "VALIDATION RESULTS\n",
      "Loss: 0.010634888894855976\n",
      "Accuracy: 0.5865800865800865\n",
      "MCC: 0.4709358910647265\n",
      "Macro F1: 0.46361839225858836\n",
      "Macro Precision: 0.47671735257203574\n",
      "Macro Recall: 0.4790830300530138\n",
      "Micro F1: 0.5865800865800865\n",
      "Micro Precision: 0.5865800865800865\n",
      "Micro Recall: 0.5865800865800865\n",
      "Early stopped training\n",
      "--------------------------------------------------\n"
     ]
    },
    {
     "data": {
      "text/html": [
       "Waiting for W&B process to finish... <strong style=\"color:green\">(success).</strong>"
      ],
      "text/plain": [
       "<IPython.core.display.HTML object>"
      ]
     },
     "metadata": {},
     "output_type": "display_data"
    },
    {
     "data": {
      "text/html": [
       "<style>\n",
       "    table.wandb td:nth-child(1) { padding: 0 10px; text-align: left ; width: auto;} td:nth-child(2) {text-align: left ; width: 100%}\n",
       "    .wandb-row { display: flex; flex-direction: row; flex-wrap: wrap; justify-content: flex-start; width: 100% }\n",
       "    .wandb-col { display: flex; flex-direction: column; flex-basis: 100%; flex: 1; padding: 10px; }\n",
       "    </style>\n",
       "<div class=\"wandb-row\"><div class=\"wandb-col\"><h3>Run history:</h3><br/><table class=\"wandb\"><tr><td>Epoch</td><td>▁▃▆█</td></tr><tr><td>Train Loss</td><td>█▄▂▁</td></tr><tr><td>Validation Loss</td><td>█▁▃▇</td></tr></table><br/></div><div class=\"wandb-col\"><h3>Run summary:</h3><br/><table class=\"wandb\"><tr><td>Epoch</td><td>4</td></tr><tr><td>Train Loss</td><td>0.00521</td></tr><tr><td>Validation Loss</td><td>0.01063</td></tr></table><br/></div></div>"
      ],
      "text/plain": [
       "<IPython.core.display.HTML object>"
      ]
     },
     "metadata": {},
     "output_type": "display_data"
    },
    {
     "data": {
      "text/html": [
       " View run <strong style=\"color:#cdcd00\">LEGAL-BERT-Trial28</strong> at: <a href='https://wandb.ai/gmarinowandb-8601/RhetoricalRolesClassification-BUILD/runs/yaupumaf' target=\"_blank\">https://wandb.ai/gmarinowandb-8601/RhetoricalRolesClassification-BUILD/runs/yaupumaf</a><br/>Synced 5 W&B file(s), 0 media file(s), 0 artifact file(s) and 0 other file(s)"
      ],
      "text/plain": [
       "<IPython.core.display.HTML object>"
      ]
     },
     "metadata": {},
     "output_type": "display_data"
    },
    {
     "data": {
      "text/html": [
       "Find logs at: <code>./wandb/run-20230424_205010-yaupumaf/logs</code>"
      ],
      "text/plain": [
       "<IPython.core.display.HTML object>"
      ]
     },
     "metadata": {},
     "output_type": "display_data"
    },
    {
     "name": "stderr",
     "output_type": "stream",
     "text": [
      "\u001b[32m[I 2023-04-24 20:53:32,377]\u001b[0m Trial 28 finished with value: 0.0092073455452919 and parameters: {'lr': 8.994586149938703e-05, 'weight_decay': 0.08379160487572104}. Best is trial 21 with value: 0.009085902944207191.\u001b[0m\n"
     ]
    },
    {
     "name": "stdout",
     "output_type": "stream",
     "text": [
      "\n",
      "************************ Starting New Optuna Trial ************************\n",
      "\n"
     ]
    },
    {
     "name": "stderr",
     "output_type": "stream",
     "text": [
      "Some weights of the model checkpoint at nlpaueb/legal-bert-base-uncased were not used when initializing BertForSequenceClassification: ['cls.predictions.bias', 'cls.predictions.transform.dense.bias', 'cls.predictions.transform.dense.weight', 'cls.seq_relationship.weight', 'cls.seq_relationship.bias', 'cls.predictions.transform.LayerNorm.weight', 'cls.predictions.decoder.bias', 'cls.predictions.transform.LayerNorm.bias', 'cls.predictions.decoder.weight']\n",
      "- This IS expected if you are initializing BertForSequenceClassification from the checkpoint of a model trained on another task or with another architecture (e.g. initializing a BertForSequenceClassification model from a BertForPreTraining model).\n",
      "- This IS NOT expected if you are initializing BertForSequenceClassification from the checkpoint of a model that you expect to be exactly identical (initializing a BertForSequenceClassification model from a BertForSequenceClassification model).\n",
      "Some weights of BertForSequenceClassification were not initialized from the model checkpoint at nlpaueb/legal-bert-base-uncased and are newly initialized: ['classifier.bias', 'classifier.weight']\n",
      "You should probably TRAIN this model on a down-stream task to be able to use it for predictions and inference.\n"
     ]
    },
    {
     "data": {
      "text/html": [
       "wandb version 0.15.0 is available!  To upgrade, please run:\n",
       " $ pip install wandb --upgrade"
      ],
      "text/plain": [
       "<IPython.core.display.HTML object>"
      ]
     },
     "metadata": {},
     "output_type": "display_data"
    },
    {
     "data": {
      "text/html": [
       "Tracking run with wandb version 0.13.10"
      ],
      "text/plain": [
       "<IPython.core.display.HTML object>"
      ]
     },
     "metadata": {},
     "output_type": "display_data"
    },
    {
     "data": {
      "text/html": [
       "Run data is saved locally in <code>/home/g.marino/Desktop/GA/RhetoricalRolesClassification/BUILD/wandb/run-20230424_205334-5cjrpekq</code>"
      ],
      "text/plain": [
       "<IPython.core.display.HTML object>"
      ]
     },
     "metadata": {},
     "output_type": "display_data"
    },
    {
     "data": {
      "text/html": [
       "Syncing run <strong><a href='https://wandb.ai/gmarinowandb-8601/RhetoricalRolesClassification-BUILD/runs/5cjrpekq' target=\"_blank\">LEGAL-BERT-Trial29</a></strong> to <a href='https://wandb.ai/gmarinowandb-8601/RhetoricalRolesClassification-BUILD' target=\"_blank\">Weights & Biases</a> (<a href='https://wandb.me/run' target=\"_blank\">docs</a>)<br/>"
      ],
      "text/plain": [
       "<IPython.core.display.HTML object>"
      ]
     },
     "metadata": {},
     "output_type": "display_data"
    },
    {
     "data": {
      "text/html": [
       " View project at <a href='https://wandb.ai/gmarinowandb-8601/RhetoricalRolesClassification-BUILD' target=\"_blank\">https://wandb.ai/gmarinowandb-8601/RhetoricalRolesClassification-BUILD</a>"
      ],
      "text/plain": [
       "<IPython.core.display.HTML object>"
      ]
     },
     "metadata": {},
     "output_type": "display_data"
    },
    {
     "data": {
      "text/html": [
       " View run at <a href='https://wandb.ai/gmarinowandb-8601/RhetoricalRolesClassification-BUILD/runs/5cjrpekq' target=\"_blank\">https://wandb.ai/gmarinowandb-8601/RhetoricalRolesClassification-BUILD/runs/5cjrpekq</a>"
      ],
      "text/plain": [
       "<IPython.core.display.HTML object>"
      ]
     },
     "metadata": {},
     "output_type": "display_data"
    },
    {
     "name": "stdout",
     "output_type": "stream",
     "text": [
      "\n",
      "************** Training Started **************\n",
      "\n",
      "EPOCH N. 1\n"
     ]
    },
    {
     "name": "stderr",
     "output_type": "stream",
     "text": [
      "202it [00:45,  4.49it/s]\n"
     ]
    },
    {
     "name": "stdout",
     "output_type": "stream",
     "text": [
      "\n",
      "TRAIN RESULTS\n",
      "Loss: 0.013012123093096949\n",
      "Accuracy: 0.47720565392979186\n",
      "MCC: 0.28779146355677\n",
      "Macro F1: 0.1913514539141222\n",
      "Macro Precision: 0.3253000479162249\n",
      "Macro Recall: 0.1784666094249567\n",
      "Micro F1: 0.47720565392979186\n",
      "Micro Precision: 0.47720565392979186\n",
      "Micro Recall: 0.47720565392979186\n",
      "\n",
      "VALIDATION RESULTS\n",
      "Loss: 0.010292048566043377\n",
      "Accuracy: 0.6076066790352505\n",
      "MCC: 0.47854940290190606\n",
      "Macro F1: 0.38160500468247716\n",
      "Macro Precision: 0.45442178513507414\n",
      "Macro Recall: 0.3813268474585465\n",
      "Micro F1: 0.6076066790352505\n",
      "Micro Precision: 0.6076066790352505\n",
      "Micro Recall: 0.6076066790352505\n",
      "--------------------------------------------------\n",
      "EPOCH N. 2\n"
     ]
    },
    {
     "name": "stderr",
     "output_type": "stream",
     "text": [
      "202it [00:39,  5.13it/s]\n"
     ]
    },
    {
     "name": "stdout",
     "output_type": "stream",
     "text": [
      "\n",
      "TRAIN RESULTS\n",
      "Loss: 0.008658592570972354\n",
      "Accuracy: 0.6495029512270891\n",
      "MCC: 0.543646498207886\n",
      "Macro F1: 0.46324350985751916\n",
      "Macro Precision: 0.5506155839173659\n",
      "Macro Recall: 0.4393040689054415\n",
      "Micro F1: 0.6495029512270891\n",
      "Micro Precision: 0.6495029512270891\n",
      "Micro Recall: 0.6495029512270891\n",
      "\n",
      "VALIDATION RESULTS\n",
      "Loss: 0.009236421436071396\n",
      "Accuracy: 0.6280148423005566\n",
      "MCC: 0.5119325301434902\n",
      "Macro F1: 0.46924172472037873\n",
      "Macro Precision: 0.5479860253264784\n",
      "Macro Recall: 0.4631218482206504\n",
      "Micro F1: 0.6280148423005566\n",
      "Micro Precision: 0.6280148423005566\n",
      "Micro Recall: 0.6280148423005566\n",
      "--------------------------------------------------\n",
      "EPOCH N. 3\n"
     ]
    },
    {
     "name": "stderr",
     "output_type": "stream",
     "text": [
      "202it [00:40,  5.04it/s]\n"
     ]
    },
    {
     "name": "stdout",
     "output_type": "stream",
     "text": [
      "\n",
      "TRAIN RESULTS\n",
      "Loss: 0.007227107255252928\n",
      "Accuracy: 0.7032851817334576\n",
      "MCC: 0.6168063375527935\n",
      "Macro F1: 0.5500760520099024\n",
      "Macro Precision: 0.625381496531295\n",
      "Macro Recall: 0.5232153508190156\n",
      "Micro F1: 0.7032851817334576\n",
      "Micro Precision: 0.7032851817334576\n",
      "Micro Recall: 0.7032851817334576\n",
      "\n",
      "VALIDATION RESULTS\n",
      "Loss: 0.009387691505253315\n",
      "Accuracy: 0.6363636363636364\n",
      "MCC: 0.5220184457251822\n",
      "Macro F1: 0.4760176755892127\n",
      "Macro Precision: 0.5359947540387309\n",
      "Macro Recall: 0.4668288607152991\n",
      "Micro F1: 0.6363636363636364\n",
      "Micro Precision: 0.6363636363636364\n",
      "Micro Recall: 0.6363636363636364\n",
      "--------------------------------------------------\n",
      "EPOCH N. 4\n"
     ]
    },
    {
     "name": "stderr",
     "output_type": "stream",
     "text": [
      "202it [00:41,  4.92it/s]\n"
     ]
    },
    {
     "name": "stdout",
     "output_type": "stream",
     "text": [
      "\n",
      "TRAIN RESULTS\n",
      "Loss: 0.005981304317379487\n",
      "Accuracy: 0.7513591177384281\n",
      "MCC: 0.6807465493448023\n",
      "Macro F1: 0.6089402531833014\n",
      "Macro Precision: 0.6669238592958512\n",
      "Macro Recall: 0.5813045366288194\n",
      "Micro F1: 0.751359117738428\n",
      "Micro Precision: 0.7513591177384281\n",
      "Micro Recall: 0.7513591177384281\n",
      "\n",
      "VALIDATION RESULTS\n",
      "Loss: 0.009736004285514355\n",
      "Accuracy: 0.634817563388992\n",
      "MCC: 0.5213587441770939\n",
      "Macro F1: 0.4903115580773382\n",
      "Macro Precision: 0.536513126009345\n",
      "Macro Recall: 0.4861671887894868\n",
      "Micro F1: 0.634817563388992\n",
      "Micro Precision: 0.634817563388992\n",
      "Micro Recall: 0.634817563388992\n",
      "Early stopped training\n",
      "--------------------------------------------------\n"
     ]
    },
    {
     "data": {
      "text/html": [
       "Waiting for W&B process to finish... <strong style=\"color:green\">(success).</strong>"
      ],
      "text/plain": [
       "<IPython.core.display.HTML object>"
      ]
     },
     "metadata": {},
     "output_type": "display_data"
    },
    {
     "data": {
      "application/vnd.jupyter.widget-view+json": {
       "model_id": "4a9ca0d2d5994729a0f9b65239c4e704",
       "version_major": 2,
       "version_minor": 0
      },
      "text/plain": [
       "VBox(children=(Label(value='0.005 MB of 0.005 MB uploaded (0.000 MB deduped)\\r'), FloatProgress(value=1.0, max…"
      ]
     },
     "metadata": {},
     "output_type": "display_data"
    },
    {
     "data": {
      "text/html": [
       "<style>\n",
       "    table.wandb td:nth-child(1) { padding: 0 10px; text-align: left ; width: auto;} td:nth-child(2) {text-align: left ; width: 100%}\n",
       "    .wandb-row { display: flex; flex-direction: row; flex-wrap: wrap; justify-content: flex-start; width: 100% }\n",
       "    .wandb-col { display: flex; flex-direction: column; flex-basis: 100%; flex: 1; padding: 10px; }\n",
       "    </style>\n",
       "<div class=\"wandb-row\"><div class=\"wandb-col\"><h3>Run history:</h3><br/><table class=\"wandb\"><tr><td>Epoch</td><td>▁▃▆█</td></tr><tr><td>Train Loss</td><td>█▄▂▁</td></tr><tr><td>Validation Loss</td><td>█▁▂▄</td></tr></table><br/></div><div class=\"wandb-col\"><h3>Run summary:</h3><br/><table class=\"wandb\"><tr><td>Epoch</td><td>4</td></tr><tr><td>Train Loss</td><td>0.00598</td></tr><tr><td>Validation Loss</td><td>0.00974</td></tr></table><br/></div></div>"
      ],
      "text/plain": [
       "<IPython.core.display.HTML object>"
      ]
     },
     "metadata": {},
     "output_type": "display_data"
    },
    {
     "data": {
      "text/html": [
       " View run <strong style=\"color:#cdcd00\">LEGAL-BERT-Trial29</strong> at: <a href='https://wandb.ai/gmarinowandb-8601/RhetoricalRolesClassification-BUILD/runs/5cjrpekq' target=\"_blank\">https://wandb.ai/gmarinowandb-8601/RhetoricalRolesClassification-BUILD/runs/5cjrpekq</a><br/>Synced 5 W&B file(s), 0 media file(s), 0 artifact file(s) and 0 other file(s)"
      ],
      "text/plain": [
       "<IPython.core.display.HTML object>"
      ]
     },
     "metadata": {},
     "output_type": "display_data"
    },
    {
     "data": {
      "text/html": [
       "Find logs at: <code>./wandb/run-20230424_205334-5cjrpekq/logs</code>"
      ],
      "text/plain": [
       "<IPython.core.display.HTML object>"
      ]
     },
     "metadata": {},
     "output_type": "display_data"
    },
    {
     "name": "stderr",
     "output_type": "stream",
     "text": [
      "\u001b[32m[I 2023-04-24 20:56:55,775]\u001b[0m Trial 29 finished with value: 0.009236421436071396 and parameters: {'lr': 5.339107851658073e-05, 'weight_decay': 0.08384222665603834}. Best is trial 21 with value: 0.009085902944207191.\u001b[0m\n"
     ]
    },
    {
     "name": "stdout",
     "output_type": "stream",
     "text": [
      "\n",
      "************************ Starting New Optuna Trial ************************\n",
      "\n"
     ]
    },
    {
     "name": "stderr",
     "output_type": "stream",
     "text": [
      "Some weights of the model checkpoint at nlpaueb/legal-bert-base-uncased were not used when initializing BertForSequenceClassification: ['cls.predictions.bias', 'cls.predictions.transform.dense.bias', 'cls.predictions.transform.dense.weight', 'cls.seq_relationship.weight', 'cls.seq_relationship.bias', 'cls.predictions.transform.LayerNorm.weight', 'cls.predictions.decoder.bias', 'cls.predictions.transform.LayerNorm.bias', 'cls.predictions.decoder.weight']\n",
      "- This IS expected if you are initializing BertForSequenceClassification from the checkpoint of a model trained on another task or with another architecture (e.g. initializing a BertForSequenceClassification model from a BertForPreTraining model).\n",
      "- This IS NOT expected if you are initializing BertForSequenceClassification from the checkpoint of a model that you expect to be exactly identical (initializing a BertForSequenceClassification model from a BertForSequenceClassification model).\n",
      "Some weights of BertForSequenceClassification were not initialized from the model checkpoint at nlpaueb/legal-bert-base-uncased and are newly initialized: ['classifier.bias', 'classifier.weight']\n",
      "You should probably TRAIN this model on a down-stream task to be able to use it for predictions and inference.\n"
     ]
    },
    {
     "data": {
      "text/html": [
       "wandb version 0.15.0 is available!  To upgrade, please run:\n",
       " $ pip install wandb --upgrade"
      ],
      "text/plain": [
       "<IPython.core.display.HTML object>"
      ]
     },
     "metadata": {},
     "output_type": "display_data"
    },
    {
     "data": {
      "text/html": [
       "Tracking run with wandb version 0.13.10"
      ],
      "text/plain": [
       "<IPython.core.display.HTML object>"
      ]
     },
     "metadata": {},
     "output_type": "display_data"
    },
    {
     "data": {
      "text/html": [
       "Run data is saved locally in <code>/home/g.marino/Desktop/GA/RhetoricalRolesClassification/BUILD/wandb/run-20230424_205657-trwkh3cm</code>"
      ],
      "text/plain": [
       "<IPython.core.display.HTML object>"
      ]
     },
     "metadata": {},
     "output_type": "display_data"
    },
    {
     "data": {
      "text/html": [
       "Syncing run <strong><a href='https://wandb.ai/gmarinowandb-8601/RhetoricalRolesClassification-BUILD/runs/trwkh3cm' target=\"_blank\">LEGAL-BERT-Trial30</a></strong> to <a href='https://wandb.ai/gmarinowandb-8601/RhetoricalRolesClassification-BUILD' target=\"_blank\">Weights & Biases</a> (<a href='https://wandb.me/run' target=\"_blank\">docs</a>)<br/>"
      ],
      "text/plain": [
       "<IPython.core.display.HTML object>"
      ]
     },
     "metadata": {},
     "output_type": "display_data"
    },
    {
     "data": {
      "text/html": [
       " View project at <a href='https://wandb.ai/gmarinowandb-8601/RhetoricalRolesClassification-BUILD' target=\"_blank\">https://wandb.ai/gmarinowandb-8601/RhetoricalRolesClassification-BUILD</a>"
      ],
      "text/plain": [
       "<IPython.core.display.HTML object>"
      ]
     },
     "metadata": {},
     "output_type": "display_data"
    },
    {
     "data": {
      "text/html": [
       " View run at <a href='https://wandb.ai/gmarinowandb-8601/RhetoricalRolesClassification-BUILD/runs/trwkh3cm' target=\"_blank\">https://wandb.ai/gmarinowandb-8601/RhetoricalRolesClassification-BUILD/runs/trwkh3cm</a>"
      ],
      "text/plain": [
       "<IPython.core.display.HTML object>"
      ]
     },
     "metadata": {},
     "output_type": "display_data"
    },
    {
     "name": "stdout",
     "output_type": "stream",
     "text": [
      "\n",
      "************** Training Started **************\n",
      "\n",
      "EPOCH N. 1\n"
     ]
    },
    {
     "name": "stderr",
     "output_type": "stream",
     "text": [
      "202it [00:39,  5.06it/s]\n"
     ]
    },
    {
     "name": "stdout",
     "output_type": "stream",
     "text": [
      "\n",
      "TRAIN RESULTS\n",
      "Loss: 0.015725427030887466\n",
      "Accuracy: 0.3684374029201615\n",
      "MCC: 0.09849014332410135\n",
      "Macro F1: 0.0797538527042488\n",
      "Macro Precision: 0.11801716591848743\n",
      "Macro Recall: 0.09610669652891102\n",
      "Micro F1: 0.3684374029201616\n",
      "Micro Precision: 0.3684374029201615\n",
      "Micro Recall: 0.3684374029201615\n",
      "\n",
      "VALIDATION RESULTS\n",
      "Loss: 0.013930710032582283\n",
      "Accuracy: 0.46722325293753864\n",
      "MCC: 0.24136570371173943\n",
      "Macro F1: 0.11201255253594435\n",
      "Macro Precision: 0.14008468897179235\n",
      "Macro Recall: 0.1257622102810741\n",
      "Micro F1: 0.46722325293753864\n",
      "Micro Precision: 0.46722325293753864\n",
      "Micro Recall: 0.46722325293753864\n",
      "--------------------------------------------------\n"
     ]
    },
    {
     "data": {
      "text/html": [
       "Waiting for W&B process to finish... <strong style=\"color:red\">(failed 1).</strong> Press Control-C to abort syncing."
      ],
      "text/plain": [
       "<IPython.core.display.HTML object>"
      ]
     },
     "metadata": {},
     "output_type": "display_data"
    },
    {
     "data": {
      "application/vnd.jupyter.widget-view+json": {
       "model_id": "ee47510081514c41b703e01f33117246",
       "version_major": 2,
       "version_minor": 0
      },
      "text/plain": [
       "VBox(children=(Label(value='0.005 MB of 0.005 MB uploaded (0.000 MB deduped)\\r'), FloatProgress(value=1.0, max…"
      ]
     },
     "metadata": {},
     "output_type": "display_data"
    },
    {
     "data": {
      "text/html": [
       "<style>\n",
       "    table.wandb td:nth-child(1) { padding: 0 10px; text-align: left ; width: auto;} td:nth-child(2) {text-align: left ; width: 100%}\n",
       "    .wandb-row { display: flex; flex-direction: row; flex-wrap: wrap; justify-content: flex-start; width: 100% }\n",
       "    .wandb-col { display: flex; flex-direction: column; flex-basis: 100%; flex: 1; padding: 10px; }\n",
       "    </style>\n",
       "<div class=\"wandb-row\"><div class=\"wandb-col\"><h3>Run history:</h3><br/><table class=\"wandb\"><tr><td>Epoch</td><td>▁</td></tr><tr><td>Train Loss</td><td>▁</td></tr><tr><td>Validation Loss</td><td>▁</td></tr></table><br/></div><div class=\"wandb-col\"><h3>Run summary:</h3><br/><table class=\"wandb\"><tr><td>Epoch</td><td>1</td></tr><tr><td>Train Loss</td><td>0.01573</td></tr><tr><td>Validation Loss</td><td>0.01393</td></tr></table><br/></div></div>"
      ],
      "text/plain": [
       "<IPython.core.display.HTML object>"
      ]
     },
     "metadata": {},
     "output_type": "display_data"
    },
    {
     "data": {
      "text/html": [
       " View run <strong style=\"color:#cdcd00\">LEGAL-BERT-Trial30</strong> at: <a href='https://wandb.ai/gmarinowandb-8601/RhetoricalRolesClassification-BUILD/runs/trwkh3cm' target=\"_blank\">https://wandb.ai/gmarinowandb-8601/RhetoricalRolesClassification-BUILD/runs/trwkh3cm</a><br/>Synced 5 W&B file(s), 0 media file(s), 0 artifact file(s) and 0 other file(s)"
      ],
      "text/plain": [
       "<IPython.core.display.HTML object>"
      ]
     },
     "metadata": {},
     "output_type": "display_data"
    },
    {
     "data": {
      "text/html": [
       "Find logs at: <code>./wandb/run-20230424_205657-trwkh3cm/logs</code>"
      ],
      "text/plain": [
       "<IPython.core.display.HTML object>"
      ]
     },
     "metadata": {},
     "output_type": "display_data"
    },
    {
     "name": "stderr",
     "output_type": "stream",
     "text": [
      "\u001b[32m[I 2023-04-24 20:58:00,429]\u001b[0m Trial 30 pruned. \u001b[0m\n"
     ]
    },
    {
     "name": "stdout",
     "output_type": "stream",
     "text": [
      "\n",
      "************************ Starting New Optuna Trial ************************\n",
      "\n"
     ]
    },
    {
     "name": "stderr",
     "output_type": "stream",
     "text": [
      "Some weights of the model checkpoint at nlpaueb/legal-bert-base-uncased were not used when initializing BertForSequenceClassification: ['cls.predictions.bias', 'cls.predictions.transform.dense.bias', 'cls.predictions.transform.dense.weight', 'cls.seq_relationship.weight', 'cls.seq_relationship.bias', 'cls.predictions.transform.LayerNorm.weight', 'cls.predictions.decoder.bias', 'cls.predictions.transform.LayerNorm.bias', 'cls.predictions.decoder.weight']\n",
      "- This IS expected if you are initializing BertForSequenceClassification from the checkpoint of a model trained on another task or with another architecture (e.g. initializing a BertForSequenceClassification model from a BertForPreTraining model).\n",
      "- This IS NOT expected if you are initializing BertForSequenceClassification from the checkpoint of a model that you expect to be exactly identical (initializing a BertForSequenceClassification model from a BertForSequenceClassification model).\n",
      "Some weights of BertForSequenceClassification were not initialized from the model checkpoint at nlpaueb/legal-bert-base-uncased and are newly initialized: ['classifier.bias', 'classifier.weight']\n",
      "You should probably TRAIN this model on a down-stream task to be able to use it for predictions and inference.\n"
     ]
    },
    {
     "data": {
      "text/html": [
       "wandb version 0.15.0 is available!  To upgrade, please run:\n",
       " $ pip install wandb --upgrade"
      ],
      "text/plain": [
       "<IPython.core.display.HTML object>"
      ]
     },
     "metadata": {},
     "output_type": "display_data"
    },
    {
     "data": {
      "text/html": [
       "Tracking run with wandb version 0.13.10"
      ],
      "text/plain": [
       "<IPython.core.display.HTML object>"
      ]
     },
     "metadata": {},
     "output_type": "display_data"
    },
    {
     "data": {
      "text/html": [
       "Run data is saved locally in <code>/home/g.marino/Desktop/GA/RhetoricalRolesClassification/BUILD/wandb/run-20230424_205802-j3un7kpn</code>"
      ],
      "text/plain": [
       "<IPython.core.display.HTML object>"
      ]
     },
     "metadata": {},
     "output_type": "display_data"
    },
    {
     "data": {
      "text/html": [
       "Syncing run <strong><a href='https://wandb.ai/gmarinowandb-8601/RhetoricalRolesClassification-BUILD/runs/j3un7kpn' target=\"_blank\">LEGAL-BERT-Trial31</a></strong> to <a href='https://wandb.ai/gmarinowandb-8601/RhetoricalRolesClassification-BUILD' target=\"_blank\">Weights & Biases</a> (<a href='https://wandb.me/run' target=\"_blank\">docs</a>)<br/>"
      ],
      "text/plain": [
       "<IPython.core.display.HTML object>"
      ]
     },
     "metadata": {},
     "output_type": "display_data"
    },
    {
     "data": {
      "text/html": [
       " View project at <a href='https://wandb.ai/gmarinowandb-8601/RhetoricalRolesClassification-BUILD' target=\"_blank\">https://wandb.ai/gmarinowandb-8601/RhetoricalRolesClassification-BUILD</a>"
      ],
      "text/plain": [
       "<IPython.core.display.HTML object>"
      ]
     },
     "metadata": {},
     "output_type": "display_data"
    },
    {
     "data": {
      "text/html": [
       " View run at <a href='https://wandb.ai/gmarinowandb-8601/RhetoricalRolesClassification-BUILD/runs/j3un7kpn' target=\"_blank\">https://wandb.ai/gmarinowandb-8601/RhetoricalRolesClassification-BUILD/runs/j3un7kpn</a>"
      ],
      "text/plain": [
       "<IPython.core.display.HTML object>"
      ]
     },
     "metadata": {},
     "output_type": "display_data"
    },
    {
     "name": "stdout",
     "output_type": "stream",
     "text": [
      "\n",
      "************** Training Started **************\n",
      "\n",
      "EPOCH N. 1\n"
     ]
    },
    {
     "name": "stderr",
     "output_type": "stream",
     "text": [
      "202it [00:41,  4.90it/s]\n"
     ]
    },
    {
     "name": "stdout",
     "output_type": "stream",
     "text": [
      "\n",
      "TRAIN RESULTS\n",
      "Loss: 0.012798253369279514\n",
      "Accuracy: 0.48384591488039763\n",
      "MCC: 0.2976940023131755\n",
      "Macro F1: 0.18589792386117876\n",
      "Macro Precision: 0.28425483669558704\n",
      "Macro Recall: 0.17980771769640527\n",
      "Micro F1: 0.48384591488039763\n",
      "Micro Precision: 0.48384591488039763\n",
      "Micro Recall: 0.48384591488039763\n",
      "\n",
      "VALIDATION RESULTS\n",
      "Loss: 0.010532657615840435\n",
      "Accuracy: 0.6045145330859617\n",
      "MCC: 0.47021147556849496\n",
      "Macro F1: 0.36753412230133825\n",
      "Macro Precision: 0.4550011277741406\n",
      "Macro Recall: 0.34850369545127663\n",
      "Micro F1: 0.6045145330859617\n",
      "Micro Precision: 0.6045145330859617\n",
      "Micro Recall: 0.6045145330859617\n",
      "--------------------------------------------------\n",
      "EPOCH N. 2\n"
     ]
    },
    {
     "name": "stderr",
     "output_type": "stream",
     "text": [
      "202it [00:39,  5.11it/s]\n"
     ]
    },
    {
     "name": "stdout",
     "output_type": "stream",
     "text": [
      "\n",
      "TRAIN RESULTS\n",
      "Loss: 0.008542969422464084\n",
      "Accuracy: 0.6542404473438956\n",
      "MCC: 0.5501738793659159\n",
      "Macro F1: 0.46843683970798183\n",
      "Macro Precision: 0.5701124688464616\n",
      "Macro Recall: 0.44723064362652093\n",
      "Micro F1: 0.6542404473438956\n",
      "Micro Precision: 0.6542404473438956\n",
      "Micro Recall: 0.6542404473438956\n",
      "\n",
      "VALIDATION RESULTS\n",
      "Loss: 0.009431849233806133\n",
      "Accuracy: 0.62430426716141\n",
      "MCC: 0.5120017386948521\n",
      "Macro F1: 0.46722489736319817\n",
      "Macro Precision: 0.48034119376225115\n",
      "Macro Recall: 0.4792693343254497\n",
      "Micro F1: 0.62430426716141\n",
      "Micro Precision: 0.62430426716141\n",
      "Micro Recall: 0.62430426716141\n",
      "--------------------------------------------------\n",
      "EPOCH N. 3\n"
     ]
    },
    {
     "name": "stderr",
     "output_type": "stream",
     "text": [
      "202it [00:39,  5.07it/s]\n"
     ]
    },
    {
     "name": "stdout",
     "output_type": "stream",
     "text": [
      "\n",
      "TRAIN RESULTS\n",
      "Loss: 0.006921343308644622\n",
      "Accuracy: 0.7118670394532464\n",
      "MCC: 0.6285949883687941\n",
      "Macro F1: 0.5502889669424705\n",
      "Macro Precision: 0.6178632165196069\n",
      "Macro Recall: 0.5284038274170841\n",
      "Micro F1: 0.7118670394532464\n",
      "Micro Precision: 0.7118670394532464\n",
      "Micro Recall: 0.7118670394532464\n",
      "\n",
      "VALIDATION RESULTS\n",
      "Loss: 0.009515884332358837\n",
      "Accuracy: 0.6168831168831169\n",
      "MCC: 0.4965276111612314\n",
      "Macro F1: 0.44737893793442357\n",
      "Macro Precision: 0.46964722946420034\n",
      "Macro Recall: 0.4503918207148366\n",
      "Micro F1: 0.6168831168831169\n",
      "Micro Precision: 0.6168831168831169\n",
      "Micro Recall: 0.6168831168831169\n",
      "--------------------------------------------------\n",
      "EPOCH N. 4\n"
     ]
    },
    {
     "name": "stderr",
     "output_type": "stream",
     "text": [
      "202it [00:39,  5.13it/s]\n"
     ]
    },
    {
     "name": "stdout",
     "output_type": "stream",
     "text": [
      "\n",
      "TRAIN RESULTS\n",
      "Loss: 0.005481286764228222\n",
      "Accuracy: 0.7725225225225225\n",
      "MCC: 0.708729058903\n",
      "Macro F1: 0.6248013094566371\n",
      "Macro Precision: 0.6839922540717802\n",
      "Macro Recall: 0.6037134682150466\n",
      "Micro F1: 0.7725225225225225\n",
      "Micro Precision: 0.7725225225225225\n",
      "Micro Recall: 0.7725225225225225\n",
      "\n",
      "VALIDATION RESULTS\n",
      "Loss: 0.010216117836534977\n",
      "Accuracy: 0.6023500309214594\n",
      "MCC: 0.49071781005649423\n",
      "Macro F1: 0.4693504447457361\n",
      "Macro Precision: 0.5157809057052473\n",
      "Macro Recall: 0.46937449290942984\n",
      "Micro F1: 0.6023500309214594\n",
      "Micro Precision: 0.6023500309214594\n",
      "Micro Recall: 0.6023500309214594\n",
      "Early stopped training\n",
      "--------------------------------------------------\n"
     ]
    },
    {
     "data": {
      "text/html": [
       "Waiting for W&B process to finish... <strong style=\"color:green\">(success).</strong>"
      ],
      "text/plain": [
       "<IPython.core.display.HTML object>"
      ]
     },
     "metadata": {},
     "output_type": "display_data"
    },
    {
     "data": {
      "text/html": [
       "<style>\n",
       "    table.wandb td:nth-child(1) { padding: 0 10px; text-align: left ; width: auto;} td:nth-child(2) {text-align: left ; width: 100%}\n",
       "    .wandb-row { display: flex; flex-direction: row; flex-wrap: wrap; justify-content: flex-start; width: 100% }\n",
       "    .wandb-col { display: flex; flex-direction: column; flex-basis: 100%; flex: 1; padding: 10px; }\n",
       "    </style>\n",
       "<div class=\"wandb-row\"><div class=\"wandb-col\"><h3>Run history:</h3><br/><table class=\"wandb\"><tr><td>Epoch</td><td>▁▃▆█</td></tr><tr><td>Train Loss</td><td>█▄▂▁</td></tr><tr><td>Validation Loss</td><td>█▁▂▆</td></tr></table><br/></div><div class=\"wandb-col\"><h3>Run summary:</h3><br/><table class=\"wandb\"><tr><td>Epoch</td><td>4</td></tr><tr><td>Train Loss</td><td>0.00548</td></tr><tr><td>Validation Loss</td><td>0.01022</td></tr></table><br/></div></div>"
      ],
      "text/plain": [
       "<IPython.core.display.HTML object>"
      ]
     },
     "metadata": {},
     "output_type": "display_data"
    },
    {
     "data": {
      "text/html": [
       " View run <strong style=\"color:#cdcd00\">LEGAL-BERT-Trial31</strong> at: <a href='https://wandb.ai/gmarinowandb-8601/RhetoricalRolesClassification-BUILD/runs/j3un7kpn' target=\"_blank\">https://wandb.ai/gmarinowandb-8601/RhetoricalRolesClassification-BUILD/runs/j3un7kpn</a><br/>Synced 5 W&B file(s), 0 media file(s), 0 artifact file(s) and 0 other file(s)"
      ],
      "text/plain": [
       "<IPython.core.display.HTML object>"
      ]
     },
     "metadata": {},
     "output_type": "display_data"
    },
    {
     "data": {
      "text/html": [
       "Find logs at: <code>./wandb/run-20230424_205802-j3un7kpn/logs</code>"
      ],
      "text/plain": [
       "<IPython.core.display.HTML object>"
      ]
     },
     "metadata": {},
     "output_type": "display_data"
    },
    {
     "name": "stderr",
     "output_type": "stream",
     "text": [
      "\u001b[32m[I 2023-04-24 21:01:15,408]\u001b[0m Trial 31 finished with value: 0.009431849233806133 and parameters: {'lr': 7.081706652791128e-05, 'weight_decay': 0.0842142337328992}. Best is trial 21 with value: 0.009085902944207191.\u001b[0m\n"
     ]
    }
   ],
   "source": [
    "study.optimize(objective, n_trials=32)"
   ]
  },
  {
   "cell_type": "code",
   "execution_count": 5,
   "metadata": {},
   "outputs": [
    {
     "name": "stdout",
     "output_type": "stream",
     "text": [
      "\n",
      "************************ Optuna Study Completed ************************\n",
      "\n",
      "Best trial: 21\n",
      "Value: 0.009085902944207191\n",
      "Params:\n",
      "\tlr: 7.0278184323248e-05\n",
      "\tweight_decay: 0.09155211601590829\n"
     ]
    }
   ],
   "source": [
    "print(\"\\n************************ Optuna Study Completed ************************\\n\")\n",
    "best_trial = study.best_trial\n",
    "print(\"Best trial:\", best_trial.number)\n",
    "print(\"Value:\", best_trial.value)\n",
    "print(\"Params:\")\n",
    "for key, value in best_trial.params.items():\n",
    "    print(f\"\\t{key}: {value}\")"
   ]
  },
  {
   "cell_type": "markdown",
   "metadata": {},
   "source": [
    "## Test"
   ]
  },
  {
   "cell_type": "code",
   "execution_count": 6,
   "metadata": {},
   "outputs": [
    {
     "name": "stderr",
     "output_type": "stream",
     "text": [
      "Some weights of the model checkpoint at nlpaueb/legal-bert-base-uncased were not used when initializing BertForSequenceClassification: ['cls.predictions.decoder.bias', 'cls.predictions.transform.LayerNorm.weight', 'cls.predictions.decoder.weight', 'cls.predictions.bias', 'cls.predictions.transform.dense.weight', 'cls.seq_relationship.weight', 'cls.predictions.transform.LayerNorm.bias', 'cls.seq_relationship.bias', 'cls.predictions.transform.dense.bias']\n",
      "- This IS expected if you are initializing BertForSequenceClassification from the checkpoint of a model trained on another task or with another architecture (e.g. initializing a BertForSequenceClassification model from a BertForPreTraining model).\n",
      "- This IS NOT expected if you are initializing BertForSequenceClassification from the checkpoint of a model that you expect to be exactly identical (initializing a BertForSequenceClassification model from a BertForSequenceClassification model).\n",
      "Some weights of BertForSequenceClassification were not initialized from the model checkpoint at nlpaueb/legal-bert-base-uncased and are newly initialized: ['classifier.weight', 'classifier.bias']\n",
      "You should probably TRAIN this model on a down-stream task to be able to use it for predictions and inference.\n"
     ]
    },
    {
     "data": {
      "text/plain": [
       "<All keys matched successfully>"
      ]
     },
     "execution_count": 6,
     "metadata": {},
     "output_type": "execute_result"
    }
   ],
   "source": [
    "best_trial = study.best_trial\n",
    "best_params = best_trial.params\n",
    "\n",
    "model = transformers.AutoModelForSequenceClassification.from_pretrained(\n",
    "    HUGGING_FACE_BERT_MODEL,\n",
    "    num_labels=NUM_LABELS,\n",
    ")\n",
    "model_id = f\"{MODEL_NAME}-Trial{best_trial.number}\"\n",
    "model.load_state_dict(torch.load(os.path.join(MODELS_FOLDER, model_id)))"
   ]
  },
  {
   "cell_type": "code",
   "execution_count": 7,
   "metadata": {},
   "outputs": [
    {
     "name": "stderr",
     "output_type": "stream",
     "text": [
      "100%|██████████| 23/23 [00:03<00:00,  7.07it/s]\n"
     ]
    },
    {
     "name": "stdout",
     "output_type": "stream",
     "text": [
      "Overall\n",
      "\tAccuracy: 0.6561306009030914\n",
      "\tMCC: 0.5594308542642985\n",
      "\tMacro F1: 0.4723346093512131\n",
      "\tMacro Precision: 0.5321535407608603\n",
      "\tMacro Recall: 0.45666527835444104\n",
      "\tMicro F1: 0.6561306009030914\n",
      "\tMicro Precision: 0.6561306009030914\n",
      "\tMicro Recall: 0.6561306009030914\n",
      "Rhetorical role: PREAMBLE\n",
      "\tMacro F1: 0.8368535342545244\n",
      "\tMacro Precision: 0.874517200031333\n",
      "\tMacro Recall: 0.8096196827146922\n",
      "Rhetorical role: FAC\n",
      "\tMacro F1: 0.7893681195430859\n",
      "\tMacro Precision: 0.7712810714837115\n",
      "\tMacro Recall: 0.8162551934124282\n",
      "Rhetorical role: RLC\n",
      "\tMacro F1: 0.6334970322033109\n",
      "\tMacro Precision: 0.7031749288174369\n",
      "\tMacro Recall: 0.6019678135959164\n",
      "Rhetorical role: ISSUE\n",
      "\tMacro F1: 0.8895394343068495\n",
      "\tMacro Precision: 0.9261040334357218\n",
      "\tMacro Recall: 0.8589395546129375\n",
      "Rhetorical role: ARG_PETITIONER\n",
      "\tMacro F1: 0.6460517504760709\n",
      "\tMacro Precision: 0.6503813463465081\n",
      "\tMacro Recall: 0.6419900320398718\n",
      "Rhetorical role: ARG_RESPONDENT\n",
      "\tMacro F1: 0.49667832167832165\n",
      "\tMacro Precision: 0.4934004862799583\n",
      "\tMacro Recall: 0.5\n",
      "Rhetorical role: ANALYSIS\n",
      "\tMacro F1: 0.7443006876497644\n",
      "\tMacro Precision: 0.7400213832782567\n",
      "\tMacro Recall: 0.7611324731321192\n",
      "Rhetorical role: STA\n",
      "\tMacro F1: 0.8016422809039434\n",
      "\tMacro Precision: 0.8016422809039434\n",
      "\tMacro Recall: 0.8016422809039434\n",
      "Rhetorical role: PRE_RELIED\n",
      "\tMacro F1: 0.6973016416112454\n",
      "\tMacro Precision: 0.8322632139056403\n",
      "\tMacro Recall: 0.6445990521131907\n",
      "Rhetorical role: PRE_NOT_RELIED\n",
      "\tMacro F1: 0.49895579533588585\n",
      "\tMacro Precision: 0.4979159430357763\n",
      "\tMacro Recall: 0.5\n",
      "Rhetorical role: RATIO\n",
      "\tMacro F1: 0.5199799922191963\n",
      "\tMacro Precision: 0.6548323471400395\n",
      "\tMacro Recall: 0.5135737171337029\n",
      "Rhetorical role: RPC\n",
      "\tMacro F1: 0.8976280842017008\n",
      "\tMacro Precision: 0.8786683203957545\n",
      "\tMacro Recall: 0.9187727623882573\n",
      "Rhetorical role: NONE\n",
      "\tMacro F1: 0.8922122060493616\n",
      "\tMacro Precision: 0.9188645477597822\n",
      "\tMacro Recall: 0.8692215850149733\n"
     ]
    }
   ],
   "source": [
    "test_BERT(\n",
    "    model=model,\n",
    "    test_dataset=test_dataset,\n",
    "    label2rhetRole=label2rhetRole,\n",
    "    device=DEVICE\n",
    ")"
   ]
  },
  {
   "cell_type": "code",
   "execution_count": null,
   "metadata": {},
   "outputs": [],
   "source": []
  }
 ],
 "metadata": {
  "kernelspec": {
   "display_name": "Python 3 (ipykernel)",
   "language": "python",
   "name": "python3"
  },
  "language_info": {
   "codemirror_mode": {
    "name": "ipython",
    "version": 3
   },
   "file_extension": ".py",
   "mimetype": "text/x-python",
   "name": "python",
   "nbconvert_exporter": "python",
   "pygments_lexer": "ipython3",
   "version": "3.10.7"
  }
 },
 "nbformat": 4,
 "nbformat_minor": 4
}
